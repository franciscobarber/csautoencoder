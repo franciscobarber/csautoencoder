{
  "cells": [
    {
      "cell_type": "code",
      "execution_count": null,
      "metadata": {},
      "outputs": [],
      "source": [
        "#requirements\n",
        "!pip install pydub\n",
        "!pip install \"torch>=2.0,<3.0\" #2.0.1\n",
        "!pip install pesq\n",
        "!pip install \"torchmetrics>=1.0,<2.0\" #1.0.2\n",
        "!pip install git+https://github.com/yoyololicon/spectrogram-inversion\n",
        "!pip install \"keras==2.15.0\"\n",
        "!pip install \"tensorflow==2.15.0\"\n",
        "!pip install numpy==1.24"
      ]
    },
    {
      "cell_type": "code",
      "execution_count": null,
      "metadata": {
        "colab": {
          "base_uri": "https://localhost:8080/"
        },
        "id": "csRrMJnANasj",
        "outputId": "2be9955b-9746-418c-e171-3c0d6bd8abab",
        "vscode": {
          "languageId": "python"
        }
      },
      "outputs": [
        {
          "name": "stdout",
          "output_type": "stream",
          "text": [
            "Cloning into 'free-spoken-digit-dataset'...\n",
            "warning: --local is ignored\n",
            "remote: Enumerating objects: 4237, done.\u001b[K\n",
            "remote: Counting objects: 100% (4237/4237), done.\u001b[K\n",
            "remote: Compressing objects: 100% (4111/4111), done.\u001b[K\n",
            "remote: Total 4237 (delta 123), reused 4237 (delta 123), pack-reused 0 (from 0)\u001b[K\n",
            "Receiving objects: 100% (4237/4237), 30.34 MiB | 9.76 MiB/s, done.\n",
            "Resolving deltas: 100% (123/123), done.\n",
            "Updating files: 100% (3013/3013), done.\n"
          ]
        }
      ],
      "source": [
        "!git clone -l -s https://franciscobarber@github.com/franciscobarber/free-spoken-digit-dataset.git"
      ]
    },
    {
      "cell_type": "markdown",
      "metadata": {},
      "source": [
        "This snippets downloads the free audio digit dataset"
      ]
    },
    {
      "cell_type": "code",
      "execution_count": null,
      "metadata": {
        "id": "pfiM66v-znQQ",
        "vscode": {
          "languageId": "python"
        }
      },
      "outputs": [],
      "source": [
        "from os import listdir\n",
        "import scipy.io.wavfile as wav\n",
        "from os.path import isfile, join\n",
        "audio_dir='/content/free-spoken-digit-dataset/recordings/'\n",
        "file_names = [f for f in listdir(audio_dir) if isfile(join(audio_dir, f)) and '.wav' in f]\n",
        "other_audios = []\n",
        "dataset =[]\n",
        "for file_name in file_names:\n",
        "\n",
        "  audio_path = audio_dir + file_name\n",
        "  sample_rate, samples = wav.read(audio_path)\n",
        "  dataset.append(samples)"
      ]
    },
    {
      "cell_type": "markdown",
      "metadata": {},
      "source": [
        "The blockcode above generates from the audio files a python list of arrays with the audio samples"
      ]
    },
    {
      "cell_type": "markdown",
      "metadata": {},
      "source": [
        "the code below downloads another dataset in spanish for genearlization testing"
      ]
    },
    {
      "cell_type": "code",
      "execution_count": null,
      "metadata": {
        "colab": {
          "base_uri": "https://localhost:8080/"
        },
        "id": "o_AqLNuGp0fF",
        "outputId": "6ca54d92-7e60-4cd5-9d68-c39a77480f87",
        "vscode": {
          "languageId": "python"
        }
      },
      "outputs": [
        {
          "name": "stdout",
          "output_type": "stream",
          "text": [
            "Warning: Looks like you're using an outdated `kagglehub` version (installed: 0.3.6), please consider upgrading to the latest version (0.3.7).\n",
            "Path to dataset files: /root/.cache/kagglehub/datasets/bryanpark/spanish-single-speaker-speech-dataset/versions/1\n"
          ]
        }
      ],
      "source": [
        "import kagglehub\n",
        "\n",
        "# Download latest version\n",
        "path = kagglehub.dataset_download(\"bryanpark/spanish-single-speaker-speech-dataset\")\n",
        "\n",
        "print(\"Path to dataset files:\", path)"
      ]
    },
    {
      "cell_type": "markdown",
      "metadata": {},
      "source": [
        "And this code below processes it"
      ]
    },
    {
      "cell_type": "code",
      "execution_count": null,
      "metadata": {
        "colab": {
          "base_uri": "https://localhost:8080/"
        },
        "id": "zG5FdvH9sAyS",
        "outputId": "9b75b190-eea4-4239-dbfd-67b8dfe4d08c",
        "vscode": {
          "languageId": "python"
        }
      },
      "outputs": [
        {
          "name": "stdout",
          "output_type": "stream",
          "text": [
            "Loaded 1000 audio files.\n"
          ]
        }
      ],
      "source": [
        "# prompt: load the first 1000 wav files from the first folder in the path, use librosa to get the samples and create a list\n",
        "\n",
        "import os\n",
        "import scipy.io.wavfile as wav\n",
        "\n",
        "# Assuming german_data_path is defined as in the previous code\n",
        "\n",
        "\n",
        "audio_data = []\n",
        "count = 0\n",
        "\n",
        "for root, _, files in os.walk(path):\n",
        "    for file in files:\n",
        "        if file.endswith(\".wav\") and count < 1000:\n",
        "            file_path = os.path.join(root, file)\n",
        "            try:\n",
        "                _, y = wav.read(file_path)\n",
        "                audio_data.append(y)\n",
        "                count += 1\n",
        "            except Exception as e:\n",
        "                print(f\"Error loading {file_path}: {e}\")\n",
        "                continue\n",
        "    if count >= 1000:\n",
        "        break\n",
        "\n",
        "print(f\"Loaded {len(audio_data)} audio files.\")"
      ]
    },
    {
      "cell_type": "markdown",
      "metadata": {},
      "source": [
        "The code below  downloads the ljspeech dataset"
      ]
    },
    {
      "cell_type": "code",
      "execution_count": null,
      "metadata": {
        "colab": {
          "base_uri": "https://localhost:8080/",
          "height": 237,
          "referenced_widgets": [
            "74eb86a7639740e3805ce2a0bfb24ad9",
            "69800cef121647d2bd8566eda79d83bd",
            "c65394a7d20b4e47bb35b5783186c7ef",
            "348cb49b00384bf5b17382ef5736df18",
            "dc93baf6aafd45f3b4ada329aa159ac6",
            "b2a7c17d35e24be7b5a9cb51384b3a06",
            "5fc806d540f4435599c44e61854d745b",
            "73292352fd2c4beca779bcc55bff72f7",
            "df97fc2ab376466ba4875a39500fddf6",
            "f7d44d882aaf48a3acaa0843343cf115",
            "a6180e1815ba435f9bdab4f83ef5815d",
            "13daf2ac531b4ded8fb665160709ad92",
            "7869f17201594bd3b1dc1c8f481c9945",
            "85fc933dba2d491b93772f359cbc2b51",
            "6516615832be4c0a8bf54a4fb4102123",
            "01c71927fe4d4d5cad87f816912ea0ef",
            "fb89d98b24814171a2c2de80654cbff7",
            "3ee32af1da6547c9ab18135049310eb1",
            "6560f733d57c49fa9db369dbf95a6601",
            "fd5891e646e748ab8e1bba3b772d0611",
            "db009fbe12e847aa9b7a90b373624bbd",
            "a297b46374fe4db4b70c06a3433b4f7d",
            "581b88f448804510b421fc578f07e88e",
            "887f8ae9c0c0483d9fda1fdfad45ddb1",
            "7a21c01664594a1eb8402d6bb9d7a5c5",
            "87db1fafa3df4825a82545b115e61043",
            "aa2712811da548238cde8b118983913e",
            "0661272ceee24025b3a2453ad345d066",
            "28fed0533e4c460095be7b2f437df62c",
            "31501f4d32c3431eb92e775567cab4c3",
            "7d1b43c73eb544dd9d39cbdbd755b31e",
            "e06a4128b6574affa9ddae121fe02ebf",
            "f49109aedc0d4c47be55d6a9b8ff46ec",
            "45bf4da7b9764124835b09cdc2a21462",
            "ad75619badad417c932f0f05e4e4110e",
            "aa76fdd95eb04d2d94a141588b7aedcf",
            "242daa28b6504d2287e0ba9ff27714c8",
            "13e664e3ecd54a5b9763f72fffaffeec",
            "6858a17db3c84fdb84718709b898b0fc",
            "d562028e41d74f58aa4a58ce17d4187a",
            "2dd57a53c74d4946b245497276bcb7f5",
            "124fb81643f8459e9a98f9cb918b19ae",
            "4a68a8e858eb49cc9ea04ef52e0d4cf3",
            "bdf0768740dd44f6beda6f27af17eb63",
            "cdee5088a62d403d97e6401220fb1f69",
            "e020f6cec92a47558de0b7460d5e7c7a",
            "4173894121834091a46c09db90046d63",
            "3d20140d20ad4cb0931e4bfc1fc0cc21",
            "e4331ffeba8b48a39b4a0dae94818a25",
            "2b981c2a6c854ed5b4fc7adf43018455",
            "7306efd24c7543e4abcd611d8a721a3b",
            "102158a1926448c98318b8acb4ab9356",
            "efb2987cbeb84145bbe3851310fb579f",
            "7c0d2372a4ec498099a5eccb74ac42f0",
            "e644f973dcd44a8da462871b0ab4ed19",
            "8e8c333e0099419b9f8888ab39f74367",
            "c3f4c1e139ae4f3980dc9e5285d5a37a",
            "a3ac9594d9c447d39090499ee6c64dad",
            "a03a5dcd4ef04a0b9aec4dc59bc8fd03",
            "3e50d2c4527c419cb92d3ad9bf1b8a46",
            "c2a56f7fbcbc4c918127ce19f5dde71b",
            "3424127bc92e45f89969d8fe59295f58",
            "5c8dbddc8e5749db84234821efba3f55",
            "b59fceac47014ca4ab423846ae6a1bcc",
            "caaa03653f0f4a52a4fe6e850b9e5bb9",
            "3a39e0353ed44fc295266ed14a0c711f"
          ]
        },
        "id": "PXpCcFvSo5DA",
        "outputId": "e1c2e047-6d3e-4972-eab6-6e5e0e92a871",
        "vscode": {
          "languageId": "python"
        }
      },
      "outputs": [
        {
          "name": "stdout",
          "output_type": "stream",
          "text": [
            "Downloading and preparing dataset 2.56 GiB (download: 2.56 GiB, generated: 10.73 GiB, total: 13.29 GiB) to /root/tensorflow_datasets/ljspeech/1.1.1...\n"
          ]
        },
        {
          "data": {
            "application/vnd.jupyter.widget-view+json": {
              "model_id": "74eb86a7639740e3805ce2a0bfb24ad9",
              "version_major": 2,
              "version_minor": 0
            },
            "text/plain": [
              "Dl Completed...: 0 url [00:00, ? url/s]"
            ]
          },
          "metadata": {},
          "output_type": "display_data"
        },
        {
          "data": {
            "application/vnd.jupyter.widget-view+json": {
              "model_id": "13daf2ac531b4ded8fb665160709ad92",
              "version_major": 2,
              "version_minor": 0
            },
            "text/plain": [
              "Dl Size...: 0 MiB [00:00, ? MiB/s]"
            ]
          },
          "metadata": {},
          "output_type": "display_data"
        },
        {
          "data": {
            "application/vnd.jupyter.widget-view+json": {
              "model_id": "581b88f448804510b421fc578f07e88e",
              "version_major": 2,
              "version_minor": 0
            },
            "text/plain": [
              "Extraction completed...: 0 file [00:00, ? file/s]"
            ]
          },
          "metadata": {},
          "output_type": "display_data"
        },
        {
          "data": {
            "application/vnd.jupyter.widget-view+json": {
              "model_id": "45bf4da7b9764124835b09cdc2a21462",
              "version_major": 2,
              "version_minor": 0
            },
            "text/plain": [
              "Generating splits...:   0%|          | 0/1 [00:00<?, ? splits/s]"
            ]
          },
          "metadata": {},
          "output_type": "display_data"
        },
        {
          "data": {
            "application/vnd.jupyter.widget-view+json": {
              "model_id": "cdee5088a62d403d97e6401220fb1f69",
              "version_major": 2,
              "version_minor": 0
            },
            "text/plain": [
              "Generating train examples...:   0%|          | 0/13100 [00:00<?, ? examples/s]"
            ]
          },
          "metadata": {},
          "output_type": "display_data"
        },
        {
          "data": {
            "application/vnd.jupyter.widget-view+json": {
              "model_id": "8e8c333e0099419b9f8888ab39f74367",
              "version_major": 2,
              "version_minor": 0
            },
            "text/plain": [
              "Shuffling /root/tensorflow_datasets/ljspeech/1.1.1.incompleteZA2ODR/ljspeech-train.tfrecord*...:   0%|        …"
            ]
          },
          "metadata": {},
          "output_type": "display_data"
        },
        {
          "name": "stderr",
          "output_type": "stream",
          "text": [
            "WARNING:absl:`FeatureConnector.dtype` is deprecated. Please change your code to use NumPy with the field `FeatureConnector.np_dtype` or use TensorFlow with the field `FeatureConnector.tf_dtype`.\n",
            "WARNING:absl:You use TensorFlow DType <dtype: 'int16'> in tfds.features This will soon be deprecated in favor of NumPy DTypes. In the meantime it was converted to int16.\n"
          ]
        },
        {
          "name": "stdout",
          "output_type": "stream",
          "text": [
            "Dataset ljspeech downloaded and prepared to /root/tensorflow_datasets/ljspeech/1.1.1. Subsequent calls will reuse this data.\n",
            "1\n",
            "[array([289, 364, 155, ...,   5,  -6,  -8], dtype=int16), array([ 5,  0,  2, ..., 28, 29, 27], dtype=int16), array([-23, -25, -28, ...,  27,  23,  22], dtype=int16), array([-46, -45, -37, ...,  -7, -14, -14], dtype=int16), array([  4,   6,   8, ..., -10,  -3,  -4], dtype=int16), array([-25, -18, -20, ..., -15, -18, -22], dtype=int16), array([111, 218, 115, ..., -22, -18, -11], dtype=int16), array([ 90, -58,  31, ..., -20, -14, -14], dtype=int16), array([31, 28, 23, ...,  0,  1, -8], dtype=int16), array([  3,  -9, -18, ...,  14,  23,  28], dtype=int16), array([ 4,  7,  5, ..., 36, 37, 40], dtype=int16), array([-29, -25, -15, ...,   6,   7,   2], dtype=int16), array([-11, -11,  -9, ...,  41, -33, -59], dtype=int16), array([ 10, 237, 116, ..., -24,  43,  52], dtype=int16), array([ -7, -14, -10, ...,  25,  14,  12], dtype=int16), array([43, 44, 46, ..., 41, 16, 50], dtype=int16), array([-14, -17, -13, ...,   9,  18,  23], dtype=int16), array([ 7, 10,  9, ...,  0,  4, -1], dtype=int16), array([ -93, -100,   57, ...,   53,   48,   42], dtype=int16), array([ -29,  -87, -131, ...,   -1,  -41,  -37], dtype=int16), array([-4, -5, -5, ...,  4,  9, 11], dtype=int16), array([ 9,  8,  3, ..., -6, -1,  3], dtype=int16), array([ 14,   9,   9, ...,  39,  12, -30], dtype=int16), array([-13, -12, -13, ...,  67,  52,  19], dtype=int16), array([-1, 53, 32, ...,  2, 19, 43], dtype=int16), array([ 297,  129, -158, ...,   15,   16,   26], dtype=int16), array([  0,  -1,  -2, ..., -37, -32, -19], dtype=int16), array([ -9, -98, -32, ...,   0,   4, -18], dtype=int16), array([-47, -39, -41, ..., -47, -47, -30], dtype=int16), array([14, 14, 12, ...,  9,  3,  0], dtype=int16), array([-5,  0, -2, ..., -9,  1,  7], dtype=int16), array([-108,  -48,  105, ...,    2,    3,    4], dtype=int16), array([26, 22, 19, ...,  6,  4, -3], dtype=int16), array([-229,   35, -183, ...,  -99,  -62,   -6], dtype=int16), array([  1,   6,   2, ...,  -2, -11, -27], dtype=int16), array([  0, -14, -19, ...,   1,   0,  -4], dtype=int16), array([23, 21, 20, ..., 27, 27, 19], dtype=int16), array([-5,  1,  2, ..., 79, 71, 70], dtype=int16), array([ 22,  21,  20, ..., -35, -32, -34], dtype=int16), array([0, 6, 4, ..., 9, 0, 1], dtype=int16), array([76, 75, 75, ..., 14, 11,  8], dtype=int16), array([ 41,  34,  29, ..., -98,  -4,  35], dtype=int16), array([ 0,  1,  0, ..., 18, 65, 28], dtype=int16), array([ 38,  65,  76, ..., -55, -58, -69], dtype=int16), array([-34, -25, -16, ..., -17, -16, -16], dtype=int16), array([-38, -31, -21, ...,   6,  -2,   0], dtype=int16), array([ 4,  6,  6, ..., 34, 83,  0], dtype=int16), array([ 0,  3,  3, ..., 74, 82, 80], dtype=int16), array([ 5,  2,  3, ..., 12,  7,  4], dtype=int16), array([-57,  68, 160, ..., -14, -10,  -8], dtype=int16), array([-4, -3, -6, ..., 20, 17, 17], dtype=int16), array([  0,  -1,  -1, ..., -16,  -8, -11], dtype=int16), array([ 15,  15,  17, ..., -19, -12, -25], dtype=int16), array([ 8, 10, 14, ...,  5,  0, -4], dtype=int16), array([ 8,  7,  4, ...,  0,  5, 12], dtype=int16), array([78, 63, 50, ..., 21, 19, 48], dtype=int16), array([  0,  -1,   0, ..., -21, -18, -17], dtype=int16), array([-1, -2,  2, ..., -1, -3, -5], dtype=int16), array([ 0, -2,  0, ...,  1,  1, -3], dtype=int16), array([ 8,  8, 12, ..., 41, 48, 48], dtype=int16), array([-49,  67, 134, ...,   8,   4,   6], dtype=int16), array([-113, -186, -119, ...,   24,   13,   11], dtype=int16), array([ -15,  -13,  -11, ...,  -89,  -98, -103], dtype=int16), array([ -9, -22, -14, ...,  -7,  22,  20], dtype=int16), array([ 0, -1, 10, ..., 23, 19, 14], dtype=int16), array([ 2,  3,  1, ...,  2, 17, -3], dtype=int16), array([ 15,  21,  18, ..., -18, -29, -12], dtype=int16), array([13, 13, 13, ..., 31, 31, 33], dtype=int16), array([-7, -7, -9, ...,  8,  7,  3], dtype=int16), array([12, 11, 11, ..., 13, 14, 46], dtype=int16), array([-14, -12, -13, ..., -32, -36, -37], dtype=int16), array([ 362,   53, -152, ...,   15,    9,   10], dtype=int16), array([231, 218, 135, ..., -20, -18, -11], dtype=int16), array([-99, -16,  71, ...,  -5, -10,  -3], dtype=int16), array([ 0,  0,  0, ..., 33, 32, 16], dtype=int16), array([-19, -22, -26, ...,  52,  54,  44], dtype=int16), array([ -6,  -7,  -5, ..., -19, -17, -16], dtype=int16), array([  7,   5,   8, ...,  23,   0, -30], dtype=int16), array([ -4,  -9, -17, ..., -65, -63, -66], dtype=int16), array([ 98,  35, -46, ...,  -9,  -6,   2], dtype=int16), array([ 26,  17,  18, ..., -44, -38, -18], dtype=int16), array([ 27,  15,   1, ..., -37, -31, -34], dtype=int16), array([ 329, -100,    0, ...,   12,   12,   13], dtype=int16), array([-21, -21, -23, ..., -45, -53, -45], dtype=int16), array([  0,  -4,  -7, ..., -32,  15,  43], dtype=int16), array([ 0,  0,  5, ...,  4, -3, -1], dtype=int16), array([ 7,  4,  2, ...,  7, 11, 11], dtype=int16), array([350, 242,   7, ...,   3,  -2,   1], dtype=int16), array([12, 19, 20, ...,  6, 15, 36], dtype=int16), array([10,  7,  8, ...,  1,  2,  3], dtype=int16), array([  3,   0,   0, ..., -69, -81, -80], dtype=int16), array([-17,  -9,  -6, ..., -15, -20, -32], dtype=int16), array([-22, -35, -22, ...,  30,   3,  14], dtype=int16), array([ 4,  5, -1, ..., -4,  1, -6], dtype=int16), array([ -6,  -5,   1, ..., -15, -22, -20], dtype=int16), array([ 27,  30,  32, ..., -50,  56, 126], dtype=int16), array([12, 16, 26, ..., 47, 69, 23], dtype=int16), array([ -8, -12,  -4, ...,  21,  14,  12], dtype=int16), array([-63, -19,  79, ..., -23, -30, -33], dtype=int16), array([86, 95, 91, ..., 16, 22, 24], dtype=int16), array([-11, -12, -13, ..., -11,  -9, -14], dtype=int16), array([ 1,  0,  0, ..., 33, 37, 39], dtype=int16), array([ 1,  0, -3, ..., -5, -5, -3], dtype=int16), array([ 4,  8,  5, ..., 14, 10, 15], dtype=int16), array([37, 26, 31, ...,  6, 11, 21], dtype=int16), array([ -5,   2,   4, ..., -24, -24, -22], dtype=int16), array([182,  23,  21, ..., -25,  -6,  -3], dtype=int16), array([-114, -142,  -61, ...,    7,    0,    0], dtype=int16), array([-17, -27, -29, ...,   9,  22,  19], dtype=int16), array([ 70, -24, 149, ..., -54, -36, -27], dtype=int16), array([  4,  -1,  -2, ...,   3,  -8, -11], dtype=int16), array([ 50, 156, 117, ...,   2,   1,  -5], dtype=int16), array([  6,   5,   1, ..., -12,  -2,   1], dtype=int16), array([-243,  -14,  147, ...,   -1,   -3,    1], dtype=int16), array([ -3,  -6,  -4, ..., -13,  -9, -10], dtype=int16), array([-227, -280, -349, ...,  -27,  -22,  -32], dtype=int16), array([-49, 102, 131, ...,   5,  -2,  -7], dtype=int16), array([-70,  -7,  21, ...,  43,  45,  52], dtype=int16), array([-26, -29, -27, ..., -12, -10,  -4], dtype=int16), array([ 14,  21,  24, ...,   4,  -8, -20], dtype=int16), array([-22, -25, -29, ..., -50, -46, -40], dtype=int16), array([-19, -19, -18, ...,  -4, -19, -15], dtype=int16), array([-25, -23, -20, ...,  24,   6,   0], dtype=int16), array([15, 28, 18, ...,  5,  3,  9], dtype=int16), array([-3, -1, -1, ...,  3, -1,  1], dtype=int16), array([ 2,  2, 10, ..., -3, 15, 18], dtype=int16), array([-24,  38,  99, ..., -72, -79, -79], dtype=int16), array([-13, -12, -12, ...,  -1,  -8, -12], dtype=int16), array([-17, -14,  -7, ...,   0,  -8, -19], dtype=int16), array([-12, -13, -15, ..., -24, -28, -27], dtype=int16), array([ -94,  192, -460, ...,  -11,   14,   26], dtype=int16), array([-23, -20,  53, ...,  -2,  -3,   4], dtype=int16), array([ 1, -5, -8, ..., 18, 13,  5], dtype=int16), array([-6, -7, -8, ..., 18, 13, 14], dtype=int16), array([-205, -182,  -70, ...,   27,   28,   25], dtype=int16), array([ 1,  0, -3, ..., -2, -1, -4], dtype=int16), array([-307, -205,  -70, ...,  -13,  -36,  -44], dtype=int16), array([-56, -69, -77, ..., -83, -67, -51], dtype=int16), array([ -1,  -4, -10, ...,  11,  12,  19], dtype=int16), array([20, 16, 13, ..., 21, 29, 27], dtype=int16), array([ 93, 108,  47, ...,  64,  46,  32], dtype=int16), array([-40, -31, -25, ..., -17, -19, -16], dtype=int16), array([-385, -619, -464, ...,  -42,  -55,  -57], dtype=int16), array([10,  6,  5, ..., 13, 14, 20], dtype=int16), array([ -4,  46,  35, ..., -23, -24, -19], dtype=int16), array([  0,   4,   5, ..., -16, -25, -36], dtype=int16), array([ 14,  13,   9, ..., -33, -31, -27], dtype=int16), array([4, 6, 4, ..., 7, 1, 1], dtype=int16), array([ 9,  3,  1, ..., -8, -9, -5], dtype=int16), array([ 15,  19,  12, ..., -20, -28, -22], dtype=int16), array([-12, -10,  -5, ..., -15,  -8,  -8], dtype=int16), array([31, 35, -8, ...,  4, -6, -6], dtype=int16), array([ 47,  18,  31, ..., -59, -64, -59], dtype=int16), array([-221, -249, -149, ...,    6,    7,    9], dtype=int16), array([ 16,  17,  11, ...,  -7, -16, -12], dtype=int16), array([ -3,  -1,  -7, ...,  16,  -9, -35], dtype=int16), array([  66, -139,  112, ...,    3,  -10,  -15], dtype=int16), array([-5, -3, -6, ..., 10, 53, 77], dtype=int16), array([ -6, -10, -12, ...,  40,  23,   8], dtype=int16), array([-174,   83,  275, ...,   12,   16,   19], dtype=int16), array([ 0, -3, -6, ..., 44, 46, 40], dtype=int16), array([27, 22, 25, ..., -6, -4, -2], dtype=int16), array([ 12,  17,  21, ...,  -7, -17, -20], dtype=int16), array([ 48,  43,  38, ..., -27, -28, -20], dtype=int16), array([ 9, 16, 11, ..., 25, 22, 10], dtype=int16), array([-151, -134,   49, ...,  -13,   10,   22], dtype=int16), array([ 26,  24,  31, ...,  54,   6, -35], dtype=int16), array([  1,   1,   5, ...,   6, -42,  -2], dtype=int16), array([-20, -19, -16, ..., -26, -47, -35], dtype=int16), array([-157, -197,  -96, ...,  -19, -110, -109], dtype=int16), array([-9, -2, -4, ...,  1,  2, -1], dtype=int16), array([ -7,  -8, -24, ...,   4,   1,   1], dtype=int16), array([-159, -136, -171, ...,  -24,  -25,   47], dtype=int16), array([-17, -30,  -2, ...,  -2,   0,   2], dtype=int16), array([2, 1, 0, ..., 5, 0, 0], dtype=int16), array([ 35,  36,  35, ..., -41, -11, -26], dtype=int16), array([ -2,  -4, -11, ..., -20, -23, -31], dtype=int16), array([ 6,  8,  4, ...,  5, 18, 24], dtype=int16), array([ 55, -49, -11, ...,  57,  50, -18], dtype=int16), array([3, 3, 3, ..., 2, 4, 7], dtype=int16), array([-8, -7, -6, ..., 11, 17, 24], dtype=int16), array([-159,  -42,   67, ...,    3,   -9,   -9], dtype=int16), array([ -35, -160,  -98, ...,   18,   19,   14], dtype=int16), array([-68, -62, -25, ...,  37,  36,  31], dtype=int16), array([-10, -13, -11, ..., -57, -50, -22], dtype=int16), array([-2,  1,  2, ..., -7, -7, -4], dtype=int16), array([  0,   0,   3, ...,   5, -24, -22], dtype=int16), array([-7,  0, -3, ...,  0,  0, -1], dtype=int16), array([118,  89, -44, ..., -32,  18,  18], dtype=int16), array([ -5,  -6, -12, ..., -27, -39, -31], dtype=int16), array([-184,  -56, -136, ...,    9,   12,   12], dtype=int16), array([11,  7, -3, ...,  5, 11, 19], dtype=int16), array([-28, -22, -27, ..., -41, -29, -19], dtype=int16), array([  8,   9,   6, ...,   0,  -6, -12], dtype=int16), array([11,  9, 13, ..., 25, 19, 13], dtype=int16), array([-17, -14,  -7, ...,   9,   7,   3], dtype=int16), array([-20, -44, -54, ...,  13,  11,  19], dtype=int16), array([ 3,  8,  9, ..., 17, 12,  9], dtype=int16), array([  0,   2,   4, ..., -35, -27, -19], dtype=int16), array([ 13,   7,  13, ...,   0, -22, -29], dtype=int16), array([ 0, -5, -3, ..., 25, 25, 23], dtype=int16), array([ 3, -2,  2, ..., 14,  8,  8], dtype=int16), array([-167,  -76,   47, ...,   21,   19,    6], dtype=int16), array([ -94, -212,  -89, ...,    4,    6,    0], dtype=int16), array([-26,   0,   8, ..., -23, -30, -24], dtype=int16), array([ 150, -185,  147, ...,   56,   56,   -5], dtype=int16), array([-18, -13,  -9, ...,  10,   8,   3], dtype=int16), array([-13,  -8, -12, ..., -19, -22, -33], dtype=int16), array([-40, -59, -82, ...,   1,  -7, -21], dtype=int16), array([ 35,  36,  25, ..., -27, -34, -26], dtype=int16), array([-275, -298, -142, ...,  -16,  -18,  -21], dtype=int16), array([-15, -12, -10, ..., -12, -11, -16], dtype=int16), array([78, 76, 66, ...,  4,  5,  3], dtype=int16), array([-237, -285, -174, ...,   -6,  -18,  -24], dtype=int16), array([-61, -26, 114, ...,  30,  37,  26], dtype=int16), array([-65,  31, 130, ..., -19, -19, -21], dtype=int16), array([  9,  -3,  25, ...,  -9, -14, -17], dtype=int16), array([ 4, 41, 34, ..., 18,  8, -1], dtype=int16), array([-165, -105,  -24, ...,   26,   26,   24], dtype=int16), array([  -7,  -84, -152, ...,  -40,  -41,  -46], dtype=int16), array([-4, -5, -5, ..., 47, 42, 42], dtype=int16), array([ -1,  -5,  -4, ..., -64, -91, -19], dtype=int16), array([  7,   4,   7, ..., -37, -42, -37], dtype=int16), array([-63, -33,  55, ...,  -3,   5,   4], dtype=int16), array([  0,   0,   5, ...,   3, -12, -12], dtype=int16), array([11,  6,  7, ..., 16,  8, 14], dtype=int16), array([-163,  -98,  151, ...,    4,    7,   10], dtype=int16), array([26, 34, 36, ..., 14, 17, 14], dtype=int16), array([-31, -23, -11, ...,  17,  18,  18], dtype=int16), array([  7,  23,  -2, ..., -15, -16, -17], dtype=int16), array([-212,  -11,  174, ...,   28,   14,    1], dtype=int16), array([  1,  65,  11, ..., -18, -51, -49], dtype=int16), array([-3,  7, 20, ..., 18, 34, 43], dtype=int16), array([-11,  -5,   0, ..., -17,  -3,  -7], dtype=int16), array([ 225,    8, -155, ...,  -53,  -53,  -53], dtype=int16), array([-16, -15, -15, ...,  -9, -19, -11], dtype=int16), array([-11,  -2,  -5, ..., -26, -21,  10], dtype=int16), array([-47, -48, -44, ...,  25, -23, -95], dtype=int16), array([ 43, -16, -24, ..., -75,  18,  80], dtype=int16), array([ 25,  29,  13, ..., -57,  -7, -17], dtype=int16), array([-3, -4, -1, ..., 20, 19, 29], dtype=int16), array([ 97, 152,  80, ...,  27,  17,   3], dtype=int16), array([-65, -20,  34, ...,   4,  10,  21], dtype=int16), array([-7, -8, -6, ...,  5,  2,  0], dtype=int16), array([ -4,  -6,  -9, ..., -12, -17, -14], dtype=int16), array([-52, -50, -50, ..., -25, -26, -20], dtype=int16), array([ -5,   0,   0, ..., -50, -42, -38], dtype=int16), array([12, 11, 10, ..., 19, 24, 23], dtype=int16), array([35, 22,  9, ...,  7, 11, 13], dtype=int16), array([22, 20, 16, ...,  5, 12, -4], dtype=int16), array([30, 42, 40, ..., 12, 14, 14], dtype=int16), array([ 12,   3, -21, ...,  38,  37,  47], dtype=int16), array([ 53,  -1, -44, ..., -17, -21, -18], dtype=int16), array([ 0,  0, -2, ..., 31, 23, 33], dtype=int16), array([12,  4, 10, ...,  3,  5,  5], dtype=int16), array([ 10,  12,  13, ..., -15, -21, -20], dtype=int16), array([ -7,  -6,  -9, ..., -45, -44, -40], dtype=int16), array([-12, -15, -21, ...,  -2,  -3,  -3], dtype=int16), array([ 13,  10,   8, ..., -29, -29, -31], dtype=int16), array([23, 28, 21, ..., 17, 15, 43], dtype=int16), array([-157, -204, -154, ...,    4,   -1,   -1], dtype=int16), array([-13, -14, -16, ..., -23, -24, -17], dtype=int16), array([ -8,  -7, -15, ...,  22,  17,  23], dtype=int16), array([  5,   6,   5, ...,  -9, -11, -14], dtype=int16), array([ 0,  0, -2, ..., -2,  1, -6], dtype=int16), array([28, 16, 16, ..., 33, 30, 19], dtype=int16), array([  0,  -3,  -7, ..., -11, -21, -11], dtype=int16), array([ 0, -3, -5, ...,  5, 11, 17], dtype=int16), array([ 0,  1,  0, ..., 21, 23, 28], dtype=int16), array([-2,  0, -1, ...,  2,  0,  0], dtype=int16), array([-1,  6,  4, ..., 12, 16, 25], dtype=int16), array([ -57,  -47, -106, ...,   20,   24,   18], dtype=int16), array([-95, 105,  28, ..., -48, -59, -69], dtype=int16), array([14,  0,  8, ...,  6, 19, 18], dtype=int16), array([ -5,  -8, -10, ...,  -1,  -4,  -2], dtype=int16), array([-17,  14,  19, ...,   1,   6,   3], dtype=int16), array([-3, -2, -2, ..., -4, -5, -5], dtype=int16), array([  7,   7,   2, ...,   0,  -6, -17], dtype=int16), array([ -4,  -3,  -2, ..., -41, -37, -27], dtype=int16), array([-11,  -9, -14, ..., -69, -77, -73], dtype=int16), array([ -25,  -47,   75, ..., -136,   -5,   56], dtype=int16), array([ -7,  -9,  -8, ..., -37, -34, -39], dtype=int16), array([-27,  43,  22, ..., -82, -55, -12], dtype=int16), array([ 6,  6, 10, ..., 11,  2,  0], dtype=int16), array([-251,  -33,  127, ...,    4,    4,   16], dtype=int16), array([  0,   7,   8, ...,  -9, -14, -35], dtype=int16), array([161, 444, 286, ...,   8,  -3, -10], dtype=int16), array([-15, -20, -15, ..., -18, -18, -16], dtype=int16), array([-15,  -8,  -5, ..., -14, -10,  -9], dtype=int16), array([-35, -35, -30, ...,   2,  14,  14], dtype=int16), array([  8,   3,   8, ..., -17, -31, -13], dtype=int16), array([-46, -50, -51, ...,  -4,  -4,  -1], dtype=int16), array([-23, -21, -23, ...,   0,   8,  14], dtype=int16), array([ 25,  19,  12, ..., -37, -30, -25], dtype=int16), array([13, 13, 11, ..., 28, 54, 74], dtype=int16), array([136, 308, 103, ...,  19,  12,   8], dtype=int16), array([ 9, 16, 11, ..., 21, 20, 19], dtype=int16), array([-16, -15, -15, ...,   0,  -8,  -4], dtype=int16), array([-17, -19, -17, ..., -32, -10,  -4], dtype=int16), array([ -1,   1,   0, ..., -51, -64, -41], dtype=int16), array([ 2,  4,  0, ..., 13, 16,  5], dtype=int16), array([ 11, -26,  30, ...,  15,   0,   6], dtype=int16), array([  0,   0,   0, ..., -59, -68, -68], dtype=int16), array([ 95,  92, -14, ..., -27, -27, -23], dtype=int16), array([ -29,  -90, -154, ...,   22,   24,   16], dtype=int16), array([  0,   9,   9, ...,  -9,  -1, -14], dtype=int16), array([10, 13, 12, ..., 24, 25, 26], dtype=int16), array([-15, -14, -16, ...,  29,  22,  25], dtype=int16), array([ -4,  -1,  -2, ..., -25, -13,  -5], dtype=int16), array([  1,  -4,  -9, ..., -11, -79, -46], dtype=int16), array([ 0, -1,  0, ...,  0,  1,  4], dtype=int16), array([-120, -254, -151, ...,   -6,   -1,    3], dtype=int16), array([11,  3,  2, ...,  1, -6, -4], dtype=int16), array([-104,  -98,  -71, ...,   -6,    0,   -4], dtype=int16), array([-39, -33, -21, ...,  -2,  -3,   3], dtype=int16), array([ 50, -54,  46, ...,  -5,  -1,   5], dtype=int16), array([11, 67, 75, ..., 39,  9, 10], dtype=int16), array([-184,  -42,  148, ...,   -3,    0,    2], dtype=int16), array([-21, -26, -24, ...,  -9, -12, -11], dtype=int16), array([ -2,  -1,  -1, ..., -43, -37, -25], dtype=int16), array([ -4, -10, -12, ..., -15, -18, -14], dtype=int16), array([ 3,  5,  4, ..., 36, 38, 37], dtype=int16), array([ -2,   0,   1, ..., -25, -18, -20], dtype=int16), array([-49,  99, 139, ..., -31, -19,  -8], dtype=int16), array([-20,   0,  48, ...,  -8, -19, -48], dtype=int16), array([-39, -41, -40, ..., -80, -57, -52], dtype=int16), array([  0,   0,  -1, ..., -48,  -1,  18], dtype=int16), array([ 16,  -3, -21, ...,  36,  31,  24], dtype=int16), array([  6,   5,  12, ..., -15, -15, -13], dtype=int16), array([  8,   0,   8, ...,  -2,  -3, -16], dtype=int16), array([-26, -27, -26, ...,  24,  -9, -42], dtype=int16), array([ 0,  1,  0, ..., 38, 54, 44], dtype=int16), array([ -9, -14, -23, ..., -16, -13,  -3], dtype=int16), array([28, 13,  4, ..., 21, 20, 16], dtype=int16), array([-10,   2,  -5, ..., -16,  12,   7], dtype=int16), array([-59,  17,   4, ..., -24, -11,  -1], dtype=int16), array([ 16,  20,  26, ..., -19, -22, -14], dtype=int16), array([ -23,  -30, -197, ...,   27,   32,   29], dtype=int16), array([-10,  -5,  -4, ..., -16, -10, -11], dtype=int16), array([ 10,   9,  10, ...,  -8, -11,  -3], dtype=int16), array([ 14,  18,  14, ..., -18, -21,  -6], dtype=int16), array([17, -4, 16, ...,  3,  4,  4], dtype=int16), array([ 90, -36, -87, ...,  11,   4,  12], dtype=int16), array([ -1,   0,  -2, ..., -11,   0, -15], dtype=int16), array([ 22,  19,  18, ..., -11,   0,   7], dtype=int16), array([ -7,  -2,  -4, ..., -24, -37, -30], dtype=int16), array([  0,  31, 121, ..., -43, -29, -27], dtype=int16), array([ 4,  3,  6, ..., -4, -4, -6], dtype=int16), array([ 5,  5, 12, ..., -7, -5,  0], dtype=int16), array([203,  -2,  86, ..., -24, -19, -12], dtype=int16), array([-26, -30, -23, ..., -11, -14, -10], dtype=int16), array([ -6,  -4, -11, ...,  11,   1,   0], dtype=int16), array([-34,  76,  61, ...,  62,  44,  16], dtype=int16), array([ -9, -13, -10, ...,   1,   7,   4], dtype=int16), array([27, 25, 23, ..., 12, 17,  9], dtype=int16), array([ -4,  -6,  -9, ..., -16, -17,  -5], dtype=int16), array([-45, -45, -45, ...,  34,  47,  63], dtype=int16), array([-23, -22, -27, ...,  18,   7,   8], dtype=int16), array([  8,   4, -10, ...,  12,  15,  17], dtype=int16), array([-1, -3, -3, ..., 39, 32, 32], dtype=int16), array([-2,  0,  6, ..., 16, 15,  7], dtype=int16), array([-54, -46, -28, ...,   0,  -3,  -9], dtype=int16), array([ 0, -6,  0, ...,  0,  6,  9], dtype=int16), array([ 41, -60, -41, ...,  18,   5, -11], dtype=int16), array([  68,   13,  -52, ...,  -42, -125,  -27], dtype=int16), array([ 6,  3,  0, ..., 33, 36, 39], dtype=int16), array([25, 25, 18, ..., 17,  3, 20], dtype=int16), array([  55,  -59, -166, ...,    3,    0,   -9], dtype=int16), array([ 56, -50, -36, ..., -35, -41, -39], dtype=int16), array([11, 24,  8, ..., 40, 51, 59], dtype=int16), array([ -56,  127, -151, ...,  -12,  -14,  -17], dtype=int16), array([ 0,  2,  1, ..., 24, 46, 43], dtype=int16), array([-65, -95, -95, ...,  11,  20,  20], dtype=int16), array([-9, -6, -3, ..., 45, 32, 46], dtype=int16), array([ 25,  26,  25, ..., -24, -29, -28], dtype=int16), array([ 26,  57, -28, ..., -24, -19, -12], dtype=int16), array([-27, -76, -77, ..., -58, -39,  21], dtype=int16), array([16, 18, 22, ..., 18,  4, -7], dtype=int16), array([ 43,  49,  50, ..., -35, -27, -10], dtype=int16), array([  1,  -9,  -6, ..., -45, -44, -52], dtype=int16), array([ 27, -33, -61, ..., -37, -43, -46], dtype=int16), array([44, 61, 85, ..., -8, -1, -6], dtype=int16), array([-12,  -9,  -4, ...,  30,  11,   6], dtype=int16), array([16, 11, 10, ...,  2,  8,  8], dtype=int16), array([-1, -7, -4, ...,  8,  7,  6], dtype=int16), array([-30,   8, 114, ..., -10,  -8,  -9], dtype=int16), array([  5,   6,   1, ..., -18, -19, -11], dtype=int16), array([ -9, -22, -37, ..., -68, -58, -67], dtype=int16), array([ -2,  -1,   4, ..., -14, -16, -20], dtype=int16), array([-15, -11,  -8, ..., -10, -14, -26], dtype=int16), array([ -2,  -3,   0, ..., -27, -29, -39], dtype=int16), array([ -1,   5,   5, ..., -19, -23, -27], dtype=int16), array([ -5,  -8,  -5, ..., -34, -45, -44], dtype=int16), array([-16, -17, -16, ...,   9, -12,   0], dtype=int16), array([-109, -158,  -18, ...,  -13,  -16,  -16], dtype=int16), array([-90,  45,   4, ..., -17, -13, -15], dtype=int16), array([  0,   5,  12, ..., -49, -52, -56], dtype=int16), array([-32, -30, -23, ..., -45, -44, -43], dtype=int16), array([22, 16, 15, ..., 15, 12, 23], dtype=int16), array([  28,   12,   -7, ...,  -87, -100,  105], dtype=int16), array([-10, -13, -20, ..., -31, -31, -45], dtype=int16), array([  5,   4,   4, ..., -10, -10, -29], dtype=int16), array([139, -75, -10, ...,   8, -31,   4], dtype=int16), array([-10,  -8,  -8, ...,  -2,   1, -15], dtype=int16), array([-39, -77, -85, ...,  20,   8,   5], dtype=int16), array([21, 23, 22, ..., 21, 14,  9], dtype=int16), array([-32, -36, -35, ..., -27, -23, -14], dtype=int16), array([ 26,  31,  23, ..., -35, -32, -25], dtype=int16), array([-10, -10, -10, ..., -29, -18,  -8], dtype=int16), array([-2,  1,  6, ..., 26, 22,  6], dtype=int16), array([  15, -274,  -38, ...,    3,   18,   23], dtype=int16), array([ 43,  40,  37, ..., -16, -17, -19], dtype=int16), array([-32, -32, -36, ..., -11,  -9,  -9], dtype=int16), array([ 24, 114, 105, ..., -16, -17, -22], dtype=int16), array([ 0,  1, -1, ..., 11, 24, 27], dtype=int16), array([-3, -7, -2, ...,  5, -2, -7], dtype=int16), array([  6,   4,   0, ...,  56,  -8, -37], dtype=int16), array([21, 23, 25, ...,  6, 12, 11], dtype=int16), array([-10, -31, -14, ...,  48,  46,  37], dtype=int16), array([ 15,  16,  12, ..., -29, -27, -24], dtype=int16), array([145,  27,  41, ...,   2,   9,   7], dtype=int16), array([ 16,  27,  35, ...,  -9, -21, -20], dtype=int16), array([17,  3, 13, ...,  0, 10, 11], dtype=int16), array([ -9,   1,  20, ...,  97, 110, 131], dtype=int16), array([-72, -59,  -2, ...,   6,   9,  16], dtype=int16), array([ -23, -237, -265, ...,    4,    5,    1], dtype=int16), array([-12,  -9,  -6, ...,   9,  -6,  33], dtype=int16), array([ -1,  -5,  -3, ..., -22, -12, -24], dtype=int16), array([ 22,  20,  16, ...,  -6, -11, -15], dtype=int16), array([-6, -7, -7, ...,  8, 11, 11], dtype=int16), array([319,  33,  92, ...,  22,   8,   2], dtype=int16), array([-1, -3, -3, ..., -9, -2, -3], dtype=int16), array([-49, -24, -46, ...,  36,  34,  43], dtype=int16), array([-71,  39, 148, ..., -16, -21, -20], dtype=int16), array([-188, -224, -127, ...,   -3,    5,    3], dtype=int16), array([ 0,  0,  0, ..., 14,  4, -8], dtype=int16), array([ 2,  3,  2, ..., -7, -1, -5], dtype=int16), array([58, -4, -7, ...,  9, 11, 22], dtype=int16), array([  4,   3,   1, ..., -12,  -9, -15], dtype=int16), array([-49, -58, -73, ...,  19,  27,  29], dtype=int16), array([ 3,  5,  3, ..., -1, -1,  4], dtype=int16), array([ 3, -2, -3, ..., 22, 14, 11], dtype=int16), array([ 21,  28,  23, ..., -12, -10, -12], dtype=int16), array([  8,   9,  14, ...,  49,   6, -12], dtype=int16), array([-316, -436, -477, ...,  -12,   -1,   10], dtype=int16), array([-4, -8, -6, ...,  0, -3, -1], dtype=int16), array([-10,  -4,  -1, ..., -42, -52, -48], dtype=int16), array([-16, -18, -17, ...,  12,  15,  10], dtype=int16), array([  0,  -4,  -1, ..., -78, -71, -67], dtype=int16), array([ 13,  12,  -4, ...,  98, 111, 121], dtype=int16), array([-15, -59, -95, ...,   7,   4,  -4], dtype=int16), array([-45, 126,  36, ..., -83, -77, -36], dtype=int16), array([ 54,   9, -35, ...,   0,  20,  30], dtype=int16), array([-18, -16, -14, ...,  43,  54,  51], dtype=int16), array([-5,  0, -2, ...,  0,  7, -1], dtype=int16), array([ 13,  14,  14, ..., -52, -51, -56], dtype=int16), array([-16, -25, -22, ..., -31, -37, -33], dtype=int16), array([-7, -7, -2, ...,  3, -4, -8], dtype=int16), array([-17,  -9,  -7, ...,  31,  12,  -6], dtype=int16), array([ -2,   1,  -1, ..., -16, -18, -23], dtype=int16), array([-2, -3, -4, ..., 25, 28, 24], dtype=int16), array([  4,   3,   2, ...,  -1, -26, -29], dtype=int16), array([38, 29, 26, ...,  9, 13, 19], dtype=int16), array([19, 19, 17, ...,  5,  6,  7], dtype=int16), array([ 7,  7,  5, ..., 21, 15, 16], dtype=int16), array([11,  9,  1, ..., 24, 17, 11], dtype=int16), array([ 23,  27,  24, ..., -19, -22, -16], dtype=int16), array([  3,   3,   3, ...,  29,  83, 115], dtype=int16), array([-16, -14, -13, ...,  45,  47,  46], dtype=int16), array([-2, -2, -6, ...,  7, 17, 19], dtype=int16), array([27, 19, 19, ..., 33, 29, 15], dtype=int16), array([ -11, -208,  -62, ...,  -13,  -23,  -19], dtype=int16), array([ -97, -270, -360, ...,    7,   -4,   -2], dtype=int16), array([-10,  -9,  -8, ...,   2,   7,  12], dtype=int16), array([-176, -115,  -45, ...,    0,   22,   53], dtype=int16), array([  0, -62,  12, ...,  25,  30,  24], dtype=int16), array([-37, -33, -30, ...,  23,  32,  26], dtype=int16), array([12, 33,  8, ...,  9,  8,  2], dtype=int16), array([-165, -224,  -88, ...,   17,   15,    7], dtype=int16), array([-3,  0, 29, ..., 22, 68, 48], dtype=int16), array([10, 13, 18, ..., -1,  1,  0], dtype=int16), array([195,  81,   6, ...,  12,   6,   0], dtype=int16), array([ -7,  -4,  -2, ..., -22, -22, -21], dtype=int16), array([ -96, -134,  -35, ...,  -23,  -46,  -41], dtype=int16), array([-16, -14,  -8, ...,  10,   6,  13], dtype=int16), array([ 2,  0,  2, ..., -5, -4,  0], dtype=int16), array([  8,   3,  -1, ..., -21, -21, -13], dtype=int16), array([ -5, -17, -21, ..., -32, -29, -24], dtype=int16), array([-7, -6, -3, ..., 47, 37, 28], dtype=int16), array([  2,   0,   1, ...,  30, -12, -63], dtype=int16), array([ 1, -2,  0, ..., -6,  2,  3], dtype=int16), array([ -1,   7,   3, ..., -37, -37, -46], dtype=int16), array([-35, -28, -21, ...,  18,   6,  -2], dtype=int16), array([ -5,  -6,  -5, ..., -45, -37, -19], dtype=int16), array([ -9, -11,  -9, ...,  26,  24,  12], dtype=int16), array([27, 23, 22, ..., -5, -9,  6], dtype=int16), array([ -86, -160, -152, ...,    5,    0,    6], dtype=int16), array([47, 41, 43, ..., 27, 21, 10], dtype=int16), array([  8, -23, -19, ...,  -1,   0,  11], dtype=int16), array([-6, -4, -3, ..., 33, 35, 29], dtype=int16), array([-163,  -23,    4, ...,   22,   23,   17], dtype=int16), array([ 35,  27,  26, ..., -14, -29, -52], dtype=int16), array([ -3,  -1,   0, ..., -15,  -7,  17], dtype=int16), array([  0,   1,   2, ..., -12,  -4,  -1], dtype=int16), array([ 30, -24, -77, ..., -10, -11,   0], dtype=int16), array([ 2,  1,  0, ..., 12, 10, 13], dtype=int16), array([ 31,  25,  31, ..., -24, -33, -30], dtype=int16), array([-62, 210, 324, ..., -40, -34, -33], dtype=int16), array([ -78, -207,  -96, ...,   23,   14,   27], dtype=int16), array([-1,  2,  2, ..., 13, 16, 26], dtype=int16), array([-323,  104, -132, ...,  -49,  -45,  -41], dtype=int16), array([13, 13, 15, ..., 11, 17,  7], dtype=int16), array([-169,  135,  228, ...,    3,  -11,    5], dtype=int16), array([-39, -93, 110, ...,  12,   1,  -4], dtype=int16), array([ 7,  0,  5, ..., 31,  3, -3], dtype=int16), array([-2, -5, -6, ...,  0, 10,  4], dtype=int16), array([ 4,  4,  8, ..., -4,  9, 17], dtype=int16), array([ 14,   9,  16, ..., -20, -26, -29], dtype=int16), array([ -8,  -4,  -1, ..., -70, -41, -20], dtype=int16), array([  2,   0,  -1, ..., -50, -44, -36], dtype=int16), array([ 8,  4,  3, ..., 23, 11,  0], dtype=int16), array([ 0,  2, -1, ..., -5, -1,  0], dtype=int16), array([-16, -45, -56, ...,  -8,   4,  17], dtype=int16), array([ 13, -12,  39, ..., -11,   0,   8], dtype=int16), array([5, 6, 2, ..., 7, 0, 7], dtype=int16), array([  61,  -74, -247, ...,  -20,  -18,  -30], dtype=int16), array([ -7, -11, -14, ..., -12,   2,  14], dtype=int16), array([-10, -23, -12, ..., -33, -29, -30], dtype=int16), array([  8,  12,  12, ...,   0, -49, -30], dtype=int16), array([ 0,  1,  0, ...,  3,  0, -1], dtype=int16), array([17, 16, 14, ..., 37, 12,  8], dtype=int16), array([-28, -33, -11, ..., -69, -62, -61], dtype=int16), array([  8,  12,  19, ..., -22, -22, -40], dtype=int16), array([-153,  -75,   17, ...,   18,   20,   26], dtype=int16), array([-14, -10,  -7, ...,   4,  27,  34], dtype=int16), array([-3, -6, -6, ..., 20, 21, 22], dtype=int16), array([-1, -1, -2, ..., 73, 77, 69], dtype=int16), array([ 16, -91, -32, ...,  29,  32,  -5], dtype=int16), array([-7, -6, -6, ..., -5, -3, -7], dtype=int16), array([-2,  0, -2, ..., -7, -5,  0], dtype=int16), array([133, 121,  63, ...,  16,   0,   6], dtype=int16), array([-10, -19, -16, ...,   7,  16,  15], dtype=int16), array([-5, -1,  0, ..., 15, 16,  9], dtype=int16), array([ -56,  223, -129, ...,  -35,  -38,  -40], dtype=int16), array([-15, -16, -16, ...,  -2,  -4,  -1], dtype=int16), array([-1,  0,  0, ...,  5, -2,  5], dtype=int16), array([  84,  104,   67, ...,  -54, -128,  -68], dtype=int16), array([ 18, -26, -13, ...,  30,  41,  34], dtype=int16), array([-26, -23, -23, ...,  16,  23,  29], dtype=int16), array([-13, -13, -11, ...,  15,  15,  10], dtype=int16), array([ 62, -12, -99, ...,  -1,   4,   6], dtype=int16), array([-15, -12, -12, ...,  65,  49,  28], dtype=int16), array([-1,  3,  6, ..., -1, 10, 14], dtype=int16), array([  4,   5,   5, ..., -11, -13, -17], dtype=int16), array([-23, -22, -26, ...,  16,  21,  18], dtype=int16), array([-14, -15, -17, ..., -25, -18, -21], dtype=int16), array([ 5, 10,  8, ...,  0, -6, -7], dtype=int16), array([ -1,  -1,  -6, ..., -14, -20, -19], dtype=int16), array([  0,   0,  -7, ..., -71, -73, -70], dtype=int16), array([  3,   0,   0, ...,   7, -17, -42], dtype=int16), array([-13, -12,  -5, ...,  15,  21,  24], dtype=int16), array([-319, -199,   89, ...,  -60,  -57,  -50], dtype=int16), array([-23, -21, -19, ...,  10,  13,  18], dtype=int16), array([-3, -1,  1, ...,  7, 13, 14], dtype=int16), array([ -15,  -74, -257, ...,   41,    7,  -48], dtype=int16), array([ 14,   8,   8, ..., -33, -23, -19], dtype=int16), array([19, 19, 19, ..., 25, 24, 19], dtype=int16), array([-164, -190,  -99, ...,    2,   -3,    3], dtype=int16), array([44, 42, 44, ..., 21, 18, 14], dtype=int16), array([-6, -5, -4, ...,  3, -3, -9], dtype=int16), array([-32, -32, -19, ...,  80,  76,  50], dtype=int16), array([130, 232, 125, ...,   5,   0,  -2], dtype=int16), array([21, 20, 19, ...,  0,  0, 15], dtype=int16), array([-255, -154,  -11, ...,   52,   45,   49], dtype=int16), array([25, 28, 29, ..., 42, 27, 45], dtype=int16), array([-21,   3,  30, ...,  13,  81, 148], dtype=int16), array([ 1,  7,  4, ..., -4, -3, -4], dtype=int16), array([  0,  -5,  -5, ..., -29, -23, -25], dtype=int16), array([ 5, 10,  8, ...,  8, 10,  6], dtype=int16), array([ 7,  4,  4, ..., 33, 19, 22], dtype=int16), array([  21, -110, -182, ...,    1,    4,    1], dtype=int16), array([ -9, -18, -30, ..., -16, -10,  -3], dtype=int16), array([  9,   2,   3, ..., -33, -29, -30], dtype=int16), array([-180,  -93,  185, ...,    5,   -1,   -2], dtype=int16), array([  4,   8,  11, ..., 108, 204, 120], dtype=int16), array([ 63,  80,  21, ..., -22, -14, -24], dtype=int16), array([-26, -26, -21, ...,   3,  -3, -12], dtype=int16), array([ -8,   0,  -2, ..., -22, -27, -27], dtype=int16), array([ -8,  -5,  -5, ..., -15, -12,  -3], dtype=int16), array([-4,  0,  0, ..., 15, 13,  1], dtype=int16), array([-5, -6, -6, ...,  9,  6,  9], dtype=int16), array([ -15, -120,  -14, ...,   25,   18,   15], dtype=int16), array([5, 4, 5, ..., 4, 0, 0], dtype=int16), array([-24,  41, 129, ...,  -8,  -5, -10], dtype=int16), array([ -1,   0,  -2, ...,  -7, -14, -19], dtype=int16), array([-5, -4, -2, ..., 84, 81, 79], dtype=int16), array([   1,    5, -106, ...,   23,   20,   28], dtype=int16), array([ 98,  95,  81, ..., -28, -15, -21], dtype=int16), array([ -5,  -8,  -3, ..., -29, -47, -55], dtype=int16), array([  4,   9,   7, ..., -15, -17, -13], dtype=int16), array([ -2,  -2,  -2, ..., -15, -15, -18], dtype=int16), array([-20, -21, -19, ...,   7,  15,  15], dtype=int16), array([4, 4, 7, ..., 1, 0, 2], dtype=int16), array([ 2,  4, 10, ...,  9,  9, 12], dtype=int16), array([ 1,  5,  5, ..., -8, -5,  2], dtype=int16), array([ -6,  -7,  -7, ..., -11,  -1, -10], dtype=int16), array([-61,  89, -13, ..., -31, -40, -34], dtype=int16), array([  4,  -5, -12, ...,  22,  19,  25], dtype=int16), array([ 34,  99, -39, ...,  22,  28,  58], dtype=int16), array([ 60,  54,  42, ..., -44, -35, -47], dtype=int16), array([-2,  0, -1, ..., 53, 57, 50], dtype=int16), array([-1, -4, -5, ...,  4, -2, -5], dtype=int16), array([-96,  26,   5, ..., -31, -29, -24], dtype=int16), array([ 5, 10, 11, ..., 13, 14, 13], dtype=int16), array([-205,  -47,  159, ...,   48,   49,   47], dtype=int16), array([ 9,  9, 12, ..., -4, -6, -8], dtype=int16), array([ 8, 13, 15, ..., -2, 16, 17], dtype=int16), array([-83, -34, -14, ..., -23, -22, -12], dtype=int16), array([232, 217,  19, ..., -22, -23, -36], dtype=int16), array([  6,  10,  10, ..., -43, -47, -49], dtype=int16), array([ 10,  18,  15, ..., -22, -15, -14], dtype=int16), array([  1,  -3,   0, ..., -17,  24,  46], dtype=int16), array([11, 13, 15, ..., -7,  0, -2], dtype=int16), array([-18, -13, -13, ...,  20,  30,  30], dtype=int16), array([ 0,  4,  6, ..., -4, -2,  0], dtype=int16), array([  3,   1,   0, ..., -21, -23, -25], dtype=int16), array([-14, -17, -17, ...,  -7,  -6,  -9], dtype=int16), array([  5,  -1,   1, ..., -21, -18, -15], dtype=int16), array([-23, -26, -20, ...,  18,  21,  16], dtype=int16), array([ -4,  -6,  -7, ..., -11,  -8, -17], dtype=int16), array([ 17,  17,  17, ..., -19, -29,  13], dtype=int16), array([ 1,  4,  1, ..., 11,  1, -3], dtype=int16), array([-11,  -1,   6, ...,  45,  46,  16], dtype=int16), array([  0,  -5,  -5, ...,   2, -10,   9], dtype=int16), array([-8, -2, -9, ..., 10,  6,  2], dtype=int16), array([14, 11, 13, ..., 21, 34, 30], dtype=int16), array([-30, -30, -14, ..., -13, -13, -23], dtype=int16), array([-27, -21, -24, ...,  68,  53,  35], dtype=int16), array([-12, -15, -16, ..., -10, -17, -16], dtype=int16), array([-88, -90, -72, ...,  30,  28,  32], dtype=int16), array([-145,   -9,  181, ...,   -7,   -8,  -12], dtype=int16), array([ 8,  5,  6, ..., 26, 28, 38], dtype=int16), array([  -2, -125, -129, ...,   20,   24,   16], dtype=int16), array([71, 63,  6, ..., 37, 24, 23], dtype=int16), array([ 19,  16,  16, ...,   3,  -3, -12], dtype=int16), array([ 11,  16, -56, ...,   8,   7,   9], dtype=int16), array([-29, -24, -21, ..., -50, -38, -40], dtype=int16), array([-106,  -76,  278, ...,  -28,  -35,  -38], dtype=int16), array([153, 157,  35, ..., -13, -12, -13], dtype=int16), array([  1,   4,   4, ...,  10, -21,   0], dtype=int16), array([  0,   3,   4, ..., -25,  19,  -5], dtype=int16), array([ 9, 11, 15, ..., 15, 18, 15], dtype=int16), array([ 44,  42,  32, ...,  -4,  -1, -10], dtype=int16), array([ 1,  1,  0, ..., -6, -8, -3], dtype=int16), array([-51, -60, -61, ..., -56, -19, -13], dtype=int16), array([-21, -16, -14, ...,  46,  35,  24], dtype=int16), array([ 4,  2, -3, ..., 18, 17, 17], dtype=int16), array([  0,   2,   5, ...,  -2,  -5, -12], dtype=int16), array([ -7,  -9, -10, ..., -21, -24, -19], dtype=int16), array([28, 44, 55, ..., 39, 43, 44], dtype=int16), array([0, 2, 2, ..., 9, 8, 9], dtype=int16), array([ -8,  -9, -11, ..., -48, -49, -64], dtype=int16), array([-66,  -3,  55, ...,  27,  33,  33], dtype=int16), array([-15, -24, -25, ...,  -8,  -8,  -2], dtype=int16), array([ 0,  0,  0, ..., 15, 12, 10], dtype=int16), array([-27, -23, -25, ..., -52, -38, -42], dtype=int16), array([ 50, -83, -16, ...,   7,  15,  27], dtype=int16), array([-15, -17, -22, ...,  18,  17,  18], dtype=int16), array([ 19,  13,   8, ..., -12, -10, -13], dtype=int16), array([ -1, -10,  -8, ...,   5, -10, -14], dtype=int16), array([-113,  -64,  -63, ...,  -14,  -13,  -16], dtype=int16), array([-100,  -74,   22, ...,  -16,  -21,  -26], dtype=int16), array([ 0,  2,  5, ..., 46, 42, -1], dtype=int16), array([  2, -12, -15, ..., -19,   9,  15], dtype=int16), array([ -1, -10, -17, ...,  97,  55,  -7], dtype=int16), array([  2,   1,   1, ..., -25, -26, -18], dtype=int16), array([  5,   8,   8, ..., -18, -16, -28], dtype=int16), array([-13, -10, -10, ...,  -4,   0,  -1], dtype=int16), array([ -1,   0,   1, ..., -92, -87, -69], dtype=int16), array([-9, -5, -7, ..., 36, 29, 26], dtype=int16), array([-1, -2, -3, ..., 74, 77, 82], dtype=int16), array([319, 302, 274, ...,  18,  53,  47], dtype=int16), array([ -1,  -7,  -3, ...,   0,  -7, -18], dtype=int16), array([-11, -11,  -9, ..., -41, -36, -31], dtype=int16), array([-141, -139,   25, ...,  -13,   -6,  -12], dtype=int16), array([-174, -132,  -81, ...,  -26,  -43,  -48], dtype=int16), array([21, 19, 16, ..., 17, 15, 19], dtype=int16), array([-13, -16, -15, ...,  -3,  -8,   0], dtype=int16), array([ 6, -4,  0, ..., 16, 17, 20], dtype=int16), array([-10,  -1,   1, ...,  15,  11,   7], dtype=int16), array([-34, -37, -50, ..., -89,  -5,  49], dtype=int16), array([  4,   9,  11, ..., -10, -32, -19], dtype=int16), array([-49, -51, -49, ..., -29, -32, -27], dtype=int16), array([  4,   4,   5, ..., -25, -17, -39], dtype=int16), array([ 6,  4,  0, ..., -3, -4, -1], dtype=int16), array([-14, -15, -13, ...,  -1,   0,   5], dtype=int16), array([176, 241, 187, ..., -13, -12, -15], dtype=int16), array([-33,  -1,   2, ...,  43,  10, -24], dtype=int16), array([-24, -24, -18, ...,  21,  18,  14], dtype=int16), array([9, 8, 5, ..., 0, 0, 0], dtype=int16), array([-78, -53, -86, ..., -11, -16, -23], dtype=int16), array([32, 26, 18, ...,  0,  0,  0], dtype=int16), array([  0,   0,   0, ..., -43, -55, -52], dtype=int16), array([-19, -14, -17, ...,  35,  63,  53], dtype=int16), array([-177, -130,   -4, ...,  -52,  -46,  -35], dtype=int16), array([-5, -7, -9, ..., 38, 44, 45], dtype=int16), array([ -7,   0, -10, ..., -19, -20, -18], dtype=int16), array([ 5,  5,  5, ..., 11,  1,  1], dtype=int16), array([-4, -2, -3, ...,  7,  3,  1], dtype=int16), array([-30, 131, 237, ...,   4,   5,   2], dtype=int16), array([134, 121,  75, ..., -24, -40, -37], dtype=int16), array([  17,  -38, -112, ...,   -7,    0,   63], dtype=int16), array([-34, -37, -43, ..., -57, -46,  41], dtype=int16), array([-298, -270, -152, ...,    4,   -1,  -22], dtype=int16), array([ 15,  13,   7, ..., -16, -13, -16], dtype=int16), array([-10, -15, -17, ...,  16,   9,  10], dtype=int16), array([ 17,  16,   9, ...,  -8, -15, -18], dtype=int16), array([-15, -16,  -8, ..., -28, -22, -20], dtype=int16), array([ 24,  30,  37, ..., -29, -22, -11], dtype=int16), array([ 2,  6,  2, ..., -9, -4, -7], dtype=int16), array([-23, -24, -21, ..., -30, -24, -23], dtype=int16), array([ -3,  -6,  -1, ...,  -2, -11,  -6], dtype=int16), array([-137, -118,  -56, ...,  -37,  -35,  -17], dtype=int16), array([-10,   0,   5, ...,  10,  19,  10], dtype=int16), array([36, 33, 31, ...,  4,  1,  0], dtype=int16), array([ 21,  21,  20, ..., -32, -31, -31], dtype=int16), array([  9,   2,   0, ..., -16,  -9,  -3], dtype=int16), array([ -7,   0,   1, ...,  38,  33, -16], dtype=int16), array([ 47,  57,   0, ..., -19, -13,  -6], dtype=int16), array([ 2,  5,  4, ..., 32, 50, 47], dtype=int16), array([ -90, -163, -146, ...,   -5,   -9,  -15], dtype=int16), array([ 23,  42,  29, ...,   4,   0, -15], dtype=int16), array([ 17,  18,  14, ..., -16,   0,   9], dtype=int16), array([-17,   2,  -6, ...,  49,  45,  43], dtype=int16), array([27, 18, 12, ..., 21,  9, 19], dtype=int16), array([  7,   3,   4, ..., -60, -49, -52], dtype=int16), array([-12,  -9, -17, ..., -46, -50, -41], dtype=int16), array([-96,  -8,  17, ...,  13,  24,  22], dtype=int16), array([-7, -7,  0, ..., 10, 12, 16], dtype=int16), array([ 4,  5,  6, ...,  4,  6, 10], dtype=int16), array([-57, -46,   2, ...,   8,  15,  23], dtype=int16), array([-103,   28,   91, ...,    4,   20,   37], dtype=int16), array([  62,  -40, -310, ...,    3,   10,   15], dtype=int16), array([-24, -22,  38, ..., -41, -36, -39], dtype=int16), array([-16, -18, -11, ...,  -5,   8,  19], dtype=int16), array([ 10,  -1,   2, ...,  -3,   9, -10], dtype=int16), array([144, 234, 321, ..., -11, -19,  -5], dtype=int16), array([12, 22, 22, ..., 36, 16, -5], dtype=int16), array([ -6, -10, -17, ...,  23,  21,  22], dtype=int16), array([ -7,  -2,  -7, ...,  -7,  -9, -10], dtype=int16), array([ 69,  72,  28, ..., -10,   4,   5], dtype=int16), array([ -8, -14, -27, ...,  -7, -13, -13], dtype=int16), array([ -9, -11, -16, ..., -21, -22, -14], dtype=int16), array([2, 6, 8, ..., 8, 6, 4], dtype=int16), array([13, 12,  1, ...,  1,  0,  0], dtype=int16), array([18, 17, 17, ...,  3, 12, 11], dtype=int16), array([ 57, 145, 168, ...,  19,  17,  15], dtype=int16), array([ -1,   0,  -1, ..., -27, -31, -20], dtype=int16), array([ -1,   1,   5, ..., -22, -32,   7], dtype=int16), array([14, 13, 15, ..., 65, 27, 38], dtype=int16), array([-2, -2, -2, ..., -6, -2,  1], dtype=int16), array([ 15,  17,  15, ..., -59,  10,  52], dtype=int16), array([ 12,  14,  11, ..., -29, -24, -28], dtype=int16), array([ 25,  17,  17, ...,  35,  61, -26], dtype=int16), array([ 4,  3,  1, ..., 44, 97, 88], dtype=int16), array([ 0,  5, -2, ..., 18, 17, 20], dtype=int16), array([  7,   5,   3, ..., -27, -20, -19], dtype=int16), array([  2,   2,   4, ..., -22, -29, -24], dtype=int16), array([ -1,   1,   7, ..., -17,  -6,  -5], dtype=int16), array([-21, -15, -18, ...,  39,  17,  21], dtype=int16), array([ 42,  38,  39, ..., -28, -25, -24], dtype=int16), array([ 0,  4,  9, ..., 15,  9,  7], dtype=int16), array([11, 20, 24, ..., 33, 47, 45], dtype=int16), array([ -5,  -7, -10, ..., -57, -59, -20], dtype=int16), array([-44, 180,  83, ..., -19,  -7,   1], dtype=int16), array([ 10,   7,   4, ..., -60, -32,  17], dtype=int16), array([ 0, -3,  0, ..., 89, 67, 53], dtype=int16), array([-4,  2,  4, ...,  4, 18, 17], dtype=int16), array([ -9,  -8, -12, ..., -16, -31,   1], dtype=int16), array([-22, -23, -23, ...,   0,   4,  15], dtype=int16), array([ 21,  19,  16, ...,  23,  -7, -92], dtype=int16), array([-243, -107,   85, ...,   11,   28,    0], dtype=int16), array([ 58,  22, -18, ...,   8,  15,   8], dtype=int16), array([-282,  -78,  -47, ...,   20,   23,   26], dtype=int16), array([  8,   1,   2, ..., -41, -42, -55], dtype=int16), array([  2,   5,   2, ...,  52,   4, -25], dtype=int16), array([ 21,  30,  28, ..., -46,   2,  23], dtype=int16), array([   3,    4,    8, ..., -215, -149,  -50], dtype=int16), array([ 4,  0,  0, ..., 17, 41, 28], dtype=int16), array([ 25,  18,  11, ..., -10, -76, -87], dtype=int16), array([-1, -2,  0, ..., 12,  8, 12], dtype=int16), array([-19, -14, -16, ..., -19, -15, -14], dtype=int16), array([ 109, -112, -323, ...,  -15,  -19,  -18], dtype=int16), array([247, 264, 265, ...,  20,  10,  -5], dtype=int16), array([  3,  -1,  -1, ..., -18,  -7,  -4], dtype=int16), array([ -6,  -1, -17, ...,  -1,  -8,   3], dtype=int16), array([ 3,  2,  2, ..., 16, 12,  8], dtype=int16), array([-2,  0, -2, ..., -1, -3,  0], dtype=int16), array([-51, -81, -53, ..., -31, -29, -26], dtype=int16), array([-23, -16,  94, ...,  15,  11,  -1], dtype=int16), array([ 0,  0,  5, ...,  5, 15, 18], dtype=int16), array([  1,   4,   0, ...,   3,  -7, -18], dtype=int16), array([ 0, -5, -1, ..., 23, 16, 24], dtype=int16), array([-1,  0,  1, ...,  3, 11, 14], dtype=int16), array([-3, -2,  6, ...,  4,  0, -3], dtype=int16), array([ 8, 55, 72, ..., -3, 10, 15], dtype=int16), array([-28, -17, -20, ..., -17, -21, -31], dtype=int16), array([ 79, 102, 104, ...,  26,  15, -23], dtype=int16), array([10,  6,  7, ..., 21,  0,  3], dtype=int16), array([ 23,  32,  14, ..., -66, -10,  50], dtype=int16), array([ -4,  -5,  -6, ..., -12, -10,  -4], dtype=int16), array([ -7, -25, -41, ...,  -7, -22,  -2], dtype=int16), array([-6, 35,  3, ..., 12, 11,  7], dtype=int16), array([ 1,  0,  5, ..., 32, 29, -1], dtype=int16), array([-58,  51, 138, ...,  83,  60,  41], dtype=int16), array([-41, -43, -50, ...,  49,  47,  49], dtype=int16), array([  0,  16,  11, ..., -68,  -1,  17], dtype=int16), array([-13, -19, -20, ..., -63,  24,  18], dtype=int16), array([28, 22, 25, ..., 15, 14, 10], dtype=int16), array([  9,  46,  14, ..., -17,  -7, -14], dtype=int16), array([130, 160,  14, ...,  59,  63,  65], dtype=int16), array([  5,   3,   3, ..., -25,  -5,   0], dtype=int16), array([-115, -245, -344, ...,   11,   17,   18], dtype=int16), array([ -1,  48, 110, ...,  17,  27,  22], dtype=int16), array([ -1,  -8,  -8, ..., -10, -10, -11], dtype=int16), array([-34, -30, -46, ...,  51,  33,  14], dtype=int16), array([-14, -12, -19, ..., -38, -34, -33], dtype=int16), array([1, 1, 2, ..., 1, 7, 0], dtype=int16), array([-107, -244,  -66, ...,    6,    9,   18], dtype=int16), array([ 16,  15,  10, ..., -34,  27,  58], dtype=int16), array([-10, -14,  -5, ...,  11,   9,  12], dtype=int16), array([  82, -329, -343, ...,   -6,    3,  -23], dtype=int16), array([ -8,  -3,  -7, ..., -11,  -8,  -3], dtype=int16), array([-1,  0,  0, ..., 21, 26, 24], dtype=int16), array([-7, -6, -4, ..., -3, 22, 31], dtype=int16), array([ -2,  -9, -20, ...,  40,  46,  58], dtype=int16), array([185, 138,   7, ..., -33, -24, -23], dtype=int16), array([ 27,  31,  32, ..., -33, -36, -44], dtype=int16), array([41, 30, 18, ..., 17,  6, -4], dtype=int16), array([-5, -8, -6, ..., 24, 12, 11], dtype=int16), array([22, 15, 19, ...,  1,  3, 10], dtype=int16), array([-45,   2,  74, ...,  46,  52,  64], dtype=int16), array([-69, -81, -44, ..., -15, -53, -22], dtype=int16), array([-16, -16, -14, ...,  50,  54,  56], dtype=int16), array([ 8,  8,  8, ..., 12, 16, 17], dtype=int16), array([  0,   0,   1, ..., -15, -27, -32], dtype=int16), array([12, 16, 18, ..., -2,  1,  5], dtype=int16), array([-2,  3,  2, ..., -3, -4, -7], dtype=int16), array([-1,  9, 11, ...,  1,  7,  9], dtype=int16), array([21, 29, 53, ..., 30, 72, 94], dtype=int16), array([  14,   94, -121, ...,   13,    0,   25], dtype=int16), array([-25, -30, -40, ...,  10,   8,   7], dtype=int16), array([ 1, -1, -2, ..., 11, 14,  2], dtype=int16), array([-19, -18, -20, ...,   7,  55,  98], dtype=int16), array([  8,  20,  32, ..., -14,  -1,  -4], dtype=int16), array([ 0, 12, -8, ...,  6, -5, -4], dtype=int16), array([-43, -49, -49, ..., -21, -24, -30], dtype=int16), array([  7,   8,  16, ..., -21,  -5,   0], dtype=int16), array([  9,  14,  18, ..., -34, -41, -35], dtype=int16), array([-1,  3,  0, ..., 25, 21, 15], dtype=int16), array([  8,  18,  27, ..., -16, -17, -18], dtype=int16), array([-151,   15,   60, ...,   57,   55,   44], dtype=int16), array([-7, -2,  2, ..., 39, 36, 32], dtype=int16), array([ 10,  16,  16, ...,  -3,   2, -10], dtype=int16), array([44, 41, 41, ..., 19, 23, 23], dtype=int16), array([16, 22, 21, ..., 17, 14, -3], dtype=int16), array([ 9, 16, 23, ..., -8, -3,  7], dtype=int16), array([ -6,  -3, -19, ..., -21, -17, -15], dtype=int16), array([-16, -19, -14, ...,  10,  15,  20], dtype=int16), array([  3,  -2,  -3, ..., -35,  -1,  69], dtype=int16), array([ 179, -109, -204, ...,   -3,    0,    2], dtype=int16), array([-4, -8, -1, ..., 54, 84, 96], dtype=int16), array([12, 13,  8, ...,  2, -1,  1], dtype=int16), array([22, 29, 35, ..., 24, 24, 17], dtype=int16), array([31, 15,  0, ...,  7,  8,  7], dtype=int16), array([16, 19, 21, ..., 10, 14, 17], dtype=int16), array([-2,  9, 10, ..., -8, -7, -8], dtype=int16), array([  3,   7,   0, ..., -20, -11,  -6], dtype=int16), array([-111,  135,  224, ...,   -4,   -5,   -3], dtype=int16), array([-15, -16, -15, ..., -26, -29, -38], dtype=int16), array([23, 45, 44, ..., 14, 15, 18], dtype=int16), array([ -5,  -5,  -4, ..., -22, -27, -34], dtype=int16), array([ 6,  3,  0, ...,  7, 13, 15], dtype=int16), array([ 39,  39,  31, ..., -29,  11,  15], dtype=int16), array([-2, -3, -5, ...,  3, -2,  1], dtype=int16), array([-23, -25, -15, ...,   8,   6,   9], dtype=int16), array([ 9,  9, 12, ..., -8, -4, -4], dtype=int16), array([ 16,  33,  24, ...,  59,   2, -22], dtype=int16), array([  3,   0,  -1, ..., -35, -35, -37], dtype=int16), array([ 1, -1, -3, ...,  8, 16, 28], dtype=int16), array([-4, -4, -8, ...,  4,  2,  1], dtype=int16), array([ 12, -20, -23, ...,   5,  -1,   0], dtype=int16), array([-10, -15, -16, ...,  35,  37,  37], dtype=int16), array([ -3,  -5,  -2, ...,   4, -30, -27], dtype=int16), array([-71,  29,  59, ..., -22, -12,  -6], dtype=int16), array([ -2, -25,  -5, ..., -41, -54, -54], dtype=int16), array([-6, -9, -5, ...,  0,  1, -3], dtype=int16), array([  48,  -61, -107, ...,    7,    6,    8], dtype=int16), array([-22, -30, -24, ..., -16, -28, -39], dtype=int16), array([ 2,  4,  3, ..., 89, 84, 73], dtype=int16), array([-30, -42, -25, ...,   9,   4,   7], dtype=int16), array([ -8, -10,  -9, ...,  34,  24,  15], dtype=int16), array([ -1,   0,   0, ...,  -5, -10,  -9], dtype=int16), array([ 17,  15,  11, ..., -10, -11, -13], dtype=int16), array([-264, -577, -123, ...,  -11,   -3,   -4], dtype=int16), array([-260,  133,   64, ...,   11,  -28,  -37], dtype=int16), array([-2, -2, -1, ..., 28, 17, 13], dtype=int16), array([ 0,  0,  0, ..., 11,  7, 18], dtype=int16), array([-12, -45, -21, ..., -22, -24, -25], dtype=int16), array([  6,   8,   9, ..., -34, -26, -23], dtype=int16), array([ 14,   5,   1, ...,  -4, -11,  -6], dtype=int16), array([ -21,  -27,  -20, ..., -105, -131, -118], dtype=int16), array([-15, -62, -10, ...,  46,  46,  42], dtype=int16), array([-264, -383, -375, ...,  -11,   23,   -8], dtype=int16), array([-133, -265, -104, ...,   11,   -7,  -33], dtype=int16), array([83, 85, 88, ..., 46, 43, 16], dtype=int16), array([  6,  12,   1, ...,  62,   1, -27], dtype=int16), array([-29, 162,  41, ..., -21, -17, -19], dtype=int16), array([ 102,   18, -120, ...,   -9,  -14,  -15], dtype=int16), array([60, 68, 65, ...,  4,  2,  2], dtype=int16), array([-30, -27, -28, ...,  -5, -10, -20], dtype=int16), array([-12, -13, -12, ...,  -2,  -9,  -2], dtype=int16), array([ 21,  19,  13, ...,   0,  -4, -14], dtype=int16), array([5, 0, 3, ..., 3, 2, 6], dtype=int16), array([-41, -31, -26, ..., -73, -43, -12], dtype=int16), array([  2,  -7, -10, ...,  -2,   0,   9], dtype=int16), array([ 0,  0, -2, ..., 84, 18, -7], dtype=int16), array([  7,   5,   4, ..., -14, -10,  -6], dtype=int16), array([ 8,  6,  2, ..., 28, 36, 39], dtype=int16), array([-7,  0,  0, ..., 32, 20, 16], dtype=int16), array([ 3,  2,  2, ..., 17, 15, 13], dtype=int16), array([-6,  3,  0, ..., 22, 24, 24], dtype=int16), array([  1,   0,   7, ..., -10,  -6,  -1], dtype=int16), array([ 5, -2,  1, ..., 18, 30, 36], dtype=int16), array([-27, -26, -24, ...,   1,  -9,  -9], dtype=int16), array([108, -55, -44, ..., -20, -10, -51], dtype=int16), array([ 24,  29,  34, ..., -13,  -4,   3], dtype=int16), array([195,  70, -18, ...,  12,   9,  13], dtype=int16), array([  7,  11,  18, ..., -40, -33, -30], dtype=int16), array([-4, -2,  3, ...,  0,  0,  8], dtype=int16), array([-37, -44, -45, ..., -25, -11,  -9], dtype=int16), array([-15, -17, -15, ..., -10,  -6, -15], dtype=int16), array([-3, -3, -2, ..., 11, 16, 13], dtype=int16), array([-23, -19, -22, ..., -33, -24, -16], dtype=int16), array([-22, -19, -19, ...,   1,   7,   2], dtype=int16), array([ 0,  1,  2, ...,  7, 11, 11], dtype=int16), array([-23, -20, -19, ...,  16,  14,   9], dtype=int16), array([-14, -12, -13, ...,  18,  16,  10], dtype=int16), array([ 8, 10, 18, ..., -5, -1, -6], dtype=int16), array([257, 389, 363, ...,   8,  21,  23], dtype=int16), array([22, 18, 17, ..., -7, -5,  3], dtype=int16), array([ -37, -115, -125, ...,   17,   18,   16], dtype=int16), array([ 218,   -9, -172, ...,   10,  -21,  -79], dtype=int16), array([-36, -43, -36, ...,   4,  24,  21], dtype=int16), array([3, 0, 1, ..., 5, 1, 1], dtype=int16), array([-79, -30, -45, ...,  49,  42,  28], dtype=int16), array([-16, -17, -15, ...,  -7,  -8,  -2], dtype=int16), array([145,  51, -31, ...,   1,   2,   5], dtype=int16), array([-69, -31,  -6, ...,  42,  63,  66], dtype=int16), array([ -28,  -47,  -40, ...,   -3, -113, -186], dtype=int16), array([-151,  -39,  105, ...,   28,   27,   19], dtype=int16), array([374, 325,  55, ..., -27, -26, -22], dtype=int16), array([  85, -220,  -88, ...,   17,  -15,  -20], dtype=int16), array([-4, -2,  1, ...,  4,  0,  1], dtype=int16), array([ 4,  1,  3, ..., 21, 12,  6], dtype=int16), array([ -2,  -1,  -5, ..., -20, -18, -27], dtype=int16), array([13, 12,  9, ..., -2,  0, -3], dtype=int16), array([ -4,  -5,  -2, ..., -30, -32, -22], dtype=int16), array([ -8,  -8,  -9, ..., -10,  -6,  -8], dtype=int16), array([-39, 101,  58, ..., -28, -23, -20], dtype=int16), array([-1, -1, -3, ..., 20, 14, 11], dtype=int16), array([ 0,  6,  4, ..., -3,  4,  1], dtype=int16), array([-20, -27, -17, ...,  13,   4, -38], dtype=int16), array([-10, -14, -17, ..., -12,  -5,   3], dtype=int16), array([-13,  -3,   2, ...,  -1,   7,  13], dtype=int16), array([ 97, 100, 100, ...,  15,   9,  -8], dtype=int16), array([ -6,  -4,   0, ..., -30, -39, -31], dtype=int16), array([ 9, 11, 14, ..., -7, -6, -3], dtype=int16), array([ 20,  15,  18, ..., -21, -18, -24], dtype=int16), array([ 16,  14,  12, ...,  40, -12, 101], dtype=int16), array([ 3,  4,  5, ..., 41, 47, 50], dtype=int16), array([ -7,  -8, -13, ...,  -6, -13, -21], dtype=int16), array([-29, -20, -21, ...,   3,   1,   5], dtype=int16), array([-1, -7,  0, ...,  8, -3, -7], dtype=int16), array([  5,   6,   1, ..., -21, -30, -21], dtype=int16), array([-29, -30, -34, ...,  18,  22,  24], dtype=int16), array([  5,   1,  -1, ..., -18, -18, -20], dtype=int16), array([-10,  -7,  -4, ..., -13, -10,  -7], dtype=int16), array([-9, -3, -2, ..., 12, 13, 12], dtype=int16), array([ 0,  3,  2, ..., 15, 27, 33], dtype=int16), array([-14,  11,  54, ...,  -7, -15,   4], dtype=int16), array([ -5,  -6,  -5, ..., -13, -11, -10], dtype=int16), array([-129,   41,   98, ...,    9,   14,    5], dtype=int16), array([-13,  -9,  -7, ...,  -7,  -7, -13], dtype=int16), array([56, 45, 34, ..., -8,  0,  2], dtype=int16), array([-43,   0,  56, ...,  49,  41,  41], dtype=int16), array([-33, -32, -41, ...,  -3,  24, -34], dtype=int16), array([  2,   5,  -3, ..., -21, -21, -18], dtype=int16), array([ 151, -118,   -9, ...,   -5,   19,   13], dtype=int16), array([ 0,  6, 10, ..., 14, -4, 39], dtype=int16), array([ -1,   0,  -1, ..., -29,  16,  17], dtype=int16), array([ 12,  15,  19, ..., -35, -36, -27], dtype=int16), array([-137,   32,   74, ...,   -3,  -10,  -10], dtype=int16), array([ -2,  -2,   0, ...,  62,   1, -58], dtype=int16), array([ 124,   19, -123, ...,   25,   25,   22], dtype=int16), array([-20, -16, -14, ..., -11, -13, -13], dtype=int16), array([-48,   7,  83, ...,  26,  15,   9], dtype=int16), array([-25, -25, -23, ..., -25, -28, -33], dtype=int16), array([-15,  25, -36, ..., -11,   3,  11], dtype=int16), array([ 7,  8,  9, ...,  4, 10,  9], dtype=int16), array([-18, -17, -16, ...,  90,  73,  65], dtype=int16), array([  7,   2,   4, ...,   1, -33, -41], dtype=int16), array([-16, -18, -17, ...,  -5,   2,   0], dtype=int16), array([ -8,  -7, -12, ...,  52,  50,  55], dtype=int16), array([-25, -14, -19, ...,  45,  24,  13], dtype=int16), array([ 2,  4,  2, ..., 38, 54, 22], dtype=int16), array([-202, -273, -148, ...,    3,   11,    5], dtype=int16), array([-7, 12, 18, ..., 30, 28, 25], dtype=int16), array([-6, -2,  1, ..., -7,  5, 16], dtype=int16), array([-1,  1, -4, ..., -6, -8, -9], dtype=int16), array([ 22,  20,  18, ..., -10, -13,  -8], dtype=int16), array([-2, 31, 25, ...,  8, 21,  0], dtype=int16), array([ 19,  19,  19, ..., -11, -13,  -1], dtype=int16), array([ 25,  23,  17, ...,  70,  99, 115], dtype=int16), array([-11,  -3,  -1, ..., -16, -13,  -4], dtype=int16), array([ -4,   0,  -2, ..., -17, -14,  -8], dtype=int16), array([  -1,  126, -141, ...,    5,   20,    5], dtype=int16), array([-24, -28,   9, ...,  -3,  -4,   5], dtype=int16), array([-16, -19, -15, ..., -73, -49, -38], dtype=int16), array([ 24, 102, -87, ...,  -9,  -9, -15], dtype=int16), array([-4, -2,  0, ..., 33, 33, 33], dtype=int16), array([ -5,  -7, -15, ...,   6,   6,  50], dtype=int16), array([ -2,  -6, -11, ...,  -2,  -1,   7], dtype=int16), array([-57, -25, -56, ..., -49, -38, -28], dtype=int16), array([10, 11, 14, ..., 19, 18, 13], dtype=int16), array([ 0,  0,  7, ...,  9, 20, 18], dtype=int16), array([ 1, 14, 18, ...,  6,  0,  1], dtype=int16), array([-35, -38, -34, ..., -10, -10,  -8], dtype=int16), array([  2,  10,  16, ...,  -8,  -2, -13], dtype=int16), array([-6, -3, -1, ...,  1,  4,  6], dtype=int16), array([305, 283, 192, ..., -25, -31, -26], dtype=int16), array([123, 161, 101, ...,   5,  35,  49], dtype=int16), array([-12,  -9, -10, ...,  -7,  -4,   0], dtype=int16), array([ 1,  0,  0, ..., -1,  1,  5], dtype=int16), array([  0,   3,   3, ..., -11,  -2,   8], dtype=int16), array([ 39,  40,  32, ..., -36, -59, -35], dtype=int16), array([15, 16, 15, ...,  0, -9, -8], dtype=int16), array([-10, -15, -13, ..., -40, -32, -28], dtype=int16), array([  0,  12,   9, ..., -30, -17,   1], dtype=int16), array([-32, -37, -42, ...,  16,  13,  10], dtype=int16), array([-5,  3, -6, ..., -9,  3,  0], dtype=int16), array([ 17,  18,  21, ..., -10,  25,  45], dtype=int16), array([  7,   6,  -3, ...,  26, -12, -63], dtype=int16), array([ 47, -89, 125, ...,  20,  30,  24], dtype=int16), array([-14,  -1,   0, ...,   0,  -4,   1], dtype=int16), array([43, 42, 41, ..., 33, 32, 38], dtype=int16), array([-53, -22,   0, ...,   8,   2,   2], dtype=int16), array([-67, -70, -70, ...,   7,   8,  13], dtype=int16), array([307, 391,   5, ...,  30,  32,  17], dtype=int16), array([19, 20, 19, ..., 23, -2,  5], dtype=int16), array([-11, -11, -14, ...,   9,   3,   0], dtype=int16), array([  1,   4, -11, ...,  16,   1,   8], dtype=int16), array([ 15, -59, -82, ...,  23,  18,  14], dtype=int16), array([  0,   3,   0, ...,  66, -14, -24], dtype=int16), array([-5, -7, -7, ...,  5,  0,  0], dtype=int16), array([ 4,  7, 10, ..., 16, 25, 21], dtype=int16), array([-48, -46, -39, ...,  -6, -89,  -4], dtype=int16), array([ 4,  2,  5, ..., 33, 26, 16], dtype=int16), array([  4,   4,   4, ...,  33, -16,  -5], dtype=int16), array([  4,   7,  13, ..., -12,  -4,   0], dtype=int16), array([ -2,   0, -15, ...,  32,  34,  38], dtype=int16), array([-16, -11,  -7, ..., -17, -20, -21], dtype=int16), array([15, 22, 18, ..., 39, 41, 35], dtype=int16), array([ 2,  3,  7, ..., 20, 23, 36], dtype=int16), array([-10, -13, -15, ...,  41,  43,  34], dtype=int16), array([-87, -27,  42, ...,  -5, -17, -24], dtype=int16), array([-21, -12, -30, ...,   0,  -1,   1], dtype=int16), array([176, 213, 261, ...,  -4,   0,   8], dtype=int16), array([166, 177,  96, ...,  24,  19,  14], dtype=int16), array([-62, 106,  99, ...,  36,  29,  28], dtype=int16), array([ -9, -12,  -8, ...,   6,  26,  -5], dtype=int16), array([ 19,  24,  25, ...,  20,  -8, -24], dtype=int16), array([-99, 126, 244, ..., -20, -17, -22], dtype=int16), array([ 150,   52, -123, ...,    2,    0,    4], dtype=int16), array([-15, -18, -15, ..., -12, -32, -39], dtype=int16), array([ 264,  119, -103, ...,  -11,   -3,    0], dtype=int16), array([-29, -35, -37, ...,  -8,   0,  -6], dtype=int16), array([  65,   20, -286, ...,  -22,  -25,  -28], dtype=int16), array([ -14, -123,  -64, ...,   -8,   11,   10], dtype=int16), array([10, 11, 12, ..., -1, -7, -8], dtype=int16), array([ 15, -14, -12, ...,  20,  18,  11], dtype=int16), array([  9,   4,   9, ..., -71, -59, -52], dtype=int16), array([-30, -36, -35, ...,  13,  20,  19], dtype=int16), array([-59, -43, -40, ...,  30,  30,  27], dtype=int16), array([ 0,  0, -1, ..., 19, 23, 11], dtype=int16), array([ 18,  62, 194, ..., -35, -35, -31], dtype=int16), array([  0,   9,  11, ..., -43, -43, -35], dtype=int16), array([ 1,  0, -1, ..., -9,  0, -5], dtype=int16), array([-2,  2,  8, ...,  0, -3, -1], dtype=int16), array([  5,   7,  -1, ..., -34, -26, -23], dtype=int16), array([ 1, -1, -2, ..., -2,  0,  0], dtype=int16), array([-2,  0,  2, ..., 64, 52, 48], dtype=int16), array([12,  7,  9, ...,  8,  2, -1], dtype=int16), array([  -6,   -6,   -2, ..., -159,  -49,   42], dtype=int16), array([ 17,  12,  13, ...,  -5, -18, -27], dtype=int16), array([ 33, -63, -69, ...,  25,  27,  22], dtype=int16), array([ -4,   0,   3, ..., -13, -14,  -6], dtype=int16), array([ 32,  33,  28, ...,  11,  -5, -22], dtype=int16), array([-32, -25, -30, ...,   1,   9,  16], dtype=int16), array([22, 21, 23, ..., 15, 10,  0], dtype=int16), array([-24, -26, -25, ...,   4, -20, -24], dtype=int16), array([-1, -8, -7, ..., 15, 17, 20], dtype=int16), array([-10,  -7,  -7, ..., -10,  -6,   0], dtype=int16), array([-24, -23, -18, ...,   7, -23, -20], dtype=int16), array([51, 58, 57, ..., 26, 18,  8], dtype=int16), array([-6, -7, -5, ...,  0,  1, -3], dtype=int16), array([-9,  0, -1, ..., 18, 19,  5], dtype=int16), array([196, 306,  25, ...,  13,   7,   5], dtype=int16), array([ 52,  52, 106, ..., -42, -32, -27], dtype=int16), array([ -9,  -5,  -5, ..., -11,  -2,  -1], dtype=int16), array([ -84, -110,  -22, ...,    0,    3,    9], dtype=int16), array([-31,  35,  68, ..., -47, -51, -56], dtype=int16), array([-16, -16, -17, ...,   5,   8,   3], dtype=int16), array([ 52,  58, 156, ...,   7,  -3,  -1], dtype=int16), array([ -56, -111,  -49, ...,   -7,   -7,   -1], dtype=int16), array([-142, -238, -149, ...,   -2,    9,   21], dtype=int16), array([4, 3, 9, ..., 8, 8, 8], dtype=int16), array([-2, -4, -2, ..., 31, 26, 11], dtype=int16), array([ -1,  -2,  -2, ..., -10, -13, -13], dtype=int16), array([-44, -51, -55, ...,   4,   3,   2], dtype=int16), array([-27, -14, -14, ..., -26, -37, -49], dtype=int16), array([-3,  4,  5, ..., -9,  3,  6], dtype=int16), array([18, 15, 19, ..., -8, 10, 11], dtype=int16), array([ 71,  94,  63, ...,  -8, -15,  -3], dtype=int16), array([  0,   0,   2, ...,  -5, -14, -13], dtype=int16), array([-13, -11, -14, ...,  19,  42,  36], dtype=int16), array([-42, -36, -28, ...,  46,  45,  39], dtype=int16), array([-105, -146, -165, ...,   21,   17,   17], dtype=int16), array([-22, -65, -54, ...,  -4,  -7,  -3], dtype=int16), array([  1,   4,   4, ..., -26, -13,   0], dtype=int16), array([15, 12, 12, ..., -7,  1, 19], dtype=int16), array([-22, -17, -18, ...,  13,   6,  -2], dtype=int16), array([-3,  0,  8, ..., -6,  7, 11], dtype=int16), array([ -3, -26, -15, ..., -51, -16,  27], dtype=int16), array([-53, -49, -54, ..., -39, -38, -24], dtype=int16), array([-10,  -8,  -4, ...,  34,  21,  15], dtype=int16), array([-26, 191,  75, ..., -49, -20, -18], dtype=int16), array([-1, -3, -1, ...,  1,  0,  1], dtype=int16), array([ 6,  5, -3, ..., 14, 13,  5], dtype=int16), array([ 4,  1,  8, ..., 36, 72, 68], dtype=int16), array([-18, -20, -26, ...,  21,   9,   4], dtype=int16), array([277, 234,   1, ...,  -3, -16, -25], dtype=int16), array([-2, -3, -4, ..., -6, -3, -4], dtype=int16), array([180, 184, 125, ...,  -4,  -3,  -9], dtype=int16), array([-47, -79, -90, ...,  -2, -29, -28], dtype=int16), array([ 4,  0,  0, ..., 27, 24, 22], dtype=int16), array([-12, -10, -10, ...,  82, -14,  30], dtype=int16), array([-17,  -5,  -4, ...,   8,  -8, -40], dtype=int16), array([-40, -46, -48, ...,  -2,   3,   4], dtype=int16), array([12, 12, 16, ...,  3,  1,  6], dtype=int16), array([-43,   7,  -8, ...,   0,  13,  11], dtype=int16), array([ 17,  20,  19, ..., -24,  -4, -37], dtype=int16), array([  8, 148,   5, ...,  -3,   0,  -1], dtype=int16), array([-1, -8, -4, ...,  5,  6, 10], dtype=int16), array([ 21,  14,   8, ..., -34, -24, -40], dtype=int16), array([ 4,  9,  7, ..., 26, 16,  8], dtype=int16), array([ 37,  39,  28, ..., -20, -24, -26], dtype=int16), array([ -6,  -6,  -4, ...,  -7,  -7, -12], dtype=int16), array([ -4,  -4,  -6, ..., -33, -33, -31], dtype=int16), array([-14, -13,  -7, ...,  10,   1,  15], dtype=int16), array([ 176, -163,  160, ...,    2,    6,    3], dtype=int16), array([ -21,  -59, -102, ...,  -30,  -16,  -14], dtype=int16), array([-47, -48, -30, ...,  15,  22,  20], dtype=int16), array([33, 35, 31, ..., 11,  5,  1], dtype=int16), array([-4,  0,  0, ..., 16, 11,  9], dtype=int16), array([ 20,  24,  18, ...,  13,  42, -44], dtype=int16), array([-143,   84,  146, ...,  -15,  -11,   -9], dtype=int16), array([-16, -17,  -8, ..., -41, -28, -33], dtype=int16), array([ 6, 17, 20, ...,  9, 19, 12], dtype=int16), array([-6, -3, -1, ..., 18, 23, 24], dtype=int16), array([15, 19, 20, ...,  3,  2,  1], dtype=int16), array([  7,   6,   1, ..., -84, -80, -75], dtype=int16), array([1, 2, 2, ..., 2, 1, 1], dtype=int16), array([-33, -30, -31, ...,  18,  16,  26], dtype=int16), array([ -2,  -4,   4, ..., -10,   0,   1], dtype=int16), array([ 20,   6,  27, ...,  -2, -24, -29], dtype=int16), array([-13, -12, -16, ...,   2,   2,   4], dtype=int16), array([  3,   4,   0, ..., -24, -14, -19], dtype=int16), array([-60, -22,   4, ..., -33, -20, -22], dtype=int16), array([ -8, -21, -29, ...,  -2,  -3,  -5], dtype=int16), array([ 13,  15,  14, ..., -13, -13,  -7], dtype=int16), array([-28, -25, -19, ...,  -1,   5,  -1], dtype=int16), array([-149,  -32,   84, ...,  -35,   12,   39], dtype=int16), array([232, 142,  56, ..., -24, -16,  -4], dtype=int16), array([ 1,  0,  0, ...,  6, 11, 13], dtype=int16), array([ -7,  -9, -10, ..., -10,  -5, -11], dtype=int16), array([-42, -28,  70, ..., -14, -16, -24], dtype=int16), array([-30, -32, -22, ..., -12, -12, -13], dtype=int16), array([ -8,  -6,  -5, ..., -14, -25, -27], dtype=int16), array([  7,   6,   5, ..., -11, -15,  -8], dtype=int16), array([-61, -42,  -6, ..., -52, -39, -32], dtype=int16), array([ 100, -234, -173, ...,   17,   29,   15], dtype=int16), array([ -42, -127, -139, ...,  -60,  -76,  -57], dtype=int16), array([ 8, 19,  3, ...,  2,  2,  1], dtype=int16), array([ 22,  15,  13, ..., -54, -62, -35], dtype=int16), array([ 96, 133,  58, ...,  36,  47,  44], dtype=int16), array([-61, -20, -12, ..., -24, -23,  -5], dtype=int16), array([-14,  -7, -13, ...,  24,  21,  21], dtype=int16), array([125,  16, -32, ..., -32, -26, -22], dtype=int16), array([ 45,  48,  49, ..., -18,  -3,  53], dtype=int16), array([-130,  -75,   -1, ...,  -26,  -24,  -23], dtype=int16), array([-29, -34, -41, ..., -48, -35, -30], dtype=int16), array([-13, -10, -10, ...,  12,  12,   6], dtype=int16), array([-120,  -39,   78, ...,   16,   13,   19], dtype=int16), array([ 1,  0, -9, ...,  7, 10, 14], dtype=int16), array([118,  36, -71, ...,  -9, -17, -11], dtype=int16), array([19,  9,  8, ..., -4, 10, 16], dtype=int16), array([5, 4, 2, ..., 5, 0, 3], dtype=int16), array([-131,   72,  218, ...,   23,   27,   26], dtype=int16), array([-15, -21, -29, ...,  -1,  -6,  32], dtype=int16), array([  2,   1,   2, ..., -31, -33, -30], dtype=int16), array([-13,  -6,   2, ..., -14,  23,  47], dtype=int16), array([15, 16, 16, ..., 45, 47, 42], dtype=int16), array([  8,  33,   3, ..., -31,  -5,  24], dtype=int16), array([ 28,  20,  13, ..., -23, -35, -45], dtype=int16), array([ 80, -33, -51, ...,  -5,  -4,  -2], dtype=int16), array([24, 24, 23, ..., 41, 58, 25], dtype=int16), array([-10,   0,   0, ..., -14, -22, -22], dtype=int16), array([ -9,  -7,  -6, ..., -31,  21,   6], dtype=int16), array([-70, -81, -62, ...,  -7,  -1,  -3], dtype=int16), array([-6,  2,  6, ..., 14, -6, -6], dtype=int16), array([ 22,  29,  17, ..., -35, -16, -49], dtype=int16), array([-4, -5, -4, ..., -1, -5, -2], dtype=int16), array([62, 80, 92, ..., 11,  0, 20], dtype=int16), array([ -6,  -4, -11, ...,   5, -11, -25], dtype=int16), array([-11,  -9,  -4, ..., -21, -24, -24], dtype=int16), array([-22, -20, -17, ..., -13, -19, -17], dtype=int16), array([11,  9, 11, ..., 30, 37, 30], dtype=int16), array([ 0, -2, -3, ...,  1, -8, -8], dtype=int16), array([10, 13,  4, ..., 20, 21, 13], dtype=int16), array([-1,  2,  5, ..., 14, 10,  4], dtype=int16), array([-17, -14, -11, ...,   5,   7,   6], dtype=int16), array([-14, -12, -11, ...,  29,  26,  29], dtype=int16), array([ 22,  12,  15, ..., -13,  -5,   0], dtype=int16), array([27, 22, 22, ..., -1,  2,  8], dtype=int16), array([ -5, -10, -10, ...,  20,  20,  22], dtype=int16), array([-15, -17, -28, ...,  50,  48,  57], dtype=int16), array([34, 31, 24, ...,  5,  3,  4], dtype=int16), array([-1, 31, 28, ..., 17, 18, 15], dtype=int16), array([ 21,  17,  17, ...,   3,  -2, -10], dtype=int16), array([ 10,   5, -18, ...,   0,  -7,  58], dtype=int16), array([ 7,  6,  5, ..., 28, 33, 35], dtype=int16), array([-19,  -8,  -3, ..., -12, -31,   0], dtype=int16), array([-54, -82,  -4, ...,   6,  11,  14], dtype=int16), array([ -8, -17, -21, ...,  -7, -19, -12], dtype=int16), array([  2,   0,  -1, ..., -16,  -8, -14], dtype=int16), array([  97, -136,   -6, ...,  -12,  -17,  -19], dtype=int16), array([15, 12, 18, ..., 22, 12, 24], dtype=int16), array([  3,   3,   1, ..., -13, -15, -13], dtype=int16), array([  2,   1,   0, ..., -44,  -9,   8], dtype=int16), array([ 4, 16, 19, ...,  0, 14, 23], dtype=int16), array([  0,   0,   0, ..., -50, -72, -79], dtype=int16), array([-4,  6, 15, ...,  1,  0, -4], dtype=int16), array([  0,   0,  -1, ..., -15, -20, -25], dtype=int16), array([ 0,  6,  7, ..., 20, 18, 13], dtype=int16), array([ -5,  72, 129, ...,  48,  39,  49], dtype=int16), array([ -37,   30,   90, ...,  -19, -129, -218], dtype=int16), array([ 12,  12,   8, ..., -10, -23,  10], dtype=int16), array([97, 95, 92, ..., 14, 19, 11], dtype=int16), array([-21,  -8,  14, ..., -19, -20, -21], dtype=int16), array([20, 31, 32, ...,  7,  1,  1], dtype=int16), array([-13,  65,  94, ..., -11, -36, -22], dtype=int16), array([ 1,  0, -4, ..., 14, 19, 22], dtype=int16), array([  2,   4,  13, ..., -25, -25, -29], dtype=int16), array([  4, -75,  39, ...,  12,   0,  12], dtype=int16), array([16,  8,  8, ...,  9,  4, -8], dtype=int16), array([ 4, 23, -3, ..., -2,  8, -7], dtype=int16), array([ 0, -4, -2, ..., 25, 24, 18], dtype=int16), array([  8,   6,   1, ...,   0, -25, -50], dtype=int16), array([-111, -306, -211, ...,  -83,  -72,  -62], dtype=int16), array([-11,  63,  59, ...,  16,  11,   1], dtype=int16), array([-222, -303, -253, ...,    3,   -4,  -19], dtype=int16), array([10, 11, 19, ..., 49, 51, 46], dtype=int16), array([-13,  -6,  -5, ..., -18, -21, -13], dtype=int16), array([ 13,  13,  11, ..., -32, -23,  -5], dtype=int16), array([  9,  10,  13, ..., -52, -36, -38], dtype=int16), array([-21,   0,  -6, ...,  -4, -16, -23], dtype=int16), array([-23,  34, -10, ...,  10,  10,   7], dtype=int16), array([ -7, -15, -10, ...,  18,  18,  16], dtype=int16), array([-151, -131,  -99, ...,   19,   25,   22], dtype=int16), array([10,  9,  2, ..., -6, 11, 23], dtype=int16), array([-23, -27, -30, ...,  43,  28,  34], dtype=int16), array([ 6,  3,  2, ..., 12, 14, 16], dtype=int16), array([  3,   0,   0, ...,  -5, -12,  -7], dtype=int16), array([ 14, -10, -48, ..., -15, -15,  -9], dtype=int16), array([  9,   0,  -3, ...,  91, -23, -26], dtype=int16), array([ 25,  28,  30, ..., -34, -38, -36], dtype=int16), array([-53, -42, -10, ...,   3,  12,  15], dtype=int16), array([9, 6, 7, ..., 3, 1, 7], dtype=int16), array([  0,   2,   1, ..., -28, -22, -35], dtype=int16), array([ 13,  11,  11, ..., -24, -28, -30], dtype=int16), array([12,  7,  0, ..., 27, 32, 24], dtype=int16), array([ 22,  23,  23, ..., -21, -17,  -8], dtype=int16), array([ 295,   70, -205, ...,   40,   44,   46], dtype=int16), array([-22, -11,  10, ...,  11,   5,   0], dtype=int16), array([-73, -49,  -7, ...,   0,  -3,   0], dtype=int16), array([ 0, -2, -6, ..., 14, 10, -3], dtype=int16), array([230,  87, -23, ..., -13,  -3, -21], dtype=int16), array([-22, -26, -21, ..., -21, -10,  -9], dtype=int16), array([75, 77, -3, ...,  1, -6, -6], dtype=int16), array([ 15,  21,   8, ...,  18,  -8, -21], dtype=int16), array([ 1,  3, -4, ..., -9, -2, -2], dtype=int16), array([-12, -26, -38, ..., -40, -35, -25], dtype=int16), array([ -9,  -8, -11, ...,   4,  -2,   0], dtype=int16), array([ -32, -115,    1, ...,    1,   -3,   -5], dtype=int16), array([ 7,  8, 58, ..., -6,  8, 12], dtype=int16), array([-8, -7, -9, ..., 10,  8,  6], dtype=int16), array([-23,  33,  55, ..., -14, -12, -11], dtype=int16), array([ 69,  76, -49, ...,  44,  46,  44], dtype=int16), array([ 179,   27, -172, ...,    7,   -9,  -22], dtype=int16), array([  1,  -3, -19, ...,   0,  -3,   0], dtype=int16), array([52, 38, 24, ..., 19, 24, 25], dtype=int16), array([13, 14, 11, ..., 16, 15, 14], dtype=int16), array([177,  10, -60, ..., -33, -45, -30], dtype=int16), array([ 88, 126,  20, ..., -36, -34, -39], dtype=int16), array([-28,  13,   5, ..., -24, -23, -21], dtype=int16), array([-12, -14, -11, ..., -34, -29, -26], dtype=int16), array([ 14,  -4, -64, ...,  13,   9,   7], dtype=int16), array([-4, -5, -4, ..., -1, -1, -2], dtype=int16), array([-10,  -6,  -6, ...,   9,   3,   0], dtype=int16), array([-87, -54, -44, ...,  19,  14,   9], dtype=int16), array([-6, -1,  1, ...,  8, 15, 14], dtype=int16), array([ 2,  3,  2, ...,  3, -3, -2], dtype=int16), array([ -6,   1,  -6, ...,   6, -12, -14], dtype=int16), array([32, 37, 37, ..., 29, 42, 34], dtype=int16), array([-15, -19, -17, ...,  23,   5,   9], dtype=int16), array([ -1,  -2,  -1, ...,   7, -10, -25], dtype=int16), array([-1,  0, -1, ..., 25, 30, 24], dtype=int16), array([104, 116,  77, ...,  17,  13,  13], dtype=int16), array([15, 10,  9, ..., 26, 19, 23], dtype=int16), array([ 43,  47,  45, ..., -32, -36, -41], dtype=int16), array([ 57,   7,   0, ..., -28, -30, -23], dtype=int16), array([ -60, -188, -171, ...,   -6,   -5,    0], dtype=int16), array([ 8,  9,  4, ..., -5, -8,  1], dtype=int16), array([  2,   0,   6, ..., -12,  -7,  -4], dtype=int16), array([-10,  -7,  14, ..., -22, -25, -16], dtype=int16), array([-32, -37, -39, ...,  14,  -2,   9], dtype=int16), array([160, 114, -75, ...,  32,  35,  29], dtype=int16), array([  6,   7,  10, ..., 103, 219, 235], dtype=int16), array([-47, -50, -43, ...,  -2,   5,  18], dtype=int16), array([ 4,  1,  0, ..., 26, 22, 13], dtype=int16), array([  7,   7,  13, ..., -27, -18,  -7], dtype=int16), array([ -7,  -2,   1, ...,  19, -15,  -7], dtype=int16), array([158, 194, 115, ...,  -2,   0,   4], dtype=int16), array([ -9, -10, -22, ...,   0,   1,   6], dtype=int16), array([  0,   0,   0, ...,  18,  24, -12], dtype=int16), array([ 6, 19, 36, ..., 25, 24, 25], dtype=int16), array([ 8, 16, 16, ..., 16, 22, 26], dtype=int16), array([-38, -42, -43, ...,   1,  -2,   3], dtype=int16), array([-130, -133, -120, ...,  -15,   -7,   24], dtype=int16), array([ -8, -13,  -7, ...,  36,  42,  37], dtype=int16), array([ 0, -3, -3, ..., 25, 25, 31], dtype=int16), array([-19, -95, -84, ...,  -2,  -1,   0], dtype=int16), array([ 14,  19,  17, ...,  22,  -8, -17], dtype=int16), array([-14, -13, -18, ...,  17,  28,  36], dtype=int16), array([-114, -122,  -59, ...,  -31,  -27,  -22], dtype=int16), array([ 36,   9,  -8, ...,  16,  23, -17], dtype=int16), array([ 6,  5,  4, ..., 35, 27, 22], dtype=int16), array([-15, -15, -12, ...,  24,  26,  13], dtype=int16), array([-78, -73, -63, ..., -28, -22,  -4], dtype=int16), array([-13, -15, -13, ...,  33,  30,  31], dtype=int16), array([110, 113, 108, ...,  30,  10,  13], dtype=int16), array([-2, -5, -5, ..., 33, 42, 46], dtype=int16), array([ -13, -124, -170, ...,  -37,  -41,  -74], dtype=int16), array([128,  94, -10, ...,   4,   1,  12], dtype=int16), array([ 15,  30,   8, ...,  -4,  -8, -11], dtype=int16), array([-20, -19, -22, ...,   9,  13,  16], dtype=int16), array([ -8,  -7,  -6, ...,  -7,  -8, -14], dtype=int16), array([ -21, -132, -241, ...,  -15,  -17,  -20], dtype=int16), array([360, 237,  34, ..., -35, -37, -45], dtype=int16), array([ 24,  32,  26, ...,  -4, -10, -20], dtype=int16), array([ 34,  37,  48, ...,  -3,  -4, -17], dtype=int16), array([-45, -20, -48, ...,  13,   7,   2], dtype=int16), array([-12, -15, -14, ...,  26,  23,  31], dtype=int16), array([-21, -22, -25, ...,  25,  28,  27], dtype=int16), array([  0,  -1, -20, ...,   3,   3,   1], dtype=int16), array([  6,   9,   4, ..., -35, -21, -11], dtype=int16), array([  3,  -8,  -6, ..., -20, -33,  10], dtype=int16), array([-17, 103, 154, ...,  30,  35,  34], dtype=int16), array([-219,  148, -173, ...,    1,    9,   14], dtype=int16), array([ 8,  7, 11, ...,  8,  2, -4], dtype=int16), array([-11,  -9,  -5, ..., -19, -21, -15], dtype=int16), array([ -2,  -1,   0, ..., -25, -33, -30], dtype=int16), array([19, 20, 20, ..., 17,  7,  0], dtype=int16), array([ 41, -83,  -4, ...,  -7,  -4,  -6], dtype=int16), array([  9,   9,  10, ..., -20,  -9, -24], dtype=int16), array([ -9, -15, -22, ...,  18,  11,  -9], dtype=int16), array([20, 18, 24, ..., 60, 61, 49], dtype=int16), array([-82, -82, -20, ..., -25, -28, -12], dtype=int16), array([ 1, 35, 50, ...,  9, 13, 14], dtype=int16), array([ -6, -16, -22, ..., -66, -54, -47], dtype=int16), array([ 8, 24, -3, ..., 15, 20, 19], dtype=int16), array([ 0,  1,  0, ..., -7, 25, 40], dtype=int16), array([44, 52, 43, ..., 15, 44, 12], dtype=int16), array([14, 13, 14, ..., 79, 65, 60], dtype=int16), array([ 44, 283, 321, ...,  26,  19,  26], dtype=int16), array([-2, -2,  0, ..., -8, -7, -8], dtype=int16), array([35, 33, 26, ..., 13, 11, 25], dtype=int16), array([-141, -162, -156, ...,   -6,  -15,   -7], dtype=int16), array([35, 27, 13, ..., 11,  7, -1], dtype=int16), array([-8, 34, 58, ...,  2,  0, -3], dtype=int16), array([ 31,  29,  17, ..., -51, -21, -46], dtype=int16), array([ 25, 122, -67, ...,  -1,   0,   2], dtype=int16), array([-4, 27,  8, ..., 16, 23, 31], dtype=int16), array([ 5,  5, 13, ...,  4,  0,  7], dtype=int16), array([-17, -26, -29, ...,   0,  40,  25], dtype=int16), array([ -1, -12, -11, ...,   8,   6,   4], dtype=int16), array([-37,  30,  81, ...,  34,  38,  33], dtype=int16), array([-21, -19, -20, ..., -13, -13, -14], dtype=int16), array([-22, -21, -14, ...,  25,  23,  15], dtype=int16), array([-35, -28, -30, ...,   2,  20,  18], dtype=int16), array([-173, -147,  -17, ...,   -1,    2,    8], dtype=int16), array([11, 11,  3, ...,  9, 14,  9], dtype=int16), array([ 80,  80,  82, ..., -24, -19, -15], dtype=int16), array([106, 127,  61, ...,   6,   9,  35], dtype=int16), array([-84,  28,  49, ...,   3,   7,   4], dtype=int16), array([-24, -21, -18, ...,   9,   2,  -7], dtype=int16), array([47, 44, 60, ..., 12, 12, 10], dtype=int16), array([ -8,  -7, -10, ..., -20, -10,   3], dtype=int16), array([160, 148, 146, ..., -52, -60, -55], dtype=int16), array([-41, -36,   0, ...,   3,   7,   8], dtype=int16), array([-1, -1, -3, ...,  7, 14, 30], dtype=int16), array([15,  4,  9, ..., 14, 25, 17], dtype=int16), array([-2,  0, -1, ..., 11,  5, -2], dtype=int16), array([ 0, -4, -7, ..., 15, 17, 12], dtype=int16), array([499, 507,  52, ..., -60,  18,  15], dtype=int16), array([-38, -36, -29, ...,  29,   9,  -2], dtype=int16), array([ 6,  4,  7, ..., 55, 59, 65], dtype=int16), array([-9, -4, -6, ..., 33, 31, 28], dtype=int16), array([-23,  17,  36, ...,  14,  12,  12], dtype=int16), array([  3,   1,   3, ..., -14,  -9,  -1], dtype=int16), array([ 9,  4,  3, ..., 10, 17, 15], dtype=int16), array([-10, -10,  -2, ...,  29,  -4,  17], dtype=int16), array([ -7,   0,  -2, ..., -59, -55, -49], dtype=int16), array([-19, -28, -20, ...,  16,  31, -15], dtype=int16), array([-60,  55,  22, ...,  19,  12,  22], dtype=int16), array([11,  7,  7, ..., 21, 10,  6], dtype=int16), array([-13, -15, -12, ...,  24,  24,  34], dtype=int16), array([117, 189,   8, ...,   9,   2,  -5], dtype=int16), array([-12, -17, -19, ...,  40,  57,  71], dtype=int16), array([  0,   0,  -5, ..., -19, -26, -27], dtype=int16), array([-25, -25, -23, ..., -14, -18, -13], dtype=int16), array([ 8,  3,  8, ..., 60, 79, 90], dtype=int16), array([109,  66, -64, ..., -68, -65, -61], dtype=int16), array([-105,  -42,   14, ...,  -13,   -8,   -2], dtype=int16), array([   1,    0,   -2, ..., -129,  125,  -62], dtype=int16), array([ 7,  7,  7, ..., 43, 43, 49], dtype=int16), array([-25, -22, -14, ...,  38,  29,  30], dtype=int16), array([ 62,  61,  62, ..., -48, -51, -42], dtype=int16), array([-210,   85,  139, ...,   -5,   -2,    1], dtype=int16), array([-8, -4, -2, ..., 81, 66, 28], dtype=int16), array([ -5,  -8, -10, ...,   3,   3,   0], dtype=int16), array([ 13,  23,  18, ..., -13, -15, -10], dtype=int16), array([11,  3, 13, ...,  9,  7,  0], dtype=int16), array([ -3,  -6,  -6, ..., -16, -17,  -9], dtype=int16), array([ 15,  15,  15, ..., -16, -21, -15], dtype=int16), array([132, 213, 129, ...,  21,  29,  25], dtype=int16), array([  7,   1,  -2, ..., -50, -48, -38], dtype=int16), array([ -7, -13, -11, ...,  15,  22,  37], dtype=int16), array([-39, -43,   0, ..., -31, -30, -20], dtype=int16), array([-62,  -4,  75, ...,  12, -10, -21], dtype=int16), array([-2, -3, -3, ..., 25, 14, 14], dtype=int16), array([ -86, -105,   -9, ...,    2,  -22,  -17], dtype=int16), array([ -8, -15, -16, ...,  -6,  47,  65], dtype=int16), array([15, 18, 19, ..., 38, 35, 32], dtype=int16), array([-1, -3, -7, ..., 10,  6,  0], dtype=int16), array([-93, -77, -19, ...,  16,  15,   9], dtype=int16), array([177, 222, 261, ...,  -1,  10,  10], dtype=int16), array([ -11, -173,  -91, ...,   19,   20,   14], dtype=int16), array([22, 22, 17, ..., -1,  8,  7], dtype=int16), array([ 215, -157, -363, ...,  -35,  -24,  -23], dtype=int16), array([19, 17, 17, ..., 64, 70, 69], dtype=int16), array([26, 25, 23, ..., 21, 17,  7], dtype=int16), array([ -1,   0,  -7, ..., -60, -59, -53], dtype=int16), array([  0,  -2,   0, ..., -10,  -1,  -3], dtype=int16), array([ 11,  15,  23, ..., -62, -27,  39], dtype=int16), array([ 13,  12,  14, ..., -25, -18, -14], dtype=int16), array([28, 34, 26, ..., 47, 44, 35], dtype=int16), array([ 71,  77,  36, ..., -12,   9,  38], dtype=int16), array([ 0,  0, -3, ..., 31, 17, 17], dtype=int16), array([-15, -16, -17, ..., -46,  24,  57], dtype=int16), array([15, 16,  9, ..., 24, 32, 29], dtype=int16), array([ 38,  30,  20, ..., -24, -29, -27], dtype=int16), array([ 5,  6, 12, ..., 12, 26, 18], dtype=int16), array([203, 179,  69, ...,  48,  56,  52], dtype=int16), array([ 25, -14, -57, ..., -39, -33, -32], dtype=int16), array([  5,   0,  -2, ...,   0,  -4, -15], dtype=int16), array([  1, 146,  99, ..., -37, -38, -36], dtype=int16), array([ 75, 111,  85, ...,  30,  17,  24], dtype=int16), array([-222, -214, -202, ...,   16,   11,   -6], dtype=int16), array([13, 18, 14, ..., 21, 28, 24], dtype=int16), array([ 57,  23,  52, ...,  -4,  -4, -10], dtype=int16), array([-42,  -2, -16, ...,  -8,  -3,  -2], dtype=int16), array([-1, -1, -2, ...,  2,  8, 11], dtype=int16), array([ 0,  0, -2, ...,  1, -2,  4], dtype=int16), array([ -6, -12, -11, ...,  42,  38,  29], dtype=int16), array([  0, -62, -90, ..., -23,  39,  60], dtype=int16), array([  0,   0,  -8, ..., -21, -17, -16], dtype=int16), array([  0,  -1,  -3, ...,   0,  -8, -12], dtype=int16), array([-11, -10, -12, ..., -33, -53,  -7], dtype=int16), array([  3,   5,   7, ..., -27, -31, -28], dtype=int16), array([11,  9,  6, ...,  8, 12,  2], dtype=int16), array([-4, -1,  4, ..., 25, 11, 12], dtype=int16), array([31, 29, 27, ..., 15, 21,  8], dtype=int16), array([ -4,  -2,  -2, ..., -29, -27, -37], dtype=int16), array([  9,  11,  15, ...,  50, -42, -73], dtype=int16), array([-11,  -1,  10, ...,   7,   2,   1], dtype=int16), array([ 68, -23, -28, ..., -15, -28, -31], dtype=int16), array([ 9,  8,  7, ...,  4, 12, 24], dtype=int16), array([-96, -48,  -7, ...,  15,   1,  12], dtype=int16), array([ 12,  13,  12, ..., -18, -21, -25], dtype=int16), array([ 47, 230, 319, ...,  -4,  -9, -20], dtype=int16), array([34, 49, 51, ..., 17,  8, -1], dtype=int16), array([-44, -15,  68, ..., -30, -31, -26], dtype=int16), array([-16,  -1,  -8, ..., -10, -13,  -1], dtype=int16), array([-4, -5, -3, ..., 11,  8,  7], dtype=int16), array([-14, -13, -18, ...,  27,   4,   4], dtype=int16), array([-10,  -1,  -3, ...,  -9, -24, -33], dtype=int16), array([  5,   2,   7, ..., -20, -19, -19], dtype=int16), array([ 104, -124,  109, ...,    8,    9,   17], dtype=int16), array([ 31,  34, -52, ...,  33,  47,  41], dtype=int16), array([ 30, -50, -13, ...,   7,  38,  21], dtype=int16), array([-118, -128, -131, ...,   61,   71,   72], dtype=int16), array([ 15,  10,  17, ..., -36, -28, -25], dtype=int16), array([  8,   6,  10, ..., -16, -11,  -4], dtype=int16), array([21, 21, 19, ..., 23, 29, 26], dtype=int16), array([ -6,  -5,  -3, ..., -33, -37, -28], dtype=int16), array([-100,  -77,   27, ...,   -2,    5,    5], dtype=int16), array([-125,    2,  177, ...,    9,   26,   40], dtype=int16), array([ 12,  14,  15, ...,  -9, -11,  -7], dtype=int16), array([ -7, -14, -14, ..., -39,  15,  75], dtype=int16), array([ 3,  5,  4, ...,  2,  0, 29], dtype=int16), array([ 48, -46,  -8, ..., -20, -15,  10], dtype=int16), array([-13, -75, -78, ...,  -2,   0,   3], dtype=int16), array([-7,  5, 14, ...,  8,  8,  4], dtype=int16), array([ -1, -12,  -4, ...,   0,  -4,   0], dtype=int16), array([-217,  332, -305, ...,  -11,  -16,  -15], dtype=int16), array([  9,  10,   7, ..., -43, -40, -42], dtype=int16), array([-12,  -7,  -7, ...,  23,  17,  10], dtype=int16), array([ -2,   0,   0, ..., -23, -35,   0], dtype=int16), array([  3,   2,   2, ..., -13,   0,   0], dtype=int16), array([ 7,  6,  9, ..., 15, 14,  0], dtype=int16), array([-82, -72,  49, ...,  11,   4,   2], dtype=int16), array([-22, -17, -10, ..., -22, -17, -23], dtype=int16), array([201, 209,  75, ...,  11, -49, -52], dtype=int16), array([-11, -11, -10, ..., -28, -25, -16], dtype=int16), array([-180, -209, -270, ...,    8,    5,    8], dtype=int16), array([93, 85, 80, ..., -1, -5, -9], dtype=int16), array([-10, -12, -13, ..., -31, -27, -16], dtype=int16), array([ 8, 11, 16, ...,  2,  7,  3], dtype=int16), array([-20, -17, -18, ...,  -9, -32, -29], dtype=int16), array([ -4,  -1, -13, ..., -27, -24, -33], dtype=int16), array([-1, -3, -5, ..., -6, -4,  3], dtype=int16), array([ 14,  24,  18, ..., -31, -40, -38], dtype=int16), array([-3, -5,  0, ..., -9, -4,  3], dtype=int16), array([-22, -30, -31, ..., -10, -14, -16], dtype=int16), array([ -5, -47, -84, ...,  31,  34,  29], dtype=int16), array([   0, -153, -273, ...,    0,    3,    2], dtype=int16), array([-5, -5, -4, ..., 11, -5, -5], dtype=int16), array([ 6,  1,  6, ...,  1,  9, 11], dtype=int16), array([ 7,  6, 12, ..., 48, 45, 34], dtype=int16), array([  1,   4,   5, ..., -32, -42, -36], dtype=int16), array([-54, -58,  84, ..., -11,  14,  -1], dtype=int16), array([ 19,   8,   5, ...,  -9, -10,  -5], dtype=int16), array([  1,   0,  -2, ..., -55, -49, -46], dtype=int16), array([-19, -16, -17, ..., -50, -40,  -5], dtype=int16), array([ 246,  199, -245, ...,   36,   31,   28], dtype=int16), array([ 5,  7, 19, ..., 19, 30, 41], dtype=int16), array([-21, -26, -23, ...,   8,   4,   0], dtype=int16), array([  2,   2,  -5, ...,   6,  -9, -49], dtype=int16), array([ -3,  -5,  -3, ..., -14, -14, -14], dtype=int16), array([-7, -6, -7, ...,  3,  3,  8], dtype=int16), array([-15, -12,  -8, ...,  58,  49,  46], dtype=int16), array([ 39, -16, -61, ...,  -7, -11, -12], dtype=int16), array([-7, -3, -1, ..., 31, 34, 28], dtype=int16), array([-63, -31,  27, ...,  -3,  -3,   0], dtype=int16), array([  2,   0,  -2, ..., -43, -45, -47], dtype=int16), array([-52, -29,  18, ...,  -8, -11, -15], dtype=int16), array([22, 15, -9, ...,  1,  3,  2], dtype=int16), array([  7,   9,   7, ..., -29, -27, -23], dtype=int16), array([ 8, 13, 12, ...,  0,  0, -2], dtype=int16), array([3, 0, 0, ..., 5, 1, 0], dtype=int16), array([ 7, 11,  9, ..., 48, 49, 38], dtype=int16), array([19,  4,  3, ..., 11, 12, 18], dtype=int16), array([ 1,  0,  2, ..., -8, -3, -3], dtype=int16), array([14,  2,  6, ..., 29, 24, 22], dtype=int16), array([-94, -73, -11, ...,   1, -33, -85], dtype=int16), array([68, 37, 27, ..., 19, 20, 17], dtype=int16), array([ -9, -81, -73, ..., -44, -44, -41], dtype=int16), array([13, 17, 22, ..., 73, 76, 71], dtype=int16), array([ 14,  19,  18, ..., -21, -22, -21], dtype=int16), array([15, -3, -2, ..., 27, 34, 25], dtype=int16), array([-28, -32, -34, ...,   0,  -7,  -4], dtype=int16), array([ -7, -15, -16, ..., -13, -17,  -4], dtype=int16), array([-52, -40, -47, ...,  -6, -51, -12], dtype=int16), array([-5, -3, -8, ..., 29, 36, 21], dtype=int16), array([ 24,   2, -19, ...,  13,  24,  27], dtype=int16), array([ 0,  1,  0, ..., 16, 94, 84], dtype=int16), array([119,  33, -40, ..., -10,  -8,  -6], dtype=int16), array([-270, -189,   54, ...,    3,   -6,  -12], dtype=int16), array([  5,   6,  11, ...,  69,  13, -61], dtype=int16), array([-22, -29, -27, ...,  30,  38,  43], dtype=int16), array([ 146, -270, -486, ...,   -1,   -1,   -2], dtype=int16), array([-20, -12,  -9, ...,  -6,  -4,  -7], dtype=int16), array([31, 25, 19, ..., 16, 30, 34], dtype=int16), array([ 52,   8, -27, ..., -14,  21,  13], dtype=int16), array([  0,  -2,  -3, ..., -28, -20, -23], dtype=int16), array([ -30,   -8, -214, ...,  -15,  -37,  -58], dtype=int16), array([-30, -72,  -1, ..., -10,  -3,  14], dtype=int16), array([ -2, -13,  -2, ...,   0,   2,  -2], dtype=int16), array([ -7,  -4,  -5, ...,   0, -15,  20], dtype=int16), array([-32, -34, -28, ...,   7,  16,  23], dtype=int16), array([ 1,  2,  0, ..., 72, 75, 70], dtype=int16), array([ 32,  30, -10, ...,   6,  -1,   3], dtype=int16), array([ 0,  2,  7, ..., 24, 24, 28], dtype=int16), array([  2,   2,   9, ..., -20, -23, -17], dtype=int16), array([ 21,  22,  20, ...,  -4,  -7, -12], dtype=int16), array([ 0,  1,  0, ..., 65, 59, 45], dtype=int16), array([ 30, 105, 149, ..., -17, -15, -18], dtype=int16), array([330, 192,   9, ..., -24, -18,  -4], dtype=int16), array([ -49, -216, -228, ...,   28,   22,   45], dtype=int16), array([10, 10, 10, ...,  7, 18, 28], dtype=int16), array([ 0,  2, 19, ...,  4,  5, -1], dtype=int16), array([-70,  -9,  91, ...,   3,   5,   5], dtype=int16), array([-49, -43, -59, ...,  17,   2,   0], dtype=int16), array([  0,  -2,  -7, ..., -25, -23, -16], dtype=int16), array([-22, -19, -15, ...,  11,  12,   9], dtype=int16), array([ 5,  5, -2, ..., 11, 23, 19], dtype=int16), array([ -1,  -6,  -9, ..., -19, -16, -17], dtype=int16), array([ 22, -75,  89, ...,  16,  12,   9], dtype=int16), array([ 2,  1,  4, ..., 37, 37, 35], dtype=int16), array([-1,  3,  9, ...,  7, 33, 13], dtype=int16), array([ -19,  -16,  -11, ..., -310, -109,   94], dtype=int16), array([-1, 12, 38, ..., -5, -4, -7], dtype=int16), array([-2,  0,  1, ..., -4,  0, 10], dtype=int16), array([ -6,  -9, -10, ...,  -7,  -2,   1], dtype=int16), array([-3,  0,  1, ..., 21, 22, 15], dtype=int16), array([ -4,  -6,   0, ..., -55,   7,  90], dtype=int16), array([-218,  101,  -83, ...,   24,   10,    0], dtype=int16), array([-221, -139,   68, ...,  -12,  -17,  -18], dtype=int16), array([-21, -19, -17, ...,  12,   3,  -7], dtype=int16), array([ 12,   8,  12, ..., -16, -14, -18], dtype=int16), array([-59, -53, -49, ...,  -5,   0,  13], dtype=int16), array([ 0,  5,  3, ...,  3,  0, -4], dtype=int16), array([-26, -28, -31, ..., -44, -44, -54], dtype=int16), array([ 0,  1,  4, ..., 18, 19, 22], dtype=int16), array([343, -64, -93, ..., -43, -29, -23], dtype=int16), array([  2,   2,   2, ..., -16, -28, -33], dtype=int16), array([18, 24, 28, ..., -2,  0, -8], dtype=int16), array([-10, -10, -15, ..., -41, -43, -47], dtype=int16), array([ 1,  0,  2, ...,  0,  0, -9], dtype=int16), array([  71,  120, -113, ...,    3,   -3,    0], dtype=int16), array([15, 14,  9, ..., -3, -2, 10], dtype=int16), array([ -7,  -8, -10, ...,  13,  18,  22], dtype=int16), array([10,  8,  0, ..., 34, 34, 24], dtype=int16), array([ 18,  20,  17, ...,  -9, -13,  -8], dtype=int16), array([ -8, -10,  -8, ...,   1,   2,  -4], dtype=int16), array([-61, 161, 368, ...,  55,  45,  80], dtype=int16), array([-10, -10,  -6, ...,  17,  11,  22], dtype=int16), array([  2,   0,  -1, ..., 109,  87,  81], dtype=int16), array([  6,   6,   5, ...,  -4, -15, -20], dtype=int16), array([ -21,  -87, -334, ...,   40,   30,   21], dtype=int16), array([-78, -25, -46, ...,   6, -13,  -7], dtype=int16), array([-18, -22, -22, ...,  21,  24,  13], dtype=int16), array([  0,  -2,   2, ..., -43, -48, -34], dtype=int16), array([ -2,   0,  -1, ..., -40, -34, -43], dtype=int16), array([ -8, -12, -11, ...,   3,  21,  12], dtype=int16), array([-29, -27, -23, ...,  -6,  -5,   1], dtype=int16), array([-35, -37, -35, ...,  36,  44,  49], dtype=int16), array([ 24,  24, -22, ...,   2,   9,  12], dtype=int16), array([-32, -20, -16, ..., -65, -57, -59], dtype=int16), array([-2,  0,  0, ..., 12, 13, 22], dtype=int16), array([ 20,  13,  15, ..., -38, -37, -19], dtype=int16), array([-188, -175, -182, ...,   43,   13,   27], dtype=int16), array([  0,   5,   5, ...,  -2,  -1, -13], dtype=int16), array([ 11,   7,   8, ..., -11,   3,   3], dtype=int16), array([ 32,  30,  23, ...,  -3, -10, -12], dtype=int16), array([-14, -22, -22, ...,  81,  75,  72], dtype=int16), array([ -6, -12, -12, ..., -20, -24, -25], dtype=int16), array([-72, -84,   0, ..., -55, -53, -55], dtype=int16), array([ 24,  34, -11, ...,  18,   8,  -5], dtype=int16), array([ -3,  13,  21, ..., -11, -11, -10], dtype=int16), array([-222, -161,  -41, ...,   45,   35,   32], dtype=int16), array([36, 25, 21, ..., -5, 10,  9], dtype=int16), array([ 10,   5,   0, ..., -29,  -9,   2], dtype=int16), array([-25, 119, 229, ..., -22,  -7,  -5], dtype=int16), array([-49, -79, -48, ...,  -3, -30, -53], dtype=int16), array([  6,  13, -40, ...,  36,  33,  23], dtype=int16), array([ -7, -11, -10, ..., -43, -54, -52], dtype=int16), array([ 54, 141,  22, ..., -29, -37, -38], dtype=int16), array([ 125, -156,    2, ...,   77,   12,  -41], dtype=int16), array([ 3,  2,  1, ..., -3, 26, 38], dtype=int16), array([ 78,  50,  18, ..., -33, -35, -30], dtype=int16), array([-48, -47, -51, ..., -30, -27, -10], dtype=int16), array([ 0,  3,  6, ..., 19, 19, 22], dtype=int16), array([ 58, 147, -27, ...,  42,  40,  46], dtype=int16), array([ 4,  0,  3, ...,  6,  6, 15], dtype=int16), array([109,  64, -52, ...,   8,   2,   4], dtype=int16), array([-7, -7,  0, ..., 45, 44, 47], dtype=int16), array([  3,   5,   8, ..., -37, -78, -67], dtype=int16), array([317,  21, -60, ...,  -8,  -8,  -5], dtype=int16), array([ 53,  55,  47, ..., -26, -24, -25], dtype=int16), array([-10,  -8,  -1, ...,   4,  -2, -15], dtype=int16), array([-34, -38, -38, ...,  21,  20,  25], dtype=int16), array([ -3,  -1,   2, ..., -44, -36, -23], dtype=int16), array([ 340,  -71, -206, ...,   18,   20,   17], dtype=int16), array([-156, -236,  -54, ...,   10,   14,   18], dtype=int16), array([ -30, -116,  -52, ...,   -1,  -11,  -14], dtype=int16), array([ 0,  0, -3, ..., -2, -1, -7], dtype=int16), array([ -76,  -90, -115, ...,   -3,    3,    7], dtype=int16), array([ 149,   13, -525, ...,   -4,  -18,  -39], dtype=int16), array([ -5,   0,  -1, ..., -26, -30, -33], dtype=int16), array([ 12,  11,  20, ...,   1, -17,  -2], dtype=int16), array([-22, -18, -23, ...,  19,  27,  19], dtype=int16), array([ 1,  3,  1, ..., 11, 28, 53], dtype=int16), array([ 10,  59, -37, ...,   9,  18,  46], dtype=int16), array([-154, -132,  -84, ...,   15,   13,    6], dtype=int16), array([  4,   4,   2, ...,  61,  -3, -97], dtype=int16), array([-178,  -34,    0, ...,   37,   33,   26], dtype=int16), array([16, 11, 10, ..., 46, 26, 22], dtype=int16), array([ -95, -268,   -4, ...,   65,   40,   35], dtype=int16), array([  4,   2,   3, ..., -17, -16, -15], dtype=int16), array([23, 26, 23, ..., -3, -4, -1], dtype=int16), array([ 11, -45, -79, ...,   1,   6,   9], dtype=int16), array([ 65,  65,  67, ..., -82, -73, -76], dtype=int16), array([-157, -204, -350, ...,  -16,  -28,  -21], dtype=int16), array([13,  9, 11, ...,  9, 10,  8], dtype=int16), array([ -6,  -6,  -7, ...,  -6,   0, -17], dtype=int16), array([ 1,  5,  8, ..., 34, 32, 40], dtype=int16), array([-15, -15, -20, ...,   5,  -4,  34], dtype=int16), array([-1,  0,  2, ..., 26, 26, 21], dtype=int16), array([  1,   1,   6, ..., -10,  -9, -17], dtype=int16), array([  1, -83, 115, ...,  18,  20,  13], dtype=int16), array([  2,  -2,  -8, ..., -15,   5,  -3], dtype=int16), array([-124,  -65,   27, ...,  -13,  -11,  -20], dtype=int16), array([-11, -11,  -4, ...,  31,  36,  41], dtype=int16), array([ 37,  39,  33, ...,  -6,  -4, -13], dtype=int16), array([-19, -28, -29, ..., -22, -24, -16], dtype=int16), array([ -5,  -4,   0, ..., -12,  -9,  -9], dtype=int16), array([ -3,  -3,  -5, ..., -12, -15, -12], dtype=int16), array([ 7,  4, -2, ..., 17, 17, 15], dtype=int16), array([ 10,  57, 105, ..., -34,  37,  20], dtype=int16), array([ 26,  29,  29, ...,  -1, -10, -12], dtype=int16), array([42, 27, 91, ..., 44, 41, 36], dtype=int16), array([ 55,  50,  44, ..., -14,  -4,  -5], dtype=int16), array([-24, -22, -24, ...,  10, -10, -53], dtype=int16), array([ 28,  37,  29, ..., -12, -23,  -8], dtype=int16), array([-87, -94, -82, ...,  25, -13, -41], dtype=int16), array([13, 13,  6, ..., -2,  5,  0], dtype=int16), array([-6, -2,  5, ..., -2, 12,  8], dtype=int16), array([-7, -5, -8, ...,  3, 26, 25], dtype=int16), array([ 3, 10, 20, ..., 10,  6,  7], dtype=int16), array([-79, -47,  29, ...,  -1,  -6,  -5], dtype=int16), array([-34,  13,  45, ...,  -2,  -4,   0], dtype=int16), array([ 46,   4, -70, ..., -30, -30, -30], dtype=int16), array([ 1,  4, 11, ..., 19, 23, 13], dtype=int16), array([-27, -29, -25, ...,   1,   0,  12], dtype=int16), array([17, 21, 26, ...,  9, 10, 20], dtype=int16), array([ -38, -110,    0, ...,    8,   36,   41], dtype=int16), array([ 72, 136, 121, ...,  19,  -4, -27], dtype=int16), array([20, 15, 11, ..., -3, 10, 15], dtype=int16), array([ 84,   6, -95, ..., -18, -20, -29], dtype=int16), array([ 12,  -9, -13, ...,   3,   1,   0], dtype=int16), array([-38,  -8,   1, ...,   9,   9,   5], dtype=int16), array([-1, -1, -2, ...,  0,  0, -3], dtype=int16), array([ -6, -53, -46, ...,  13,  23,  29], dtype=int16), array([-147,   76,  290, ...,  -10,   -6,  -17], dtype=int16), array([-36, -52, -48, ...,  65,  64,  56], dtype=int16), array([-10, -13, -17, ...,   3,   7,  11], dtype=int16), array([-19, -15,   0, ...,  -2,   8,   4], dtype=int16), array([ -9, -11, -13, ...,  31,  22,   3], dtype=int16), array([ 1,  0,  0, ...,  2, 17, 27], dtype=int16), array([ -9, -10, -12, ...,  -7, -32, -27], dtype=int16), array([148,  54, -85, ...,   0, -28, -41], dtype=int16), array([  59,  -91, -119, ...,   60,   64,   28], dtype=int16), array([ -5,  -9,  -2, ..., -15, -12,  -5], dtype=int16), array([ 35,  28,  20, ...,  11,   3, -12], dtype=int16), array([-20, -14,  -8, ...,   3,  -2, -39], dtype=int16), array([-22, -23, -24, ..., -48, -54, -34], dtype=int16), array([-28, -31, -54, ...,  19,  13,   7], dtype=int16), array([-14,  -7, -10, ...,   0,  -8, -10], dtype=int16), array([  7,  49, -53, ..., -11,  -9,  -8], dtype=int16), array([ 21,  24,  31, ..., -13, -11, -15], dtype=int16), array([ -31,   13,   42, ..., -174, -159,  -60], dtype=int16), array([-9, -3,  0, ..., 25, 15, 13], dtype=int16), array([ 4,  0, -3, ..., 60, 33, 19], dtype=int16), array([  5,   4,   8, ..., -34, -33, -39], dtype=int16), array([ -8, -14, -22, ...,   0,  -4,   3], dtype=int16), array([ -5, -13,  -7, ..., -65, -50,  27], dtype=int16), array([-155,  -38,   35, ...,  -31,  -31,  -29], dtype=int16), array([-5,  0, -2, ..., 24, 21, 23], dtype=int16), array([ 36,  43,  39, ..., -40, -47, -45], dtype=int16), array([-52, -58, -51, ...,  25,  69,  67], dtype=int16), array([ 19, -21, -24, ...,  -8, -27, -12], dtype=int16), array([ -8,  -7,  -8, ..., -23, -29, -24], dtype=int16), array([ -3,  -4, -13, ...,  20,  23,  12], dtype=int16), array([  8,   8,  11, ...,   3, -23, -21], dtype=int16), array([-79, -37,   2, ...,  32,  30,  26], dtype=int16), array([ -1,   3,   0, ...,  23,   9, -10], dtype=int16), array([  8,   6,   7, ..., -18, -20, -25], dtype=int16), array([ -3,  -7, -10, ...,   5,   5,   9], dtype=int16), array([-15, -16,  -7, ...,   8,  12,   9], dtype=int16), array([ -5,  -5,   3, ..., -22, -21, -17], dtype=int16), array([ 1,  4,  5, ..., 15, 22, -5], dtype=int16), array([25, 23, 63, ..., 47, 45, 45], dtype=int16), array([ 2, -1,  0, ..., 24, 26, 27], dtype=int16), array([140,  83, -22, ...,  -1,  -7,   0], dtype=int16), array([  2,   2,   2, ..., -20,  16,  48], dtype=int16), array([ 67, -51, -33, ...,   0,  -3, -22], dtype=int16), array([-6, -5, -4, ...,  0, -2, -1], dtype=int16), array([-41, -34, -31, ...,  21,  21,  20], dtype=int16), array([-18, -13,  -7, ...,   6,   4,   9], dtype=int16), array([-1, -1, -6, ..., 37, 35, 30], dtype=int16), array([ 56, -46,  96, ..., -22, -21, -12], dtype=int16), array([-17,   4, -15, ...,   1,  -5,  -4], dtype=int16), array([ 11,   1, -13, ..., -14, -18, -26], dtype=int16), array([ -14, -109,  -34, ...,    2,   -3,    9], dtype=int16), array([  8,  16,  -5, ..., -41, -30, -13], dtype=int16), array([ 7, 37, -5, ..., 37, 40, 38], dtype=int16), array([ 15,  20,  20, ..., -26, -19,  96], dtype=int16), array([ -2,   5,   3, ..., -19, -25, -28], dtype=int16), array([14, 11,  3, ..., 68, 64, 48], dtype=int16), array([  2,  -4, -12, ...,  18,  18,  17], dtype=int16), array([ 16,  11,   6, ...,  -9, -22, -19], dtype=int16), array([-4, -5, -6, ..., -5, -6, -4], dtype=int16), array([ 44, 146, 110, ..., -11, -14, -10], dtype=int16), array([ 0,  2,  1, ...,  6, 16, 24], dtype=int16), array([-123, -176,   91, ...,   38,   35,   36], dtype=int16), array([ 79, -48,  38, ..., -22, -20, -21], dtype=int16), array([-12, -13, -18, ...,  33,  30,  34], dtype=int16), array([ 101, -290,  269, ...,   11,   -8,  -23], dtype=int16), array([ -7, -11, -16, ..., -11,  -2, -11], dtype=int16), array([-23, -22, -15, ...,  11,  14,  12], dtype=int16), array([24, 23, 29, ...,  3,  0,  2], dtype=int16), array([12, 11, 11, ..., 10, 20, 21], dtype=int16), array([ 8,  8, 11, ...,  8, 22, 14], dtype=int16), array([ 57,   2, -64, ...,  -1,  -5, -11], dtype=int16), array([51, 45, 32, ..., 12,  4, 11], dtype=int16), array([ 4,  7, 11, ..., 44, 34, 10], dtype=int16), array([-46,  20, -27, ...,  44,  38,  33], dtype=int16), array([-10,  -8,  -5, ...,  36,  43,  38], dtype=int16), array([ -4,  -2,  -6, ..., -11,  -8, -12], dtype=int16), array([ -3, -10,  -3, ..., -15, -28, -24], dtype=int16), array([ 32,  29,  21, ..., -84, -74, -56], dtype=int16), array([14, 16, 13, ..., 52, 55, 46], dtype=int16), array([ 84,  41, -39, ...,   0,   4,   4], dtype=int16), array([-16, -25, -30, ..., -24, -43, -41], dtype=int16), array([-9, -1, -8, ..., 10, 15, 14], dtype=int16), array([-181,  -66,   96, ...,   14,    9,    1], dtype=int16), array([-14, -13, -12, ...,  10,  17,  19], dtype=int16), array([-14, -12,  -7, ...,   4,   1,  -8], dtype=int16), array([  7,  10,   7, ..., -10,   0,   3], dtype=int16), array([ 46,  34,  26, ..., -33, -31, -35], dtype=int16), array([11, 14, 13, ...,  7, 11, 14], dtype=int16), array([-21, -15,  -8, ...,  24,  24,  26], dtype=int16), array([-8, -4, -3, ..., 75, 63, 45], dtype=int16), array([47, 10, 34, ...,  1,  0,  6], dtype=int16), array([12, 10, 10, ..., -9, -6,  2], dtype=int16), array([ 36,  29,  36, ...,   0,  -4, -10], dtype=int16), array([-12, -11, -13, ...,   3,   0,   0], dtype=int16), array([  46, -151,  140, ...,   -8,   -7,  -14], dtype=int16), array([-19, -16, -12, ..., -16,  -6,  -4], dtype=int16), array([15, 13,  8, ..., -4, -2, -3], dtype=int16), array([ 1,  2,  0, ..., 29, 26, 21], dtype=int16), array([-24, -19, -18, ..., -11, -15,  -8], dtype=int16), array([  -5, -110,  -83, ...,    1,   -7,   -2], dtype=int16), array([ 36,  96, 110, ..., -13,  -4,   3], dtype=int16), array([-24, -16, -21, ...,  -7,  14, -18], dtype=int16), array([ -2,  -1,   0, ...,   0, -10, -10], dtype=int16), array([-11, -13,  -5, ...,   9,   7,  16], dtype=int16), array([116, 127, 100, ...,  19,  14,   9], dtype=int16), array([195,  92,  26, ..., -32, -25, -39], dtype=int16), array([17, 12, 11, ..., 81, 73, 67], dtype=int16), array([-20, -12,  -6, ..., -23, -25, -25], dtype=int16), array([16, 20, 23, ...,  0,  2,  2], dtype=int16), array([ 0, -5, -7, ..., 42, 41, 40], dtype=int16), array([ 7,  4,  3, ..., 12,  6, -5], dtype=int16), array([-39, -44, -46, ...,  17,  12,  18], dtype=int16), array([16, 17, 16, ...,  2,  9, -4], dtype=int16), array([104,  14,  -2, ...,   2,   1,   0], dtype=int16), array([-11, -10, -13, ...,  43,  54,  64], dtype=int16), array([-30, -31, -29, ...,   2,   0,  11], dtype=int16), array([-70, 101,  86, ..., -17, -16, -14], dtype=int16), array([  44,  -62, -109, ...,   -3,  -27,   -3], dtype=int16), array([ 1,  0, -4, ...,  0, 10, 10], dtype=int16), array([ -4,  -5,  -2, ...,  -8, -10,  -8], dtype=int16), array([ 31, -30,   5, ...,  42,  20, -54], dtype=int16), array([-21, -21,  -8, ...,   8,   4,   4], dtype=int16), array([ 9,  5,  2, ..., 62, 73, 73], dtype=int16), array([ 20,  24, -23, ..., -51, -95, -78], dtype=int16), array([-41, -41, -44, ...,   3,  11,  12], dtype=int16), array([ -6,  -3,  -4, ...,  -4, -24, -17], dtype=int16), array([ -6,   8,  14, ..., -34, -38, -38], dtype=int16), array([-12, -13, -20, ..., -35, -26, -22], dtype=int16), array([44, 47, 33, ..., 25, 30, 29], dtype=int16), array([-334, -141,  339, ...,   -6,   -6,   -4], dtype=int16), array([-4, -1, -2, ...,  8,  0, -4], dtype=int16), array([ 93,  46, -18, ...,   1, -17, -18], dtype=int16), array([-4, -2, -3, ..., 12,  8, -3], dtype=int16), array([  0,   0,   0, ...,  -3, -12, -14], dtype=int16), array([  2,   0,   2, ..., -15, -24, -29], dtype=int16), array([-34, -36, -36, ...,  -5,   3,   6], dtype=int16), array([ 0, -2, -5, ..., 11,  7,  6], dtype=int16), array([ -1,  -2,   4, ...,  46, -16, -35], dtype=int16), array([ 22,  24,  25, ..., -27, -36, -36], dtype=int16), array([3, 3, 6, ..., 2, 3, 4], dtype=int16), array([-20,  -9,  -4, ...,  33,  48,  33], dtype=int16), array([-11, -12,  -8, ...,  11,   7,   7], dtype=int16), array([-410, -300,  -11, ...,    9,   49,   68], dtype=int16), array([-12, -10, -18, ...,  28,  19,  37], dtype=int16), array([-9, -2, -3, ..., 43, 21, -4], dtype=int16), array([-6, -4, -8, ..., 10, 10, 19], dtype=int16), array([-4, -8, -8, ..., 19, 26, 18], dtype=int16), array([  5,  15,  17, ...,   0,  -6, -12], dtype=int16), array([-40, -51, -53, ...,  -1,  -1,  -7], dtype=int16), array([147, 153, 155, ...,   5,  -1, -28], dtype=int16), array([-16, -12, -11, ..., -10,  27,  -4], dtype=int16), array([ 91, 179, 205, ...,  11, -34, -71], dtype=int16), array([  6,   1,  -2, ..., -64, -67, -68], dtype=int16), array([  1,   5,   6, ..., -28, -15, -12], dtype=int16), array([-8,  0, -3, ...,  9,  1, -2], dtype=int16), array([ -9,  -4,  11, ...,  -9, -11,  -3], dtype=int16), array([-15,  -5, -11, ...,  39,  43,  41], dtype=int16), array([  0,   0,  -4, ..., -14, -11,  -3], dtype=int16), array([-2, -4, -1, ..., 16, -9, -7], dtype=int16), array([ 20,  24,  19, ..., -38, -37, -35], dtype=int16), array([34, 42, 53, ...,  0, -7, -8], dtype=int16), array([-226, -536, -210, ...,  -17,  -15,  -16], dtype=int16), array([  0,   2,   1, ...,  -5,  -1, -10], dtype=int16), array([  1,   0,  -1, ...,   9, -48, -26], dtype=int16), array([14, 12, 14, ..., -2, -5, -7], dtype=int16), array([ 4,  2,  1, ..., -2, -2,  1], dtype=int16), array([ 0, -3, -3, ..., 15, 13,  7], dtype=int16), array([ 9, 16, 19, ..., 19, 24, 20], dtype=int16), array([-45, -30, -16, ...,  -1,  -3,  -5], dtype=int16), array([ 2,  0, -3, ..., -6, -4, -3], dtype=int16), array([-51, -32, -26, ...,  -4,  -3,  -4], dtype=int16), array([-138, -122, -101, ...,  -34,  -23,  -13], dtype=int16), array([ 28,  17,  12, ..., -24, -36, -22], dtype=int16), array([ 20,  20,  20, ..., -27, -72, -53], dtype=int16), array([ 18,  25,  23, ..., -28,  -3, -35], dtype=int16), array([ 32,  16,  63, ..., -37, -30, -30], dtype=int16), array([-84, 106, -88, ..., -23, -26, -24], dtype=int16), array([-7,  4,  2, ..., 19, 16,  9], dtype=int16), array([  95,   20, -176, ...,  -12,  -20,  -14], dtype=int16), array([-15, -20,  -9, ...,  -7, -16, -18], dtype=int16), array([ 5,  2, -6, ...,  1,  8, 16], dtype=int16), array([-20, -23, -20, ...,  11,   6,   8], dtype=int16), array([  8,   5,   8, ...,   4,  -6, -11], dtype=int16), array([13,  8,  6, ...,  0,  1,  3], dtype=int16), array([  0,   0,   0, ..., -11, -15, -13], dtype=int16), array([ -52,  -74,   29, ...,   50,  -52, -119], dtype=int16), array([-11, -12, -11, ...,  28,  32,  35], dtype=int16), array([ 5,  1,  0, ..., 28, 35, 35], dtype=int16), array([-20, -19, -28, ...,  -5,  -2,   1], dtype=int16), array([-8, -7, -7, ...,  8, 12, 10], dtype=int16), array([  0,   1,   0, ...,  -8, -13, -14], dtype=int16), array([ -6,  -1,   2, ...,   8, -11,   2], dtype=int16), array([-14,  46, 128, ...,   4, -12,  -8], dtype=int16), array([ 8, 11,  4, ...,  5, 37,  9], dtype=int16), array([ 0, -3, -1, ..., 30, 37, 29], dtype=int16), array([107, 110,  92, ..., -71, -94, -60], dtype=int16), array([  0,  -9, -11, ..., -28, -27, -33], dtype=int16), array([-17, -21, -23, ..., -66, -30,  45], dtype=int16), array([-26, -47, -81, ..., -23, -20, -23], dtype=int16), array([-26,   9,  71, ..., -62, -35,  -8], dtype=int16), array([ 1,  0,  0, ..., 33, 36, 20], dtype=int16), array([-21, -17, -18, ...,  -3,   0,   1], dtype=int16), array([ 23,  26,  24, ..., -18, -23, -17], dtype=int16), array([-10, -14, -19, ...,  23,  21,  18], dtype=int16), array([6, 8, 6, ..., 8, 9, 7], dtype=int16), array([-24,   2,  86, ...,  18,  16,   6], dtype=int16), array([-12, -22, -18, ..., -10,  -5,   0], dtype=int16), array([ 121,  -82, -224, ...,  -23,  -44,  -55], dtype=int16), array([ -24, -103, -153, ...,    8,    0,   10], dtype=int16), array([76, 76, 75, ..., 70, 76, 64], dtype=int16), array([  1,   0,   3, ...,  -2, -11,  -9], dtype=int16), array([-22, -19,  -8, ...,  86,  76,  58], dtype=int16), array([11,  7, 17, ..., 36, 28, 22], dtype=int16), array([-31, -38, -45, ...,   3,  -2,  -5], dtype=int16), array([-10,  -7,  -3, ...,  26,  16,  14], dtype=int16), array([ 45,  39,  10, ..., -33, -36, -31], dtype=int16), array([ 1, -3, -6, ..., 29, 18, 26], dtype=int16), array([-14, -11,  -5, ...,  -8,  -9,  -7], dtype=int16), array([ 33,  55, 135, ..., -32, -37, -42], dtype=int16), array([-9, -5, -5, ...,  3,  1,  5], dtype=int16), array([-82, -59,  30, ...,  -1,  -2,   3], dtype=int16), array([  4,   1,   5, ..., -37, -40, -43], dtype=int16), array([16, 20, 19, ..., 26, 23, 32], dtype=int16), array([-59, -11,  63, ...,  -4, -15, -23], dtype=int16), array([-2, -2,  0, ..., 38, 47, 27], dtype=int16), array([-5, -5, -6, ..., -1, -5, -1], dtype=int16), array([  0,  -3,  -2, ..., -13,  30, 100], dtype=int16), array([20, 20, 15, ..., 29, 33, 23], dtype=int16), array([ 16,  -3,  -3, ...,  54,  22, -23], dtype=int16), array([ 5,  0, -1, ..., -2,  1,  7], dtype=int16), array([ 3,  2,  0, ...,  7,  8, 14], dtype=int16), array([-13, -14, -20, ..., -56, -50, -49], dtype=int16), array([ -7,  -3,  -5, ..., -25,   0,  60], dtype=int16), array([-7, -8, -2, ..., 15, 16, 10], dtype=int16), array([-39, -20,  58, ...,  -3,   0,  -1], dtype=int16), array([  4,   8,   4, ...,   6,  -5, -21], dtype=int16), array([-1,  3,  4, ..., 10, 11,  5], dtype=int16), array([ -9,  -5,  -6, ..., -17, -10, -11], dtype=int16), array([-12,  -8,  -7, ...,  22,  22,  21], dtype=int16), array([-37, -77, -38, ...,   3,  -1,   0], dtype=int16), array([23, 28, 31, ...,  1, -1,  5], dtype=int16), array([24, 16, 38, ..., 16, 16, 15], dtype=int16), array([-105, -126, -136, ...,  -18,  -26,  -25], dtype=int16), array([ 0,  0,  1, ..., 45, 43, 28], dtype=int16), array([22, 26, 24, ...,  4,  9, 17], dtype=int16), array([  4,   3,   6, ..., -15, -16, -19], dtype=int16), array([-11, -12, -18, ...,  18,  18,  17], dtype=int16), array([-12, -10,  -3, ..., -42, -41, -39], dtype=int16), array([ -9,  -8,  -7, ..., -18, -32, -16], dtype=int16), array([ -1,   1,   1, ..., -21, -23, -23], dtype=int16), array([-46, -24,  56, ..., -21, -18,  -5], dtype=int16), array([-12, -80,  67, ..., -86, -64,  -9], dtype=int16), array([ 28, 171, 135, ...,  14,  15,  18], dtype=int16), array([-16, -17, -21, ...,  18,  14,   5], dtype=int16), array([23, 23, 19, ..., 27, 31, 37], dtype=int16), array([-1,  8, 17, ..., 18, 21, 17], dtype=int16), array([ -6, -13, -22, ..., -26,   6,  41], dtype=int16), array([ 13,  17,  23, ...,  -8, -18, -23], dtype=int16), array([ 2, 14, 37, ..., 29, 26, 20], dtype=int16), array([12, 11, 12, ..., 26, 22, 26], dtype=int16), array([-16, -16, -11, ..., -19, -12,  -7], dtype=int16), array([ -28, -117,  -36, ...,   33,   33,   32], dtype=int16), array([-26, -24, -21, ...,   5,  14,  13], dtype=int16), array([ 5, -1,  0, ...,  4, -2,  0], dtype=int16), array([-24,  12,  -5, ...,   3,  -3, -13], dtype=int16), array([ 8,  8,  4, ..., 59, 45, 38], dtype=int16), array([35, 35, 32, ..., 11, 10, 13], dtype=int16), array([-17, -17, -18, ...,  23,  44,  45], dtype=int16), array([-7, -9, -9, ..., 15, 14,  3], dtype=int16), array([-10, -17, -18, ...,   7,  12,   7], dtype=int16), array([-22, -18,  -9, ...,  14,  33,  -3], dtype=int16), array([-10, -12, -15, ...,  25,  31,  68], dtype=int16), array([-144, -203, -274, ...,   -3,   20,   19], dtype=int16), array([ 13,   9, -11, ...,  30,  32,  35], dtype=int16), array([72, 63, 60, ..., 20, 13,  8], dtype=int16), array([  2,   3,   2, ..., -19,  -8,  -9], dtype=int16), array([ 8,  7,  5, ..., 28,  7, -2], dtype=int16), array([-11, -19, -12, ..., -16, -15, -18], dtype=int16), array([27, 22, 16, ...,  4,  7,  2], dtype=int16), array([-145, -190, -136, ...,    3,    2,    0], dtype=int16), array([ -1, -13, -20, ...,  -1, -15, -12], dtype=int16), array([ -4,  -7,  -7, ..., -46, -49, -57], dtype=int16), array([ 25,  28,  26, ..., -41, -22, -17], dtype=int16), array([  5,  23, -15, ..., -10, -18, -28], dtype=int16), array([20, 22, 25, ...,  0,  0,  0], dtype=int16), array([ -4,  -4,   0, ..., -10, -10, -24], dtype=int16), array([-79, -80, -83, ...,   4,   5,  11], dtype=int16), array([-125,  -70,   18, ...,   35,   33,   30], dtype=int16), array([ 0,  3,  6, ..., -1, -6,  0], dtype=int16), array([ 4,  5,  2, ...,  3, -1, -2], dtype=int16), array([-141, -200, -125, ...,   30,   34,   38], dtype=int16), array([ -7,  -8,  -8, ...,   3, -25, -33], dtype=int16), array([ 0,  1,  2, ..., -1, -2,  0], dtype=int16), array([ 33,  83,  25, ..., -18, -13, -15], dtype=int16), array([35, 28, 27, ..., 28, 32, 36], dtype=int16), array([  3,   0,  -1, ...,   0, -15, -13], dtype=int16), array([40, 31, 26, ...,  8,  4, 11], dtype=int16), array([12,  6,  7, ..., -4, -2,  0], dtype=int16), array([ 1,  6,  1, ..., 24, 17, 19], dtype=int16), array([  3, -22, -28, ..., -51, -38, -29], dtype=int16), array([  2, -37, -15, ..., -10,   9, -51], dtype=int16), array([ 12,  17,  27, ..., -11,   4, -18], dtype=int16), array([52, 50, 48, ...,  2,  1,  5], dtype=int16), array([ 31,  55,  69, ...,  -7, -15, -18], dtype=int16), array([-3, -5, -3, ..., 42, 41, 35], dtype=int16), array([-1, -4,  0, ..., 13,  0, -8], dtype=int16), array([12, 10, 10, ..., -5,  3,  1], dtype=int16), array([  7,   6,   6, ..., -14, -20, -11], dtype=int16), array([ 24,  29,  28, ..., -11, -14, -15], dtype=int16), array([38, 38, 37, ...,  5,  5,  4], dtype=int16), array([  5,   5,   0, ..., -33,  14,  40], dtype=int16), array([ 9, 14, 24, ..., 62, 65, 69], dtype=int16), array([ 76,  99, 102, ...,   1,   9,  11], dtype=int16), array([ 8, 14, 14, ..., -6, -5, -5], dtype=int16), array([-11,  -9,  -7, ..., -26, -23, -12], dtype=int16), array([-542, -244, -424, ...,  -29,  -25,  -24], dtype=int16), array([-158,  108,  274, ...,  -27,  -18,   -9], dtype=int16), array([ 11,  13,  16, ..., -25, -27, -24], dtype=int16), array([40, 35, 29, ...,  4,  0,  2], dtype=int16), array([ 2,  4,  7, ..., 29, 34, 44], dtype=int16), array([32, 30, 20, ..., 27, 33, 26], dtype=int16), array([ 1,  1,  3, ..., -7, 10, 15], dtype=int16), array([-19, -22, -21, ...,   7,  -3, -44], dtype=int16), array([  -7,  109, -242, ...,   31,   30,   25], dtype=int16), array([ 4,  8, 13, ..., 37, 32, 26], dtype=int16), array([  9, -19, -31, ...,   2,  12,  22], dtype=int16), array([125, 138,  60, ...,  62,  51,  50], dtype=int16), array([-32, -40, -41, ...,  11,   7,   9], dtype=int16), array([  4,   7,   9, ...,  54, -18, -30], dtype=int16), array([139, 147,  11, ...,  27,   7, -15], dtype=int16), array([  9,  32,  39, ...,  -9,  -6, -12], dtype=int16), array([ -3, -14,  -9, ...,  -4, -11, -15], dtype=int16), array([ 2,  3, -1, ..., -2,  2,  1], dtype=int16), array([127,  81, 171, ...,  25,  29,  26], dtype=int16), array([200, 217,  64, ..., -10,  -4,   2], dtype=int16), array([  1,   3,   0, ..., -15, -15, -16], dtype=int16), array([-228, -371, -272, ...,  -23,  -17,  -10], dtype=int16), array([-44, -94, -87, ...,  -2,   0,   0], dtype=int16), array([ 2,  3, -3, ...,  1,  1, -1], dtype=int16), array([-10,  -9,  -7, ...,   7,   9,  16], dtype=int16), array([ -80,  153, -166, ...,  -47,  -53,  -58], dtype=int16), array([-20, -22, -20, ..., -17, -13, -17], dtype=int16), array([ 4, -1,  0, ..., -1,  0, -1], dtype=int16), array([ -24,  -26,  -25, ..., -111, -233,   14], dtype=int16), array([23, 24, 26, ..., 48, 28,  3], dtype=int16), array([-47, 237, 266, ...,  23,  44,  56], dtype=int16), array([-25, -20, -21, ...,  15,  -2, -18], dtype=int16), array([ 5,  5, 14, ...,  9, 14, 13], dtype=int16), array([  0,   8,  16, ...,   2, -10, -11], dtype=int16), array([ 3,  2,  0, ..., 23, 10, 13], dtype=int16), array([-212,  -96,   91, ...,   -6,   -4,   -3], dtype=int16), array([ -43,   34, -107, ...,    5,   -2,    0], dtype=int16), array([-3, -1, -5, ...,  2,  9, 10], dtype=int16), array([ 16,  20,  19, ..., -42, -43, -48], dtype=int16), array([  0,   2,  -2, ..., -11,  -5,   7], dtype=int16), array([  9,   9,   9, ..., -28, -37, -35], dtype=int16), array([ 59,  92,  43, ..., -10,  -9,  -5], dtype=int16), array([  1,   1,   1, ..., -18, -35,  11], dtype=int16), array([-22, -24, -31, ...,   0,  -9,  -8], dtype=int16), array([ 11,  20,  11, ...,   5,  -3, -11], dtype=int16), array([ 10,  14,  16, ...,  -7,  -9, -14], dtype=int16), array([-102, -178, -178, ...,  -21,  -27,  -38], dtype=int16), array([12, 18, 10, ..., 11, 13,  6], dtype=int16), array([-23, -27, -26, ...,  88, 104,  89], dtype=int16), array([ 80, 208, 249, ...,  -2, -11,  -3], dtype=int16), array([37, 46, 34, ...,  8,  4,  0], dtype=int16), array([ 10,  16,  15, ..., -36, -35, -34], dtype=int16), array([49, 84, 48, ..., 23,  7,  5], dtype=int16), array([ 22,  44,  12, ..., -21, -21, -22], dtype=int16), array([-34, -38, -44, ..., -15, -19, -15], dtype=int16), array([-2,  0,  0, ..., -3,  1, -4], dtype=int16), array([196,  75, -58, ...,  -1,   4,   1], dtype=int16), array([ -7, -11, -10, ..., -13, -14, -10], dtype=int16), array([ -4,  -1,  -1, ..., -12, -11,  -9], dtype=int16), array([ -48, -100,   -8, ...,   18,    9,   17], dtype=int16), array([ 27,  28,  23, ..., -12,  -3,   3], dtype=int16), array([-67,  18,  45, ...,  17,  25,  30], dtype=int16), array([ 12, -33, -23, ...,   4,   3,   0], dtype=int16), array([-66, -36, -25, ..., -14, -22, -28], dtype=int16), array([  0, -11,  -7, ...,   5,   7,   5], dtype=int16), array([-18, -21, -26, ...,  -8,  -8,  -8], dtype=int16), array([-3, -2, -2, ...,  5,  6,  0], dtype=int16), array([ 8, 15, 21, ..., -9,  2, -3], dtype=int16), array([ 0, -1,  0, ...,  8, 11, 10], dtype=int16), array([-4, -6, -7, ...,  4, -2, -7], dtype=int16), array([ -88, -150, -118, ...,   -8,   -8,   -7], dtype=int16), array([ -70, -115,   -3, ...,   46,   40,   39], dtype=int16), array([-10,  -8,  -7, ...,  -3,  -9,  -9], dtype=int16), array([-22, -12,  -7, ..., -24, -13,  -2], dtype=int16), array([  2,   2,   1, ..., -16, -15, -14], dtype=int16), array([  0,  -2,   0, ..., -16,  -6,   5], dtype=int16), array([ 0,  1,  8, ..., 10, 50, 31], dtype=int16), array([ -5,  -5, -11, ..., -25, -16,  -2], dtype=int16), array([ 4,  5,  7, ..., 13, 13, 21], dtype=int16), array([-37, -32, -35, ..., -20,   2, -14], dtype=int16), array([ 14, -98,  33, ...,   9,   0,  -7], dtype=int16), array([-12,  -8,  -6, ...,   7,   0,  -2], dtype=int16), array([ 9, 10, 14, ..., 14,  8, 23], dtype=int16), array([-43, -57, -17, ..., -25, -25, -25], dtype=int16), array([  60, -110, -129, ...,  -38,  -30,  -13], dtype=int16), array([-10,  -7,  -7, ...,  85, 108,  82], dtype=int16), array([  7,  14,  14, ..., -56,  89, 166], dtype=int16), array([-114,  -60,  -45, ...,  -47,  -37,  -35], dtype=int16), array([11, 18, 38, ..., 17, 21, 19], dtype=int16), array([-47, -48, -48, ...,  32,  34,  42], dtype=int16), array([-71, -73, -81, ...,  16,  17,  28], dtype=int16), array([ 67,  70,  79, ..., -24, -27, -25], dtype=int16), array([ -48, -124, -158, ...,    5,  -13,  -15], dtype=int16), array([ -8, -10,  -8, ...,  16,  18,  20], dtype=int16), array([-141, -225, -122, ...,    3,    4,   11], dtype=int16), array([31, 26, 16, ..., 19, 23, 23], dtype=int16), array([ 3,  4,  8, ..., 10,  2, -6], dtype=int16), array([-146,  -80,  -19, ...,  -21,  -15,  -17], dtype=int16), array([-229,   55,  183, ...,   32,   35,   47], dtype=int16), array([ -4, -33, -15, ...,  27,  21,  17], dtype=int16), array([  38, -116,  -20, ...,  -10,    0,   13], dtype=int16), array([  0,   0,   0, ...,  41,  13, -17], dtype=int16), array([ 13,   8,   9, ..., -24, -13, -18], dtype=int16), array([-175,  148,  436, ...,   27,    3,   10], dtype=int16), array([ -3,  -6,  -1, ...,  -9, -12, -16], dtype=int16), array([-17, -16, -17, ...,  35,  36,  33], dtype=int16), array([ 60, 104, 139, ...,  43,  41,  43], dtype=int16), array([ -7, -10, -11, ...,   2,   4,   1], dtype=int16), array([-126,  -93,  -70, ...,   67,   35,   -7], dtype=int16), array([ 27,  27,  13, ..., -31, -11,  89], dtype=int16), array([ -9,  -6,  -8, ..., -28, -30, -33], dtype=int16), array([ -3,   3,  11, ..., -41, -38, -42], dtype=int16), array([-19, -17, -15, ...,  44,  61,  14], dtype=int16), array([  3,  73, 242, ..., -29, -33, -29], dtype=int16), array([  6,   9,   6, ...,  -1, -15, -17], dtype=int16), array([-12,  -8,  -1, ...,  47,  48,  42], dtype=int16), array([  7, -10, -11, ...,   3,   3,   4], dtype=int16), array([16, 15, 13, ...,  0, -2, -4], dtype=int16), array([ -2,  10,  11, ..., -12, -15, -10], dtype=int16), array([  0,  -2,  -6, ..., -59, -27,  26], dtype=int16), array([ 46, 122, 108, ...,  43,  51,  52], dtype=int16), array([24, 49, 14, ...,  7,  5,  6], dtype=int16), array([-33, -35, -43, ...,   6,   3,   0], dtype=int16), array([  2,   0,   3, ..., -20, -23, -19], dtype=int16), array([-5, -5, -3, ..., 10,  6,  7], dtype=int16), array([-228, -108,   46, ...,  -98,  -91,  -80], dtype=int16), array([ -85, -131, -118, ...,   -4,   -6,   -6], dtype=int16), array([  -1, -162, -197, ...,   -3,   -1,    2], dtype=int16), array([-23, -19, -23, ..., -11,   0,   0], dtype=int16), array([ -9,  -9,   0, ..., -21, -16, -23], dtype=int16), array([ 0, -2, -4, ..., 18, 15,  8], dtype=int16), array([-41, -65, -82, ...,  -5,   0,  -2], dtype=int16), array([ -3,  -5,  -8, ...,  -8, -10, -12], dtype=int16), array([-20, -25, -26, ..., -28, -25, -30], dtype=int16), array([-4, -9, -9, ..., 18, 18, 10], dtype=int16), array([150, 185, 139, ...,  -3,   0,   0], dtype=int16), array([  72,  -54, -204, ...,   36,   11,    0], dtype=int16), array([ -38, -142,  -21, ...,  -32,  -36,  -50], dtype=int16), array([ 0,  1,  4, ...,  1, 10, 19], dtype=int16), array([ 9, 13, 15, ...,  0, -1,  0], dtype=int16), array([ 9, 12, 11, ..., 37, 35, 39], dtype=int16), array([ -5,  -4,   0, ..., -42, -42, -36], dtype=int16), array([ -8,  36,  42, ..., -51, -13,  19], dtype=int16), array([-138,   31,   43, ...,   20,   22,   25], dtype=int16), array([  8, 198, 168, ...,   2,   0,  -2], dtype=int16), array([19, 20, 23, ..., 35, 32, 30], dtype=int16), array([ 0, -2,  3, ...,  3, -1,  3], dtype=int16), array([ -12,  -83, -221, ...,   62,   48,   42], dtype=int16), array([-66, -45, -10, ..., -30, -32, -34], dtype=int16), array([ -1,  -2,  -5, ..., -20, -21, -25], dtype=int16), array([ 0,  0, -5, ..., 29, 24, 29], dtype=int16), array([-2,  1,  4, ..., 27, 24, 30], dtype=int16), array([-17, -14, -14, ...,  21,  21,  23], dtype=int16), array([ -1,  -8,  -7, ..., -30,  19,  17], dtype=int16), array([-69, -64, -57, ...,  -4,  -1,  24], dtype=int16), array([-24, -26, -24, ...,  25,  24,  20], dtype=int16), array([ 85, 134, 339, ...,  49,  43,  38], dtype=int16), array([-12, -12, -14, ...,  11,  18,  35], dtype=int16), array([ 1, -2, -3, ...,  2, 10, 26], dtype=int16), array([ -1,  -9, -14, ...,   7,   8,   0], dtype=int16), array([-10, -11, -11, ...,  12,  23,  18], dtype=int16), array([-43, -38, -24, ...,  31,  33,  37], dtype=int16), array([-1,  0, -2, ...,  8,  5,  8], dtype=int16), array([ 51,  48,  44, ..., -14, -16, -17], dtype=int16), array([-12, -14, -10, ...,  -8,  -4,  -1], dtype=int16), array([ 16,  12,  12, ..., -13,  -7,   6], dtype=int16), array([ 20,  19,  12, ..., -24, -33, -35], dtype=int16), array([ 34,  36,  38, ..., -24,  -8,  -4], dtype=int16), array([132, 112,  90, ..., -33, -41, -40], dtype=int16), array([  96,  -25, -177, ...,  -31,  -34,  -31], dtype=int16), array([ 15, -31, -16, ...,  41,  42,  54], dtype=int16), array([  0,   1,   3, ..., -32, -22, -27], dtype=int16), array([  9,  -8, -23, ...,   7,  11,   2], dtype=int16), array([ -5, -14, -13, ...,  12,  21,  19], dtype=int16), array([ 0, -1,  1, ..., -5,  2,  9], dtype=int16), array([ -6,  -8,  -5, ...,  -3,  -6, -12], dtype=int16), array([ 7,  3,  3, ...,  7, 13, 12], dtype=int16), array([-1, -1, -1, ..., 13, 23, 22], dtype=int16), array([-120, -238, -308, ...,   22,   31,   26], dtype=int16), array([  15, -104,  -85, ...,   -4,   -5,   -7], dtype=int16), array([ 0,  1,  6, ..., 21, 15, 10], dtype=int16), array([11, -8, -9, ..., 43, 44, 41], dtype=int16), array([-14, -15, -15, ...,  -8,  -3,   2], dtype=int16), array([-149,  -66,   75, ...,   87,   22,  -22], dtype=int16), array([  5,   8,  16, ..., -16,  17,  61], dtype=int16), array([  0,   1,   0, ..., -10, -13,  -4], dtype=int16), array([-310, -323, -324, ...,    6,    6,    7], dtype=int16), array([ -2, -14,  -2, ..., -27, -26, -34], dtype=int16), array([ -5, -22, -19, ..., -39, -35, -34], dtype=int16), array([-7, -5, -3, ...,  7,  2, 11], dtype=int16), array([-12, -15, -13, ..., -18, -17, -26], dtype=int16), array([-12, -13, -10, ..., -48, -37, -34], dtype=int16), array([ -55,  -90, -119, ...,  -75,  -50,  -34], dtype=int16), array([-38, -34, -36, ...,   8,   2,   3], dtype=int16), array([-4, -6, -6, ...,  8, 14, 14], dtype=int16), array([ -1,   0,   0, ..., -15, -14,  -9], dtype=int16), array([-37, -27, -36, ...,  24,  34,  30], dtype=int16), array([-71, -82, -87, ...,  -5,  -8, -21], dtype=int16), array([  6,  11,   7, ..., -24, -48, -19], dtype=int16), array([38, 36, 51, ..., -8, -6,  3], dtype=int16), array([-9, -5, -3, ...,  8, 24, 24], dtype=int16), array([  0,  -6,  -6, ..., -14, -14, -13], dtype=int16), array([-55, -12,  32, ...,  -7,   4,  10], dtype=int16), array([42, 44, 46, ..., 31, 25, 27], dtype=int16), array([  9,   1,   2, ..., -40, -55, -57], dtype=int16), array([-70,  13, -22, ..., 131, 107, 115], dtype=int16), array([   0,    6,   -2, ...,  -57, -277, -530], dtype=int16), array([ 15,  14,   8, ..., -11,  -9, -12], dtype=int16), array([12, 12,  5, ..., 31, 43,  0], dtype=int16), array([-1, -4, -3, ...,  7,  1,  5], dtype=int16), array([29, 31, 27, ..., 20, 17, 22], dtype=int16), array([ -79, -133, -105, ...,  -12,    0,    0], dtype=int16), array([-169, -180,  -67, ...,   21,   27,   30], dtype=int16), array([ 8,  6,  9, ...,  0,  1, 11], dtype=int16), array([137,  37, -22, ..., -33, -40, -44], dtype=int16), array([-10,  -5,  -8, ...,  36,  60,  66], dtype=int16), array([-35,  26,  35, ...,   9,   0,  11], dtype=int16), array([ -5,  -5,  -6, ..., -18, -21, -36], dtype=int16), array([ 35,  32,  34, ..., -24, -21, -17], dtype=int16), array([ 28,  31,  27, ..., -96, -22,  14], dtype=int16), array([ -8,  -6, -16, ..., -41, -39, -38], dtype=int16), array([ -35,   18, -180, ...,  -34,  -11,   19], dtype=int16), array([23, 25, 28, ..., -8, -4, -6], dtype=int16), array([38, 34, 32, ...,  0,  4,  0], dtype=int16), array([-255, -272, -133, ...,    1,   -8,  -13], dtype=int16), array([-24, -13,  -7, ..., -26, -28, -28], dtype=int16), array([20, 17, 18, ..., 34, 35, 24], dtype=int16), array([-130,  -70,   41, ...,  -13,  -14,  -13], dtype=int16), array([ 18,  13,  14, ..., -10,   1,   8], dtype=int16), array([  1,   5,  13, ..., -17, -12,   0], dtype=int16), array([-5, -3, -2, ...,  7,  9,  7], dtype=int16), array([-14, -15, -13, ...,  38,  34,  31], dtype=int16), array([17, 17, 21, ...,  6,  6,  3], dtype=int16), array([-75, -84, -86, ..., -13, -19, -13], dtype=int16), array([50, 20, -5, ..., 44, 41, 38], dtype=int16), array([-3, -7, -9, ..., 51, 44, 19], dtype=int16), array([ 17,   1,  -2, ..., -17, -22, -16], dtype=int16), array([-8, -6, -5, ..., -6, -6, -7], dtype=int16), array([ -4,  -6,  -1, ..., -26, -33, -32], dtype=int16), array([-116, -223, -151, ...,  -28,  -27,  -16], dtype=int16), array([-22, -22, -20, ...,  -8,   0,   0], dtype=int16), array([ 0,  4,  8, ..., -6, -4, -3], dtype=int16), array([-31, -42, -39, ...,   3,   3,   7], dtype=int16), array([-7, 14, 13, ...,  7,  8, 13], dtype=int16), array([-10, -25, -32, ...,  39,  19,  14], dtype=int16), array([-14, -10,   1, ...,  74,  54,   5], dtype=int16), array([ 15,  14,  10, ..., -41, -18,  15], dtype=int16), array([ -3,  -3,  -3, ..., -29, -26, -16], dtype=int16), array([-33,  18,  12, ...,  -2,   0, -10], dtype=int16), array([ -23, -155,   75, ...,   22,   20,   35], dtype=int16), array([-12, -14, -13, ..., -44, -46, -19], dtype=int16), array([ 8,  8,  6, ..., 26, 25, 23], dtype=int16), array([5, 5, 3, ..., 3, 5, 4], dtype=int16), array([64, 69, 69, ...,  6, 17,  7], dtype=int16), array([-9, -6,  1, ..., 24, 25, 24], dtype=int16), array([  41,   56, -239, ...,   -2,    2,   -3], dtype=int16), array([-147,  102,   72, ...,   -3,   -8,   -8], dtype=int16), array([-4, -5, -5, ...,  9, 26, 57], dtype=int16), array([ 9,  7, 11, ...,  3, -1,  2], dtype=int16), array([-1, -6, -4, ...,  0,  3,  9], dtype=int16), array([-12,  -9,  -2, ...,   7,   9,  -2], dtype=int16), array([ 1,  2,  5, ..., 41, 33, 31], dtype=int16), array([  1,   0,   1, ..., -19,   1,  27], dtype=int16), array([ 8, 15, 21, ...,  8,  4,  5], dtype=int16), array([ 110, -168,  -58, ...,    8,   14,    0], dtype=int16), array([ 4,  7,  2, ..., 14,  4,  1], dtype=int16), array([ 8, 15, 27, ...,  0,  0, -5], dtype=int16), array([ 82, -28, -96, ...,  32,  19,  -2], dtype=int16), array([-161, -120,    0, ...,    3,   -8,  -17], dtype=int16), array([ 5, 10, 11, ..., 10,  4,  3], dtype=int16), array([ 0,  0, -8, ...,  0,  5,  6], dtype=int16), array([ 0,  1, -3, ...,  3, 10, 32], dtype=int16), array([-155,  454,  872, ...,   20,    8,   -6], dtype=int16), array([-171, -164, -157, ...,   13,   18,   14], dtype=int16), array([-39, -40, -51, ...,   2,  41,  63], dtype=int16), array([-34, -32, -36, ...,   7,   5,  -3], dtype=int16), array([23, 59, 59, ..., 23, 12,  7], dtype=int16), array([-19, -17,  -6, ..., -32, -31, -30], dtype=int16), array([ 8,  8, 10, ..., 39, 34, 32], dtype=int16), array([ 5,  8,  9, ..., -2, -3,  4], dtype=int16), array([-305, -260, -218, ...,    1,    5,   12], dtype=int16), array([  0,   5,  10, ...,  18, -10,  11], dtype=int16), array([  0, 139, 182, ...,  -9, -16, -10], dtype=int16), array([ -1, 104, 323, ...,  -3,   3,   7], dtype=int16), array([0, 0, 0, ..., 2, 4, 1], dtype=int16), array([ 1,  2,  0, ..., -1, -6, -1], dtype=int16), array([111,  42, -14, ...,   2,  13,   9], dtype=int16), array([-16, -19, -19, ..., -22, -26, -29], dtype=int16), array([  5,   5,   5, ...,  10, -17, -24], dtype=int16), array([109, 113, -28, ...,  -3, -14, -19], dtype=int16), array([34, 24, 33, ..., 23, 39, 45], dtype=int16), array([ 16,  19,  13, ..., -25, -23, -21], dtype=int16), array([  2,  -1,   7, ...,  -8, -20, -22], dtype=int16), array([ -1,   0,   2, ..., -13,  -5,   2], dtype=int16), array([-2,  0, -1, ..., -3, -3, -7], dtype=int16), array([ 5,  2,  3, ..., 18, 31, 55], dtype=int16), array([ -6,  -6,  -3, ...,  -1,  -9, -10], dtype=int16), array([ 8,  7,  7, ..., 54, 29, -2], dtype=int16), array([  5,   4,   1, ...,  29, -20, -20], dtype=int16), array([-10,  -7,  -9, ...,   5,  12,  15], dtype=int16), array([38, 52, 50, ..., 22, 16, 10], dtype=int16), array([ -2,  -1,  -1, ..., -27, -25, -30], dtype=int16), array([-7, -9, -6, ..., -2, -4, -8], dtype=int16), array([ -7,  -3,  -6, ...,  -7,  -7, -13], dtype=int16), array([ 0, -1, -1, ..., 42, 21, 24], dtype=int16), array([-5, -6, -3, ..., 13, 23, 29], dtype=int16), array([-122,  -78,  -92, ...,  -14,  -12,   -7], dtype=int16), array([-14, -14, -16, ..., -31, -29,  10], dtype=int16), array([ -1,   0,  -1, ..., -43, -24, -15], dtype=int16), array([12,  6,  7, ..., 18, 11,  5], dtype=int16), array([-16, -16, -19, ...,  33,  46,  44], dtype=int16), array([  4, 160, -31, ...,  13,  20,  18], dtype=int16), array([-10, -11,  -7, ...,   7,   8,  -1], dtype=int16), array([  1,   3,   0, ..., -33, -32, -29], dtype=int16), array([18, 23, 28, ..., -1,  2,  0], dtype=int16), array([ -7,   0,   0, ...,  -5, -14, -13], dtype=int16), array([-34, -35, -38, ...,  -2,  -4,  -5], dtype=int16), array([-4, -2, -3, ..., -7, -7, -5], dtype=int16), array([ 61,  21, -63, ...,  -2,  -4,  -8], dtype=int16), array([-1, 21, 51, ..., 14, 12, 13], dtype=int16), array([ 10,  13,   7, ...,  -3, -10, -12], dtype=int16), array([-16, -11, -12, ...,  -3,  -7, -10], dtype=int16), array([-16, -25, -18, ...,  27,  30,  45], dtype=int16), array([ -4,  -7, -13, ..., -50, -49, -46], dtype=int16), array([ -5, 130,  59, ...,  22,  56,  64], dtype=int16), array([-18, -23, -30, ...,   0,   5,   2], dtype=int16), array([-29, -26, -29, ...,  38,  54,  63], dtype=int16), array([ 12,  21,  30, ..., -31, -35, -38], dtype=int16), array([-1, -4,  4, ..., 20, 20, 14], dtype=int16), array([286, 411, 445, ..., -12,  -9, -21], dtype=int16), array([-23, -19, -18, ...,  35,  -4, -48], dtype=int16), array([-232,  -84,  153, ...,   59,   79,   71], dtype=int16), array([-21, -23, -20, ...,  -9, -21,   4], dtype=int16), array([14, 15,  7, ..., -1,  0, -3], dtype=int16), array([ -5,   1,   1, ..., -22, -11,  -1], dtype=int16), array([-11, -12,  -8, ..., -84,  58,  66], dtype=int16), array([-37, -40, -37, ...,  10,  12,  -1], dtype=int16), array([ -48, -196, -177, ...,   16,   15,    2], dtype=int16), array([ -8, -10, -12, ...,  24,  31,  26], dtype=int16), array([ -6,  -3,   0, ..., -18, -28, -20], dtype=int16), array([ 26,  32,  36, ..., -27, -28, -14], dtype=int16), array([-117, -133,  -82, ...,   15,   30,   -4], dtype=int16), array([26, 11,  3, ..., 33, 35, 34], dtype=int16), array([-38, -42, -37, ...,   5, -44, -82], dtype=int16), array([-104,  -60,   -8, ...,  -19,  -14,  -23], dtype=int16), array([ -1,  -1,   5, ..., -37, -59, -61], dtype=int16), array([11, 13,  9, ..., 69, 60, 52], dtype=int16), array([ 10,   2,   7, ..., -18, -20, -11], dtype=int16), array([ 5,  7,  8, ..., -8, -9, -3], dtype=int16), array([-19, -18, -19, ...,  10,   8,   9], dtype=int16), array([ 13,  24,  50, ..., -46, -36, -30], dtype=int16), array([-5,  1,  2, ...,  1,  0,  3], dtype=int16), array([ 5,  7,  7, ..., -3,  0, 16], dtype=int16), array([ -66, -120, -166, ...,   13,    9,    7], dtype=int16), array([-10, -11, -13, ...,  -4, -11, -13], dtype=int16), array([-23, -21, -22, ..., -24, -49, -77], dtype=int16), array([-27, -26, -30, ...,  -7,  -6,  -9], dtype=int16), array([-16, -13, -16, ...,  34,  32,  25], dtype=int16), array([ 89, -30, -43, ..., -34, -14,  -6], dtype=int16), array([-24, -13, -16, ...,  57,  46,  -2], dtype=int16), array([-38,  14,  93, ..., -10, -17, -14], dtype=int16), array([-18, -18, -19, ...,  46, -17, -70], dtype=int16), array([  2,   2,   0, ..., -18, -15, -10], dtype=int16), array([-19, -14, -16, ...,  -9,  -7, -14], dtype=int16), array([ 3,  3,  4, ...,  9, 17, 12], dtype=int16), array([14, 11, 14, ..., 59, 63, 56], dtype=int16), array([11, 14,  7, ..., 35, 33, 27], dtype=int16), array([ 5,  5, 10, ...,  0, -2, -2], dtype=int16), array([  17, -120,  157, ...,    9,    3,   21], dtype=int16), array([119,   3,  63, ...,  51,  52,  52], dtype=int16), array([  4,   5,   4, ..., -18, -10, -10], dtype=int16), array([ 7, 11,  7, ..., -7, -4,  3], dtype=int16), array([ 10,   3,   2, ...,   2,  -5, -14], dtype=int16), array([  1,   2,   1, ...,  30,  -8, -48], dtype=int16), array([ -9, -16,  -9, ...,  29,  32,  27], dtype=int16), array([-21, -18, -18, ...,  44,  38,  34], dtype=int16), array([  3,   3,   2, ...,  -3, -11, -38], dtype=int16), array([ -5,  -1, -10, ...,   2,   1,   0], dtype=int16), array([-15, -14, -13, ...,  19,  31,  16], dtype=int16), array([ 21, -43, -63, ...,  16,  16,  16], dtype=int16), array([ 84, -19,   3, ..., -60, -55, -53], dtype=int16), array([ 4,  3, -1, ..., -5, 17, 18], dtype=int16), array([-35,  17,  21, ..., -15, -15, -11], dtype=int16), array([-15, -17, -17, ..., -12, -14, -16], dtype=int16), array([-17, -15, -11, ..., -13, -15, -25], dtype=int16), array([ 8,  8,  9, ...,  4,  4, -2], dtype=int16), array([  0,   2,   2, ..., -33, -28, -26], dtype=int16), array([15, 12,  9, ..., -9, -3, -3], dtype=int16), array([ 12, -12, -40, ..., -19, -21, -20], dtype=int16), array([-29, -26, -31, ...,   1,   1,   4], dtype=int16), array([-14, -27, -14, ...,  26,  28,  20], dtype=int16), array([ 6,  4,  5, ...,  6, 12, -3], dtype=int16), array([-15,  -8, -13, ...,  17,  13,  15], dtype=int16), array([ 24,  60,  78, ..., -13,   2,  17], dtype=int16), array([-199, -236, -164, ...,  -28,  -16,   -6], dtype=int16), array([-6, -5, -8, ...,  3,  8,  7], dtype=int16), array([18, 13, 13, ..., 70, 65, 67], dtype=int16), array([ 0, -3, -2, ..., 26, 19,  9], dtype=int16), array([ 21,  22,  21, ...,  -5,  -5, -11], dtype=int16), array([  3, 131,  52, ...,  14,  14,  17], dtype=int16), array([ -94, -159, -119, ...,    4,    5,    2], dtype=int16), array([-12,  -8,  -9, ..., -28, -17, -11], dtype=int16), array([ 12,   9,   8, ..., -16, -28, -19], dtype=int16), array([-12, -12,  -5, ...,  28,  23,  14], dtype=int16), array([-13, -19, -26, ..., -18, -15, -27], dtype=int16), array([ 6,  1,  2, ...,  3,  7, 19], dtype=int16), array([10,  6, 11, ..., -5, -7,  6], dtype=int16), array([ 1,  6,  3, ..., 14, 12, 10], dtype=int16), array([-3,  2, 13, ...,  2, -1,  1], dtype=int16), array([11, 11, 11, ...,  0,  7,  7], dtype=int16), array([106, 144, 207, ...,   3,   2,   3], dtype=int16), array([ 0,  4,  4, ...,  2, 14, 10], dtype=int16), array([-3, -3, -4, ...,  1,  2,  0], dtype=int16), array([ 88,  85, -28, ...,   3,  -7, -16], dtype=int16), array([13,  9,  8, ..., 18, 11,  5], dtype=int16), array([-20, -16, -16, ...,   0,   2,   4], dtype=int16), array([-661, -687, -731, ...,   14,    9,   18], dtype=int16), array([ -26, -102,  -95, ...,   13,   22,   21], dtype=int16), array([  7,  33,  -7, ..., -12,   0,  13], dtype=int16), array([  6,  -6, -19, ...,  10,  17,  26], dtype=int16), array([26, 25, 19, ..., 14, 17, 15], dtype=int16), array([ 42,  11, -44, ..., -20, -18, -23], dtype=int16), array([-15, -14,  -6, ...,  37,  58,  85], dtype=int16), array([-16, -16, -13, ...,  27,  11,  -5], dtype=int16), array([ 5,  0, -4, ...,  4, 16, 12], dtype=int16), array([-269, -175,   94, ...,   25,   11,   10], dtype=int16), array([  0,   3,   1, ..., -17, -13, -11], dtype=int16), array([ 69,  51,   1, ..., -34, -33, -22], dtype=int16), array([-4, -4, -5, ..., 15, 12, 16], dtype=int16), array([97, 82, 55, ..., 24, 21, 13], dtype=int16), array([ 0, -8,  4, ...,  0,  0,  7], dtype=int16), array([ 0,  0, 10, ..., 23, 20, 24], dtype=int16), array([ 1,  6,  5, ..., 17,  8,  6], dtype=int16), array([ 12,  14,  16, ..., -17, -16, -22], dtype=int16), array([ 92, 136,  21, ..., -19, -30, -33], dtype=int16), array([ 30,  29,  24, ..., -30, -22, -26], dtype=int16), array([  4,  11,   5, ...,  -5, -18, -14], dtype=int16), array([  1,   3,   1, ..., -33, -47, -12], dtype=int16), array([ 3,  5,  6, ..., 15, 18, 25], dtype=int16), array([-120,   86,   24, ...,    0,   -3,    6], dtype=int16), array([  54, -111,   50, ...,    0,  -75,  -95], dtype=int16), array([67, -9, 46, ..., 24, 21, 26], dtype=int16), array([50, 43, 51, ..., 20, 11,  4], dtype=int16), array([ 0,  0, -2, ..., 19, 17, 23], dtype=int16), array([ 3,  6,  4, ...,  1,  7, 13], dtype=int16), array([-12,   0, -18, ..., -45, -45, -35], dtype=int16), array([39, 39, 54, ...,  0,  4, -5], dtype=int16), array([  6,  61, 161, ...,  41,  10,  52], dtype=int16), array([ -16,  -20,  -17, ..., -102, -109,  -58], dtype=int16), array([ 8, 12,  7, ...,  4, -7,  5], dtype=int16), array([-30, -34,   7, ...,   0, -13, -16], dtype=int16), array([  0,  -1,   0, ...,  10, -17, -16], dtype=int16), array([  1,   2,   1, ..., -43, -35, -30], dtype=int16), array([-31, -34, -33, ...,   3,   6,   0], dtype=int16), array([  8,  11,  15, ..., -17, -15, -16], dtype=int16), array([-40, -24, -13, ..., -11, -11, -11], dtype=int16), array([-110, -124, -140, ...,   -3,    3,    2], dtype=int16), array([-70, -25,  10, ...,   7,  10,   9], dtype=int16), array([ 64, 175, 249, ...,  -6,  12,  15], dtype=int16), array([10, 10,  8, ..., 33, 44, 43], dtype=int16), array([11, 16, 20, ...,  8,  0,  3], dtype=int16), array([ -16,   28,   31, ..., -102,  -31,   29], dtype=int16), array([  9,   8,   5, ..., -11, -12,  -4], dtype=int16), array([ 24,  26,  29, ..., -44, -43, -34], dtype=int16), array([ 83,  83, -68, ...,  -3,  10,   0], dtype=int16), array([-18, -21, -17, ...,   9,  13, -12], dtype=int16), array([22, 22, 22, ..., -3, -7, -6], dtype=int16), array([-14, -19, -27, ...,   6,   7,  13], dtype=int16), array([119, 121, 119, ..., -12, -19, -22], dtype=int16), array([ 9, 16, 15, ..., 25, 25, 22], dtype=int16), array([-26, -24, -19, ...,  36,  34,  34], dtype=int16), array([17, -1, 49, ..., 15, 11,  8], dtype=int16), array([-3, -6, -8, ..., 18,  9,  6], dtype=int16), array([ 5,  9,  9, ..., -1,  3,  8], dtype=int16), array([-13,  -7,  -8, ..., -28,  -9,  -4], dtype=int16), array([  8,   9,  13, ..., -23, -17, -13], dtype=int16), array([-24, -23, -16, ...,  23,  21,  17], dtype=int16), array([190,  49, -98, ...,   9,   9,   6], dtype=int16), array([-15,  10,  22, ..., -16,   4,  20], dtype=int16), array([-108, -110, -127, ...,  -22,  -25,  -25], dtype=int16), array([13, 10,  8, ..., 31, 26, 17], dtype=int16), array([ -2,  -4,  -4, ..., -35, -36, -30], dtype=int16), array([-35, -49, -81, ...,   0,   3,   1], dtype=int16), array([13, 12,  3, ..., 21, 15, 22], dtype=int16), array([23, 26, 31, ..., 27, 36, 37], dtype=int16), array([ 2,  5,  0, ..., 14,  4,  2], dtype=int16), array([ 19, -32, -41, ...,  12,  13,   9], dtype=int16), array([27, 25, 22, ..., 19, 18, 15], dtype=int16), array([-10, -13, -14, ...,  20,  15,   3], dtype=int16), array([  9,   8,   7, ..., -36, -32, -26], dtype=int16), array([ -1,  34,  51, ...,   0, -10, -23], dtype=int16), array([-23, -33, -37, ..., -17, -16, -13], dtype=int16), array([ 245, -247,   42, ...,   81,   41,    1], dtype=int16), array([ 5,  0,  4, ...,  8, 26, 28], dtype=int16), array([-10, -10, -15, ..., -46, -21, -25], dtype=int16), array([23, 46, 18, ...,  7, 22,  6], dtype=int16), array([ 11,  17,  18, ..., -26, -12,   8], dtype=int16), array([15, 13, 21, ..., 77, 70, 68], dtype=int16), array([ 13,  13,   7, ...,  -1,  -7, -15], dtype=int16), array([-144,  -67,   56, ...,   34,   32,   37], dtype=int16), array([283, 246, -55, ..., -23, -28, -34], dtype=int16), array([ 1,  0,  0, ..., -2,  7,  0], dtype=int16), array([ 0,  7,  9, ..., 28, 36, 19], dtype=int16), array([0, 0, 0, ..., 4, 3, 0], dtype=int16), array([106, 139, 127, ...,   4,  -2,  -2], dtype=int16), array([-3,  8, 24, ...,  3,  4,  1], dtype=int16), array([-2,  0,  0, ..., 27,  7,  4], dtype=int16), array([ 122,    6, -184, ...,   41,   -2,  -29], dtype=int16), array([-36, -36, -42, ...,  26,  54,  14], dtype=int16), array([ 0, -2, -1, ..., -8, -4,  1], dtype=int16), array([ -67, -127,  -85, ...,   13,   11,   12], dtype=int16), array([ -25,  -93, -168, ...,   15,   11,    7], dtype=int16), array([-78, -65, -51, ..., -24, -26, -27], dtype=int16), array([ -9,   2,   0, ..., -32, -26, -17], dtype=int16), array([-9,  0,  2, ...,  5,  6,  1], dtype=int16), array([134,  72,  50, ..., -15,  -5, -16], dtype=int16), array([-13,   0, -10, ...,  13,  32,  31], dtype=int16), array([10, 14,  9, ..., 25, 22, 16], dtype=int16), array([-27, -23, -22, ...,  -6,   2, -12], dtype=int16), array([122, 266, 104, ...,  14,  15,  14], dtype=int16), array([  6,  -2, -26, ..., -26, -20, -16], dtype=int16), array([  0,   6,   0, ..., -54, -60, -62], dtype=int16), array([ 10,   8,   6, ...,  47,  18, -61], dtype=int16), array([ 193,  151, -138, ...,   -7,    0,    0], dtype=int16), array([ 0,  3,  2, ...,  7, 14, 12], dtype=int16), array([  0,  -1,   0, ...,   4,  -8, -18], dtype=int16), array([-41,   4,  27, ..., -18, -14,   0], dtype=int16), array([-2, -1, -4, ..., 16, 19, 19], dtype=int16), array([ 4,  1,  2, ..., 42, 42, 43], dtype=int16), array([ 62, 102, 135, ...,  70,  67,  43], dtype=int16), array([   6,   10,   14, ...,  130,   19, -138], dtype=int16), array([  8,   4,   4, ..., -37, -43, -52], dtype=int16), array([-171, -175,  -99, ...,  -21,  -18,  -21], dtype=int16), array([-22, -17, -15, ...,  12,  12,   6], dtype=int16), array([ -2,  -4,  -5, ...,  66, -70, -69], dtype=int16), array([ 5,  5,  7, ...,  1, -1,  4], dtype=int16), array([ -1,  -1,  -2, ..., -27, -32, -47], dtype=int16), array([ 69,   0, -81, ..., -67, -69, -70], dtype=int16), array([ -1, -12, -20, ..., -20, -15, -20], dtype=int16), array([ 10,  14,  11, ..., -19,   0,   0], dtype=int16), array([  5,   0,  -1, ..., -19, -25, -30], dtype=int16), array([-14, -27, -34, ...,  32,  94,  53], dtype=int16), array([-6, -2,  0, ...,  5,  6, 10], dtype=int16), array([-14, -12, -22, ...,  56,  34,  -9], dtype=int16), array([10,  7,  6, ..., 20, 26, 18], dtype=int16), array([  0,   0,  -3, ...,   3,  -8, -19], dtype=int16), array([ 35,  43,  48, ..., -25, -13,  -1], dtype=int16), array([71, 48,  7, ..., 11,  9, 23], dtype=int16), array([-13, -27, -47, ..., -36, -34, -29], dtype=int16), array([-20, -14, -13, ..., -37, -32, -20], dtype=int16), array([ 182, -350,  125, ...,    3,   -5,   -1], dtype=int16), array([ 6,  7,  9, ..., 34,  6, -7], dtype=int16), array([ 28,  15, -19, ...,  -6,  -2,  -5], dtype=int16), array([-10, -13, -12, ..., -57, -49, -59], dtype=int16), array([ 3,  0,  2, ..., 21, 22, 26], dtype=int16), array([ 4,  0,  2, ..., 27, 21, 12], dtype=int16), array([-145,  -66,  -38, ...,  -26,  -20,  -20], dtype=int16), array([-106,   29,   81, ...,    9,    1,    3], dtype=int16), array([ 10,  17,  12, ..., -13, -13, -20], dtype=int16), array([-2, 46, 95, ...,  0,  5,  3], dtype=int16), array([  74,  -34, -134, ...,   16,   14,    6], dtype=int16), array([ 94,  83,  70, ..., -44, -38, -36], dtype=int16), array([-15, -15,  -3, ...,  42,  46,  35], dtype=int16), array([  2,   2,   4, ..., -28,  24,  -2], dtype=int16), array([45, 38, 29, ..., 12,  6,  2], dtype=int16), array([-49, -30, -37, ..., -16, -11,  -2], dtype=int16), array([248, 180, 182, ...,  74,  44,  23], dtype=int16), array([ -3,  -3, -14, ...,  11,   1,  11], dtype=int16), array([-18, -25, -21, ..., -18, -15, -22], dtype=int16), array([  3,  -9, -11, ..., -43, -33, -30], dtype=int16), array([-3,  1,  6, ..., 71, 70, 66], dtype=int16), array([ -8, -15, -15, ..., -24,  -5, -33], dtype=int16), array([ 1,  0, -8, ..., -6, -5, -5], dtype=int16), array([12, 16, 21, ...,  0, -1, -6], dtype=int16), array([ -2,  13,  18, ..., -32, -27, -26], dtype=int16), array([  66, -105,   67, ...,   -6,  -22,   -4], dtype=int16), array([-117, -346, -201, ...,   12,   26,   33], dtype=int16), array([ 12,   7,   6, ..., -21, -30, -27], dtype=int16), array([-23, -22, 128, ..., -17, -27, -27], dtype=int16), array([ -1,  -1,  -2, ..., -24, -18, -20], dtype=int16), array([ 1,  2,  2, ...,  2, -2, -2], dtype=int16), array([-120,  -26,   53, ...,  -19,  -15,  -27], dtype=int16), array([ 3,  6,  3, ..., 82, 83, 41], dtype=int16), array([ -4,  -5,  15, ..., -32, -30, -26], dtype=int16), array([-340, -120,   37, ...,    7,   14,   18], dtype=int16), array([  8,  13,  15, ..., -21, -20, -27], dtype=int16), array([-140, -145, -189, ...,   -3,    8,    7], dtype=int16), array([-21, -23, -20, ...,  32,  34,  39], dtype=int16), array([-22, -14,  -7, ...,  -9,   6,  -5], dtype=int16), array([  22,  -92, -144, ...,  -34,  -23,  -24], dtype=int16), array([13, 19, 23, ...,  3,  1,  0], dtype=int16), array([ -6,   3,   0, ...,   0, -12, -10], dtype=int16), array([-15, -23, -21, ...,  14,  20,  11], dtype=int16), array([17, 15, 13, ..., 35, 37, 39], dtype=int16), array([-11, -27, -40, ...,   1, -45, -11], dtype=int16), array([-238,  361,  666, ...,  -10,   -7,   -3], dtype=int16), array([-34, -35, -33, ..., -32, -19, -18], dtype=int16), array([  8,  -7, -21, ...,  17,  39,  22], dtype=int16), array([-1, -3, -4, ..., 20, 23, 18], dtype=int16), array([-24, -25, -22, ...,  14,  10,   4], dtype=int16), array([-52,   4,  63, ...,  23,  28,  30], dtype=int16), array([ 0, -1, -1, ..., 28, 33, 25], dtype=int16), array([-139, -163, -190, ...,  -77,  -28,   14], dtype=int16), array([  7,   9,   9, ..., -17,  -9,  -7], dtype=int16), array([ 0, -6, -5, ..., 12,  5,  7], dtype=int16), array([ 46,  49,  49, ..., -24, -26, -28], dtype=int16), array([ -4,  14,  20, ..., -13, -13, -23], dtype=int16), array([13, 10,  8, ..., 30, 36, 31], dtype=int16), array([-10, -21, -36, ..., -25, -22, -22], dtype=int16), array([  3,  -2,   0, ..., -12, -22, -11], dtype=int16), array([ 24,  29,  35, ..., -12,  -4,  -2], dtype=int16), array([ 10,  38,  49, ..., -14,  -9, -14], dtype=int16), array([ 67, -40, -89, ..., -25, -37, -43], dtype=int16), array([-15, -10,  -2, ...,  26,  22,  26], dtype=int16), array([-9, 32, -9, ..., 50, 45, 39], dtype=int16), array([-6, -3,  1, ...,  2, 10, 21], dtype=int16), array([10,  2,  2, ...,  7,  4,  0], dtype=int16), array([  7,  21,   4, ...,  25, -12, -56], dtype=int16), array([ 15,   9,  13, ..., -51, -59, -59], dtype=int16), array([ -8, -20, -21, ...,  67, -47,  99], dtype=int16), array([  8,   0,  -6, ..., -21, -21, -24], dtype=int16), array([ 2, -3, -6, ..., -2, -8, -8], dtype=int16), array([ -9,   0,  -2, ..., -15,  -6,  -4], dtype=int16), array([ 8, 16, 19, ..., 22, 23, 23], dtype=int16), array([-56, -45, -20, ...,  13,  -9, -22], dtype=int16), array([  4,   4,   0, ...,  31,   7, -27], dtype=int16), array([-15, -11,  -6, ...,   9,   4,  -7], dtype=int16), array([ 1,  2, -1, ..., 43, 40, 36], dtype=int16), array([ 13,  10,   2, ...,   0,  -7, -20], dtype=int16), array([ 0, -6, -5, ..., 29, 21, 25], dtype=int16), array([ -1,  -2,   0, ...,  -1, -10,  -4], dtype=int16), array([-5, -5, -8, ..., 11, 24, 32], dtype=int16), array([ 39,  40,  28, ..., -35, -31, -18], dtype=int16), array([ 4,  1,  3, ...,  9, 15, 15], dtype=int16), array([ -9, -10,   0, ..., -13, -17, -27], dtype=int16), array([ 193,   83, -150, ...,  -17,  -15,  -25], dtype=int16), array([ 28,  36,  20, ..., -16, -24, -23], dtype=int16), array([-14, -11, -11, ..., -12, -11,  -5], dtype=int16), array([ 0,  1,  0, ..., 24, 20,  7], dtype=int16), array([-17, -24, -20, ...,  -2,  -4,  -5], dtype=int16), array([-54, -52, -49, ...,  14,  -4, -36], dtype=int16), array([-4, -1,  0, ...,  4,  4,  0], dtype=int16), array([-84, -84,  22, ...,  -3,  -7,  -5], dtype=int16), array([ 44, 137,  20, ...,   6,  11,  15], dtype=int16), array([ 2,  0,  0, ..., -8, -3,  0], dtype=int16), array([-15,  -7,  -7, ...,  -8,  -5,  -7], dtype=int16), array([ -6,  -6,  -6, ..., -18,  41,  61], dtype=int16), array([ 3,  6, 14, ...,  0, -3, -7], dtype=int16), array([  1,   2,   4, ...,  -6, -11, -10], dtype=int16), array([ -6, 147, 216, ..., -17,  -8, -11], dtype=int16), array([  8,   7,   7, ..., -16,  -7, -11], dtype=int16), array([-1, 40, 18, ..., 23, 28, 39], dtype=int16), array([100,  36, -26, ..., -15,  -3,  -4], dtype=int16), array([ 25,  28,  -2, ..., -23, -22, -25], dtype=int16), array([ 1,  0, -1, ..., -1, -4, -4], dtype=int16), array([  2,   0,  -1, ..., -35, -35, -39], dtype=int16), array([13, 13, 14, ...,  1, -1,  1], dtype=int16), array([ 17,  15,  14, ..., -34, -39, -38], dtype=int16), array([ 9,  9,  9, ...,  7, 11, 11], dtype=int16), array([  1, -27,  -2, ...,  73, 103,  51], dtype=int16), array([ -2,  -4,  -3, ...,   2, -72, -12], dtype=int16), array([111,  84,   9, ...,  -4,  -5,  -2], dtype=int16), array([-10, 139, 192, ...,  -1,  -4, -12], dtype=int16), array([ -7,   3,   5, ..., -63, -68, -58], dtype=int16), array([-179, -144, -187, ...,  -76,  -69,  -63], dtype=int16), array([ 0, 10,  5, ..., 31, 25, 26], dtype=int16), array([ 62, -54, -85, ..., -39, -40, -31], dtype=int16), array([-13, -14, -12, ...,  -1,   2,   5], dtype=int16), array([-175,   31,  246, ...,   35,   50,   49], dtype=int16), array([ 0,  0,  0, ..., -7, -1,  2], dtype=int16), array([  5,   2,   3, ..., -37, -37, -27], dtype=int16), array([  2,   1,   1, ...,  47, -16, -47], dtype=int16), array([  1,   0,   5, ..., -23,  27,  49], dtype=int16), array([ 3,  1, -5, ..., 41, 16,  1], dtype=int16), array([ -8, -13, -14, ...,   1,   5,   8], dtype=int16), array([-3, 14,  0, ..., -8, -1, -6], dtype=int16), array([ 9,  7, 10, ...,  2,  4,  8], dtype=int16), array([  1,   4,  11, ..., -13, -36, -44], dtype=int16), array([-3, -2,  1, ...,  1,  9,  4], dtype=int16), array([ -3, -33,  -3, ...,  27,  19,  14], dtype=int16), array([ 41,  45,  44, ..., -20, -24, -33], dtype=int16), array([  5,   6,   3, ..., -51, -46, -44], dtype=int16), array([-1,  8, 11, ..., 31, 29, 22], dtype=int16), array([  3,   0,  -1, ..., -20, -13, -12], dtype=int16), array([-33, -27, -26, ...,  39, -35, 130], dtype=int16), array([-181,  -45,  112, ...,   17,   16,   15], dtype=int16), array([ 17,  15,  11, ..., -42, -10,  26], dtype=int16), array([  2, -18,  -8, ..., -10, -21, -58], dtype=int16), array([ -7, -17, -32, ...,  27,  16,  16], dtype=int16), array([ 44,  14, -44, ...,  78,  22, -35], dtype=int16), array([ 3,  6, 10, ..., 19, 16, 16], dtype=int16), array([  8,   8,  10, ..., -36, -37, -45], dtype=int16), array([-4, -3, -5, ..., 62, 26, 10], dtype=int16), array([ 21, -28, -36, ...,  40,  29,  13], dtype=int16), array([12,  2, -2, ..., -1, -4, -8], dtype=int16), array([-22, -55, -78, ...,  10,  22,  18], dtype=int16), array([ 29, 192, 177, ...,   4, -18, -14], dtype=int16), array([-17, -19, -18, ...,  -7, -29, -18], dtype=int16), array([ -4,   1,   3, ..., -13, -11, -10], dtype=int16), array([ 192, -210, -318, ...,   45,   62,   65], dtype=int16), array([-10,  -8, -13, ..., -10, -13, -17], dtype=int16), array([ -69, -104, -103, ...,  -20,  -34,  -44], dtype=int16), array([  9,   9,  10, ..., -16, -17, -14], dtype=int16), array([  1,   2,   1, ..., -10,   4,   2], dtype=int16), array([ 0,  0, -1, ..., 27, 17, 14], dtype=int16), array([  0, 111, 252, ..., -21, -27, -26], dtype=int16), array([ 0,  0,  2, ..., 11,  7,  6], dtype=int16), array([-154,  115,  -44, ...,  -28,  -18,  -30], dtype=int16), array([-17, -14,  -9, ..., -29, -28, -23], dtype=int16), array([-61, -21,  69, ...,   4,   1,   0], dtype=int16), array([10,  8,  9, ..., 12, 10,  4], dtype=int16), array([ 3,  7,  5, ..., 18, 19,  6], dtype=int16), array([-4, -6, -6, ...,  2,  6,  5], dtype=int16), array([ 48, -69,   1, ...,  35,  29,  19], dtype=int16), array([23, 20, 14, ..., 28, 28, 31], dtype=int16), array([-41, -34, -34, ...,  25,  31,  17], dtype=int16), array([-39, -34, -27, ...,  21,  23,  21], dtype=int16), array([5, 6, 4, ..., 4, 2, 0], dtype=int16), array([ 30,  32,  31, ..., -20, -11, -13], dtype=int16), array([-22, -34, -43, ..., -45, -46, -25], dtype=int16), array([-2, -5, -5, ..., -3,  8, 18], dtype=int16), array([ -7,  -6, -11, ..., -10, -13, -36], dtype=int16), array([ -92,  -99, -107, ...,    5,   14,    7], dtype=int16), array([-21, -17, -20, ..., -12,  31,   7], dtype=int16), array([  0,   4,   4, ..., -23,  -5,  -6], dtype=int16), array([-22, -19, -17, ..., -19, -15, -15], dtype=int16), array([  6,  11,  15, ...,  39, -39, -55], dtype=int16), array([  4,   1,  -6, ...,  -8, -11,  -6], dtype=int16), array([39, 33, 23, ..., 41, 31, 15], dtype=int16), array([-16, -30, -25, ...,  63,  61,  76], dtype=int16), array([-44,  81, 210, ...,  15,  15,   9], dtype=int16), array([-16, -19, -21, ...,   7,  16,  21], dtype=int16), array([17, 81, 92, ..., 26, 38, 39], dtype=int16), array([163, 183, -17, ..., -18, -11,   2], dtype=int16), array([-309, -208,  -94, ...,   25,   19,   20], dtype=int16), array([ 3,  8, 12, ..., -3,  2,  4], dtype=int16), array([-30, -29, -30, ...,   2,   7,  16], dtype=int16), array([23, 18,  6, ..., 32, 29, 34], dtype=int16), array([13, 17, 13, ..., 16, 17, 31], dtype=int16), array([-30,  92, 120, ...,   6,  -3,  -5], dtype=int16), array([-18, -13,  -8, ...,  11, -11, -33], dtype=int16), array([ 48,  43,  34, ..., -37, -34, -26], dtype=int16), array([-6, -5, -5, ..., 17, 29, 37], dtype=int16), array([-19, -19, -19, ...,  -2,   4,  14], dtype=int16), array([-123,  237, -233, ...,    6,   15,    7], dtype=int16), array([ 95, 196, 287, ...,   7,  15,  10], dtype=int16), array([-6, -6, -6, ..., 58, 73, 70], dtype=int16), array([-241, -108,  105, ...,   28,   33,  -10], dtype=int16), array([25, 23, 24, ...,  1, -1,  7], dtype=int16), array([17, 13, 13, ...,  3, -4, -1], dtype=int16), array([33, 47, 49, ...,  4, 38, 24], dtype=int16), array([ 44,  41,  -1, ..., -26, -37, -48], dtype=int16), array([ 5,  2,  2, ..., 23, 19, 24], dtype=int16), array([ -8, -14, -17, ...,  -8, -11, -12], dtype=int16), array([18, 49, 17, ..., 27, 29, 30], dtype=int16), array([ 77, 189, 255, ...,  69,  49,   1], dtype=int16), array([101,  90,  33, ...,  -9,  -9,  -6], dtype=int16), array([ -23, -200, -298, ...,   28,   16,    5], dtype=int16), array([  4,   5,   8, ..., -64, -53, -64], dtype=int16), array([ 9,  1,  4, ...,  8, 15, 19], dtype=int16), array([ -88, -162,  -76, ...,    9,   13,    3], dtype=int16), array([ -5,  -8, -11, ..., -28, -29, -22], dtype=int16), array([-124,   14,  170, ...,    4,    7,    5], dtype=int16), array([ 8, 10,  4, ..., 69, 19,  0], dtype=int16), array([  4,   2,   0, ..., -14,   1,   3], dtype=int16), array([-16, -16, -11, ...,  70,  75,  81], dtype=int16), array([  5,  10,  10, ..., -21, -15, -20], dtype=int16), array([ 16,  11,   7, ..., -25, -21, -29], dtype=int16), array([-11,  43, -18, ..., -70,  -7,  28], dtype=int16), array([-27, -24, -22, ..., -12,  -4, -11], dtype=int16), array([  1,  -2, -13, ...,  10,   7,   8], dtype=int16), array([ -2,   1,  12, ..., -19, -36,   0], dtype=int16), array([ 14,   3,  -4, ..., -12,  -5,   1], dtype=int16), array([  7,   4,   5, ..., -22, -18, -19], dtype=int16), array([ 3,  1,  3, ..., 33, 35, 27], dtype=int16), array([ -7,  -5,  -6, ..., -10,  -4,   2], dtype=int16), array([  7,   6,   6, ...,  -8, -19, -15], dtype=int16), array([ 268, -104, -157, ...,    8,   -2,   -3], dtype=int16), array([43, 34, 25, ..., -1, -5, -4], dtype=int16), array([ 5,  8, 12, ..., 29, 36, 41], dtype=int16), array([-1,  0,  3, ..., 29, 25, 32], dtype=int16), array([-15,  -8, -10, ..., -16, -17, -25], dtype=int16), array([  1,  -5, -10, ...,   1,   3,  -2], dtype=int16), array([  0,   0,   0, ...,  15,  12, -10], dtype=int16), array([-15, -16, -15, ...,   0,   6,  10], dtype=int16), array([-15, -13, -14, ..., -39,  -4,  -2], dtype=int16), array([ 11,   9,   5, ..., -11, -13,  -5], dtype=int16), array([  0,   2,   0, ..., -20,  -8,  20], dtype=int16), array([-34,  12, -92, ...,   0,   1,  -9], dtype=int16), array([ -1,   0,   0, ..., -17,  -5,   9], dtype=int16), array([-1,  0, -3, ..., -2, -6, -2], dtype=int16), array([-111,  148, -260, ...,   15,   33,   32], dtype=int16), array([294, 360, 249, ...,   7,   6, -15], dtype=int16), array([-26, -13, -20, ..., -13, -10, -10], dtype=int16), array([ -8, -10, -17, ...,  35,   5,   0], dtype=int16), array([-41, -42, -44, ...,  13,  18,  16], dtype=int16), array([22, 19, 18, ...,  1, -2, -6], dtype=int16), array([-10, -14, -11, ...,  10,  24,  19], dtype=int16), array([-31, -35, -41, ...,  74,  55,  37], dtype=int16), array([-234, -273, -188, ...,    4,   -4,   -1], dtype=int16), array([-66, -69, -27, ...,   9,  13,   3], dtype=int16), array([ 13,  62,   6, ..., -14,   1,   1], dtype=int16), array([ 7, 10,  8, ...,  0,  4,  0], dtype=int16), array([ -8,  -8,  -6, ..., -19,  -5,  -9], dtype=int16), array([-15, -18, -13, ..., -14, -17, -18], dtype=int16), array([-145, -145, -130, ...,  -10,  -18,  -14], dtype=int16), array([ 24,  22,  24, ...,   2,  -8, -13], dtype=int16), array([ 0,  8, 11, ..., 28, 21, 29], dtype=int16), array([-174,   32,   98, ...,   -8,   14,    5], dtype=int16), array([13, 15, 24, ...,  0,  1, -5], dtype=int16), array([ -5,  -4,   2, ..., -42, -34, -28], dtype=int16), array([188,  56,  45, ...,  -3,  -4,  -9], dtype=int16), array([12, 11, 14, ..., 13, 20, 16], dtype=int16), array([-11, -13, -15, ..., -28, -34, -41], dtype=int16), array([-10, -11,  -7, ..., -45, -42, -45], dtype=int16), array([-136,  -37,  102, ...,   23,   28,   15], dtype=int16), array([-65,   5,  37, ..., -34, -30, -26], dtype=int16), array([-25, -28, -29, ...,  48,  35,  56], dtype=int16), array([-12,  -9, -17, ...,  24,  -2,   0], dtype=int16), array([  8,  10,   8, ..., -25, -26, -29], dtype=int16), array([ 6,  2,  6, ..., -3,  1,  8], dtype=int16), array([ -4, -24, -12, ..., -32, -24, -27], dtype=int16), array([ 38,  22,  20, ..., -20, -20, -15], dtype=int16), array([ 79,  44, -50, ...,   3,  26,   1], dtype=int16), array([ 18,  20,  20, ..., -14, -36, -46], dtype=int16), array([163, 236, 247, ..., -32, -36, -37], dtype=int16), array([28, 14, 10, ...,  4,  5,  2], dtype=int16), array([34, 34, 44, ..., 18, 23, 27], dtype=int16), array([ 28,  13, -43, ...,  -4,  10,  18], dtype=int16), array([-42, -34, -29, ...,  -3,   0,   8], dtype=int16), array([122, 114,  94, ..., -16, -18, -12], dtype=int16), array([  5,   5,   3, ..., -61,  -1,  24], dtype=int16), array([189, 205,  76, ...,  36,  29,  14], dtype=int16), array([-118,   21, -119, ...,   -9,    0,    2], dtype=int16), array([  0,   6,   9, ..., -12, -16, -10], dtype=int16), array([-20,  44, 122, ...,  14,  14,  14], dtype=int16), array([  79,  -81, -109, ...,   -6,  -13,   -4], dtype=int16), array([-5, -7, -9, ...,  0,  2,  6], dtype=int16), array([  2,   2,   0, ..., -18,  33,  73], dtype=int16), array([ 57, -29,  11, ...,  16,  16,  21], dtype=int16), array([ -2,   3,   1, ...,  90,  34, -10], dtype=int16), array([ 17,  18,  20, ...,  39, -28,  50], dtype=int16), array([19, 14, 13, ..., 50, 58, 58], dtype=int16), array([-25, -17,  39, ...,  20,  17,  11], dtype=int16), array([  0,  -4,  -7, ..., -52, -63, -55], dtype=int16), array([-27, -34, -35, ...,   0,   0,   3], dtype=int16), array([-67,  16, -42, ...,  25,  10,   1], dtype=int16), array([-28, -18, -18, ..., -18, -17, -18], dtype=int16), array([-46, -50, -28, ...,   8,  10,  10], dtype=int16), array([-136,  148,  239, ...,   -2,   -5,  -16], dtype=int16), array([-10, -11, -16, ...,  23,  20,  12], dtype=int16), array([  2,   0,   0, ...,  28,   0, -12], dtype=int16), array([ 9,  7,  8, ..., 16, 15, 24], dtype=int16), array([-34, -37, -43, ...,   5,   9,   1], dtype=int16), array([-10, -12, -12, ..., -23, -11, -25], dtype=int16), array([ 0,  9, -6, ...,  6, 15, 17], dtype=int16), array([  2,  -7, -21, ...,  22,  34,  30], dtype=int16), array([-19, -15, -18, ...,  40,  35,  44], dtype=int16), array([70, 78, 81, ...,  8,  5,  0], dtype=int16), array([-30, -25, -26, ...,  -5, -18, -20], dtype=int16), array([  47,  -42, -101, ...,   20,   24,   21], dtype=int16), array([  0,   0,  -1, ...,  40,   7, -27], dtype=int16), array([  7,  10,  17, ...,  -7, -42, -35], dtype=int16), array([-23, -28, -31, ...,   3,   0,  -3], dtype=int16), array([-236, -154,   52, ...,  -22,  -29,  -33], dtype=int16), array([ 82,  25, -33, ...,   8,   8,   9], dtype=int16), array([ 0,  0, -2, ..., 13, 15, 12], dtype=int16), array([ 2,  1,  3, ..., 11,  4, -4], dtype=int16), array([ -9, -12, -15, ..., -15, -14,  -7], dtype=int16), array([10, 15, 13, ..., 25, 26, 19], dtype=int16), array([ 2,  3,  7, ..., 10,  0,  3], dtype=int16), array([-227, -361, -178, ...,   -8,    0,   -6], dtype=int16), array([ 95, 176, 188, ...,   4,  12,   4], dtype=int16), array([  3,   5,   7, ..., -13,  -9, -13], dtype=int16), array([ -7, -14,  -6, ..., -17,  -8,  -3], dtype=int16), array([-8, -7, -8, ..., -2,  2,  3], dtype=int16), array([ 25,  27,  29, ..., -14,  -3, -29], dtype=int16), array([-5, -5, -2, ...,  0,  6, 15], dtype=int16), array([ 3,  2,  0, ..., 14, 10, 16], dtype=int16), array([  4,   6,   2, ..., -90,  36, 174], dtype=int16), array([ 14,  23,  28, ..., -38, -45, -48], dtype=int16), array([ 1,  0,  2, ..., 12, 29, 34], dtype=int16), array([ 98, 135, 195, ...,  11,   8,  17], dtype=int16), array([-28, -32, -28, ..., -15, -51, -47], dtype=int16), array([-27, -23, -25, ...,  46,  43,  35], dtype=int16), array([-18, -15, -13, ...,  -4,  -8, -15], dtype=int16), array([-177, -170, -161, ...,  -30,  -32,  -32], dtype=int16), array([-16, -16, -15, ...,  -9,  -5,  -6], dtype=int16), array([ 11,  16,  22, ..., -37, -43, -40], dtype=int16), array([ -8, -10, -15, ...,  24,  28,  36], dtype=int16), array([-2, -4, -1, ..., -4, -1, -3], dtype=int16), array([ 212,   46, -281, ...,    7,   11,   20], dtype=int16), array([ -2, -30, -23, ...,  12,  39,  54], dtype=int16), array([ 0, -2,  0, ...,  3,  3, 20], dtype=int16), array([-13, -13, -13, ..., -19, -21, -16], dtype=int16), array([ -26, -165,   18, ...,  -30,  -17,  -38], dtype=int16), array([-8, -7, -9, ..., -2, 17, 34], dtype=int16), array([ -9, -11, -12, ...,  34,  35,  41], dtype=int16), array([ -2,  -2,   0, ..., -18, -12, -17], dtype=int16), array([ -5, -26,  10, ...,  28,  19,  17], dtype=int16), array([-12,  -5,   0, ...,  -2,   0,  -7], dtype=int16), array([  1,  -6, -11, ...,  -5,  -9,   1], dtype=int16), array([ -8,  -8, -10, ...,  33,  62,  43], dtype=int16), array([ 2,  1,  0, ..., -3,  0,  4], dtype=int16), array([  4,   4,   4, ..., -12,  -9,  -8], dtype=int16), array([-4, -6, -4, ...,  1, -5, -5], dtype=int16), array([ -7,  -9, -10, ...,   0,  -8,  -3], dtype=int16), array([5, 6, 8, ..., 0, 1, 1], dtype=int16), array([-36,   8,  26, ...,  31,  28,  28], dtype=int16), array([-7, -4,  3, ..., 38, 48, 27], dtype=int16), array([-19, 225, 242, ...,  12,  11,   9], dtype=int16), array([ -6,  -3,  -5, ..., -20, -17, -16], dtype=int16), array([ -7,  -9, -10, ..., -17, -21, -27], dtype=int16), array([  8,   7,   0, ..., -21, -14, -19], dtype=int16), array([-32, -24, -14, ..., -35, -31, -28], dtype=int16), array([-14, -13, -11, ...,  68,  63,  50], dtype=int16), array([15, 20, 22, ..., 16, 10,  2], dtype=int16), array([100, 124, 120, ...,   4,   3,  16], dtype=int16), array([ 2,  2,  1, ...,  5,  7, 11], dtype=int16), array([ 6,  4,  8, ..., 11, 11,  8], dtype=int16), array([ 202,  -92, -238, ...,   31,   31,   29], dtype=int16), array([ 13,  31,  43, ..., -30, -36, -39], dtype=int16), array([ 5,  2,  1, ...,  2,  6, 12], dtype=int16), array([-5, -3, -2, ..., 49, 51, 51], dtype=int16), array([-13,  25,  74, ..., -21, -23, -29], dtype=int16), array([432, 506, 561, ...,  34,  29,  21], dtype=int16), array([-42, -38, -51, ...,  17,  14,  25], dtype=int16), array([  2,   0,   0, ..., -40,  -4,  -8], dtype=int16), array([13, 11,  4, ...,  1,  2, -2], dtype=int16), array([  0,   2,   4, ..., -10,  22,   3], dtype=int16), array([  0,  -3,   0, ..., -21, -21, -25], dtype=int16), array([33, 30, 29, ...,  3,  1, 15], dtype=int16), array([ -9,  -6,  -2, ..., -19, -36, -65], dtype=int16), array([ -20, -140, -122, ...,    2,    2,    1], dtype=int16), array([ 146,   58, -144, ...,  -17,   -4,    5], dtype=int16), array([-14, -19, -20, ...,   4,  -7, -15], dtype=int16), array([ 0, -1,  3, ..., 56, 33, 27], dtype=int16), array([ -3, -20, -44, ...,  -4,  -2,   6], dtype=int16), array([-65, -59, -26, ...,  15,   1, -11], dtype=int16), array([  9,   0,   5, ..., -61, -73, -75], dtype=int16), array([ -1,   0,  -3, ..., -30, -34, -38], dtype=int16), array([24, 23, 12, ...,  8,  7, 20], dtype=int16), array([-15, -17, -18, ..., -20, -17, -18], dtype=int16), array([-103,   92,  223, ...,   11,   10,    9], dtype=int16), array([ 8, 20, 27, ..., 14,  7, 11], dtype=int16), array([-10, -17, -10, ..., -36, -38, -25], dtype=int16), array([  0,   0, -10, ..., -19, -12,  -8], dtype=int16), array([ 3,  9,  6, ..., 12, -2, -1], dtype=int16), array([ 59,  67,  41, ..., -28, -22, -13], dtype=int16), array([  5,   5,   6, ..., -10, -26, -17], dtype=int16), array([-80, -42,  34, ...,  12,  21,  30], dtype=int16), array([19, 16, 16, ..., 27, 25, 20], dtype=int16), array([-16, -22, -16, ...,   2,  -6,  -2], dtype=int16), array([-11, -11, -19, ..., -19, -16, -23], dtype=int16), array([ -5,  -8,  -9, ..., -25, -21, -24], dtype=int16), array([-4, -1, 13, ..., 58, 53, 53], dtype=int16), array([-28,   9, -29, ...,  -5,   0,   7], dtype=int16), array([-31, -25, -20, ...,  10,  13,  12], dtype=int16), array([-6, -5, -7, ...,  6,  3,  0], dtype=int16), array([  3,   2,   0, ..., -32, -39, -36], dtype=int16), array([  5,   4,   1, ...,  -9, -19, -14], dtype=int16), array([  7,   1,  -1, ..., -56, -49, -19], dtype=int16), array([ -5,  -2,   2, ...,  38,   0, -51], dtype=int16), array([  4,   6,   5, ..., -13,  -6,   0], dtype=int16), array([  0,  -4, -10, ..., -20, -31, -33], dtype=int16), array([-84, -91, -50, ...,  14,   9,   1], dtype=int16), array([ -27, -160, -218, ...,    7,   12,    9], dtype=int16), array([-2,  8, 26, ...,  1,  0,  0], dtype=int16), array([  83, -133,    1, ...,   -5,  -21,  -29], dtype=int16), array([ 21,  68,  65, ..., -66, -16,  21], dtype=int16), array([-18,  83, 165, ...,  -7,  -4,   1], dtype=int16), array([ 14,  15,   9, ...,  68,   1, -37], dtype=int16), array([-10,  -5,  -9, ...,   5,   3,  -1], dtype=int16), array([-26, -25, -23, ..., -12, -10,  -6], dtype=int16), array([ 8, 10, 10, ..., 23, 18, 19], dtype=int16), array([-60, -72, -19, ..., -14, -12,  -5], dtype=int16), array([ 2, 22, 12, ...,  5,  7, 12], dtype=int16), array([ -4,  -9, -11, ...,   3, -30, -65], dtype=int16), array([-2, -4, -2, ..., 22, 24, 30], dtype=int16), array([-5, -4,  0, ...,  4,  1,  2], dtype=int16), array([ 6,  6,  6, ..., 33, 20, 18], dtype=int16), array([14,  9, 10, ...,  3,  2,  6], dtype=int16), array([-12, -17, -24, ..., -42, -37, -25], dtype=int16), array([112, 196, 193, ..., -36, -31, -27], dtype=int16), array([  49, -177,   11, ...,   10,    1,    2], dtype=int16), array([ -6, -21,  -6, ...,  13,   5,  -2], dtype=int16), array([ 30, -19,  51, ...,  -5,  -7,  -3], dtype=int16), array([ -7, -99, -84, ...,  -8, -13, -10], dtype=int16), array([-23, -20, -16, ...,  23,  20,  19], dtype=int16), array([ -3,   1,   3, ..., -45, -52, -62], dtype=int16), array([-2,  3,  8, ..., -3,  0,  2], dtype=int16), array([ 45,   4, -62, ..., -91, -59, -10], dtype=int16), array([ -7,  -4,  -6, ..., -43, -47, -42], dtype=int16), array([-60, -65, -69, ..., -67, -72, -41], dtype=int16), array([-13,  25,  68, ...,   9,   8,  17], dtype=int16), array([ 85, 171, 255, ..., -34, -39, -38], dtype=int16), array([51, 43, 14, ..., 14, 16,  7], dtype=int16), array([-15, -17, -19, ...,  44,  35,  24], dtype=int16), array([-56, -44, -49, ...,  14,  14,  23], dtype=int16), array([13,  9, 14, ..., 12, 10,  9], dtype=int16), array([-276, -213,    4, ...,   66,  -16,  -34], dtype=int16), array([ 9, 11, 12, ..., 27, 26, 21], dtype=int16), array([-50,  81, 219, ...,   0,  -2,  10], dtype=int16), array([75, 36, 27, ..., 13, 10,  4], dtype=int16), array([ 49,  43,  32, ...,  15,   7, -22], dtype=int16), array([ -4,   2,   3, ..., -34, -40,   6], dtype=int16), array([ 7,  2,  1, ..., 19, 18, 13], dtype=int16), array([ 27, -12, -18, ..., -10, -13, -17], dtype=int16), array([-168,  -50,  101, ...,    2,    2,    6], dtype=int16), array([-11,  -3,  -2, ...,  21,  17,  27], dtype=int16), array([ -8,  -9, -11, ...,   2,   0,   0], dtype=int16), array([118, 137, 184, ...,  -9, -23, -31], dtype=int16), array([ -1,  -6, -11, ...,  10,   8,   7], dtype=int16), array([-83, -39,  88, ...,   0,  13,  -6], dtype=int16), array([  8,   8,   7, ...,  -9, -10,  -4], dtype=int16), array([ 24,  10,  61, ..., -16, -19, -22], dtype=int16), array([-59, -11,   2, ...,  16,  13,  15], dtype=int16), array([ 65, -40, -88, ...,   8,  13,  19], dtype=int16), array([-121, -186,  226, ...,    4,   -1,    3], dtype=int16), array([-14,  -6, -12, ...,   0,   1,   7], dtype=int16), array([ 29,  23,  11, ...,   3, -23, -22], dtype=int16), array([187, 265,  54, ...,  -3,  18,  28], dtype=int16), array([ -4,  -4,   1, ..., -23, -28, -24], dtype=int16), array([ -30,  -78, -135, ...,   -1,    0,    3], dtype=int16), array([-25, -27, -28, ...,  44,  68,  86], dtype=int16), array([-26, -25, -12, ...,   0, -21, -21], dtype=int16), array([132, 165, 153, ..., -75, -69, -44], dtype=int16), array([ -6,  -4,   2, ..., -44,  -6,  28], dtype=int16), array([-23, -36,  53, ...,  13,  21,  17], dtype=int16), array([18,  0,  2, ...,  7, 16, 22], dtype=int16), array([  7,  18,   8, ...,  -3, -13, -14], dtype=int16), array([20, 20, 24, ..., 86, 81, 79], dtype=int16), array([17, 19, 18, ...,  4,  3,  5], dtype=int16), array([ 30,  47,  56, ..., -50, -43, -40], dtype=int16), array([-11,  -7,  -7, ...,  26,  24,  29], dtype=int16), array([37, 41, 60, ...,  8, 14,  5], dtype=int16), array([22, 20, 20, ..., 40, 46, 44], dtype=int16), array([-34, -24, -53, ...,  32,  29,  27], dtype=int16), array([-13, -11,  -1, ...,  -8, -10,  -7], dtype=int16), array([ 2,  9, 11, ..., -6, -6, -3], dtype=int16), array([  1,   2,   0, ...,  -9, -17, -20], dtype=int16), array([ 16,   9,  16, ...,  -5, -12, -15], dtype=int16), array([35, 43, 45, ..., 44, 33, 24], dtype=int16), array([-16, -16, -12, ..., -28, -29, -32], dtype=int16), array([ 29,  27,  16, ..., -33, -29, -20], dtype=int16), array([ 13,  10,   7, ...,  -8, -10, -11], dtype=int16), array([-2, -4, -5, ..., -3, -5, -4], dtype=int16), array([516, 418, 233, ...,  -4,  -4,  -2], dtype=int16), array([-30, -26, -23, ..., -23, -16, -23], dtype=int16), array([-10, -10, -12, ...,  11,   3,   6], dtype=int16), array([-6, -3, -3, ...,  3,  4, -1], dtype=int16), array([-66,  -5,  48, ...,  15,   1,   0], dtype=int16), array([ 7,  8,  0, ...,  7, -1,  6], dtype=int16), array([287, 227,   0, ...,  13,   8,  -3], dtype=int16), array([ 40,  44,  50, ...,  50,   0, -23], dtype=int16), array([-143,  -86,  -70, ...,   -7,   -8,  -18], dtype=int16), array([-16, -20, -18, ...,  34,  26,  24], dtype=int16), array([81,  0, 46, ...,  0, -2, -3], dtype=int16), array([ 0,  0,  1, ..., 11, 13, 13], dtype=int16), array([-105,   -7,   79, ...,    7,    6,    5], dtype=int16), array([-66, -34,  72, ..., -59, -29, -11], dtype=int16), array([-2, -3,  0, ..., -4,  0,  6], dtype=int16), array([-21, -22, -20, ..., -32, -21, -25], dtype=int16), array([19, 21, 14, ..., -5, -5, -7], dtype=int16), array([-14, -32,   7, ..., -20, -26, -29], dtype=int16), array([-136, -367, -161, ...,   -5,  -23,   13], dtype=int16), array([ -6,   2,   3, ..., -10,   3,  12], dtype=int16), array([190, -22,  54, ...,   3,  -3,  -5], dtype=int16), array([ -4,  -1,  -1, ...,  -4, -18, -17], dtype=int16), array([-18, -27, -21, ..., -29, -28, -22], dtype=int16), array([ 4,  5,  7, ..., 19, 34, 74], dtype=int16), array([-41, -32, -19, ...,  -3,  -4,  -9], dtype=int16), array([-1,  4, -3, ...,  0, -3, 19], dtype=int16), array([-21, -13, -10, ...,  37,  29,  19], dtype=int16), array([37, 37, 31, ...,  4,  2, -3], dtype=int16), array([-29, -28, -35, ..., -20, -21, -24], dtype=int16), array([-15,  -9, -13, ...,   9,  -1,  -6], dtype=int16), array([ -4,  35, -73, ..., -15, -13,   0], dtype=int16), array([12,  8, 10, ...,  8, 16,  9], dtype=int16), array([ 0,  0,  0, ..., -7, -3, -1], dtype=int16), array([  5,   0,   0, ..., -14,  -2, -16], dtype=int16), array([286, 267, 139, ...,  -7,  -7,  -4], dtype=int16), array([-1,  3,  0, ...,  7, -3,  0], dtype=int16), array([ 7, 10,  9, ...,  6, 10, -2], dtype=int16), array([ 52,   4, -42, ...,  64,  67,  64], dtype=int16), array([  7,   5,   8, ..., -27, -25, -25], dtype=int16), array([  1,   0,   3, ..., -58, -45, -33], dtype=int16), array([-17, -16, -21, ...,  20,  18,  26], dtype=int16), array([ 15,  14,  13, ..., -12, -10,  -7], dtype=int16), array([ 231, -394, -516, ...,  -39,  -47,  -53], dtype=int16), array([-34, -45, -22, ..., -20, -18, -13], dtype=int16), array([-25, -27, -28, ...,  -2,  -5,  -5], dtype=int16), array([ 2, -1,  2, ...,  0,  3,  5], dtype=int16), array([8, 8, 5, ..., 6, 3, 0], dtype=int16), array([-22, -21, -21, ...,  -6, -23, -24], dtype=int16), array([ 46,  69,  34, ..., -15, -13, -23], dtype=int16), array([  9, 117, 189, ..., -38, -28, -27], dtype=int16), array([15, 14, 13, ..., 75, 74, 84], dtype=int16), array([-39, -49, -53, ...,  -4,  -3,   4], dtype=int16), array([  6,   4,   0, ...,  23,   3, -11], dtype=int16), array([-123,  246, -135, ...,   89,  -77,   75], dtype=int16), array([ 14,  31,  39, ..., -17, -26, -30], dtype=int16), array([-383, -179, -145, ...,   -2,  -13,   -4], dtype=int16), array([-204, -155,  -14, ...,   10,    6,   -7], dtype=int16), array([-47, -96, 283, ..., -59,  15,  22], dtype=int16), array([  3,   2,   4, ..., -37, -20, -43], dtype=int16), array([-17, -18, -14, ...,  -4, -11, -18], dtype=int16), array([  3,   4,  -7, ...,  59,   0, -67], dtype=int16), array([ 5, -4, -4, ...,  0, -2,  1], dtype=int16), array([-10, -10,  -8, ...,  49,  43, -12], dtype=int16), array([-22,  25,  53, ..., -39, -37, -33], dtype=int16), array([191, 134,  12, ...,  28,  31,  24], dtype=int16), array([  2,   0,   0, ...,  44,  11, -16], dtype=int16), array([ 41,  40,  32, ..., 104,  98, 100], dtype=int16), array([ 14,  32,  37, ..., -31, -39, -45], dtype=int16), array([  8,  10,  53, ..., -23,   6,   2], dtype=int16), array([ 3, 14,  1, ..., 57, 45, 19], dtype=int16), array([ -5,  -6,  -5, ..., -10, -11, -13], dtype=int16), array([28, 17,  8, ...,  8,  3,  0], dtype=int16), array([ -3,  -4,  -4, ...,  41, 507, 687], dtype=int16), array([ -1, -10,  -5, ..., -12,  -6, -11], dtype=int16), array([ -5,  -6,  -7, ...,  16, -12,   8], dtype=int16), array([ 4,  0, -3, ..., -4,  0,  0], dtype=int16), array([  0,  -2,   0, ..., -17, -22, -13], dtype=int16), array([  1,   0,   0, ...,  -2, -11, -10], dtype=int16), array([-2, -7, -5, ..., 31, 39, 42], dtype=int16), array([ 0, -7,  3, ..., -9, -2,  2], dtype=int16), array([ -8, -12, -18, ..., -21,  -9,  -1], dtype=int16), array([   9,   14,   16, ..., -190, -106,   11], dtype=int16), array([  7,   5,   1, ...,  -2,  -7, -20], dtype=int16), array([ 5,  6,  6, ...,  6, 12, 10], dtype=int16), array([-1,  0, -2, ...,  5,  8, 13], dtype=int16), array([ 2,  7,  7, ...,  9, 14, 13], dtype=int16), array([  5,   2,   2, ..., -18, -17, -13], dtype=int16), array([-17, -16, -13, ...,   0,   6,  -1], dtype=int16), array([-5, -8, -9, ...,  2, 46, 37], dtype=int16), array([ 9, 11,  7, ..., -6, -2,  1], dtype=int16), array([ 74,  58,  -3, ...,   6,  -6, -11], dtype=int16), array([-43, -36, -27, ...,  -2,   1,   4], dtype=int16), array([-10, -13, -10, ..., -39, -24, -19], dtype=int16), array([ 27,  27,  21, ..., -24,   9,  37], dtype=int16), array([-1, -1,  0, ...,  4,  4,  0], dtype=int16), array([-1,  0,  0, ...,  1,  1,  3], dtype=int16), array([74, 75, 63, ...,  7, 18,  2], dtype=int16), array([16,  0, -1, ..., -3, 13, 28], dtype=int16), array([ 6,  7,  8, ..., 14,  0,  2], dtype=int16), array([-25, -17, -27, ...,   2,   3,  -6], dtype=int16), array([-17, -22, -22, ...,  10,  15,   9], dtype=int16), array([ -2,  -9, -13, ..., -60, -34,  -7], dtype=int16), array([-20, -21, -19, ...,  -4,  -1,  -8], dtype=int16), array([175, 160, 115, ...,  41,  44,  31], dtype=int16), array([ -2,  -3, -15, ...,  64,  56,  73], dtype=int16), array([-2, -5, -4, ..., -1, 10, 15], dtype=int16), array([-122,   79,  137, ...,   32,   13,   28], dtype=int16), array([  5,   4,  11, ..., -18, -10, -11], dtype=int16), array([  7,  -8,  12, ..., -58,  47,  11], dtype=int16), array([ 33,  22,  13, ..., -14, -30, -10], dtype=int16), array([ 23,  34,  45, ..., -19, -27, -35], dtype=int16), array([ 30, 239,  91, ...,   4, -41, -26], dtype=int16), array([  0,  -1,   4, ..., -33, -28, -27], dtype=int16), array([  -9,   63,   78, ..., -105, -133,  154], dtype=int16), array([-114,  -67,  177, ...,  -33,  -36,  -33], dtype=int16), array([30, 31, 40, ..., 39, 58, 50], dtype=int16), array([-82, -30,  18, ..., -16, -18,   8], dtype=int16), array([ 27,  31,  36, ..., -33, -34, -37], dtype=int16), array([ 0,  1, -6, ..., 30, 28, 30], dtype=int16), array([ 29,  35,  32, ..., -29, -26, -24], dtype=int16), array([25, 27, 22, ..., 13, 17, 18], dtype=int16), array([-22, -40,  18, ..., -13, -36,   9], dtype=int16), array([ 3,  1, -2, ..., -1, -3,  0], dtype=int16), array([ 9,  7,  7, ..., 24, 16, 18], dtype=int16), array([30,  4, 31, ..., 42, 46, 50], dtype=int16), array([ 1,  5,  4, ..., 41, 43, 50], dtype=int16), array([ 114,  231, -185, ...,   19,    9,    3], dtype=int16), array([168, 222,  43, ..., -70,  51,  77], dtype=int16), array([  0,  -4,  -2, ..., -36, -38, -41], dtype=int16), array([ 87, 103, -13, ...,   2,   0,   3], dtype=int16), array([-19, -18, -21, ...,  31,  45,  57], dtype=int16), array([-44, -36, -27, ...,  -3,  -7, -12], dtype=int16), array([ 2,  0,  1, ..., 68, 57, 46], dtype=int16), array([ 30,   9, -17, ...,  20,  17,  15], dtype=int16), array([-3, -3,  0, ...,  1,  0,  0], dtype=int16), array([20, 35, 51, ...,  2,  1, -2], dtype=int16), array([-5, -4, -6, ..., 16, 17, 19], dtype=int16), array([  0,   2,  -2, ..., -13,  -3, -11], dtype=int16), array([-24, 130, 213, ...,  -9, -15, -17], dtype=int16), array([ 69,  32, -10, ..., -18, -29, -38], dtype=int16), array([  8,   8,   9, ..., -14, -19, -16], dtype=int16), array([  8,  -1,  -1, ..., -53, -84, -90], dtype=int16), array([14, 11, 10, ..., 20, 13, 13], dtype=int16), array([ -6, -12, -12, ...,  -1,   1,   3], dtype=int16), array([-14, -22, -22, ..., -21, -30, -30], dtype=int16), array([-3,  6,  3, ..., 40, 30, 34], dtype=int16), array([-204,   13,  -89, ...,  -29,  -25,  -16], dtype=int16), array([-1, -3, -7, ..., 10,  6, 11], dtype=int16), array([-75, -44,  77, ...,   0,   0,   1], dtype=int16), array([ 38,  48,  -8, ..., -21, -21, -29], dtype=int16), array([-11, -17, -18, ...,  25,  28,  34], dtype=int16), array([ 24,  22,  25, ..., -26, -19, -14], dtype=int16), array([ 90,  92,  87, ..., -69, -19, -24], dtype=int16), array([-16, -14, -11, ..., -31, -14,  21], dtype=int16), array([-255, -177, -130, ...,    3,    2,    1], dtype=int16), array([-50, -83, -44, ..., -19, -14, -13], dtype=int16), array([-10,  -4,  -6, ...,  14,  -7,  -3], dtype=int16), array([-133,  -23,   66, ...,   -4,   -6,   -5], dtype=int16), array([-112,  -77,   59, ...,   30,   32,   38], dtype=int16), array([ 5,  2,  4, ..., -2,  0,  3], dtype=int16), array([19, 17,  7, ...,  0,  4, 13], dtype=int16), array([13, 12, 12, ...,  7,  1, -2], dtype=int16), array([-13,  -9,  -7, ...,  25,  12,   6], dtype=int16), array([-13, -12, -16, ...,   7,   5,   7], dtype=int16), array([-22, -24, -15, ..., -40, -49, -50], dtype=int16), array([30, 32, 24, ...,  4,  6,  3], dtype=int16), array([228, 154,  -8, ...,  15,   1,  -3], dtype=int16), array([ -55, -175, -183, ...,   -6,  -14,  -28], dtype=int16), array([  0,  -6,  -8, ..., -24, -21,  -7], dtype=int16), array([-6, -6, -3, ..., -8, -3,  4], dtype=int16), array([-12, 131,  40, ...,  -4,  -1,  -4], dtype=int16), array([21, 21, 13, ..., 29, 27, 26], dtype=int16), array([ 0, -2,  2, ...,  4,  6,  6], dtype=int16), array([ 18,  10,   8, ..., -14, -26, -27], dtype=int16), array([205, 226, 216, ...,  17,  35,  40], dtype=int16), array([ 48,  41,  38, ...,   6,  -8, -21], dtype=int16), array([-88,  62,  83, ..., -16, -12, -15], dtype=int16), array([13, 12,  6, ..., 30, 28, 26], dtype=int16), array([  5,   4,   3, ..., -15, -17, -22], dtype=int16), array([  4,   4,   1, ...,  -1, -10, -18], dtype=int16), array([50, 52, 54, ...,  0,  3, -8], dtype=int16), array([  6,   2,  -2, ..., -85, -81, -63], dtype=int16), array([-17, -19, -14, ...,  13,  17,  20], dtype=int16), array([-114,    0,  133, ...,  -11,  -13,    3], dtype=int16), array([  2,   0,   0, ..., -56, -79, -62], dtype=int16), array([-19,  47,  34, ..., -18, -21, -21], dtype=int16), array([-11, -16, -19, ...,  40,  42,  55], dtype=int16), array([ 0,  5,  6, ..., 19, 34, 43], dtype=int16), array([ 53,  40,  24, ..., -38, -41, -35], dtype=int16), array([ 11,  14, -34, ...,  -5,   0,  -3], dtype=int16), array([ 2,  1,  1, ..., -9, -2, -2], dtype=int16), array([-31,  62,  90, ..., -31, -14,   0], dtype=int16), array([   1,    0,   -2, ...,  -71,  -95, -106], dtype=int16), array([-100,  -85,  -81, ...,   -1,   -7,   -9], dtype=int16), array([ 29,  20,   9, ..., -37, -50, -53], dtype=int16), array([ 13,  16,  14, ..., -31, -30, -21], dtype=int16), array([  6,  67,  45, ..., -18, -15, -18], dtype=int16), array([ -8,  -6,  -5, ..., -23, -23, -12], dtype=int16), array([ -5, -48, -80, ...,  11,   9,  12], dtype=int16), array([-22, -14, -10, ...,  -3, -15, -27], dtype=int16), array([   2,    0,   10, ...,  -51,  -85, -106], dtype=int16), array([ -7, -12, -21, ...,  56, -19, -31], dtype=int16), array([ 1,  0,  2, ..., 35, 31, 21], dtype=int16), array([-2,  1,  1, ..., 11,  4, -8], dtype=int16), array([-13,  -5,  -2, ...,  52,  11, -37], dtype=int16), array([-17, -18, -26, ...,  13,  17,  22], dtype=int16), array([-167, -123, -105, ...,   -1,   -1,   -1], dtype=int16), array([ 1, -1, -8, ..., 12, 26, 36], dtype=int16), array([160,  66, -21, ...,  47,  35,  14], dtype=int16), array([  8,   8,  11, ..., -29, -24, -25], dtype=int16), array([ 12,  10,  13, ..., -14,  -8,  -6], dtype=int16), array([  91, -173, -325, ...,  -18,  -21,  -19], dtype=int16), array([11, 21, 18, ..., 14, 28, 23], dtype=int16), array([-127,  -63,  -24, ...,  -13,  -17,   -8], dtype=int16), array([  30, -110,   72, ...,   17,   16,   19], dtype=int16), array([16, 22, 26, ...,  3,  0,  2], dtype=int16), array([4, 5, 7, ..., 3, 0, 2], dtype=int16), array([-4, -1,  0, ..., 51, 77, 40], dtype=int16), array([-14, -22,   6, ...,  22,  31,  18], dtype=int16), array([ 5,  9,  8, ..., -2,  4,  7], dtype=int16), array([  18,   15,   14, ...,  -95, -102, -102], dtype=int16), array([ 50,  14,  16, ..., -16, -36, -39], dtype=int16), array([ -3,  -3,   7, ...,   6, -56,  68], dtype=int16), array([-17, -20, -15, ...,   0,  47, -28], dtype=int16), array([  2,  -1,   0, ..., -24, -31, -11], dtype=int16), array([-2, -4,  1, ..., 18, 26, 22], dtype=int16), array([  7,   1,   0, ...,  -1, -11, -12], dtype=int16), array([ -9, -17, -27, ..., -23, -26, -32], dtype=int16), array([-13, -11, -16, ..., -12,  -8,  -6], dtype=int16), array([-77,  12,  32, ...,  33,  27,  21], dtype=int16), array([ -17, -168, -264, ...,   -5,    2,   10], dtype=int16), array([ 7,  5,  6, ..., 27, 26, 30], dtype=int16), array([-17, -16, -13, ...,  -9,   1, -26], dtype=int16), array([-33, -31, 120, ...,  -1,  -1,   9], dtype=int16), array([17, 17, 18, ...,  7,  0,  3], dtype=int16), array([ 18,  18,  15, ..., -24, -36, -58], dtype=int16), array([-34, -28, -30, ..., -22, -10, -11], dtype=int16), array([-9, -7, -6, ...,  2,  5, -6], dtype=int16), array([24, 23, 22, ..., 47, 23,  6], dtype=int16), array([ -27, -110,  -41, ...,  -20,    8,   51], dtype=int16), array([ 4,  2,  1, ...,  0, -2, -1], dtype=int16), array([ -5, -16, -21, ...,  -1,  -3, -10], dtype=int16), array([  4,  98, 126, ...,  23,  32,  28], dtype=int16), array([-44, -74, -33, ..., -11,  -3,  -2], dtype=int16), array([ 30, -54, -83, ..., -38, -15, -17], dtype=int16), array([ -2,  -1,  -2, ..., -42, -49, -54], dtype=int16), array([-8, -7, -4, ..., 23, 13, 13], dtype=int16), array([ -24, -177, -295, ...,    2,  -23,   -4], dtype=int16), array([-36, -36, -38, ...,  12,  13,   4], dtype=int16), array([-13, -13, -11, ..., -42, -46, -49], dtype=int16), array([ 17,  16,  14, ..., -15, -15,   5], dtype=int16), array([ 8,  8,  1, ..., -5,  5,  1], dtype=int16), array([-10,  -9,  -6, ..., -17, -12, -12], dtype=int16), array([ -5, -12, -11, ...,  -1,  -3,  -9], dtype=int16), array([106, -10, -69, ...,   5,  82,  47], dtype=int16), array([ -8, -10, -10, ..., -20, -12,  -2], dtype=int16), array([ 9,  5,  1, ..., -7, 11,  1], dtype=int16), array([  3, -10,  -5, ...,  36,  -6, -17], dtype=int16), array([-14, -10, -17, ...,  -5,  -9, -14], dtype=int16), array([-21, -27, -27, ...,   2,   4, -16], dtype=int16), array([ 2,  6,  6, ...,  3, -1,  9], dtype=int16), array([  1,   1,   0, ..., -37, -23, -32], dtype=int16), array([ 8,  3,  0, ..., -7,  1,  3], dtype=int16), array([ 28,  23,  28, ..., -15,   8,   8], dtype=int16), array([ -7,  -5,   2, ..., -31,  13,  48], dtype=int16), array([ 7,  9,  2, ..., 19, 18, 19], dtype=int16), array([ 30,  28,  23, ..., -38, -87,   9], dtype=int16), array([119, 122,  89, ...,  24,  27,  30], dtype=int16), array([-24, -32, -25, ..., -32, -27, -23], dtype=int16), array([-303,  230,  -68, ...,   22,   18,   10], dtype=int16), array([-1,  0,  0, ..., 28, 26, 23], dtype=int16), array([16, 21, 20, ...,  0,  5,  8], dtype=int16), array([-15, -12, -18, ..., -11, -13,   0], dtype=int16), array([ -8, -13, -10, ...,  20,  13,   0], dtype=int16), array([-10,  -8,  -7, ..., -10, -13, -17], dtype=int16), array([ -1,   0,   1, ..., -27, -21,   3], dtype=int16), array([ 7, -6, 12, ..., 18, 19, 25], dtype=int16), array([  31,   27,   28, ...,  -78, -154, -160], dtype=int16), array([  26, -177,  329, ...,    2,    0,    4], dtype=int16), array([-42, -39, -41, ..., -18, -12, -13], dtype=int16), array([ 2,  1,  0, ..., -2,  0,  3], dtype=int16), array([ 9, 18, 22, ...,  2,  9,  5], dtype=int16), array([12, 11, 14, ...,  0,  3, 11], dtype=int16), array([-11,  -9,  -9, ..., -10, -12, -13], dtype=int16), array([ 68,  68, -30, ...,  39,  13, -51], dtype=int16), array([-7, -6, -1, ...,  0,  7, 10], dtype=int16), array([ -3, -11, -20, ...,  29,  11,   7], dtype=int16), array([-2,  0, -5, ..., -2, -2,  0], dtype=int16), array([ -2,  -3,  -1, ..., -10,  -7, -14], dtype=int16), array([-17, -15, -18, ...,  14,   9,  19], dtype=int16), array([-46,  39, -49, ...,  48,  38,  20], dtype=int16), array([11, 14, 17, ..., 47, 46, 37], dtype=int16), array([-2, -9, -5, ...,  1, -2, -1], dtype=int16), array([-2, -2,  1, ...,  9, 18, 15], dtype=int16), array([ 46,  16,  48, ..., -38, -31, -19], dtype=int16), array([  3,   3,   0, ..., -14, -11, -12], dtype=int16), array([ 0, -3, -4, ..., 14, 30, 30], dtype=int16), array([-1,  2,  3, ..., 15, 10,  7], dtype=int16), array([-229, -255, -254, ...,  -28,  -35,  -44], dtype=int16), array([-32, -29, -27, ..., -52, -48, -41], dtype=int16), array([-17, -25,  -3, ...,  26,  56,  22], dtype=int16), array([ 11,   6,   2, ..., -27, -52, -36], dtype=int16), array([19, 18, 21, ..., -5,  0,  4], dtype=int16), array([  6,   5,   8, ..., -10, -17,  -7], dtype=int16), array([-4,  0,  5, ..., 17, 13, 12], dtype=int16), array([  4,   2,   0, ..., -17, -16, -14], dtype=int16), array([-14,  29, -33, ..., -15, -14,  -9], dtype=int16), array([-29, -24, -25, ...,  33,  27,  26], dtype=int16), array([ -8, -10,  -5, ..., -12, -12, -10], dtype=int16), array([ 187,  212, -195, ...,    9,   -5,    8], dtype=int16), array([-1, -4, -1, ..., 32, 35, 27], dtype=int16), array([-43, 246, 151, ...,   1,   7,   8], dtype=int16), array([4, 5, 8, ..., 0, 3, 9], dtype=int16), array([50, 52, 52, ...,  3,  7,  3], dtype=int16), array([-32, -33, -31, ..., -38,  29,  21], dtype=int16), array([-1, -1, -1, ..., 18, 10,  6], dtype=int16), array([ 0, -1,  0, ..., -3, -1, -5], dtype=int16), array([-22, -22, -26, ...,  26,  24,  23], dtype=int16), array([ -3,   2,   9, ..., -21, -13, -13], dtype=int16), array([-117,  -89,  -45, ...,    5,  -10,   -9], dtype=int16), array([ 33,  94,  14, ...,  -8, -10, -16], dtype=int16), array([ 5,  6,  6, ..., 49, 57, 61], dtype=int16), array([  4,   5,   4, ..., -31, -22, -13], dtype=int16), array([ -29,  -37,  -37, ...,   29,  -79, -122], dtype=int16), array([ 4,  3,  2, ..., -1, 16,  8], dtype=int16), array([14, 16, 17, ..., 50, 57, 60], dtype=int16), array([-131,   68,   24, ...,  -15,  -18,  -22], dtype=int16), array([-5, -1, -3, ..., 15,  9,  8], dtype=int16), array([ 11,  10,   8, ..., -30, -32, -39], dtype=int16), array([-309, -127,  109, ...,  -47,  -11,   40], dtype=int16), array([10, 14, 17, ..., 44, 30, 25], dtype=int16), array([ 149, -137, -220, ...,   -5,    5,    5], dtype=int16), array([-33, -37, -26, ...,  13,   4, -15], dtype=int16), array([19, 22, 22, ...,  6,  5, 11], dtype=int16), array([ 362,  204, -115, ...,  164,  143,  106], dtype=int16), array([ 0,  0,  0, ..., -7,  0,  5], dtype=int16), array([ 37,  35,  32, ..., -39, -49, -51], dtype=int16), array([ 1,  0, -1, ..., 21, 16,  8], dtype=int16), array([  1,  10,  11, ..., -84, -83, -82], dtype=int16), array([ 3,  0, 10, ..., 16, 21, 25], dtype=int16), array([-13,  -4,   0, ...,   3,   4,   2], dtype=int16), array([-3, -3, -6, ..., 12,  4,  8], dtype=int16), array([ -3, -74,  35, ...,  14,  22,  25], dtype=int16), array([ -9, -10, -13, ..., -17, -15,  -3], dtype=int16), array([ 112, -175,  -33, ...,    1,   -2,    5], dtype=int16), array([23, 25, 27, ..., 40, 55, 65], dtype=int16), array([-19, -19, -21, ...,  10,   3,   7], dtype=int16), array([22, 22, 15, ...,  4,  1,  0], dtype=int16), array([-1, 16, 37, ...,  0,  5,  5], dtype=int16), array([-159,  -28,   58, ...,  -16,  -41,  -72], dtype=int16), array([-27, -33, -28, ..., -15, -12, -23], dtype=int16), array([-15, -15, -14, ...,  14,  29,  42], dtype=int16), array([ 0, -2,  0, ...,  2,  6,  5], dtype=int16), array([-15, -13, -17, ...,  18,  18,  20], dtype=int16), array([11,  7,  2, ..., -3,  0,  7], dtype=int16), array([-13, -10, -14, ..., -46, -46, -46], dtype=int16), array([-110,  -59,   -1, ...,   -4,    0,   -2], dtype=int16), array([  0,  -9, -14, ...,  14,  55,  45], dtype=int16), array([108,  76,  39, ..., -36, -22, -17], dtype=int16), array([10,  6,  9, ..., 45, 11,  0], dtype=int16), array([  3,   4,   0, ..., -34, -46, -34], dtype=int16), array([ 65,  96, 146, ...,  16,  17,   9], dtype=int16), array([-67,  60, 169, ...,  -6,  14,  22], dtype=int16), array([-192,  184,  -25, ...,    5,    0,    6], dtype=int16), array([  5,   9,   8, ..., -19, -20, -16], dtype=int16), array([ 0,  0,  2, ..., -1,  2, -7], dtype=int16), array([-24, -21,  -3, ...,  26,  54, -10], dtype=int16), array([ 51,  74,  54, ..., -18,  -6, -19], dtype=int16), array([-25, -22, -16, ...,  19,  10,  10], dtype=int16), array([ 1,  0,  3, ..., 51, 43, 41], dtype=int16), array([-100,  -80,  257, ...,    0,    7,   12], dtype=int16), array([ 8,  9, 11, ..., -3,  0,  4], dtype=int16), array([ 46,  39,  25, ..., -27, -23, -20], dtype=int16), array([ 32,  24,  27, ..., -10, -26, -30], dtype=int16), array([   9,   12,   19, ...,  -68, -119, -128], dtype=int16), array([-26, -30, -30, ...,  17,  19,  23], dtype=int16), array([ 1,  1,  2, ..., 10, 16, 22], dtype=int16), array([-26, -22, -25, ...,   0,  -8,   2], dtype=int16), array([  86,  -44, -165, ...,   12,   10,    0], dtype=int16), array([16, 14,  8, ..., 17, 23, 15], dtype=int16), array([ -5,  -9,  -6, ..., -55,  30,  52], dtype=int16), array([-161, -170, -174, ...,   -8,   -5,    2], dtype=int16), array([111,  -2,  65, ...,  -8,   1,   4], dtype=int16), array([-53,  20,  73, ...,   3,  15,  16], dtype=int16), array([14, 14, 19, ..., 24, 31, 37], dtype=int16), array([27, 23, 19, ..., 48, 24, 24], dtype=int16), array([-55, -17,  39, ...,  -9,  -9, -16], dtype=int16), array([-62, -70, -70, ...,  10,  10,   9], dtype=int16), array([  5,   2,  -5, ...,  -5,   0, -15], dtype=int16), array([-19, -17, -23, ..., -69, -71, -70], dtype=int16), array([ 3,  3,  0, ..., 33, 35, 41], dtype=int16), array([-70, -37,  25, ...,  -2,  -7, -15], dtype=int16), array([-24, -24, -22, ...,   9,  13,  17], dtype=int16), array([ 70,  77,  66, ..., -13, -21, -15], dtype=int16), array([ -7,  12,  -7, ..., -12,  -7, -12], dtype=int16), array([-102, -119, -121, ...,  -10,  -25,  -20], dtype=int16), array([ -96, -181, -136, ...,  -46,  -36,  -20], dtype=int16), array([-194,  350, -104, ...,  -14,  -13,   -2], dtype=int16), array([ 6,  6,  5, ..., -6,  5, 18], dtype=int16), array([ 21,  21,  19, ..., -12, -16, -12], dtype=int16), array([  5,  -9,  -8, ..., -37, -43, -57], dtype=int16), array([  3,   1,   0, ..., -25, -31, -32], dtype=int16), array([ -8,  -8,  -6, ..., -12,  -8,  -8], dtype=int16), array([-187, -208, -119, ...,   13,    3,   -3], dtype=int16), array([-147,  -17,  127, ...,  -14,  -10,   -9], dtype=int16), array([ -5,  -9, -16, ..., -25, -29, -31], dtype=int16), array([-39,   5,  44, ...,   0,   1,   0], dtype=int16), array([ -5,  -4,  -6, ...,  -9, -13, -18], dtype=int16), array([ 0,  0,  0, ..., 15, 10,  3], dtype=int16), array([-12, -25,  24, ...,  -1,  -1,  -7], dtype=int16), array([ -1,  -2,  -5, ..., -13, -24, -25], dtype=int16), array([ 88, 275, 116, ..., -55,  23,  47], dtype=int16), array([ -37, -196, -221, ...,  -14,  -29,  -41], dtype=int16), array([ 0,  2,  1, ..., 25, 12, 20], dtype=int16), array([-136,  -46,   84, ...,  -14,   -9,  -17], dtype=int16), array([29, 25,  6, ..., 45, 41, 41], dtype=int16), array([-50,  -1,   2, ...,  11,  13,  24], dtype=int16), array([-53, -45, -33, ...,  36,  42,  52], dtype=int16), array([  5,   7,   7, ..., -12, -19, -27], dtype=int16), array([-17, -18, -16, ...,  15,  17,   5], dtype=int16), array([ 6,  6,  4, ..., 17, 21, 17], dtype=int16), array([ 17,  11,   8, ...,  54,   6, -62], dtype=int16), array([ 3,  1,  1, ..., 14, 23, 21], dtype=int16), array([296, 125, -82, ...,   5,  15,  20], dtype=int16), array([-11, -12, -14, ...,  -1,   4,   9], dtype=int16), array([ -1,  -2,  -1, ..., -39, -36,   3], dtype=int16), array([  2,   0,   2, ..., -47, -21,   0], dtype=int16), array([  0,   1,   1, ..., -24, -23, -19], dtype=int16), array([15, 14,  6, ..., 10, 13, 11], dtype=int16), array([15, 14, 13, ..., 36, 40, 43], dtype=int16), array([-15, -13, -21, ...,   3,   3,   7], dtype=int16), array([ -1,   1, -10, ...,  17,  16,  12], dtype=int16), array([-1, -1, -1, ..., 28, 15,  8], dtype=int16), array([-5, 16, 49, ...,  5,  6, 12], dtype=int16), array([  0,   1,   3, ..., -11, -21,  -6], dtype=int16), array([ -1, -22, -37, ..., -16, -20, -26], dtype=int16), array([ -6,  -1,   3, ..., -24, -35, -38], dtype=int16), array([  1,  -5, -12, ...,  -7, -14, -13], dtype=int16), array([14, 24, 86, ...,  4, 38,  6], dtype=int16), array([11,  6,  6, ..., 11,  6,  4], dtype=int16), array([ -31, -176,   38, ...,   20,   28,  -10], dtype=int16), array([  1,   4,   1, ..., -38, -27, -26], dtype=int16), array([  0,  -4,  -4, ..., -10, -19, -31], dtype=int16), array([-14, -13, -17, ..., -14, -16, -11], dtype=int16), array([ -6, -89, -26, ...,  18,  18,  20], dtype=int16), array([ 0, -6, -8, ..., 20, 29, 23], dtype=int16), array([  1,   3,   2, ..., -15, -13, -17], dtype=int16), array([130,  86, -24, ..., -28, -58, -46], dtype=int16), array([111, 198,  75, ..., -25, -21, -25], dtype=int16), array([-71, -59, -54, ...,  40,  45,  37], dtype=int16), array([ -5,  -9,  -6, ..., -27, -26, -21], dtype=int16), array([  0,  -1,  -3, ...,  -5, -30, -63], dtype=int16), array([ 57, 125,  80, ..., -90, -23,  37], dtype=int16), array([14, 11, 18, ..., 24, 13, 10], dtype=int16), array([-38, -85, -15, ...,  -2,   6,   2], dtype=int16), array([  55,  -79, -200, ...,   -8,    3,    4], dtype=int16), array([  1,   8,  -5, ..., -35,  -2,  14], dtype=int16), array([28,  2,  6, ..., 83, 57, 48], dtype=int16), array([ 0,  0,  2, ..., 19, 34, 20], dtype=int16), array([ 401,  -66, -222, ...,    1,   -3,    5], dtype=int16), array([ 65,  88,  26, ...,  43,   0, -37], dtype=int16), array([-26, -30, -38, ..., -50, -44, -46], dtype=int16), array([ 16, -21,   1, ...,  41,  30,  28], dtype=int16), array([  8,  10,  10, ..., -27, -29, -33], dtype=int16), array([-5, -7, -8, ..., 33, 39, 38], dtype=int16), array([-405, -246,  105, ...,  -19,  -73,  -34], dtype=int16), array([-13,   0,  -7, ...,  51,  56,  43], dtype=int16), array([ 198,  116, -195, ...,  -16,  -10,   -5], dtype=int16), array([-213,   57,  253, ...,  -14,   -6,    2], dtype=int16), array([ 4, 15, 22, ..., 18, 25, 25], dtype=int16), array([ 3,  5,  5, ..., -7, -1, -3], dtype=int16), array([ 22,  13,  -1, ..., -51, -50, -27], dtype=int16), array([12,  4,  2, ...,  9, 14, 15], dtype=int16), array([ 4, -5, -5, ..., 18, 25, 29], dtype=int16), array([12, 12,  7, ..., 24, 36, 28], dtype=int16), array([ 17,  20,  19, ...,  -4,  -9, -14], dtype=int16), array([-1,  0,  0, ...,  8,  4, 13], dtype=int16), array([ 12,  19,  10, ...,  32,   5, -11], dtype=int16), array([ 93,  12, -88, ...,  10,   8,   6], dtype=int16), array([ -9,   5, -12, ..., -12, -21, -23], dtype=int16), array([ 56, -30,  -6, ...,   2,  61,  30], dtype=int16), array([ 23,  79,  47, ..., -31, -33, -33], dtype=int16), array([-180,  -47,  283, ...,  -40,  -29,  -38], dtype=int16), array([ 19,  29,  41, ..., -19, -30, -29], dtype=int16), array([ 157,   29, -144, ...,   -1,   17,   -7], dtype=int16), array([-31, -32, -27, ..., -13, -12,  -3], dtype=int16), array([  6, -16,  -5, ...,  -2,  -4, -16], dtype=int16), array([ 28, 179, 324, ...,   3,   0,  -3], dtype=int16), array([-8, -7, -4, ...,  5,  6,  8], dtype=int16), array([ 9,  3, -4, ..., 19, 12,  3], dtype=int16), array([ -7,  -8, -16, ...,   7,  -7,  -2], dtype=int16), array([-26, -23, -25, ..., -13, -13, -15], dtype=int16), array([ -8,  -2,   1, ..., -59, -60, -53], dtype=int16), array([ -7, -11, -22, ..., -47, -43, -38], dtype=int16), array([-12, -21, -19, ...,  -8, -14, -24], dtype=int16), array([ -8,  -8,  -2, ..., -11,  -9,  -7], dtype=int16), array([ 4,  8, 14, ...,  8,  9,  7], dtype=int16), array([-16,  -5,   0, ...,   9,  13,  13], dtype=int16), array([-18, -17, -18, ...,  16,   8,   6], dtype=int16), array([ 21,  54,  39, ..., -17, -20, -24], dtype=int16), array([  6,   6,   8, ...,  -2,  -8, -11], dtype=int16), array([ 6, 10, 15, ..., 90, 42, 52], dtype=int16), array([  8,  -1,  -1, ..., -32, -35, -37], dtype=int16), array([ 90,  96, 101, ...,  28,  37,  30], dtype=int16), array([  1,   0,  -2, ..., -16, -17,  -9], dtype=int16), array([  8,   6,   6, ..., -52, -49, -45], dtype=int16), array([-7, -7, -5, ...,  4,  9,  0], dtype=int16), array([-36, -44, -54, ...,  -3,   3,   5], dtype=int16), array([100, -79,  59, ..., -17, -24, -24], dtype=int16), array([-21, -29, -33, ...,   2,   8,  13], dtype=int16), array([ -1,  -3,  -1, ..., -14,  -4,   9], dtype=int16), array([-46,  -7,  16, ...,  -8,  -8,   1], dtype=int16), array([-2, -5, -7, ...,  5, 11, 11], dtype=int16), array([14, 15, 17, ..., 33, 32, 41], dtype=int16), array([130, 225,  42, ...,   1,   4,   1], dtype=int16), array([  6,   9,   8, ..., -43, -48, -47], dtype=int16), array([-463, -462, -177, ...,   -7,   -9,  -15], dtype=int16), array([-39, -41, -55, ...,  37,  37,  72], dtype=int16), array([ 43,  40,  37, ..., -15,  -4,  -6], dtype=int16), array([  19,  -84, -184, ...,  -11,  -20,  -22], dtype=int16), array([-213, -119,   51, ...,  -13,   -8,  -28], dtype=int16), array([-81, -36,  12, ...,  11,   9, -28], dtype=int16), array([ 13,  15,  13, ..., -36, -20, -15], dtype=int16), array([ 12,   1,   1, ..., -11,  -7, -10], dtype=int16), array([-2, -4, -3, ..., 28, 33, 39], dtype=int16), array([ 4,  9, 11, ..., 50, 55, 60], dtype=int16), array([  8,   5,   2, ..., -22, -22,   8], dtype=int16), array([ -6,  -6,  -3, ..., -38, -60, -55], dtype=int16), array([265, 137, -91, ...,  10,  11,   4], dtype=int16), array([ -6,  -5,  -4, ...,  -9, -11,  -8], dtype=int16), array([30, 30, 26, ...,  5,  3,  8], dtype=int16), array([  0, -30, -48, ...,  23,  27,  22], dtype=int16), array([ 22,  16,  23, ...,  11, -48, -49], dtype=int16), array([ -7, -12, -21, ...,  17,   5,  -2], dtype=int16), array([18,  3, 46, ...,  0,  3,  5], dtype=int16), array([-3, -1, -1, ..., 12, 14, 21], dtype=int16), array([-14, -22, -18, ...,   9,  21,  27], dtype=int16), array([-139,  -80, -101, ...,   -1,   -6,  -10], dtype=int16), array([-25,  17,  19, ...,  -5,   2, -25], dtype=int16), array([ 143,   11, -147, ...,   -6,    5,   -2], dtype=int16), array([-22, -39, -38, ...,  -6, -13, -13], dtype=int16), array([ 3,  0,  0, ..., 14, 20, 27], dtype=int16), array([ -2, 223, 164, ...,  12,  10,  -8], dtype=int16), array([-59, -32,  -2, ...,  -7, -15, -24], dtype=int16), array([29, 16, 20, ..., 32, 29, 25], dtype=int16), array([-4,  0,  1, ..., -4, -8, 16], dtype=int16), array([-118, -240, -182, ..., -122,  -24,   91], dtype=int16), array([  -1,   -2,   -1, ...,  -21, -137,   70], dtype=int16), array([-162, -143,   -1, ...,   -3,    1,    4], dtype=int16), array([-26, -20,  -9, ...,   6,  25,  30], dtype=int16), array([  1,  -3,  -3, ..., -40, -40, -33], dtype=int16), array([167, 171, 174, ..., -14,   3, -12], dtype=int16), array([  5,   5,   3, ..., -49, -59, -63], dtype=int16), array([  3,   5,   1, ...,  -3, -13,  -4], dtype=int16), array([23, 21, 28, ..., 54, 56,  3], dtype=int16), array([  5,  11,  11, ...,  -5, -16, -27], dtype=int16), array([30, 38, 30, ..., 22, 22,  8], dtype=int16), array([137,  66,  57, ..., 115,  60, -49], dtype=int16), array([-261,  -48,  158, ...,  -29,  -21,  -18], dtype=int16), array([-12, -13, -19, ...,   9,   7,   6], dtype=int16), array([  0,  -8, -11, ...,  -2,  -1,   2], dtype=int16), array([-2,  0, -2, ..., -8,  0,  0], dtype=int16), array([-3, -2,  6, ..., -2, -4, -5], dtype=int16), array([ 46,  47,  43, ..., -79, -86, -81], dtype=int16), array([  5,  14,  -1, ..., -58,  14,  74], dtype=int16), array([-30, -29, -37, ..., -25, -17,   1], dtype=int16), array([-63,   0, 109, ...,   5,  16,  24], dtype=int16), array([31, 15, 11, ..., 21, 25, 31], dtype=int16), array([8, 6, 7, ..., 6, 8, 7], dtype=int16), array([-1,  0,  0, ..., -6, -1,  0], dtype=int16), array([14, 22, 17, ..., 54, 42, 45], dtype=int16), array([-37, -56, -14, ...,   5,  11,  11], dtype=int16), array([-2, -4, -7, ..., 12,  3,  3], dtype=int16), array([-7, -2,  0, ...,  0,  4,  6], dtype=int16), array([  3,   3,   1, ..., -79, -78, -78], dtype=int16), array([-1,  0, -1, ..., 10,  7, 10], dtype=int16), array([  0,  -2, -10, ...,  40,  53,  41], dtype=int16), array([ 284,   46, -187, ...,   83,   82,   82], dtype=int16), array([-39, -39, -58, ...,  16,  11,  17], dtype=int16), array([-4, -5, -1, ..., -5,  2, -9], dtype=int16), array([  8,  10,   7, ..., -11,  17,  34], dtype=int16), array([-43,  12,  27, ..., -11, -13, -12], dtype=int16), array([  4,   7,   6, ...,  -8, -10, -12], dtype=int16), array([ 5,  6, 10, ...,  3,  5,  1], dtype=int16), array([ -1,   1,   0, ..., -18,   6,   0], dtype=int16), array([ 9,  5,  3, ...,  5, 32,  4], dtype=int16), array([-12,  -8,  -8, ...,  15,  21,  26], dtype=int16), array([  9,   8,  12, ..., -16,   3,  -5], dtype=int16), array([ 0, -3, -2, ...,  0, -6, -6], dtype=int16), array([  59,  102, -169, ...,  -27,  -19,  -20], dtype=int16), array([-46,  37, 105, ...,   7,  14,   4], dtype=int16), array([ -5, -12, -14, ...,  11,   9,   3], dtype=int16), array([ 62,  62,  66, ..., -11,  -4, -11], dtype=int16), array([253, 267, 152, ...,   9,   5,   6], dtype=int16), array([-156,   98, -165, ...,   20,   23,   25], dtype=int16), array([-15, -14,   0, ...,  24,  25,  31], dtype=int16), array([14, 12, 19, ..., 56, 46, 51], dtype=int16), array([ 10,  19,  26, ..., -19, -11,  -7], dtype=int16), array([  0,  69, 133, ...,  40,  36,  32], dtype=int16), array([  0,   2,   0, ..., -27, -31,  -5], dtype=int16), array([13, 16, 12, ..., -3, -9, 29], dtype=int16), array([ -8,  -3,  -2, ..., -59, -53, -52], dtype=int16), array([ 91,  94, 130, ...,  13,   8,   8], dtype=int16), array([ -10, -168,  347, ...,   20,   18,   10], dtype=int16), array([ -70, -109, -189, ...,   14,   12,    7], dtype=int16), array([ -91, -240,  164, ...,  -18,  -13,  -11], dtype=int16), array([-130,   20,  171, ...,   37,   35,   27], dtype=int16), array([-16, -17, -15, ...,  41,  37,  42], dtype=int16), array([-484, -428,  -60, ...,  -37,  -48,  -46], dtype=int16), array([ -18,   -2,  -16, ..., -190, -228,  -90], dtype=int16), array([ -2,  -1,   0, ..., -27, -15, -60], dtype=int16), array([ 4,  0,  0, ..., 17, 13,  5], dtype=int16), array([11, 15, 17, ...,  5, 29, 37], dtype=int16), array([  9,   7,  16, ...,  12, -28,  -7], dtype=int16), array([-10, -15, -18, ...,   1, -10,   5], dtype=int16), array([ -4,  -8,  -3, ..., -16, -15, -20], dtype=int16), array([-22, -11,  -2, ...,  -8,  -9,  -8], dtype=int16), array([-17, -19, -16, ..., -17, -19, -16], dtype=int16), array([116,  88, -27, ...,   9, -13,  26], dtype=int16), array([ -6,  11,  19, ..., -51, -63, -62], dtype=int16), array([44, 47, 28, ...,  9,  9,  6], dtype=int16), array([ 8,  2,  1, ..., -5, 16, -6], dtype=int16), array([-167, -188, -187, ...,   28,   33,   45], dtype=int16), array([-72, -92, -62, ...,  -5, -29,  -6], dtype=int16), array([ 27,  25,  21, ..., -30, -32, -32], dtype=int16), array([-12, -12, -16, ...,  17,  23,  12], dtype=int16), array([  -9, -150, -161, ...,  -29,  -31,  -36], dtype=int16), array([14, 18, 29, ...,  1,  1,  4], dtype=int16), array([  7,   6,   4, ...,  -6, -10,  -9], dtype=int16), array([-49, -56, -58, ..., -38, -33, -40], dtype=int16), array([-11,  -8, -18, ...,  -5,   0,   0], dtype=int16), array([ 5,  2,  5, ...,  2, -1,  1], dtype=int16), array([12,  1, -1, ...,  4,  7,  9], dtype=int16), array([-135,  -89,    2, ...,   -3,    2,   10], dtype=int16), array([ 9,  8,  8, ..., 22, 29, 38], dtype=int16), array([-172,    7,   97, ...,   11,   14,   16], dtype=int16), array([-112,  138,  -54, ...,   66,   39,  -17], dtype=int16), array([183, 130,  50, ...,  49,  47,  41], dtype=int16), array([-1,  4,  2, ..., 41, 27, 22], dtype=int16), array([ -7,  -7,  -9, ..., -48, -34, -17], dtype=int16), array([-4, -5, -4, ..., 23, 18,  2], dtype=int16), array([-19, -21, -10, ..., -21, -33, -27], dtype=int16), array([ -9,   0,  12, ..., -27, -17,  15], dtype=int16), array([-73,  27,  34, ...,  -7, -12, -12], dtype=int16), array([ 10,  11,  12, ...,   0,  -3, -14], dtype=int16), array([ 22,  49,  45, ...,  -8, -22,   0], dtype=int16), array([  7,   7,  13, ..., -14,  -9, -16], dtype=int16), array([-1,  0,  2, ...,  7,  3,  3], dtype=int16), array([174, 114,  14, ..., -26, -31, -19], dtype=int16), array([ 21,  31,  36, ..., -16, -10,  -4], dtype=int16), array([-4, -6, -2, ..., 48, 46, 40], dtype=int16), array([-5, -2, -5, ..., 56, 58, 36], dtype=int16), array([37, 36, 32, ...,  0,  5,  2], dtype=int16), array([-95,   6,  95, ...,  42,  25,  40], dtype=int16), array([-12,   2,  -3, ...,  -8, -13,  -3], dtype=int16), array([ 74, 112,  62, ...,  25,  21,   0], dtype=int16), array([  0,  -9, -20, ..., -11, -17, -16], dtype=int16), array([ 11, -82,  -6, ...,  23,  22,  27], dtype=int16), array([-27, -22, -22, ...,  -7, -11,  -8], dtype=int16), array([ 3,  0,  1, ..., 21, 38, 43], dtype=int16), array([-22, -20, -23, ...,  30,  32,  31], dtype=int16), array([144, 124,  43, ..., -25, -37, -43], dtype=int16), array([ 0,  0,  0, ..., 12,  7, -2], dtype=int16), array([  2,   1,  -1, ...,  11, -10,  -8], dtype=int16), array([39, 21,  4, ..., -1, -2,  3], dtype=int16), array([-3, -2,  1, ..., -4,  3,  0], dtype=int16), array([-23, -18, -16, ..., -78, -61, -36], dtype=int16), array([49,  5, -4, ..., 21, 28, 18], dtype=int16), array([ 30,  18,  13, ...,  -8, -37, -14], dtype=int16), array([-19, -24, -23, ...,   1,   5,   7], dtype=int16), array([-5, -6, -3, ...,  2,  8,  7], dtype=int16), array([ 24,  20,  13, ..., -15, -14, -11], dtype=int16), array([240, 245, 246, ..., -19, -26, -36], dtype=int16), array([ 3,  0, -3, ...,  3,  8,  8], dtype=int16), array([ 39,  17,  -9, ..., -20, -17,  -7], dtype=int16), array([-20, -52,  44, ...,  38,  12, -16], dtype=int16), array([  0,   2,   0, ..., -15, -12, -18], dtype=int16), array([56, 52, 43, ..., 20, 16, 15], dtype=int16), array([-3, -6, -5, ..., -1,  4, 13], dtype=int16), array([-43,   0,  60, ...,  37,  36,  38], dtype=int16), array([ 3,  6,  6, ..., 11, 12, 15], dtype=int16), array([-15, -22,  62, ...,  72,  75,  78], dtype=int16), array([-14, -15, -11, ...,   0,  -9, -32], dtype=int16), array([ 0, -5, -4, ..., 21, 19,  7], dtype=int16), array([ 11,  12,  16, ..., -40, -40, -33], dtype=int16), array([ 18,  21,  24, ...,  -9, -10,  -7], dtype=int16), array([  4,   4,   9, ..., -32, -36, -30], dtype=int16), array([ -9, -11, -14, ...,  -9, -11, -12], dtype=int16), array([ 63,  73,  12, ...,  -3, -23, -28], dtype=int16), array([  0,   5,   4, ...,  -4, -13, -13], dtype=int16), array([13, 10, 11, ..., -8, -2, -2], dtype=int16), array([-41, -76, -98, ..., -32, -34, -46], dtype=int16), array([  3,   6,   3, ..., -12,  -2,  -7], dtype=int16), array([  2,  11,  25, ..., -33, -15,  -6], dtype=int16), array([  3,  49,  43, ..., -17,  -8, -12], dtype=int16), array([189, 115, 113, ...,  16,   9,   0], dtype=int16), array([-13, -10,  -7, ...,   6,  15,  11], dtype=int16), array([ 5, 10,  8, ...,  4, 12, 18], dtype=int16), array([-1,  0, -5, ..., 12,  0, -1], dtype=int16), array([-10,  -9,  -4, ..., -18, -16,  -7], dtype=int16), array([ -6, -12, -14, ...,   3, -15,  -7], dtype=int16), array([ 10,   5,   9, ..., -28,  -8,   4], dtype=int16), array([ 14,  12,  16, ..., -29, -30, -29], dtype=int16), array([-27, -18, -36, ...,  -5,  11,   4], dtype=int16), array([ -8,  -6,  -2, ...,  -5, -10, -12], dtype=int16), array([11,  9,  8, ...,  4, 10, 14], dtype=int16), array([ 9,  6,  5, ..., 33, 35, 36], dtype=int16), array([ 37,  27,  28, ..., -29,   8,  39], dtype=int16), array([ -6,  -5, -11, ...,  23,  29,  10], dtype=int16), array([-32, -40, -34, ..., -32, -26, -15], dtype=int16), array([ -3,  -3,  -4, ..., -11,  -6,  -1], dtype=int16), array([ -7,  -3, -12, ..., -11, -28, -23], dtype=int16), array([-10, -12, -11, ...,  10, -21,  -1], dtype=int16), array([ -7,  -8,  -3, ..., -64,  -7, -79], dtype=int16), array([300, 257,  85, ...,  37,  35,  30], dtype=int16), array([-27, -25, -21, ...,  10,  20,  14], dtype=int16), array([14, 11, 23, ...,  6,  3,  6], dtype=int16), array([-33, -41, -39, ...,   6,   0,   4], dtype=int16), array([ -5,  -4,   1, ..., -17, -23, -14], dtype=int16), array([-56, -55, -49, ...,  -3,  -2,  -1], dtype=int16), array([ -62, -112,   40, ...,    0,  -20,  -24], dtype=int16), array([184,  79,  12, ..., -13, -14, -16], dtype=int16), array([  2,   1,   0, ..., -21, -22, -20], dtype=int16), array([ -57, -171, -289, ...,    0,   46,   28], dtype=int16), array([37, 38, 32, ..., 12, 15, 19], dtype=int16), array([  6,   3,  -2, ...,  -7,  -9, -21], dtype=int16), array([-6, -6, -7, ..., 26, 26, 31], dtype=int16), array([ 55, -28, -51, ...,  -7, -11, -17], dtype=int16), array([-31, -56, 125, ...,  24,  17,  16], dtype=int16), array([ -6,  -2,  -1, ..., -12,  -7,  -1], dtype=int16), array([ 0,  1,  0, ..., 40, 39, 37], dtype=int16), array([  5,   4,   2, ...,   0, -15, -23], dtype=int16), array([20, 21, 29, ...,  2, -7, -6], dtype=int16), array([16, -7, -5, ..., 31, 32, 19], dtype=int16), array([ 2, 11, 17, ...,  4,  7,  2], dtype=int16), array([109, 112,  23, ...,  -3,  -2, -18], dtype=int16), array([107,  88, -66, ...,  -1,   2,  12], dtype=int16), array([ 10, -15, -34, ...,  -4,   0,   7], dtype=int16), array([-61, -29,   1, ..., -17, -12, -17], dtype=int16), array([15, 28, 25, ..., 20, 11,  1], dtype=int16), array([  2,   6,   7, ..., -17,  -8,  -3], dtype=int16), array([  0,  -4,  -8, ..., -18, -11, -13], dtype=int16), array([ 21,  22,  19, ...,  44,   0, -32], dtype=int16), array([ 153,    8, -110, ...,   12,   10,    0], dtype=int16), array([11, 12, 11, ..., 17, 13, 21], dtype=int16), array([  2,   6, -66, ...,  19,   4,  -1], dtype=int16), array([-1, -5, -6, ..., 31, 39, 46], dtype=int16), array([41, 45, 42, ...,  5,  6, -2], dtype=int16), array([ 3, 10, 10, ..., -1, 10,  9], dtype=int16), array([ 21,  38,  -1, ...,  26,   8, -15], dtype=int16), array([-34, -33, -37, ..., -16, -21, -18], dtype=int16), array([ 19,  47, -44, ...,  28,  35,  22], dtype=int16), array([ -6, -12,  -9, ...,  -2,  -2,  -4], dtype=int16), array([ -2,  -2,  -2, ..., -27, -30, -27], dtype=int16), array([-12, -12, -13, ..., -23,  -6,   8], dtype=int16), array([-13, -17, -17, ...,  11,  -5, -16], dtype=int16), array([-10,  -4,  -7, ..., -40, -44, -41], dtype=int16), array([ 2,  7,  5, ..., 24, 23, 24], dtype=int16), array([54, 33,  6, ..., 30, 16, -6], dtype=int16), array([  38,   -3, -142, ...,   42,   39,   36], dtype=int16), array([ 17,  19,  20, ..., -35, -39, -37], dtype=int16), array([ 170,   -4, -319, ...,    2,    2,    0], dtype=int16), array([ -1,   1,   4, ..., -41, -44,  -2], dtype=int16), array([19, 19, 20, ..., -9, -8, -9], dtype=int16), array([-61, -58, -56, ..., -26, -39, -53], dtype=int16), array([13, 14, 14, ..., -5, -5, -6], dtype=int16), array([-13, -12, -12, ..., -24, -59, -66], dtype=int16), array([-201, -134,  -57, ...,   24,   33,   37], dtype=int16), array([-49, -51, -51, ...,  -2,  -9, -12], dtype=int16), array([33, 35, 37, ...,  7, 23, 39], dtype=int16), array([ -8,  -5,  -7, ..., -30, -43, -22], dtype=int16), array([-31, -36, -36, ...,  22,  20,  13], dtype=int16), array([-15, -21, -23, ...,  15,  14,  16], dtype=int16), array([ 11,  12,  23, ..., -15, -30,  -9], dtype=int16), array([-2, -4, -6, ...,  8,  8,  7], dtype=int16), array([ 10,   7,   3, ..., -25, -29, -28], dtype=int16), array([ -3, -19,  -3, ...,  20,  31,  22], dtype=int16), array([-10, -13, -15, ...,  33,  29,   3], dtype=int16), array([-159, -135, -124, ...,   29,   26,   17], dtype=int16), array([-7, -5,  0, ..., -5,  0,  0], dtype=int16), array([-67, -77, -61, ..., -33, -24,  -7], dtype=int16), array([ -1,  -1,   0, ...,  -5,  -3, -19], dtype=int16), array([15, 18, 18, ..., 24, 24, 25], dtype=int16), array([157, 222, 164, ...,  48,  45,  46], dtype=int16), array([ 0,  0, -4, ..., 47, 44, 42], dtype=int16), array([-102,  -98, -106, ...,   29,   27,   58], dtype=int16), array([-4, -2, -1, ..., -1, -8, -5], dtype=int16), array([-59, -64, -92, ...,   2,  -1,  -4], dtype=int16), array([17, 10,  4, ...,  2,  5,  9], dtype=int16), array([ -9,  -9, -11, ...,  -2,   0,  -5], dtype=int16), array([  4,   2,   3, ..., -25, -23, -24], dtype=int16), array([-29, -21, -15, ...,  -3,  -5,  -8], dtype=int16), array([-32, -34, -36, ...,  45,  45,  40], dtype=int16), array([-12,  -7,  -3, ...,  -8,  -5,   4], dtype=int16), array([10, 10,  9, ..., -8, -3,  7], dtype=int16), array([-81, -63, -51, ...,  -9, -13, -13], dtype=int16), array([ 170,  366, -141, ...,   -5,   -4,   -8], dtype=int16), array([-18, -19, -23, ...,  27,  23,  14], dtype=int16), array([ 28, -18, -43, ...,  -3,  -7,  -7], dtype=int16), array([ -44, -116,   54, ...,   15,   19,   40], dtype=int16), array([75, 68, 83, ..., 17, 17, 13], dtype=int16), array([-3, -2, -3, ..., -8, 45, 49], dtype=int16), array([23, 31, 23, ..., 23, 16, 15], dtype=int16), array([12,  7,  7, ...,  7,  1, -3], dtype=int16), array([-26,  -3,  12, ...,   4,   4,   5], dtype=int16), array([114,  46,   7, ...,   8,  24,  26], dtype=int16), array([12, 11,  9, ..., -1, -5, -4], dtype=int16), array([-15, -17, -13, ...,   7,  -3,   3], dtype=int16), array([-120,    3,  -37, ...,  -11,  -21,  -24], dtype=int16), array([ 10,   9,   6, ...,  -4, -12, -19], dtype=int16), array([-359, -195,   82, ...,    4,   17,   21], dtype=int16), array([-115,   95,  123, ...,   -1,   -7,   -4], dtype=int16), array([-17, -13,  -4, ..., -39, -44, -48], dtype=int16), array([ 4,  6,  4, ..., 19, 15, 17], dtype=int16), array([-430, -253, -303, ...,    0,  -21,  -70], dtype=int16), array([-66,  62,  54, ...,  -2,  -4,  -3], dtype=int16), array([313, 350, 477, ...,  35,  22,  47], dtype=int16), array([-4, -4, -2, ..., 21, 10,  7], dtype=int16), array([-15,   1, -18, ..., -11,  -6, -10], dtype=int16), array([14, 10, 14, ..., -2,  4, -2], dtype=int16), array([32, 31, 29, ...,  1, 10, 15], dtype=int16), array([-272, -349, -389, ...,  -30,  -26,  -13], dtype=int16), array([ -3,   3,   6, ..., -11,  -6,  -3], dtype=int16), array([ -28, -123, -136, ...,   15,   11,    7], dtype=int16), array([-14, -10, -20, ...,  10,   8,  15], dtype=int16), array([-3,  2,  7, ..., -9, -3,  3], dtype=int16), array([ 0, -5, -8, ..., 12, 17, 12], dtype=int16), array([ -1, -17, -13, ...,  48,  47,  51], dtype=int16), array([-37, -27, -29, ..., -15, -15,  -6], dtype=int16), array([-37, -26, -30, ..., -25, -18, -28], dtype=int16), array([-28,  98, -89, ...,  37,  50,  47], dtype=int16), array([ 74, 150,  85, ...,  23,  51,  59], dtype=int16), array([20, 25, 22, ..., 27, 22, 24], dtype=int16), array([-11,  -8, -10, ..., -24, -22, -18], dtype=int16), array([  4,   5,   2, ...,  44,  12, -27], dtype=int16), array([24, 22, 15, ...,  0, 16, 10], dtype=int16), array([ -3,  -2,  -2, ..., -44,  46,  85], dtype=int16), array([ -74, -115, -148, ...,  -11,   -7,   -9], dtype=int16), array([-31, -33, -28, ...,  50,  42,  44], dtype=int16), array([ 4,  6,  3, ..., -1,  1,  0], dtype=int16), array([ 3,  3,  5, ..., -4, -2,  6], dtype=int16), array([-17, -33, -29, ...,   0,  41,   2], dtype=int16), array([ 62, -65, -78, ...,  15,  15,  17], dtype=int16), array([-3, -6, -5, ...,  8, 11, 10], dtype=int16), array([  4,   3,   3, ..., -12, -30, -43], dtype=int16), array([ -2,   0,  -5, ..., -52, -69, -42], dtype=int16), array([ -4,  -5,  -2, ...,  32,  34, -61], dtype=int16), array([  8,  13,   8, ...,  16, -17,  -4], dtype=int16), array([ 10, -13, -15, ...,  -2,   2,  15], dtype=int16), array([ -6,  -6,  -2, ..., -31, -12, -50], dtype=int16), array([-24, -25, -21, ...,   3,  10,   7], dtype=int16), array([-15, -12,  -9, ...,  -2,  -5,  -3], dtype=int16), array([-248, -239, -186, ...,  -11,   -5,  -20], dtype=int16), array([18, 12, 14, ...,  1, 48, 41], dtype=int16), array([-21,   0,  32, ...,  14,   6,   5], dtype=int16), array([ 11,   3,  34, ...,  -9, -17, -12], dtype=int16), array([  43,    1, -156, ...,   40,   38,   33], dtype=int16), array([16, 21, 12, ..., 12, 27, 22], dtype=int16), array([ 262,   38, -284, ...,  -15,   -1,    1], dtype=int16), array([ 8, 16, 13, ..., 13,  3, -7], dtype=int16), array([ 73,  45, -27, ...,  -5,  -8,  -8], dtype=int16), array([ -1,   0,  -1, ..., -12,   8,  17], dtype=int16), array([-30, -37, -38, ...,  43,  16,  -9], dtype=int16), array([ -1, -21,  12, ..., -28,  -6, -15], dtype=int16), array([-29,  10, -49, ...,  30,  32,  39], dtype=int16), array([-1,  1,  0, ...,  0,  0,  4], dtype=int16), array([  6,   1,   0, ..., -42, -47, -50], dtype=int16), array([57, 81, 65, ...,  6, 11,  7], dtype=int16), array([ -5,  -6,   0, ..., -42, -40, -41], dtype=int16), array([-142, -126,   49, ...,   -2,   32,   46], dtype=int16), array([  40, -100,  -55, ...,    6,   14,   17], dtype=int16), array([-17,  -8,   3, ...,  -1,   9,  22], dtype=int16), array([12, 21, 15, ...,  9, 22, 32], dtype=int16), array([  2,   6,   4, ..., -24, -22, -29], dtype=int16), array([-10,  -7,  -5, ...,  33,  21,  39], dtype=int16), array([ -2,  -2, -16, ...,  62,  43,  47], dtype=int16), array([  4,   6,  -5, ..., -45,   4, -10], dtype=int16), array([ 3, -3,  2, ..., 17, 18, 20], dtype=int16), array([ -3,  -4,  -4, ..., -26, -22, -15], dtype=int16), array([ 14, -13, -31, ...,   3,   0,   1], dtype=int16), array([ 19,  12,  13, ..., -31, -32, -37], dtype=int16), array([-24, -25, -21, ...,  24,   7,   2], dtype=int16), array([-8, -5, -3, ...,  2,  6,  6], dtype=int16), array([20, 24, 17, ..., 43, 25, 10], dtype=int16), array([ -6,  -9, -15, ...,   6,  18,  21], dtype=int16), array([ -3,  -8, -11, ...,  -1,  -1,  11], dtype=int16), array([-19,   2, -11, ...,   7,   6,   3], dtype=int16), array([ 5,  3,  1, ...,  4,  0, 11], dtype=int16), array([-9, -6, -3, ..., -2,  1,  3], dtype=int16), array([ 3,  5, 13, ...,  0, -4, 39], dtype=int16), array([3, 4, 4, ..., 6, 7, 2], dtype=int16), array([-1, -3, -2, ..., 12, 19, 10], dtype=int16), array([ 152,    7, -138, ...,   -5,  -17,  -10], dtype=int16), array([131,  49,  15, ...,  24,  22,  21], dtype=int16), array([  78,  -74, -271, ...,   31,  -12,  -33], dtype=int16), array([ 8, 13, 12, ..., -5, -4, -4], dtype=int16), array([ -7,  -9,  -9, ..., -20, -20, -19], dtype=int16), array([-24, -29, -27, ...,  17,  21,   7], dtype=int16), array([-20, -20, -12, ...,  -4, -17,  26], dtype=int16), array([142, 157, 168, ...,   0,  -2,   3], dtype=int16), array([131, 369, 459, ...,  13,   8,  11], dtype=int16), array([-10, -14,  -9, ...,  36,  29,  36], dtype=int16), array([ 5,  7,  6, ..., 30, 18, 21], dtype=int16), array([60, 13, -1, ..., -4,  1, 11], dtype=int16), array([ 0,  0,  0, ..., 22, 16, 17], dtype=int16), array([ 53, 130, 226, ..., -13,  -7,  19], dtype=int16), array([-118,  -82,  -56, ...,    3,   -1,    0], dtype=int16), array([ -7,  -4,  -6, ..., -11, -16, -14], dtype=int16), array([ 7,  8, 10, ...,  6,  7, 14], dtype=int16), array([ 10,   5,   6, ..., -23, -14, -11], dtype=int16), array([ 4,  9,  9, ..., -1,  0,  5], dtype=int16), array([-248,  -35,  133, ...,   11,    1,    3], dtype=int16), array([ 5,  3,  3, ..., 20, 23, 13], dtype=int16), array([  0,   3,   2, ...,  13,   5, -27], dtype=int16), array([-15, -28, -60, ...,  31,  24,  32], dtype=int16), array([-15, -13, -15, ..., -30, -14,   2], dtype=int16), array([  0,   0,  -1, ...,   7,  -4, -22], dtype=int16), array([-11, -18, -19, ...,  34,  39,  36], dtype=int16), array([  2, -14,  -2, ..., -41, -44, -44], dtype=int16), array([-254, -253, -259, ...,   19,  -11,  -58], dtype=int16), array([29, 27, 28, ..., 23, 31, 36], dtype=int16), array([-13,  -5,  -2, ..., -13,   1,   4], dtype=int16), array([-29, -19, -14, ...,   0,   0,  -9], dtype=int16), array([-25,  45,  37, ...,  -1,   4,   0], dtype=int16), array([51, 41, 19, ..., 30, 30, 36], dtype=int16), array([ -1,  -4,  -2, ...,  -9, -17, -23], dtype=int16), array([22, 17, 18, ..., 10,  8,  6], dtype=int16), array([-1,  0,  0, ..., 21,  6,  5], dtype=int16), array([ 49,  29, -15, ...,  27,   0,   0], dtype=int16), array([  84, -119, -167, ...,   12,   17,   14], dtype=int16), array([ 0,  0,  1, ..., 48, 54, 73], dtype=int16), array([ -5,  -9,  -5, ..., -25, -33, -28], dtype=int16), array([-1, -1, -5, ..., 16, 14, 17], dtype=int16), array([29, 29, 28, ..., -1,  0,  4], dtype=int16), array([ 88,  81,  66, ..., -36, -42, -47], dtype=int16), array([13, 16, 13, ..., 10,  2,  1], dtype=int16), array([22, 20, 20, ..., 14, 14, 15], dtype=int16), array([  0,   4,   6, ...,   9,  37, -22], dtype=int16), array([-6,  1,  0, ...,  5,  9,  2], dtype=int16), array([10, 11,  9, ..., 26, -7,  5], dtype=int16), array([21, 55, 32, ...,  9, 12, 12], dtype=int16), array([-36, -31, -23, ...,  -9,  -8, -13], dtype=int16), array([-27, -30, -34, ..., -46,  -9, -34], dtype=int16), array([ 21,  24,  17, ...,   5,  -4, -12], dtype=int16), array([446, 329, 139, ...,   1,  -3,   1], dtype=int16), array([-10,  -9, -15, ...,   7,   0,   2], dtype=int16), array([-241,    4,  -41, ...,   27,   23,   18], dtype=int16), array([1, 6, 7, ..., 9, 5, 0], dtype=int16), array([ 7, 13, 13, ...,  0, 12, 13], dtype=int16), array([175, 170, 127, ...,  14,  12,  14], dtype=int16), array([ 15, -15,  -4, ...,  27,  20,  12], dtype=int16), array([  0,   0,  -2, ..., -21, -34, -21], dtype=int16), array([ 30,  40,  37, ..., -32, -12,  -9], dtype=int16), array([108, 115, 109, ...,  22,  21,  15], dtype=int16), array([-102, -215, -158, ...,   -3,   -7,   -7], dtype=int16), array([ 93, -36,  19, ...,  14,  14,  23], dtype=int16), array([13, 17,  5, ...,  4,  0,  1], dtype=int16), array([ 0, -5, 22, ..., -3, -4,  0], dtype=int16), array([ 34,  26,  21, ..., -41, -45, -49], dtype=int16), array([179, 364, 372, ...,  33,  43,  35], dtype=int16), array([   4,    6,   12, ..., -108,  -49,   43], dtype=int16), array([-1, -3, -7, ..., 34, 33, 30], dtype=int16), array([-11, -16, -20, ...,  14, -12, -27], dtype=int16), array([ 3,  2,  1, ...,  0, 11, 15], dtype=int16), array([  0,  -5,   0, ..., -14, -16,  -3], dtype=int16), array([306, 321, 245, ...,  49,  60,  65], dtype=int16), array([ 77,  93, 116, ...,  -5, -10,  -3], dtype=int16), array([ -6, -22, -30, ...,   1,  -3,   1], dtype=int16), array([-133, -184, -120, ...,   17,   -3,  -14], dtype=int16), array([ 12,  -2, -20, ...,  35,  26,  26], dtype=int16), array([ 12,  15,  16, ...,  -2, -12,   2], dtype=int16), array([  18,   18,   20, ...,  -81, -257, -190], dtype=int16), array([-6,  0, -1, ...,  3, 10,  0], dtype=int16), array([  5,   5,   6, ..., -21,  -7,   1], dtype=int16), array([-10, -12,  -7, ...,  -7,   7,   4], dtype=int16), array([ 47,  49,  43, ..., -59, -59, -71], dtype=int16), array([  0,   1,   0, ...,  38,  87, 104], dtype=int16), array([-159, -242, -224, ...,   14,    7,    7], dtype=int16), array([33, 25, 21, ..., -9,  0,  1], dtype=int16), array([  4,   4,   1, ..., -36, -30, -19], dtype=int16), array([ 2,  1,  2, ...,  1, -3, -8], dtype=int16), array([ -5, -12,  -9, ...,   9,   7,   7], dtype=int16), array([-3, -6, -7, ..., 84, 85, 84], dtype=int16), array([-12, -12, -13, ...,  -1,  -6,  -4], dtype=int16), array([-5, -4, -2, ..., -9,  2,  7], dtype=int16), array([  1,   1,   4, ..., -29, -41, -31], dtype=int16), array([ 187,   82, -156, ...,   39,   40,   36], dtype=int16), array([-9, -7, -6, ..., 41, 30, 25], dtype=int16), array([-40, -24, -44, ...,  47,  26, -17], dtype=int16), array([-10, -13,  -6, ...,  18,  31,  38], dtype=int16), array([-8, -9, -9, ...,  6, 10,  9], dtype=int16), array([165, 118, -19, ...,  13,   4,  -7], dtype=int16), array([-9, -6, -8, ..., 13,  8,  3], dtype=int16), array([ -6,  -3,   0, ...,   2, -32, -32], dtype=int16), array([ 2,  5,  3, ..., 24, 34, 34], dtype=int16), array([12, 14, 13, ...,  7, 13, 23], dtype=int16), array([ 53, 218, 284, ..., -34, -49, -45], dtype=int16), array([ -1, -41, -61, ...,  -7, -12, -10], dtype=int16), array([  9,   8,  12, ..., -30, -26, -11], dtype=int16), array([104,  81,  32, ..., -17, -19, -12], dtype=int16), array([ 1,  1,  0, ..., 26, 23, 23], dtype=int16), array([ 23,  18,  16, ..., -37, -27, -25], dtype=int16), array([-26, 130, 386, ...,  45,  46,  37], dtype=int16), array([234, 233, 111, ..., -12, -14, -13], dtype=int16), array([-85, -41,  28, ..., -14,  -7,  -7], dtype=int16), array([-7, -6, -2, ...,  0, 21, 26], dtype=int16), array([ 10,  35,  36, ..., -15, -18, -17], dtype=int16), array([ 2,  9, 13, ..., 49, 47, 43], dtype=int16), array([-20, -19, -17, ..., -33, -51, -46], dtype=int16), array([-52, -60, -62, ...,  25,  23,  21], dtype=int16), array([-14, 137, 251, ...,   3,   2,   2], dtype=int16), array([ 42, 253, 224, ...,  10,  19,  20], dtype=int16), array([-10,  -4,   3, ..., -42, -27, -21], dtype=int16), array([-139,  102,  330, ...,  -23,  -15,   -1], dtype=int16), array([-39, -28, -77, ...,  55,  64,  76], dtype=int16), array([-17,  28,  33, ...,  27,  26,   5], dtype=int16), array([-34,  50,  11, ...,  -4,  -6, -13], dtype=int16), array([ 61,  -4, -50, ...,  23,  28,  34], dtype=int16), array([ 14,   6,  -1, ..., -10, -12,  -8], dtype=int16), array([-14,  21,  20, ...,  35,  30,  27], dtype=int16), array([ 3,  3, 11, ..., 60, 55, 41], dtype=int16), array([-14, -17, -12, ...,  -3, -16, -17], dtype=int16), array([-25, -20, -18, ...,   1,   4,  -3], dtype=int16), array([ 303, -127, -118, ...,  -62,  -39,  -22], dtype=int16), array([ 18,   7,  -7, ..., -10,  -6, -11], dtype=int16), array([  7,   7,   9, ...,  -9, -23, -26], dtype=int16), array([-58, -36,  -2, ...,  16,  15,  12], dtype=int16), array([ -4,  -6,  -5, ...,   0, -23, -34], dtype=int16), array([ -5,  -8, -11, ...,   6,  12,  16], dtype=int16), array([-53, 231, 173, ...,  16,  15,  15], dtype=int16), array([30, 28, 30, ..., 14, 10,  9], dtype=int16), array([-49, -42, -37, ...,   8,   4,  11], dtype=int16), array([ 97,  31, -95, ...,  29,  -9, -33], dtype=int16), array([-13, -10,  -8, ...,  16,  23,  17], dtype=int16), array([ 0,  1,  0, ...,  0,  1, 13], dtype=int16), array([-3, -5, -7, ..., 13, 11,  4], dtype=int16), array([-119, -152, -153, ...,    9,    2,   -5], dtype=int16), array([ 28,  31, -13, ...,  -5,  -7, -10], dtype=int16), array([20, 12,  5, ..., 18, 14,  7], dtype=int16), array([-2, -1,  2, ..., 30, 27, 23], dtype=int16), array([-22, -21, -29, ..., -14,   7,  66], dtype=int16), array([  9,  16,  13, ..., -47, -31, -22], dtype=int16), array([29, 50, 26, ..., 29, 32, 46], dtype=int16), array([ -3, -18, -30, ...,  21,  10,   1], dtype=int16), array([ -9, -10, -12, ..., -43, -33, -34], dtype=int16), array([-306, -112,  178, ...,   57,   49,   49], dtype=int16), array([-140, -131, -105, ...,    6,   12,    9], dtype=int16), array([132,  61,  40, ...,  37,  36,  34], dtype=int16), array([ -6, -10,  -8, ..., -39, -31, -29], dtype=int16), array([15,  8,  0, ...,  9, 19, 25], dtype=int16), array([ 14,  12,  11, ..., -22, -18, -13], dtype=int16), array([  4,   2,   0, ...,  -9, -10,  -3], dtype=int16), array([  4,  -5, -18, ..., -11, -42, -21], dtype=int16), array([16, 11,  9, ...,  7, 12, 15], dtype=int16), array([ 36,  30,  28, ...,  -1, -10,  -9], dtype=int16), array([ -9,  -8,  -3, ...,  -2, -10,  -8], dtype=int16), array([  5,   2,  12, ..., -65, -46, -35], dtype=int16), array([-12, -13, -17, ..., -50, -62, -59], dtype=int16), array([  5,   3,   2, ..., -34, -40, -41], dtype=int16), array([-14, -15, -14, ..., -12, -20, -24], dtype=int16), array([ 29,  29,  25, ...,  15, -38, -61], dtype=int16), array([109, 140, 122, ...,  -5, -10,  -6], dtype=int16), array([ 4,  6, -3, ..., 25, 25, 20], dtype=int16), array([30, 26, 26, ...,  7, 18,  0], dtype=int16), array([-16, -16, -21, ...,  -8,  -6,   1], dtype=int16), array([11, 34, 28, ..., 10,  4,  5], dtype=int16), array([ -2,  -1,  -6, ...,  89, 101,  69], dtype=int16), array([ -1,  23,  28, ..., -19, -34, -23], dtype=int16), array([ 0,  0,  0, ...,  0, -7, -7], dtype=int16), array([12, 15, 12, ..., 15, 20, 27], dtype=int16), array([ 35,  41,  43, ..., -26, -20, -27], dtype=int16), array([-146, -133, -106, ...,    0,    1,    5], dtype=int16), array([-107,  -91,   32, ...,   48,   50,   46], dtype=int16), array([-30, -12,  14, ...,  68,  61,  57], dtype=int16), array([ 0,  0,  4, ..., 17, 14, 15], dtype=int16), array([-188, -433, -520, ...,   -6,   29,   26], dtype=int16), array([-13, -14, -14, ...,   3,  -4,  -6], dtype=int16), array([-51, -34,  -2, ..., -10, -11,  -8], dtype=int16), array([ 6,  1,  4, ..., 19, 23, 26], dtype=int16), array([ 25,  23,  22, ..., -53, -66, -82], dtype=int16), array([-25, -20, -12, ...,  91,  -7, -24], dtype=int16), array([  2,  -2,  11, ..., -12,  -9,  -7], dtype=int16), array([  0,   4,  11, ..., -26, -29, -21], dtype=int16), array([ 51,  87, 124, ...,  -7,   2,   1], dtype=int16), array([ 49,  36,  23, ..., -44, -38, -32], dtype=int16), array([-191,   53,  113, ...,  -26,  -16,    2], dtype=int16), array([ 16,  12,  15, ..., -15, -11,  -6], dtype=int16), array([  0,   4,   4, ...,  -7, -12, -15], dtype=int16), array([ 5,  0, -2, ...,  7, -5,  7], dtype=int16), array([183, -15, -52, ..., -49, -57, -51], dtype=int16), array([-242,  197, -470, ...,  -25,  -18,  -20], dtype=int16), array([-567, -419,  -18, ...,   -8,  -23,  -19], dtype=int16), array([-16, -16, -15, ...,   7,  16,  15], dtype=int16), array([21, 16,  9, ..., 15, 12, 19], dtype=int16), array([33, 34, 36, ...,  5,  3,  1], dtype=int16), array([ 0, -6, -1, ..., -7, -2,  6], dtype=int16), array([  0,   4,   0, ..., -10, -15, -21], dtype=int16), array([ 14, -34, -34, ...,  -9,  -8,  -8], dtype=int16), array([  0,   4,   7, ..., -15, -21, -21], dtype=int16), array([-27, -27, -30, ...,  18,  27,  29], dtype=int16), array([ 9, -4, -9, ..., 45, 47, 46], dtype=int16), array([ 12,  12,   4, ..., -10,  -7, -15], dtype=int16), array([ 10,   8,   6, ..., -26, -29, -29], dtype=int16), array([-1,  0, -1, ...,  4, 12, 23], dtype=int16), array([ 14,  19,  19, ...,  -7, -14, -20], dtype=int16), array([ 2, -4, -7, ..., 11,  0,  4], dtype=int16), array([ 40,   8,  28, ..., -56, -74, -33], dtype=int16), array([   0, -156, -143, ...,    6,    6,   13], dtype=int16), array([ -30,  -39, -303, ...,  -16,  -23,  -30], dtype=int16), array([  7,   3,   4, ...,  -8, -18, -10], dtype=int16), array([ 0,  0,  1, ..., -4, -3,  0], dtype=int16), array([-20, -20, -19, ...,  -9,   1,   3], dtype=int16), array([ 33,  43,  56, ..., -16,  25,  39], dtype=int16), array([ -6,  -6, -10, ...,  52,  47,  50], dtype=int16), array([-25, -26, -25, ..., -29, -19,  -1], dtype=int16), array([14, 13, 16, ..., -2,  5, 16], dtype=int16), array([-15, -19, -17, ...,   2,  12,  21], dtype=int16), array([-27, -19, -41, ...,  12,  50,  38], dtype=int16), array([ 0,  1, -1, ...,  5, -2,  0], dtype=int16), array([  6,   5, -23, ..., -23, -20, -11], dtype=int16), array([31, 28, 24, ..., 23, 22, 11], dtype=int16), array([  4,  14,   1, ..., -33, -41, -40], dtype=int16), array([-68, -86, -38, ...,  15,  47,  37], dtype=int16), array([ 46,  33, -92, ...,  26,  32,  -5], dtype=int16), array([ 0,  0,  1, ...,  2, -2, -3], dtype=int16), array([  0,  43,  60, ..., -58, -63, -62], dtype=int16), array([ 24,  23,  27, ..., -46, -46, -50], dtype=int16), array([ 56, 189, 147, ..., -23, -20, -20], dtype=int16), array([-97,  -3,  78, ..., -19, -17, -11], dtype=int16), array([ 31, -61,   5, ...,  13,   8,   5], dtype=int16), array([-25,   0,   0, ..., -52, -54, -43], dtype=int16), array([ -1,  -2,  -2, ...,  -8, -14, -18], dtype=int16), array([ 81, 159,  37, ..., 125, 232, 255], dtype=int16), array([-14, -16, -19, ...,  51,  56,  50], dtype=int16), array([ 3,  1, -6, ..., 14,  5,  4], dtype=int16), array([34, 31, 26, ..., -1, 13, 59], dtype=int16), array([-35,  85, 159, ...,   0,  -2,  -5], dtype=int16), array([  0,   1,   0, ...,   0,   1, -15], dtype=int16), array([-9,  0, -4, ...,  0, 16, 21], dtype=int16), array([ 21, 135, 143, ...,  24,  19,  22], dtype=int16), array([ -1,   0,  -4, ...,  19, -45, -22], dtype=int16), array([ 23,  26,  18, ..., -18,   7,  15], dtype=int16), array([  7,   6,   6, ..., -10, -26, -29], dtype=int16), array([ 61, 115, 147, ..., -13, -17, -32], dtype=int16), array([ -66,  -14, -184, ...,    2,    7,   11], dtype=int16), array([ 0,  0, -2, ..., 36, 44, 17], dtype=int16), array([-25, -28, -28, ...,  21,  49,  12], dtype=int16), array([ -4,   1,  -2, ..., -15, -14, -11], dtype=int16), array([-53, -60, -63, ...,  23,  28,  22], dtype=int16), array([-50, -49, -47, ..., -19, -11, -15], dtype=int16), array([ -35,   53, -130, ...,  -38,  -39,  -39], dtype=int16), array([186, 101,  31, ...,  17,  23,  14], dtype=int16), array([ -1,  -1,  -3, ...,   8,   4, -11], dtype=int16), array([  5,   5,   4, ..., -14, -26, -31], dtype=int16), array([ -9,  -8,  -6, ...,  35, 101, -29], dtype=int16), array([31, 40, 42, ..., 41, 39, 37], dtype=int16), array([ 37, 117, 145, ...,  51,  69,  70], dtype=int16), array([ -1,   0,   2, ..., -30, -23, -18], dtype=int16), array([39, 36, 32, ...,  8, 12, 17], dtype=int16), array([21, 20, 17, ..., 20, 27, 34], dtype=int16), array([-6, -5, -2, ..., 23, 20, 20], dtype=int16), array([-17, -15, -17, ...,  24,  24,   8], dtype=int16), array([-120, -165, -143, ...,   -3,  -13,  -10], dtype=int16), array([ -6,   0,  -2, ...,  46,  12, -20], dtype=int16), array([-37, -19,  43, ..., -21, -32, -28], dtype=int16), array([ -2,   0,   0, ...,  13, -39, -47], dtype=int16), array([ -1,  16, -31, ...,  31,  22,   8], dtype=int16), array([ -7,  -8,  -7, ..., -25, -53, -43], dtype=int16), array([ 7,  0, -1, ...,  8, 18, 13], dtype=int16), array([-6, -7, -6, ..., -4, -1,  0], dtype=int16), array([ 4, 12, 13, ..., -3,  0, -1], dtype=int16), array([ 12,  13,   9, ..., -17, -16, -21], dtype=int16), array([  2,  -6,   0, ..., -21, -16,  -3], dtype=int16), array([100, 109, 124, ...,   7,  -2, -17], dtype=int16), array([ 10,   7,  14, ..., -27, -29, -34], dtype=int16), array([-2, -3,  0, ..., -4,  0, -2], dtype=int16), array([-10, -10,  -8, ...,  41,  29,   7], dtype=int16), array([ 28, -73, -35, ...,  37,  36,  30], dtype=int16), array([-11,  -9, -11, ...,  27,  10,   4], dtype=int16), array([-13, -12,  -2, ...,   9,   1,  -3], dtype=int16), array([ -7, -11, -10, ..., -12,   4,  16], dtype=int16), array([  2,   4,  14, ..., -22,  -4,  16], dtype=int16), array([24, 23, 20, ..., 12, 19, 23], dtype=int16), array([ 38,  48,   0, ...,  -3,   0, -12], dtype=int16), array([-13,  -9, -12, ...,  15,  11,  17], dtype=int16), array([ 0,  0,  0, ..., 27, 25, 27], dtype=int16), array([ 8, 10, 11, ..., -1, -4,  0], dtype=int16), array([ 12,  14,  13, ..., -51, -22,   2], dtype=int16), array([180,  96, -29, ..., -15, -12,  -8], dtype=int16), array([  7,  19,  23, ..., -19, -20, -16], dtype=int16), array([-31, -20,   1, ...,  10,   9,  15], dtype=int16), array([164, 171, 167, ...,  25,  27,  39], dtype=int16), array([-15, -11,  -6, ...,  27,  24,  31], dtype=int16), array([ 5,  3,  0, ..., -6, -1, -5], dtype=int16), array([-87, -90, -56, ...,  52,  39,  18], dtype=int16), array([-26, -29, -27, ..., -51, -52, -55], dtype=int16), array([ 21,  23,  27, ...,   4, -16, -63], dtype=int16), array([-38, -32, -27, ...,  16,  24,  30], dtype=int16), array([ 1,  0,  0, ..., 30, 32, 25], dtype=int16), array([ 0,  4,  6, ..., 39, 34, 32], dtype=int16), array([-45, -46, -40, ...,  -5,  -2,   7], dtype=int16), array([-20, -21, -40, ...,  -2,  -4,  -4], dtype=int16), array([41,  5, 78, ..., 23, 13, 13], dtype=int16), array([ 24,  12,  -7, ..., -18, -21, -24], dtype=int16), array([  2,   0,   0, ..., -15,  -8,   1], dtype=int16), array([ 0,  0,  0, ..., 24, 20, 20], dtype=int16), array([ 2,  1,  2, ..., 14, 19, 23], dtype=int16), array([-3,  5,  7, ...,  0, 18, 28], dtype=int16), array([  5,   2,   0, ..., -18, -18,   1], dtype=int16), array([-14, -17,   7, ...,  96, 111, 102], dtype=int16), array([-49,  20,   0, ...,  13,  22,  22], dtype=int16), array([-12,  -2,   2, ...,   6,  -2,   1], dtype=int16), array([-12, 120, 215, ...,  15,  -2,  -3], dtype=int16), array([-21, -20, -21, ...,  -6, -14, -20], dtype=int16), array([  9,   3,   7, ...,  -8, -25, -46], dtype=int16), array([  6,   4,   1, ..., -39, -18, -11], dtype=int16), array([ 7,  1,  7, ..., -1,  1, -1], dtype=int16), array([ -8, -42, -58, ...,  -4,  -1,   1], dtype=int16), array([ 6,  3,  3, ..., 55, 57, 56], dtype=int16), array([ 37,  40,  39, ...,   3,  -6, -31], dtype=int16), array([-11,  -8, -10, ...,  -3,  -2,  -1], dtype=int16), array([21, 26, 24, ..., 26,  8, -7], dtype=int16), array([-8,  0,  0, ..., 34, 32, 39], dtype=int16), array([16, 10,  3, ..., -2,  7, 17], dtype=int16), array([-16, -18, -18, ..., -18, -13,   4], dtype=int16), array([  6,   5,   3, ..., -22, -18, -11], dtype=int16), array([ 4,  6,  4, ..., -6, -5, -1], dtype=int16), array([  -7,  -94, -142, ...,   11,   14,   18], dtype=int16), array([45, 44, 37, ...,  0, -9, 23], dtype=int16), array([-13,   3, -47, ...,  22,  -5, -16], dtype=int16), array([ 5,  5,  1, ..., 21,  9,  9], dtype=int16), array([ 9,  3, -1, ..., 46, 45, 57], dtype=int16), array([ -8, -42, -45, ...,  -8,  -7,  -2], dtype=int16), array([-42, -48, -51, ...,  78,  66,  40], dtype=int16), array([  0,   2,  -9, ..., -14, -15,  -9], dtype=int16), array([-23, -32, -23, ...,   6, -10, -21], dtype=int16), array([-16, -21, -16, ...,  10,  14,  18], dtype=int16), array([  2, 145,  96, ...,  11,  12,   8], dtype=int16), array([-162,  -46,   40, ...,   19,   13,    9], dtype=int16), array([ 0, -1, -1, ...,  7,  6,  6], dtype=int16), array([-17, -11,  -8, ...,  18,   2,   0], dtype=int16), array([-7, -8, -1, ..., -8, -3, -2], dtype=int16), array([ 27, -25, -53, ..., -38, -42, -33], dtype=int16), array([20, 28, 25, ..., 27, 42, 38], dtype=int16), array([ 5, -1,  3, ..., -8, -7, -9], dtype=int16), array([ -3,  -8, -12, ..., -18, -40, -46], dtype=int16), array([-57, -17,  -7, ...,  -5,  -5,   2], dtype=int16), array([-15,  -7,   0, ...,  -2, -13, -22], dtype=int16), array([ -75, -130, -134, ...,  -76,  -82,  -79], dtype=int16), array([ -8,   4,  -3, ..., -25, -24, -30], dtype=int16), array([-45, -68, -78, ...,  16,   7,   9], dtype=int16), array([198, 119,  45, ..., -11,   4,   2], dtype=int16), array([-11, -13, -10, ...,  -2, -10, -21], dtype=int16), array([-157,  -25,  139, ...,   23,   23,   18], dtype=int16), array([-3, -3, -4, ..., -1,  5, 14], dtype=int16), array([ 22, -60,  12, ...,  -2,  -8, -12], dtype=int16), array([115,  96,  75, ...,  -2,  -5,  -9], dtype=int16), array([  0,   4,   4, ...,  -2, -11, -25], dtype=int16), array([ -5,  -7, -14, ...,  46,  51,  39], dtype=int16), array([ 1,  3,  5, ..., 25, 27, 36], dtype=int16), array([ 8, 11,  7, ..., -1,  4, 14], dtype=int16), array([288, 214, 267, ...,   8,   4,   4], dtype=int16), array([ 0,  1, -2, ..., 14,  8,  2], dtype=int16), array([-212, -289, -163, ...,  -76,  -14,   33], dtype=int16), array([ 58, 152, 187, ...,  -6,  -6,   8], dtype=int16), array([ 17,  15,  17, ...,  -1, -29, -41], dtype=int16), array([-17, -18, -20, ..., 126, 179, 154], dtype=int16), array([ 11,  10,   9, ...,  -2, -10, -11], dtype=int16), array([  1,  -1,   2, ..., -39, -32, -21], dtype=int16), array([ 9, 11,  0, ..., 13, 24, 30], dtype=int16), array([  36,  -10, -120, ...,  -50,  -42,  -39], dtype=int16), array([ 1,  1, -6, ..., 32, 41, 43], dtype=int16), array([-4, -2,  4, ..., 37, 36, 37], dtype=int16), array([ -6,  -7, -10, ...,  12,  12,  15], dtype=int16), array([105, 107,  18, ...,  26,  28,  26], dtype=int16), array([ 28,   8, -12, ...,   1,  20,  29], dtype=int16), array([-217, -300, -355, ...,   29,   34,   27], dtype=int16), array([ 29,  24,  25, ..., -26, -14,  27], dtype=int16), array([-11,  -1,   3, ...,  12,  43,  13], dtype=int16), array([  9,   9,   8, ...,  -8, -15, -13], dtype=int16), array([ 6,  7, 20, ...,  7, 10,  5], dtype=int16), array([178, 114,  53, ..., -26, -22, -21], dtype=int16), array([23, 40,  0, ..., -4, -6, -3], dtype=int16), array([-16, -19, -14, ...,  49,  51,  54], dtype=int16), array([-16, -19, -27, ..., -17, -11, -11], dtype=int16), array([ 16,  15,  10, ...,   1, -14,  -7], dtype=int16), array([  4,   5,   3, ..., -45, -37, -38], dtype=int16), array([32, 34, 30, ..., 16, -4,  5], dtype=int16), array([-179,  -74,   67, ...,    7,   -7,   -3], dtype=int16), array([ 52,  53, -25, ..., -41, -12, -13], dtype=int16), array([ 0,  0, -1, ...,  0,  5,  8], dtype=int16), array([-75, -13, -25, ...,  20,  18,  26], dtype=int16), array([-10, -12, -10, ...,  74, -38, -85], dtype=int16), array([ -7,  -5,   2, ..., -28, -40, -37], dtype=int16), array([  0,   0,   2, ...,  -8, -10, -18], dtype=int16), array([ 5, -1,  0, ..., 11, 17, 14], dtype=int16), array([-14, -10,  -4, ...,   3,   4,   0], dtype=int16), array([-7, -9, -6, ..., 12, 22, 26], dtype=int16), array([56, 63, 64, ...,  8, 12, 27], dtype=int16), array([-11,  -6,  -4, ...,  32,  31,  35], dtype=int16), array([ 46,  46,  40, ..., -28, -22, -30], dtype=int16), array([-2,  0,  1, ..., -4, -8,  4], dtype=int16), array([ -5,  -8, -12, ...,  32,   4,  -2], dtype=int16), array([ 17,   7, -43, ...,  31,  30,  36], dtype=int16), array([-16, -12, -14, ...,   5,  13,  12], dtype=int16), array([  5,   6,   2, ..., -35,  -9,  -7], dtype=int16), array([ 46,   4, -27, ...,  -3, -27,  -3], dtype=int16), array([ 9, 10, 12, ..., 12, 15,  7], dtype=int16), array([187, -54, 713, ...,   3,   3,   1], dtype=int16), array([22, 21, 17, ...,  0, -1, 23], dtype=int16), array([ 0,  0, -3, ...,  1,  1, 17], dtype=int16), array([ 169, -108,  -93, ...,    5,    1,    1], dtype=int16), array([ -2,  11, -15, ..., -15,  25,  19], dtype=int16), array([-21, -22, -24, ...,  32,  40,  28], dtype=int16), array([-23, -33, -17, ..., -27, -17,  -6], dtype=int16), array([  7,  16,  24, ..., -28,  29, -20], dtype=int16), array([  0,   1,   3, ..., -11, -19, -23], dtype=int16), array([11, 12, 22, ..., 24, 32, 28], dtype=int16), array([10, 16, 22, ..., 53, 60, 59], dtype=int16), array([ 18,  10, 155, ..., -64, -95, -81], dtype=int16), array([-22, -26, -26, ..., -28, -15,   5], dtype=int16), array([-85, -23,  84, ..., -10,  -8,  -3], dtype=int16), array([ -5,  -9,  -9, ..., -44, -55, -73], dtype=int16), array([ -5,   0,   3, ..., -19,   6,   0], dtype=int16), array([ 6,  7,  6, ..., -6, -5, -5], dtype=int16), array([-17, -22, -34, ...,  10,  16,  14], dtype=int16), array([ 20,  20,  25, ..., -18, -19, -28], dtype=int16), array([ 78,   2, -26, ..., -15,  -5,   2], dtype=int16), array([-37, -40, -26, ...,  34, -18, -19], dtype=int16), array([-11,  -3,   0, ..., -29, -49, -33], dtype=int16), array([ 7,  5, -9, ...,  9,  9,  8], dtype=int16), array([ 30,  30,  35, ..., -18, -16, -11], dtype=int16), array([ 41, 103,   8, ...,  21,  22,  20], dtype=int16), array([-54, -80,  -5, ..., -20, -26, -19], dtype=int16), array([  7,   7,   8, ..., -45, -46, -39], dtype=int16), array([ 117,   29, -223, ...,  -19,   -8,   -9], dtype=int16), array([  0, -10, -12, ..., -17,  -9,   1], dtype=int16), array([  8,  10,   9, ..., -12,  -1,   3], dtype=int16), array([-34, -31, -28, ..., -22, -19, -20], dtype=int16), array([20, 22, 23, ..., 33, 19, 18], dtype=int16), array([-13, -12,  63, ..., -45, -41, -47], dtype=int16), array([-22, -15, -16, ..., -26, -28, -38], dtype=int16), array([26,  7, 26, ..., 34, 37, 31], dtype=int16), array([ 31,  32,  23, ..., -24,  16,  27], dtype=int16), array([-7, -4, -8, ..., 26, 23, 16], dtype=int16), array([-39, -34, -36, ...,  25,  25,  28], dtype=int16), array([137,  99, -25, ...,  -1,  -1,  -4], dtype=int16), array([ 122,  120, -118, ...,   12,    6,    3], dtype=int16), array([ 2,  2, -1, ...,  6, 11,  9], dtype=int16), array([59, 64, 67, ...,  7, 15, 11], dtype=int16), array([ 37,  10, -27, ...,  -7,  18,  18], dtype=int16), array([-11, -36, -60, ..., -55, -62, -67], dtype=int16), array([  5,   0,  -2, ..., -32, -33, -40], dtype=int16), array([ 73,  25, -31, ...,  10,   7,   6], dtype=int16), array([32, 22, 10, ..., -3,  0, 11], dtype=int16), array([-11, -11, -15, ...,   9,  -9, -16], dtype=int16), array([  0,   1,   6, ...,  -5,  -9, -15], dtype=int16), array([187, 306, 403, ...,   4,   0,   3], dtype=int16), array([-18, -17, -14, ...,  13,  21,  18], dtype=int16), array([  9,   6,   2, ..., -10,  -5,  -2], dtype=int16), array([-244, -380, -256, ...,  -15,  -10,   -8], dtype=int16), array([ -3,   0,   0, ..., -15, -18,  -8], dtype=int16), array([ 0,  0,  0, ..., 14, -4, -8], dtype=int16), array([  6,  37,  20, ...,   3, -18,   1], dtype=int16), array([-21,  -3,  -3, ...,  10,  -1, -12], dtype=int16), array([-15, -24, -21, ...,  -2,  33,  41], dtype=int16), array([  1,  -1,   1, ..., -14, -11, -18], dtype=int16), array([65, 31, 43, ...,  1,  6,  7], dtype=int16), array([-135, -157, -176, ...,   -1,    0,   -1], dtype=int16), array([  28,  -97, -144, ...,   -1,   -4,   -2], dtype=int16), array([12, 12, 12, ..., 44, 49, 57], dtype=int16), array([-8, 12, 21, ..., -2,  0,  0], dtype=int16), array([ -9,  -9, -10, ...,  12,   8,   6], dtype=int16), array([ 7,  1, 14, ...,  1,  4,  7], dtype=int16), array([-14, -17, -15, ...,  39,  -5, -56], dtype=int16), array([  0,   2,   3, ..., -22, -21, -21], dtype=int16), array([-28, -32, -27, ...,  31,  25,  16], dtype=int16), array([-105, -151, -103, ...,    9,    3,   -3], dtype=int16), array([ 0, -2,  3, ...,  1,  0, -4], dtype=int16), array([ -5,  -8,  -4, ..., -17,  -9,  -6], dtype=int16), array([ 21,  24,  24, ...,  27,  -2, -69], dtype=int16), array([-11, -33, -61, ...,  -7, -19, -11], dtype=int16), array([-111,   67,   57, ...,   14,    8,    0], dtype=int16), array([  9,  16,  14, ...,  -9, -58, -75], dtype=int16), array([  0,   0,   2, ..., -11,  -7,  -8], dtype=int16), array([ -9,  -6,  -5, ..., -23, -25, -22], dtype=int16), array([-17, -19, -11, ...,  27,  27,  23], dtype=int16), array([-26, -29, -42, ..., -58, -55, -56], dtype=int16), array([ 15,   0,   9, ...,  -8, -16, -21], dtype=int16), array([  6,   3,  -3, ...,  -7, -22,   6], dtype=int16), array([ 23,  24,  21, ..., -24, -14, -11], dtype=int16), array([ 0, -2, -7, ...,  5, 11, 15], dtype=int16), array([-2, -1, -2, ..., 16, 18, 14], dtype=int16), array([ -25, -142, -168, ...,   27,   23,   18], dtype=int16), array([-16, -14,  34, ...,  12,  27,  27], dtype=int16), array([-52,   6, -87, ..., -60, -63, -63], dtype=int16), array([ 0,  0,  0, ..., 40, 52, 26], dtype=int16), array([-16, -25, -24, ...,  58,  50,  38], dtype=int16), array([ 3,  5,  8, ..., -5, -2,  1], dtype=int16), array([  1,   3,   0, ..., -34,   0,  37], dtype=int16), array([ 0, -1,  0, ...,  3,  4,  6], dtype=int16), array([ 19, 167, 154, ...,   5,   3, -18], dtype=int16), array([21, 68, 89, ...,  3,  4,  1], dtype=int16), array([-119,  186, -238, ...,    8,    6,    4], dtype=int16), array([ -28, -133,  119, ...,  -51,   16,   25], dtype=int16), array([-20, -26, -31, ..., -15,   8,  13], dtype=int16), array([ 37, -78, 193, ...,  -8,  -6,   0], dtype=int16), array([  0, -85,  22, ..., -38, -33, -32], dtype=int16), array([ 12,  14,  13, ...,  43,  10, -21], dtype=int16), array([-4,  3,  6, ..., 19, 20, 14], dtype=int16), array([ 0, -3, -3, ...,  7,  6, -1], dtype=int16), array([22, 21, 16, ...,  2, -3, -4], dtype=int16), array([ 144, -186,   75, ...,  -12,   -1,   -1], dtype=int16), array([269, 251,  31, ...,   3,   7,  12], dtype=int16), array([ -4, -11,  -5, ..., -13,  -2,   0], dtype=int16), array([ 0,  5,  8, ..., -6,  3, -3], dtype=int16), array([  4,   8,   0, ..., -14, -11, -10], dtype=int16), array([ -37,  193, -136, ...,  -31,  -38,  -36], dtype=int16), array([ 2,  0, -2, ...,  0,  8,  9], dtype=int16), array([ -4,  -2,  -5, ...,  -9, -13, -19], dtype=int16), array([10, 11, 18, ..., 39, 51, 22], dtype=int16), array([25, 29, 36, ...,  0, -2, -3], dtype=int16), array([14, 11,  8, ..., -2,  2, -7], dtype=int16), array([-1, -3,  8, ..., 10, 10, 12], dtype=int16), array([-19, -30, -27, ..., -14, -46, -65], dtype=int16), array([ -5,   0,   5, ..., -54, -47, -43], dtype=int16), array([ -2,  -3,  -1, ..., -22,  -3,  -2], dtype=int16), array([  37,  -22, -111, ...,  -24,  -29,  -22], dtype=int16), array([ -9, -12, -14, ...,  -4,  -3,  -7], dtype=int16), array([-50, -50, -51, ..., -34, -15,  38], dtype=int16), array([-29, -29, -28, ...,   0,   2,   5], dtype=int16), array([ 256,   66, -163, ...,    0,   11,    7], dtype=int16), array([ 9, 12, 28, ..., 11, 21, 17], dtype=int16), array([ 9, 19, -5, ..., -7, -3,  4], dtype=int16), array([ 17,  16,  17, ..., -24, -24, -22], dtype=int16), array([-12, -16, -14, ..., -33, -33, -39], dtype=int16), array([ -8, -14, -17, ..., -10, -12, -19], dtype=int16), array([ 139, -135,   96, ...,  -18,  -18,  -16], dtype=int16), array([ 223,  134, -149, ...,   12,   24,   14], dtype=int16), array([  5,   3,   6, ..., -80,  -2,  60], dtype=int16), array([  4,   5,   4, ..., -30, -26, -18], dtype=int16), array([ -5,  -7,  -7, ..., -45, -40, -38], dtype=int16), array([-32, -30, -25, ...,   0,   8,   8], dtype=int16), array([ 1, -1, -2, ..., 19, 25, 26], dtype=int16), array([21, 19, 20, ..., -1,  3,  9], dtype=int16), array([ -5,  -5,  -8, ..., -28, -30, -35], dtype=int16), array([  1, 206, 240, ...,  12,  13,   9], dtype=int16), array([ 7, 11, 11, ..., 11, 13, 19], dtype=int16), array([-20, -46,  56, ...,  12, -39,   4], dtype=int16), array([-36, -43, -31, ..., -13,  -5,  -3], dtype=int16), array([ 3,  1,  0, ..., -7, 20,  9], dtype=int16), array([ -76, -147,  -16, ...,   10,   16,   16], dtype=int16), array([-11, -12,  -8, ..., -36, -49, -40], dtype=int16), array([-10, -16,  -8, ...,   6,   1,   4], dtype=int16), array([41, 36, 41, ..., 15, 15, 22], dtype=int16), array([-131,  -26,  186, ...,    1,   15,   11], dtype=int16), array([ 18,  20,  22, ..., -14, -20, -19], dtype=int16), array([-20, -19, -25, ..., -10,  -7,  -2], dtype=int16), array([-17, -28, -50, ...,  16,  21,  23], dtype=int16), array([ 172,  182,   90, ...,  -99, -137,  -74], dtype=int16), array([-105, -101, -164, ...,   -2,   -1,   -4], dtype=int16), array([10,  5,  8, ..., 35, 37, 41], dtype=int16), array([-12,  -6,  -7, ...,  -4,  11,  23], dtype=int16), array([-24, -16, -13, ...,  27,  24,  26], dtype=int16), array([-34,  26, -14, ...,   1,   6,   0], dtype=int16), array([18, 41, 26, ..., 25, 26, 16], dtype=int16), array([0, 1, 1, ..., 8, 5, 6], dtype=int16), array([29, 31, 19, ...,  1,  2, -5], dtype=int16), array([ 76,  38,  29, ..., -38, -36, -27], dtype=int16), array([-19, -27, -31, ...,  44,  43,  44], dtype=int16), array([-4, -1,  0, ...,  2, 18, 24], dtype=int16), array([-17, -11,  -8, ...,   9,   7,   9], dtype=int16), array([ 9,  9,  5, ..., 27, 23, 19], dtype=int16), array([-66,  -3, -11, ...,  12,   3,   0], dtype=int16), array([-40, -40, -45, ...,  -9,  -3,  -8], dtype=int16), array([  0, -11,  -8, ..., -12, -13,  -5], dtype=int16), array([ 4,  2,  0, ...,  9, 38, 30], dtype=int16), array([-18, -31, -23, ...,   6,   0,   0], dtype=int16), array([ -8,  -6,  -8, ..., -12, -12,  -8], dtype=int16), array([-14, -13, -17, ...,  38,  35,  37], dtype=int16), array([-89, 167,  99, ...,   0,  -3,   0], dtype=int16), array([10,  5,  8, ..., 26, 32, 34], dtype=int16), array([16, 13, 13, ..., 51, 63, 45], dtype=int16), array([124, 120,  95, ...,  11,   8,   4], dtype=int16), array([-17, -14, -15, ...,  54,  21,  46], dtype=int16), array([ 10,  16,  12, ..., -14,  -9,  -6], dtype=int16), array([ 2,  2, -2, ...,  5,  8,  7], dtype=int16), array([-139,   -3,    6, ...,   -9,   -6,   -2], dtype=int16), array([ 97, -22, -92, ...,  -3,  -2,   1], dtype=int16), array([ -2, 117, 271, ..., -10,  -1,   4], dtype=int16), array([ 2,  4,  8, ..., 14, 25, 45], dtype=int16), array([ -1,  -1,  -3, ...,   0, -10,  -6], dtype=int16), array([ 10,  15,  13, ...,   1, -29, -10], dtype=int16), array([-28, 122,  25, ...,  -5,   0,  11], dtype=int16), array([12, 11, 12, ...,  3, -1, -2], dtype=int16), array([ 71, 154, 147, ...,   2,   6,  12], dtype=int16), array([-53, -31,  -5, ..., -36, -34, -31], dtype=int16), array([ 3,  0, -1, ..., -8, -8, -7], dtype=int16), array([  73, -101, -245, ...,   -5,    0,    0], dtype=int16), array([-149, -112,   12, ...,   -6,   -5,   -6], dtype=int16), array([  7,  10,  10, ..., -15, -16, -19], dtype=int16), array([14, 14,  9, ...,  7,  3,  2], dtype=int16), array([ 260,  -12, -205, ...,   -5,   21,   58], dtype=int16), array([ -55, -186, -178, ...,   21,   11,   10], dtype=int16), array([-26,  59, 125, ..., -26, -30, -29], dtype=int16), array([-15, -20, -13, ...,   0,   5,   9], dtype=int16), array([-89,  21,  77, ...,  -6,  -1,  -2], dtype=int16), array([-12, -17, -20, ...,   6,  14,   7], dtype=int16), array([0, 0, 0, ..., 4, 6, 4], dtype=int16), array([  0,   0,   0, ..., -12, -18, -17], dtype=int16), array([ 13,  15,  17, ...,  -8,  -6, -13], dtype=int16), array([  8,   0,   2, ..., -37, -38, -33], dtype=int16), array([  31,  -23, -159, ...,   -9,  -13,  -11], dtype=int16), array([ 2, -6, -1, ..., 36, 27, 27], dtype=int16), array([-2, -1, -1, ..., 20, 30, 36], dtype=int16), array([-122,  187,  304, ...,    6,    1,    4], dtype=int16), array([ -6, -48, -37, ...,  -9, -12, -25], dtype=int16), array([ 0, -2, -5, ...,  9, 50,  0], dtype=int16), array([47, 45, 41, ..., 21, 20, 11], dtype=int16), array([-31, -32, -30, ...,  18,   9,   8], dtype=int16), array([-4,  0,  1, ..., -1,  2,  2], dtype=int16), array([8, 7, 5, ..., 1, 9, 8], dtype=int16), array([-19, -10,  -7, ...,  19,  31,  28], dtype=int16), array([25, 26, 23, ..., -1,  0,  2], dtype=int16), array([   5,  -99, -153, ...,  -29,  -25,  -21], dtype=int16), array([ 1,  4, -3, ..., 34, 19,  7], dtype=int16), array([ 154, -232, -157, ...,   -1,    1,    0], dtype=int16), array([-5, -6, -4, ..., -5,  6, 19], dtype=int16), array([ 27, 141, 230, ..., -29, -19, -14], dtype=int16), array([ 8,  2,  0, ..., 37, 40, 40], dtype=int16), array([-3, -6, -8, ...,  4,  7, 17], dtype=int16), array([-25, -28, -30, ...,  63,  69,  87], dtype=int16), array([-1,  0,  0, ..., 12, 16, 13], dtype=int16), array([-255, -133,   89, ...,  -14,  -25,  -29], dtype=int16), array([  46, -141,   54, ...,  -41,  -39,  -34], dtype=int16), array([  -4,   -5,   -3, ...,  -26, -150,  151], dtype=int16), array([-5,  0,  0, ..., 24, 22, 26], dtype=int16), array([-161, -229, -112, ...,   11,   13,    5], dtype=int16), array([13, 12, 14, ..., 11, 14,  4], dtype=int16), array([-22, -17, -21, ..., -47, -54, -58], dtype=int16), array([ 18,  10,  15, ..., -24, -31, -34], dtype=int16), array([-19, -19,   3, ..., -19, -17,  -3], dtype=int16), array([-26, -31, -37, ...,  17,  27,  30], dtype=int16), array([ 46, -13,  47, ...,  -5,  -8, -10], dtype=int16), array([-6, 51, 71, ..., 12,  5, 12], dtype=int16), array([ 74, 122,  78, ...,  68,  68,  76], dtype=int16), array([-16,  -8,  -2, ..., -14, -10,  -5], dtype=int16), array([-131, -165, -126, ...,  -29,    2,   46], dtype=int16), array([ -9, -10,  -4, ..., -13,  -6,  -6], dtype=int16), array([-17, -20, -21, ...,   3,  -8, -12], dtype=int16), array([  4,   3,   4, ..., -51, -57, -61], dtype=int16), array([  4,   1,  -6, ..., -14, -17, -11], dtype=int16), array([ -7,  -9, -12, ...,  10,   7,   1], dtype=int16), array([-1,  0, -2, ..., -3, -3, 13], dtype=int16), array([ 18,   3, -32, ..., -15, -20, -18], dtype=int16), array([143,  61, -27, ...,  -6,  -4,  -8], dtype=int16), array([ -4,  -9,  -4, ...,  34,  52, -14], dtype=int16), array([-35, -49, -32, ...,   6,   3,   7], dtype=int16), array([ -3,  -3,  -4, ..., -25,  -2,   6], dtype=int16), array([11,  4,  0, ...,  0,  9, 20], dtype=int16), array([  5,  -1,  -9, ..., -23, -24, -16], dtype=int16), array([ -4,  -7,  -7, ..., -12, -15, -21], dtype=int16), array([ 15,  19,  18, ..., 146, 126,  79], dtype=int16), array([-15,  -8,  -1, ...,  -2,  -5, -14], dtype=int16), array([ 18,  75,  22, ..., -15,  -8,   3], dtype=int16), array([ 1,  2,  2, ..., -4,  1, 16], dtype=int16), array([-27, -31, -41, ...,   6,   8,   8], dtype=int16), array([ -5,  -1,   8, ..., -29, -28, -22], dtype=int16), array([-173,   77,   52, ...,    1,   -1,   -3], dtype=int16), array([-13, -13,  -6, ...,  27,  24,  24], dtype=int16), array([-77,   9,   6, ...,  -1, -13, -18], dtype=int16), array([ 17,  20,  19, ..., -43, -34, -32], dtype=int16), array([-16, -15, -13, ...,   9,   9,  -3], dtype=int16), array([-3, -1,  0, ...,  2,  2, -1], dtype=int16), array([17, 16, 14, ..., 41, 41, 20], dtype=int16), array([  6,  11,  14, ...,  -9, -15, -16], dtype=int16), array([23, 36, 54, ..., -3,  0,  1], dtype=int16), array([ -3,  -1,   1, ...,  96,   9, -49], dtype=int16), array([-6, -2,  0, ...,  5, 13, 11], dtype=int16), array([-23, -25, -24, ...,   6,  -1,   0], dtype=int16), array([  52,  -72, -188, ...,    7,   13,   10], dtype=int16), array([11,  7,  8, ..., -1,  1,  0], dtype=int16), array([ 6,  8, 10, ...,  5,  7,  4], dtype=int16), array([-193,  220,  -49, ...,  -12,   -5,  -20], dtype=int16), array([-11, -12,  -7, ...,   8,   0,  -2], dtype=int16), array([-90, -45,  78, ...,   5,   0,   2], dtype=int16), array([  6,  33,  60, ..., -16, -25,   0], dtype=int16), array([-189,  -53,  -10, ...,   37,   23,   20], dtype=int16), array([ -5, -11, -21, ...,  21,  19,  17], dtype=int16), array([ -7,  -8,  -7, ..., -38, -29, -28], dtype=int16), array([ -1,   4,  -2, ..., -12,  -6,   5], dtype=int16), array([-16, -14, -13, ..., -20, -21,  -7], dtype=int16), array([  1,  -6, -12, ...,  10,  15,  15], dtype=int16), array([11,  8, 12, ...,  8, 11,  7], dtype=int16), array([-8, 39,  4, ..., 30, 23, 17], dtype=int16), array([-45, -10,  16, ...,  34,  29,  26], dtype=int16), array([  7,   6, -27, ..., -21, -13,  -5], dtype=int16), array([-45, -58, -44, ..., -11,  -2,   5], dtype=int16), array([-26,  28,  45, ...,   9,   0, -12], dtype=int16), array([-14, -14, -11, ..., -38, -42, -42], dtype=int16), array([-172,  -26,  -13, ...,  -16,  -19,  -17], dtype=int16), array([ -5, 101, 168, ..., -26, -12,  -2], dtype=int16), array([ -8,  -8, -10, ..., -33, -48, -49], dtype=int16), array([10, 14, 16, ...,  2, 10, -1], dtype=int16), array([-5, -5,  0, ...,  2, -4, -2], dtype=int16), array([ -16,    2,   31, ..., -118,  -82,  130], dtype=int16), array([-1, -2,  0, ..., 10,  5,  0], dtype=int16), array([ 0,  0,  0, ...,  0, -1,  0], dtype=int16), array([ 5,  7,  8, ..., 15,  0, -3], dtype=int16), array([198,  43, -13, ...,  53,  43,   5], dtype=int16), array([ 2,  9,  4, ...,  2, -6, 35], dtype=int16), array([-5,  1, 17, ..., -3,  5,  6], dtype=int16), array([ 18,  36,  25, ..., -32, -27, -27], dtype=int16), array([-107,  -24,   39, ...,  -37,  -22,    3], dtype=int16), array([-17, -14,  -3, ..., -19, -17, -13], dtype=int16), array([ 1,  0,  2, ..., -6, 22, 16], dtype=int16), array([128, 150,  -3, ..., -16, -16, -16], dtype=int16), array([ 44,  38,  36, ..., -16, -18, -18], dtype=int16), array([ 78,  86,  77, ..., -18, -11,  -3], dtype=int16), array([-164,  195,  221, ...,  -21,   -1,    4], dtype=int16), array([-20,  84,  43, ..., -43, -39, -32], dtype=int16), array([-14,  -9,  -6, ..., -43, -51, -46], dtype=int16), array([ 81,  22, -83, ...,  -4,   3,   5], dtype=int16), array([ 0, -4,  1, ...,  4,  8, 10], dtype=int16), array([ 37, -11, -84, ..., -25, -44, -33], dtype=int16), array([  7,   0,  -1, ..., -36, -36, -31], dtype=int16), array([ 8,  6,  2, ...,  1, -8, -7], dtype=int16), array([ 18,  16,   8, ..., -10,  -2,   7], dtype=int16), array([-19, -20, -25, ..., -10,  -8, -11], dtype=int16), array([-58, -93,  31, ...,  70,  71,  80], dtype=int16), array([ 53,  50,  55, ..., -54, -52, -61], dtype=int16), array([ 2,  1,  3, ..., 19,  4,  2], dtype=int16), array([-152, -108,   -6, ...,  122,   68,  -13], dtype=int16), array([  4,   4,   4, ..., -29, -30, -32], dtype=int16), array([-70,  -1,  17, ...,   2,   6, 107], dtype=int16), array([ 14,  13,  13, ...,   2,  -1, -10], dtype=int16), array([-202,  -79,  109, ...,  -28,  -15,  -16], dtype=int16), array([210, 171, 119, ..., -18, -10, -13], dtype=int16), array([  45,  -40, -112, ...,  -10,    3,   10], dtype=int16), array([ 149,   -4, -153, ...,  -28,  -28,  -29], dtype=int16), array([ 13, -96, -71, ..., -33, -55, -50], dtype=int16), array([ 39,  35,  32, ..., -12, -12, -17], dtype=int16), array([ 39,  42,  49, ..., -26, -24, -24], dtype=int16), array([-5, -4,  0, ...,  8, 11,  6], dtype=int16), array([ -91,  -97, -104, ...,  -23,  -22,  -17], dtype=int16), array([ 6, -1,  0, ..., -7, -8, -8], dtype=int16), array([  6,   2,   4, ...,  42,   1, -60], dtype=int16), array([  8,   4,   6, ...,  -1, -16,   0], dtype=int16), array([ 54,  45, -90, ...,  31,  27,  32], dtype=int16), array([ 16,  13,   9, ..., -20, -13,  -6], dtype=int16), array([-40, -20, -10, ..., -29, -33, -20], dtype=int16), array([ 22,  25,  26, ..., -32, -27,  -4], dtype=int16), array([  2,  -2,   0, ..., -37, -46, -51], dtype=int16), array([ 14,  11,   7, ..., -16, -21, -25], dtype=int16), array([  6,   9,  13, ...,  -5, -10,  -1], dtype=int16), array([ 13,  20,  28, ..., -26, -34, -27], dtype=int16), array([-15, -36, -36, ...,  -4,  -2,  -3], dtype=int16), array([ -5,  -3,  -3, ..., -12, -11,  -3], dtype=int16), array([112, 264, 148, ...,  -4,  -7,  -6], dtype=int16), array([17, 14, 13, ..., 57, 59, 68], dtype=int16), array([ 1,  2,  3, ..., 43, 43, 31], dtype=int16), array([ 7, -1, -7, ..., 17, 14, -2], dtype=int16), array([ 6,  6, 13, ..., -1,  6, 14], dtype=int16), array([14,  3,  5, ..., -2,  0,  8], dtype=int16), array([148, 122, 205, ...,  -1,  -7, -18], dtype=int16), array([ 2,  8, 14, ..., 19,  3,  0], dtype=int16), array([-23, -20, -20, ...,   6,   6,   7], dtype=int16), array([-3,  0, -1, ..., -5, 27, 45], dtype=int16), array([-10, -12, -13, ...,  36,  31,  28], dtype=int16), array([ -2,   0,  -7, ..., -10,  -7, -13], dtype=int16), array([ 1,  2,  0, ..., 19,  3, -7], dtype=int16), array([  1, -39, -11, ...,  -9, -15, -10], dtype=int16), array([-6, -8, -8, ..., 33, 22, 25], dtype=int16), array([-2,  0,  3, ..., -8, -2, -2], dtype=int16), array([-51, 194,  10, ...,  12,  13,  19], dtype=int16), array([-207, -233, -166, ...,   -8,   -3,  -14], dtype=int16), array([ -7, -16, -22, ..., -40, 260,  69], dtype=int16), array([ -5, -47, -36, ...,  -8,  -6,  -4], dtype=int16), array([  4,   5,   0, ..., -49,   3,  14], dtype=int16), array([ 3,  3,  1, ..., 15, 24, 25], dtype=int16), array([ 3,  4,  6, ...,  8, 27, 26], dtype=int16), array([ 0,  3,  4, ...,  0, -7, -5], dtype=int16), array([-14, -18, -13, ...,  49,  51,  45], dtype=int16), array([-6, -7,  0, ..., 14, 20, 10], dtype=int16), array([ 9, 15, 15, ..., -6, -9,  1], dtype=int16), array([ -6,  -5,  -6, ..., -18, -14,  -8], dtype=int16), array([17, 13, 10, ..., -6,  1,  0], dtype=int16), array([  5,  14,  17, ..., -43, -35, -35], dtype=int16), array([322,  56, -11, ...,  -4, -10, -10], dtype=int16), array([ 3,  0, -7, ..., 40, 44, 49], dtype=int16), array([ 8,  2,  4, ..., 50, 49, 27], dtype=int16), array([-9, -7, -1, ...,  6,  8, 14], dtype=int16), array([ 22, -31,  33, ...,  -1,  -1,   4], dtype=int16), array([ 3,  5,  2, ..., 19, 31, 21], dtype=int16), array([  9,   7,   5, ..., -17, -16, -14], dtype=int16), array([30, 72, 14, ..., 16, 33,  0], dtype=int16), array([-27, -29, -25, ..., -14, -13, -16], dtype=int16), array([-12,  -8,  -6, ...,  35,  30,  36], dtype=int16), array([ 18,  22,  15, ..., -33, -32, -40], dtype=int16), array([-35, -44, -36, ...,  45,  63,  78], dtype=int16), array([-134,  -86,   38, ...,  -17,  -14,  -14], dtype=int16), array([  8,   9,   6, ..., -23, -22, -19], dtype=int16), array([ -7, -10,  -9, ..., -16, -39,  34], dtype=int16), array([ 2,  1,  1, ..., 29, 33, 34], dtype=int16), array([-150, -126, -183, ...,   -2,    3,   11], dtype=int16), array([  28,  -80, -115, ...,   13,   17,    7], dtype=int16), array([ 5,  4,  1, ..., 68, 73, 63], dtype=int16), array([-2, -5, -2, ...,  8,  6,  7], dtype=int16), array([-7, -9, -3, ..., 18, 11,  9], dtype=int16), array([ 13,  10,  12, ..., -19, -17, -16], dtype=int16), array([-4, -3,  0, ...,  9, -2,  0], dtype=int16), array([-14, -17, -21, ...,  19,  21,  24], dtype=int16), array([14, 43, 49, ..., -4, -3, -5], dtype=int16), array([-13, -13, -15, ...,  -2,  22,  17], dtype=int16), array([22, 16, 13, ...,  0,  0,  0], dtype=int16), array([-4, -1, -5, ..., 20, 10, -2], dtype=int16), array([ 40,  27, -33, ...,   8,  -8,   1], dtype=int16), array([ 54,  27, -38, ...,  11,   2,  -7], dtype=int16), array([  8,   3,  -2, ..., -31, -33, -36], dtype=int16), array([165, 120,  62, ...,   3,   0,  -1], dtype=int16), array([   1,    0,   -3, ...,  -94, -130,  -61], dtype=int16), array([ 15,  11,   5, ..., -25,  12,  14], dtype=int16), array([171, 242, 116, ...,   4, -19, -13], dtype=int16), array([47, 42, 39, ...,  5,  0,  0], dtype=int16), array([  6,   1,  -3, ...,  26, -14,  16], dtype=int16), array([10,  7,  7, ...,  5,  0, 20], dtype=int16), array([-48, -41, -61, ...,   5,   8,  10], dtype=int16), array([  4,   1,   7, ..., -35,  20,   5], dtype=int16), array([ -6,  -6,  -8, ...,  -8,  -5, -10], dtype=int16), array([  0,   1,   4, ...,  -7, -21, -14], dtype=int16), array([  7,  16,   2, ..., -44, -43, -39], dtype=int16), array([-172, -125,  -93, ...,   -8,  -11,   -9], dtype=int16), array([-12, -13,  -9, ...,   4,  11,   0], dtype=int16), array([-19,  -7,  -1, ...,  -7,  -2,   0], dtype=int16), array([15, 17, 15, ...,  8, 11,  2], dtype=int16), array([  5,   7,  11, ..., -37, -33, -21], dtype=int16), array([  0,   0,   4, ..., -25, -19, -20], dtype=int16), array([-2, -5, -4, ...,  0,  1,  6], dtype=int16), array([ -76, -117, -164, ...,   23,   19,   20], dtype=int16), array([-13, -11,  -4, ...,  21,  19,   0], dtype=int16), array([ 1, -2, -6, ..., -6, -4,  1], dtype=int16), array([ 35,  78, 189, ...,  16,  20,  12], dtype=int16), array([ -3,  -6,  -6, ..., -23, -26, -34], dtype=int16), array([-14, -23, -34, ..., -15, -18, -27], dtype=int16), array([-29, -25, -20, ...,   3,   7,  10], dtype=int16), array([ 0,  1,  0, ..., -1, -6, -1], dtype=int16), array([-18, -14, -13, ..., -29, -24, -21], dtype=int16), array([ 24,  21,  18, ..., -11, -14, -17], dtype=int16), array([-51, -51, -40, ...,  40,  58,  17], dtype=int16), array([-21, -20, -13, ..., -19, -24, -27], dtype=int16), array([161, 123,  16, ...,   2,  -2,  -6], dtype=int16), array([-10,  -8, -12, ...,  25,  12,   7], dtype=int16), array([ -7,  -1,  -5, ..., -17, -10,  -3], dtype=int16), array([-10,  -6,  -3, ...,  13,  13,  13], dtype=int16), array([-6, -7,  1, ...,  7,  6,  2], dtype=int16), array([14, 16, 11, ..., 20, 15,  3], dtype=int16), array([  9,   6,   8, ...,  93,  49, -27], dtype=int16), array([  5, -25, -64, ...,  25,  21,   1], dtype=int16), array([-147, -107,   53, ...,  -40,  -42,  -48], dtype=int16), array([ -9, -18,  -6, ..., -14, -15, -17], dtype=int16), array([ 75,  58,  44, ..., -13,  -8,  -3], dtype=int16), array([-13, -12, -15, ...,   1,   0,  10], dtype=int16), array([28, 25, 28, ..., 24, 24, 29], dtype=int16), array([ 0,  4,  5, ..., 14, 15, 19], dtype=int16), array([-5, -5, -3, ..., -1,  0, -4], dtype=int16), array([ 15,  22,  16, ..., -47, -47, -48], dtype=int16), array([ 5,  7,  7, ..., -3, -3, -1], dtype=int16), array([-12,  57,   1, ..., -10,  -9, -20], dtype=int16), array([  0,  -8, -10, ..., -10,  -5,   2], dtype=int16), array([ -19, -265,   91, ...,   -5,   -3,    2], dtype=int16), array([  77,  -20, -168, ...,  -12,  -17,  -17], dtype=int16), array([ 60,  37,  34, ..., -71, -69, -56], dtype=int16), array([-145, -276, -168, ...,  -27,  -29,  -18], dtype=int16), array([-3,  5,  3, ...,  2,  1,  4], dtype=int16), array([-16, -27, -14, ...,  -1,   1,  -8], dtype=int16), array([-126,  -93,   27, ...,   -6,   -4,    8], dtype=int16), array([-99, 127, 316, ...,  43,  41,  44], dtype=int16), array([ 5,  7,  4, ...,  2,  5, 15], dtype=int16), array([ 3,  0,  1, ..., 18, 15, 16], dtype=int16), array([-5, -1, -1, ..., 19, 18, 18], dtype=int16), array([ 17,  43,  88, ...,  -8, -19,  15], dtype=int16), array([ 0,  0,  1, ...,  7, 14,  4], dtype=int16), array([ 9, 11, 10, ..., 16, 15,  7], dtype=int16), array([18, 13, 20, ..., 17, 12,  1], dtype=int16), array([18, 15, 16, ...,  0, -1, -3], dtype=int16), array([14, 19, 27, ..., 14, 11,  6], dtype=int16), array([ 20,  14,  14, ..., -26, -29, -26], dtype=int16), array([-102,  -56,   86, ...,    5,   12,   16], dtype=int16), array([ 9,  9,  6, ...,  6,  1, -2], dtype=int16), array([-4,  0, -9, ..., -8, -5,  0], dtype=int16), array([-18, -19, -22, ..., -16, -12, -13], dtype=int16), array([  0,  -2,   0, ...,  -4, -11, -18], dtype=int16), array([1, 0, 1, ..., 7, 7, 3], dtype=int16), array([ -12,  -73, -106, ...,  -43,  -64,  -96], dtype=int16), array([ -55, -127, -125, ...,    0,    6,    5], dtype=int16), array([  63, -195, -313, ...,   -3,   -3,   -2], dtype=int16), array([-104, -225, -201, ...,   -7,   -1,    2], dtype=int16), array([27, 26, 15, ..., 15, 20, 24], dtype=int16), array([ 2,  1,  2, ...,  8, 15, 11], dtype=int16), array([ 74, 112, 141, ..., -70, 119, -39], dtype=int16), array([  6,   5,   0, ..., -49, -43, -40], dtype=int16), array([-195,  -47,  272, ...,  -68,  -64,  -62], dtype=int16), array([ 16, -33,  -1, ...,  -2,   5,   5], dtype=int16), array([-21,   6,  12, ...,   1,   6,   4], dtype=int16), array([39, 23, 22, ..., 11, 21, 24], dtype=int16), array([ 17,  22,  20, ..., -10,  22,  39], dtype=int16), array([-31, -20, -23, ...,  68, -34, -48], dtype=int16), array([-16,  -2,  17, ...,  -8,  -4, -12], dtype=int16), array([-7, -2, -3, ...,  4,  0,  0], dtype=int16), array([-10,  -4,  -5, ..., -14,  -7, -10], dtype=int16), array([  76, -359,  349, ...,   16,   -3,  -18], dtype=int16), array([-1, -1,  0, ..., 19, 17, 26], dtype=int16), array([ 0, -1, -1, ...,  4, -6, -7], dtype=int16), array([-27, -48, -42, ...,  22,  17,   7], dtype=int16), array([-48, -53, -46, ...,  -2,   5,   9], dtype=int16), array([-147, -124, -109, ...,   -8,  -19,  -25], dtype=int16), array([-20, -14, -11, ...,  80, 117, 115], dtype=int16), array([-206,  248, -141, ...,    9,   11,   15], dtype=int16), array([22, 12, 14, ...,  2,  0,  3], dtype=int16), array([-31,  39,  84, ...,   6,  10,   5], dtype=int16), array([ 38,  26,   9, ...,  17,  42, -16], dtype=int16), array([14, 12,  7, ...,  6, 11,  7], dtype=int16), array([-88, -28, 128, ...,  14,  11,  20], dtype=int16), array([  2,   0,  -2, ..., -43, -60, -66], dtype=int16), array([3, 8, 8, ..., 6, 4, 4], dtype=int16), array([-18, -18, -22, ...,  79,  48,  25], dtype=int16), array([-98, -88, -53, ...,  -4, -10,  -1], dtype=int16), array([ 7, 13, 16, ..., 23, 22, 13], dtype=int16), array([  9,   7,  10, ..., -13,  -8, -13], dtype=int16), array([ -8,   9,  45, ..., -35, -46, -59], dtype=int16), array([ -4,  -2,  -2, ..., -43, -30, -18], dtype=int16), array([-1, -5,  0, ...,  5,  5, 13], dtype=int16), array([ 0, -1, -4, ..., -5, -3, -1], dtype=int16), array([ 15,  19,  23, ..., -16, -20, -21], dtype=int16), array([ 1,  4,  2, ..., 19, 21, 18], dtype=int16), array([-1,  3, -2, ...,  3,  1, -1], dtype=int16), array([-15, -20, -22, ...,  37, -21, -91], dtype=int16), array([124,   7, -89, ...,   9,  21,  -1], dtype=int16), array([-27, -28, -23, ...,  -4,  -3,   6], dtype=int16), array([ -5,  -7,  -1, ..., -29, -39, -12], dtype=int16), array([  9,  -4,   2, ..., -18, -35, -36], dtype=int16), array([ -9, -13, -45, ..., -40, -14,  -2], dtype=int16), array([  0,  -4,   0, ..., -80, -61, -48], dtype=int16), array([  51, -143, -246, ...,   14,   24,   15], dtype=int16), array([-9, 23, 10, ..., 41, 54, 66], dtype=int16), array([ -1,   0,   1, ..., -94,   2,  37], dtype=int16), array([  8, -56,  78, ...,   6,   8,   8], dtype=int16), array([-175, -227, -271, ...,   84, -113,  -65], dtype=int16), array([12,  9,  5, ...,  5, 10, 18], dtype=int16), array([ 1,  2, -4, ...,  0,  2,  6], dtype=int16), array([ -8,  -7,  -2, ..., -25, -43, -20], dtype=int16), array([-24, -25, -24, ...,  29,  22,  39], dtype=int16), array([ 49, 114,  39, ..., -34, -21,   4], dtype=int16), array([-227, -116,  -66, ...,    7,   11,   10], dtype=int16), array([ 28,  48, 102, ...,   8,   5,  11], dtype=int16), array([-11,  -7,  -3, ...,   5,  -5,   2], dtype=int16), array([ -36, -234, -410, ...,  -10,   -3,   -6], dtype=int16), array([ 11,  13,  18, ..., -20, -17, -34], dtype=int16), array([ -6, -15, -13, ..., -18, -15, -18], dtype=int16), array([ 0,  4,  5, ..., 17, 37, 39], dtype=int16), array([  6,  10,   9, ...,  -1, -12, -22], dtype=int16), array([  8,   0,   0, ...,   0,  -4, -13], dtype=int16), array([-13, 345, -62, ...,  14,  16,  45], dtype=int16), array([-18, -20, -20, ...,  29,   0,   0], dtype=int16), array([-14, -36, -50, ...,   6,  13,  12], dtype=int16), array([ -6,  -3,  -2, ..., -14, -20,   2], dtype=int16), array([ 248,   81, -112, ...,   -2,  -15,  -34], dtype=int16), array([  0,   0,  -1, ..., -14, -33, -73], dtype=int16), array([-99, 119, 232, ...,   6,   9,  21], dtype=int16), array([-15, -12,  -6, ..., -14, -17, -17], dtype=int16), array([ 15,  12,   8, ..., -22, -15, -19], dtype=int16), array([ -45, -132, -146, ...,   38,   38,   23], dtype=int16), array([-31, -29, -24, ..., -22, -26, -27], dtype=int16), array([  1,   0,  -1, ..., -27, -19, -18], dtype=int16), array([-12,  -6,  -6, ...,  43, -17,  17], dtype=int16), array([ -3,  -5,  -7, ..., -48, -53, -50], dtype=int16), array([21, 25, 25, ..., 39, 36, 26], dtype=int16), array([33, 25, 18, ...,  8,  5, -7], dtype=int16), array([73, 44, 24, ...,  8, -9, -3], dtype=int16), array([-7, -7, -9, ..., 12, 10, 10], dtype=int16), array([-33, -35,  19, ...,  -1, -15, -19], dtype=int16), array([ 4,  9,  6, ..., 39, 23, 20], dtype=int16), array([ -1,   0,   0, ...,  -6, -12, -12], dtype=int16), array([ 16,  12,   9, ..., -28, -31, -27], dtype=int16), array([ 10,  13,  15, ..., -22, -32, -33], dtype=int16), array([ -7,  -7, -10, ...,  14,  11,  14], dtype=int16), array([ 23, -35, -57, ...,  23,   6,   0], dtype=int16), array([ -3,   0,  -1, ...,  12,  -1, -13], dtype=int16), array([-90,   3,  82, ...,   5,   6,  24], dtype=int16), array([  8,  14,  16, ...,  11,   0, -10], dtype=int16), array([11, 15, 17, ..., 36, 42, 44], dtype=int16), array([-77,  37,   2, ...,  -2, -10, -11], dtype=int16), array([-3,  0, -2, ...,  1, -3,  0], dtype=int16), array([  0,  -5,  -5, ..., -15, -19, -19], dtype=int16), array([-19, -19, -20, ..., -10, -12,  -4], dtype=int16), array([ -8,  -4,  -3, ..., -38,  -5,  18], dtype=int16), array([ 8, 27,  4, ..., -7, -2,  8], dtype=int16), array([ -8,  -7,  -5, ...,   0,  -5, -11], dtype=int16), array([ 71,  84, -17, ...,  18,  29,  27], dtype=int16), array([ -2,   0,  -7, ..., -10,  -5,  -8], dtype=int16), array([ 1,  5, 11, ..., 43, 33,  9], dtype=int16), array([ 3,  3,  5, ..., 21,  9,  9], dtype=int16), array([ -1,  -6, -12, ..., -16, -12, -10], dtype=int16), array([-2,  1,  0, ..., -2,  3, -1], dtype=int16), array([-9, 25, 44, ..., 62, 54, 10], dtype=int16), array([23, 19, 15, ...,  4,  1,  1], dtype=int16), array([-3, -6, -6, ..., 16,  8, 15], dtype=int16), array([45, 91, -3, ..., -7, -1, -1], dtype=int16), array([19, 17, 15, ...,  1,  0, -3], dtype=int16), array([ 0,  0,  1, ...,  7,  8, 10], dtype=int16), array([-9, -4, -8, ..., 37, 37, 26], dtype=int16), array([-18, -21, -19, ..., -37,  44,  52], dtype=int16), array([-38, -40, -31, ...,  -2, -22, -32], dtype=int16), array([-75,  62, 179, ...,  10,  -2, -12], dtype=int16), array([ -7, -13, -15, ...,  37,  19,  -9], dtype=int16), array([-4,  0,  0, ...,  9, 18, 22], dtype=int16), array([  6,   7,  14, ...,  -4, -31, -37], dtype=int16), array([  2,  26, -36, ...,  -7,   0, -15], dtype=int16), array([ 0, -1,  7, ..., 40, 38, 49], dtype=int16), array([-44, -43, -39, ..., -12, -15, -22], dtype=int16), array([ -41, -530,   90, ...,   -4,  -13,  -22], dtype=int16), array([  8,  11,  12, ..., -13,  -6,  -2], dtype=int16), array([ -4,  16, -31, ..., -42, -42, -31], dtype=int16), array([-12,  -2,  -5, ...,  34,   0, -28], dtype=int16), array([-166, -162,  -72, ...,   -7,    6,   29], dtype=int16), array([  22, -121,  287, ...,   -1,    0,   -5], dtype=int16), array([ 21,  13,  12, ..., -52, -48, -45], dtype=int16), array([-30, -24, -21, ..., -44, -49, -52], dtype=int16), array([  0, -26,  22, ...,  57, 117, 121], dtype=int16), array([-96,  13,  -5, ...,  50,  56,  62], dtype=int16), array([ -4,  -1,   1, ...,  -1, -14, -20], dtype=int16), array([ 0, -1,  3, ...,  4,  6,  5], dtype=int16), array([  6,   3,  -2, ...,  -3,  -8, -10], dtype=int16), array([10,  7, 10, ..., 33, 82, 80], dtype=int16), array([ 6,  8, 15, ..., 35, 41,  1], dtype=int16), array([-6,  0, -5, ...,  9,  6,  8], dtype=int16), array([ -2,   0,  -3, ...,  24, -20, -13], dtype=int16), array([-21, -23, -24, ...,  41,  47,  57], dtype=int16), array([201,  68, 105, ...,  19,  18,  18], dtype=int16), array([-10,  -5,  -4, ...,   3,  13,   3], dtype=int16), array([-35, -35, -35, ..., -58, -48, -39], dtype=int16), array([  8,   9,  15, ..., -13,  -5,  -3], dtype=int16), array([ -1,   0,   0, ...,   7,   8, -21], dtype=int16), array([ 13,  20,  30, ..., -22,  -6,   2], dtype=int16), array([-83, -60,   3, ...,  20,  17,  20], dtype=int16), array([-12,   3, -51, ...,  22,  52,  31], dtype=int16), array([-43, -46, -48, ...,   0,  -7, -10], dtype=int16), array([  6,   4,   3, ..., -27, -32, -30], dtype=int16), array([ -7,  -1,  -5, ..., -10, -10, -11], dtype=int16), array([ -5,  -6,  -4, ..., -61, -59, -55], dtype=int16), array([-24,  21,  24, ..., -15, -10, -24], dtype=int16), array([ -7, -10,  -4, ...,  15,  18,  12], dtype=int16), array([ 98,   2,  27, ..., -57, -29, -21], dtype=int16), array([13, 14, 19, ..., 64, 59, 69], dtype=int16), array([  8,   8,  10, ..., -10, -14, -21], dtype=int16), array([  8,  15,  13, ...,  -7, -12, -17], dtype=int16), array([ -1, -13, -28, ...,   4,  -2,   4], dtype=int16), array([ 53,   3, 129, ...,  44,  27,  24], dtype=int16), array([-178, -217, -149, ...,    0,    9,   10], dtype=int16), array([-17, -28, -23, ...,   8,   7,   1], dtype=int16), array([-20, -24, -22, ...,  -6,   5,   5], dtype=int16), array([-6, -4, -4, ..., 16, 16, 16], dtype=int16), array([ 33,  29,  19, ..., -40, -46, -19], dtype=int16), array([  3,   6, -13, ...,  26,  26,  22], dtype=int16), array([ 0,  0, -3, ..., 19, 26, 21], dtype=int16), array([ -8, -14, -23, ...,  21,  17,  13], dtype=int16), array([ -9,  -7, -10, ...,  -5,  -9,  -1], dtype=int16), array([  66, -353,   90, ...,  -14,  -24,  -25], dtype=int16), array([-10,  -6,  -2, ...,   6,  -1,  -5], dtype=int16), array([ 45,   0, -35, ...,   2,  -1,   1], dtype=int16), array([ 98,  36, 121, ...,  19,  16,  23], dtype=int16), array([ -70, -154, -158, ...,    0,    0,    5], dtype=int16), array([  0,   0,   4, ...,  -2, -17, -46], dtype=int16), array([ 2, -4, -7, ..., 24, 18, 15], dtype=int16), array([-5, -2,  0, ..., 20, 21, 29], dtype=int16), array([ 52,  31,  25, ..., -40,  -5,  20], dtype=int16), array([ -5, -11, -23, ...,  -3,  41, -46], dtype=int16), array([ 0,  0,  0, ..., 40, 27, 20], dtype=int16), array([ 21,  18,  12, ..., -14, -20, -19], dtype=int16), array([  81,   40, -270, ...,    7,  -44,   11], dtype=int16), array([-12, -18, -15, ...,  24,  29,  22], dtype=int16), array([ 0, -4,  4, ..., 32, 36, 37], dtype=int16), array([-160,  -86,   63, ...,  -13,   -5,    0], dtype=int16), array([ 5,  5,  9, ..., 14, 20, 19], dtype=int16), array([-42, -49, -50, ...,   3,   5,   3], dtype=int16), array([ 10,   9,   4, ..., -42, -40, -37], dtype=int16), array([137,  74, -57, ...,   1,   3,   8], dtype=int16), array([ 58, -87,  40, ...,   8,  -4,  29], dtype=int16), array([ 81,  72,  47, ...,  -6, -11, -14], dtype=int16), array([-12, -11, -12, ...,  13,  12,  11], dtype=int16), array([-20, -19, -21, ..., -17,  -9, -35], dtype=int16), array([ 0, -2, -3, ...,  6, 14,  7], dtype=int16), array([13, 10, 20, ..., 38, 28, 29], dtype=int16), array([-3,  0,  5, ..., 44, 51, 43], dtype=int16), array([32, 15, 32, ..., 14, 28, 13], dtype=int16), array([ 89,  89, -47, ...,  19,   8,   7], dtype=int16), array([  25, -125, -112, ...,   13,   12,   20], dtype=int16), array([-30, -35, -36, ...,  10,  11,  15], dtype=int16), array([12, 14, 10, ...,  7,  3, 26], dtype=int16), array([ 70, 119, 136, ..., -27,  29, -19], dtype=int16), array([ -5,  -2,   0, ..., -28, -36, -46], dtype=int16), array([5, 0, 3, ..., 7, 8, 3], dtype=int16), array([ 22,   7, -16, ...,  25,  28,  32], dtype=int16), array([ 20,  15,  13, ..., -12, -13,  -8], dtype=int16), array([-16, -18, -21, ...,  19,  28,  34], dtype=int16), array([ 13,   6,   1, ..., -12,   1,  -3], dtype=int16), array([-2, -3, -5, ...,  8, 38, 10], dtype=int16), array([ 5,  3,  1, ..., -2,  0,  1], dtype=int16), array([-17, -14, -17, ...,   0,  -1,  -6], dtype=int16), array([-53, -48, -41, ...,  -7,  -1,  -6], dtype=int16), array([ -9, -17, -18, ...,   4,  10,   6], dtype=int16), array([ -74,  -95, -197, ...,   -6,    0,   -6], dtype=int16), array([ -2,  -8, -11, ..., -15, -31, -39], dtype=int16), array([-55, -88,  31, ..., -53,  -1,  46], dtype=int16), array([ 14,  18,  27, ...,   3,  36, -47], dtype=int16), array([ -3,  -3, -14, ...,   6,   2,   4], dtype=int16), array([ -7,  -6,  -6, ...,  -9, -20, -26], dtype=int16), array([ 65,  86, -79, ..., -13, -13,  -6], dtype=int16), array([-9, -5, -5, ..., -8, -4, -4], dtype=int16), array([ 99,  63,  17, ...,  -8, -10,  -7], dtype=int16), array([-75,  99,  46, ...,   2,  -6,  -3], dtype=int16), array([14, 13, 18, ..., 10, 16, 20], dtype=int16), array([ -8, -12,  13, ..., -16, -19, -18], dtype=int16), array([  89,   18, -167, ...,   27,   31,   32], dtype=int16), array([-18,  38, 127, ...,  10,   0,  -7], dtype=int16), array([33, 37, 42, ..., 40, 30, 36], dtype=int16), array([ 5, 79, 29, ..., 37, 43, 37], dtype=int16), array([282, 204,  77, ...,  21,  23,  22], dtype=int16), array([ 37,   3, -16, ...,   1,   1,  -3], dtype=int16), array([146, 202, 163, ..., -17, -10,  -7], dtype=int16), array([84, 69, 79, ...,  9, -6, -8], dtype=int16), array([   6,    4,    5, ..., -136,   39,    6], dtype=int16), array([-11,  -7,  -1, ...,  30,  24,  24], dtype=int16), array([ -8, -12, -14, ...,  22,  17,   9], dtype=int16), array([  98, -165, -232, ...,  -12,  -13,    0], dtype=int16), array([ 13,  15,  12, ..., -21, -12,  -4], dtype=int16), array([ -3,  -8, -18, ...,  76, -69,   8], dtype=int16), array([-12, -12, -12, ...,  17,  13,   7], dtype=int16), array([23, 15, 15, ..., 15, 20, 30], dtype=int16), array([-24, -19, -22, ..., -14,  -3,   0], dtype=int16), array([-43,  54,  -3, ...,   2,   0, -10], dtype=int16), array([ 79,  43, -25, ...,   0,   1,   2], dtype=int16), array([-24, -18, -19, ..., -14, -47, -90], dtype=int16), array([-19, -24, -25, ...,  24,  18,  14], dtype=int16), array([ -6, -11, -23, ..., -16, -18, -18], dtype=int16), array([ 6, 11,  6, ..., 11, 27, 35], dtype=int16), array([-17, -10,  -3, ..., -13, -15, -29], dtype=int16), array([-10,  -6,  -8, ...,  20,  18,   9], dtype=int16), array([-38, -49, -50, ...,   0,   8,   9], dtype=int16), array([ 8,  8,  7, ..., 22, 20, 20], dtype=int16), array([13,  5,  7, ...,  0, 41, 50], dtype=int16), array([  3,   6,   1, ..., -15, -12, -11], dtype=int16), array([ 16,  25, -10, ...,  25,  14,   8], dtype=int16), array([ 0,  7, 10, ..., -5,  6,  1], dtype=int16), array([ 2,  3,  6, ..., 54, 39, 35], dtype=int16), array([18, 23, 33, ...,  9, 23, 12], dtype=int16), array([-43, -51, -57, ..., -23, -24, -30], dtype=int16), array([-17, -15, -12, ..., -23, -16, -24], dtype=int16), array([-62,  50,  50, ...,   8, -10,   1], dtype=int16), array([208,  90,  55, ...,   0,   6,  10], dtype=int16), array([ -79, -129,  -53, ...,   15,   11,    0], dtype=int16), array([-13, -15,  -9, ..., -36, -44, -35], dtype=int16), array([  1,   0,   4, ..., -23, -26, -33], dtype=int16), array([-162,  -86,  -83, ...,   12,   18,   20], dtype=int16), array([35, 32, 22, ..., 45, 41, 50], dtype=int16), array([-17, -18, -19, ...,  38,  24,  13], dtype=int16), array([-4, -1,  1, ..., 60, 61, 56], dtype=int16), array([  0,   5,   8, ..., -14,  -2,   4], dtype=int16), array([ 16,  -7,  19, ..., -12, -15, -14], dtype=int16), array([ 12,  11,   0, ..., -15, -20, -13], dtype=int16), array([16, -2, 33, ..., -4,  4, 10], dtype=int16), array([  4, -11,  -3, ..., -16, -22, -16], dtype=int16), array([  1,  -1,  -6, ..., -20, -16, -25], dtype=int16), array([-19, -18, -14, ...,   1, -31,  39], dtype=int16), array([  1,   0,   4, ...,  -2,  62, 103], dtype=int16), array([ -6, -10,  -7, ...,  -6, -13, -15], dtype=int16), array([-38, -22, -40, ...,  24,  22,  25], dtype=int16), array([  2,   2,   0, ..., -35, -25, -13], dtype=int16), array([-95, -65, -40, ...,  12,  10,  10], dtype=int16), array([-23, -30, -33, ..., -19, -20, -31], dtype=int16), array([ 88, -18, -18, ..., -12, -15, -20], dtype=int16), array([ -9,  -5,  -5, ..., -10, -20, -25], dtype=int16), array([ 0,  1,  2, ..., 27, 25, 20], dtype=int16), array([-15, -16, -16, ..., -13, -13, -15], dtype=int16), array([13, 15, 17, ..., -3,  2, 18], dtype=int16), array([239, 149,  14, ...,  -1,  -5,  -1], dtype=int16), array([ 121,   87, -229, ...,   10,   13,   10], dtype=int16), array([-19, -19, -17, ...,  -4,  -1,  -4], dtype=int16), array([ -9,  -7,  -2, ..., -17, -19, -18], dtype=int16), array([ 2,  0, -1, ..., -1, 12, -9], dtype=int16), array([-154,  -33,   77, ...,    1,    6,   -1], dtype=int16), array([27, 38, 43, ..., 22, 26, 21], dtype=int16), array([-10,  44, 153, ...,  -7,  -7, -26], dtype=int16), array([-27, -28,  -7, ...,   2,   6,   6], dtype=int16), array([32, 43, 45, ..., -9, -4, -7], dtype=int16), array([ 5,  6, 12, ..., 47, 39, 37], dtype=int16), array([-16, -12, -14, ...,   8,   2,   5], dtype=int16), array([18, 18, 19, ...,  8,  5,  4], dtype=int16), array([  0,  -2,  -2, ...,   6, -10, -22], dtype=int16), array([ 271, -131,   86, ...,  -12,  -15,  -10], dtype=int16), array([13, 11, 12, ..., 43, 41, 27], dtype=int16), array([-83,  44, -14, ..., -37, -34, -28], dtype=int16), array([36, 32, 29, ..., -1, -7, 15], dtype=int16), array([ 13,  11,   9, ..., -14, -14, -21], dtype=int16), array([ -7, -18, -13, ...,  24,  34,  24], dtype=int16), array([13, 13, 13, ..., 32, 35, 37], dtype=int16), array([ -38, -104, -108, ...,  -14,    0,   31], dtype=int16), array([ 64,  79, -10, ...,  68,  60,  65], dtype=int16), array([1, 9, 4, ..., 7, 7, 3], dtype=int16), array([ -7,  -7, -14, ...,  -1,  -6, -11], dtype=int16), array([  4,   7,  11, ...,  -5, -46, -73], dtype=int16), array([48, 67, 89, ..., -3, 10, 17], dtype=int16), array([-13,  -1,   0, ...,  13,   9,  14], dtype=int16), array([  3,  11,  12, ...,   3,  -9, -15], dtype=int16), array([-39,  71, -46, ...,  11,  17,  19], dtype=int16), array([87, 97, 90, ..., 31, 36, 44], dtype=int16), array([-38, -54, -15, ..., -34, -32,  -4], dtype=int16), array([12,  6,  8, ..., 31, 31, 28], dtype=int16), array([ 32,  12, -34, ...,  -9,  -8,  -6], dtype=int16), array([-17, -15, -18, ..., -15, -15,  -8], dtype=int16), array([25, 31, 34, ..., 46, 42, 29], dtype=int16), array([-15, -31, -29, ..., -26, -14,  -5], dtype=int16), array([ 5,  9,  9, ..., -7, -1, 11], dtype=int16), array([ 1,  5, 10, ...,  4, 12,  9], dtype=int16), array([-19, -18, -17, ...,  12,  13,  11], dtype=int16), array([ 39, -27, -82, ...,  -8, -33, -30], dtype=int16), array([  1,   0,  -1, ..., -10,   1,   7], dtype=int16), array([-1, -2,  0, ..., -1,  8, 17], dtype=int16), array([-141,  -18,   79, ...,   -5,   -3,  -11], dtype=int16), array([  9, 128, 216, ...,  -7,  -3, -17], dtype=int16), array([ 5,  7, 12, ..., 23, 18, 11], dtype=int16), array([  0,  -5,  -7, ..., -24,  -8,   9], dtype=int16), array([  0,   0,   0, ...,   1, -19,  32], dtype=int16), array([ 7,  5,  9, ..., -4, -1, -6], dtype=int16), array([ -21, -100,   22, ...,  -57,    8,   37], dtype=int16), array([  0,  10,  12, ...,  -8, -10,  -8], dtype=int16), array([ -1,   0,   4, ..., -21, -21, -23], dtype=int16), array([-253, -120,  113, ...,   -2,   -7,   -9], dtype=int16), array([361, 340, 296, ...,   1,  -5, -11], dtype=int16), array([-67, 184, 192, ...,  10,  11,  14], dtype=int16), array([ -7,  -8,  -5, ..., -11,   0,   4], dtype=int16), array([-6, -4, -1, ...,  7,  7, -2], dtype=int16), array([ 18,  27,  28, ..., -22, -22, -27], dtype=int16), array([ -43,  145, -239, ...,   13,   24,   27], dtype=int16), array([ -4,  -5,  -3, ...,  11, -14, -38], dtype=int16), array([ 19,  29,  17, ..., -26, -25, -25], dtype=int16), array([-76, -12,   7, ..., -15,   1, -10], dtype=int16), array([ 3,  2,  6, ..., -3, -1, -6], dtype=int16), array([ 16,   8, -46, ...,   1,   0,   2], dtype=int16), array([-13, -16, -23, ...,  -3,  -6,  -5], dtype=int16), array([ -18,  -24,  -32, ..., -118, -201, -186], dtype=int16), array([-32, -13, -33, ..., -12,   3,  11], dtype=int16), array([57, 56, 50, ..., 14, 27, 32], dtype=int16), array([-13, -13, -16, ...,  15,  19,  21], dtype=int16), array([ -3,  -3,  -3, ..., -16, -16, -21], dtype=int16), array([  0,   0,   1, ..., -13,  -5,  12], dtype=int16), array([-24, -55,  -5, ...,  -6, -18, -13], dtype=int16), array([11,  9,  9, ..., 12, -3,  7], dtype=int16), array([-23, -23, -28, ...,  28,  26,  26], dtype=int16), array([-20, -18, -14, ...,  28,  35,  41], dtype=int16), array([-3,  0, -5, ...,  4, -2, -1], dtype=int16), array([ 364,  416, 1127, ...,   22,   29,   24], dtype=int16), array([-10, -15, -17, ...,  -3, -38, -31], dtype=int16), array([-23, -62, -77, ..., -11,  -9,  -2], dtype=int16), array([ 0,  1,  0, ...,  4,  3, 14], dtype=int16), array([-7, -3,  3, ..., -1,  0, -8], dtype=int16), array([13, 53,  7, ..., 11,  8,  0], dtype=int16), array([ 2,  1,  4, ..., -1, -4, -9], dtype=int16), array([-43,  61, -12, ..., -25, -19, -22], dtype=int16), array([165, 116, -53, ..., -41, -45, -41], dtype=int16), array([-145, -142, -122, ...,    1,    5,   16], dtype=int16), array([ 4, 45, 48, ..., 12, 16, 17], dtype=int16), array([  8,  40, -17, ...,  18,  15,  10], dtype=int16), array([17, 25, 20, ..., -2, -9, -8], dtype=int16), array([85, 75, 62, ...,  3,  2,  0], dtype=int16), array([ 10,  23,  75, ..., -29, -49, -30], dtype=int16), array([  6,  11,  16, ..., -30, -33, -22], dtype=int16), array([ 21,  88, -28, ..., -13, -17, -16], dtype=int16), array([-38, -62, -53, ...,  23,  15,   0], dtype=int16), array([11, 12, 14, ..., 13, 10, 20], dtype=int16), array([-21, -18, -17, ..., -19, -13,  -9], dtype=int16), array([-21, -23, -26, ...,  25,  27,  17], dtype=int16), array([ 12,  12,   9, ..., -51, -47, -40], dtype=int16), array([-2, -4, -7, ..., 36,  9, 15], dtype=int16), array([ 31,  27,  32, ...,  -4, -53,  -9], dtype=int16), array([ -72, -161, -160, ...,  -36,  -31,  -31], dtype=int16), array([-17, -14, -19, ...,  18,  16,   9], dtype=int16), array([ -1,   0,  -2, ...,   0,   3, -12], dtype=int16), array([ 16,  20,  23, ..., -39, -24, -19], dtype=int16), array([  7,   1,   0, ...,  30, -20,   2], dtype=int16), array([ -2, -23,  13, ..., -23, -28, -24], dtype=int16), array([-16, -20, -19, ...,  30, -22,  37], dtype=int16), array([  1, -13, -25, ..., -11, -21, -25], dtype=int16), array([ -5,  -5,   0, ...,   0,  -4, -14], dtype=int16), array([-38, -35, -36, ..., -19, -19, -13], dtype=int16), array([-3, -2,  2, ..., 27, 30, 38], dtype=int16), array([ 17,  33,   3, ...,  30,  -8, -63], dtype=int16), array([  51,  -52, -150, ...,  -15,  -23,  -27], dtype=int16), array([  7,   5,   4, ..., -18, -22, -32], dtype=int16), array([ -6, -33,  -5, ...,   2,   5,   8], dtype=int16), array([  5,   6,   3, ...,  -6,  -8, -11], dtype=int16), array([7, 4, 1, ..., 9, 8, 0], dtype=int16), array([ 71, -46, -31, ..., -10, -17, -13], dtype=int16), array([202, 105,  47, ...,  -4,  -6,   0], dtype=int16), array([ -5,  -2,   2, ..., -54, -47, -50], dtype=int16), array([-33, -29, -30, ...,   7,  11,  12], dtype=int16), array([ -2,   0,   0, ...,  -9, -16, -16], dtype=int16), array([ 37,  28,  27, ..., -29, -28, -15], dtype=int16), array([ 54,   5, -58, ...,  -2,   0,  -4], dtype=int16), array([-2,  0, -1, ...,  0,  1,  2], dtype=int16), array([-13, -15, -16, ..., -15, -17, -13], dtype=int16), array([-87, -35,  84, ...,   6,  -9, -42], dtype=int16), array([-5,  8, -4, ...,  4,  2, 13], dtype=int16), array([ -9,  -9,  -9, ..., -12,  -6,  -4], dtype=int16), array([  5,   6,  11, ..., -13, -12, -15], dtype=int16), array([49, 31,  9, ..., -3,  0,  3], dtype=int16), array([ 4,  7,  3, ...,  9, 16, 17], dtype=int16), array([-20, -14, -14, ...,  28,  34,  41], dtype=int16), array([-324,    1,  312, ...,   12,   10,    0], dtype=int16), array([-15, -17, -16, ...,  38,  25,  26], dtype=int16), array([-13, -12, -18, ..., -26, -24, -24], dtype=int16), array([-17, -11, -10, ...,   1,  16,  -1], dtype=int16), array([284, 288, 140, ...,  25,  32,  27], dtype=int16), array([  5,   0,  -3, ...,  14, -42,   9], dtype=int16), array([-15, -17, -18, ...,  -5, -17, -23], dtype=int16), array([  86, -173, -134, ...,    6,   12,    0], dtype=int16), array([ 18,  13,   7, ..., -39, -38, -33], dtype=int16), array([ 12,   7,   5, ..., -28, -20, -25], dtype=int16), array([ -4,  -7,  -7, ..., -67, -11,   0], dtype=int16), array([  0,   1,   1, ..., -14,  27,  27], dtype=int16), array([10,  5,  4, ...,  4,  0, -6], dtype=int16), array([-12, -16, -24, ...,  27,  21,  19], dtype=int16), array([26, 25, 22, ...,  4, -2, -1], dtype=int16), array([-25, -26, -24, ..., -10,  21,  16], dtype=int16), array([-3, -5, -6, ...,  1,  4,  4], dtype=int16), array([ 10,   9,   7, ..., -21, -26, -27], dtype=int16), array([58, 55, 54, ..., 22, 30, 43], dtype=int16), array([-21, -19, -13, ...,  17,   5,  -1], dtype=int16), array([ -2,   5,   2, ..., -29, -33, -33], dtype=int16), array([ -6, -11, -12, ...,  30,  32,  37], dtype=int16), array([  0,   0,   0, ..., -71, -75, -81], dtype=int16), array([ 156, -435,  272, ...,  -21,  -15,  -12], dtype=int16), array([-8, 12,  3, ..., 14, 12,  7], dtype=int16), array([  0,   1,   0, ...,  -7, -13, -12], dtype=int16), array([17, 22, 16, ...,  7, 20, 13], dtype=int16), array([-1,  0, -7, ...,  8, 11,  9], dtype=int16), array([-57, -52, -47, ...,  19,  17,  28], dtype=int16), array([ 5,  6,  7, ..., -6,  5, 16], dtype=int16), array([26, 24, 16, ..., 45, 48, 51], dtype=int16), array([  0,  -7,  -9, ..., -11, -19, -33], dtype=int16), array([ 141,  -55, -176, ...,  -19,  -22,  -25], dtype=int16), array([161, -51, -48, ..., -29, -30, -34], dtype=int16), array([ -91, -235, -247, ...,   36,   46,   55], dtype=int16), array([ 62,  11, -90, ...,   0, -13, -16], dtype=int16), array([23, 31, 25, ..., 73, 59, 42], dtype=int16), array([-103, -105,   67, ...,   49,   51,    6], dtype=int16), array([52, 70, 89, ...,  2,  1,  0], dtype=int16), array([-4, -3, -8, ..., 18, 16, 23], dtype=int16), array([  8,  10,   9, ..., -28, -24, -22], dtype=int16), array([ 2,  3, -1, ...,  1,  6,  0], dtype=int16), array([-33, -25, -20, ..., -81, -88, -69], dtype=int16), array([ -2,  -3,  -6, ...,  -5,  -5, -11], dtype=int16), array([-205, -241, -168, ...,  -27,  -32,  -41], dtype=int16), array([  2,   2,   1, ...,   6,  -7, -14], dtype=int16), array([  3,   5,   9, ..., -19, -17, -12], dtype=int16), array([ 27, -12, -45, ...,  24,  32,  37], dtype=int16), array([-12, -10,  -8, ..., -22, -36, -44], dtype=int16), array([  77,  -60, -244, ...,  -15,  -17,  -22], dtype=int16), array([-15, -16, -16, ...,  50,  67,  75], dtype=int16), array([-299, -167, -108, ...,    7,   18,    2], dtype=int16), array([ 9, 10, 12, ..., 42, 36, 26], dtype=int16), array([-14,  -5,  -1, ...,   3,  15,  14], dtype=int16), array([-1,  0,  0, ..., 10, 12, 12], dtype=int16), array([72, 71, 10, ..., 58, 53, 55], dtype=int16), array([-12, -86, -98, ..., -13,   0,  -1], dtype=int16), array([ 3,  9, -2, ..., -3, -5, -1], dtype=int16), array([151,  50,  88, ..., -59, -63, -60], dtype=int16), array([  23, -102,  -60, ...,   -5,   -6,   -2], dtype=int16), array([-99,  88, 142, ..., -20,  -3,   0], dtype=int16), array([20, 23, 54, ..., -6, 12, 62], dtype=int16), array([ -79,  -73, -142, ...,   -2,    5,    0], dtype=int16), array([ 0,  1,  5, ..., 14, 12, 18], dtype=int16), array([ 28,  53,  69, ..., -17, -47, -78], dtype=int16), array([-25, -17, -18, ...,   9,  18,  19], dtype=int16), array([-23, -17, -14, ...,  16,   6,   6], dtype=int16), array([-10, -13, -11, ..., -13,  -6,  -7], dtype=int16), array([-27, -86, -32, ..., -19, -22, -25], dtype=int16), array([-195,   12,   43, ...,   27,   28,   30], dtype=int16), array([-13, -29, -13, ..., -26, -11,  -2], dtype=int16), array([-32,  -2,  95, ..., 140, 137, 106], dtype=int16), array([242, 192, 162, ...,  21,  28,  27], dtype=int16), array([12,  8,  4, ..., 20, 17, 16], dtype=int16), array([-18, -16, -13, ...,  27,  22,  27], dtype=int16), array([-46, -54, -55, ...,  15,  21,  11], dtype=int16), array([ 19, -12,  39, ...,  -8,   1,  14], dtype=int16), array([-3, -4, -3, ..., -1,  2,  1], dtype=int16), array([ -8, -36, -37, ..., -19, -41, -28], dtype=int16), array([ 27,  25,  24, ...,   2,   4, -23], dtype=int16), array([11,  9,  6, ...,  8,  8, -9], dtype=int16), array([-38, -31,  -9, ..., -24, -23, -15], dtype=int16), array([-15, -18, -23, ...,  36, -32, -35], dtype=int16), array([  4,   1,   2, ..., -38, -19,  72], dtype=int16), array([10, 13, 23, ..., 11, 16,  8], dtype=int16), array([ 22,  25,  29, ..., -37, -35, -35], dtype=int16), array([ 0,  9, 11, ..., -2,  0,  5], dtype=int16), array([  0,   3,   6, ...,  -7,  -2, -15], dtype=int16), array([  2,   0,  -3, ..., -22, -28, -15], dtype=int16), array([18, 45, 21, ..., 27, 24, 26], dtype=int16), array([207, 691, 732, ...,  44,  40,  45], dtype=int16), array([18, 26, 31, ...,  9, 32, 36], dtype=int16), array([ -6,  -1,  -1, ..., -39, -33, -24], dtype=int16), array([-9, -9, -6, ..., 13,  7,  8], dtype=int16), array([-2, -3, -5, ...,  1,  0, -2], dtype=int16), array([ 1, -1, -5, ..., -6,  6,  9], dtype=int16), array([ -7, -12, -16, ...,   0,   9,  10], dtype=int16), array([-171,  143,  149, ...,  -10,  -16,  -28], dtype=int16), array([17, 33, 35, ..., -5, -3, -2], dtype=int16), array([-5,  0,  0, ..., -4,  4,  4], dtype=int16), array([ -3, -22, -22, ...,  17,  19,  16], dtype=int16), array([ -9,  -6, -12, ..., -41, -43, -38], dtype=int16), array([33, 29, 27, ..., 13,  9, 16], dtype=int16), array([-20, -22, -26, ...,   6,   6,   8], dtype=int16), array([-15, -18, -17, ...,  10,  12,  20], dtype=int16), array([ 21,  17,  10, ..., -53, -47,  -6], dtype=int16), array([22, 26, 30, ..., 69, 51, 74], dtype=int16), array([-79, -75,  82, ..., -35, -35, -35], dtype=int16), array([167, 224, 181, ...,  25,  17,   1], dtype=int16), array([ 12,  71,   9, ..., -19, -14, -16], dtype=int16), array([-69, -99, -53, ...,   3,  -3,  -2], dtype=int16), array([-27, -25, -22, ..., -35, -32, -27], dtype=int16), array([-157,   -7,  114, ...,   22,   38,   37], dtype=int16), array([-22, -22, -27, ...,  -1,  -3, -11], dtype=int16), array([ 1,  2,  0, ..., 17, 16,  2], dtype=int16), array([-13, -15, -16, ..., -15, -30, -12], dtype=int16), array([  6,   3,   1, ...,  14,   3, -16], dtype=int16), array([104, 154, 203, ...,   7,  14,  18], dtype=int16), array([293, 177, 121, ..., -41, -22, -18], dtype=int16), array([15,  8,  9, ..., 39, 32, 32], dtype=int16), array([-33, -27, -31, ...,  43,  34,  25], dtype=int16), array([ -87, -137,  -40, ...,   17,   14,   10], dtype=int16), array([  0,  -3,  -1, ..., -35, -24,  -6], dtype=int16), array([ 2,  6, 12, ...,  0,  0, -2], dtype=int16), array([ 6,  3,  1, ..., 12,  9, 10], dtype=int16), array([ -5,  -5,  -9, ..., -23, -14, -23], dtype=int16), array([18, 19, 16, ..., -8, -9, -3], dtype=int16), array([-8, -3, -2, ..., 24, 31, 39], dtype=int16), array([ 59,  28, -23, ...,   0,   1,   1], dtype=int16), array([ 0,  1,  4, ..., 24, 27, 11], dtype=int16), array([-17, -14, -13, ...,   0,   6,   3], dtype=int16), array([ -5,  -6, -14, ..., -11,  -5, -10], dtype=int16), array([27, 37, 20, ..., 20, 18, 14], dtype=int16), array([ 2, 12,  2, ..., 49,  8,  0], dtype=int16), array([ -26, -200,  163, ...,    2,   -8,   -7], dtype=int16), array([  9, -88, -48, ...,  -7,  -2, -14], dtype=int16), array([-5, -8, -4, ..., -2, -3, -7], dtype=int16), array([  2,   0,   1, ..., -39, -40, -26], dtype=int16), array([ -4,  -8, -14, ...,  -4,  -8, -10], dtype=int16), array([-9, -9, -8, ..., 21, 15, 14], dtype=int16), array([-43, -16, -87, ...,  31,  32,  30], dtype=int16), array([-8, -3, -1, ..., 61, 74, 79], dtype=int16), array([ 0,  0, -1, ..., -3, -1, -2], dtype=int16), array([ 38,  -8,   5, ...,   0,  -5, -21], dtype=int16), array([24, 25, 26, ..., -1,  4,  5], dtype=int16), array([ 0,  0,  0, ..., 32, 19, 17], dtype=int16), array([10,  9,  8, ..., 14, 19, 24], dtype=int16), array([12, 12, 15, ..., 36, 33, 38], dtype=int16), array([-116, -163,    0, ...,  -58,  -54,  -61], dtype=int16), array([-2, -9, -6, ...,  3, -8,  3], dtype=int16), array([  2,   4,   5, ..., -12, -14, -11], dtype=int16), array([-192, -225, -183, ...,   -3,   -4,    3], dtype=int16), array([37, 46, 50, ..., 11, 21, 24], dtype=int16), array([-41, -34, -28, ...,  15,  15,  22], dtype=int16), array([-10, -17,  -6, ...,  -6, -16, -16], dtype=int16), array([ -3,   4,   3, ..., -33, -35, -34], dtype=int16), array([-38, -38, -43, ...,   3,  23,   7], dtype=int16), array([39, 31, 13, ..., 70, 69, 69], dtype=int16), array([  -9,   -2,   11, ..., -128,  -95,  -44], dtype=int16), array([ 34,  28,  24, ..., -53, -17,  26], dtype=int16), array([-59, 121, 146, ...,  -9, -16, -31], dtype=int16), array([ 53,  37, -27, ..., -20, -22, -19], dtype=int16), array([  1,   5,  15, ..., -98, -48,  44], dtype=int16), array([-11, -13, -21, ...,  -9,   3,  14], dtype=int16), array([-33, -31, -16, ...,  18,  14,  15], dtype=int16), array([ 33,  12,  -8, ..., -23, -18,  -9], dtype=int16), array([ 27, -17, -10, ...,   0,  -4, -11], dtype=int16), array([1, 3, 0, ..., 0, 7, 0], dtype=int16), array([-23, -86,  -5, ...,  18,  19,  15], dtype=int16), array([ 5,  9,  7, ...,  6,  5, 13], dtype=int16), array([ 4,  4,  2, ..., 62, 59, 50], dtype=int16), array([ 13,   8,  14, ..., -12, -10,  -9], dtype=int16), array([-44, -48,  59, ...,   7,  12,  18], dtype=int16), array([110, 114,  46, ...,   7,   6,   0], dtype=int16), array([-1, -2,  0, ..., -4,  2,  8], dtype=int16), array([-179, -140,    0, ...,    8,    7,    2], dtype=int16), array([7, 6, 7, ..., 4, 6, 7], dtype=int16), array([-149, -125, -192, ...,  -44,  -62,  -65], dtype=int16), array([ 27,  26,  23, ...,  -9, -10,  -7], dtype=int16), array([-187, -318, -239, ...,    5,   14,   17], dtype=int16), array([12,  9,  3, ...,  3, -2, -4], dtype=int16), array([23, 23, 24, ..., 10,  4,  4], dtype=int16), array([-12,  -6, -10, ..., -21, -23, -26], dtype=int16), array([-2, -2,  2, ..., -4, -7, -3], dtype=int16), array([ -27,  -28,  -30, ..., -102,  -85,  -81], dtype=int16), array([-20, -21, -27, ..., -24, -48,  47], dtype=int16), array([ -3,   5,   8, ..., -33, -42, -37], dtype=int16), array([-55, -31, -32, ..., -52, -46, -41], dtype=int16), array([-20, -19, -20, ..., -30,  -7,  15], dtype=int16), array([ 1,  2,  2, ..., 32, 17,  3], dtype=int16), array([ -4,  -7, -11, ..., -66,  30,  43], dtype=int16), array([-144,   32,  187, ...,  -25,  -11,  -15], dtype=int16), array([ 14,  13,  15, ...,   2,   9, -15], dtype=int16), array([-120, -335, -285, ...,  -10,   -1,    1], dtype=int16), array([-1, -5, -7, ..., -1,  7, -3], dtype=int16), array([-14, -14, -12, ...,  -4,  -7,  -9], dtype=int16), array([ 3,  3,  5, ..., 14, 15, 15], dtype=int16), array([ 84,   4,  -6, ..., -17, -23, -15], dtype=int16), array([ 65,  54,  29, ..., -28, -27, -32], dtype=int16), array([17, 11, 12, ..., -2, -2, -3], dtype=int16), array([-27, -24, -92, ..., -18, -20, -14], dtype=int16), array([  0,  -2,  -3, ..., -37, -37, -34], dtype=int16), array([-4, -1, -1, ...,  7,  8,  7], dtype=int16), array([-219,  -18,  228, ...,  -16,  -13,  -10], dtype=int16), array([ -5,  -3,   1, ..., -22, -15, -13], dtype=int16), array([ -89, -223, -132, ...,   28,   29,   35], dtype=int16), array([ 3,  6,  1, ..., 11, 20, 34], dtype=int16), array([ -79, -123,   51, ...,   12,   16,    9], dtype=int16), array([-73, -57, -40, ...,  29,  36,  47], dtype=int16), array([-140,  -12,  119, ...,    5,   14,   11], dtype=int16), array([ 53,  -1,  31, ..., -14, -17, -29], dtype=int16), array([ 3,  5,  9, ...,  4,  9, 28], dtype=int16), array([-13,   6,  27, ...,  -6,   1,   3], dtype=int16), array([ -8,  -9,  -7, ..., -22,  -8, -12], dtype=int16), array([  12,   16,   12, ..., -593, -436, -544], dtype=int16), array([-213, -330, -121, ...,   -5,   -5,   -8], dtype=int16), array([ -1,  -4,  -1, ..., -36, -30, -25], dtype=int16), array([ -5, -11, -13, ...,   8,  31,  16], dtype=int16), array([25, 55, -3, ...,  0, -6, -8], dtype=int16), array([-2, -2,  3, ..., 10,  3, 20], dtype=int16), array([ 58,  32,  50, ...,  -4,  -7, -12], dtype=int16), array([ 67, -94, 158, ...,  -6, -10, -23], dtype=int16), array([-19, -19, -15, ...,  20,  26,  23], dtype=int16), array([ 15,  17,  20, ..., -46, -74, -62], dtype=int16), array([  7,   9,  13, ..., -21, -10, -18], dtype=int16), array([-37, -45, -50, ...,   7,   4,   1], dtype=int16), array([  5,   9,   3, ..., -15,  -4,  13], dtype=int16), array([-1,  2,  3, ..., 19, 18, 15], dtype=int16), array([ 47,  42,  32, ...,   1, -24, -26], dtype=int16), array([ 2,  4,  4, ...,  1,  1, -4], dtype=int16), array([-115,  -47,  114, ...,  -34,  -40,  -32], dtype=int16), array([ -2,  -5,   4, ...,  -3,  -8, -10], dtype=int16), array([ -9, -16, -16, ..., -22, -21, -17], dtype=int16), array([ -47, -190, -241, ...,  -38,  -32,  -21], dtype=int16), array([-37, -40, -42, ...,  -1,  -2,   2], dtype=int16), array([1, 1, 3, ..., 0, 0, 0], dtype=int16), array([15, 23, 16, ..., -7, -3, -3], dtype=int16), array([ -8, -15, -16, ...,  19,  26,  28], dtype=int16), array([-22, -25, -34, ...,  13, -18,   0], dtype=int16), array([10, 10, 10, ..., 12, 16, 12], dtype=int16), array([39, 39, 40, ...,  8,  5,  1], dtype=int16), array([-39, -35, -35, ..., -23,   0, -65], dtype=int16), array([ 33, 174, 337, ...,  -4,   0,  -3], dtype=int16), array([ 0, 12, 13, ..., 29, 22, 20], dtype=int16), array([22, 21, 24, ..., 13,  5,  2], dtype=int16), array([ 0, -2, -1, ..., 24, 27, 24], dtype=int16), array([ 52, -41, -57, ...,  10,   9,   7], dtype=int16), array([ 5,  6,  7, ..., -4, -4, -2], dtype=int16), array([ 30,  31,  28, ..., -28, -15,  -9], dtype=int16), array([ 31, -21, -13, ...,  53,  34,  24], dtype=int16), array([ 0, -4, -1, ...,  3,  1, -5], dtype=int16), array([-149,  -27,  -80, ...,   14,  -13,  -37], dtype=int16), array([ -74, -169, -110, ...,  -11,   -1,    1], dtype=int16), array([ 0,  0,  0, ..., 23, 12, -2], dtype=int16), array([ -1,  -3, -10, ...,   3,   3,   4], dtype=int16), array([  0,  -3,  -2, ..., -26, -21, -29], dtype=int16), array([-20, -29,   4, ..., -10,  31,  38], dtype=int16), array([-2,  0,  0, ..., 85, 77, 33], dtype=int16), array([ -1,  -4, -12, ...,  -1,  -1,   4], dtype=int16), array([-220, -103,  -16, ...,    6,   14,   11], dtype=int16), array([  0,  -2,  -4, ..., -16, -18, -19], dtype=int16), array([-10,  -7,  -5, ..., -11, -23, -42], dtype=int16), array([ -34, -104, -125, ...,   10,    6,    8], dtype=int16), array([-20, -16, -13, ...,   0, -22, -43], dtype=int16), array([ -63, -151,  152, ...,  -26,  -21,  -25], dtype=int16), array([18, 15, 12, ..., 16, 11, 10], dtype=int16), array([  8,  79,  88, ..., -17, -23,  20], dtype=int16), array([-7, -5, -5, ...,  1,  1, -5], dtype=int16), array([-10,  -9,  -3, ...,  31,  30,  30], dtype=int16), array([-5, -7, -3, ..., -6,  2, 18], dtype=int16), array([ -1,  -1,   1, ..., -16, -24, -19], dtype=int16), array([ -3,   0,   0, ...,  -2,  -4, -12], dtype=int16), array([-134, -126, -135, ...,    6,    3,    0], dtype=int16), array([169, 123,  19, ...,  11,   8,   4], dtype=int16), array([29, 32, 31, ..., 14,  4,  2], dtype=int16), array([ 3,  4,  7, ...,  1, 11, 11], dtype=int16), array([-3, -3, -3, ..., 17, 27, 37], dtype=int16), array([  4,   6,   7, ..., -25, -16, -12], dtype=int16), array([-31, -22, -35, ...,  15,   4,   0], dtype=int16), array([ -6, -15, -23, ...,  -9,  -9, -17], dtype=int16), array([ -4,  -5, -15, ...,   6,   7,  13], dtype=int16), array([  58,  -95, -126, ...,   -3,    0,    0], dtype=int16), array([ 56,  32,   8, ...,   7,  -8, -22], dtype=int16), array([10, 10, 11, ..., -3, -6, -4], dtype=int16), array([ 13,  11,   6, ..., -30, -26, -18], dtype=int16), array([-15,  30,   5, ...,   0,   2,  21], dtype=int16), array([ -63, -118,  -14, ...,  -83, -101,  -88], dtype=int16), array([-15, -24, -26, ...,  49,  14,  26], dtype=int16), array([ 0,  1,  5, ..., 21, 19, 25], dtype=int16), array([ 2, -2, -1, ..., 11, 12,  7], dtype=int16), array([  0,   6,  14, ..., -16,  -4,   5], dtype=int16), array([ 4,  9, 14, ...,  5,  5,  8], dtype=int16), array([ -73,  -27, -254, ...,   16,    7,    2], dtype=int16), array([-17,  -9,  -7, ...,   0,   2,   5], dtype=int16), array([-11, -10, -12, ..., -37, -36, -32], dtype=int16), array([-11, -13, -10, ...,  12,  10,  10], dtype=int16), array([-11, -15, -17, ...,  24,  25,   1], dtype=int16), array([-23, -22, -27, ...,  31,  40,  26], dtype=int16), array([-10, -10, -15, ..., -12, -16, -11], dtype=int16), array([ -11,  -11,   -7, ...,  -70, -128, -139], dtype=int16), array([-16, -15, -15, ...,  -2,   6,   9], dtype=int16), array([21, 16, 13, ..., 18, 18, 21], dtype=int16), array([ 75,  31, -19, ...,   0,  -4,   3], dtype=int16), array([  27, -109,  153, ...,   -4,   -1,   -2], dtype=int16), array([-7, -2,  1, ..., 22, 13, 14], dtype=int16), array([40, -9, 25, ..., 47, 51, 34], dtype=int16), array([163, 134,  97, ...,   8, -13,   4], dtype=int16), array([ -7, -12, -13, ...,  10,  15,  21], dtype=int16), array([ 2,  7,  8, ...,  0, 11,  7], dtype=int16), array([-16, -14, -18, ...,   5,   2,   0], dtype=int16), array([  0,   0,   3, ..., -13, -13, -17], dtype=int16), array([142,  82, -81, ...,  24,   9,  33], dtype=int16), array([  2,   0,   2, ..., -34, -33, -28], dtype=int16), array([ -6,  -1,   5, ..., -36, -36,  11], dtype=int16), array([ 76,  26, -39, ...,  66,  52,  50], dtype=int16), array([-5, -3, -2, ..., 26, 17, 17], dtype=int16), array([22, 21, 20, ...,  0,  1, -8], dtype=int16), array([ 3,  4,  2, ..., 31, 35, 25], dtype=int16), array([ 58, 110, 119, ...,  -8,  -9,  -8], dtype=int16), array([-4, -4, -5, ..., 10, 10, 13], dtype=int16), array([  7,   8,  11, ..., -49, -48, -51], dtype=int16), array([  5, -23,  -6, ...,  37,  41,  30], dtype=int16), array([-10,  -9,  -6, ...,   9,   1,   7], dtype=int16), array([-4, -7, -6, ...,  8,  0,  7], dtype=int16), array([-13, -13, -14, ...,  37,  42,  49], dtype=int16), array([ 14,  13,  15, ...,   2, -31,  19], dtype=int16), array([-6,  0, -4, ..., -3,  6,  0], dtype=int16), array([ -51, -133,   -4, ...,  -26,  -28,  -21], dtype=int16), array([ 19,  15,  14, ..., -47, -40, -41], dtype=int16), array([-4, -8, -6, ..., 14, 30, 32], dtype=int16), array([ -3,  -6,  -6, ..., -23, -17, -12], dtype=int16), array([-3, -4, -3, ...,  0, 10, 10], dtype=int16), array([14, 16, 12, ...,  0,  1, 10], dtype=int16), array([105,  77,  22, ...,   2,   9,   3], dtype=int16), array([-16,   6,  -9, ..., -28,  11,   5], dtype=int16), array([  2,   2,   0, ..., -26, -35, -64], dtype=int16), array([ 4,  4,  1, ...,  1,  2, -5], dtype=int16), array([21,  7,  0, ..., 20, 16, 17], dtype=int16), array([-15, -19, -23, ...,   1,   0,  -4], dtype=int16), array([  7,   5,   8, ..., -19, -22, -18], dtype=int16), array([ 21,  18,  17, ..., -39, -33, -35], dtype=int16), array([ 15, -65, -84, ...,  30,  16,  -6], dtype=int16), array([-12, -10,  -4, ..., -58, -58, -54], dtype=int16), array([ 8,  6,  4, ..., 14, 23, 22], dtype=int16), array([-2, -5, -5, ..., 13, 15, 25], dtype=int16), array([ 15,  -7, -74, ..., -29, -22,  10], dtype=int16), array([28, 34, 33, ..., 44, 39, 40], dtype=int16), array([-2, -5,  0, ..., 30, 11, -7], dtype=int16), array([ 6,  7,  8, ..., 28, 20, 21], dtype=int16), array([-18, -20, -17, ...,   2,   3,  -4], dtype=int16), array([-13, -12, -14, ...,  14,  17,  26], dtype=int16), array([ 1,  0,  0, ..., -2, -4, -1], dtype=int16), array([  0,   0,   0, ..., -20, -18, -22], dtype=int16), array([ 7,  9, 12, ..., 28, 37, 30], dtype=int16), array([ 5, 15, 20, ...,  1,  0,  5], dtype=int16), array([-19, -14, -19, ...,  13,  10,  -2], dtype=int16), array([-328,   94,  120, ...,    5,    3,    2], dtype=int16), array([-19, -17, -25, ..., -39, -36, -22], dtype=int16), array([19, 56, 51, ..., 96, 57, 72], dtype=int16), array([  8,  13,  10, ...,  -9, -16, -10], dtype=int16), array([ -4,  -2,  -3, ..., -16,   0,  -5], dtype=int16), array([-11, 184,  58, ..., -15,  -7, -10], dtype=int16), array([  -7, -210, -214, ...,   -4,    9,   21], dtype=int16), array([ 2,  2,  1, ..., 10,  4, -3], dtype=int16), array([  8,  14,  10, ..., -21, -22, -19], dtype=int16), array([-3, -1,  0, ...,  4,  0, 10], dtype=int16), array([  0,   8,   7, ..., -13, -28,  -6], dtype=int16), array([12, 12, 13, ...,  7, 12, 13], dtype=int16), array([ 10,  33,  34, ..., -17,  -2, -21], dtype=int16), array([ -8,  -1,   0, ..., -18, -25, -30], dtype=int16), array([-19, -18, -26, ...,  19,  17,  16], dtype=int16), array([ 353, -157, -536, ...,   59,   64,   59], dtype=int16), array([-30, -45, -47, ...,  22,  21,  10], dtype=int16), array([-13, 107,  49, ..., -17, -13, -10], dtype=int16), array([-3, -4, -2, ..., 38, 32, 33], dtype=int16), array([166, 286, 313, ..., -13,  -3,   0], dtype=int16), array([-7, -9, -6, ..., -2,  1, -2], dtype=int16), array([ 5, 10,  2, ..., -1,  3, -1], dtype=int16), array([-22, -28, -66, ...,  27,  26,  20], dtype=int16), array([ -2,   2,   0, ..., -21, -59, -64], dtype=int16), array([-10,  -8,  -8, ...,  -5,  -9, -13], dtype=int16), array([54, 84, 41, ..., -2, -2, -8], dtype=int16), array([ 4, 19, 27, ..., -1,  2,  0], dtype=int16), array([-53, -56, -62, ...,  11,   0, -14], dtype=int16), array([-4,  0, -1, ...,  8,  8,  8], dtype=int16), array([-37, -21,   4, ...,   4,  14,  12], dtype=int16), array([202, 153,  71, ..., -20, -10,   3], dtype=int16), array([16, 18,  8, ..., 30, 24, 26], dtype=int16), array([-85,   0,  86, ...,  -5,  -6,  -1], dtype=int16), array([  1,  10,  12, ..., -19, -11,  -1], dtype=int16), array([-20, -10,   0, ...,  81, 120,  -1], dtype=int16), array([ 13, -87, -63, ...,   9,  26,  26], dtype=int16), array([ 56,  48,  63, ..., -39, -38, -31], dtype=int16), array([26, 29, 28, ..., 24, 20, 16], dtype=int16), array([17, 12, 12, ..., 13,  9,  4], dtype=int16), array([303, 335, 175, ...,  -2,   5,   0], dtype=int16), array([-326, -481,  -53, ...,  -10,  -18,  -21], dtype=int16), array([ 31,  26,  -1, ..., -65, -48, -22], dtype=int16), array([  71,  -70,    0, ..., -187,   18,   17], dtype=int16), array([-15, -17, -14, ..., -15,  -4, -19], dtype=int16), array([  9,  11,  12, ..., -29, -22, -23], dtype=int16), array([ 74,  45, -38, ...,  -6,   0,  -3], dtype=int16), array([-4, -1,  0, ...,  3, 15, 19], dtype=int16), array([  29,   30,   16, ...,  275,  191, -131], dtype=int16), array([13, 10,  8, ..., 11, 17,  9], dtype=int16), array([-323, -237,  -22, ...,   -6,   -5,    0], dtype=int16), array([ 8, 11, 11, ..., 24, 15, 18], dtype=int16), array([ 25, -33, -45, ..., -32, -31, -31], dtype=int16), array([13, 15, 15, ..., 12,  8, -1], dtype=int16), array([-41,  -8,  31, ..., -17, -26, -31], dtype=int16), array([  0, -75, -11, ...,   4,   3,   4], dtype=int16), array([ -7, -11, -10, ..., -18, -64,   0], dtype=int16), array([ 18,  30,  33, ...,   5, -69, -34], dtype=int16), array([ 152,  -37, -105, ...,    6,   17,   24], dtype=int16), array([-354, -133,  170, ...,   48,   46,   13], dtype=int16), array([ 30, 111, 164, ..., -83, -72, -67], dtype=int16), array([ 85,  44,  -5, ..., -18, -17, -51], dtype=int16), array([  3,  32,  54, ..., -32, -33, -33], dtype=int16), array([ -3, -13, -16, ...,  21,   6,   3], dtype=int16), array([-4,  0, -3, ..., 29, 24, 20], dtype=int16), array([ 0, -1, -1, ..., 16,  6,  1], dtype=int16), array([-171, -193, -164, ...,   25,   27,   26], dtype=int16), array([ 34,  29,  18, ..., -42, -42, -40], dtype=int16), array([ 20, -10, -36, ...,   8,  13,  32], dtype=int16), array([ 19,  22,  17, ...,   5, -11, -18], dtype=int16), array([ 15,  21,  22, ..., -19, -15, -11], dtype=int16), array([24, 18, 15, ..., 16, 18, 10], dtype=int16), array([ 28,  25,  25, ...,  89,  14, -27], dtype=int16), array([-24, -23, -21, ..., -26, -24, -28], dtype=int16), array([-38, -40, -29, ..., -52, -57, -22], dtype=int16), array([-29, -26, -14, ..., -83, -77, -57], dtype=int16), array([-371, -166,   40, ...,   -4,  -10,  -10], dtype=int16), array([ 11,  11,  13, ..., -10, -15, -30], dtype=int16), array([-1,  5,  8, ..., -1,  1,  0], dtype=int16), array([-21, -27, -21, ...,   0,  -9, -12], dtype=int16), array([ 27,  22,  12, ..., -22, -61, -22], dtype=int16), array([  0,  -5,  -2, ...,  -5,  -9, -11], dtype=int16), array([25, 27, 24, ..., 52, 56, 65], dtype=int16), array([ 15,   9,   2, ..., -11, -10, -13], dtype=int16), array([ 7, 10,  7, ..., -2, -1, -9], dtype=int16), array([ -7, -10, -11, ...,   5,  31,  17], dtype=int16), array([-3,  0,  1, ...,  4, -4,  5], dtype=int16), array([86, 90, 10, ..., 39, 29, 27], dtype=int16), array([ 86,  40, -14, ...,  43,  44,  42], dtype=int16), array([145, 167,  99, ...,  37,  23,  22], dtype=int16), array([-2, -3,  0, ...,  5,  5,  6], dtype=int16), array([  1,   2,   2, ..., -21, -31, -33], dtype=int16), array([  1,   2,   6, ..., -25, -30, -27], dtype=int16), array([11, 18, 14, ..., -4,  0, -3], dtype=int16), array([15, 19, 14, ..., 88, 78, 43], dtype=int16), array([-1, -2,  0, ...,  6,  8,  0], dtype=int16), array([ 0,  2, 12, ..., 19, 28, 21], dtype=int16), array([ 46,   2, -36, ..., -17,  -9, -32], dtype=int16), array([  0,  -8, -10, ...,   4,   0,   2], dtype=int16), array([  0,  -1,  -3, ..., -20, -19, -13], dtype=int16), array([-103,  -29,   -9, ...,   24,   19,   20], dtype=int16), array([13, 14, 14, ...,  4, 10, 10], dtype=int16), array([-24, -22, -16, ..., -26, -32, -36], dtype=int16), array([-17, -16,  -3, ..., -25, -13,  -7], dtype=int16), array([-21, -20, -18, ...,  14,   7,  -3], dtype=int16), array([  0,   2,   1, ..., -11, -12, -11], dtype=int16), array([ 31, -41,  19, ...,  12,  12,   7], dtype=int16), array([10,  7,  3, ..., -1, -4, -7], dtype=int16), array([ 3,  7, 10, ...,  6,  0,  2], dtype=int16), array([14, 16, 18, ...,  6, 16,  9], dtype=int16), array([ -2,  -8,  -9, ..., -56, -51, -52], dtype=int16), array([10, 11, 10, ...,  0,  5, 14], dtype=int16), array([  9,  13,   7, ..., -29,  57, -19], dtype=int16), array([-25,  68, 165, ...,  19,  24,  20], dtype=int16), array([-18, -17, -18, ..., -59, -57, -56], dtype=int16), array([-212, -177, -169, ...,   27,   32,   32], dtype=int16), array([-151,   25,  129, ...,  -38,  -36,  -34], dtype=int16), array([ 8,  1,  2, ..., 13, 18, 23], dtype=int16), array([ 28,  10, -30, ..., -28, -42, -29], dtype=int16), array([ 23, 149,  17, ..., -14, -23, -24], dtype=int16), array([ 48,  -4, -25, ..., -20, -22, -21], dtype=int16), array([-95, -44,   1, ..., -36, -56, -40], dtype=int16), array([18, 19, 19, ...,  7,  6,  7], dtype=int16), array([ -5,   7,   8, ..., -45, -48, -57], dtype=int16), array([ -6,  -9, -11, ..., -65, -76, -88], dtype=int16), array([  8,   7,  13, ..., -31, -34, -32], dtype=int16), array([ 28,  -1, -37, ..., -18, -23, -28], dtype=int16), array([ 16,  13,  20, ..., -14, -10,  26], dtype=int16), array([  0,  -2,  -1, ...,  -1, -51,  -4], dtype=int16), array([-11,  79,  10, ...,  -1,   3,  11], dtype=int16), array([-4, -5, 18, ..., 55, 58, 69], dtype=int16), array([ 9,  8,  7, ..., 31, 36, 35], dtype=int16), array([-18, -22, -19, ..., -14,  -6,  -2], dtype=int16), array([ 21,  27,  24, ...,  93, -69,  69], dtype=int16), array([-1,  2,  1, ..., 28, 23, 18], dtype=int16), array([ 224,  130, -129, ...,   15,   13,    0], dtype=int16), array([  6,   4,   7, ...,  49,  27, -38], dtype=int16), array([ -8, -15,  -3, ..., -17, -24, -27], dtype=int16), array([-27, -26, -22, ...,  28,  24,  20], dtype=int16), array([-3, -6, -5, ..., 17, 18, 13], dtype=int16), array([ 19,  21,  20, ...,   3, -10, -21], dtype=int16), array([ 22, -44, -40, ...,  34,  32,  25], dtype=int16), array([ -4,  -6,  -7, ..., -46, -41, -36], dtype=int16), array([-11,  12,  19, ...,  11, -35, -51], dtype=int16), array([ -77, -110, -158, ...,   -2,   -3,    0], dtype=int16), array([  14,  168,  169, ..., -156,   42,  103], dtype=int16), array([16,  9, 12, ..., 27, 28, 27], dtype=int16), array([ -8,  -8,  -4, ..., -46, -80, -84], dtype=int16), array([ 6,  4,  5, ..., 10, 10, 17], dtype=int16), array([-84, 123, -63, ...,  14,   0, -10], dtype=int16), array([-269, -153,  -38, ...,   -2,   20,   22], dtype=int16), array([-21, -14, -10, ...,   6,  14,  11], dtype=int16), array([  3,   7,   4, ..., -10, -34, -43], dtype=int16), array([ 22,  19,  17, ..., -17, -16, -20], dtype=int16), array([-1, -4, -3, ..., 20, 29, 32], dtype=int16), array([ -9, -26, -22, ..., -23, -31, -32], dtype=int16), array([-5, -5, -4, ...,  2,  4,  6], dtype=int16), array([-88, -45, -39, ...,   1,   0,  -8], dtype=int16), array([43, 50, 50, ..., 74, 65, 60], dtype=int16), array([ 11,   8,  17, ..., -23, -20, -20], dtype=int16), array([-39, -39, -34, ...,  77,  18, -24], dtype=int16), array([39, 36, 30, ..., 13,  4,  5], dtype=int16), array([263,  11, -66, ...,   3,  -4,   8], dtype=int16), array([-39, -36, -45, ...,  71,  38,  62], dtype=int16), array([-10,   1,   5, ..., -41, -38, -30], dtype=int16), array([-66,  17,   1, ..., -55, -41, -39], dtype=int16), array([12,  7,  0, ..., 11,  5, -9], dtype=int16), array([   8,  -26, -135, ...,   24,   25,   19], dtype=int16), array([-17, -21, -15, ..., -16, -17,  -8], dtype=int16), array([ 4,  3,  7, ..., 41, 45, 52], dtype=int16), array([ 26,  35,  35, ..., -22, -24, -26], dtype=int16), array([-1, -5, -6, ...,  9,  9, -2], dtype=int16), array([11, 10, 11, ..., 29,  8, -2], dtype=int16), array([  3,   6,   4, ..., -14, -21, -24], dtype=int16), array([ 45,  55,  38, ...,  15,   2, -11], dtype=int16), array([-361, -331, -265, ...,  -12,  -29,  -32], dtype=int16), array([ 6,  8,  4, ...,  5, 11, 13], dtype=int16), array([ 25,  44,  31, ..., -37, -32, -25], dtype=int16), array([ -8,  -8, -15, ...,  -4,   1,   0], dtype=int16), array([ -1,   0,  -1, ..., -22, -24, -22], dtype=int16), array([-10,  -4,  -4, ...,  63,  66,  72], dtype=int16), array([-18, -11,   0, ...,  18,   4,   3], dtype=int16), array([-8, -8, -7, ..., -1,  0, 11], dtype=int16), array([  76,  -41, -140, ...,   17,  -11,  -14], dtype=int16), array([127, 212, -38, ...,  29,  33,  28], dtype=int16), array([ 5,  5,  4, ..., 12,  6,  3], dtype=int16), array([49, 57, 57, ..., 16,  9,  0], dtype=int16), array([ -4, -20,  -3, ...,  18,  20,  17], dtype=int16), array([  11, -127, -190, ...,  -39,  -45,  -54], dtype=int16), array([  8,   9,   5, ...,  15, -25, -41], dtype=int16), array([  12,  -48, -100, ...,   19,   14,   20], dtype=int16), array([ 8,  6,  0, ..., 47, 43, 41], dtype=int16), array([-113, -106,   98, ...,  -10,   -8,   -4], dtype=int16), array([ 16,  11,  14, ..., -33, -29, -26], dtype=int16), array([-44, 136, 208, ..., -11, -15, -14], dtype=int16), array([ 12,  12,   5, ..., -36, -38, -44], dtype=int16), array([149, 125,  91, ..., -23, -23, -27], dtype=int16), array([ 26,  24,  28, ..., -30, -28, -27], dtype=int16), array([ 48,  51,  54, ...,  -9, -15, -11], dtype=int16), array([ 6,  5,  5, ..., 19, 25, 21], dtype=int16), array([-33, -29, -21, ..., -47, -37, -14], dtype=int16), array([-1,  0,  1, ..., -4,  0,  0], dtype=int16), array([ 10, 100, -47, ...,  36,  36,  43], dtype=int16), array([228, 302, 325, ...,  24,  16,  14], dtype=int16), array([-15,   5,  14, ..., -13, -19, -22], dtype=int16), array([ 3,  4,  0, ..., 15, 10, 28], dtype=int16), array([-17,  -8,  -6, ..., -20, -12,   5], dtype=int16), array([ 126, -336,   21, ...,   -5,  -12,  -13], dtype=int16), array([ 0, -1, -1, ...,  5, 20,  1], dtype=int16), array([  1,   0,   0, ..., -14, -19, -19], dtype=int16), array([-20, -11,  -5, ..., -74, -62, -11], dtype=int16), array([ 1,  7,  3, ..., 13, 13, 13], dtype=int16), array([ -3,  -4,  -5, ..., -21, -18, -23], dtype=int16), array([ 19,  22,  26, ..., -33, -31, -27], dtype=int16), array([21, 20, 18, ..., 55, 43, 30], dtype=int16), array([ -4,  -9, -17, ...,   6,  23, -17], dtype=int16), array([ 11,  13,  13, ...,  -4,  -8, -19], dtype=int16), array([-4, -6, -8, ..., 26, 37, 41], dtype=int16), array([56, 65, 44, ..., 10,  6,  1], dtype=int16), array([-13, -11, -14, ...,  24,  10,  20], dtype=int16), array([  8,  10,  14, ..., -10, -14, -15], dtype=int16), array([18, 24, 23, ..., 22,  4, 11], dtype=int16), array([  3,   4,   9, ..., -19,  -4,   9], dtype=int16), array([-217, -140,  -65, ...,  -15,  -14,  -16], dtype=int16), array([-10,   5,   8, ..., -21, -31, -38], dtype=int16), array([103,  85,  64, ..., -19, -35, -39], dtype=int16), array([112, 130,  88, ..., -24, -23, -17], dtype=int16), array([-10,  -9, -12, ...,  18,  14,  13], dtype=int16), array([ 63,   4, -47, ...,  10,  13,  15], dtype=int16), array([-118, -112,  -96, ...,    9,   14,   11], dtype=int16), array([-5,  3,  3, ...,  0,  1,  6], dtype=int16), array([ 37,  -8,   4, ..., -11, -15, -18], dtype=int16), array([-140, -100,  -22, ...,   27,   28,   27], dtype=int16), array([-71,  69,  72, ...,   1,  -2,   0], dtype=int16), array([-11,  30,  30, ...,   0,   5,  16], dtype=int16), array([-179,  -81,   29, ...,   12,   18,  -24], dtype=int16), array([ 6,  3,  0, ..., 39, 19, -1], dtype=int16), array([-23, -10,  -6, ...,   1,   0,  -5], dtype=int16), array([-14,  -9, -13, ...,  56,  48,  48], dtype=int16), array([-4, -3, -7, ..., 14,  9,  3], dtype=int16), array([-30, -32, -21, ...,   5,   7,   1], dtype=int16), array([-126,  100,  -70, ...,    2,   -1,    9], dtype=int16), array([25, 13,  9, ...,  8, 29, 38], dtype=int16), array([ 1,  1,  0, ...,  0, 17,  7], dtype=int16), array([12, 10, 11, ...,  8, 13, 11], dtype=int16), array([  4,  13,  18, ..., -31, -21, -13], dtype=int16), array([ 23, -31, -84, ...,  74,  75,  69], dtype=int16), array([40, 39, 38, ..., 85, 83, 92], dtype=int16), array([ -7, -13, -22, ...,  47,  34,  28], dtype=int16), array([ 0,  0,  1, ..., 12,  6,  1], dtype=int16), array([ 1,  0,  1, ...,  9, 10,  6], dtype=int16), array([ 4,  4,  3, ..., 10, 11,  9], dtype=int16), array([ 21,   5,  -1, ...,   2, -10,  -6], dtype=int16), array([79, 84, 79, ..., 43, 25, 24], dtype=int16), array([ 32,  29,  34, ..., -48, -48, -53], dtype=int16), array([ 6,  7,  7, ...,  9, 14, 22], dtype=int16), array([ 66, 124, 121, ...,  17,  11,   8], dtype=int16), array([  3, -12,  -4, ...,  42,  47,  43], dtype=int16), array([ 35,  27,  25, ..., -28, -24, -23], dtype=int16), array([ 28,  22,  33, ..., -12, -23, -47], dtype=int16), array([ -9, -11, -16, ..., -25, -22, -12], dtype=int16), array([  4,   9,   5, ..., -10,   4,  -6], dtype=int16), array([-4, -2, -7, ..., 27, 25, 16], dtype=int16), array([-14,  -5,  -5, ..., -18,  -8, -12], dtype=int16), array([  1,   1,   2, ..., -25, -26, -30], dtype=int16), array([-18, -18, -18, ...,   4,   3,   3], dtype=int16), array([-29, -25, -28, ...,  43,  33,  15], dtype=int16), array([  -9, -215, -317, ...,  -19,  -19,  -21], dtype=int16), array([ 7, -2, -2, ...,  9,  6,  1], dtype=int16), array([  6,   9,   9, ...,  -1, -14,   0], dtype=int16), array([ 204,    1, -252, ...,   -4,  -18,   -2], dtype=int16), array([125, 142,  74, ..., -20, -25, -19], dtype=int16), array([-42, -45, -47, ...,  18,  11,  16], dtype=int16), array([-1,  7,  7, ..., 86, 65, 41], dtype=int16), array([-29, -28, -39, ..., -11,  -6, -15], dtype=int16), array([19, 22, 23, ...,  0, -1, -9], dtype=int16), array([17, 15, 18, ..., 28, 31, 28], dtype=int16), array([ -8,  15, -23, ...,  36,  34,  30], dtype=int16), array([  0, -11,  -3, ...,  44,  50,  60], dtype=int16), array([17,  7,  1, ...,  6,  5, 11], dtype=int16), array([ 45, 137,  84, ...,  37,  12,  -1], dtype=int16), array([ 0,  0,  5, ...,  0,  5, 11], dtype=int16), array([-45, -46, -66, ...,  51,  50,  44], dtype=int16), array([ 44, -67,  23, ..., -11,  -7,  -2], dtype=int16), array([-1,  0,  1, ..., 13, 14, 17], dtype=int16), array([-36, -37, -42, ...,  12,  19,  24], dtype=int16), array([52, 53, 55, ..., -4,  4,  3], dtype=int16), array([-3, -4, -1, ..., 37, 37, 38], dtype=int16), array([ 0, -4, -3, ..., 26, 25, 28], dtype=int16), array([ 0,  0, -5, ..., 10,  3, -3], dtype=int16), array([ 29,  28,  28, ..., -39, -46, -47], dtype=int16), array([163,  15, -80, ...,  -6, -11,  -4], dtype=int16), array([-174,   -4,  132, ...,   -1,    8,   20], dtype=int16), array([ 15,  10,   9, ..., -33, -33, -29], dtype=int16), array([  3,   5,   3, ..., -40, -40, -41], dtype=int16), array([-17, -15, -17, ...,  -1,  -3,   0], dtype=int16), array([ -5,  -3,  -1, ..., -29, -32, -33], dtype=int16), array([-39, -32, -32, ...,  -5, -22, -49], dtype=int16), array([ 16,  -3,  -2, ..., -24, -17, -22], dtype=int16), array([ 23,  14,  11, ...,  -7, -10,  -8], dtype=int16), array([  2,   2,   5, ..., -13, -17, -17], dtype=int16), array([-280, -137,  -22, ...,  -52,  -21,   11], dtype=int16), array([168, 152,  60, ...,  -4,  -4,  -2], dtype=int16), array([-34, -39, -35, ..., -21, -24, -10], dtype=int16), array([ 1,  2,  4, ..., 17,  7,  5], dtype=int16), array([  5,   8,   7, ..., -31, -32, -38], dtype=int16), array([ 28,  -9, -74, ..., -10,   0,  -6], dtype=int16), array([155, 109, -21, ...,  32,  37,  37], dtype=int16), array([ -9, -10,  -7, ...,  13,  11,   1], dtype=int16), array([ 90, 111,  97, ..., -13, -23, -11], dtype=int16), array([ 29, -10, -36, ..., -12, -12, -14], dtype=int16), array([-6, -6, -6, ...,  8,  8, 12], dtype=int16), array([ 37,  38,  38, ..., -13, -21, -26], dtype=int16), array([ -6, -10,   5, ...,   5,   4,   6], dtype=int16), array([-4, -4, -3, ..., 29, 29, 27], dtype=int16), array([  0,  -2,   2, ...,   2, -15, -27], dtype=int16), array([-13, -12, -17, ..., -26,  38,  48], dtype=int16), array([ -8,  12,  35, ..., -28, -24, -18], dtype=int16), array([ -3,   4,   4, ...,  -6, -10, -13], dtype=int16), array([-13, -16, -15, ...,  10,   9,  12], dtype=int16), array([-9, -9, -9, ..., -2, -6,  0], dtype=int16), array([105, 159,  87, ...,   2,   7,  15], dtype=int16), array([-40, -28, -13, ...,  18,   6,  -1], dtype=int16), array([-202,  115,  363, ...,  -22,  -15,  -14], dtype=int16), array([-3, -4, -6, ...,  5,  0, -7], dtype=int16), array([-33,  -7,   1, ...,   6,   5,   4], dtype=int16), array([ 31, 182,  97, ...,  -9, -17, -30], dtype=int16), array([-21, -17, -16, ..., -42, -12, -16], dtype=int16), array([ 1,  3,  6, ..., 70, 56, 78], dtype=int16), array([ 18,  15,  15, ..., -70, -55, -28], dtype=int16), array([ 8,  6,  6, ..., 13, -3,  0], dtype=int16), array([-23, -24, -19, ...,  11,  12,   0], dtype=int16), array([-208,  163,   70, ...,    7,   10,   -2], dtype=int16), array([ -8,  -9, -10, ...,  63,  32,  -6], dtype=int16), array([-24,  -6,   6, ...,  43,  48,  49], dtype=int16), array([ 29, 147,  97, ..., -45,  -5,  40], dtype=int16), array([19, 13,  4, ..., -2,  0,  4], dtype=int16), array([18,  3,  0, ...,  5,  4,  1], dtype=int16), array([ 3,  9,  4, ..., -5,  3, -1], dtype=int16), array([-10, -11,  -5, ...,   6,   1,   4], dtype=int16), array([-126,  -13,  117, ...,   55,   53,   80], dtype=int16), array([-20, -11, -14, ...,  81,  68,  65], dtype=int16), array([-52,   4,  32, ...,   6,   9,  10], dtype=int16), array([-13, -13, -14, ...,  39,  41,  38], dtype=int16), array([ -1,   0,  -4, ...,  -5,  -6, -15], dtype=int16), array([  -3,    0,    0, ...,  -49, -135, -132], dtype=int16), array([ 0,  3,  3, ...,  3, -8, -1], dtype=int16), array([ 17,   4,  12, ..., -45, -48, -46], dtype=int16), array([  4,   4,   1, ..., -14, -10, -15], dtype=int16), array([ 2,  1, 11, ..., -5, -1, -6], dtype=int16), array([  3,  22, -31, ..., -47, -42, -38], dtype=int16), array([  20,  113, -141, ...,  -42,  -41,  -31], dtype=int16), array([ -85, -104,  -47, ...,  -38,  -59,  -54], dtype=int16), array([-27,   3,  -3, ...,   0,   5,  13], dtype=int16), array([ 4,  6,  3, ..., 13, 16, 25], dtype=int16), array([-24, -26, -25, ..., -82, -72, -71], dtype=int16), array([  0,  30, -95, ...,  34,  31,  24], dtype=int16), array([-38, 144, 240, ...,  16, -21,  27], dtype=int16), array([-19, -16, -13, ...,   1,   8,  12], dtype=int16), array([-22, -22, -20, ...,  -4,  -4,   7], dtype=int16), array([-22, -19, -19, ..., -11,  -6,  -2], dtype=int16), array([  6,   7,   6, ..., -25, -33, -31], dtype=int16), array([ -6, -12, -17, ...,  -4,   5, -11], dtype=int16), array([-20, -20, -17, ...,  35,  36,  -5], dtype=int16), array([-23, -18, -15, ..., -30, -33, -33], dtype=int16), array([ 2,  5,  0, ..., 31, 33, 40], dtype=int16), array([120, 111,  46, ...,   6,  -4,  -8], dtype=int16), array([41, 40, 41, ..., -5, -9, -4], dtype=int16), array([ -5,  -1,  -3, ..., -29,  -4,  16], dtype=int16), array([  1,  15,  27, ..., -77, -75, -76], dtype=int16), array([-31, -34, -34, ..., -11, -16, -23], dtype=int16), array([ 62, -47, -77, ...,  45,  42,  35], dtype=int16), array([  38, -102,   37, ...,  -29,  -25,  -20], dtype=int16), array([ -3,   2,   6, ...,  36,  -7, -39], dtype=int16), array([ 27,  35,  36, ..., -11,  -1,  47], dtype=int16), array([14, 13, 14, ..., -4, -1,  6], dtype=int16), array([-48, -10,  43, ...,  31,  33,  28], dtype=int16), array([ 19, 127, 195, ...,  -8, -28, -52], dtype=int16), array([-52, -50, -46, ...,  -8,  -4,  -9], dtype=int16), array([-45,   9,  60, ..., -50,  57, 126], dtype=int16), array([ -3,  -4,  -2, ..., -11,  -7,  -7], dtype=int16), array([-2, -4,  0, ..., 37, 45, 49], dtype=int16), array([-88, -99, -92, ...,  -8, -13,  -2], dtype=int16), array([-142, -136, -254, ...,    0,  -23,  -30], dtype=int16), array([  0,   0,  -1, ...,  -5,  -7, -12], dtype=int16), array([-47, -53, -62, ..., -40, -34, -29], dtype=int16), array([-13, -19, -25, ...,  20,  -2,   0], dtype=int16), array([-114,   62,  195, ...,    5,    2,    7], dtype=int16), array([-8, -9, -6, ..., 20, 17, 21], dtype=int16), array([-7, -7, -9, ..., -7, -9, -2], dtype=int16), array([ -6, -10,   3, ...,  28,   5, -27], dtype=int16), array([ 4,  6,  7, ..., 14, 16, 11], dtype=int16), array([ 13,  21,  27, ...,  -8, -35, -19], dtype=int16), array([ 26,  33,  28, ..., -46, -48, -43], dtype=int16), array([ 3,  5,  5, ..., 30, 46, 45], dtype=int16), array([-6, -5,  0, ..., -1, -8, -7], dtype=int16), array([-4, -9, -7, ...,  3,  5,  3], dtype=int16), array([ 24,  34,  39, ...,  88, 105,  83], dtype=int16), array([ -5,  -7,  -7, ..., -24, -28, -27], dtype=int16), array([-36, -53,  61, ..., -12, -10, -14], dtype=int16), array([-10, -13, -13, ...,  16,   5,   0], dtype=int16), array([ 7,  3, -4, ..., 10,  9,  7], dtype=int16), array([ -4, -10, -10, ..., -22, -37, -56], dtype=int16), array([ -83, -127, -108, ...,   12,    9,   -2], dtype=int16), array([-28,  98,  95, ...,   8,  -3,   1], dtype=int16), array([34, 35, 38, ...,  6, 10, 12], dtype=int16), array([ 18, -79, -64, ...,   0,   4,  13], dtype=int16), array([-17, -18, -14, ...,  49,  30,  30], dtype=int16), array([-95, -96, -74, ...,  20,  13,  12], dtype=int16), array([5, 9, 6, ..., 8, 3, 0], dtype=int16), array([-8, -5, -5, ..., 22, 27, 24], dtype=int16), array([  1, -23,   0, ..., -18, -17, -19], dtype=int16), array([-5,  2, -4, ..., 33, 20, -5], dtype=int16), array([ 10, 118, -97, ...,   2,   0,   0], dtype=int16), array([  -9, -124, -191, ...,  -24,  -27,  -29], dtype=int16), array([-29, -29, -24, ..., -40, -40, -37], dtype=int16), array([ 59, 137,  77, ...,   5,   8,   8], dtype=int16), array([ 4,  4, -9, ..., 24, 19, 27], dtype=int16), array([ 8, 10, 15, ..., -3, 23, 22], dtype=int16), array([ 8,  5,  7, ..., 24,  2,  0], dtype=int16), array([ -29,  183, -121, ...,  -51,  -34,    0], dtype=int16), array([ -4,  -8, -10, ...,  14,  23,  19], dtype=int16), array([-19,  -7,  12, ...,  35,  33,  25], dtype=int16), array([  18,  -25, -278, ...,   -7,   -8,   -4], dtype=int16), array([112,  78,  60, ..., -29, -23, -22], dtype=int16), array([ 118,  -11, -101, ..., -124, -116,  -74], dtype=int16), array([ -93, -252, -315, ...,   23,   24,   27], dtype=int16), array([ 77, -65,   6, ..., -66, -53,  -4], dtype=int16), array([31, 33, 32, ...,  9,  6,  9], dtype=int16), array([ 0,  1,  0, ..., 11,  6, 15], dtype=int16), array([-34, -26, -19, ...,   1,   5,   5], dtype=int16), array([ 22,  20,  16, ..., -14, -14, -13], dtype=int16), array([-12, -13,  -6, ..., -35, -32, -31], dtype=int16), array([-14, -10,  -4, ...,   2,  11,   7], dtype=int16), array([ 34,  90, 129, ..., -50, -35, -24], dtype=int16), array([ -4,  -8,  -8, ..., -52, -54, -58], dtype=int16), array([-191, -288, -259, ...,  -58,  -36,   22], dtype=int16), array([-1,  0, -1, ..., 52, 32, 38], dtype=int16), array([419, 268,  -4, ...,   0,  -2, -10], dtype=int16), array([-28, -26, -24, ...,   2,   4,   7], dtype=int16), array([ 25,   1, -39, ...,  11,  12,  12], dtype=int16), array([ -52,  -61, -113, ...,    9,   14,   14], dtype=int16), array([-48, -58, -73, ...,  43,  32,  21], dtype=int16), array([  6,   7,   5, ..., -39, -31, -35], dtype=int16), array([  3,   1,   0, ..., -38, -45, -48], dtype=int16), array([10,  7,  5, ..., 23, 27, 31], dtype=int16), array([-22, -21,  -5, ...,   0,   0,   0], dtype=int16), array([  6,   4,  10, ..., -68, -65, -73], dtype=int16), array([ 11,   9,   0, ...,  -9, -10, -13], dtype=int16), array([ 0, -2,  0, ...,  6,  3,  4], dtype=int16), array([  2,   5,   8, ..., -44, -38, -32], dtype=int16), array([ 3,  4,  0, ...,  7, 11, 25], dtype=int16), array([  0,  -1,   4, ..., -77, -75, -31], dtype=int16), array([10, 12,  9, ...,  7,  0,  5], dtype=int16), array([ 16,  18,  15, ..., -21, -92, -36], dtype=int16), array([23, 43, 45, ..., 56, 69,  8], dtype=int16), array([  2,   0,  -1, ...,  -4,  -7, -16], dtype=int16), array([26, 28, 27, ..., -3,  2,  4], dtype=int16), array([-47, -33, -24, ...,  86,  80,  73], dtype=int16), array([  5,   8,   8, ..., -23, -32, -28], dtype=int16), array([ -8,  -9, -12, ...,  20,  18,  20], dtype=int16), array([  0,   0,   0, ..., -10,  -9,  -9], dtype=int16), array([-43,  50, 135, ...,  -6, -11,  -9], dtype=int16), array([-22, -18,  -5, ...,  19,  22,  25], dtype=int16), array([-5, -1, -3, ..., 32, 24, 19], dtype=int16), array([ 5, 10, 10, ..., -3, -9, -5], dtype=int16), array([-16, -15, -15, ...,   7,  20,  -4], dtype=int16), array([ -9,  -8, -12, ..., -49,   8,   6], dtype=int16), array([ 1,  3,  0, ..., -5, -3, -7], dtype=int16), array([-10, -11, -12, ...,  19,  11,   3], dtype=int16), array([ -3,  -3, -11, ...,  18,  12,   8], dtype=int16), array([-11,  -9,  -8, ..., -30,  -8,  26], dtype=int16), array([-19, -20, -15, ...,  20,  10,   7], dtype=int16), array([ 4,  1,  0, ..., -3,  2,  5], dtype=int16), array([12,  5,  3, ..., -7, -3, -4], dtype=int16), array([-38, -18,  11, ...,   1,   8,  11], dtype=int16), array([ 2,  5,  3, ..., -1, -5, -4], dtype=int16), array([-192,  -15,   46, ...,  -28,  -26,  -36], dtype=int16), array([ -85, -110,  -91, ...,  -16,   -6,   -5], dtype=int16), array([-40,  -4,  73, ..., -54, -67, -73], dtype=int16), array([61, 89, 26, ..., 15, 14, 14], dtype=int16), array([  0,  -1,   0, ..., -43, -37, -38], dtype=int16), array([6, 7, 6, ..., 2, 4, 0], dtype=int16), array([  3,   6,   4, ..., -19,  -8,  -8], dtype=int16), array([-19, -19, -17, ..., -42, -45, -44], dtype=int16), array([30, 39, 37, ..., 81, 61, 41], dtype=int16), array([ 10,  11,  11, ...,   1,  -3, -34], dtype=int16), array([ 28,  -2, -37, ...,  20,  12,   4], dtype=int16), array([ 64,  53,  28, ..., -41, -53, -51], dtype=int16), array([ 137, -149, -240, ...,   17,    9,   10], dtype=int16), array([ -4,  -7, -11, ...,  19,  13,  13], dtype=int16), array([-7, -7, -4, ..., -9,  0,  1], dtype=int16), array([  3,   1,   1, ..., -18, -14, -15], dtype=int16), array([  12,   61, -184, ...,   -8,   -6,   -9], dtype=int16), array([ -4,  -1,  -2, ..., -34, -42, -40], dtype=int16), array([ 0,  0, -2, ...,  0, -1,  2], dtype=int16), array([-16, -14, -12, ...,  22,   9,  11], dtype=int16), array([ -6,  -6, -10, ...,  -9,  -3,  -3], dtype=int16), array([ -5,  -6,  -5, ..., -28, -33, -32], dtype=int16), array([-42, -85, -73, ..., -12, -12, -10], dtype=int16), array([ -3,  -4,  -2, ..., -74, -36,   1], dtype=int16), array([ -8,  -7, -10, ..., -22, -43,   4], dtype=int16), array([ 22,  27,  17, ..., -49, -23, -29], dtype=int16), array([  0,   1,   0, ..., -18, -18, -14], dtype=int16), array([ 13,  14,  16, ..., -10, -10, -28], dtype=int16), array([215,  57, -59, ...,  34,  -1,   1], dtype=int16), array([  1,   1,   5, ..., -31, -18, -16], dtype=int16), array([ 160, -115,  -35, ...,  -12,  -13,  -12], dtype=int16), array([-395, -386, -269, ...,   48,   66,   38], dtype=int16), array([21, 20, 19, ...,  8,  9, 13], dtype=int16), array([ 0,  0,  2, ..., 11,  4,  1], dtype=int16), array([-4, -4, -2, ..., 10,  0,  0], dtype=int16), array([ -9, -10, -12, ...,  -1,  -4,   1], dtype=int16), array([-33, -35, -39, ...,  26,  29,  40], dtype=int16), array([ 6, 38, 55, ..., -2,  1,  0], dtype=int16), array([ 3,  7, 11, ...,  1,  7, -2], dtype=int16), array([ 6, 19, 21, ...,  0, 10, 19], dtype=int16), array([  6, -48, -22, ...,  -4, -11,  -7], dtype=int16), array([ -45, -101, -105, ...,   16,   21,    7], dtype=int16), array([ 1,  2,  1, ..., 15, 21, 22], dtype=int16), array([-20, -22, -15, ...,  36, -28, -24], dtype=int16), array([-7, -5, 76, ...,  3,  0, -6], dtype=int16), array([-7, -8, -5, ..., 16,  7,  3], dtype=int16), array([-85, -28,  17, ...,   1,   3,  12], dtype=int16), array([ 21,  22,  21, ...,  -3, -10,  -9], dtype=int16), array([-60,   3, 107, ...,  -5,  -5, -14], dtype=int16), array([-32, -53, -45, ...,  39,  33,  46], dtype=int16), array([ 8, 12,  5, ...,  3, 29, 34], dtype=int16), array([  4,  53, -40, ..., -24, -26, -41], dtype=int16), array([ 67,  11, -44, ..., -65, -15,  11], dtype=int16), array([22, 23, 28, ..., 27, 25, 18], dtype=int16), array([  0,  -1,   0, ..., -14,  -9,  -5], dtype=int16), array([ -1,   4,   0, ..., -29,  -8,  -5], dtype=int16), array([-38, -35, -35, ..., -17, -25, -15], dtype=int16), array([-263, -239, -109, ...,  -32,  -29,  -25], dtype=int16), array([ 13,  24,  13, ...,   3, -13, -13], dtype=int16), array([51, 29, 28, ...,  0, 11, 14], dtype=int16), array([13, 14, 20, ..., 23, 15, 21], dtype=int16), array([-79, -83, -66, ...,  -2,   5,  15], dtype=int16), array([ 12,  34,  87, ..., -17, -28, -38], dtype=int16), array([ 9,  2,  2, ..., 38, 44, 50], dtype=int16), array([-37, -42, -37, ...,  40,  32,   9], dtype=int16), array([-11,  -8, -10, ...,  10,  19,  13], dtype=int16), array([ 12,  16,  13, ..., -59, -53, -57], dtype=int16), array([17, 19, 27, ..., 32, 18, 27], dtype=int16), array([-6,  0,  3, ..., -3,  0, -2], dtype=int16), array([ 31,  45,  40, ...,  30,   0, -16], dtype=int16), array([-103,   70,  221, ...,  -32,  -32,  -28], dtype=int16), array([-346, -298, -239, ...,  -52,    7,  -22], dtype=int16), array([-4, -4, -3, ..., -6,  4,  0], dtype=int16), array([-13, -16, -17, ...,  28,  20,  21], dtype=int16), array([-1,  0,  1, ..., 66, 68, 74], dtype=int16), array([13, 19, 26, ..., 32, 35, 17], dtype=int16), array([  9,   8,  10, ...,  -4,  -3, -26], dtype=int16), array([-10,   6,  24, ...,  39,   4,   0], dtype=int16), array([15, 25, 22, ..., 44, 44, 50], dtype=int16), array([10,  9,  8, ...,  2,  1,  0], dtype=int16), array([  8,  15,  10, ..., -24, -22, -22], dtype=int16), array([-10, -14, -17, ...,  36,  30,  -9], dtype=int16), array([ 11,   6,   0, ..., -38, -41, -32], dtype=int16), array([-203, -109,   64, ...,  -26,  -29,  -34], dtype=int16), array([-16, -10, -12, ...,  14,  22,  24], dtype=int16), array([ -4,  -9,  -9, ..., -10, -10,  -8], dtype=int16), array([-18,  -8,  -4, ...,  21,  13,  13], dtype=int16), array([-178, -180,  -79, ...,    1,    9,    7], dtype=int16), array([ 4, -5,  1, ..., -8, -7, -4], dtype=int16), array([  5,  -5,  -7, ..., -23, -64, -35], dtype=int16), array([ 0,  0, -1, ...,  0,  2, -4], dtype=int16), array([-120,  -30,  108, ...,   19,   29,   19], dtype=int16), array([ -5,  -8, -10, ...,  26,   6, -30], dtype=int16), array([-31, -35, -30, ..., -21, -24, -20], dtype=int16), array([ 3,  4,  2, ..., -1,  4, 12], dtype=int16), array([ 0, -1,  5, ..., 11, 21, 20], dtype=int16), array([-2, -3, -5, ..., 41, 43, 45], dtype=int16), array([ 3,  7, -2, ..., 12, 17, 18], dtype=int16), array([ 0,  0, -2, ..., -1, -1,  1], dtype=int16), array([ 11, -11, -49, ..., -24,  -9,   4], dtype=int16), array([-1,  0, -1, ..., 20, 12,  1], dtype=int16), array([ -1,   0, -10, ...,   6,  16,  18], dtype=int16), array([-180,  251,   76, ...,   35,   55,   37], dtype=int16), array([ -45,  -68, -109, ...,  -18,  -17,  -14], dtype=int16), array([  5,   7,   8, ..., -11, -34, -50], dtype=int16), array([19, 26, 22, ..., 33, 34, 30], dtype=int16), array([ 8,  6,  4, ..., 43, 46, 40], dtype=int16), array([ 25,  29,  32, ..., -22,   0,  -5], dtype=int16), array([-7, -4,  3, ...,  6,  9,  6], dtype=int16), array([ 6,  0,  0, ..., 15, 69, 49], dtype=int16), array([-107,    9,  173, ...,    2,   23,   23], dtype=int16), array([22, 22, 16, ..., 21,  0,  2], dtype=int16), array([ 2,  1,  2, ...,  3, 10,  0], dtype=int16), array([-61, -45, -28, ...,  -3, -12, -15], dtype=int16), array([124, 136,  40, ...,  29,  22,  21], dtype=int16), array([ 0,  4,  4, ..., -5,  5,  1], dtype=int16), array([-8,  0, 23, ..., 39, 44, 40], dtype=int16), array([ 269,  -13, -241, ...,  -26,  -20,  -18], dtype=int16), array([16, 11,  3, ..., 47, 28, 30], dtype=int16), array([ 1,  2,  2, ..., 14, 39, 53], dtype=int16), array([-35, -14,  26, ...,  -5,  -9,  -9], dtype=int16), array([-12, -14, -15, ...,  43,  39,  54], dtype=int16), array([ 10,   0,   3, ..., -20, -24, -20], dtype=int16), array([ 2,  1, -7, ..., 14,  3, -2], dtype=int16), array([-7, -2, 98, ..., 11,  7, -8], dtype=int16), array([ 11,  11,  13, ..., -31, -25, -17], dtype=int16), array([ 20,  18,  20, ...,   4,  31, -21], dtype=int16), array([-19, -22, -21, ...,  30,  14,   4], dtype=int16), array([ -2,  -5, -15, ...,  21,  11,   9], dtype=int16), array([ 12, -29, -30, ..., -26, -17, -14], dtype=int16), array([ 4,  5,  2, ..., 44, 41, 37], dtype=int16), array([  -8, -129,  -66, ...,   -6,   -2,    0], dtype=int16), array([  2,   3,  -1, ..., -36, -29, -18], dtype=int16), array([ 8, 11, 11, ...,  8,  6, 12], dtype=int16), array([-31, -20, -21, ...,  -3, -19, -17], dtype=int16), array([19, 35, 24, ..., 26, 12,  2], dtype=int16), array([-32, -17,  -7, ...,  15,   7,   6], dtype=int16), array([-12, -12, -14, ...,  24,  30,  34], dtype=int16), array([ 47,  62,  68, ...,  -6, -11,  -3], dtype=int16), array([18, 12,  3, ..., 35, 40, 37], dtype=int16), array([11,  2, -3, ..., 13, 14,  9], dtype=int16), array([ 98, 160, -18, ...,  10,   3,   3], dtype=int16), array([-23, -24, -20, ...,  14,  -1,  15], dtype=int16), array([ -8,  -7,  -2, ..., -19, -19,  -9], dtype=int16), array([-14, -13, -14, ...,  23,  21,   4], dtype=int16), array([  2,   1,   2, ..., -12, -21, -21], dtype=int16), array([ 144, -102,   75, ...,  -36,  -34,  -31], dtype=int16), array([-7, -7, -7, ...,  1, -1,  0], dtype=int16), array([ 68, 175, 115, ...,  37,  36,  28], dtype=int16), array([ 35, -45, -46, ...,  27,  21,  23], dtype=int16), array([ 1,  5,  5, ..., 23, 21, 18], dtype=int16), array([ -26, -105, -134, ...,  -20,  -11,  -14], dtype=int16), array([   3,    9,   10, ...,    6,  -43, -163], dtype=int16), array([  41,  -95, -175, ...,   -6,   -3,   -1], dtype=int16), array([ 0,  3,  3, ...,  0, -2,  5], dtype=int16), array([ 12,  15,  11, ..., -41, -41, -33], dtype=int16), array([-1, -5, -5, ..., 35, 38, 34], dtype=int16), array([19, 28, 35, ..., 14, 10, 10], dtype=int16), array([-86, 114,  82, ..., -13, -21, -19], dtype=int16), array([ 18,  42,  24, ..., -27, -24, -13], dtype=int16), array([-39, -40, -34, ...,  35,  44,  53], dtype=int16), array([11,  8,  4, ...,  2,  1,  1], dtype=int16), array([-33, -39, -25, ...,   0,  -1,  -1], dtype=int16), array([-84, -66,  85, ...,  -7, -23, -39], dtype=int16), array([ 12,  12,   6, ..., -22,   4,  31], dtype=int16), array([ 21,  18,   2, ..., -24, -29, -28], dtype=int16), array([-13, -14, -14, ...,   4,   0,   7], dtype=int16), array([-130, -199,  -91, ...,   19,   -6,  -39], dtype=int16), array([-123,  -92,  105, ...,    0,    0,   -5], dtype=int16), array([-22, -18,  -8, ...,  31,  33,  27], dtype=int16), array([-21, -26, -35, ...,  27,  43,  46], dtype=int16), array([  17, -116, -223, ...,   12,    6,    1], dtype=int16), array([-9, -7, -7, ..., 47, 41, 39], dtype=int16), array([-11, -12,  -9, ...,  -6,   0,   0], dtype=int16), array([23, 30, 34, ..., 10,  2,  0], dtype=int16), array([ 4,  6,  7, ...,  9, 15, 11], dtype=int16), array([0, 0, 3, ..., 2, 2, 2], dtype=int16), array([-60,   7,  90, ...,  17,  16,  -1], dtype=int16), array([32, 17,  7, ..., 33, 24, 21], dtype=int16), array([ 2,  5, 16, ...,  3,  0, -7], dtype=int16), array([-17, -12,  -4, ...,  -9,  -1,  -8], dtype=int16), array([ 66, -33, 104, ...,   2,   2,   5], dtype=int16), array([176,  63, -96, ...,  -9,  -2,   0], dtype=int16), array([ 17,   7,  12, ...,  -6, -17, -23], dtype=int16), array([-10,  -2,  -2, ..., -27, -13,   9], dtype=int16), array([ 23,  17,  17, ..., -16, -19, -21], dtype=int16), array([-49, -48, -39, ..., -44, -36, -38], dtype=int16), array([-101,  -22,   47, ...,   15,   12,   10], dtype=int16), array([-36, -30, -21, ...,  10,  13,  14], dtype=int16), array([  3,   3,   6, ..., -13, -12, -13], dtype=int16), array([-8, -5, -7, ..., 40, 44, 45], dtype=int16), array([ 18,  18,  22, ..., -42, -40, -41], dtype=int16), array([ 8, 12, 15, ..., 29, 28, 20], dtype=int16), array([ -49, -205, -118, ...,  -25,   -1,  -16], dtype=int16), array([ 10,   9,   6, ..., -72, -78, -85], dtype=int16), array([-6, -5, -6, ..., 15, 15, -4], dtype=int16), array([ -5,   0,   3, ...,  -9, -12,  -9], dtype=int16), array([ 7,  5,  2, ..., 19, 29,  8], dtype=int16), array([-13, -11,  -5, ..., -36, -33, -32], dtype=int16), array([-37, -28, -20, ..., -23, -17,   1], dtype=int16), array([-5, -5, -8, ..., 16,  8,  0], dtype=int16), array([  0,   1,   3, ..., -38, -32, -15], dtype=int16), array([ 7,  5,  6, ..., 28, 19, 21], dtype=int16), array([9, 7, 5, ..., 1, 0, 2], dtype=int16), array([-15, -20, -25, ...,  58,   5, -27], dtype=int16), array([ 33,  31,  27, ..., -38,  -8, -16], dtype=int16), array([ 34,  27,  31, ..., -19, -22, -25], dtype=int16), array([ 99, 188,  22, ...,  37,  -9, -25], dtype=int16), array([-24,  -9,  -9, ...,  10,   6,   7], dtype=int16), array([-13, -15, -20, ..., -28, -32, -31], dtype=int16), array([ 13,  16,  14, ..., -13, -14, -10], dtype=int16), array([  0,   1,   0, ...,  27,  15, -40], dtype=int16), array([-209,   54,  320, ...,   31,   28,   24], dtype=int16), array([-176,  -51,   44, ...,  -35,  -37,  -40], dtype=int16), array([ 25,  26,  20, ...,  -8, -12, -17], dtype=int16), array([-288,   13,  139, ...,  -13,    0,    3], dtype=int16), array([ -22,  -25,  -21, ...,  -12,   -9, -107], dtype=int16), array([ -4,  -8, -14, ...,  27,  26,  22], dtype=int16), array([-103,  -24,   34, ...,   -7,   -4,   -2], dtype=int16), array([ 15,  -2, -29, ...,   7,   7,   9], dtype=int16), array([-2,  3,  9, ...,  5, -4,  4], dtype=int16), array([ 6, 21, 21, ...,  3, 11, 16], dtype=int16), array([  6,   7,   9, ..., -10, -22,   1], dtype=int16), array([-2,  0,  0, ...,  5,  4,  7], dtype=int16), array([-25, -23,  -5, ...,   0,  43,  56], dtype=int16), array([-3, -2, -3, ..., 37, 22, 11], dtype=int16), array([ 18,  25,  22, ..., -24, -27, -32], dtype=int16), array([  5,   2,   0, ...,  17, -33, -22], dtype=int16), array([ 10,  10,   7, ..., -15, -20, -17], dtype=int16), array([-21, -18, -20, ..., -28, -10, -13], dtype=int16), array([ 8,  9,  8, ..., 20, 18, 15], dtype=int16), array([ 3,  3,  1, ..., 11, 14, 17], dtype=int16), array([ 37,  34,  35, ...,  -5, -22, -30], dtype=int16), array([149, 203, 113, ...,  -5,  -6,  -2], dtype=int16), array([  9, 105, 180, ...,  10,   8,  12], dtype=int16), array([-36,   6,   0, ...,   1,  -1,  -8], dtype=int16), array([  0,   4,   3, ..., -46, -31, -27], dtype=int16), array([ 2,  0,  0, ..., -8, -8, -6], dtype=int16), array([ 2,  0,  0, ..., -8,  5, 19], dtype=int16), array([-10,  -9,  -8, ...,  26,  25,  25], dtype=int16), array([-50,  50, -77, ..., -12, -36, -32], dtype=int16), array([-132,   30,    8, ...,  -52,  -43,  -37], dtype=int16), array([36,  0, 24, ..., -6, 26, 26], dtype=int16), array([-37, -46, -30, ..., -42, -40, -34], dtype=int16), array([-3, -4, -5, ..., 24, 34, 44], dtype=int16), array([ 5,  6,  8, ..., -5,  1, -5], dtype=int16), array([ 93, -47, -93, ...,  29,  26,  26], dtype=int16), array([ 36, -21,  -6, ..., -26, -32, -21], dtype=int16), array([16, 14, 16, ...,  0, -8, -5], dtype=int16), array([ 70, 134, 165, ...,   8,   4,   7], dtype=int16), array([12, 12,  8, ...,  8, 16, 14], dtype=int16), array([-21,   8,  10, ...,  18,  26,  20], dtype=int16), array([ -5,   0,   6, ..., -12, -15, -18], dtype=int16), array([  18,  -97, -137, ...,   53,   49,   84], dtype=int16), array([-271, -241,  -91, ...,  -51,  -49,  -34], dtype=int16), array([  6,   7,   7, ..., -11,  -9, -29], dtype=int16), array([  6,   7,  12, ..., -25, -24, -18], dtype=int16), array([ 0,  1, -4, ..., -5, 17, -9], dtype=int16), array([ 62,  64,  49, ..., -25, -30, -22], dtype=int16), array([-27, -20, -17, ..., -28, -32, -24], dtype=int16), array([-22, -22, -19, ...,  12,  15,   9], dtype=int16), array([ 16,  18,  20, ..., -30, -22, -38], dtype=int16), array([ 53,  50,  46, ..., -98, -94, -54], dtype=int16), array([-10,  -8,  -6, ...,  -7,  -8, -11], dtype=int16), array([  9,  18,  17, ..., -20,  -8,   0], dtype=int16), array([266, -70, -77, ..., -15,   0,   5], dtype=int16), array([-51,   8,  59, ..., -45, -27, -27], dtype=int16), array([12,  7,  4, ..., 27, 34, 24], dtype=int16), array([ -7,  -9,  -4, ..., -11, -12, -15], dtype=int16), array([ -4,  -5,  -4, ..., -43, -44, -40], dtype=int16), array([   0,    3,    2, ..., -184, -189, -153], dtype=int16), array([12, 12, 12, ...,  0, -3, -9], dtype=int16), array([ 6, 15, 17, ..., 50, 57, 64], dtype=int16), array([ 7, 21, 20, ..., 47, 66, 70], dtype=int16), array([  0, -28, -11, ...,   0,   3,   7], dtype=int16), array([-29,  14, 109, ...,  39,  28,  24], dtype=int16), array([  6,   5,  10, ...,  12,   1, -25], dtype=int16), array([-18, -23, -29, ...,  12,  13,  16], dtype=int16), array([ 33,  38,  31, ..., -21, -29, -29], dtype=int16), array([-12, -13,  -7, ...,  17,  15,  22], dtype=int16), array([ -44,  -33,  -31, ...,  -82, -128, -138], dtype=int16), array([ -37, -114, -218, ...,   -5,   -7,   -3], dtype=int16), array([-10, -13,  -8, ...,  -7,  11, -36], dtype=int16), array([ -5,  -7,  -3, ..., -16, -51, -48], dtype=int16), array([17, 18, 23, ...,  4,  3,  0], dtype=int16), array([19, 24, 23, ..., 12, 12, 27], dtype=int16), array([-22, -14, -16, ..., -19, -25, -43], dtype=int16), array([ -27,  -27,  -25, ..., -117,  153,  -39], dtype=int16), array([ 5,  2,  0, ..., 24, 21, 24], dtype=int16), array([58, 60, 58, ..., 58, -2, 25], dtype=int16), array([-5,  3,  8, ..., -7, -2, -9], dtype=int16), array([ 5,  5,  5, ..., -7, -3, -2], dtype=int16), array([-56, -52, -58, ...,  -6,  -5,   1], dtype=int16), array([136, -89, -17, ...,   0,   0,  -6], dtype=int16), array([  9,  16,  20, ..., -30, -32, -35], dtype=int16), array([  6,   7,   4, ..., -37, -29, -26], dtype=int16), array([  3,   3,   1, ...,  13, -32, -37], dtype=int16), array([-16, -10, -15, ...,   0,  -5,  -1], dtype=int16), array([172, 182,  69, ...,  46,  63,  38], dtype=int16), array([110, 106,  97, ...,  30,  33,  26], dtype=int16), array([ 12,  22,  22, ..., -24,   0,  11], dtype=int16), array([ 2,  0,  0, ..., -2, -9, -3], dtype=int16), array([-21,  75,  55, ...,   9,  10,   8], dtype=int16), array([ -1,  -1,   5, ..., -18,  -9,   3], dtype=int16), array([-102,    9,   51, ...,   49,   53,   56], dtype=int16), array([30, 20, 21, ...,  6, 11,  9], dtype=int16), array([ -8, -10, -11, ..., -27, -39, -41], dtype=int16), array([ 24,  25,  22, ...,   9,  -7, -16], dtype=int16), array([ 8,  7,  8, ..., 11, 25, 32], dtype=int16), array([ 8,  9,  8, ..., 46, 61, 55], dtype=int16), array([ 10,   9,  17, ..., -26, -36, -37], dtype=int16), array([-21, -20, -23, ..., -21, -19, -13], dtype=int16), array([-152,   50,  128, ...,    6,   10,    7], dtype=int16), array([16, 13, 12, ..., 17, 29, 32], dtype=int16), array([13, 17, 14, ..., 43, 44, 39], dtype=int16), array([-7, -3, -3, ..., -4, -6, -4], dtype=int16), array([ 20,   7,   0, ..., 104, 115, 117], dtype=int16), array([-14, -13,  -9, ...,   8,  20,  28], dtype=int16), array([106, 156, 152, ..., -23, -20, -11], dtype=int16), array([ -71, -146, -110, ...,  -12,  -15,  -14], dtype=int16), array([-25, -30, -16, ..., -54, -44, -40], dtype=int16), array([-10, -13, -10, ...,  -5,  -8,  -6], dtype=int16), array([  5,  -1,  -4, ..., -22, -24, -31], dtype=int16), array([25, 17, 14, ..., 16,  6, -2], dtype=int16), array([-34, -16, -11, ...,  45,  19,  13], dtype=int16), array([ 14,  14,  16, ...,  19,   8, -11], dtype=int16), array([  1,   0,  -2, ..., -15, -23, -36], dtype=int16), array([21, 17, 17, ..., 19, 31, 36], dtype=int16), array([ 0, -1, -2, ...,  0,  7,  9], dtype=int16), array([269, 123, -54, ..., -17,  -8,  -7], dtype=int16), array([-22, -25, -19, ...,  41,  96,  68], dtype=int16), array([ -7,  -6,  -6, ..., -20, -24, -23], dtype=int16), array([ -6, -12,  -6, ..., -62, -77, -84], dtype=int16), array([  1,  -3,  -4, ..., -18, -23, -21], dtype=int16), array([17, 22, 26, ...,  4, 14, 10], dtype=int16), array([-23, -19, -19, ...,   0,   0,   3], dtype=int16), array([37, 40, 37, ..., -6, -4,  5], dtype=int16), array([ 263, -288,  118, ...,   19,   23,   19], dtype=int16), array([ 4,  4,  0, ..., 51, 43, 37], dtype=int16), array([-15, -13, -11, ...,  -5, -10, -22], dtype=int16), array([-65, -26,  15, ...,  47,  66,  66], dtype=int16), array([13, 12,  7, ..., 38, 38, 24], dtype=int16), array([-21, -37, -37, ...,  65,  63,  71], dtype=int16), array([ -22, -188, -193, ...,  -16,  -17,  -12], dtype=int16), array([ 0, -2, -4, ..., -3, -5, -7], dtype=int16), array([ 1,  0, -2, ..., 26, 37, 30], dtype=int16), array([12, 24, 29, ..., 20, 20, 32], dtype=int16), array([-30,  58,  99, ...,  25,  42,  45], dtype=int16), array([177,  80, -52, ..., -11, -14, -20], dtype=int16), array([-16, -21, -18, ..., -72, -30, -84], dtype=int16), array([-18, -18, -12, ..., -20, -20, -18], dtype=int16), array([20, 20, 15, ..., 18,  7,  8], dtype=int16), array([-1,  0, -1, ...,  0, -7,  8], dtype=int16), array([104, 104, 102, ...,   3, -17,  -5], dtype=int16), array([238, 111, -35, ..., -29,  -8,   3], dtype=int16), array([-18, -18, -13, ...,  24,   5,  18], dtype=int16), array([16, 60, 24, ...,  7,  6,  0], dtype=int16), array([-18, -18, -16, ...,  26,  19,  16], dtype=int16), array([24, 26, 28, ..., 51, 51, 44], dtype=int16), array([19, 16, 16, ..., 11, 12, 12], dtype=int16), array([-2, -4, -1, ..., -7,  1,  5], dtype=int16), array([ -8,  -7,   0, ..., -27, -36, -41], dtype=int16), array([21, 17, 14, ...,  1,  6, 13], dtype=int16), array([343, 254,  59, ...,   5,  16,  27], dtype=int16), array([-70, -26, -30, ..., -12, -12, -12], dtype=int16), array([23, 20, 26, ..., 20, 14, 18], dtype=int16), array([ 9,  3,  5, ..., 26, 13, 13], dtype=int16), array([-17,  -7,  -7, ..., -10,   0,   5], dtype=int16), array([  3,   0,   4, ..., -10, -11, -14], dtype=int16), array([ -2,  -4,   0, ..., -50, -44, -18], dtype=int16), array([ -5,  -5,   1, ...,   0,  -2, -18], dtype=int16), array([  7,   4,   6, ..., -16, -24, -27], dtype=int16), array([ 27,  23,  24, ..., -25, -21, -20], dtype=int16), array([112, -13, -79, ...,  -3,   1,   0], dtype=int16), array([-9, -7, -2, ..., -5, -9, -1], dtype=int16), array([ 37,  13, -17, ..., -42, -33, -17], dtype=int16), array([-12, -20, -25, ..., -54, -58, -55], dtype=int16), array([-16, -19, -19, ...,  24,  22,   8], dtype=int16), array([ 66,  15, -61, ..., -14, -11, -10], dtype=int16), array([-118, -167, -105, ...,   30,   32,   24], dtype=int16), array([13, 14,  2, ...,  1, 13, 23], dtype=int16), array([364, 527, 435, ...,   4,   3,  15], dtype=int16), array([-4, -4, -7, ..., 12, -6, -1], dtype=int16), array([-23, -28, -34, ...,   7,   1,  -3], dtype=int16), array([365, 260,   2, ...,  -3,   3,  16], dtype=int16), array([ 4,  6,  0, ..., 18, 12,  6], dtype=int16), array([ 3,  4,  1, ...,  0,  0, -4], dtype=int16), array([-165, -155,  -56, ...,  -14,    1,   19], dtype=int16), array([-16, -14, -17, ...,  62,  38,  28], dtype=int16), array([-8, -5, -2, ..., 48, 48, 46], dtype=int16), array([-17, -37,  23, ...,  29,  39,  34], dtype=int16), array([-24,  20, -22, ...,  -6,  -8,  -1], dtype=int16), array([203, 101, -98, ...,   2,   5,   4], dtype=int16), array([ 31,  31,  28, ..., -10, -25, -18], dtype=int16), array([-366, -198,  154, ...,   -9,   -2,  -36], dtype=int16), array([13, 10, 12, ...,  1,  7, 14], dtype=int16), array([-1,  2,  2, ..., 14, 20, 40], dtype=int16), array([27, 32, 30, ...,  3, 11, 18], dtype=int16), array([  0,   0,  -1, ...,   8,   0, -11], dtype=int16), array([ 29,  11,  20, ..., -13,  -2,  25], dtype=int16), array([ 21,  23,  24, ..., -23, -18,  -2], dtype=int16), array([ 1,  0,  1, ..., -8,  1,  0], dtype=int16), array([-1, -3, -1, ..., 31, 31, 36], dtype=int16), array([ 18,  22,  20, ..., -25, -27, -34], dtype=int16), array([  1,   4,   9, ...,  -8, -11, -12], dtype=int16), array([  5,   6,   9, ..., -34,  -3,   4], dtype=int16), array([ 35, -18,   8, ...,   4,   6,  17], dtype=int16), array([ 22,  21,  24, ..., -71, -76, -69], dtype=int16), array([ 5,  9, 13, ..., -8, -8, -3], dtype=int16), array([ -9,  -9,  -3, ..., -12,  -7,   0], dtype=int16), array([-11,  -6,  -4, ...,  24,  34,  36], dtype=int16), array([-41, -41, -32, ...,  -2,  25,  45], dtype=int16), array([ -8,  -3,   0, ..., -11, -17, -16], dtype=int16), array([ 37,  34,  36, ..., -20, -15, -19], dtype=int16), array([ 5, -2, -8, ..., 13, 13, 21], dtype=int16), array([-12, -11, -10, ..., -29, -29, -26], dtype=int16), array([-34, -34, -31, ..., -10,  -5,   0], dtype=int16), array([ 54, 400,  20, ..., -49, -67, -67], dtype=int16), array([ -2,  33,  67, ..., -27, -26, -37], dtype=int16), array([-9, -8,  1, ..., 18, 17,  7], dtype=int16), array([ -5, -10, -16, ...,  23,  30,  32], dtype=int16), array([ 11,  11,   4, ..., -11, -18,  -8], dtype=int16), array([209,  94,   8, ..., -30, -25, -15], dtype=int16), array([  9, -56, -87, ..., -41, -54, -47], dtype=int16), array([ 13,  -4, -19, ...,   0,  -7,   0], dtype=int16), array([ 161,  -25, -153, ...,    3,   11,   17], dtype=int16), array([-22, -24, -27, ...,   4,   0,   1], dtype=int16), array([-97, -89, 118, ...,  19,   8,   6], dtype=int16), array([ 72, -16, -81, ..., -20, -25, -33], dtype=int16), array([30, 36, 43, ...,  5,  2,  2], dtype=int16), array([ 5,  0,  3, ..., -4, -4, -3], dtype=int16), array([-33, -24, -14, ...,  -7,  12,  40], dtype=int16), array([-27,  12, 223, ...,  77,  56,  54], dtype=int16), array([ 19,   0, -33, ..., -26, -36, -39], dtype=int16), array([-11, -11, -10, ...,   7,  -1,  -9], dtype=int16), array([-25, -20,  -2, ..., -17, -16, -12], dtype=int16), array([-11,  -6,  -4, ..., -28, -20, -22], dtype=int16), array([  44,  -81, -266, ...,  -22,  -34,  -29], dtype=int16), array([ 215,   56, -198, ...,   -5,   -3,   -1], dtype=int16), array([-35, -41, -49, ...,   1, -14, -20], dtype=int16), array([-14, -14, -15, ...,  31,  22,  22], dtype=int16), array([42, 47, 29, ..., 19, 23, 33], dtype=int16), array([-15,  55,  -5, ...,  -7, -17, -13], dtype=int16), array([-172, -144,  -84, ...,   -4,    0,    6], dtype=int16), array([ 22,  21,  16, ...,  11,  -1, -10], dtype=int16), array([ 1,  7,  6, ...,  4,  0, -2], dtype=int16), array([ 10,  20,  22, ..., -26, -16, -14], dtype=int16), array([-37, -38, -31, ...,  45,  34,  24], dtype=int16), array([-16, -17, -19, ...,  12,  40,  24], dtype=int16), array([ -4,  17, -59, ...,  -1,  -1,  -7], dtype=int16), array([ -5,  -5,  -3, ..., -18, -21, -17], dtype=int16), array([32, 31, 32, ..., 16, 16, 11], dtype=int16), array([  7,  15,   5, ...,  -3, -10,  -2], dtype=int16), array([-2, -1, -1, ..., 19, 26, 29], dtype=int16), array([ -5, -10, -10, ..., -20, -13, -11], dtype=int16), array([ -3,  -4,  -5, ..., -24, -28, -37], dtype=int16), array([ -6,  -9, -13, ...,  30,  26,  24], dtype=int16), array([-2, -1, -2, ...,  0,  0, -1], dtype=int16), array([33, 38, 43, ..., -2, 13,  1], dtype=int16), array([26, 34, 27, ..., -1, -4, -4], dtype=int16), array([ 31,  31,  28, ..., -13, -17, -10], dtype=int16), array([  3,   5,  11, ...,   0,  -7, -10], dtype=int16), array([-19, -22, -20, ...,  25,  31,  28], dtype=int16), array([ -5,  -2, -10, ...,  -1,  -6,  -3], dtype=int16), array([ -7,  -5,  -3, ..., -36, -35, -40], dtype=int16), array([-3, -2, -3, ...,  4, 12, 12], dtype=int16), array([ 61,   5, -69, ..., -45, -47, -46], dtype=int16), array([-28, -30, -33, ..., -14, -14,  -8], dtype=int16), array([-11,  51, 136, ..., -15, -32, -60], dtype=int16), array([-27, -25, -24, ...,   2,  -1,  -1], dtype=int16), array([-25,  -8,  31, ..., -17, -17, -19], dtype=int16), array([-30, -37, -33, ...,  12,   9,   8], dtype=int16), array([-39, 113, 157, ...,  13,  16,  17], dtype=int16), array([  0,   1,   8, ..., -50, -39, -40], dtype=int16), array([-142, -115,   18, ...,    8,  -14,    3], dtype=int16), array([ -6, -12, -14, ..., -15, -16,  -9], dtype=int16), array([-2, -2, -3, ..., -6, -3, -2], dtype=int16), array([ -12,  -16,  -25, ...,  -82, -107,  -93], dtype=int16), array([  4,   4,   3, ..., -56,  -7,  18], dtype=int16), array([ -91, -124,  -60, ...,    1,    3,    9], dtype=int16), array([ 60,  72,  48, ...,  24, -15,  -1], dtype=int16), array([ -2,  -3,  -2, ..., -37, -26, -16], dtype=int16), array([-5, -5, -3, ..., 12,  7,  3], dtype=int16), array([  5,   6,   6, ..., -13,  -8,  -3], dtype=int16), array([ -1,  -1,  -1, ...,   1,  25, -14], dtype=int16), array([174, 319, 326, ...,  -4,  -5,  -5], dtype=int16), array([ 0, -2,  0, ..., 10, 21, 23], dtype=int16), array([12, 12, 10, ..., 15, 16, 17], dtype=int16), array([-6, -7, -6, ...,  4,  0,  0], dtype=int16), array([ 17,  28, -76, ..., -17, -15, -13], dtype=int16), array([-7, -3,  0, ..., 23, 19, 24], dtype=int16), array([ 27,  21, -15, ...,  19,  15,  12], dtype=int16), array([-25, -29, -19, ..., -26, -10, -19], dtype=int16), array([31, -4, 20, ...,  9, 12, 12], dtype=int16), array([-35,   8,   2, ..., -39, -31, -14], dtype=int16), array([ -34,  -32,  -36, ...,  -87, -116, -107], dtype=int16), array([ -6, -11, -15, ...,  11,   4,  10], dtype=int16), array([ -5,  -5,   0, ..., -58, -66, -56], dtype=int16), array([16, 23, 36, ...,  4,  0,  0], dtype=int16), array([ -45, -112, -147, ...,    7,    3,    1], dtype=int16), array([-25, -22, -23, ...,  39,  39,  46], dtype=int16), array([-34, -23, -25, ...,  19,  25,  22], dtype=int16), array([ 22,  13,   6, ..., -23, -25, -35], dtype=int16), array([ 0,  0, -1, ..., 27, 30, 33], dtype=int16), array([ 0,  1,  0, ..., -8, -3,  0], dtype=int16), array([-4, -3,  0, ..., 14, 23, 18], dtype=int16), array([-65, 182,  85, ..., -14, -10, -15], dtype=int16), array([-61, -59, -59, ...,   0,  13,  31], dtype=int16), array([128,  99,  32, ...,  -9,   5,  21], dtype=int16), array([ -3,  -1,  -4, ..., -21, -43, -37], dtype=int16), array([-186, -257,  -92, ...,  -14,  -10,   -6], dtype=int16), array([ 11,  16,  15, ..., -18, -18, -26], dtype=int16), array([-20, -19, -22, ..., -18, -18, -11], dtype=int16), array([-61, -71, -68, ..., -15, -13,  12], dtype=int16), array([-68, -32,  48, ...,  51,  50,  42], dtype=int16), array([  80, -130, -339, ...,   31,   26,    0], dtype=int16), array([  7,   7,   2, ..., -17,   0, -20], dtype=int16), array([  45, -145, -186, ...,   24,   22,    7], dtype=int16), array([  0,   0,  -3, ..., -12, -21, -24], dtype=int16), array([ 72,  41, -40, ...,  23,   5, -34], dtype=int16), array([17, 34, 72, ..., -1,  0,  2], dtype=int16), array([-25, -11, -12, ...,  -7, -20, -11], dtype=int16), array([-30, -32, -32, ..., -30, -10, -31], dtype=int16), array([-21, -11, -18, ...,  -8, -31, -79], dtype=int16), array([-302,  -85,  178, ...,   12,   16,   11], dtype=int16), array([-1, -1, -3, ..., 21, 11,  2], dtype=int16), array([  79,   94, -191, ...,  -22,  -11,   -5], dtype=int16), array([   2,    6,    5, ..., -137,  -38,   99], dtype=int16), array([ 36,  -5, -18, ...,  -8,  -2,  -9], dtype=int16), array([-37, -26, -28, ...,  -4,   1,   2], dtype=int16), array([ 7,  2,  3, ..., -5, -6, -1], dtype=int16), array([-7, -7, -8, ..., 15, 18, 19], dtype=int16), array([ 1,  4,  5, ...,  0,  9, 10], dtype=int16), array([ 61,  54,  38, ..., -32, -22,  23], dtype=int16), array([ -1,  -6,  -4, ..., -22, -21, -19], dtype=int16), array([-3, -5, -8, ..., 26, 36, 28], dtype=int16), array([ -3, -11, -26, ...,   3,   6,  10], dtype=int16), array([ 18,  16,  13, ..., -34, -61, -47], dtype=int16), array([  0,   1,  -1, ...,  14,  52, -19], dtype=int16), array([162,  85,  -5, ..., -10,  -8,  -8], dtype=int16), array([-57, -55, -52, ...,  46,  56,  52], dtype=int16), array([ 30,  49, 116, ...,   8,  20, -75], dtype=int16), array([-36, -41, -43, ...,   4,  12,  18], dtype=int16), array([-21, -19, -17, ...,   2,  -3,  -2], dtype=int16), array([19,  7,  0, ...,  0,  9,  0], dtype=int16), array([-31, -22,  -6, ..., -77, -59, -34], dtype=int16), array([  9,   6,  -2, ..., -76, -81, -91], dtype=int16), array([ -1,   0,   2, ..., -72, -65, -65], dtype=int16), array([ 9, 17, 17, ..., -9, -2, -9], dtype=int16), array([-21, -18, -73, ..., -51, -39, -38], dtype=int16), array([ 10,   1, -12, ...,  16,  13,  -5], dtype=int16), array([  6, -53, -92, ...,   5,   8,   4], dtype=int16), array([38, 35, 33, ..., 73, 40, 26], dtype=int16), array([  2,   0,   3, ..., -17,   1,   1], dtype=int16), array([ -7,  -8, -10, ..., -14, -18, -22], dtype=int16), array([-36, -39, -22, ...,   0,  -2,   1], dtype=int16), array([ 20,  21,  20, ..., -18, -19, -22], dtype=int16), array([122, 128, 133, ...,   2,  24,  19], dtype=int16), array([-14,  -7,  -2, ..., -14, -13, -14], dtype=int16), array([ 0, -3,  3, ..., -2,  6,  6], dtype=int16), array([32, 30, 27, ...,  7, 24, 38], dtype=int16), array([-21, -17,  35, ...,   7,  12,  10], dtype=int16), array([ 42,  -4, -32, ...,  10,   4,   9], dtype=int16), array([ 6,  6, -6, ..., 13, 12,  4], dtype=int16), array([-50,  63, -46, ..., -30, -28, -31], dtype=int16), array([ 31,  14,  24, ..., -13, -25, -33], dtype=int16), array([-11,  -4,  -1, ...,   9,   8,   5], dtype=int16), array([ 14,  19,  20, ...,  42, 109,  85], dtype=int16), array([ 29,   2, -19, ...,   0,   5,   2], dtype=int16), array([-24,  -7, -11, ...,  -8,  -6,  -4], dtype=int16), array([ 32,  13,  60, ..., -28, -28, -25], dtype=int16), array([  6, -40, -57, ...,   8,  15,  15], dtype=int16), array([ -2,   0,  -3, ..., -25,  -8, -11], dtype=int16), array([ -2,  -1,   1, ...,   3,  -1, -48], dtype=int16), array([-13, -17, -18, ...,   8,  21,  42], dtype=int16), array([-239, -238, -286, ...,  -18,  -16,  -20], dtype=int16), array([-3, -4, -5, ..., 11, -7, 12], dtype=int16), array([-141,   73,  108, ...,  -36,  -48,  -47], dtype=int16), array([-17, -10, -11, ...,   6,   1,  -1], dtype=int16), array([ 0,  0,  2, ..., 25, 23, 25], dtype=int16), array([  0,   1,   2, ..., -10,  -9, -16], dtype=int16), array([22, 17, 13, ..., 34, 18, -9], dtype=int16), array([-17, -23, -27, ..., -11, -27, -22], dtype=int16), array([-15, -11, -10, ..., -28, -27, -27], dtype=int16), array([-14, -15, -13, ...,  41,  20,  17], dtype=int16), array([-15, -12,  -7, ...,  20,  11,  10], dtype=int16), array([125, 128, 171, ...,  -1,   3,   2], dtype=int16), array([-13, -10,  -9, ...,   3,  -9, -28], dtype=int16), array([ 0, -2, -2, ...,  7,  5,  4], dtype=int16), array([46, 40, 36, ...,  2, -3,  8], dtype=int16), array([-3, -3, -1, ...,  2, -5, -3], dtype=int16), array([-15, -18,  -7, ...,  16,   4,  15], dtype=int16), array([  7,   7,  12, ..., -54,  31,  70], dtype=int16), array([-24, -40, -26, ...,  51,  51,  54], dtype=int16), array([ 26,  51, -17, ...,   4,   6,   6], dtype=int16), array([  6,  10,  10, ..., -80, -69, -50], dtype=int16), array([ 7,  6,  0, ..., -7, 16, 23], dtype=int16), array([-8, 91, 18, ..., 19, 28, 29], dtype=int16), array([ -1,  -2,  -1, ..., -19, -19,  17], dtype=int16), array([ -3,   0,   1, ..., -14,  -6,  -5], dtype=int16), array([13,  9, 11, ..., 55, 61, 34], dtype=int16), array([-251,  -17,  161, ...,   28,   16,   35], dtype=int16), array([  0,  -6, -10, ...,  32,  24,  15], dtype=int16), array([  8,   8,   8, ..., -20, -17, -29], dtype=int16), array([ 289,  -57, -178, ...,   -8,  -12,   -6], dtype=int16), array([-32, -37, -32, ..., -20, -47, -80], dtype=int16), array([-14, -14,  -8, ...,  19,  14,  -1], dtype=int16), array([ 12,   3,   4, ..., -29, -13,   7], dtype=int16), array([-11,  -3,  -3, ...,  -7, -13,   4], dtype=int16), array([  9,   6,  -4, ..., -29, -52, -53], dtype=int16), array([11, 10,  7, ..., 35, 34, 30], dtype=int16), array([ 11,   7,   5, ..., -44, -48, -37], dtype=int16), array([   0,    4,    5, ..., -193,   90, -148], dtype=int16), array([ 53, -17, -61, ...,  34,  37,  33], dtype=int16), array([19,  7,  6, ..., -5, -4,  4], dtype=int16), array([ 4,  0, -1, ..., 14,  9, -2], dtype=int16), array([ -1,   1,   0, ..., -27, -25, -29], dtype=int16), array([-21, -25,  51, ...,  -3,   2,  10], dtype=int16), array([ 6,  4,  6, ..., 19, 35, 43], dtype=int16), array([12, 11,  9, ...,  7, 18, 15], dtype=int16), array([-10, -11, -15, ...,   4,  -6,   6], dtype=int16), array([  1,  -1, -11, ..., -15,  -8,   0], dtype=int16), array([ 31,  26,  28, ..., -10, -12,  -6], dtype=int16), array([ -1,   3,   3, ..., -13, -18,  -2], dtype=int16), array([-100, -102,  -96, ...,   -3,   14,   17], dtype=int16), array([-158, -233, -190, ...,  -14,  -12,  -10], dtype=int16), array([ -7,  -8,  -4, ..., -60,   0,  30], dtype=int16), array([ 6, 11, 10, ..., 43, 70, 27], dtype=int16), array([-2, -5, -7, ...,  6,  1,  0], dtype=int16), array([ 0,  0,  0, ..., 10,  1, -1], dtype=int16), array([ 0,  0,  0, ...,  3, -1,  0], dtype=int16), array([ 28,  40,  45, ..., -24,   8, -49], dtype=int16), array([-14, -14, -14, ...,  17,  18,  14], dtype=int16), array([-122,  -56,  -43, ...,    3,    4,    1], dtype=int16), array([ -52, -141,  -87, ...,   69,   82,   73], dtype=int16), array([-39, -56, -43, ...,  -2,  -5,  -5], dtype=int16), array([ -7, -14, -14, ..., -36, -13,  12], dtype=int16), array([ -7,  -5,  -9, ..., 113,  33, -59], dtype=int16), array([-11,  -8,  -4, ..., -31, -19, -20], dtype=int16), array([-2, -1,  2, ..., -9, -7, -5], dtype=int16), array([ 5,  5,  3, ..., -1, -4, -7], dtype=int16), array([ 2,  3,  5, ..., 29, 37, 29], dtype=int16), array([-16, -11, -11, ...,  33,  22,  29], dtype=int16), array([-6, -2,  0, ..., 30,  1, -1], dtype=int16), array([-13,   4,  -3, ..., -18, -23, -29], dtype=int16), array([-41, -34, -37, ...,   7,  -7, -21], dtype=int16), array([ 7,  5,  2, ..., 33, 25, 21], dtype=int16), array([-12, -11, -14, ..., -41, -42, -41], dtype=int16), array([ 88,  75,  47, ..., -28, -32, -26], dtype=int16), array([ 5,  2,  0, ..., 18, 13,  5], dtype=int16), array([-1, -3, -4, ..., -8,  6,  8], dtype=int16), array([29, 29, 24, ..., 11,  5,  5], dtype=int16), array([-40, 112, 147, ...,  13,  -9, -13], dtype=int16), array([-56, -31, -19, ...,  10,   8,   7], dtype=int16), array([205, 188,  94, ..., -17, -11, -11], dtype=int16), array([ 7,  3,  3, ..., -7, 11, 28], dtype=int16), array([29, 36, 29, ...,  9, 10, 17], dtype=int16), array([-10,  -6,   0, ...,  16,  13,  17], dtype=int16), array([  9,   6,   2, ...,  -2, -10,   0], dtype=int16), array([ 3,  1,  3, ..., 28, 21, 19], dtype=int16), array([-332,  226, -196, ...,  -15,  -13,  -16], dtype=int16), array([ 0, -2, -2, ..., 42, 37, 30], dtype=int16), array([13, 12,  6, ...,  3,  4,  1], dtype=int16), array([ 98, 177, 201, ...,   0,  44,  30], dtype=int16), array([101,  40, 115, ...,  17, -40, -30], dtype=int16), array([ -1,  -2, -13, ..., -24, -22, -23], dtype=int16), array([  0,   1,   2, ...,  -5, -12, -18], dtype=int16), array([-14,  -5, -15, ..., -35, -55, -22], dtype=int16), array([ 3,  1, -1, ..., -3, -2,  0], dtype=int16), array([  0,   3,   1, ..., -10, -11, -20], dtype=int16), array([ -4,   4,  -7, ..., -15,   6,   6], dtype=int16), array([-3,  0, -1, ..., -1,  8, 28], dtype=int16), array([  13, -138,  131, ...,   27,   32,   45], dtype=int16), array([-34, -36, -36, ...,   4,  -2,  23], dtype=int16), array([ 67,  49,  28, ...,  -6,  -5, -24], dtype=int16), array([-29, -36, -35, ..., -25, -22, -18], dtype=int16), array([ 20,  19,  16, ..., -21, -31, -41], dtype=int16), array([-2, -2, -3, ..., 24, 20,  8], dtype=int16), array([ 0, -1,  0, ...,  9, 19, 18], dtype=int16), array([ -8,   0,   6, ..., -36, -35, -35], dtype=int16), array([-6, -9, -8, ..., 34, 25, 34], dtype=int16), array([  0,  -3,   0, ..., -14, -12, -14], dtype=int16), array([ 107,   -6, -104, ...,  -29,  -42,  -42], dtype=int16), array([ 10,   7,   3, ..., -16, -13,  -3], dtype=int16), array([ -2,   0,  -2, ..., -23, -16,  -1], dtype=int16), array([ -4, -20, -13, ...,  11,  15,   2], dtype=int16), array([-17, -12, -12, ...,  17,  24,  41], dtype=int16), array([  1,  -6, -19, ...,  34,  28,  33], dtype=int16), array([  6,  -1, -14, ..., -13, -22, -20], dtype=int16), array([-24, -21, -19, ...,  12,  52,  25], dtype=int16), array([22, 25, 24, ..., 24, 28, 22], dtype=int16), array([22, 24, 28, ..., 14, 25, 33], dtype=int16), array([-36, -25, -25, ...,  -1,   0,   6], dtype=int16), array([-49, -13,  19, ...,  40,  42,  41], dtype=int16), array([ 63,  52,  44, ..., -74, -18, -22], dtype=int16), array([  70,  -87, -172, ...,   14,   16,   13], dtype=int16), array([244, 113,  25, ..., -13, -13, -12], dtype=int16), array([-8, -3, -2, ..., -3,  5,  3], dtype=int16), array([113, 161, 216, ...,  52,  49,  48], dtype=int16), array([-7, -5,  2, ..., 26, 10, -2], dtype=int16), array([ -8, 141, -57, ...,   7,   9,   9], dtype=int16), array([  3,   8,  11, ..., -13, -11, -15], dtype=int16), array([-2, -2, -2, ...,  9,  2,  0], dtype=int16), array([ 6, 29, 90, ..., 16, 19,  7], dtype=int16), array([-4, -1, -2, ...,  3, 11, -1], dtype=int16), array([ 4,  8, -1, ...,  8, 15, 18], dtype=int16), array([-138,  261,  472, ...,    1,    3,    0], dtype=int16), array([-116,   86,   98, ...,   15,    9,   11], dtype=int16), array([ 3,  4,  6, ..., 10,  8,  0], dtype=int16), array([  2,   5,   9, ..., -18, -20, -19], dtype=int16), array([-19, -14, -12, ..., -19, -15,  -8], dtype=int16), array([ -2,   0,  -2, ..., -23, -18, -21], dtype=int16), array([ 1,  0,  3, ..., 30, 35, 35], dtype=int16), array([-11,  -9,  -5, ...,   0,  23,  36], dtype=int16), array([   1,  -82, -156, ...,   -3,   16,   23], dtype=int16), array([-57, -57,  -7, ..., -13,  -9,  -5], dtype=int16), array([20, 17, 18, ...,  0,  2, -3], dtype=int16), array([  0,  -5,  -1, ..., -24, -35, -35], dtype=int16), array([-43, -47, -45, ...,  24,  25,  15], dtype=int16), array([ 73, -52,  88, ...,  11,  15,  16], dtype=int16), array([ 9,  9, 15, ..., -8, -3, -3], dtype=int16), array([ 23,  29,  38, ..., -15, -20, -23], dtype=int16), array([-49, -52, -53, ..., -18,  14,  44], dtype=int16), array([324, 250, 113, ..., -16, -10,  -2], dtype=int16), array([ -1,  -3,  -2, ...,   1, -12, -18], dtype=int16), array([ 4, 12, 19, ..., -3,  0, -5], dtype=int16), array([ -75, -338, -367, ...,   23,   22,   24], dtype=int16), array([-3, -3,  0, ...,  7,  3,  0], dtype=int16), array([ 47,  55,  58, ...,  67,   3, -19], dtype=int16), array([-7, -6, -7, ..., 15, 22, 27], dtype=int16), array([ 5,  3,  5, ..., 14, 16, 15], dtype=int16), array([ -4, -33,  20, ...,   0,  -7, -10], dtype=int16), array([-324, -310,  -96, ...,  -62,  -21,  -59], dtype=int16), array([  3,   2,   4, ..., -61, -89, -54], dtype=int16), array([44, 43, 46, ...,  1,  6,  3], dtype=int16), array([-12, -11, -15, ..., -18, -22, -24], dtype=int16), array([13, 16, 15, ..., 12, 15,  9], dtype=int16), array([-1,  1,  4, ..., 39, 42, 43], dtype=int16), array([-132,   53,  121, ...,  -53,   -4,   46], dtype=int16), array([-34, -27, -24, ...,  -1,  -2,  -3], dtype=int16), array([-12, -13, -20, ...,  -5,  -6,  -4], dtype=int16), array([  4,   3,   3, ...,  79, -13, -66], dtype=int16), array([-16, -13,  -1, ...,  11,   2,   0], dtype=int16), array([  0,  -4,  -8, ..., -14, -22, -33], dtype=int16), array([15, 16, 15, ..., 53, 52, 54], dtype=int16), array([-34, -38, -33, ...,  88,  84,  77], dtype=int16), array([  -7, -123, -181, ...,   39,   52,   51], dtype=int16), array([ 0,  0, -1, ...,  3,  5,  4], dtype=int16), array([-15, -16, -15, ...,   1,   5,   3], dtype=int16), array([  0,   5,   3, ..., -55,  48,  56], dtype=int16), array([-1, -1, -3, ...,  4,  4,  4], dtype=int16), array([ 9, 12,  7, ..., 27, 18,  0], dtype=int16), array([38, 40, 10, ...,  0, -4, 20], dtype=int16), array([26, 14, 30, ..., 32, 38, 35], dtype=int16), array([  0,  -7,  -4, ...,  -5, -10,  -6], dtype=int16), array([ 5,  6,  8, ..., 12,  8,  6], dtype=int16), array([ 57,   6,  55, ..., -22, -24, -24], dtype=int16), array([224, 129, -12, ...,  49, -10,  -9], dtype=int16), array([-21,  32, -11, ...,   7,   6,  13], dtype=int16), array([-201, -135,   66, ...,    6,    1,    0], dtype=int16), array([ 49,  47,  36, ..., -32, -28, -11], dtype=int16), array([-8, -7, -7, ...,  4,  1, 30], dtype=int16), array([  4,   0,  -3, ..., -26,  -8,  -3], dtype=int16), array([ 21,  19,   6, ..., -17, -20, -27], dtype=int16), array([ 92, -81, -78, ...,   8, -14,  -2], dtype=int16), array([  7,  31,  43, ...,   2,   5, -14], dtype=int16), array([ 0, 11,  1, ...,  2,  2,  5], dtype=int16), array([15, 14, 11, ..., -6, -7, -6], dtype=int16), array([ -3,  -3,   1, ..., -17, -13, -15], dtype=int16), array([-53,  64,  33, ...,  14,  49,  30], dtype=int16), array([12, 14, 13, ..., 22, 23, 19], dtype=int16), array([-8, -4, -4, ..., -1,  3, -1], dtype=int16), array([  0, -15,   0, ...,  18,  16,  13], dtype=int16), array([-31, -26, -35, ...,  -6,   0,   0], dtype=int16), array([ -9, -15, -10, ...,  -8, -21, -26], dtype=int16), array([ -33,  -81, -175, ...,   -4,   -6,  -29], dtype=int16), array([  0,  -7,  -8, ..., -40, -28, -17], dtype=int16), array([ -6,   3,  10, ...,   5,  -2, -21], dtype=int16), array([-244,  -18,  283, ...,  -28,  -27,  -22], dtype=int16), array([-23,   2,  -1, ...,  22,  25,  31], dtype=int16), array([ 5,  1,  0, ...,  8,  1, -1], dtype=int16), array([-13, -24,  -1, ..., -35, -28, -32], dtype=int16), array([ -49,  226, -188, ...,    5,   -6,  -25], dtype=int16), array([  99,  -24, -252, ...,   53,   53,   72], dtype=int16), array([-150,  -96,  -66, ...,  -23,  -26,  -15], dtype=int16), array([33, 33, 36, ...,  0, -1,  2], dtype=int16), array([-16, -11,   0, ..., -53, -13,  35], dtype=int16), array([ 3,  0,  1, ..., -4, -1, -7], dtype=int16), array([  18,   86, -165, ...,   17,   14,   12], dtype=int16), array([  0,  -2,  -2, ..., -18,  -3,   6], dtype=int16), array([42, 37, 28, ..., 35, 34, 41], dtype=int16), array([ 20,  17,  14, ..., -26,  -1,   0], dtype=int16), array([  2,  -4,  -2, ...,  -5, -11, -22], dtype=int16), array([185,  41, -44, ..., -20, -25, -28], dtype=int16), array([ 36,  33,  31, ..., -81, -77, -84], dtype=int16), array([116, 128, 135, ...,  59,  52,  47], dtype=int16), array([ -11,    3, -130, ...,  -18,  -26,  -21], dtype=int16), array([ -6,  -6,  -5, ..., -11,  -7,  -8], dtype=int16), array([ 25,  21,  29, ..., -11, -13,  -9], dtype=int16), array([ -6,  -8, -11, ..., -71, -69, -53], dtype=int16), array([ 59,  60, 122, ..., -11,  -8,  -1], dtype=int16), array([-14,  -8, -10, ...,  -1,   0,  -2], dtype=int16), array([-13,  14,  38, ...,   6,   5,   0], dtype=int16), array([-11, -12, -10, ...,  33,  49,  40], dtype=int16), array([  2,   2,   1, ..., -10,   0,   0], dtype=int16), array([  43,  -28, -109, ...,   30,    6,  -12], dtype=int16), array([-52, -49, -40, ..., -40, -42, -51], dtype=int16), array([14, 22, 24, ..., -6,  0, 10], dtype=int16), array([-24, -21, -12, ...,  24,  -2, -72], dtype=int16), array([ 16,  20,  21, ...,   0,   1, -12], dtype=int16), array([ 76,  93, 129, ...,  36,  28,  27], dtype=int16), array([  -9,   -8,  -13, ...,  -67,  -96, -132], dtype=int16), array([-125, -228, -313, ...,   -9,   -8,   -7], dtype=int16), array([ 0, -1, -1, ..., -3,  0, -7], dtype=int16), array([490, 243, 452, ...,  10,  10,   1], dtype=int16), array([ -20, -106, -136, ...,   14,  -12,  -23], dtype=int16), array([  2,   0,  -4, ..., -27, -10,  -9], dtype=int16), array([-10, -18, -15, ..., -31, -31, -27], dtype=int16), array([ 1,  0,  0, ...,  2,  8, 12], dtype=int16), array([-1, -1,  0, ..., 15,  8,  7], dtype=int16), array([-41, -16, -17, ...,   8,   3,  -4], dtype=int16), array([-19,   4, 130, ..., -51, -41, -44], dtype=int16), array([ -59, -112,  -79, ...,    0,   -7,  -21], dtype=int16), array([-2, 10, 22, ..., 30, 18, 14], dtype=int16), array([44, 29, 24, ..., -7, -5, -9], dtype=int16), array([117,  60, -29, ...,   1,   4,  16], dtype=int16), array([ 72, 139,  82, ...,  45,  46,  41], dtype=int16), array([21, 20, 11, ..., 13, 10,  8], dtype=int16), array([26, 32, 26, ..., -3, -5, -3], dtype=int16), array([32, 30, 36, ...,  0, -1,  0], dtype=int16), array([-19, -14,  -2, ...,  27,  34,  42], dtype=int16), array([-2,  0,  0, ..., 11,  5,  7], dtype=int16), array([-328, -531, -617, ...,    0,   -8,    1], dtype=int16), array([-5, -6, -9, ..., -8, -2, -1], dtype=int16), array([174, 171, 166, ...,  10,   3,   5], dtype=int16), array([-47,  14,  -1, ..., -26, -39, -38], dtype=int16), array([  6,   0,  -3, ..., -35, -14,  -9], dtype=int16), array([ 11,  12,  10, ..., -25, -25, -33], dtype=int16), array([-54,  24,  -5, ...,  -9,  -4,  -4], dtype=int16), array([-64,  95,  -7, ...,  32,  24,  19], dtype=int16), array([236, 137,   8, ..., -44, -44, -40], dtype=int16), array([  -6,   -3,   -5, ...,   55,  178, -251], dtype=int16), array([854, 768, 519, ...,  -5, -37, -22], dtype=int16), array([ -3,  -2,   2, ..., -10, -17, -11], dtype=int16), array([-21, -26, -22, ...,   7,   2,   0], dtype=int16), array([118,  57,  -9, ..., -28, -23, -21], dtype=int16), array([42, 40, 37, ..., 23, 11, 28], dtype=int16), array([-63,  59, 129, ..., -50, -39,   0], dtype=int16), array([23, 24, 30, ..., 14, 21, 27], dtype=int16), array([-9,  1,  0, ..., 19, 21, 27], dtype=int16), array([23, 32, 43, ..., 68, 66, 62], dtype=int16), array([-3, -3, -1, ...,  0,  0,  5], dtype=int16), array([-15, -22, -21, ...,  26,  17,   6], dtype=int16), array([ -1,   0,   2, ..., -19,  -7,  -4], dtype=int16), array([19, 19, 18, ..., -3, -3, -2], dtype=int16), array([-23, -23, -25, ..., -51, -50, -42], dtype=int16), array([-5, -3, -6, ..., -5, -4, -3], dtype=int16), array([-557,  407, 1515, ...,   13,   16,    9], dtype=int16), array([-17, -16, -17, ...,  -2,  -6,  -8], dtype=int16), array([ 0,  6,  7, ...,  5, -8,  1], dtype=int16), array([  9,  14,  11, ...,   3,  -4, -14], dtype=int16), array([  64, -281,  -67, ...,   13,   17,   18], dtype=int16), array([-5, -5,  0, ..., 15, 13, 26], dtype=int16), array([ 10,   3,   6, ..., -24, -24, -23], dtype=int16), array([ 0,  0, -2, ...,  5,  4,  0], dtype=int16), array([ 72,  51, -93, ..., -17, -25, -23], dtype=int16), array([ -4,  -4,  -4, ..., -10,   0,  -4], dtype=int16), array([  92,   97,  106, ..., -125,  -75,  -81], dtype=int16), array([ 9,  4,  2, ..., 18, 20, 28], dtype=int16), array([-26, -61, 145, ..., -15, -16, -13], dtype=int16), array([-21,  71,   8, ...,  -2,  -7,   0], dtype=int16), array([ 17,  18,  26, ..., -30, -13, -26], dtype=int16), array([ 14,  16,  13, ..., -23,  14,  28], dtype=int16), array([  1,   4,   1, ..., -25, -21, -22], dtype=int16), array([45, 31, 23, ..., 38, 12, -3], dtype=int16), array([ 5,  0,  0, ..., 23, 24, 17], dtype=int16), array([-20, -22, -40, ...,   0,   0,   5], dtype=int16), array([ 24,   1, -18, ...,  64,  59, 112], dtype=int16), array([ 0, -5, -5, ..., 17, 22, 16], dtype=int16), array([306, 387, 528, ..., -42, -38, -31], dtype=int16), array([11,  6,  7, ...,  3,  0, -5], dtype=int16), array([ 3,  4,  6, ...,  7, 10,  9], dtype=int16), array([  3,   1,  -2, ..., -12,  -9, -12], dtype=int16), array([ -1, -21, -38, ...,  -7,  -8,  -6], dtype=int16), array([-2, -5, -5, ...,  9,  9, 10], dtype=int16), array([  24,  -88, -146, ...,  156,  105,   10], dtype=int16), array([ -6, -11, -14, ...,   6,   5,  11], dtype=int16), array([ -9, -11, -21, ...,  15,  -2,  26], dtype=int16), array([ 41,  45,  32, ..., -26, -21, -26], dtype=int16), array([ -8, -10, -10, ...,   3,  -4,  -5], dtype=int16), array([ -6,  -5,  -7, ..., -48, -51, -27], dtype=int16), array([-18,  86,  99, ...,   6,   8,   6], dtype=int16), array([-151,  -29,  -67, ...,   29,   40,   30], dtype=int16), array([  0,   0,  -2, ...,  -2, -12, -15], dtype=int16), array([-1, -3, -5, ..., 27, 23, 23], dtype=int16), array([  1,   3,   4, ..., -25,  -9,  -4], dtype=int16), array([-16, -12, -14, ...,  11,  12,   8], dtype=int16), array([  7,  -3,   3, ..., -15,  -7,  -9], dtype=int16), array([-22, -19, -30, ..., -42, -38, -48], dtype=int16), array([-32, -29, -26, ..., -30,  20,  60], dtype=int16), array([163,  96, -15, ...,   1, -13,  10], dtype=int16), array([  41,  -79, -179, ...,   76,   51,    0], dtype=int16), array([-162,   40,  -45, ...,  -22,   64,  -15], dtype=int16), array([-16, -15, -18, ...,  17,  17,  21], dtype=int16), array([  16,  -99, -186, ...,  -10,  -16,  -27], dtype=int16), array([  0, -12, -11, ..., -15, -25, -25], dtype=int16), array([ 2,  0,  1, ..., -4, -5, -7], dtype=int16), array([13, 14, 17, ..., 52, 40, 34], dtype=int16), array([-279, -257,   38, ...,   15,    6,   -9], dtype=int16), array([ 12,  16,  12, ..., -16, -13,  -4], dtype=int16), array([14, 12, 13, ..., -4,  0,  0], dtype=int16), array([36, 72, 51, ..., -4, -2,  0], dtype=int16), array([ 8,  5,  8, ..., 14, 25, 37], dtype=int16), array([15, 19, 16, ..., 20, 20, 13], dtype=int16), array([ -1,  -3,  -2, ..., -28, -26, -24], dtype=int16), array([40, 42, 43, ..., -6,  0,  6], dtype=int16), array([ 1,  0,  2, ..., 29, 41, 31], dtype=int16), array([-14, -19, -23, ...,  15,   4,  -6], dtype=int16), array([ -4,  -3,   0, ..., -19, -36, -40], dtype=int16), array([-37, -33, -30, ..., -19, -24, -31], dtype=int16), array([-89, -93, -89, ..., -26, -49, -46], dtype=int16), array([148, 113,  78, ...,  31,  25,  24], dtype=int16), array([  6,   4,   4, ..., -24, -26, -24], dtype=int16), array([124, -13, -60, ...,   2,  -4,  -2], dtype=int16), array([29, 22, 25, ..., 27, 33, 30], dtype=int16), array([13, 14,  5, ..., 18, 26, 33], dtype=int16), array([-8, -9, -8, ...,  8, 17, 13], dtype=int16), array([ 18,  -3, -23, ...,   4,   6,  -5], dtype=int16), array([  2,  -4,  -2, ...,  30,   9, -18], dtype=int16), array([ 47, 153, 129, ...,  13,  13,  10], dtype=int16), array([ -4,  -2,  -5, ..., -24, -16, -24], dtype=int16), array([-8, -7, -2, ..., -5,  6,  1], dtype=int16), array([-11,  -7, -11, ...,   0,  11,  24], dtype=int16), array([ 25,  19,  16, ..., -80, -39,  57], dtype=int16), array([ 9, 10, 12, ..., 20, 23, 22], dtype=int16), array([-18, -21, -21, ...,  19,  26,  30], dtype=int16), array([ -9,  -5,  -2, ...,  -4, -11, -20], dtype=int16), array([112, 120, 123, ...,  61,  66,  63], dtype=int16), array([-23, -19, -13, ...,  21,  19,  20], dtype=int16), array([4, 2, 0, ..., 1, 1, 3], dtype=int16), array([-24, -23, -25, ..., -48, -57, -59], dtype=int16), array([16, 13, 13, ..., -5, -2,  1], dtype=int16), array([ -9, -13, -13, ..., -29, -27, -23], dtype=int16), array([10, 14, 11, ..., -7, -5, -5], dtype=int16), array([-148, -132,  -93, ...,   -1,    0,  -12], dtype=int16), array([  5, -22, -51, ..., -21, -34, -33], dtype=int16), array([ -6, -10,  -7, ...,   6,   9,   6], dtype=int16), array([16, 14, 11, ..., 23, 31, 33], dtype=int16), array([-147,  -95,   78, ...,    2,    0,    0], dtype=int16), array([-40, -52, -49, ...,  -4,  -5,  -4], dtype=int16), array([-21, -17, -19, ...,  22,  -3,   7], dtype=int16), array([ -8,  -8, -13, ..., -15,  22,  40], dtype=int16), array([ 1,  0,  1, ...,  5, 27, 30], dtype=int16), array([-98, 702, 134, ..., -21, -20, -15], dtype=int16), array([17, 18, 18, ..., -7, -4, -7], dtype=int16), array([  0,  -1,   5, ..., -23, -22, -23], dtype=int16), array([ 0,  2,  0, ..., -1,  0,  0], dtype=int16), array([10, 12, 13, ..., 11, 14, 11], dtype=int16), array([ 14,  12,  11, ..., -38, -57, -47], dtype=int16), array([140, 108,  37, ...,  -9, -25, -27], dtype=int16), array([  0,   0,  -1, ..., -10, -11,  -9], dtype=int16), array([  7,   9,   7, ...,  12, -28, -17], dtype=int16), array([ -9,  -7, -11, ...,  20,   8,   8], dtype=int16), array([ 2,  0, -3, ..., -3, -1, -4], dtype=int16), array([ 7,  7,  4, ..., -2,  1,  4], dtype=int16), array([-20, -18, -19, ...,  24,  12,  -2], dtype=int16), array([-6, -2, -8, ..., -2,  0,  0], dtype=int16), array([-20, -17, -15, ..., -67, -58, -59], dtype=int16), array([ 29,  29,  30, ..., -25, -20, -19], dtype=int16), array([  8,   7,   9, ..., -10, -15, -16], dtype=int16), array([ 2,  2,  2, ...,  7,  2, -1], dtype=int16), array([ 33,  18,  11, ..., -19, -27, -39], dtype=int16), array([  0,   3,   5, ..., -37, -34, -28], dtype=int16), array([-22, -11, -17, ...,  62,  46,   4], dtype=int16), array([ 22,  25,  25, ..., -20,  -9,  -4], dtype=int16), array([ 12,   6,   2, ..., -20, -13,  -1], dtype=int16), array([-110, -209,  -81, ...,  -14,  -12,  -18], dtype=int16), array([ 14,  23,  23, ...,   8,  -3, -19], dtype=int16), array([  5,   6,   7, ..., -25, -25, -25], dtype=int16), array([-10,  -4,  -3, ...,  -9,  -4,   1], dtype=int16), array([ 18,   6,   8, ..., -20,  -4,  -4], dtype=int16), array([-6,  0,  4, ...,  7, 12, 14], dtype=int16), array([ 14,   7,  -2, ..., -67, -50, -28], dtype=int16), array([ 3,  0,  2, ...,  6, 19, 25], dtype=int16), array([31, 34, 32, ...,  4,  2, -3], dtype=int16), array([-36,  33, 169, ..., -26, -37, -38], dtype=int16), array([ 0, -5, -6, ...,  0, 18, 25], dtype=int16), array([256, 346, 117, ..., -26, -23, -15], dtype=int16), array([ 143, -107,   52, ...,    5,    1,   -2], dtype=int16), array([ -7,  -5, -16, ...,  13,  13,  20], dtype=int16), array([16, 19, 15, ...,  5,  9, 20], dtype=int16), array([-114, -164,  -30, ...,   -4,    3,    5], dtype=int16), array([ 10,   1, -43, ...,  -3,  -5,  -3], dtype=int16), array([ -9,  -9, -10, ..., -40, -29,   1], dtype=int16), array([ 0,  0, -1, ...,  3,  0, -4], dtype=int16), array([  2,   5,   2, ..., -10, -15, -22], dtype=int16), array([ 142,   12, -109, ...,   -8,   -7,  -12], dtype=int16), array([-14, -14,  -9, ...,  45,  45,  32], dtype=int16), array([ 39, 172, 208, ...,  12,   2,   0], dtype=int16), array([  3,   0,   0, ..., -13, -10, -12], dtype=int16), array([ -3, -42,  24, ..., -20, -25, -19], dtype=int16), array([ 15,  14,   8, ...,  -5, -15, -26], dtype=int16), array([ 23,  26,  26, ..., -18, -14,  -8], dtype=int16), array([-43, -32, -22, ..., -19, -17, -17], dtype=int16), array([189, 257, 160, ..., -34, -26, -24], dtype=int16), array([ 1, -1, -7, ...,  1,  6, -4], dtype=int16), array([ 4,  4,  3, ..., -1,  0,  0], dtype=int16), array([11, 18, 19, ..., 43, 17, -1], dtype=int16), array([26, 22, 31, ..., 22, 18, 17], dtype=int16), array([ -6,  -6, -16, ...,  29,  26,  27], dtype=int16), array([  6,  -1,   4, ...,  -7,  -7, -10], dtype=int16), array([160, -44, -12, ...,   6,   7,  13], dtype=int16), array([8, 6, 3, ..., 0, 0, 0], dtype=int16), array([  0,  -1,  -1, ..., -14,  -3,  -3], dtype=int16), array([  3,   2,   6, ..., -31, -24, -23], dtype=int16), array([ -6,  -3,  -5, ..., -33, -31, -28], dtype=int16), array([14, 16, 14, ...,  6,  6,  1], dtype=int16), array([  0,   0,  -2, ...,  27,  41, -12], dtype=int16), array([275, 212, 128, ..., -46, -49, -37], dtype=int16), array([11, 16, 19, ...,  0,  0, -6], dtype=int16), array([ 29,  19,  19, ..., -11, -18,  -9], dtype=int16), array([-133,    0,  -30, ...,   -6,   -8,   -8], dtype=int16), array([-27, -13,  15, ...,  -6, -11, -15], dtype=int16), array([-40, -41, -48, ...,  13,  18,  27], dtype=int16), array([-3, -4, -2, ..., 22,  3, 10], dtype=int16), array([ -4,  -2,   0, ..., -23, -26, -28], dtype=int16), array([-188,  -66,   43, ...,   -3,    9,    2], dtype=int16), array([ -6,  -6, -10, ...,   4,  23,  24], dtype=int16), array([-3, -3, -5, ..., -4, -7, -6], dtype=int16), array([ -6,  -9, -10, ...,  -4, -11, -17], dtype=int16), array([ 5,  7, 11, ..., 19, 20, 13], dtype=int16), array([19, 16, 16, ...,  7,  8, 19], dtype=int16), array([  9,  10,  11, ..., -11,  -5,  12], dtype=int16), array([ 8,  7,  8, ...,  9, 19, 20], dtype=int16), array([-84,  70, 136, ...,  61,  59,  52], dtype=int16), array([  7,  13,   8, ...,  22, -16,   0], dtype=int16), array([-34,  45,  25, ...,  29,  30,  14], dtype=int16), array([  5,   8,  19, ...,  74, -60, 121], dtype=int16), array([  25,   71, -131, ...,    3,    6,    3], dtype=int16), array([-11, -13, -16, ...,  62,  68,  72], dtype=int16), array([-5, -8, -7, ...,  5,  2, -3], dtype=int16), array([  2,   2,   3, ..., -17, -17, -29], dtype=int16), array([ -9, -10,  -4, ...,  -8, -15, -11], dtype=int16), array([ 3,  2,  4, ..., -5, -6, -3], dtype=int16), array([-128,    0,  133, ...,  -13,  -16,  -13], dtype=int16), array([  3,  -4,  -5, ..., -42,  -1,  25], dtype=int16), array([15, 22, 26, ..., 37, 42, 39], dtype=int16), array([  3,   0,   0, ...,   1, -12, -25], dtype=int16), array([ 1,  5,  2, ...,  7, 12, 11], dtype=int16), array([-15, -12,  -4, ..., -41, -48, -47], dtype=int16), array([126, 159,   9, ...,   7, -12, -13], dtype=int16), array([ 35,  41,  47, ..., -44, -45, -45], dtype=int16), array([-2, -3, -2, ..., 55, 42, 43], dtype=int16), array([  4,   0,  -4, ..., -18, -11,  -9], dtype=int16), array([ 6,  6,  7, ..., 17,  6,  5], dtype=int16), array([ 8,  6,  8, ..., 12,  9,  4], dtype=int16), array([12,  6,  4, ...,  7,  8, 13], dtype=int16), array([-54, -48, -52, ...,  -9,  -7,   0], dtype=int16), array([-12, -11, -12, ..., -16, -14, -12], dtype=int16), array([  22,  -73, -126, ..., -250,  -86, -230], dtype=int16), array([ 1, -5, -3, ..., 46, 43, 31], dtype=int16), array([ -2,  16,   9, ..., -32, -31, -36], dtype=int16), array([114, 109,  91, ...,  -8, -18, -18], dtype=int16), array([17, 19, 21, ..., -1, -2, -7], dtype=int16), array([28, 31, 27, ..., 28, 32, 35], dtype=int16), array([  41,  -47, -136, ...,   -8,   -9,  -14], dtype=int16), array([-1,  0,  5, ...,  8, 20, 10], dtype=int16), array([-17, -23, -24, ..., -12, -13, -14], dtype=int16), array([-48, -20,  -7, ..., -19, -14,  -4], dtype=int16), array([-2, 17,  0, ..., 20, 21, 19], dtype=int16), array([11, 10, 12, ...,  0, -3, -7], dtype=int16), array([ -2,  -1,  -1, ..., -22, -27, -22], dtype=int16), array([-363, -166,  200, ...,   62,   11,  -29], dtype=int16), array([ -5,  -5,  -2, ..., -17, -23, -21], dtype=int16), array([22, 18,  5, ..., 42, 53, 48], dtype=int16), array([-18, -11,  -2, ...,  37,  39,  39], dtype=int16), array([-19, -18, -17, ...,  -1,   3,   5], dtype=int16), array([ -6,  -9,  -9, ..., -16, -18, -27], dtype=int16), array([ 26,  85, 102, ..., -27,   0,  -4], dtype=int16), array([ -7, -10,  -7, ...,   0,   8,  10], dtype=int16), array([ -7, -40,   0, ...,   0,   0,   0], dtype=int16), array([-9, -9, -6, ..., 14, 13, 15], dtype=int16), array([-23, -25, -20, ...,  35,  32,  26], dtype=int16), array([ 1,  0,  0, ..., 22, 24, 15], dtype=int16), array([ 174,   72, -161, ...,  -16,  -15,  -16], dtype=int16), array([-1, -1, -3, ...,  3,  3,  0], dtype=int16), array([10, 13, 17, ..., -9,  1,  3], dtype=int16), array([-24, -16, -14, ...,  -7, -12,   0], dtype=int16), array([ -8, -12, -17, ...,  18,  20,  16], dtype=int16), array([ 7, 10,  8, ...,  1, 11, 10], dtype=int16), array([ -3,  -3,  -2, ..., -23,  23,  12], dtype=int16), array([ 2,  4,  7, ..., 14, 16, 15], dtype=int16), array([49, 51, 45, ..., 24, 21,  7], dtype=int16), array([ 20,  26,  32, ..., -33, -53, -59], dtype=int16), array([ -36, -148, -193, ...,   11,    8,   29], dtype=int16), array([ 160,   19, -138, ...,   -2,   -1,   -2], dtype=int16), array([ 263,   94, -162, ...,    9,    8,    4], dtype=int16), array([  2,   1,   2, ..., -18, -13,  -9], dtype=int16), array([  0, -87,  28, ...,  48,  45,  46], dtype=int16), array([-13, -14, -19, ...,  -5, -10, -11], dtype=int16), array([  4,  -5, -11, ..., -37, -24, -32], dtype=int16), array([ 32,   0, -14, ...,  73,  42, -17], dtype=int16), array([  60, -294, -486, ...,   13,    9,   14], dtype=int16), array([ 74, 257, 169, ...,  13,  14,  14], dtype=int16), array([ 11,  10,  13, ..., -11, -17, -19], dtype=int16), array([-3, -6, -6, ..., 18, 18, 12], dtype=int16), array([ -5,  -3, -10, ...,  26,  34,  34], dtype=int16), array([  1,   0,   1, ..., -15,  -9,  -5], dtype=int16), array([ 19,  12,  18, ...,  -1,  -5, -12], dtype=int16), array([-29, 164,   3, ..., -14, -17,  -9], dtype=int16), array([117, 228, 146, ...,  12,   3,   9], dtype=int16), array([ 13,   8,  11, ...,  -3,   1, -13], dtype=int16), array([ 0,  1, -1, ..., -3, -3,  0], dtype=int16), array([-1, -6, -9, ..., 58, 42, 16], dtype=int16), array([  73,  -74, -132, ...,  -24,   -1,   -5], dtype=int16), array([ -2,   4,  13, ..., -22, -10,  -1], dtype=int16), array([  5,   8,  10, ..., -36, -44, -41], dtype=int16), array([-16, -16, -14, ..., -31, -24, -31], dtype=int16), array([11, 29, 30, ..., 15, 19, 21], dtype=int16), array([-28, -24,  -7, ..., -36, -33, -31], dtype=int16), array([-15, -16, -10, ...,   6,   4,   4], dtype=int16), array([ 17,  14,  11, ...,  32, -20, -16], dtype=int16), array([ 40,  54, 249, ...,   6,   7,   8], dtype=int16), array([-142, -154, -134, ...,   36,   26,   29], dtype=int16), array([-17, -18, -14, ...,  -9,  -4,  -9], dtype=int16), array([14, 18, 22, ..., 32, 27, 19], dtype=int16), array([  3,  11,  14, ..., -18, -17, -13], dtype=int16), array([  4,   5,   8, ..., -46, -14,  17], dtype=int16), array([47, 62, 70, ..., 28, 27, 33], dtype=int16), array([ 8, 13, 11, ..., 12, 21, 30], dtype=int16), array([19, 23, 21, ...,  9, 13,  7], dtype=int16), array([-5, -3,  4, ...,  5, 17, 18], dtype=int16), array([  0,   2,   7, ..., -24,  -1,  19], dtype=int16), array([12, 10,  7, ...,  5, 23, 11], dtype=int16), array([   9,  -23,  -68, ...,  -79, -181, -207], dtype=int16), array([-100,   29,   69, ...,   -2,   11,   13], dtype=int16), array([ 15,  19,  26, ..., -44, -40, -35], dtype=int16), array([-28, -20, -13, ...,  39,  39,  27], dtype=int16), array([ 82,  34, -19, ...,  13,  24,  25], dtype=int16), array([ 30,  21,  19, ...,   0, -10, -12], dtype=int16), array([-22, -31, -13, ..., -32, -31, -33], dtype=int16), array([  0,   3,   2, ...,  59,  21, -15], dtype=int16), array([ 3,  0,  3, ..., 27, 19, 21], dtype=int16), array([ -2,  -2,  -4, ..., -10,  -8,  -3], dtype=int16), array([-44, -43, -46, ...,  -7,  -1,  11], dtype=int16), array([50, 47, 52, ..., 57, 54, 45], dtype=int16), array([-6, -3, -6, ..., 20,  7, 10], dtype=int16), array([  1, -14, -15, ...,  17,  24,  39], dtype=int16), array([  0,   1,   7, ..., -28, -24,  -2], dtype=int16), array([-17, 229,  91, ..., -31, -32, -30], dtype=int16), array([14, 16, 20, ..., 13,  2,  4], dtype=int16), array([-19, -20, -19, ...,  57,  70,  46], dtype=int16), array([-152, -189,  -98, ...,  -26,  -28,  -29], dtype=int16), array([ 9, 25, 18, ..., 21, 23, 20], dtype=int16), array([ -2,  -3,  -5, ..., -53, -15,  15], dtype=int16), array([-26, 146,  45, ...,  -5, -37, -22], dtype=int16), array([-32, -28,   7, ..., -20, -20, -23], dtype=int16), array([ -6,   0,  -4, ..., -29, -10,  -2], dtype=int16), array([-29, -30, -89, ..., -35, -29, -26], dtype=int16), array([-16, -16, -15, ...,  39,  38,  34], dtype=int16), array([-3, -6, -6, ...,  0, -3, -7], dtype=int16), array([-126,  -44,  103, ...,    1,   -3,   -3], dtype=int16), array([-75,  93, -14, ..., -20,  -8,   5], dtype=int16), array([-61, -59, -25, ...,   7,  12,  17], dtype=int16), array([ -97, -156, -129, ...,   26,   23,   22], dtype=int16), array([ 0, -1,  0, ...,  0, -7, 12], dtype=int16), array([ 45, 116, -95, ..., -23,  -6,  -6], dtype=int16), array([ 13,  -1,  10, ..., -23, -22, -21], dtype=int16), array([  7,   0,  -3, ..., -22, -20, -15], dtype=int16), array([  2,   0,   0, ...,   2,  -7, -21], dtype=int16), array([ 74,  37, -95, ...,  10,  12,   9], dtype=int16), array([ -2,  -9, -10, ...,  25,  28,  25], dtype=int16), array([-41, -55, -37, ..., -15, -17, -13], dtype=int16), array([ 0, -1,  6, ..., 12, 12, 11], dtype=int16), array([17, 15, 11, ..., 18, 24, 26], dtype=int16), array([-46, -30, -38, ..., -30, -12,  -5], dtype=int16), array([  3,   3,   1, ...,  -3, -11, -26], dtype=int16), array([ 0, -3, -3, ...,  2,  5,  2], dtype=int16), array([-1, -3, -1, ..., 53, 39, 29], dtype=int16), array([-30,  -1, -64, ..., -28, -40, -37], dtype=int16), array([ 21,  29,  19, ..., -14,  -6,  10], dtype=int16), array([ -1, -34, -21, ..., -11, -11, -12], dtype=int16), array([250, 213, 201, ..., -14, -14, -12], dtype=int16), array([ -5,  -7,  -8, ..., -40, -32,   9], dtype=int16), array([ -7,  -4,  -2, ..., -17, -15, -16], dtype=int16), array([-205, -151,   16, ...,   14,   13,   13], dtype=int16), array([-40, -38, -37, ...,   4,  -7,  -2], dtype=int16), array([ 44,  11,   7, ..., -17, -39, -31], dtype=int16), array([13,  4,  7, ...,  9, 17, 17], dtype=int16), array([ -6,  -5,  -4, ..., -14,  -6, -16], dtype=int16), array([3, 2, 6, ..., 1, 1, 5], dtype=int16), array([ 21, -19, -25, ..., -26, -28, -28], dtype=int16), array([40, 37, 37, ..., -4, -1, -8], dtype=int16), array([-2,  8,  0, ..., 15, 14,  8], dtype=int16), array([  0,  -7, -22, ..., -12, -11,  -7], dtype=int16), array([-3,  0,  5, ..., 61, 36,  7], dtype=int16), array([ 14,  16,   8, ..., -15, -11,  -6], dtype=int16), array([17, 20, 20, ...,  9, 11, 11], dtype=int16), array([-135, -119,  -53, ...,    0,   -4,   -2], dtype=int16), array([ 30,  40,  51, ...,  -3, -10,  -9], dtype=int16), array([-19, -19, -15, ...,  36,  36,  31], dtype=int16), array([291, 398, 451, ...,  31,  41,  43], dtype=int16), array([33, 35, 31, ..., 15,  9, 10], dtype=int16), array([340, 337, 158, ..., -19, -18, -14], dtype=int16), array([ -9,  -7, -10, ...,  24,  28,  20], dtype=int16), array([ 1, -5, -2, ...,  4,  1,  0], dtype=int16), array([-8, 23, 36, ..., -9,  0, -2], dtype=int16), array([11,  9,  3, ..., 32, 34, 39], dtype=int16), array([  4,   3,   2, ...,  -9,  -9, -10], dtype=int16), array([ 47,  46,  46, ...,  -2, -13, -19], dtype=int16), array([ -74, -201, -159, ...,  -19,  -21,  -16], dtype=int16), array([ -5,  -3,  -4, ..., -11, -17, -35], dtype=int16), array([-8, -7, -7, ..., 18,  8,  3], dtype=int16), array([16,  5, -9, ..., 36, 33, 31], dtype=int16), array([ -1, -12, -16, ...,   3,  18,  10], dtype=int16), array([ 18,  18,  21, ..., -14, -21, -17], dtype=int16), array([ 15,   3,   4, ...,  25,  15, -11], dtype=int16), array([13, 12, 10, ..., 11, 22, 25], dtype=int16), array([ 2,  1,  2, ...,  1, -3, -6], dtype=int16), array([  3,   8,  10, ..., -21, -19,  -4], dtype=int16), array([-16, -12,  -9, ...,  72,  88,  97], dtype=int16), array([ 21,  20,  19, ..., -88, -80, -70], dtype=int16), array([ 0,  6, 13, ..., 17, 18, 19], dtype=int16), array([138, 106,   6, ...,  -8,  -9,  -8], dtype=int16), array([-8, -4, -3, ...,  4, -2,  7], dtype=int16), array([  7,   4,  -4, ..., -24, -28, -28], dtype=int16), array([-1, -1,  0, ...,  2, -1, -2], dtype=int16), array([22, 25, 27, ..., -9, -4, -4], dtype=int16), array([-11, -10,  -6, ...,   2,   1,  -2], dtype=int16), array([12,  8,  0, ...,  0,  3,  4], dtype=int16), array([-34, -29, -28, ...,  27,  32,  14], dtype=int16), array([ -4,  -2,  -3, ..., -14, -24, -18], dtype=int16), array([ 62,  49, -62, ...,  17, -29, -56], dtype=int16), array([  0,   7,   0, ..., -30, -31, -30], dtype=int16), array([ 2, 12,  9, ..., 32, 37, 17], dtype=int16), array([ -9, -13,  -7, ..., -27, -16, -21], dtype=int16), array([ 8,  9, 12, ..., -1,  3,  3], dtype=int16), array([ 197, -146,  -38, ...,    9,   11,    8], dtype=int16), array([10,  9,  6, ..., 13, -7, -4], dtype=int16), array([-1, -1,  0, ..., -8,  0, 12], dtype=int16), array([ -52, -109,  -75, ...,    0,    5,    6], dtype=int16), array([-200,  -22,   62, ...,   34,   27,   28], dtype=int16), array([ 5,  4,  5, ..., 10, 10, 15], dtype=int16), array([-27, -28, -28, ...,  11,   8,  14], dtype=int16), array([-2, -5, -6, ..., 14, 26, 23], dtype=int16), array([ 33,  40,  66, ..., -10,   9,  26], dtype=int16), array([-15, -16, -17, ...,  17,  25,  34], dtype=int16), array([-41, -48, -59, ..., -21, -29, -24], dtype=int16), array([ -5, -12, -16, ...,  13,  14,  15], dtype=int16), array([-9, -7, -3, ...,  5,  4,  6], dtype=int16), array([28, 86,  2, ...,  7, 12, 20], dtype=int16), array([ 0, -5, -6, ..., 21, 15,  8], dtype=int16), array([13,  5,  0, ..., 49, 45, 50], dtype=int16), array([-10,  -6,  -1, ...,  14,  18,  19], dtype=int16), array([-24, -20,  31, ...,  29,  27,  16], dtype=int16), array([-141, -110,  -61, ...,    1,    4,    3], dtype=int16), array([-19, -22, -26, ...,  62,  50,  43], dtype=int16), array([51, -2, 41, ..., -6, -4, -6], dtype=int16), array([-17, -10,  -9, ..., -14, -21, -10], dtype=int16), array([-199, -169,   53, ...,  -10,   -2,    6], dtype=int16), array([12, 12,  7, ..., 12, 10, 11], dtype=int16), array([ 5,  9, 12, ..., 22, 34, 32], dtype=int16), array([-17, -11,  -8, ..., 116,  99,  24], dtype=int16), array([ 12,  14,  15, ..., -12,  -3,   4], dtype=int16), array([ -81, -122,   15, ...,   10,    5,  -12], dtype=int16), array([  5,   5,   4, ..., -49, -43, -24], dtype=int16), array([ 14,  14,  15, ..., -22, -12, -15], dtype=int16), array([-75, 128, 137, ..., -17, -14, -19], dtype=int16), array([17, 21, 19, ..., 22,  5, 13], dtype=int16), array([-157,  -28,  175, ...,  -12,  -21, -111], dtype=int16), array([ 33, 174, 203, ...,  42,  36,  29], dtype=int16), array([18, 23, 26, ..., -7,  0,  2], dtype=int16), array([-3, -4, -3, ..., 41, 34, 32], dtype=int16), array([ -5,  -5, -11, ...,   9,  12,  29], dtype=int16), array([ -7, -15,  -7, ...,  18,  26,  27], dtype=int16), array([ 60,   1,  -4, ...,  -9, -13, -11], dtype=int16), array([3, 5, 5, ..., 0, 0, 4], dtype=int16), array([ -3,  -7, -21, ...,  23,  19,  17], dtype=int16), array([-4,  0, -3, ..., 18, 19, 14], dtype=int16), array([11, 10, 12, ..., 14, 16, 14], dtype=int16), array([  4,  -1,   1, ..., -29, -33, -29], dtype=int16), array([-21, -13,  -3, ...,   4,  10,  21], dtype=int16), array([ 0,  1, -1, ..., 12, 14,  8], dtype=int16), array([ 15,  16,  27, ..., -62, -47,  -3], dtype=int16), array([ 0,  3,  0, ..., 15, 23, 25], dtype=int16), array([-25, -27, -25, ..., -59, -62, -70], dtype=int16), array([-21, -26, -31, ...,  36,  38,  33], dtype=int16), array([15, 16, 11, ..., 13, 15, 16], dtype=int16), array([13, 13, 12, ..., 49, 47, 41], dtype=int16), array([-37, -39, -35, ...,  14,  10,  19], dtype=int16), array([  3,   1,   3, ..., -16,  -2,  -6], dtype=int16), array([ 46, 123, 158, ..., -32, -38, -31], dtype=int16), array([-37, -36, -36, ...,  14,   9,   7], dtype=int16), array([-4, -5, -4, ...,  0, -3, -6], dtype=int16), array([ 12,  14,  13, ...,  49, -50, -91], dtype=int16), array([33, 25, 24, ..., 11, 10,  4], dtype=int16), array([-4, -5, -6, ...,  3, 14, 36], dtype=int16), array([  1,   3,   6, ..., -21, -18, -17], dtype=int16), array([-23, -19, -19, ...,   9,   1,   2], dtype=int16), array([ -72,   11,  -69, ...,   -7,   18, -105], dtype=int16), array([134, -88,  13, ...,   0,   4, -19], dtype=int16), array([11, 10, 11, ..., 10,  5,  7], dtype=int16), array([10,  4,  8, ..., 35, 30, 27], dtype=int16), array([-180, -167,  -37, ...,   20,   31,   33], dtype=int16), array([-11, -14, -14, ..., -19, -26,  -5], dtype=int16), array([47, 40, 40, ...,  5,  6,  3], dtype=int16), array([ 5,  9,  5, ..., -2,  0, -4], dtype=int16), array([-14, -49,   0, ..., -13, -10, -15], dtype=int16), array([  10,   51, -142, ...,   17,   17,    7], dtype=int16), array([-167, -179,  164, ...,   15,   16,    4], dtype=int16), array([ 9, 10, 20, ..., 14, 16,  0], dtype=int16), array([-18, -18, -18, ..., -12, -14, -21], dtype=int16), array([-320, -322, -175, ...,   15,   15,   14], dtype=int16), array([ 2,  0, -6, ..., 10,  1,  6], dtype=int16), array([  1,   1,   0, ...,   4, -10,  -6], dtype=int16), array([  5,   6,   6, ...,   4,   0, -11], dtype=int16), array([-74, -64, -44, ...,  16,  22, -16], dtype=int16), array([ 13,  11,  12, ..., -25, -28, -22], dtype=int16), array([-161, -236, -127, ...,    9,    1,    0], dtype=int16), array([98, 63, 45, ..., 10, 11, 15], dtype=int16), array([ 43, 101, -30, ..., -16, -26, -37], dtype=int16), array([-19, -57,  20, ...,   2,  -4,  -1], dtype=int16), array([ -1,  -1,  -2, ..., -29, -25, -18], dtype=int16), array([ -9, 165, 143, ...,  15,  22,  18], dtype=int16), array([ 52,  18, -26, ...,  -8,  -6,   0], dtype=int16), array([ 12,   8,  12, ..., -34, -40, -31], dtype=int16), array([ 40,  37,  27, ..., -32, -29, -30], dtype=int16), array([-16, -16, -18, ...,  52,  53,  48], dtype=int16), array([-3, -2, -7, ..., 18,  8, 16], dtype=int16), array([  1,   2,   2, ...,   0, -18,   1], dtype=int16), array([-7, -4, -4, ...,  2,  4, 16], dtype=int16), array([-4,  0, -1, ..., 11, 12, 17], dtype=int16), array([-1, -1, -1, ...,  0, 12, 12], dtype=int16), array([ -55, -125,  -78, ...,   16,   19,   17], dtype=int16), array([6, 5, 2, ..., 4, 0, 7], dtype=int16), array([-41, -46, -42, ...,   7,   1,  20], dtype=int16), array([  1,   3,   7, ...,  32, -32, -67], dtype=int16), array([ 0,  2,  0, ..., 26, 28, 21], dtype=int16), array([ 107,  -10, -232, ...,   16,   19,   16], dtype=int16), array([  4,   8,  10, ..., -24,  -8,   0], dtype=int16), array([-225, -285,  -58, ...,   -2,   -3,   -2], dtype=int16), array([ 14,  14,   9, ..., -20,  -2,  20], dtype=int16), array([ -3,  -3,  -4, ...,   6, -23,  50], dtype=int16), array([-11,  -9, -10, ...,   9, -11, -21], dtype=int16), array([ 0,  0,  1, ..., 11,  1,  5], dtype=int16), array([ -2,  -6,  -6, ...,  -5, -16, -26], dtype=int16), array([ 2,  0,  3, ..., 22, 37, 35], dtype=int16), array([ 40,  95, 145, ...,   4,   3,  -3], dtype=int16), array([ 5,  1,  0, ..., 19, 21, 19], dtype=int16), array([  7,   6,   4, ..., -18, -15, -10], dtype=int16), array([-61, -37, -42, ..., -57,  -5,  27], dtype=int16), array([-17, -17, -10, ...,  29,  12,  17], dtype=int16), array([  0,   3,   5, ..., -13,  -6,  -3], dtype=int16), array([-15, -14,  -8, ...,   5,   7,   6], dtype=int16), array([ -4,  -1,   0, ..., -27, -42, -38], dtype=int16), array([18, 20, 13, ..., -2, 12, 16], dtype=int16), array([  -5,    2,    6, ..., -122,  -76,   25], dtype=int16), array([ 13,  94,   5, ..., -10, -13, -20], dtype=int16), array([-15, -15, -27, ...,  47,  81,  45], dtype=int16), array([ 23,  21,  10, ..., -12, -12, -14], dtype=int16), array([ 5,  4,  1, ...,  6,  8, 10], dtype=int16), array([ 38,  41,  49, ..., -22, -10,   6], dtype=int16), array([-170, -274, -206, ...,  -46,   -3,   27], dtype=int16), array([ 116,  -55, -110, ...,    6,    0,    8], dtype=int16), array([ 4,  1,  1, ..., 20, 18, 17], dtype=int16), array([ 0, -3, -3, ..., 26, 30, 29], dtype=int16), array([ 9, 13, 12, ..., -4, -1, -4], dtype=int16), array([ -7,  -9, -14, ..., -12, -42, -10], dtype=int16), array([ 51, -19,   0, ...,   1,   6,   6], dtype=int16), array([-4, -3,  0, ..., -4, -1, -5], dtype=int16), array([  6,   1,   6, ..., -47, -33, -27], dtype=int16), array([  6,   5,   3, ..., -11, -11, -21], dtype=int16), array([ 23,  18,  12, ..., -41, -35, -15], dtype=int16), array([-6, -6, -5, ..., 35, 43, 52], dtype=int16), array([-2,  0, -2, ..., -6,  3,  3], dtype=int16), array([-9, -7,  0, ...,  8,  0,  8], dtype=int16), array([ 11,  11,  18, ..., 120,  84, -11], dtype=int16), array([ 10,  23,  18, ..., -10,  -4,  -3], dtype=int16), array([-23, 131, 187, ...,   0,   4,   3], dtype=int16), array([30, 36, 33, ..., -2, -2, -7], dtype=int16), array([118,  40, -88, ...,   7,  14,  19], dtype=int16), array([ 27,  11,   1, ...,  -2, -12, -17], dtype=int16), array([  0,   3,  -1, ..., -39, -49, -36], dtype=int16), array([-26, -22, -21, ...,  30,  31,  27], dtype=int16), array([-12, -19,  -6, ...,  54,   0,  -6], dtype=int16), array([22, 29, 33, ..., 16,  1, 12], dtype=int16), array([  9,   5,   5, ..., -34, -45, -44], dtype=int16), array([88, 42, -6, ...,  5,  7,  7], dtype=int16), array([113, 193, 218, ...,   1,  -1,  -4], dtype=int16), array([ 6,  7,  1, ..., 14, 10,  8], dtype=int16), array([50, 47, 34, ..., 37, 44, 46], dtype=int16), array([-6, -2, -1, ..., -1, -6, -4], dtype=int16), array([120, 160, 139, ...,  14,  13,  19], dtype=int16), array([  6,  12,  11, ..., -66, -45, -26], dtype=int16), array([  8,   7,  11, ..., -17,  -7,  -3], dtype=int16), array([  6,   8,  10, ..., -55, -60, -57], dtype=int16), array([-18, -20, -18, ...,  -3, -10, -14], dtype=int16), array([-3, -1, -3, ..., -9, -2,  3], dtype=int16), array([ -3,  -6,   2, ..., -66, -38, -26], dtype=int16), array([ -20, -104,  -64, ...,   46,   41,   36], dtype=int16), array([ 47, -99,  50, ...,  -6,  -5,   1], dtype=int16), array([-16, -16, -15, ...,   8,   7,   1], dtype=int16), array([-24, -23, -20, ..., -10, -20, -21], dtype=int16), array([ -99, -124, -143, ...,   12,   17,   20], dtype=int16), array([-134, -240, -308, ...,  -19,  -15,   -5], dtype=int16), array([ 9,  9,  8, ..., 21, 18, 17], dtype=int16), array([-25, -22, -21, ...,  18,  19,  21], dtype=int16), array([-1,  0, -1, ...,  2,  4,  7], dtype=int16), array([ 2,  8,  8, ...,  0, -7, -2], dtype=int16), array([ -5, -10, -11, ...,   4,   6,  10], dtype=int16), array([14, 19, 23, ..., -9, -5, -5], dtype=int16), array([ 46,  34, -10, ..., -46, -41, -40], dtype=int16), array([-16, -31, -44, ..., -41, -53, -41], dtype=int16), array([-124,   99,   11, ...,  -17,   17,   38], dtype=int16), array([  9,  11,  14, ..., -57, -51, -51], dtype=int16), array([120, 111,  44, ...,   2,  -7, -10], dtype=int16), array([ 71,  22, -72, ..., -16, -20, -19], dtype=int16), array([ 10,  10,   2, ..., -23, -23, -26], dtype=int16), array([ 9,  6,  0, ..., -9, -3, -3], dtype=int16), array([-57, -21, -18, ...,   0,   3,  -5], dtype=int16), array([-4, -5,  1, ..., 15, -4, -9], dtype=int16), array([  8,  11,  13, ..., -11,  -3,  -2], dtype=int16), array([-160,  408, -244, ...,  -27,  -31,  -51], dtype=int16), array([ 26,  27,  26, ...,   1, -14, -33], dtype=int16), array([ 0, 29, 71, ..., -3, -1, -7], dtype=int16), array([ -3,  -4,   0, ...,   1, -50, -43], dtype=int16), array([-135,  -27,   67, ...,  -13,  -13,  -11], dtype=int16), array([-1,  0, -1, ...,  0,  0,  5], dtype=int16), array([18,  4,  6, ...,  5, -3, -8], dtype=int16), array([ -1, -54, -16, ..., -24, -12,  -6], dtype=int16), array([-87, -28, 123, ...,  63,  74,  67], dtype=int16), array([  5,   8,   6, ..., -38, -37, -29], dtype=int16), array([  0,   2,   3, ..., -11,  -6,  -3], dtype=int16), array([-22,  -7,  -4, ..., -19,  -2,   0], dtype=int16), array([  0,  -1,   0, ...,  -8, -13,  31], dtype=int16), array([  0,   0,   0, ...,  -7,  -7, -12], dtype=int16), array([ 2,  0, -1, ..., -5, -6, -4], dtype=int16), array([ -2,   0,   1, ...,  -4, -16,  -2], dtype=int16), array([-11, -12,  -7, ...,  62,  65,  57], dtype=int16), array([-21, -22, -17, ...,  -7,   2, -14], dtype=int16), array([202, 236, 124, ...,   6,   9,   7], dtype=int16), array([36, 36, 21, ..., 13,  8, 11], dtype=int16), array([ -1,   2,   4, ..., -31, -18,  -4], dtype=int16), array([ -9, -10, -13, ...,  19,  19,  18], dtype=int16), array([-1, -2,  0, ..., -2,  0, -6], dtype=int16), array([ 94, 106, 105, ...,   0,   7,   5], dtype=int16), array([ -9, -14, -17, ...,  -1,  -2,   6], dtype=int16), array([-4, -4, -5, ..., 16, 15,  7], dtype=int16), array([ 10,  10,   8, ..., -10,  -7, -14], dtype=int16), array([ 11,  13,  13, ...,  -9, -10, -10], dtype=int16), array([ 80, 112,  50, ...,  45,  65,  80], dtype=int16), array([-1,  0, -3, ..., 53, 56, 66], dtype=int16), array([ 9,  5,  0, ..., 30, 24,  4], dtype=int16), array([ 4,  6,  3, ..., 32, 32, 43], dtype=int16), array([50, 58, 16, ..., -2, -6, -9], dtype=int16), array([-29, -18, -13, ..., -19, -15, -24], dtype=int16), array([ -3,   4,  13, ...,  28,   4, -37], dtype=int16), array([161, 165, 115, ...,   4,  14,  -8], dtype=int16), array([  9,  10,   7, ..., -12, -13, -11], dtype=int16), array([ -58, -106,  -81, ...,    4,    0,   -1], dtype=int16), array([  6,  -7, -29, ...,   7,  14,  12], dtype=int16), array([  4, -20, -50, ..., -24, -30, -35], dtype=int16), array([-44,  36,  52, ...,   9,  32,  38], dtype=int16), array([-7, -7, -9, ..., -3,  2, 10], dtype=int16), array([  6,  12, -10, ...,   1,   2,   5], dtype=int16), array([-11,  45, -31, ..., -42,  34, -88], dtype=int16), array([ 14,  18,  15, ..., -11, -14, -19], dtype=int16), array([-30, -21,  74, ..., -22, -19, -18], dtype=int16), array([-1, -4, -1, ..., 19, 26, 33], dtype=int16), array([ -3,  -3,  -6, ..., -47, -38, -32], dtype=int16), array([  1,  -1,   0, ..., -13,  -4,   2], dtype=int16), array([  0,   2,   4, ...,  18, -10, -25], dtype=int16), array([-114, -134, -177, ...,   28,   28,   26], dtype=int16), array([ -8,  -8,  -4, ..., -23, -70, -37], dtype=int16), array([  0,  -6, -12, ...,  16,  12,  14], dtype=int16), array([ -3,  -1,  -3, ..., -13, -11, -11], dtype=int16), array([ -17,  -47,    5, ...,  -95, -106,  -91], dtype=int16), array([13, 16, 15, ..., 19, 25, 28], dtype=int16), array([  0,  -8,  -8, ..., -57, -56, -35], dtype=int16), array([-13,  21, -33, ...,   1,  -3, -11], dtype=int16), array([ 25, 100, 175, ...,  67, -19,  11], dtype=int16), array([  3,   4,   1, ..., -17, -17, -19], dtype=int16), array([ -1, -10, -11, ...,  -2,   0,   5], dtype=int16), array([ 91,  99, -26, ...,   0,   7,  -5], dtype=int16), array([-19, -14, -11, ...,  -2,  -6,  -3], dtype=int16), array([33, 31, 26, ..., 31, 18, 23], dtype=int16), array([-102, -166, -410, ...,   14,   -4,  -20], dtype=int16), array([103, 102,  89, ...,  50,  55,  63], dtype=int16), array([-4,  1,  1, ..., 36, 13, -1], dtype=int16), array([ 34, 148, 231, ...,  35,  48,  40], dtype=int16), array([ 33,  24, -16, ..., -11,   4,  21], dtype=int16), array([-1, -1,  1, ..., 46, 41, 40], dtype=int16), array([-272, -277, -190, ...,   22,   38,   38], dtype=int16), array([ 6,  3,  7, ..., -4, -3, -2], dtype=int16), array([-14, -12, -10, ...,  18,  13,  17], dtype=int16), array([-40, -16, -17, ..., -10, -18, -20], dtype=int16), array([230, 234, 232, ..., -29,  24,  64], dtype=int16), array([-45,  26, 144, ...,   3,   5,   4], dtype=int16), array([-34, 134,  92, ...,  16,  10,  11], dtype=int16), array([ -6,  -9,  -8, ..., -12, -47, -27], dtype=int16), array([-4, -6, -5, ...,  6,  9, 14], dtype=int16), array([-30, -27, -19, ..., -33, -25, -19], dtype=int16), array([-33, -27, -26, ...,   4,  18,   8], dtype=int16), array([ 534,  387, -194, ...,   28,   32,   29], dtype=int16), array([-1, -1, -3, ...,  5,  1, -5], dtype=int16), array([-56, -58, -59, ...,  19,  18,  20], dtype=int16), array([ 11,  13,  16, ..., -13, -11,  -6], dtype=int16), array([-4, -9, -9, ..., -1, -3,  1], dtype=int16), array([  9,  17,  27, ...,  -4,  -2, -17], dtype=int16), array([ 2, 15, 14, ..., 53, 47, 25], dtype=int16), array([238, 254,  27, ...,  -5,  -2,  -3], dtype=int16), array([ 136,   73, -101, ...,  -14,  -15,  -10], dtype=int16), array([6, 4, 1, ..., 1, 4, 0], dtype=int16), array([  46,   50, -137, ...,   44,   39,   33], dtype=int16), array([ -6,  -2,  -4, ..., -17, -16,  -5], dtype=int16), array([41, 39, 38, ...,  0,  4,  2], dtype=int16), array([ 81,  23, -22, ...,  36,  43,  53], dtype=int16), array([-1,  3, -2, ..., 33, 30, 22], dtype=int16), array([  20, -106,  -67, ...,  136,   72,    3], dtype=int16), array([ 3,  1,  5, ..., 33, 31, 27], dtype=int16), array([  3,   4,   4, ..., -10, -10,  -9], dtype=int16), array([-23, -24, -25, ...,  29,  20,  18], dtype=int16), array([ 41, -17,  -5, ...,  17,  22,  31], dtype=int16), array([-15, -15, -18, ...,  -3,  -6, -13], dtype=int16), array([  5,   5,   6, ..., -44, -25,  -2], dtype=int16), array([ 20,  46,  74, ..., -12, -22, -16], dtype=int16), array([  7,   4,   8, ..., -19,  42,  31], dtype=int16), array([-33, -17, -25, ..., -39, -38, -45], dtype=int16), array([-2, -1,  1, ..., 17, 20, 17], dtype=int16), array([ 3,  7,  8, ...,  1, -3, -4], dtype=int16), array([28, 29, 20, ..., 45, 35, 41], dtype=int16), array([ 16,  17,  15, ..., -20, -15, -19], dtype=int16), array([ -7,  -2, -10, ..., -15, -17, -21], dtype=int16), array([-94,  47, 143, ...,  38, -14,   7], dtype=int16), array([ -4,  -2, -21, ...,   6,   0,  -7], dtype=int16), array([-213, -311, -241, ...,    0,  -22,  -36], dtype=int16), array([14, 19, 12, ..., -7,  7, 13], dtype=int16), array([ 21, 190, 292, ..., -25,  23,  -3], dtype=int16), array([62, 46,  4, ..., 15, 12,  6], dtype=int16), array([ 17,  14,  17, ..., -10,  -8,  -4], dtype=int16), array([  7,  -1,  -1, ..., -40, -33, -32], dtype=int16), array([ -40, -110, -278, ...,   21,   33,   34], dtype=int16), array([-4, -4, -3, ..., 13, 14, 18], dtype=int16), array([ -4,  -5,  -2, ...,  -2, -27, -21], dtype=int16), array([-12, -10,  -8, ...,  14,  20,  21], dtype=int16), array([ 51, 168, 263, ...,  11,  25,   9], dtype=int16), array([ 0,  2,  3, ..., 24, 21, 13], dtype=int16), array([-18, -17, -11, ...,   0,  -1,  -5], dtype=int16), array([ 11,   5,  -1, ..., -31, -36, -56], dtype=int16), array([  1,   0,   7, ..., -24, -23, -16], dtype=int16), array([ 8,  3, -1, ..., 72, 72, 59], dtype=int16), array([  7,   3,   1, ...,  -6, -32, -40], dtype=int16), array([ 7,  6,  4, ..., 20, 29, 19], dtype=int16), array([-34, -36, -42, ...,   4,   5,  -2], dtype=int16), array([-5, -4, -7, ...,  3, 14,  9], dtype=int16), array([ -8,  -7,  -4, ..., -17, -19, -19], dtype=int16), array([-30, -23, -39, ...,  -8, -14,  -8], dtype=int16), array([-13,  13, -16, ...,  -8, -10, -16], dtype=int16), array([-11,  -6,  -5, ...,  -1,  -6, -21], dtype=int16), array([  17,  -63, -151, ...,  -47,    0,   49], dtype=int16), array([-3, -4, -6, ...,  1,  0,  3], dtype=int16), array([ 12,  18,  18, ..., -19, -12, -18], dtype=int16), array([136, -45, -77, ..., -12, -12, -16], dtype=int16), array([  4,   9,   7, ...,  10, -10, -38], dtype=int16), array([-44, -42, -30, ..., -12,  -7,  -1], dtype=int16), array([-245, -188,   12, ...,    5,   -1,    1], dtype=int16), array([ 2,  6,  0, ..., -1,  2,  6], dtype=int16), array([-53, -51, -50, ...,  32,  33,  42], dtype=int16), array([-33, -32, -38, ...,   3, -57, -21], dtype=int16), array([297, 110,  49, ...,  72,  65,  59], dtype=int16), array([  9,   8,  10, ..., -29, -24, -20], dtype=int16), array([ -6, -10,  -5, ..., -12, -12, -22], dtype=int16), array([-136, -189, -242, ...,   47,    6,  -42], dtype=int16), array([-62,  13, -61, ...,   8,   7,   5], dtype=int16), array([-1, -5, -6, ..., -3, -4,  0], dtype=int16), array([ 18,  22,  27, ..., -15, -18, -23], dtype=int16), array([  0,   2,   2, ..., -10,  -6, -10], dtype=int16), array([  8,  13,  22, ..., -52, -54, -64], dtype=int16), array([-3, 98, 69, ..., -5, -3, -9], dtype=int16), array([ 2,  2,  3, ..., 53, 42, 35], dtype=int16), array([ 21,  19,   8, ..., -48, -14,  28], dtype=int16), array([12,  7,  0, ..., 47, 70, 19], dtype=int16), array([ -6,  -8,  -4, ...,  -6, -18, -25], dtype=int16), array([33, 34, 31, ..., 23, 21, 14], dtype=int16), array([-14, -11, -10, ...,  -3,  -3,  -4], dtype=int16), array([  59,   11, -120, ...,   30,    8,  -46], dtype=int16), array([-15, -25, -26, ...,  20,  11,  -6], dtype=int16), array([ 7, 13,  9, ..., 23, 29, 25], dtype=int16), array([ 21,  23,  51, ...,  -8, -11,  -7], dtype=int16), array([-11,   1,  12, ...,  33,  29,  26], dtype=int16), array([  2,   3,  -2, ...,  -8,  31, -13], dtype=int16), array([  1,   2,   3, ..., -15, -30, -26], dtype=int16), array([-19, -27, -21, ...,  11,  21,  33], dtype=int16), array([  2,   0,  -4, ..., -32, -19, -14], dtype=int16), array([17, 15, 16, ..., -5,  1,  0], dtype=int16), array([  94,   -8, -172, ...,   11,    2,   12], dtype=int16), array([ 103,  -61, -173, ...,  -18,  -14,  -13], dtype=int16), array([24, 24, 24, ...,  9,  5,  5], dtype=int16), array([-25, -23, -37, ..., -34, -22, -21], dtype=int16), array([-13, -18, -30, ...,  -5, -20,  35], dtype=int16), array([  48, -109, -147, ...,  -20,  -24,  -19], dtype=int16), array([  3,   5,   5, ...,  -9,  -8, -11], dtype=int16), array([-37, -39, -40, ...,   0,   8,  24], dtype=int16), array([-33, -52, -64, ...,  22,   9,   8], dtype=int16), array([ 63,  45,   0, ..., -11,  -7,  -8], dtype=int16), array([-20, -64, -50, ..., -49, -41, -49], dtype=int16), array([  4,   3,  10, ..., -16, -24, -23], dtype=int16), array([ 10, 101,  76, ..., -14, -15, -21], dtype=int16), array([12,  5, 13, ..., 30,  7, -4], dtype=int16), array([-40, -36, -23, ..., -19, -28, -27], dtype=int16), array([ 26,  18,  10, ...,  -6, -20, -23], dtype=int16), array([67, 43, -5, ..., 10,  9,  9], dtype=int16), array([-3, -3,  0, ..., 49, 42, 35], dtype=int16), array([-140,  -25,  134, ...,  -39,  -36,  -38], dtype=int16), array([-11, -13, -18, ..., -27, -18, -16], dtype=int16), array([ -2,   1,   1, ..., -40, -30, -29], dtype=int16), array([-222, -240, -202, ...,    9,   -3,   -7], dtype=int16), array([ 8, 10, 14, ..., 20, 18, 10], dtype=int16), array([-3, -3, -4, ..., 23, 11,  0], dtype=int16), array([ 21,  21,   6, ..., -50, -43, -34], dtype=int16), array([ -1,  -1,  -1, ..., -40,   6,   3], dtype=int16), array([-30, -30, -31, ...,  33,  37,  35], dtype=int16), array([ 26,  29,  29, ..., -30, -28, -30], dtype=int16), array([-172,  -36,   34, ...,    0,    1,   -4], dtype=int16), array([-14, -10, -21, ..., -48, -72, -83], dtype=int16), array([ 41,  40,  39, ...,  16, -36, -47], dtype=int16), array([-416,   96,  498, ...,  -13,  -13,  -10], dtype=int16), array([ 1,  0,  2, ...,  8, 16, 11], dtype=int16), array([-227, -313,  -79, ...,   -6,  -11,  -13], dtype=int16), array([ 51, 100,  72, ...,  -7, -18, -34], dtype=int16), array([-12,  -7,   1, ...,  14,  14,  11], dtype=int16), array([14,  6,  6, ..., 10, 60, 61], dtype=int16), array([ -62, -101,   47, ...,   31,   31,   36], dtype=int16), array([ -6,  -2,  -2, ..., -29, -29, -22], dtype=int16), array([38, 35, 38, ...,  4,  0, -4], dtype=int16), array([  0,  -2,  -2, ...,  -2, -10, -28], dtype=int16), array([  98,  -76, -242, ...,    0,    3,   10], dtype=int16), array([ 22,  22,  24, ..., -27, -48, -44], dtype=int16), array([ 14,  11,  14, ..., -61, -53, -40], dtype=int16), array([-29, -30, -33, ...,  48,  58,  58], dtype=int16), array([  0,   3,   2, ...,  31, -24, -72], dtype=int16), array([-12, -13, -10, ...,   3,   1,   4], dtype=int16), array([-3, -5, -5, ...,  0,  0,  7], dtype=int16), array([ 5,  3,  0, ..., -1,  2,  9], dtype=int16), array([ 12,   1,  -2, ...,   0, 159, -58], dtype=int16), array([  6,   4,   8, ..., -15, -19, -17], dtype=int16), array([ 2, -1, -1, ...,  2,  3,  0], dtype=int16), array([ 2,  2,  2, ..., 32, 32, 32], dtype=int16), array([15, 75, 45, ...,  5,  9,  9], dtype=int16), array([-12,  -5,  35, ..., -33, -24, -29], dtype=int16), array([-11,  -8,  -7, ...,  14,  18,  16], dtype=int16), array([-5, 20, -2, ..., 12, 13, 13], dtype=int16), array([-10,  -9,  -5, ...,  41,  74,  65], dtype=int16), array([-7, -6,  0, ...,  0, 16, -2], dtype=int16), array([ 15,   9, -26, ...,  68,  88,  67], dtype=int16), array([ 89,  10, 148, ...,   0,  -8,   0], dtype=int16), array([-14, -13, -10, ..., -16,  -8,  -1], dtype=int16), array([22, 26, 22, ..., -1, -3,  4], dtype=int16), array([-1,  3,  7, ..., 16, 28, 34], dtype=int16), array([-19,   6, -15, ...,  15,  63,  30], dtype=int16), array([ 10,  10,  -5, ..., -13, -15,   0], dtype=int16), array([ 4,  3,  4, ...,  8, 17, 23], dtype=int16), array([78, 79, 75, ..., 48, 50, 43], dtype=int16), array([-107,  109, -171, ...,  -23,  -21,  -11], dtype=int16), array([  19, -136,  -18, ...,   26,   26,   26], dtype=int16), array([-30, -36, -64, ...,  35,  37,  35], dtype=int16), array([-11, -10,  -2, ...,  24,  23,  21], dtype=int16), array([10,  0, 10, ..., 30, 28, 32], dtype=int16), array([  14,  -81, -156, ...,   82,   28,  -13], dtype=int16), array([ 81, 134, 128, ...,   9,  -1, -11], dtype=int16), array([-68, -74, -97, ...,  19,  33,  54], dtype=int16), array([  -8, -132, -215, ...,  -19,  -10,    0], dtype=int16), array([  0,   0,  -5, ..., -16, -15, -15], dtype=int16), array([ 10,   9,  12, ...,  -7, -13, -17], dtype=int16), array([-78, -67, -54, ...,   2,  13,  17], dtype=int16), array([ 50,  88,  66, ...,   4,   2, -12], dtype=int16), array([-31, -30, -35, ...,  -7,  14,   4], dtype=int16), array([-23, -15,   9, ...,   8,   7,   5], dtype=int16), array([ 9,  3,  2, ..., -8,  3,  2], dtype=int16), array([ -1,  -4, -10, ...,  20,  13,   0], dtype=int16), array([-25, -26, -25, ...,  51,  38,  52], dtype=int16), array([-7, -2, -4, ..., 12, 20, 31], dtype=int16), array([-13, -15, -12, ...,  31,  36,  30], dtype=int16), array([ -9, -18, -20, ...,  28,   9,  14], dtype=int16), array([ -8,  -9,   0, ..., -29, -20,  11], dtype=int16), array([-24, -29, -17, ...,   9,   1,  -4], dtype=int16), array([ 37,  36,  48, ..., -58, -42, -27], dtype=int16), array([ 0, 17, -1, ..., 56, 54, 55], dtype=int16), array([-30, -18, -10, ..., -32, -16,  -3], dtype=int16), array([-235, -185, -110, ...,  -12,  -16,    3], dtype=int16), array([  2,   4,   8, ..., -15,  -5,  -1], dtype=int16), array([ 0,  1,  1, ..., 30, 25, 26], dtype=int16), array([ 9,  6,  6, ..., 35, 30, 24], dtype=int16), array([ 2, -3, -8, ..., 15,  4,  8], dtype=int16), array([-51, -48, -41, ...,   2,   2,   2], dtype=int16), array([2, 3, 2, ..., 2, 4, 8], dtype=int16), array([-8, 15, 22, ..., 27, 27, 31], dtype=int16), array([-104,  260,   60, ...,   -2,    4,    3], dtype=int16), array([-111, -278, -219, ...,   13,  -13,  -10], dtype=int16), array([-174,   -2,  266, ...,  -13,  -13,  -17], dtype=int16), array([-21, -23, -32, ...,  16,  14,  12], dtype=int16), array([ 68,  -5, -37, ...,  -6,  -1,  -8], dtype=int16), array([-141,  -57,   31, ...,   -8,    0,   13], dtype=int16), array([-17, -19, -24, ..., -42, -38, -21], dtype=int16), array([ -8,  -7,  -7, ..., -20, -23, -26], dtype=int16), array([-205, -206, -139, ...,  -78,  -89,  -74], dtype=int16), array([-13, -12,  -9, ...,  32,  31,  35], dtype=int16), array([-14,  27,  21, ..., -18, -10,  -3], dtype=int16), array([-52, -54, -48, ...,   6,  14,  -3], dtype=int16), array([-26, -30, -26, ...,   7,   6,  -3], dtype=int16), array([ 17,  41,  60, ..., -46, -52, -38], dtype=int16), array([ 44,  52,  55, ...,  -6, -11, -11], dtype=int16), array([-81,  82, 144, ...,  19,  39,  53], dtype=int16), array([-14, -13,  -7, ..., -32, -29, -42], dtype=int16), array([155, 117,  38, ...,   3,   4,   0], dtype=int16), array([-11,  54,  41, ...,   7,   3,   2], dtype=int16), array([-28, -20, -17, ...,   0, -53,  -6], dtype=int16), array([-14,   1, -20, ...,   1, -12,  -7], dtype=int16), array([-184, -171, -103, ...,   38,   57,   84], dtype=int16), array([ 55,  38,  42, ..., -75, -76, -73], dtype=int16), array([-26, -31, -36, ...,  50,  44,  38], dtype=int16), array([15, 10, 16, ...,  7,  5,  7], dtype=int16), array([ -2,  -4, -10, ...,  -2,   4,  -1], dtype=int16), array([ 3,  8,  9, ..., -2,  5,  0], dtype=int16), array([  3,   4,   0, ..., -18, -21, -12], dtype=int16), array([  0,   5,   2, ...,   8,  -8, -17], dtype=int16), array([ -4,  -2,  -7, ..., -27, -18, -17], dtype=int16), array([-8, -4,  7, ...,  7,  9, 14], dtype=int16), array([ 28,  33,  41, ..., -20, -11, -10], dtype=int16), array([ 12, 102, 199, ...,   0, -27, -10], dtype=int16), array([-30,   0,  90, ...,  59,  15,  23], dtype=int16), array([-28,  18,  21, ...,  25,   3,  -4], dtype=int16), array([15, 21, 15, ..., -6, -8, -9], dtype=int16), array([ -1,  -2,  -4, ..., -23, -22, -26], dtype=int16), array([10,  9,  8, ..., 37, 44, 45], dtype=int16), array([14,  8, 13, ..., 22, 31, 36], dtype=int16), array([25, 26, 24, ..., 33, 49, 19], dtype=int16), array([ 3, -5,  0, ..., -1, -9, -3], dtype=int16), array([18, 10, 15, ...,  1, -4,  1], dtype=int16), array([ -8,  -6,   6, ..., -22, -53, -66], dtype=int16), array([ 7,  3,  4, ..., 22, 27, 26], dtype=int16), array([ -7, -16,  -7, ...,  42,  28,  -9], dtype=int16), array([  2,   5,   1, ...,  42,  31, -20], dtype=int16), array([ 0,  0,  2, ..., 37, 51, 54], dtype=int16), array([-22, -19, -23, ...,  11,  16,   8], dtype=int16), array([20, 25, 22, ..., 25, 28, 39], dtype=int16), array([  0,  -1,   2, ..., -29, -21, -17], dtype=int16), array([ -94,  -28, -126, ...,    4,    8,    6], dtype=int16), array([ 1,  0,  0, ..., 16, 10,  6], dtype=int16), array([ -98, -123, -138, ...,   -1,    1,    1], dtype=int16), array([ -9,  -7, -13, ..., -35, -39, -43], dtype=int16), array([   1,  -15, -119, ...,   13,   13,   12], dtype=int16), array([-118,  -21,   -4, ...,   -6,   -2,    2], dtype=int16), array([  6,   8,  17, ..., 187, 116,  67], dtype=int16), array([22, 22, 15, ..., 19, 26, 35], dtype=int16), array([-12, -10,  -9, ...,  91, 108,  67], dtype=int16), array([ 104,    1, -134, ...,   -6,   -1,    4], dtype=int16), array([-90,   4,  97, ..., -55,  -6,  23], dtype=int16), array([-121,  -95,  -45, ...,   21,   44,  -24], dtype=int16), array([-198,  -94,   -4, ...,    9,   42,   18], dtype=int16), array([ 77, 108, 149, ..., -15,  38,  53], dtype=int16), array([31, 29, 26, ..., 24,  4, -8], dtype=int16), array([-712, -308,   80, ...,   -9,  -15,    1], dtype=int16), array([-148,   84,    6, ...,   45,   49,   39], dtype=int16), array([ -77, -119,  -66, ...,   28,    7,    5], dtype=int16), array([245, 163, -90, ...,  30,  31,  30], dtype=int16), array([11, 10, 10, ..., 45, 30, 15], dtype=int16), array([  71,  -26, -116, ...,   18,   23,   21], dtype=int16), array([ -1,  -2,   3, ..., -17,  -5, -13], dtype=int16), array([-6, -1,  5, ..., 52, 52, 46], dtype=int16), array([  1,   0,   0, ...,   0,  -3, -21], dtype=int16), array([-24, -24, -20, ..., -11, -13, -17], dtype=int16), array([ 33,  26,  29, ...,  -3, -12, -12], dtype=int16), array([-35, -14, -44, ..., -17,   6,  21], dtype=int16), array([ 19,  -8,  18, ..., -29, -24, -30], dtype=int16), array([-14, -11, -10, ...,  -2,  -5,  -8], dtype=int16), array([ 30,  26,  25, ..., -51, -69, -48], dtype=int16), array([-51, -47, -44, ...,  -8,  -8, -11], dtype=int16), array([18, 19, 14, ..., 11, 18, 14], dtype=int16), array([ -2,  -6,  -4, ..., -12,  -1,   2], dtype=int16), array([ -94, -169, -188, ...,  -17,   -4,  -13], dtype=int16), array([-18, -31, -23, ...,   5, -10, -23], dtype=int16), array([-13, -10,  -4, ...,  -8,  -2, -10], dtype=int16), array([  0,  -4,  -2, ..., -22, -30, -27], dtype=int16), array([  0,   0,   1, ..., -23, -19, -18], dtype=int16), array([181, 151,   0, ..., -26, -48, -21], dtype=int16), array([ 16,  15,  11, ...,  39, -11, -51], dtype=int16), array([ 12,  12,  10, ...,   1,   0, -14], dtype=int16), array([ 5,  2,  2, ..., 28, 26, 31], dtype=int16), array([ -2,  -8, -17, ..., -10, -11,  -4], dtype=int16), array([ -4,   1,   0, ..., -41, -46, -42], dtype=int16), array([ 7, 12, 10, ..., 17, 15,  9], dtype=int16), array([-10,  -6,  -8, ..., -19, -25, -20], dtype=int16), array([ 39, -66, 157, ...,  31,  71, -18], dtype=int16), array([   6,  -29, -127, ...,   15,    9,    0], dtype=int16), array([-5, -6, -4, ..., 33, 32, 30], dtype=int16), array([-3, -2,  0, ...,  6,  4,  1], dtype=int16), array([-1, -8,  0, ...,  5,  8,  7], dtype=int16), array([ 14,  10,  11, ..., -26, -20, -21], dtype=int16), array([ -2, -10,  -9, ..., -25, -21, -20], dtype=int16), array([11, 14, 14, ..., 22, 25, 17], dtype=int16), array([17, 16, 13, ...,  5,  7, 20], dtype=int16), array([-16, -14, -17, ...,  44,  42,  34], dtype=int16), array([ -1, -47, -40, ...,  30,  13, -13], dtype=int16), array([-116, -141, -149, ...,   -9,  -11,  -13], dtype=int16), array([132,  29,  91, ..., -34, -42, -40], dtype=int16), array([  8,  15,  10, ..., -21, -17, -20], dtype=int16), array([-83,  59, -26, ...,  46,  43,  43], dtype=int16), array([174,  95,  -6, ...,  -8,  21, -18], dtype=int16), array([-33, -37, -33, ..., -15, -20, -20], dtype=int16), array([-19, -16, -15, ..., -22, -17, -27], dtype=int16), array([-17, -10, -15, ...,  47,  56,  63], dtype=int16), array([ 12,   9,  15, ..., -12, -14,  -6], dtype=int16), array([ 2, -4,  0, ...,  3, -1,  5], dtype=int16), array([ 17,  19,  22, ..., -48, -45, -29], dtype=int16), array([-15,  -8,  -9, ...,  -6, -85, -75], dtype=int16), array([-20,   9, -30, ..., -21, -29, -26], dtype=int16), array([10, 11,  7, ..., 18,  4, 10], dtype=int16), array([ 29,  17, -24, ...,  45,  18,   5], dtype=int16), array([  27,    2, -151, ...,  -24,  -27,  -24], dtype=int16), array([  0,   6,   1, ...,  15,   1, -10], dtype=int16), array([-20, -16,  -9, ...,  15,  28,  32], dtype=int16), array([-30, -57, -72, ...,  11,  14,  17], dtype=int16), array([ -2,  -2,  -2, ..., -17, -10,  -6], dtype=int16), array([-284, -151,   38, ...,   19,   14,    5], dtype=int16), array([-14, -12, -13, ...,  22,  24,  28], dtype=int16), array([ -9, -11, -11, ...,  14,   4, -27], dtype=int16), array([  6,   4,   6, ..., -14, -20, -32], dtype=int16), array([ 11,  23,  20, ..., -10,   1, -11], dtype=int16), array([-22, -13,  -9, ...,  22,  17,  22], dtype=int16), array([ 24,  19,  12, ..., -17, -12,  -4], dtype=int16), array([ 3,  0,  0, ..., -3,  1, -1], dtype=int16), array([36, 31, 29, ..., 40, 39, 40], dtype=int16), array([ 13,  12,  10, ...,  -1,  -6, -15], dtype=int16), array([-5, -7, -6, ..., -7, -5, -1], dtype=int16), array([-66, -38,  -8, ...,  63,  45,  46], dtype=int16), array([-148, -210, -179, ...,   12,    8,   12], dtype=int16), array([269,  70, 360, ...,  -2,  -8, -13], dtype=int16), array([ 35, -82,  97, ...,  12,   8, -39], dtype=int16), array([-27, -25, -24, ...,  34,  29,  30], dtype=int16), array([ -3, -13, -19, ..., -10,  -9,  -6], dtype=int16), array([  0,   0,   0, ..., -11,  -5,  -8], dtype=int16), array([ 3,  1,  1, ..., 36, 29, 19], dtype=int16), array([ 4, 10, 10, ...,  3,  4,  9], dtype=int16), array([  0,  -5,  -5, ..., -33,  -5,  33], dtype=int16), array([ 3,  9,  6, ..., -1, -6, -6], dtype=int16), array([-134,   87,  115, ...,  -49,  -73,  -70], dtype=int16), array([-104,    0,   69, ...,   -8,  -12,  -16], dtype=int16), array([24, 25, 19, ..., 37, 39, 27], dtype=int16), array([-36, -35, -42, ..., -22, -29, -15], dtype=int16), array([339, 311, -18, ...,  35, -32, -26], dtype=int16), array([  4,   6,   5, ..., -25, -13, -13], dtype=int16), array([-14, -20, -12, ...,   1,   3,   7], dtype=int16), array([187, 473,  64, ...,   7,   7,   6], dtype=int16), array([  0,   1,   5, ...,  -2, -14, -14], dtype=int16), array([27, 18, 11, ..., -4,  1,  1], dtype=int16), array([ 41,  42,  34, ..., -22, -33, -32], dtype=int16), array([21, 19, 16, ...,  9,  0,  4], dtype=int16), array([-47, -15,  21, ...,  19,  20,  31], dtype=int16), array([-7, -6,  1, ..., -8, -4, -1], dtype=int16), array([-32, -26, -22, ..., -29, -30, -25], dtype=int16), array([  9,  10,   5, ...,  -5,  -4, -12], dtype=int16), array([  1,   1,  -1, ...,  -2,  -5, -23], dtype=int16), array([  8,  11,  13, ..., -16, -12, -15], dtype=int16), array([  7,   4,   4, ..., -20, -20, -25], dtype=int16), array([ -2,  -5,  -3, ..., 100, 122,  88], dtype=int16), array([5, 2, 7, ..., 0, 0, 0], dtype=int16), array([105, -30, -15, ...,   9,   5,   5], dtype=int16), array([  33,  -63, -186, ...,  239,  255,  168], dtype=int16), array([ 9, 14, 23, ..., 26, 26, 23], dtype=int16), array([  66,  -43, -132, ...,   -8,  -15,  -11], dtype=int16), array([ 11,  16,  13, ..., -46, -51, -46], dtype=int16), array([-34, -27, -24, ...,  58,   6,   9], dtype=int16), array([86, 75, 50, ..., -7,  0,  4], dtype=int16), array([-42, -26,   5, ...,   8,   5,   8], dtype=int16), array([ 0,  0, -3, ..., 24, 21, 30], dtype=int16), array([-11, -11, -12, ...,   0,   2,   6], dtype=int16), array([ 21, 178, 190, ...,   0, -15, -15], dtype=int16), array([-16, -18, -22, ..., -25, -27, -22], dtype=int16), array([-19, -19, -18, ...,  -3,   5, -15], dtype=int16), array([-21, -12, -12, ...,   0,   5,   5], dtype=int16), array([-35, -34, -21, ...,  10,  10,  17], dtype=int16), array([-45, -39, -39, ...,  -8,   0,   1], dtype=int16), array([-8, -7, -7, ..., 41, 18, 10], dtype=int16), array([-4, -7, -8, ...,  0,  2,  4], dtype=int16), array([ 4,  0, -2, ..., 11, 13, 15], dtype=int16), array([ 1,  0,  0, ..., 35, 33, 26], dtype=int16), array([-3, 11, 23, ..., 45, 50, 45], dtype=int16), array([-61, -56,  15, ..., -19, -11,  -4], dtype=int16), array([  0,   1,   2, ...,   2, -11, -11], dtype=int16), array([-16,  -1,  14, ..., -24, -12,  -5], dtype=int16), array([-36, -50, -54, ...,   5,  21,  30], dtype=int16), array([19, 16, 16, ..., 27, 33, 33], dtype=int16), array([-4,  6,  8, ..., -4, -4,  1], dtype=int16), array([ 27,  20,  10, ...,  -6, -11,  -7], dtype=int16), array([ 12,   8,   8, ..., -19, -20, -27], dtype=int16), array([ 32,  28,  20, ...,   8,  -4, -38], dtype=int16), array([-3,  0,  1, ...,  6, 10,  6], dtype=int16), array([ -1,  -4, -12, ..., -36, -30, -33], dtype=int16), array([ 13,  14,  14, ..., -34, -34, -83], dtype=int16), array([-112, -103,  -35, ...,   20,   14,   17], dtype=int16), array([ 154,  -10, -106, ...,   -7,   -7,  -10], dtype=int16), array([-6, -9, -5, ..., 46, 41, 46], dtype=int16), array([ 1,  0,  1, ...,  6, 16, 20], dtype=int16), array([  5,   1,  -2, ..., -12, -21, -33], dtype=int16), array([ 34,  36, -23, ...,   3, -14, -24], dtype=int16), array([24, 17, 15, ..., 12,  7, 11], dtype=int16), array([17, 19, 21, ..., 25, 18,  5], dtype=int16), array([12, 11, 12, ..., -6, -4,  3], dtype=int16), array([ 24,   3, -13, ...,  -6,  -1, -33], dtype=int16), array([-38, -42, -41, ...,  58, -19,  11], dtype=int16), array([12, 17, 26, ..., 50, 40, 20], dtype=int16), array([-104, -104,  -77, ...,  -65,  -70,  -71], dtype=int16), array([-4,  0,  0, ..., -1, -4,  5], dtype=int16), array([187, 104,  10, ..., -25, -35, -31], dtype=int16), array([ 1, -3, -4, ..., -3,  9, 18], dtype=int16), array([ 18,  15,  12, ...,  -6, -12, -22], dtype=int16), array([ 53,  15,   2, ..., -62,  48, 145], dtype=int16), array([ 15,  14,  29, ..., -15,  -7,  -8], dtype=int16), array([ 0, -2, -2, ...,  0,  1,  0], dtype=int16), array([-24, -18, -13, ...,  27,  24,  34], dtype=int16), array([  6,   9,  11, ..., -10, -11, -14], dtype=int16), array([325, 255, 128, ..., -18, -36,  -5], dtype=int16), array([ 8,  7, 10, ...,  6,  5,  1], dtype=int16), array([ -7, -11,  -7, ..., -23, -30, -22], dtype=int16), array([-57, -73, -49, ...,   8,   5,  19], dtype=int16), array([ 34,  34,  35, ...,  53,  -9, -30], dtype=int16), array([ 10,  11,  12, ..., -28, -17,  -8], dtype=int16), array([ -5,   4,   2, ..., -17, -19,  -5], dtype=int16), array([-27, -23, -17, ...,  10, -23, -57], dtype=int16), array([-10,  -9,  -7, ...,  -4,   2,   7], dtype=int16), array([ 50,  28, -59, ...,   3,   1,  -1], dtype=int16), array([-31, -30, -27, ...,  34,  46,  34], dtype=int16), array([ 50, -33, -71, ..., -24, -25, -30], dtype=int16), array([ 9,  9, 11, ...,  3,  7,  6], dtype=int16), array([-12, -14, -17, ...,  22,  18,  21], dtype=int16), array([ 37,  33, -24, ...,   9,  19,  24], dtype=int16), array([ 0,  2,  0, ..., 48, 71, 35], dtype=int16), array([ 0, 53,  4, ..., 20, 32, 40], dtype=int16), array([ 86,  80, -80, ...,  47,  41,  35], dtype=int16), array([-3, -4, -6, ..., 38, 34, 39], dtype=int16), array([-11,  -4,   6, ..., -12,   3,   1], dtype=int16), array([ 16,  17,  18, ..., -27, -22, -22], dtype=int16), array([ 120, -147,   61, ...,    3,   -5,  -10], dtype=int16), array([-100, -177, -141, ...,  -38,  -33,  -27], dtype=int16), array([104,  20, -46, ...,  -4, -22,   9], dtype=int16), array([-77, -83, -12, ..., -22, -15,  -9], dtype=int16), array([ -5,   0,   1, ...,  -8, -41, -72], dtype=int16), array([-16,  -6, -29, ..., -23, -20, -17], dtype=int16), array([-29, -26, -24, ...,  14,  13,  -3], dtype=int16), array([17, 66, 22, ..., -6, -5, -2], dtype=int16), array([ 12,  12,  10, ..., -24, -23, -23], dtype=int16), array([-2, -1,  0, ...,  0,  6,  6], dtype=int16), array([121,  70, -42, ..., -21, -18, -15], dtype=int16), array([ 17,  12,  16, ..., -41, -38, -44], dtype=int16), array([-91, 210,  15, ...,  13,  12,  -2], dtype=int16), array([ 16,  17,  17, ..., -32, -12,  -3], dtype=int16), array([  7,  -2,   0, ..., -17, -33, -33], dtype=int16), array([-14,  40,  62, ...,  -6, -44,  -8], dtype=int16), array([-1, -2, -1, ...,  7, -2, -2], dtype=int16), array([2, 0, 0, ..., 7, 2, 2], dtype=int16), array([-60, -58, -55, ...,  26,  25,  54], dtype=int16), array([ 11,  -1, -16, ..., -17,  23,  24], dtype=int16), array([-10,  -6,  -6, ...,   4,   3,  -2], dtype=int16), array([10, 13, 16, ...,  1,  6,  6], dtype=int16), array([6, 7, 7, ..., 0, 4, 8], dtype=int16), array([  2,   0,  -7, ..., -57, -40, -26], dtype=int16), array([-19, -25, -23, ...,  62,  55,  49], dtype=int16), array([-5,  0,  0, ..., 21, 31, 39], dtype=int16), array([  0,   5,  -1, ...,  -6, -10, -14], dtype=int16), array([64, 53, 42, ...,  0,  7,  9], dtype=int16), array([16, 18,  9, ..., 23, 29, 29], dtype=int16), array([ 2, -3, -1, ..., -9,  8, -6], dtype=int16), array([25, 18, 16, ..., 16, 13, 10], dtype=int16), array([ -66, -137, -131, ...,   14,   11,   -1], dtype=int16), array([10, 10, -7, ..., 38, 25, 34], dtype=int16), array([116,  28, -24, ..., -34, -40, -37], dtype=int16), array([-92, -25,  35, ...,   1,   3,   4], dtype=int16), array([12, 13, 22, ..., -7, 12,  6], dtype=int16), array([-2,  0, -4, ..., 24,  2, -9], dtype=int16), array([-479, -218,  214, ...,    5,    8,    4], dtype=int16), array([-37,  22,   1, ...,   5,  14,  -3], dtype=int16), array([ -58,   97, -169, ...,  -67,  -60,  -43], dtype=int16), array([-1, -2,  0, ...,  9, 17, 17], dtype=int16), array([684, 375, 136, ...,  38,  42,  31], dtype=int16), array([14, 12, 14, ..., 11,  9,  9], dtype=int16), array([-36, -23, -13, ..., -72, -57, -61], dtype=int16), array([16, 15, 19, ..., -4,  4,  4], dtype=int16), array([-40, -27, -31, ..., -41, -51, -50], dtype=int16), array([-42, -28, -11, ..., -51, -50, -59], dtype=int16), array([-297, -295, -244, ...,  -23,  -20,  -18], dtype=int16), array([  9,   8,  10, ...,  69, 103, 124], dtype=int16), array([ -7,  -6, -11, ..., -39, -24, -13], dtype=int16), array([14, 15, 16, ...,  2,  5,  8], dtype=int16), array([-26, -33, -31, ...,  35,  62,  79], dtype=int16), array([ 24,  25,  20, ..., -24,  25,  19], dtype=int16), array([-13, -15, -14, ..., -16, -12, -19], dtype=int16), array([-112,   64,  -86, ...,    7,    5,    2], dtype=int16), array([ 7,  8,  6, ..., 27, 22, 24], dtype=int16), array([-220, -117,  119, ...,   -7,   -6,  -10], dtype=int16), array([ 53, -34,   3, ..., -11, -18, -14], dtype=int16), array([-60,   9, 111, ...,  -1,   6,  22], dtype=int16), array([17, 16, 20, ..., 23, 25, 30], dtype=int16), array([ 6,  7, 10, ...,  2,  2,  2], dtype=int16), array([  7,   5,   7, ..., -12, -16, -11], dtype=int16), array([11, 11, 14, ..., 42, 38, 29], dtype=int16), array([10, 12,  7, ..., -1, -1, -5], dtype=int16), array([ -82, -159,  -94, ...,   37,   63,   56], dtype=int16), array([222, 151,  44, ..., -18, -19, -19], dtype=int16), array([ 0,  4,  6, ..., 41, 36, 29], dtype=int16), array([-156, -148, -160, ...,    0,   -2,  -22], dtype=int16), array([ -73, -114, -140, ...,    2,    8,    3], dtype=int16), array([ -61,   54, -142, ...,    0,    3,    0], dtype=int16), array([-1,  0,  0, ..., 43, 15, 17], dtype=int16), array([ 18,   4,  17, ...,  11, -32, -22], dtype=int16), array([-6, -4, -8, ..., 13, 50, 65], dtype=int16), array([-14, -16, -15, ...,  -8,  -7, -10], dtype=int16), array([ 0,  1,  0, ...,  0, -8, -3], dtype=int16), array([ -8, -13,  -4, ...,  14,  44,  33], dtype=int16), array([ 7,  8,  9, ..., 19, 14, 16], dtype=int16), array([239,  84,  -8, ...,  33,  32,  24], dtype=int16), array([ -9,  -1,  -1, ..., -15, -15, -17], dtype=int16), array([180, 102,  17, ...,  17,  32,  -1], dtype=int16), array([ 3, 11, 15, ...,  5, -7,  1], dtype=int16), array([-22, -10,   3, ...,  18,  22,  16], dtype=int16), array([-55, -45, -27, ...,  29,   4, -15], dtype=int16), array([ -73, -144,   63, ...,   -6,    0,    0], dtype=int16), array([-281, -355, -252, ...,   24,   21,   17], dtype=int16), array([-452,   59, 1135, ...,  -53,  -57,  -43], dtype=int16), array([ 3,  0,  0, ..., 22,  5,  3], dtype=int16), array([-14, -12, -14, ...,   0,  -2,  -9], dtype=int16), array([15, 15, 13, ..., -6, -6, 19], dtype=int16), array([-9, -8, -7, ..., 48, 61, 78], dtype=int16), array([-128, -112,  -91, ...,  -53,  -35,  -12], dtype=int16), array([-25, -29, -27, ...,  22,  30,  22], dtype=int16), array([31, 34, 34, ..., 26, 22, 15], dtype=int16), array([ 80, 105, -30, ...,  27,  28,  23], dtype=int16), array([ 17,  17,  27, ..., -42,  51, 109], dtype=int16), array([-25, -15,  -5, ..., -27, -26, -24], dtype=int16), array([-301,  231,   12, ...,    9,    5,    6], dtype=int16), array([ -66, -127, -102, ...,  -19,   -9,  -14], dtype=int16), array([-10, -14,  -6, ..., -58, -57, -48], dtype=int16), array([60, 59, -6, ..., 18,  8,  2], dtype=int16), array([ 12, -16, -10, ..., -11, -10, -20], dtype=int16), array([-12, -10, -18, ...,   0,   0,  -3], dtype=int16), array([ 0,  0,  3, ...,  7, 11,  0], dtype=int16), array([  8,   8,   8, ...,  -4,  26, -51], dtype=int16), array([-3, -5, -6, ..., 31, 56, 39], dtype=int16), array([-20, -21, -15, ..., -43, -39, -42], dtype=int16), array([  3,  10,  15, ..., -36, -54, -48], dtype=int16), array([ 26,  11,  10, ...,  -7, -33, -53], dtype=int16), array([ 14,   7,  10, ..., -19, -11,  -9], dtype=int16), array([ -6, -11, -12, ...,  17,  11,   7], dtype=int16), array([ -7, -11,  -7, ...,  45,  23,  22], dtype=int16), array([  6,   6,   5, ..., -35, -39, -31], dtype=int16), array([ 13,  16,  19, ..., -10,  -9, -13], dtype=int16), array([  4,   6,   0, ..., -27, -19, -10], dtype=int16), array([-86, -31,  42, ...,  49,  37,  31], dtype=int16), array([-4, -5, -8, ..., 14, 11,  9], dtype=int16), array([  5,   2,   3, ..., -19, -11, -26], dtype=int16), array([ 14,  20,  16, ..., -31, -22, -29], dtype=int16), array([-10, -16, -17, ...,  14, -15,  -8], dtype=int16), array([-8, -8, -8, ...,  6,  7,  4], dtype=int16), array([-112,  115,  -47, ...,   23,   17,  -24], dtype=int16), array([ 42,  28,  13, ...,  40,  23, -15], dtype=int16), array([  8,  14,  23, ...,  -6,  -7, -15], dtype=int16), array([-64,  44,  71, ...,  53,  19,  26], dtype=int16), array([-81,   0,  42, ..., -17, -11, -13], dtype=int16), array([-1,  0, -1, ...,  4,  0, -5], dtype=int16), array([109, 242, 149, ..., -54,   2,  44], dtype=int16), array([-2, -2,  0, ..., 42, 39, 38], dtype=int16), array([ 79,  47, -30, ...,  -8,  -9,  -2], dtype=int16), array([ 4,  2,  0, ..., -1,  0, -4], dtype=int16), array([ -8, -12,  15, ..., -48, -45, -42], dtype=int16), array([ -13, -100,  -82, ...,   10,   23,   24], dtype=int16), array([ -5,   0,  -3, ..., -10, -48,   3], dtype=int16), array([13, 18, 13, ..., 41, 27, 35], dtype=int16), array([80, 78, 62, ..., -6,  2,  5], dtype=int16), array([-20, -31, -30, ...,  -7, -16, -20], dtype=int16), array([ -2,   2,   0, ..., -16, -14,  -9], dtype=int16), array([ 28,  19,  25, ..., -40,  -7, -33], dtype=int16), array([ 3, 10, 10, ..., 15,  9, 22], dtype=int16), array([ -7, -10, -15, ...,  45,  38,  29], dtype=int16), array([-29, -30, -54, ..., -17,  -9,  -8], dtype=int16), array([-29, -31, -28, ...,  25,  39,  50], dtype=int16), array([ 17,  19,  24, ..., -55, -70, -87], dtype=int16), array([-45, -43, -39, ...,  41,  51,  55], dtype=int16), array([-137,   64,   49, ...,    0,   12,  -29], dtype=int16), array([-12,  -9,  -4, ...,  25,  15,  36], dtype=int16), array([  4,   1,  -1, ...,   0, -21, -26], dtype=int16), array([ 3,  1, -4, ...,  0,  6,  9], dtype=int16), array([-31, -18,  -5, ...,  16,  15,   9], dtype=int16), array([-9, -9, -4, ..., 23, 19,  8], dtype=int16), array([-85,  48,  93, ..., -20, -25, -22], dtype=int16), array([-26, -24, -21, ...,  -2,  -4,   1], dtype=int16), array([  0,  -2,   0, ..., -12, -18, -24], dtype=int16), array([  5,   3,   9, ..., -27, -33, -41], dtype=int16), array([ 27,  22, -32, ...,  42,  40,  39], dtype=int16), array([  1,   5,   9, ..., -18, -35, -37], dtype=int16), array([   6,  -96, -189, ...,    1,   -1,   -1], dtype=int16), array([13, 14, 10, ..., -1, -1, -6], dtype=int16), array([14,  0, -8, ..., 30, 35, 30], dtype=int16), array([  7,   2,   6, ..., -13,  -5,  -1], dtype=int16), array([ -1,   7, -13, ..., -50, -39, -37], dtype=int16), array([-66,  18,  67, ...,   0,   4,   0], dtype=int16), array([ 2,  1,  5, ..., 22, 18, -9], dtype=int16), array([   3,    3,    1, ...,  164, -155,  -91], dtype=int16), array([ -2,  -6, -12, ..., -26,  43,  45], dtype=int16), array([43, 45, 44, ..., 20, 17,  6], dtype=int16), array([-26, -25,  27, ...,   3,   3,  -2], dtype=int16), array([ 22,  23,  20, ...,  -2, -20,   6], dtype=int16), array([10,  4,  2, ..., 24, 21, 18], dtype=int16), array([ 34,  34,  38, ...,   0,  -1, -10], dtype=int16), array([ -32, -167,  -30, ...,   13,   77,  141], dtype=int16), array([ 28,  27,  26, ..., -15, -18, -21], dtype=int16), array([101, 132,  23, ..., -11, -24, -34], dtype=int16), array([-20, -22, -18, ..., -12, -15, -15], dtype=int16), array([-15, -10,  -6, ...,  17,  15,   8], dtype=int16), array([-51, -47, -42, ...,   1,  10,  20], dtype=int16), array([37, 34, 34, ..., 16, 22, 25], dtype=int16), array([-28, -28, -26, ...,  13,  26,  27], dtype=int16), array([14, 14, 10, ...,  0,  8, 13], dtype=int16), array([18, 75, 19, ..., 20, 14,  4], dtype=int16), array([-5, -3, -2, ..., 48, 33, 17], dtype=int16), array([7, 6, 4, ..., 9, 6, 8], dtype=int16), array([14, 21, 19, ...,  4, 19, 13], dtype=int16), array([ 47, 119, 197, ...,  -5,  -2,   0], dtype=int16), array([261, 252,  51, ..., -12, -14, -18], dtype=int16), array([ 14,  13, -24, ...,   6,   2, -10], dtype=int16), array([-10, -34, -53, ...,  18,   8, -34], dtype=int16), array([ -9, -13,  -9, ..., -11,  -2,   6], dtype=int16), array([ 0, -1,  1, ..., 67, 71, 64], dtype=int16), array([-15, -21, -11, ..., -16, -10,  -7], dtype=int16), array([-13, -12, -10, ...,  -4,  -8, -13], dtype=int16), array([-22,   2,  -1, ...,   0,   1,  10], dtype=int16), array([-44,  42,   4, ...,   4,  -3,   0], dtype=int16), array([-1, -4, -4, ..., 60, 42, 19], dtype=int16), array([128,  65, -45, ...,  24,  23,  26], dtype=int16), array([-23, -13,  -9, ..., -19, -17, -23], dtype=int16), array([6, 7, 0, ..., 3, 2, 0], dtype=int16), array([-38, -33, -41, ...,   6,  -4,  -1], dtype=int16), array([  3,  10,   2, ..., -19, -11,  12], dtype=int16), array([ 30,   9, -13, ...,  10,   4,   4], dtype=int16), array([  2,   2,  -5, ...,  -8, -55, -54], dtype=int16), array([ 5,  9,  1, ..., 13,  3,  3], dtype=int16), array([-31, -30, -32, ...,  -3,  -3,  -6], dtype=int16), array([ 86,  58,  31, ...,  -4, -10,  -6], dtype=int16), array([ 298, -112, -386, ...,  -43,  -43,  -53], dtype=int16), array([  8,   6,   6, ..., -80, -49, -11], dtype=int16), array([-17, -17, -15, ...,  27,  26,   3], dtype=int16), array([-33,  52, 131, ..., -34, -44, -34], dtype=int16), array([ 0,  0, -3, ..., -4, -4, -4], dtype=int16), array([ 44,  40,  45, ..., -30, -37, -44], dtype=int16), array([-57, -36, -77, ...,   4,   2,  13], dtype=int16), array([-255, -133, -133, ...,   92,   80,   59], dtype=int16), array([-325, -166,    2, ...,   15,   19,   17], dtype=int16), array([-14, -12,  -7, ..., -30, -39, -39], dtype=int16), array([1, 2, 3, ..., 3, 2, 7], dtype=int16), array([17, 14, 11, ..., -8,  0,  5], dtype=int16), array([101,  12,  33, ..., -26, -21, -10], dtype=int16), array([ -95, -203, -212, ...,   -7,   -2,    1], dtype=int16), array([ 52, 176, -46, ...,  -7,  13,  38], dtype=int16), array([  6,   6,   0, ..., -18,   9,   8], dtype=int16), array([-2, -2, -1, ...,  5, 29, 48], dtype=int16), array([  0,   0,   1, ..., -26, -23, -17], dtype=int16), array([-134,  -20, -103, ...,   22,   28,   27], dtype=int16), array([-34,  -8,   0, ..., -15,  -5,  -6], dtype=int16), array([-3,  0, -2, ..., 11, 16, 23], dtype=int16), array([  4,   6,   9, ..., -26, -34, -39], dtype=int16), array([ 4,  0, -2, ...,  3, -1, -1], dtype=int16), array([21, 30, 24, ..., 16, 16,  0], dtype=int16), array([ -91, -490,  841, ...,  -99, -105,   -6], dtype=int16), array([ 99, 164, 288, ...,  -4,  -1,   6], dtype=int16), array([ 21,  13,  10, ...,  -5,  -6, -13], dtype=int16), array([ 12,  10,  14, ...,  12, -15,   2], dtype=int16), array([-13, -10, -11, ...,  22,  43,  36], dtype=int16), array([-5, -4, -5, ..., 36, 31, 32], dtype=int16), array([ 6,  5,  3, ..., 23, 52, 25], dtype=int16), array([  84,   28, -127, ...,   19,   -5,   20], dtype=int16), array([  1,   0,   0, ...,   0, -10, -26], dtype=int16), array([-1, 12, 20, ..., 27, 18, 20], dtype=int16), array([ 10,  11,  11, ...,  28,  -2, -11], dtype=int16), array([ 1,  4,  6, ..., 11, 15,  8], dtype=int16), array([ 14,  20,  23, ...,  17,  16, -12], dtype=int16), array([ -20, -127,  -62, ...,  -30,  -24,  -18], dtype=int16), array([ -8, -11, -10, ...,  22,  11,  13], dtype=int16), array([121, 128,  -8, ..., -39, -37, -32], dtype=int16), array([-19, -16, -17, ...,  20,  19,  17], dtype=int16), array([-243, -292, -104, ...,   -6,  -10,   -6], dtype=int16), array([ -2,  -5,   0, ...,   0,  -9, -12], dtype=int16), array([  28,  -88, -139, ...,   30,   35,   33], dtype=int16), array([ 21,  31,  33, ..., -16, -16, -16], dtype=int16), array([68, 75, 78, ..., -3,  4,  4], dtype=int16), array([-164,   99,  114, ...,    0,   -3,   -2], dtype=int16), array([  5,   6,   4, ..., -18, -25, -30], dtype=int16), array([-71, -98, -91, ...,   0,  -7,  -5], dtype=int16), array([  36,  108,   89, ...,  -43,  -94, -118], dtype=int16), array([-44, -40, -36, ...,  -4, -38, -39], dtype=int16), array([-154, -298, -298, ...,    0,    0,    6], dtype=int16), array([25, 23, 26, ..., 14,  7,  5], dtype=int16), array([ -6, 108, 194, ..., -19,   0,   0], dtype=int16), array([-17,  -8, -10, ...,  21,  12,  13], dtype=int16), array([ 16,   7,   0, ...,  -4,  -1, -15], dtype=int16), array([ -7,  -3,   0, ..., -20, -30, -46], dtype=int16), array([ 10, 201, 211, ...,  -1,  30,  12], dtype=int16), array([29, 23, 17, ..., 33, 43, 43], dtype=int16), array([-2, -1, 15, ...,  6,  3, -1], dtype=int16), array([-30, -30, -27, ...,  17,   4,  -2], dtype=int16), array([-34, 116, 189, ...,   2,  -5,  10], dtype=int16), array([  7,   4,   2, ..., -31, -41, -59], dtype=int16), array([  5,   6,  11, ..., -18, -13, -15], dtype=int16), array([  4,   2,   0, ...,   1,  -6, -11], dtype=int16), array([ -7,  -9,  -5, ..., -20, -22, -33], dtype=int16), array([ 28,  30,  31, ..., -21, -12, -11], dtype=int16), array([14,  6, 31, ..., 22, 29, 48], dtype=int16), array([ 3,  6,  6, ..., 31, 15, 14], dtype=int16), array([ 14,  25,  24, ...,  -2, -16, -34], dtype=int16), array([-13, -17, -16, ..., -43, -39, -34], dtype=int16), array([-62,  11,   9, ...,  -2,  -6, -14], dtype=int16), array([102,  68, 153, ...,  25,  20,  -5], dtype=int16), array([ 65, -19, -75, ...,  38,  42,  40], dtype=int16), array([-507,  126,  461, ...,   58,    2,    4], dtype=int16), array([  46, -115, -180, ...,    0,    8,   10], dtype=int16), array([ 2,  1,  5, ..., 16, 13,  2], dtype=int16), array([ 10,   5,  -3, ..., -12, -18, -18], dtype=int16), array([  7,   5,  -6, ...,  -8, -19,  -8], dtype=int16), array([  1, -73, -34, ..., -56,  -3,  11], dtype=int16), array([  8,   3,   3, ..., -15,  -3,   0], dtype=int16), array([26, 26, 26, ...,  0, 15, 20], dtype=int16), array([-178, -201,  -47, ...,   35,   29,   27], dtype=int16), array([ 11,  11,  12, ..., -11, -14, -17], dtype=int16), array([ 225,  332, -104, ...,    6,    5,    4], dtype=int16), array([  8,  10,   7, ...,  -7,   3, -12], dtype=int16), array([-11, -12,   3, ...,   6,  17,  -3], dtype=int16), array([14,  4, 12, ...,  8, 18, 17], dtype=int16), array([13,  9, 10, ...,  8,  2,  5], dtype=int16), array([ 0,  2,  2, ..., -4, -9, -4], dtype=int16), array([  17, -130, -201, ...,   -7,   -1,    0], dtype=int16), array([-18, -41, -48, ..., -17, -14,  -6], dtype=int16), array([ 338,   54, -229, ...,  -33,  -39,  -33], dtype=int16), array([ 39,  41,  39, ..., -16, -19, -10], dtype=int16), array([ 29,  30, -10, ...,  -8,  -6, -14], dtype=int16), array([-91, -88,  25, ...,  27,  21,  28], dtype=int16), array([ 1,  0,  1, ..., -5,  1,  8], dtype=int16), array([ -8,  -9, -13, ...,   7,   9,   1], dtype=int16), array([-111, -147,  -65, ...,   50,   23,   -2], dtype=int16), array([ -8, -10, -13, ..., -15, -12, -12], dtype=int16), array([ 39,  30,  28, ..., -17, -29, -27], dtype=int16), array([-20, -28, -22, ...,  -8,   1,   0], dtype=int16), array([-287, -437, -443, ...,   -6,   -9,   -4], dtype=int16), array([-14, -11, -10, ...,  -1,  -3,   7], dtype=int16), array([-18, -23, -22, ..., -18, -22, -19], dtype=int16), array([ 2,  2,  4, ..., 51, 48, 56], dtype=int16), array([ 3, 12,  6, ..., 17, 13, 18], dtype=int16), array([22, 26, 19, ...,  9,  7, 11], dtype=int16), array([ 11,   0, -16, ..., -22, -18, -24], dtype=int16), array([18, 25, 24, ..., 40, 34, 25], dtype=int16), array([ -6, -98,  57, ...,   5,   3,   2], dtype=int16), array([-21,  -5,   8, ...,  19,  11,   7], dtype=int16), array([-113,  -56,  -46, ...,  -10,   -2,    6], dtype=int16), array([-2, -1, -4, ..., 11, 13,  7], dtype=int16), array([-24, -21, -28, ..., -38, -30, -28], dtype=int16), array([37, 42, 38, ..., -8, -4,  0], dtype=int16), array([  18,   17,   20, ..., -120, -101,  -60], dtype=int16), array([ 55, -85, 105, ...,  17,  24,  23], dtype=int16), array([-3,  3, -2, ...,  2,  5,  6], dtype=int16), array([ 34,  25, -52, ...,   6,  13,   0], dtype=int16), array([ 13,  15,   9, ..., -27, -25, -22], dtype=int16), array([ -5,  -3,  -6, ..., -38, -38, -29], dtype=int16), array([ -1,  -7,  -6, ..., -28, -16, -11], dtype=int16), array([  0,  -9, -14, ...,  32,  56,  63], dtype=int16), array([15, 12, 12, ..., 30, 31, 31], dtype=int16), array([-83, -69, -51, ...,  18,   8,   7], dtype=int16), array([-20, -29, -21, ...,  11,  16,  14], dtype=int16), array([  3,   2,   2, ...,   6, -11,   2], dtype=int16), array([-4, -1, -1, ..., 54, 63, 31], dtype=int16), array([-6, -5, -9, ..., -3,  0, -8], dtype=int16), array([-38,  23,  40, ...,   3,   6,  10], dtype=int16), array([-19, -19, -13, ...,   1,   0, -19], dtype=int16), array([ 27,  30,  29, ..., -28, -19,  40], dtype=int16), array([-129,  -37,   35, ...,   69,   52,  -10], dtype=int16), array([-201, -229, -254, ...,   36,    1,    1], dtype=int16), array([13, 11, 19, ..., -2,  2,  5], dtype=int16), array([  8,   6,  12, ..., -30, -30, -36], dtype=int16), array([  7,   6,   5, ..., -62, -43,   1], dtype=int16), array([-90, -28, -74, ..., -19, -27, -39], dtype=int16), array([31, 26, 23, ..., 78, 63, 37], dtype=int16), array([ 32, -58, -57, ...,  17,  30,  12], dtype=int16), array([160, 116,  46, ...,   2,  17,  21], dtype=int16), array([-132, -138, -106, ...,   30,   24,   24], dtype=int16), array([-1, -6, -9, ..., -3,  2,  0], dtype=int16), array([ 18,  53, -74, ...,   1,   2,   5], dtype=int16), array([-25, -28, -32, ...,  40,  57,  33], dtype=int16), array([139, 141, 138, ...,  -5, -15, -11], dtype=int16), array([ 5,  9,  5, ..., 27, 29, 26], dtype=int16), array([-22, -27, -23, ...,  40,  17,  57], dtype=int16), array([18, 22, 26, ..., 18, 26, 29], dtype=int16), array([-104,    4,  163, ...,   -2,    5,   13], dtype=int16), array([-15,  -1,  14, ..., -12, -16,  -7], dtype=int16), array([ -6,  -6,  -9, ..., -15,  11, -17], dtype=int16), array([ 226,  -20, -246, ...,  -28,  -29,  -27], dtype=int16), array([-3,  0, -3, ...,  0,  0,  5], dtype=int16), array([-7, -9, -7, ..., 24, 18, 16], dtype=int16), array([ 9,  8,  5, ..., 11, 12,  6], dtype=int16), array([-138,   42, -114, ...,   -4,    0,    0], dtype=int16), array([22, 20, 12, ..., 49, 22, 39], dtype=int16), array([ 25,  24,  21, ..., -35, -25, -18], dtype=int16), array([ 30,  23, -58, ...,  -3,  35,   8], dtype=int16), array([118, 113, -71, ...,   5,   1,   9], dtype=int16), array([-126, -121,   54, ...,  -22,  -12,   -8], dtype=int16), array([ 13,  13,  11, ...,  -6, -12,  -5], dtype=int16), array([ 3,  6,  3, ..., -6,  4,  0], dtype=int16), array([ 20, 113, 187, ..., -19, -13, -15], dtype=int16), array([-13, -21, -21, ...,   3,   0,  -3], dtype=int16), array([-160,  -84,   -8, ...,    6,    5,    9], dtype=int16), array([-13,  -5,   0, ..., -14, -11, -17], dtype=int16), array([ -2,  -1,   0, ..., -30, -57, -59], dtype=int16), array([ 17,  83,  14, ..., -21,  32,  61], dtype=int16), array([29, 36, 22, ..., 25, 22, 12], dtype=int16), array([ 24,  16,   7, ..., -25, -22, -26], dtype=int16), array([ -5, -13,  -5, ...,   8,  12,   8], dtype=int16), array([ 10,  15,  10, ...,  -6, -27, -37], dtype=int16), array([ 32, -22, -66, ..., -22, -19, -25], dtype=int16), array([19, 20, 23, ...,  0,  3,  3], dtype=int16), array([ 6,  9,  9, ..., 33, 27, 27], dtype=int16), array([ 3,  5, 10, ..., -3, -6, -9], dtype=int16), array([-28, -22, -21, ...,  21,  26,  29], dtype=int16), array([ -1,  -2,  -2, ..., -32, -12, -27], dtype=int16), array([-15,  -9, -16, ...,   2,   8,  17], dtype=int16), array([ 21,   6,   2, ..., -13, -16,  -5], dtype=int16), array([ -67, -163, -181, ...,   15,   33,   47], dtype=int16), array([-12, -14, -13, ..., -22, -18, -20], dtype=int16), array([22,  8,  0, ...,  8, 15, 14], dtype=int16), array([  4,   6,  12, ..., -13,  10,  22], dtype=int16), array([118, 141,  80, ..., -35, -29, -26], dtype=int16), array([ 12,   0, -20, ..., -34, -30, -26], dtype=int16), array([  67, -221,   58, ...,  139,  112,   91], dtype=int16), array([17, 10, 21, ..., 25, 23, 27], dtype=int16), array([107, 348, 242, ...,  33,  39,  33], dtype=int16), array([ -8,  -8,  -9, ..., -16,  13,  35], dtype=int16), array([-31, -38, -38, ...,   5,  18,  26], dtype=int16), array([52, 42, 87, ..., 35, 36, 33], dtype=int16), array([ 725, -195, -166, ...,   11,   16,    4], dtype=int16), array([ -3, 140, 175, ...,   7,   6,   2], dtype=int16), array([ 5,  2,  0, ..., 50, 47, 30], dtype=int16), array([-18, -15, -11, ...,   9,   7,  15], dtype=int16), array([-50,  50,  37, ..., -52, -63, -17], dtype=int16), array([ -55, -108, -137, ...,  -15,  -15,  -15], dtype=int16), array([-13, -20, -16, ...,  26, -33, -81], dtype=int16), array([ 13, -23,  41, ...,  -6,  12,  38], dtype=int16), array([ 0,  0, -1, ..., -5,  0,  0], dtype=int16), array([ -2,  -6,   0, ..., -70, -67, -44], dtype=int16), array([ 84,  51, -65, ...,  13,  36,  35], dtype=int16), array([ 3,  7, 11, ..., 13, -8, -7], dtype=int16), array([-227,  -53,   13, ...,   -7,  -17,  -22], dtype=int16), array([-90, -97, -98, ..., -12, -31, -10], dtype=int16), array([ 8,  4,  1, ..., 13, 16, 14], dtype=int16), array([ 255,  234,   55, ...,   23, -193,   73], dtype=int16), array([  0,  -6,   0, ...,  42,  -7, -21], dtype=int16), array([-6, -6, -9, ..., 15, 15, 15], dtype=int16), array([-317, -137,  123, ...,   -3,    4,   22], dtype=int16), array([-30, -32, -43, ...,   1,   7,   6], dtype=int16), array([106, 176, 136, ...,  -2,   0,   2], dtype=int16), array([111,  72, -15, ..., -38, -30, -32], dtype=int16), array([  33,  -48, -107, ...,  -33,  -29,  -27], dtype=int16), array([ 1,  2,  1, ..., -6, -1,  1], dtype=int16), array([15, 21, 21, ...,  0,  3, -5], dtype=int16), array([  3,   7,   9, ..., -17,  -3,  -1], dtype=int16), array([ 25,  27,  29, ..., -11, -17, -28], dtype=int16), array([ -5,  -5,  -6, ..., -15, -15,  -8], dtype=int16), array([19, 19, 26, ..., 18, 23, 30], dtype=int16), array([ 98,  58, -37, ...,  -2,   1,   4], dtype=int16), array([11,  7,  3, ...,  9, 13,  8], dtype=int16), array([15, 13, 10, ...,  3, 15,  8], dtype=int16), array([ 37, -19, -38, ..., -15, -28, -22], dtype=int16), array([ -62, -257, -122, ...,  -49,  -43,  -44], dtype=int16), array([ -27,  -74, -143, ...,    5,    6,   15], dtype=int16), array([  29, -124, -151, ...,   29,   48,   86], dtype=int16), array([-28,  50,  84, ..., -32, -41, -64], dtype=int16), array([24, 24, 18, ...,  0,  8, 10], dtype=int16), array([-9, -6, -3, ...,  4,  7, 13], dtype=int16), array([-15, -14, -14, ...,   8,  12,  14], dtype=int16), array([12, 14, 11, ..., 17, 11, 21], dtype=int16), array([-6, -5, -1, ..., 21, 15, 14], dtype=int16), array([  91,  -61, -253, ...,   -7,  -16,  -21], dtype=int16), array([-129,  -32,  -82, ...,   30,   35,   36], dtype=int16), array([-1,  1,  1, ..., 10,  3,  7], dtype=int16), array([-6, -8, -5, ..., -4,  0,  1], dtype=int16), array([ 16,  14,  10, ..., -11,  -6,  -6], dtype=int16), array([144, 298, 232, ..., -14, -12,   5], dtype=int16), array([-19, -19, -21, ...,   6,   8,  13], dtype=int16), array([  22, -134,  148, ...,   -1,   -8,  -14], dtype=int16), array([ 38,  20,  -6, ..., -15, -12, -20], dtype=int16), array([-4, -6, -6, ..., 16,  8,  1], dtype=int16), array([  4,   1,   1, ...,  15, 114, -74], dtype=int16), array([-487, -382, -160, ...,  -15,   21,   23], dtype=int16), array([127, 291, 427, ..., -10,  14,  36], dtype=int16), array([21, 30, 33, ..., 25, 26, 19], dtype=int16), array([ 6,  3,  1, ..., 36, 31, 30], dtype=int16), array([ 100, -163, -181, ...,   -6,  -20,  -25], dtype=int16), array([-32, -34, -32, ...,  31,  29,  29], dtype=int16), array([ 92, -13, -41, ...,  29,  11,  -1], dtype=int16), array([ 0,  0,  0, ..., -5, -3,  1], dtype=int16), array([11, 11, 12, ...,  8, 11, 15], dtype=int16), array([ -5,   8, -28, ..., -16, -35, -13], dtype=int16), array([25, 34, 67, ...,  6, 12, 13], dtype=int16), array([70, 61, 39, ...,  7,  9, 11], dtype=int16), array([ 7, 14, 20, ..., 16, 11, 40], dtype=int16), array([13,  2,  0, ...,  0, 12, 21], dtype=int16), array([ -9, -10,  -3, ..., -19, -30, -27], dtype=int16), array([13, 22, 23, ..., 27, 20,  9], dtype=int16), array([-145,   93,  -75, ...,   29,   31,   35], dtype=int16), array([147, 147, 149, ...,   0,   3,   5], dtype=int16), array([-10,  -7,  -9, ...,  21,  20,  10], dtype=int16), array([-15,  -5,   2, ...,   9,  13,  30], dtype=int16), array([-48, -40, -23, ..., -15, -11,  -2], dtype=int16), array([13, 11, 13, ...,  7,  5,  4], dtype=int16), array([-92,  22, 130, ..., -29, -32, -36], dtype=int16), array([14, 14, 16, ..., 32, 30, 23], dtype=int16), array([ 7,  5,  2, ..., 28, 87, 85], dtype=int16), array([ 14, -25, 104, ..., -44,  28,  27], dtype=int16), array([374, 402, 422, ...,  18,   4,  -8], dtype=int16), array([ 9, 12, 13, ...,  7, 17, 15], dtype=int16), array([-12, -13, -11, ..., -13, -30,  -3], dtype=int16), array([11,  7, 14, ..., 18, 10,  0], dtype=int16), array([ 27,  23,  30, ..., -22, -17, -26], dtype=int16), array([  4,  12,  11, ...,  -7,  -8, -17], dtype=int16), array([ -3,  -5,  -2, ...,  -5, -10,  -9], dtype=int16), array([ -9,  -6,  -7, ..., -18,  11,  21], dtype=int16), array([ 11,   9,   7, ..., -36,   0,  34], dtype=int16), array([ 5,  4,  5, ..., 12,  1, 16], dtype=int16), array([-65, -82, -85, ...,  20,  16,  11], dtype=int16), array([-11, -32,   4, ..., -48, -32, -25], dtype=int16), array([ -2,   5,  10, ..., -15, -14, -18], dtype=int16), array([28, 33, 31, ..., 18, 20, 15], dtype=int16), array([  4,   7,   9, ...,  -4,  -3, -11], dtype=int16), array([-157,  -14,  130, ...,   -4,   -3,   -3], dtype=int16), array([-12, -18, -12, ...,  19,  13,   3], dtype=int16), array([ -1,   0,  11, ..., -29,  14, -31], dtype=int16), array([-290,  209,  -32, ...,  -35,  -36,  -35], dtype=int16), array([-10,  -5,   0, ..., -40, -29, -26], dtype=int16), array([ 3,  1,  1, ..., -8,  2,  0], dtype=int16), array([ 1, -3, -2, ..., 30, 63, 89], dtype=int16), array([ -7, -10, -11, ...,  26,  25,  18], dtype=int16), array([-84, -87, -19, ...,   3,  20,  16], dtype=int16), array([114,  61,  24, ...,  -2,   0,  -8], dtype=int16), array([-34, -39, -42, ..., -24, -26, -34], dtype=int16), array([ 28, 115,  -4, ...,   8,  -2,   7], dtype=int16), array([  1,   4,   8, ..., -12, -14, -11], dtype=int16), array([-23,  68, 101, ...,  -5,   2,   2], dtype=int16), array([  9,   7,  11, ..., -31, -27, -26], dtype=int16), array([ 36,  29,  24, ..., -36, -29, -30], dtype=int16), array([-25, -17, -17, ...,  43,  21,  66], dtype=int16), array([14, 15, 19, ...,  5,  3, 11], dtype=int16), array([ 21,  19,  20, ...,  -8, -16,  -1], dtype=int16), array([ 1,  0, -1, ..., -5, -2, -7], dtype=int16), array([ 2,  3,  1, ..., 48, 49, 42], dtype=int16), array([ -67, -200, -258, ...,   -3,   -4,   -8], dtype=int16), array([ 63,  70, -40, ...,  -5, -10,  -5], dtype=int16), array([42, 43, 38, ..., 41, 44, 46], dtype=int16), array([39, 28, 30, ...,  4, -3, -3], dtype=int16), array([-10, -18, -23, ..., -14, -13, -15], dtype=int16), array([-5, -6, -3, ...,  0,  6,  6], dtype=int16), array([ 23,  14,  12, ..., -38, -30, -31], dtype=int16), array([  0,   2,   1, ..., -38, -33, -28], dtype=int16), array([11,  5, 12, ..., 27, 21, 17], dtype=int16), array([  0,   0,  -2, ..., -35, -31, -33], dtype=int16), array([-12, -15, -11, ...,  11,  14,  14], dtype=int16), array([ 20,  17,  10, ..., -48, -59, -58], dtype=int16), array([ -2, -50,  51, ...,  -5,  -7,  -5], dtype=int16), array([   6,    2,    2, ...,    5,  -32, -109], dtype=int16), array([  4,   5,   5, ..., -97, -96, -62], dtype=int16), array([-10,  -8, -11, ..., -22, -13, -14], dtype=int16), array([ 1,  0,  0, ...,  6, 10, 21], dtype=int16), array([ 114,    2, -115, ...,   27,   30,   31], dtype=int16), array([  0,   0,   0, ..., -15,  -2,   3], dtype=int16), array([-15, -13, -17, ..., -48, -42, -39], dtype=int16), array([-11,  -5,   3, ...,  55,  55,  55], dtype=int16), array([16, 22, 23, ..., 78, 49,  7], dtype=int16), array([ -7,  -7,  -6, ..., -10, -20, -38], dtype=int16), array([ -3, -15, -25, ...,  32,  33,  38], dtype=int16), array([14, 16, 11, ..., 25, 43, 30], dtype=int16), array([-11, -11,  -9, ...,  23,  41,  36], dtype=int16), array([  3,   3,   9, ..., -28, -24, -32], dtype=int16), array([-11,  -8,  -6, ..., -38, -41, -44], dtype=int16), array([ 3, -2,  6, ...,  9,  8,  9], dtype=int16), array([ -9,  -5, -10, ...,  -1,   2,   0], dtype=int16), array([ -2,   5,   8, ...,   2,  -6, -11], dtype=int16), array([ 93, 209, 231, ...,   7,   4,   4], dtype=int16), array([-22, -13, -17, ...,  -7, -10,  -9], dtype=int16), array([-27, -26, -26, ...,   1,  -1,  -8], dtype=int16), array([-49,  35, -62, ...,  36,  31,  25], dtype=int16), array([-12, -12, -10, ..., -14, -10, -11], dtype=int16), array([ 30,  28,  24, ..., -22, -25, -21], dtype=int16), array([  6,  19,  29, ..., -15, -21, -28], dtype=int16), array([39, 34, 30, ..., 42, 22, 28], dtype=int16), array([-22, -30, -42, ..., -35, -10,  40], dtype=int16), array([  8, -20,  10, ...,  32,  42,  41], dtype=int16), array([  1,   0,   2, ..., -16, -33, -29], dtype=int16), array([-16,  61, 157, ..., -12,  -9,  -5], dtype=int16), array([-35, -31, -31, ...,  37,  27,  20], dtype=int16), array([ -8,   0,   3, ..., -31,  -5,  29], dtype=int16), array([-15, -13, -14, ..., -14, -11, -14], dtype=int16), array([ 31,  25,  24, ...,  28, -27,  18], dtype=int16), array([  6,   1,  -1, ...,  -5,  -2, -11], dtype=int16), array([  3,   4,   3, ..., -24, -12, -17], dtype=int16), array([13,  9, 13, ...,  4, 17, 22], dtype=int16), array([ 15,  12,  10, ..., -20, -19, -17], dtype=int16), array([14, 16, 17, ..., -3, -2, -1], dtype=int16), array([-6, -4,  0, ..., 21, 15,  8], dtype=int16), array([14, 13, 16, ..., 52, 40, 27], dtype=int16), array([ -5, -11, -11, ...,   9,   1,   1], dtype=int16), array([ 10,   1,  -1, ...,  35, -24,  32], dtype=int16), array([ -5,  -3,  -4, ..., -28, -38, -23], dtype=int16), array([-2, -2, -1, ..., 12, 13, -5], dtype=int16), array([-12, -10, -13, ..., -12,  -6,   0], dtype=int16), array([ 15,  17,   6, ..., -14,  -7, -11], dtype=int16), array([-17, -17, -18, ..., -27, -34, -48], dtype=int16), array([ 133, -244,  110, ...,   -7,  -16,  -30], dtype=int16), array([-9, -6, -6, ..., 38, 35, 33], dtype=int16), array([-13,  -1,  -7, ..., -17, -11, -13], dtype=int16), array([ 6, 44, 48, ..., -9,  0,  1], dtype=int16), array([  4,   3,   1, ...,  -2, -10,  -4], dtype=int16), array([  2,   6,   8, ..., -25, -28, -18], dtype=int16), array([-2,  1, -1, ..., 13,  8,  1], dtype=int16), array([-110, -205,  -38, ...,  -49,  -56,  -54], dtype=int16), array([-21, -15, -14, ...,   1,  11,  11], dtype=int16), array([ -7,   0,   0, ...,  -7, -10, -14], dtype=int16), array([-277, -274, -252, ...,    6,   -1,   -3], dtype=int16), array([ 71,  82,  10, ..., -24, -28, -28], dtype=int16), array([ 2,  4,  2, ..., 12, 18,  3], dtype=int16), array([ -1,  -3,  -4, ...,   0, -17,  -8], dtype=int16), array([5, 0, 0, ..., 9, 8, 6], dtype=int16), array([ -1,  -4,  -3, ..., -28, -29, -25], dtype=int16), array([-27, -14,  54, ..., -14, -21, -32], dtype=int16), array([-42,  46, 147, ...,  10,  13,  21], dtype=int16), array([-9, -7, -5, ...,  0, -1, -6], dtype=int16), array([  6, -31,  -4, ...,  15,   8,  10], dtype=int16), array([  4,   2,   3, ..., -20, -16, -15], dtype=int16), array([ -9,  -5,  -3, ..., -23, -22, -19], dtype=int16), array([  1,   1,   0, ..., -21, -12,  -5], dtype=int16), array([  1,  -1,  -2, ...,  -6,  -6, -13], dtype=int16), array([ 27,  22,  27, ...,  -4, -13, -41], dtype=int16), array([-34, -26, -37, ...,  60,  49,  20], dtype=int16), array([-13, -16, -21, ..., -64, -17,  34], dtype=int16), array([  2,   1,   5, ..., -26, -27, -19], dtype=int16), array([-16, -16, -14, ..., -21, -27, -23], dtype=int16), array([-2, -6, -8, ..., -9, -7, -4], dtype=int16), array([ -3,  -3,  -7, ..., -59, -58, -48], dtype=int16), array([-10,  -8,  -8, ..., -16, -10,  -6], dtype=int16), array([ 80, 111,  55, ..., -17, -14, -20], dtype=int16), array([-56, -65, -72, ...,  22,   3,  -5], dtype=int16), array([-14, -14, -12, ...,  31,  15,  -1], dtype=int16), array([ -6,  -3,  -4, ...,   6,  -1, -18], dtype=int16), array([ 39, -18, -36, ..., -31, -92, -50], dtype=int16), array([ -27,  -48, -101, ...,  -17,  -24,  -19], dtype=int16), array([ 28,  26,  17, ...,  -9, -21, -29], dtype=int16), array([ 5, 10,  7, ..., 46, 32, 26], dtype=int16), array([  1,   2,   8, ..., -14, -50, -11], dtype=int16), array([-11,  -5,  -6, ..., -18, -19, -28], dtype=int16), array([-15, -11,   5, ..., -11,  -8,  -4], dtype=int16), array([ -26, -104,  -94, ...,    2,   -4,   -9], dtype=int16), array([ -2,  -2,  -4, ..., -13,   1,   0], dtype=int16), array([ 2,  5,  3, ..., 32, 49, 53], dtype=int16), array([-38, -39, -28, ...,  16,  24,  10], dtype=int16), array([ 37,  41,  -7, ..., -23, -17, -21], dtype=int16), array([-4, -5, -7, ..., 42, 41, 40], dtype=int16), array([ 15,   8,   2, ..., -16, -25, -30], dtype=int16), array([ 1,  5,  2, ..., 26, 34, 39], dtype=int16), array([ -4, -10,  -3, ..., -44, -32, -29], dtype=int16), array([ 130, -481,  510, ...,    0,    0,    5], dtype=int16), array([ 15,  16,  18, ...,  -2, -13, -22], dtype=int16), array([40, 39, 57, ..., -8, -2,  2], dtype=int16), array([ 42, 100,  23, ...,  18,  19,  15], dtype=int16), array([ 8, 13,  7, ...,  1,  6,  0], dtype=int16), array([ -4, -11,  -9, ...,  17,  12,  10], dtype=int16), array([68, 31, 36, ..., -2, -4, -9], dtype=int16), array([ -1, -40,  -1, ...,  -8,   0,  -1], dtype=int16), array([ -4,  -2,  -1, ..., -42,  70,  27], dtype=int16), array([0, 6, 2, ..., 5, 0, 3], dtype=int16), array([125,  85, -34, ..., -49, -53, -49], dtype=int16), array([42, 44, 45, ..., 16,  0, 16], dtype=int16), array([18, 17, 13, ..., -1, -5, -4], dtype=int16), array([  0,   3,   0, ...,  19, -34, -54], dtype=int16), array([-14, -15, -13, ..., -17, -15,  -9], dtype=int16), array([-28, -84, 127, ...,  38,  33,  31], dtype=int16), array([12, 16, 12, ..., -2,  0,  3], dtype=int16), array([ 19,  12,  14, ..., -13, -17, -16], dtype=int16), array([   0,    0,   -5, ..., -167, -123,  -73], dtype=int16), array([ 0,  0,  1, ..., 14, 22, 12], dtype=int16), array([ 4,  1,  2, ...,  2, -2,  4], dtype=int16), array([-118,  -48,   12, ...,   39,   35,   30], dtype=int16), array([ -3,   0,   1, ..., -28,   0, -28], dtype=int16), array([ 40,  33,  27, ..., -53, -50, -53], dtype=int16), array([ 25,  18, -51, ...,   0,   2,  -2], dtype=int16), array([-44, -37, -42, ...,  -8,   8,  10], dtype=int16), array([  8,  10,   9, ...,  -2,  -5, -14], dtype=int16), array([22, 18, 21, ...,  0,  2, 13], dtype=int16), array([36, 42, 39, ...,  0, -2, -3], dtype=int16), array([-11,  52, 142, ...,  42,  36,  24], dtype=int16), array([12, 11, 11, ..., -3,  0,  2], dtype=int16), array([460, 464, 285, ...,  16,  30,  15], dtype=int16), array([ 247,  150, -161, ...,  -42,  -41,  -28], dtype=int16), array([25, 22, 17, ...,  0,  0, -4], dtype=int16), array([-24, -28, -17, ...,   2,  -5, -19], dtype=int16), array([-7, -9, -7, ...,  5,  4, 37], dtype=int16), array([  5,   5,   1, ..., -11, -11, -14], dtype=int16), array([-16, -11,  -6, ...,  17,  13,  12], dtype=int16), array([ 0,  2,  2, ..., 16, 22, 24], dtype=int16), array([28, 42, 42, ..., 14, 12, 13], dtype=int16), array([ -8, -11, -11, ...,  -4,  -1,   4], dtype=int16), array([ -5,  -6,  -2, ...,  22,  -4, -30], dtype=int16), array([ 7,  5,  1, ...,  3,  0, 15], dtype=int16), array([16, 14, 16, ..., 22, 21, 25], dtype=int16), array([-38,  16, 103, ...,  16,   6,   0], dtype=int16), array([ 4,  6,  4, ..., 18, 19, 23], dtype=int16), array([ -5, -14, -26, ..., -21, -21, -25], dtype=int16), array([ 11,  13,  10, ..., -10, -13, -18], dtype=int16), array([ -3,  -4, -10, ..., -16, -14,   4], dtype=int16), array([-40, -39, -36, ...,  38,  21, -25], dtype=int16), array([19, 24, 17, ..., 23, 27, 29], dtype=int16), array([37, 43, 50, ...,  2,  9, 14], dtype=int16), array([-104, -142,  -64, ...,  -35,  -49,  -54], dtype=int16), array([-22, -14, -21, ...,  55,  57,  47], dtype=int16), array([275, 297, 302, ...,  -1,  -7, -29], dtype=int16), array([22, 23, 17, ..., 15, 27, 25], dtype=int16), array([ -10,  -24,  -29, ...,  158,  -59, -148], dtype=int16), array([ 11,  12,   8, ..., -15, -19, -19], dtype=int16), array([-4, -4, -2, ..., 10, 10,  3], dtype=int16), array([  6,   2,   5, ..., -50, -44, -42], dtype=int16), array([  1,   1,   3, ..., -10,  -9,  -9], dtype=int16), array([  5,  10,  14, ..., -44, -52, -55], dtype=int16), array([ 44,   9, -12, ...,  42,  49,  51], dtype=int16), array([74, 58, 54, ..., 19, 18, 13], dtype=int16), array([ -5,  -6,  -3, ..., -18, -17,  -7], dtype=int16), array([-19, -21, -11, ...,   4,   2,   8], dtype=int16), array([27, 27, 29, ..., 38, 25, 25], dtype=int16), array([ 1,  0,  2, ..., 10,  9,  0], dtype=int16), array([-4, -4, -3, ..., 13, 13,  6], dtype=int16), array([-11, -13, -12, ...,  51,  46, -71], dtype=int16), array([-83,  87,  29, ...,  28,  30,  16], dtype=int16), array([  8,   5,   5, ..., -28, -22, -23], dtype=int16), array([-6,  4, 17, ..., 14,  6,  0], dtype=int16), array([ 42,  43, 107, ...,  35,  36,  44], dtype=int16), array([198, 165,  47, ...,  -5,  -6,  -4], dtype=int16), array([20, 13,  7, ..., -8, -6, -5], dtype=int16), array([ 239,  -45, -184, ...,   14,   57,  108], dtype=int16), array([25, 18, 19, ...,  3, 10, 13], dtype=int16), array([51, 58, 61, ...,  0,  3,  0], dtype=int16), array([-14, -10, -11, ...,   7,   3,   0], dtype=int16), array([12, 11, 12, ...,  4,  3,  0], dtype=int16), array([-11, 133, 113, ...,  19,  29,  30], dtype=int16), array([-102, -332, -136, ...,  -18,   -6,   -9], dtype=int16), array([-13, -16, -19, ...,  14,  15,   4], dtype=int16), array([-30, -28, -32, ..., -40, -40, -44], dtype=int16), array([14,  8,  7, ...,  0,  2,  2], dtype=int16), array([  2,   4,   8, ..., -11,  -5,   2], dtype=int16), array([-21, -18, -15, ...,  15,  15,  22], dtype=int16), array([-24, -24, -17, ..., -11, -15,  -6], dtype=int16), array([7, 8, 4, ..., 1, 3, 1], dtype=int16), array([-12,  -6,  -5, ...,  -5,  -7,   8], dtype=int16), array([ 1,  1,  4, ..., 13, 21, 23], dtype=int16), array([15, 15, 12, ..., 15, 43, 23], dtype=int16), array([ -1,  -1,  -1, ...,   0, -19, -29], dtype=int16), array([-15, -17, -18, ..., -12,  -7,  -5], dtype=int16), array([-10,  -7, -10, ...,  22,   7,   5], dtype=int16), array([ 10,   4,  -5, ..., -10, -38, -12], dtype=int16), array([-44, -39, -40, ...,   0,  -5, -13], dtype=int16), array([ 15,  -4,   0, ...,  11,  69, 109], dtype=int16), array([47, 26,  4, ..., 28, 23, 11], dtype=int16), array([19, 20, 20, ..., 13, 10, 14], dtype=int16), array([-42, -50, -51, ..., -82,  12,  -7], dtype=int16), array([ 87,  96, 122, ..., -22, -24, -28], dtype=int16), array([-19, -21, -27, ...,  21,  31,  28], dtype=int16), array([  0,   1,  -1, ..., -18, -11, -12], dtype=int16), array([48, 73, 41, ...,  2, -1, -3], dtype=int16), array([ 7, 23, 16, ..., 20, 13,  1], dtype=int16), array([53, 69, -1, ...,  8,  5,  2], dtype=int16), array([-19, -14, -11, ...,  22,  28,  40], dtype=int16), array([-35, -36,   3, ..., -40,  -1,  38], dtype=int16), array([  8,   5,   8, ..., -10,  -3,   0], dtype=int16), array([  0,   2,   0, ..., -10, -10, -18], dtype=int16), array([104, 194, 151, ..., -27, -28, -34], dtype=int16), array([ -47, -118, -197, ...,  -11,  -13,    9], dtype=int16), array([-19, -13, -23, ..., -17, -19, -20], dtype=int16), array([-18, -24, -27, ...,  26,  28,  28], dtype=int16), array([339, 258, 144, ..., -38, -38, -39], dtype=int16), array([357, 317, 257, ..., -19, -13, -16], dtype=int16), array([ 4,  4,  2, ..., 17, 14,  9], dtype=int16), array([47, 57, 64, ..., 26,  9, 50], dtype=int16), array([ 0, -6, -7, ...,  0,  0, -2], dtype=int16), array([-56,   4,   8, ...,   8,  22,  20], dtype=int16), array([-171, -271,  -80, ...,   -2,   -2,   -5], dtype=int16), array([ -6,  -6,  -2, ...,  -5, -14, -16], dtype=int16), array([-38, -16,  54, ...,   5,   0,  -5], dtype=int16), array([  3,   6, -20, ..., -30, -27, -22], dtype=int16), array([ 44, 161, 128, ...,  -6, -21, -11], dtype=int16), array([ 32,   4, -36, ..., -14, -32, -59], dtype=int16), array([-12,  -9,  -5, ...,  14,  10,  11], dtype=int16), array([ 4,  8,  4, ..., -4, -3,  0], dtype=int16), array([ -4,  -7,  -6, ..., -10,   0,   3], dtype=int16), array([  1,   8,   9, ...,   1,  -9, -13], dtype=int16), array([ -4,  -5,  -1, ..., -24,  -3,  13], dtype=int16), array([ 5,  8, 10, ...,  1,  0, -4], dtype=int16), array([-4, -5,  0, ..., 41, 40, 40], dtype=int16), array([  2,   1,  -5, ..., -17, -13, -11], dtype=int16), array([-285,  -75,  131, ...,   -1,    1,   -3], dtype=int16), array([ -3,  -3,   1, ...,  -5, -19,  23], dtype=int16), array([-29, -30, -37, ...,  20,  22,  30], dtype=int16), array([  0,   5,   5, ..., -38, -42, -31], dtype=int16), array([ 12,  30, -64, ...,  30,  30,  30], dtype=int16), array([ 7,  9, 18, ..., 13, 11, 15], dtype=int16), array([106,  10, -87, ...,  22,  20,  21], dtype=int16), array([ 39,  41,  46, ..., -81, -68, -55], dtype=int16), array([ 4,  2, -4, ..., -6, -1,  0], dtype=int16), array([ 2,  1, -1, ...,  7, 11, 11], dtype=int16), array([ -6,  -5,  -6, ..., -11, -13, -16], dtype=int16), array([18, 18, 17, ..., 49, 51, 52], dtype=int16), array([-6, -7, -4, ...,  0, 15, -9], dtype=int16), array([145,   6, -34, ...,   1,  -1,   2], dtype=int16), array([ 0,  0, -1, ..., -6, -8, -7], dtype=int16), array([ 4, 11, 11, ..., -1,  0, -4], dtype=int16), array([ 5,  3,  5, ..., 44, 23,  2], dtype=int16), array([-71,   0,  34, ...,  18,  13,   3], dtype=int16), array([ 90,  68,  93, ..., -28, -27, -14], dtype=int16), array([-18, -18, -24, ...,  54,  54,  43], dtype=int16), array([-33, -25, -24, ...,  28,  24,  24], dtype=int16), array([-48, -50, -35, ..., -21, -21, -23], dtype=int16), array([35, 10, -4, ..., 26, 26, 25], dtype=int16), array([-23, -29, -32, ...,  24,  26,  26], dtype=int16), array([-14,  -4,  -1, ...,  12,   0,  -2], dtype=int16), array([ 20,  19,  15, ..., -33, -36, -41], dtype=int16), array([ -7,  -1,  -1, ...,  -9,  -7, -12], dtype=int16), array([-130,  -76,  -38, ...,  -11,  -14,   -8], dtype=int16), array([-33, -29, -28, ..., -44, -35, -36], dtype=int16), array([15, 11,  5, ..., 12, 20,  9], dtype=int16), array([ 50,  30,  28, ..., -41, -24, -15], dtype=int16), array([-107,   26,  137, ...,   -8,   -7,  -12], dtype=int16), array([212, -50, -67, ...,   6,   5,  -1], dtype=int16), array([25, 23, 29, ..., 35, 22, 12], dtype=int16), array([ 18,  10,  13, ..., -36, -31, -26], dtype=int16), array([197, 125,  74, ...,   9,   7,   7], dtype=int16), array([  5,   7,   5, ...,  -6,   1, -33], dtype=int16), array([ 6,  7,  6, ..., -7,  0,  2], dtype=int16), array([  8,  10,  12, ..., -18, -17, -20], dtype=int16), array([-60, -21, 211, ...,   4,  -3, -14], dtype=int16), array([ -3, -22, -14, ..., -10,   0,  21], dtype=int16), array([-11,  -9,  -9, ..., -18, -10,  -6], dtype=int16), array([-190, -137,  150, ...,   16,   16,   10], dtype=int16), array([-23, -12, -18, ...,  18,  14,  23], dtype=int16), array([ -1,  -1,  -1, ...,  -8,  -4, -13], dtype=int16), array([-60, -62, -11, ..., -34, -38, -37], dtype=int16), array([-10,  -7, -12, ..., -12, -17, -21], dtype=int16), array([-62, -84, -87, ...,  -2,  -1,  11], dtype=int16), array([-29, -27, -22, ...,  54,  39,  35], dtype=int16), array([ 55,  -3, -47, ...,  -7,  -5,  -3], dtype=int16), array([-21, -22, -18, ...,   1,   2,   3], dtype=int16), array([ 14,   6,   6, ..., -46, -47, -34], dtype=int16), array([-3, -5,  0, ..., -5, -4,  2], dtype=int16), array([  1,   0,  -2, ...,   4, -56, -35], dtype=int16), array([-10, -10, -11, ...,  62,  41,  10], dtype=int16), array([-25, -33, -17, ..., -28, -23, -13], dtype=int16), array([ 18,  13,  14, ..., -36, -40,  -7], dtype=int16), array([ 17,  13, -15, ...,  23,  24,  16], dtype=int16), array([-4, -3, -3, ..., 31, 35, 35], dtype=int16), array([  0,   0,  -2, ...,  -1, -12, -24], dtype=int16), array([ 42, 248, 140, ..., -28, -20, -13], dtype=int16), array([18, 20, 19, ..., -2,  2, -5], dtype=int16), array([-24, -20, -18, ...,   2,   7,  14], dtype=int16), array([   2,    4,    2, ...,  -62,  -81, -119], dtype=int16), array([-7, -7, -7, ..., -4,  0, -7], dtype=int16), array([ 12,  10,  13, ..., -28, -27, -21], dtype=int16), array([ 1,  0, -2, ..., -2, 23, 32], dtype=int16), array([ 1,  3,  1, ..., 19, 23, 28], dtype=int16), array([-25, -26, -22, ..., -22, -19, -20], dtype=int16), array([  0,   5,   6, ..., -12, -56, -67], dtype=int16), array([ 60,  69, -48, ..., -12, -18, -17], dtype=int16), array([ 0,  3,  8, ..., 31, 33, 31], dtype=int16), array([21, 16, 12, ..., 17, 10,  8], dtype=int16), array([  86, -142,  143, ...,    3,    3,   -1], dtype=int16), array([-25, -47, -45, ...,  21,   9,  14], dtype=int16), array([4, 0, 3, ..., 5, 0, 0], dtype=int16), array([  3,   2,  -1, ...,  -4, -12,  -5], dtype=int16), array([  5,   2,   4, ...,  -3, -15, -21], dtype=int16), array([-57,   8, 113, ..., -25, -30, -27], dtype=int16), array([-60, -84, -80, ...,  33,  11,   6], dtype=int16), array([ -5, -14,  -8, ...,  48,  48,  47], dtype=int16), array([12, 16, 21, ...,  0, 10,  5], dtype=int16), array([  1,   6,   8, ..., -43, -56, -59], dtype=int16), array([ 21, -58,  -5, ...,  16,   8,   6], dtype=int16), array([-2,  3, 15, ..., 18, 15,  7], dtype=int16), array([-21, -21, -23, ...,  22,  22,  29], dtype=int16), array([-13, -12, -10, ...,  40,  30,  19], dtype=int16), array([-1,  4,  3, ..., 27, 22, 23], dtype=int16), array([45, 58, 53, ...,  6,  0, -1], dtype=int16), array([  9,   9,   4, ..., -20, -16,  14], dtype=int16), array([-10, -15, -13, ...,   0,   0,  -2], dtype=int16), array([ 0, -2, -6, ..., 18, 23, 29], dtype=int16), array([ -4,  -9,  -5, ..., -57, -67, -50], dtype=int16), array([164,  89, -47, ...,  37,  33,  33], dtype=int16), array([ 75,  25, -81, ...,  -9,  -8,  -5], dtype=int16), array([-31,  -8, -66, ...,  12,  11,   9], dtype=int16), array([-285,   -6,  177, ...,    0,    3,  -21], dtype=int16), array([149, 204, 244, ..., -22, -13, -23], dtype=int16), array([  8,   8,   9, ..., -38, -20,  -9], dtype=int16), array([ 3,  4,  7, ..., -6, -6, -7], dtype=int16), array([ -48, -135,  248, ...,  -19,   10,  -15], dtype=int16), array([-5, -4, -4, ...,  4,  2, -6], dtype=int16), array([-6, -9, -8, ..., 46, 43, 40], dtype=int16), array([-65, -64, -61, ..., -43, -49, -46], dtype=int16), array([-16,  19,  42, ..., -79, -54,   5], dtype=int16), array([13, 19, 17, ..., 11, 16, 11], dtype=int16), array([-1,  3,  6, ..., -2,  7,  5], dtype=int16), array([164, 174, 189, ..., -13, -16, -21], dtype=int16), array([ 24,  23,  28, ..., -25, -23, -29], dtype=int16), array([35, 79, 97, ...,  6, 12, 11], dtype=int16), array([-34,  -6, -49, ...,  21,  27,  30], dtype=int16), array([ 65,  76,  79, ..., -20,   8,  -9], dtype=int16), array([-23, -25, -19, ...,  19,  16,  17], dtype=int16), array([ -11,  -76, -122, ...,  -10,   -7,   -3], dtype=int16), array([ 4, 40, 59, ...,  6, 14, 10], dtype=int16), array([ -5,  -5,  -5, ...,  29,  -2, -14], dtype=int16), array([-32, -45,  -6, ...,   1,  11,   9], dtype=int16), array([ -8,  -7, -14, ...,  -6, -10,   0], dtype=int16), array([ 0,  3,  0, ..., 13, 12, 13], dtype=int16), array([39, 82, 90, ..., -9, -6,  4], dtype=int16), array([ 12,  14,  15, ...,  -7, -14, -26], dtype=int16), array([-19, -20, -19, ..., -23, -23, -16], dtype=int16), array([ -1,  -2,   5, ..., -23, -50,  43], dtype=int16), array([-129,  -85,  -46, ...,   18,   10,   -3], dtype=int16), array([-7,  2,  2, ..., -3, -3, -1], dtype=int16), array([ 35, 235, 101, ...,  -2,  -3,  -8], dtype=int16), array([  82, -131,  -50, ...,  -37,  -38,  -29], dtype=int16), array([  0,  -1,   1, ..., -20, -18, -20], dtype=int16), array([-21,  -4,  -3, ...,   5,  11,  14], dtype=int16), array([ 4,  3,  5, ..., -6,  5, -1], dtype=int16), array([ 5,  1,  2, ..., 27, 22, 22], dtype=int16), array([-2, -3,  1, ..., 39, 40, 42], dtype=int16), array([ 27,  30,  26, ..., -28,  25,  43], dtype=int16), array([-1,  2,  2, ...,  3, 12, 28], dtype=int16), array([-9, -5,  1, ..., 14, 17, 18], dtype=int16), array([ -6,  -9, -13, ..., -10,  -9, -13], dtype=int16), array([ -13,  -13,  -27, ..., -106, -103,  -90], dtype=int16), array([-116,    2,   25, ...,   11,   15,   11], dtype=int16), array([144,  99,  74, ...,  32,  25,  25], dtype=int16), array([1, 3, 0, ..., 2, 3, 2], dtype=int16), array([-134,  -16,  127, ...,   -7,   -2,   -3], dtype=int16), array([ 2,  3,  6, ..., 26, 27, 27], dtype=int16), array([  0,   0,   0, ..., -20, -24, -26], dtype=int16), array([ 0,  0, -1, ..., -9,  0,  0], dtype=int16), array([22, 15,  9, ..., -9, -1, -3], dtype=int16), array([ 0,  1,  3, ...,  0, -4,  0], dtype=int16), array([44, 18, 22, ..., 10, 12, 17], dtype=int16), array([-40, -41, -44, ...,  14,  20,  24], dtype=int16), array([  5,   4,   6, ..., -60, -28, -17], dtype=int16), array([265, 169, -14, ...,   6,  24,  -2], dtype=int16), array([-21, -21, -21, ...,  66,  72,  57], dtype=int16), array([-50, -58, -62, ...,  -4,  -8,   4], dtype=int16), array([-5, -5, -3, ..., 82, 71, 45], dtype=int16), array([-9, -7, -5, ..., 22, 28, 27], dtype=int16), array([11, 15, 12, ..., -1,  0,  4], dtype=int16), array([ 84,  21, -24, ..., -22, -21, -28], dtype=int16), array([  0,   0,   1, ..., -22, -20,   3], dtype=int16), array([ 68,  93,  86, ...,   0,  -7, -12], dtype=int16), array([-1, -3, -4, ..., -1, -7, -2], dtype=int16), array([-25, -20, -26, ...,  63,  15, -19], dtype=int16), array([  8,   7,   0, ...,  42,  -1, -41], dtype=int16), array([ -5,  -1,  -4, ..., -12, -22, -27], dtype=int16), array([-3,  0, -5, ..., 38, 30, 23], dtype=int16), array([0, 6, 5, ..., 2, 2, 9], dtype=int16), array([-3, -3, -1, ..., 22,  8, 16], dtype=int16), array([34, 39, 42, ..., 19, 27, 20], dtype=int16), array([-42, -43, -39, ...,   6,   7,  10], dtype=int16), array([ -53,  -60,  -55, ...,  -34, -105,  -80], dtype=int16), array([ -6, -11, -16, ...,  -9, -17, -22], dtype=int16), array([  0,   0,   1, ..., -22, -26, -32], dtype=int16), array([  4,   6,  -1, ..., -44, -44, -46], dtype=int16), array([ 1, -2, -2, ..., 11,  0,  6], dtype=int16), array([-4, -3,  0, ..., 14, 19, 24], dtype=int16), array([-40, -61, -63, ...,  65,  61,  62], dtype=int16), array([ -7,  -4,   1, ..., -16,  -9,  -6], dtype=int16), array([ -4,   6,  -1, ...,   2, -12, -14], dtype=int16), array([-56, -39, -60, ...,   1,   1,  -2], dtype=int16), array([-28,  -5,  19, ...,  18,  10,   0], dtype=int16), array([ 0,  1,  0, ..., 20, 15, 16], dtype=int16), array([ 6,  4,  2, ..., 11, 14,  7], dtype=int16), array([-18, -20, -19, ..., -22, -16,  11], dtype=int16), array([392, 416, 621, ...,  -8,  -5,   0], dtype=int16), array([-47, -59, -48, ...,  43,  75,  54], dtype=int16), array([  2,  -4,  -7, ..., -21, -24, -24], dtype=int16), array([ -1,  -3,   6, ..., -30, -20, -26], dtype=int16), array([ 69,   4,  14, ..., -13, -20, -10], dtype=int16), array([16,  9, 23, ..., 47, 47, 50], dtype=int16), array([-1, -2, -1, ..., 19, 21, 24], dtype=int16), array([-61, -24,   4, ...,  33,  -4, -28], dtype=int16), array([-24, -21, -21, ..., -26, -22, -19], dtype=int16), array([24, 14,  1, ..., 17,  7,  4], dtype=int16), array([ -8,  -9, -11, ...,  27,  18,  20], dtype=int16), array([20, 15, 14, ..., 26, 14,  0], dtype=int16), array([27, 32, 30, ..., 14, 29, 35], dtype=int16), array([  0,  -3,  -3, ..., -22, -22, -14], dtype=int16), array([ 11,   2,   9, ...,  -4,  -8, -13], dtype=int16), array([-94, 427, 233, ...,  29,  13,  10], dtype=int16), array([ 4,  8,  4, ..., -3,  2,  2], dtype=int16), array([ 52,  53,  42, ..., -25, -31, -35], dtype=int16), array([46, 42, 38, ..., 53, 57, 59], dtype=int16), array([  0,   0,  -2, ..., -24,  10,  21], dtype=int16), array([ 8, 20, 32, ..., -2, -7,  2], dtype=int16), array([ 240, -127,  -11, ...,    8,    1,   -2], dtype=int16), array([ -5,  -6,  -7, ..., 128, 137,  41], dtype=int16), array([  7,  10,   7, ..., -13,  -7, -12], dtype=int16), array([  7,   2,   3, ..., -11,  -7,  -4], dtype=int16), array([-18, -16, -12, ...,  38,  42,  33], dtype=int16), array([-1,  0, -1, ..., 24, -9,  0], dtype=int16), array([357, 206, 106, ..., -11, -13, -20], dtype=int16), array([-285,  -18,   48, ...,  -15,  -14,   -3], dtype=int16), array([-2,  4,  7, ..., 14,  0,  0], dtype=int16), array([-26, -46, -49, ...,  16,  24,  20], dtype=int16), array([  5,   3,   5, ..., -29, -22, -19], dtype=int16), array([ -9, -10,  -6, ...,  23,  60,  51], dtype=int16), array([  0,   3,   1, ..., -16, -12,  -8], dtype=int16), array([  3,   1,   1, ..., -19, -20, -19], dtype=int16), array([  3,   2,   5, ...,  -7, -14, -13], dtype=int16), array([  2,   1,   1, ..., -74, -66, -75], dtype=int16), array([ -1, 103, 107, ...,  31,  29,  35], dtype=int16), array([-10,  -7, -12, ...,   5,  13,  28], dtype=int16), array([  -7, -128, -163, ...,    0,  -10,    0], dtype=int16), array([-6, -6, -9, ...,  3,  3,  8], dtype=int16), array([22, 25, 18, ...,  4,  0, -9], dtype=int16), array([-283, -156,   36, ...,    0,    4,    6], dtype=int16), array([-10,  -4,  -2, ...,   2,  -2,  -5], dtype=int16), array([  6,  -3,  -1, ..., -42, -42, -43], dtype=int16), array([-28,  -6,  19, ..., -30, -31, -21], dtype=int16), array([ 3,  7,  2, ...,  2, -1,  1], dtype=int16), array([-4, -5, -3, ..., 13, 15, 11], dtype=int16), array([-4, -2, -1, ...,  2, -2,  0], dtype=int16), array([  0,  -1,  -6, ..., -14, -15, -17], dtype=int16), array([ 13,  10,   5, ..., -48, -21,  24], dtype=int16), array([ 5, -1, -4, ..., 23, 52, 70], dtype=int16), array([  1,   2,   7, ..., -13,  -6, -11], dtype=int16), array([ 88, 448, 202, ...,   8,  12, -18], dtype=int16), array([-166,  -51,  138, ...,   13,   38,   33], dtype=int16), array([-2, -3, -5, ..., -6,  0,  2], dtype=int16), array([ 4,  3,  7, ..., 14, 17,  4], dtype=int16), array([16,  7,  1, ..., -1,  4, 10], dtype=int16), array([31, 31, 33, ..., 58, 49, 46], dtype=int16), array([  4,   6,  13, ..., -36, -34, -37], dtype=int16), array([  9,   3,  15, ..., -11,  -4,  -3], dtype=int16), array([ 105, -119, -100, ...,   -7,   -8,   -3], dtype=int16), array([ -18, -131,  -14, ...,   -7,   -3,    0], dtype=int16), array([15, 12, 18, ...,  0,  1, -4], dtype=int16), array([4, 0, 4, ..., 6, 5, 5], dtype=int16), array([ -8, -15, -16, ..., -12, -12,  -7], dtype=int16), array([-40,  -6,  44, ...,  -1,  13,   6], dtype=int16), array([-11,  -7, -10, ...,   1,   4,  13], dtype=int16), array([  4,   6,   2, ...,  -8, -13, -12], dtype=int16), array([ 35,  42,  26, ..., -16, -17,  -1], dtype=int16), array([-39, -34,  28, ..., -18, -95, -25], dtype=int16), array([17, 15, 14, ..., 28,  7,  1], dtype=int16), array([-20, -16, -18, ...,  28,   8,  -2], dtype=int16), array([-2, -1, -1, ..., 24, 31, 36], dtype=int16), array([20, 22, 18, ...,  6, 12, 14], dtype=int16), array([22, 17, 20, ...,  0,  0,  3], dtype=int16), array([ 12, -17, -21, ..., -47, -50, -49], dtype=int16), array([-11,  -7,  -3, ...,  55,  13, -37], dtype=int16), array([ -20, -147, -138, ...,   31,   37,   41], dtype=int16), array([-8,  0, 10, ..., 53, 54, 45], dtype=int16), array([ 28,  29,  32, ..., -10,  -8, -17], dtype=int16), array([-10, -11,  -9, ..., -19, -20, -12], dtype=int16), array([221,   3,   0, ...,  15,   6,  -1], dtype=int16), array([ 2,  2,  2, ..., -3,  0,  1], dtype=int16), array([ 12,  17,  17, ...,  -7, -10, -15], dtype=int16), array([ 16,  14,  12, ..., -18, -35, -30], dtype=int16), array([ 6,  5,  8, ...,  3,  6, -1], dtype=int16), array([  3, -11, -15, ...,  21,  56,   7], dtype=int16), array([246, 169,  94, ..., -26, -23,   2], dtype=int16), array([ 1, -2, -1, ...,  6, 18, 32], dtype=int16), array([ 8,  1,  4, ..., 26, 20, 18], dtype=int16), array([  8, 122,  86, ...,  -1,  -4,  -1], dtype=int16), array([33, 27, 44, ..., 51, 46, 10], dtype=int16), array([  84, -163,  181, ...,   26,   27,   38], dtype=int16), array([-267,  -93,  206, ...,   49,   37,   34], dtype=int16), array([-24, -23, -14, ...,  -6,   0,  11], dtype=int16), array([  31,   70, -111, ...,   11,   37,   45], dtype=int16), array([204, 264, 265, ..., -21, -27, -26], dtype=int16), array([-11, -23,  10, ...,  -1,  -3,   5], dtype=int16), array([-16, -16, -14, ...,   8,   3,  -4], dtype=int16), array([18, 18, 13, ..., 30, 67, 60], dtype=int16), array([ 6, 20,  9, ..., 19, 12,  9], dtype=int16), array([  0,   1,   7, ..., -23, -22, -19], dtype=int16), array([-10, -15, -15, ..., -43, -29, -27], dtype=int16), array([ -1,  45, 105, ..., -66, -47, -43], dtype=int16), array([ 13,  16,  11, ...,  -2,  -8, -14], dtype=int16), array([-40,  28, 136, ...,  18,  11,   1], dtype=int16), array([  7,   2,   1, ...,  41,  16, -16], dtype=int16), array([ 1,  7, 11, ..., -1,  6, -1], dtype=int16), array([ -7,  -8,  -8, ..., -25, -36, -37], dtype=int16), array([-161,  -90,   74, ...,  -29,  -21,  -27], dtype=int16), array([-241,  -42,  131, ...,   11,   14,   15], dtype=int16), array([ 14,  95, -74, ...,  -5,  -7,  -3], dtype=int16), array([ -8,  -6,  -2, ..., -34, -13, -37], dtype=int16), array([-122,   36,  114, ...,   14,   26,   23], dtype=int16), array([ 10,  10,   9, ..., -61,   7,  22], dtype=int16), array([ 26,  13,   5, ..., -34, -22, -21], dtype=int16), array([ -8,   1,  -4, ..., -19, -19, -16], dtype=int16), array([  0,  -2,  -4, ..., -19, -19, -20], dtype=int16), array([-10,  -7,  29, ...,  -8, -11, -14], dtype=int16), array([-10, -17, -18, ...,  29,  24,  11], dtype=int16), array([-35, -36, -12, ...,  48,  50,  48], dtype=int16), array([-30, -19, -25, ..., -18, -21, -13], dtype=int16), array([  49, -140, -355, ...,  -12,  -15,   -8], dtype=int16), array([-5, -3, -2, ...,  1,  7,  4], dtype=int16), array([ -2,   0,  -2, ..., -27, -27, -35], dtype=int16), array([-129, -173,   66, ...,   -4,   -2,    1], dtype=int16), array([-30, -91,  -9, ...,  19, -19,   0], dtype=int16), array([ 19,  18,  14, ..., -14, -12, -19], dtype=int16), array([  2,   0,   0, ..., -10, -18, -20], dtype=int16), array([  7,   2,   2, ..., -29, -33, -23], dtype=int16), array([ -8,  -9,  -7, ..., -40, -33, -24], dtype=int16), array([  4,  -2,  -5, ..., -17, -28, -29], dtype=int16), array([  8,  17,  20, ..., -12, -11, -11], dtype=int16), array([-10,  -7,  -6, ...,  -4,   4,   9], dtype=int16), array([-3, -2, -2, ..., 15, 13, 15], dtype=int16), array([ 5,  9,  6, ...,  4, 14, 28], dtype=int16), array([ -67, -106, -109, ...,  -23,  -29,  -32], dtype=int16), array([ -9, -10, -15, ..., -16,   0,   0], dtype=int16), array([-28, -23, -21, ..., -11, -11,  -8], dtype=int16), array([ 72, -36, 101, ...,   2,   4,   3], dtype=int16), array([ -34, -226,  261, ...,   -2,    0,    7], dtype=int16), array([ 18,  14,   6, ..., -56, -42, -34], dtype=int16), array([-137, -101,  -46, ...,   -1,    1,    2], dtype=int16), array([ 9, 17, 26, ...,  1,  1,  7], dtype=int16), array([-3, -3,  6, ..., -1,  1, -3], dtype=int16), array([ -3,   0,   2, ..., -28, -32, -32], dtype=int16), array([77, 91, 97, ...,  7,  7,  4], dtype=int16), array([ -7,  -7, -10, ...,  -2,  -5, -12], dtype=int16), array([  4, -51,  12, ...,  48,  20, -12], dtype=int16), array([-75,  68,  28, ...,   3, -14,   5], dtype=int16), array([11, 11, 14, ..., 24, 34, 19], dtype=int16), array([-180,  -94,   33, ...,   10,    5,   16], dtype=int16), array([  -5,   -4,   -7, ...,  -17,    0, -166], dtype=int16), array([-11,  -7,  -7, ..., -13,  -8,  -4], dtype=int16), array([ 2,  4,  3, ..., 37, 42, 52], dtype=int16), array([6, 5, 4, ..., 0, 4, 4], dtype=int16), array([-44, -49, -44, ...,  -2,  -1,  -7], dtype=int16), array([201, 272, 151, ..., -13,  -5,  -7], dtype=int16), array([-62,  35,  90, ...,  18,  12,   8], dtype=int16), array([ 3,  4,  2, ...,  2, -2, -5], dtype=int16), array([  5,   3,   1, ...,   4, -30, -13], dtype=int16), array([21, 13, 19, ...,  7,  8, 11], dtype=int16), array([ 0, -3, -4, ...,  4,  0, 10], dtype=int16), array([-4, -3, -1, ...,  0,  6, -4], dtype=int16), array([7, 4, 7, ..., 7, 8, 9], dtype=int16), array([104, 101,  19, ..., -25, -33,  -6], dtype=int16), array([-12, -76, -74, ..., -40, -39, -31], dtype=int16), array([ 75, -58, -60, ...,  -6,  34,  62], dtype=int16), array([  8,   6,   0, ..., -28, -17, -19], dtype=int16), array([-4, -7, -5, ..., 13,  3,  0], dtype=int16), array([11,  7,  9, ..., 23, 22, 22], dtype=int16), array([ 21,  21,  21, ..., -23, -26, -26], dtype=int16), array([-76, -67, -62, ...,  29,  17,  28], dtype=int16), array([ 0,  0,  2, ..., 45, 30, 36], dtype=int16), array([ 3,  0,  0, ..., 10,  3, -1], dtype=int16), array([ 31,  35,  37, ...,  -5, -11, -18], dtype=int16), array([-129,   59,    9, ...,   19,   22,   32], dtype=int16), array([ 26,  15,  12, ..., -14, -23, -31], dtype=int16), array([203, 183, 105, ..., -32, -26, -18], dtype=int16), array([-120,   -7,    9, ...,  -31,  -10,   11], dtype=int16), array([-3,  4, 12, ..., 77, 49, 14], dtype=int16), array([-9, 23, 10, ..., 43, 70, 81], dtype=int16), array([  3,   0,  -6, ..., -27, -29, -38], dtype=int16), array([ -1,   4,   0, ...,   2,  -7, -16], dtype=int16), array([ 35, 102,  48, ...,  33,  29,  31], dtype=int16), array([ -8, -17, -12, ...,  17,   3, -30], dtype=int16), array([-46, -50, -35, ...,  -6,  -9,  -6], dtype=int16), array([-64, -51,  67, ...,   8, -15,   8], dtype=int16), array([ -2,   1,   1, ..., -23,  31,  52], dtype=int16), array([-21, -24, -24, ...,  39,  27,  10], dtype=int16), array([-2, -2, -5, ...,  7,  9, 11], dtype=int16), array([ -77,   29, -102, ...,   41,   27,   23], dtype=int16), array([ 33,  38,  40, ..., -10, -12, -14], dtype=int16), array([-2,  0, -5, ..., -3,  3,  3], dtype=int16), array([ 33, 114, 166, ..., -22, -27, -26], dtype=int16), array([  68,  153, -126, ...,  -10,  -15,  -23], dtype=int16), array([ -7,  -3,   7, ..., -43, -51, -51], dtype=int16), array([26, 21, 26, ..., 56, 62, 61], dtype=int16), array([-112,  213,  -77, ...,  -32,  -53,  -44], dtype=int16), array([39, 52, 14, ..., 13,  7,  5], dtype=int16), array([-132, -186,  -21, ...,   -7,    1,    5], dtype=int16), array([ -3,  -2,  -2, ...,  18,  -5, -32], dtype=int16), array([-50, -48, -57, ..., -55, -53, -53], dtype=int16), array([ 7,  6,  7, ...,  4,  6, 12], dtype=int16), array([ -1,   1,   0, ..., -34,  -2,  -2], dtype=int16), array([  1,   1,   6, ..., -39, -39, -26], dtype=int16), array([ 0,  2, 11, ..., 18, 13, 14], dtype=int16), array([-16, -10, -10, ...,  81,  66,  29], dtype=int16), array([-141, -137,  -79, ...,  -44,  -46,  -44], dtype=int16), array([-31, -38, -26, ...,  14,  31,   8], dtype=int16), array([ -7,  -7,  -9, ..., -78, -19,   5], dtype=int16), array([200, 162, 112, ..., -14, -27,   2], dtype=int16), array([ 168,   38, -110, ...,   50,    8,  -91], dtype=int16), array([-35, -73, -13, ...,  -3,  -2,  -2], dtype=int16), array([ -97,  -99, -155, ...,    7,   26,   16], dtype=int16), array([ 6,  2, -9, ...,  1, 33, 12], dtype=int16), array([295, 276,  -9, ...,  11,  43,  41], dtype=int16), array([-39, -46, -39, ..., -70, -63, -62], dtype=int16), array([-3, -2, -2, ..., 19, 16, 14], dtype=int16), array([ -5,  -4,  -4, ..., -32, -19, -17], dtype=int16), array([-16, -13, -11, ...,  17,  12,  16], dtype=int16), array([-161, -278,  -68, ...,    1,   -2,  -18], dtype=int16), array([-1, -2, -2, ..., 10,  6,  7], dtype=int16), array([ 16,  36, -13, ..., -15, -16,   3], dtype=int16), array([ -3,  -5,  -9, ..., -24, -22, -12], dtype=int16), array([ 1,  3,  3, ...,  0, 17, 14], dtype=int16), array([-10, -11, -13, ..., -20, -20, -15], dtype=int16), array([20, 16,  7, ...,  2, 13, 13], dtype=int16), array([ -2,  -6,  -7, ..., -17, -15,  -6], dtype=int16), array([-17,  72,  89, ...,  11,  10,  21], dtype=int16), array([ 0,  0, -1, ..., 10, 16,  0], dtype=int16), array([-16, -12, -11, ...,  31,  29,  32], dtype=int16), array([ 31,  55, 104, ...,  15,  13,   8], dtype=int16), array([ 0,  2,  3, ...,  5,  5, 13], dtype=int16), array([ 0, -1,  5, ..., 45, 49, 28], dtype=int16), array([  29,   35,   37, ...,  -27, -107,  -11], dtype=int16), array([ 61, -31,  31, ...,  13,   4,   0], dtype=int16), array([ -6,  -9,  -3, ..., -17, -25, -29], dtype=int16), array([ 90, -30, -47, ..., -43, -33, -27], dtype=int16), array([-2, -2, -1, ..., -2,  3,  7], dtype=int16), array([-10, -10, -12, ...,  14,  15,  11], dtype=int16), array([-18, -19, -26, ...,   3,  11,   6], dtype=int16), array([  42,   13, -181, ...,    3,    5,   -3], dtype=int16), array([ 2,  9,  9, ..., 45, 47, 42], dtype=int16), array([ 207,   47, -160, ...,  -12,  -12,   -3], dtype=int16), array([15, 33, 26, ..., 10, 15, 34], dtype=int16), array([ 1,  1, -4, ..., -6,  8, 20], dtype=int16), array([164,  17, -18, ...,  23,  22,  23], dtype=int16), array([-37,  56, 104, ..., -50, -57, -85], dtype=int16), array([-43, -26, -15, ..., -22, -29, -34], dtype=int16), array([ 86,  68, -40, ..., -10, -16, -16], dtype=int16), array([11,  1, 10, ...,  8,  2, -1], dtype=int16), array([-37,  60,   5, ...,  34,  52,  23], dtype=int16), array([ 7, 10,  6, ..., 19, 13, 34], dtype=int16), array([-1, -4, -3, ...,  4, 18, 26], dtype=int16), array([  7,   7,   8, ..., -12,   7,   5], dtype=int16), array([-27, -42, -50, ...,  12, -29, -79], dtype=int16), array([ 6, -9, -3, ..., 37, 32, 37], dtype=int16), array([  3,   4,  -1, ..., -20,  -9,   5], dtype=int16), array([  8,   7,  13, ...,  -1,   0, -10], dtype=int16), array([  33,  -68, -134, ...,   -2,    2,    0], dtype=int16), array([-138,   74,   -9, ...,  -28,  -28,  -18], dtype=int16), array([ -7,  -9, -13, ...,  23,  18,  17], dtype=int16), array([-1, 15, 18, ..., 19, 15, 12], dtype=int16), array([25, 22, 23, ..., 21, 30, 33], dtype=int16), array([ 80,  75,  57, ...,  -7, -10,  -8], dtype=int16), array([ 0,  4,  0, ..., 26,  7, -8], dtype=int16), array([-21, -21, -25, ...,  34,  28,  41], dtype=int16), array([ 56, 175, 153, ..., -31, -39, -25], dtype=int16), array([-15, -11, -10, ...,  -6,   1,   4], dtype=int16), array([11,  3, -5, ...,  8,  3,  3], dtype=int16), array([28, 23, 21, ...,  6,  8, -8], dtype=int16), array([-27, -28, -22, ...,  10,   9,   9], dtype=int16), array([   4,   -6,   -1, ...,   -7,  -58, -111], dtype=int16), array([  1,   4,   4, ..., -31, -38, -35], dtype=int16), array([0, 0, 0, ..., 8, 3, 3], dtype=int16), array([-13, -14, -14, ..., -16, -25, -16], dtype=int16), array([-33, -16,  11, ..., -10,  -8,   6], dtype=int16), array([ 91,  21, -30, ...,  45,  39,  42], dtype=int16), array([26, 53, 22, ..., -1,  5,  5], dtype=int16), array([-36, -30, -28, ..., -49, -45, -41], dtype=int16), array([-12,  -8, -16, ...,   3,  -2,   1], dtype=int16), array([ 67,  32, -52, ...,  26,  12,  21], dtype=int16), array([ -4,  -4,  -1, ...,   1,  -3, -11], dtype=int16), array([-13, -12,  -8, ...,   6,   0,   1], dtype=int16), array([ 21,   2, -18, ..., -25, -34, -13], dtype=int16), array([ 12, 153,  99, ..., -13, -11,  -6], dtype=int16), array([30, 33, 41, ..., 24, 19, 19], dtype=int16), array([ -6,  -8,  -9, ..., -10, -10, -14], dtype=int16), array([32, 30, 25, ...,  6, -2,  3], dtype=int16), array([23, 21, 22, ..., -2,  7, 11], dtype=int16), array([-33,  23, 102, ...,  -1,  -5,   9], dtype=int16), array([ 9, 13, 11, ..., -6, -3,  1], dtype=int16), array([-263, -274, -179, ...,   45,   52,   49], dtype=int16), array([ 39,   5, -43, ...,  29,  15,  36], dtype=int16), array([-144, -135, -122, ..., -113, -110, -104], dtype=int16), array([  6,   5,   4, ...,  -9,  -6, -10], dtype=int16), array([24, 10, 12, ..., -1,  5,  8], dtype=int16), array([11, 14, 10, ...,  1, -6, -7], dtype=int16), array([  7,  12,  18, ...,  -9, -14, -12], dtype=int16), array([ 10,   0, -21, ...,  -3,  14,  51], dtype=int16), array([3, 2, 1, ..., 0, 0, 1], dtype=int16), array([ 31,  26,  44, ..., -19, -58, -49], dtype=int16), array([-226, -288, -212, ...,  -12,  -21,  -23], dtype=int16), array([ 64, -18, -74, ...,  -1,  -4,  -9], dtype=int16), array([-62,   1,  81, ...,  45,  50,  43], dtype=int16), array([25, 19, 14, ..., -4, -5, -6], dtype=int16), array([17, 11, 17, ..., 30, 22, 26], dtype=int16), array([-132,  -74,  -50, ...,   15,   41,   48], dtype=int16), array([ -4,   9,  11, ..., -36, -22, -19], dtype=int16), array([-16, -18, -35, ..., -18, -20, -27], dtype=int16), array([ 0,  4,  3, ..., 49, 65, 53], dtype=int16), array([-25, -29, -35, ..., -16,   4,   3], dtype=int16), array([ 39, -12, -63, ...,  28,  29,  37], dtype=int16), array([-13, -12, -13, ...,  11,   9,  -4], dtype=int16), array([ -1,  -4, -10, ...,  -7,  -5,  -9], dtype=int16), array([  0,   1,   3, ..., -39, -49, -35], dtype=int16), array([  5,   4,   4, ..., -44, -41, -46], dtype=int16), array([ 33,  34,  31, ..., -46, -48, -40], dtype=int16), array([24, 24, 25, ...,  3,  4, 14], dtype=int16), array([ 156,   -8, -191, ...,  -58,  -80,  -75], dtype=int16), array([-17, -22, -25, ..., -73, -44,  15], dtype=int16), array([248, 295, 275, ...,   4,  -4, -19], dtype=int16), array([345, 154, 235, ...,   5,  12,   1], dtype=int16), array([-13,  -7, -29, ...,  26,  20,  26], dtype=int16), array([120, 166, 148, ...,  17,  16,   6], dtype=int16), array([  3,   6,   6, ..., -14,  -5,  -5], dtype=int16), array([-12,  -6,  -1, ...,   9,   9,  -6], dtype=int16), array([ 79,  46, -21, ..., -30, -30, -29], dtype=int16), array([ 0,  0,  0, ...,  6,  1, -3], dtype=int16), array([-18, -18, -19, ...,   3,   0,  -2], dtype=int16), array([ -4, -10,  -3, ..., -17, -34, -38], dtype=int16), array([ -5,  -6, -11, ...,  -9,  -1,   4], dtype=int16), array([25, 23, 18, ...,  0,  0, -2], dtype=int16), array([5, 2, 0, ..., 7, 0, 0], dtype=int16), array([ 19,  24,  23, ...,  -7, -10,  -9], dtype=int16), array([ 18,   5,   1, ..., -66, -43, -55], dtype=int16), array([16, 17, 21, ..., 14,  7,  2], dtype=int16), array([-38, -27, -15, ...,   2,  22, -29], dtype=int16), array([ -7,  -9, -12, ...,  -8,  26,  36], dtype=int16), array([ 0, -2, -3, ...,  5,  6, -6], dtype=int16), array([39, 43, 37, ..., 11, 16, 38], dtype=int16), array([  1,   2,   1, ...,   6,  -5, -47], dtype=int16), array([-21,  -9, -10, ...,  27,  21,  11], dtype=int16), array([ -8,  -5,  -2, ...,  65, -73, -38], dtype=int16), array([ 68, 120, 164, ...,   5,   6,   6], dtype=int16), array([140, 118,  61, ...,   0,  54,  69], dtype=int16), array([ 0,  0,  4, ..., 59, 33, 18], dtype=int16), array([ 6,  9, 11, ..., 27, 28, 28], dtype=int16), array([ 16,  13,   9, ..., -12,  -6, -21], dtype=int16), array([39, 38, 40, ..., 76, 72, 61], dtype=int16), array([ 10,  12,   6, ..., -11,  -6,  11], dtype=int16), array([ 37,  42,  25, ..., -25, -22, -17], dtype=int16), array([  6,  35, 151, ...,  32,  32,  42], dtype=int16), array([ -3,  -1,   0, ..., -13, -24, -17], dtype=int16), array([-17,   8,   7, ...,  14,  18,  17], dtype=int16), array([14, 15, 11, ...,  2,  4, -9], dtype=int16), array([ -63, -116,  -91, ...,  -21,  -18,  -18], dtype=int16), array([-29,  29,  13, ...,  19,  56,  67], dtype=int16), array([-19,  -9,  -6, ...,  43,  48,  47], dtype=int16), array([27, 30, 29, ..., 12,  4,  2], dtype=int16), array([-23, -25, -22, ...,  26,  13,  23], dtype=int16), array([-11, -11,  -4, ...,  -5,  -8,  -8], dtype=int16), array([-1,  0, -5, ..., 10, 19, 20], dtype=int16), array([-41, -43, -36, ...,  48,  49,  44], dtype=int16), array([ 53,  49,  49, ..., -36, -36, -23], dtype=int16), array([491, 208, 493, ...,  58,  56,  52], dtype=int16), array([-57, -46, -56, ...,  24,  11,  35], dtype=int16), array([-3, -3, -1, ..., 16, -5, -4], dtype=int16), array([-17, -11, -15, ..., -23, -16, -14], dtype=int16), array([ -9, -14, -25, ...,  16,  46,  -7], dtype=int16), array([127, 114,  96, ...,   5,  10,  22], dtype=int16), array([-141, -118,   60, ...,  -57,  -59,  -54], dtype=int16), array([-73,   8,  42, ...,  43,  -2, -10], dtype=int16), array([-11, -14, -13, ..., -50, -54, -59], dtype=int16), array([-2, -9, -4, ..., 19, 20, 11], dtype=int16), array([-258, -321, -135, ...,   11,   -5,  -38], dtype=int16), array([ 2,  0, -7, ...,  0,  4, -2], dtype=int16), array([ 0, -5,  4, ..., -5, -7, -9], dtype=int16), array([-11, -16, -12, ...,   0,  -5,  -2], dtype=int16), array([ -17,  -67, -102, ...,  -16,  -10,   -5], dtype=int16), array([  5,   7,   9, ..., -29, -30, -35], dtype=int16), array([32, 31, 31, ..., 36, 31, 28], dtype=int16), array([  2,  13,  20, ..., -35, -34, -32], dtype=int16), array([ -5,  -5,   0, ..., -27, -36, -31], dtype=int16), array([  5,   0,   0, ..., -31, -19, -16], dtype=int16), array([25, 33, 41, ..., 51, 20, -3], dtype=int16), array([  5,   7,   5, ..., -46, -46, -36], dtype=int16), array([ -7,  -5,   1, ...,  11,  -1, -18], dtype=int16), array([-3,  7, 10, ...,  3,  0, -1], dtype=int16), array([-3,  0, -4, ...,  0, -1, -7], dtype=int16), array([ -7,  -7,  -4, ..., -25, -17, -31], dtype=int16), array([-2, -5, -1, ..., 44,  5, 27], dtype=int16), array([-16, -68,  62, ...,  -1,   0,   0], dtype=int16), array([-103,  -38,   29, ...,  -11,   -9,  -17], dtype=int16), array([ 14,  15,  17, ...,  45,   5, -17], dtype=int16), array([-22, -15,  -8, ..., -10,  -2,  -2], dtype=int16), array([ 0,  1,  1, ..., -6,  4, 18], dtype=int16), array([  8,   9,  12, ..., -27, -20, -32], dtype=int16), array([16, 14, 12, ..., 14, 30, 39], dtype=int16), array([28,  3, 25, ..., 22, 69, 91], dtype=int16), array([23, 24, 24, ..., 12, 11, 19], dtype=int16), array([ -5,  -8, -10, ..., -26, -27, -18], dtype=int16), array([-64,  20, 105, ...,  -1,   0,   1], dtype=int16), array([-14,  -6,   3, ..., -74, -70, -68], dtype=int16), array([-16, -60, -84, ...,   0,   1,  10], dtype=int16), array([-22, -24, -22, ..., -11, -11, -18], dtype=int16), array([-7, -9, -9, ..., 22, 24, 23], dtype=int16), array([-151, -223, -307, ...,    7,   10,    9], dtype=int16), array([ 13,  13,  17, ..., -45,   1,  -2], dtype=int16), array([ 21,  51,  58, ...,   0,   6, -12], dtype=int16), array([-21, -19, -25, ..., -28, -29, -32], dtype=int16), array([ 38,  30,  39, ..., -15,  -6,  -9], dtype=int16), array([ 19,  15,  13, ..., -22, -12, -11], dtype=int16), array([ -8, -13, -16, ...,  32, -15,  -5], dtype=int16), array([ 0,  5,  6, ..., -6, -1, -7], dtype=int16), array([-3,  0,  1, ..., 18, 16, 15], dtype=int16), array([-16, -13,  -7, ...,   0,  -6,   2], dtype=int16), array([  8,   8,   7, ..., -25, -14, -13], dtype=int16), array([-2, -1,  0, ...,  1,  9, 16], dtype=int16), array([-12, -15, -21, ..., -22, -20, -18], dtype=int16), array([ 33,  23,  26, ..., -32,  -9,   1], dtype=int16), array([  9,  13,  14, ...,  -3,  -2, -10], dtype=int16), array([ -64, -227,   87, ..., -152, -137,  -95], dtype=int16), array([ -6,  -2,  -2, ..., -16, -32, -26], dtype=int16), array([  2,   1,   4, ...,   0, -12, -15], dtype=int16), array([111,  68, -11, ..., -25, -16,  -4], dtype=int16), array([ -9,  -6,  -1, ...,  17, -39, -37], dtype=int16), array([ 38, -14,  33, ..., -30, -34, -37], dtype=int16), array([-151, -180, -117, ...,   -7,   -7,   -5], dtype=int16), array([-16, -19, -19, ..., -10, -13, -20], dtype=int16), array([-11, -16, -18, ...,  12,  12,   3], dtype=int16), array([-5, -2, -3, ...,  1, -4,  0], dtype=int16), array([-12, -14, -13, ...,  25,  17,  14], dtype=int16), array([ 0, -1,  0, ..., -6, -8,  0], dtype=int16), array([ -9, -17, -14, ..., -16, -18,  -8], dtype=int16), array([ -8,  -9,  -7, ..., -12,   0,   2], dtype=int16), array([ -7,  -9, -12, ..., -25, -17, -27], dtype=int16), array([ 6,  5,  1, ..., -6, -9,  0], dtype=int16), array([17, 11,  8, ...,  8,  6,  4], dtype=int16), array([ 44, 103, 138, ...,  11,   4,  -9], dtype=int16), array([ -4,  -4,  -4, ..., -39, -34, -42], dtype=int16), array([ -6, -11,  -7, ...,  -7,   3,   5], dtype=int16), array([-14, -13, -14, ...,  -5,  -4, -12], dtype=int16), array([  4,   2,  -1, ...,   0,   0, -10], dtype=int16), array([ 60, 148, 256, ...,  10,   6,  15], dtype=int16), array([-3, -3,  3, ..., 11,  2,  6], dtype=int16), array([16, 25, 25, ..., -2, -1, -5], dtype=int16), array([ 77,  51, -57, ...,   5,  -6,  -7], dtype=int16), array([17, 18,  1, ..., -6,  0,  4], dtype=int16), array([21, 22, 20, ...,  0, -1, -4], dtype=int16), array([ 0,  0, -1, ...,  8,  2,  3], dtype=int16), array([-26, -17,  10, ..., -48, -40, -33], dtype=int16), array([ 0, -1, -2, ..., 15,  8,  0], dtype=int16), array([  8,   8,   9, ...,  -6, -10,  -3], dtype=int16), array([ -9, -63,  -5, ...,  19,  18,  21], dtype=int16), array([10,  9,  8, ..., 13,  3, -1], dtype=int16), array([-11, -10,  -3, ...,  11,  27,  20], dtype=int16), array([ -8,  -6,  -4, ..., -28, -31, -16], dtype=int16), array([17, 16,  7, ..., 28, 28,  8], dtype=int16), array([ 14,  12,   9, ..., -16, -26, -24], dtype=int16), array([-12,  -7,  -9, ..., -13, -17, -18], dtype=int16), array([  0,  -2,  -3, ..., -11, -19, -27], dtype=int16), array([ 1,  0,  2, ..., 10, 11,  9], dtype=int16), array([22, 31, 28, ..., 45, 22, 23], dtype=int16), array([ 18,  18,   7, ..., -48,  19,  36], dtype=int16), array([-15, -19, -19, ...,   3,   5,   8], dtype=int16), array([-3, -4, -2, ..., 11, 11,  8], dtype=int16), array([ 1,  0,  0, ...,  7, 10, 13], dtype=int16), array([ -7, -11, -10, ..., -32, -26, -24], dtype=int16), array([ 1, -3, -1, ..., 13, 15,  7], dtype=int16), array([ 12,  92,  56, ..., -90, -71, -32], dtype=int16), array([  4,  50, -15, ..., -14,  -6, -17], dtype=int16), array([ 10,  -3, -15, ...,  -5, -16, -11], dtype=int16), array([  6,   8,   9, ..., -23, -18, -20], dtype=int16), array([ 15,  17,  19, ..., -14, -26, -22], dtype=int16), array([-22, -12, -16, ...,  -6,  21,  30], dtype=int16), array([-10,  -3,   5, ..., -56, -65, -54], dtype=int16), array([-58, -53, -51, ...,  -9,  -4,  10], dtype=int16), array([  -6,  -21, -118, ...,  -40,  -47,  -41], dtype=int16), array([-47, -46, -41, ...,  12,   9,  16], dtype=int16), array([47, 45, 54, ..., 20, 24, 25], dtype=int16), array([ -1,  -5, -10, ...,  23,  16,  29], dtype=int16), array([-1,  0, -4, ...,  0,  5,  3], dtype=int16), array([14, 14,  9, ..., -4, -4, -4], dtype=int16), array([-26, -19, -21, ...,  57,  53,  44], dtype=int16), array([ 6,  7,  7, ..., 15,  9, 14], dtype=int16), array([ 10,   4,   3, ..., -25, -20,  -9], dtype=int16), array([-162, -129,   -1, ...,  -10,   -8,  -15], dtype=int16), array([33, 37, 21, ..., 25, 25, 28], dtype=int16), array([-22,   9,  38, ..., -14, -34, -35], dtype=int16), array([-62,   6,   1, ..., -30, -28, -22], dtype=int16), array([ 0,  5,  6, ...,  5, 17, 28], dtype=int16), array([-34, -27, -37, ...,  23,  69, 113], dtype=int16), array([-22, 227, 321, ...,  28,  30,  38], dtype=int16), array([ -1, 192, -12, ...,   0,   1,   4], dtype=int16), array([-3, -6, -6, ...,  4,  0, -8], dtype=int16), array([18, 15, 16, ...,  6, 11, 11], dtype=int16), array([ -1,  -1,  -2, ...,  -9, -14, -15], dtype=int16), array([-22,  36, -36, ...,  -9, -14,   9], dtype=int16), array([ 6,  3,  5, ..., -9,  0,  4], dtype=int16), array([ -1,   0,   0, ..., -38, -30, -17], dtype=int16), array([ 60, 137, 185, ...,  16,  17,  31], dtype=int16), array([ 17,  11,  12, ..., -28,  19, -31], dtype=int16), array([  3,   0,  -2, ..., -16, -20, -17], dtype=int16), array([-15, -12, -12, ...,  18,  17,   5], dtype=int16), array([-156,  -46,  180, ...,  -15,  -10,   -5], dtype=int16), array([ 0, 13, 28, ...,  0, 23, 42], dtype=int16), array([24, 22, 21, ..., 45, 39, 49], dtype=int16), array([-39, -34, -32, ..., -13,  -7, -25], dtype=int16), array([-15, -18, -19, ...,   3,  15,  48], dtype=int16), array([144, 129, 107, ..., -26, -21, -17], dtype=int16), array([-19, -25, -25, ...,  18,  32,  40], dtype=int16), array([ 6,  0,  1, ...,  9, 14, 24], dtype=int16), array([ 0,  0, -1, ...,  8,  9,  0], dtype=int16), array([32, 34, 32, ..., 53, 58, 57], dtype=int16), array([-43, -45, -50, ...,  53,  65,  58], dtype=int16), array([-16,  -9,  -6, ...,  51,  29,  22], dtype=int16), array([-257,   51,    2, ...,   -1,    4,    8], dtype=int16), array([-111,  -83,    7, ...,  -15,  -14,  -12], dtype=int16), array([ 2, 90,  4, ..., 14, 10,  1], dtype=int16), array([ -8,  -9, -13, ...,  28,  21,  15], dtype=int16), array([ 53,  40,  29, ...,   4,   4, -37], dtype=int16), array([  8,  12,  16, ...,  -7,   5, -26], dtype=int16), array([ 0,  3,  5, ..., 12,  1,  9], dtype=int16), array([38, 64, 68, ..., -5, -4, -3], dtype=int16), array([-8, 76, 92, ..., -8, 12, 25], dtype=int16), array([-209, -128,   39, ...,   -3,   -3,  -13], dtype=int16), array([ -4,  -1,  -3, ..., -18, -11,  -5], dtype=int16), array([ 8,  8,  5, ..., 32, 35, 40], dtype=int16), array([ 6,  7,  6, ..., 29, 30,  0], dtype=int16), array([11,  4,  2, ...,  5,  1, -4], dtype=int16), array([26, 28, 25, ..., 29, 27, 34], dtype=int16), array([  76,  -27, -108, ...,  -50,  -52,  -53], dtype=int16), array([14, 14, 11, ...,  6, 31, 55], dtype=int16), array([187, 207,  95, ...,  -3,  -1,  11], dtype=int16), array([35, -4, 17, ..., -8, -7, -1], dtype=int16), array([ 5, 83, 45, ..., 78, 72, 67], dtype=int16), array([ -4,  -3,  -8, ..., -50, -36, -28], dtype=int16), array([ -1, -50,  42, ...,  25,  31,  32], dtype=int16), array([ -3,   2,   1, ...,  44,   1, -34], dtype=int16), array([  1,  -1, -12, ...,  37,  38,  28], dtype=int16), array([-34, -34, -29, ...,  62,  62,  54], dtype=int16), array([ 16, -30,  61, ..., -20,  -1,  32], dtype=int16), array([ -4,  -3,  -1, ..., -13,  -2,   2], dtype=int16), array([-4, -4,  0, ..., -3, -6, -4], dtype=int16), array([ 6,  2,  2, ..., 19, 16, 25], dtype=int16), array([-32, -20, -19, ...,  -1,  -3,  -3], dtype=int16), array([-16, -14,  -5, ...,  15,  60,  37], dtype=int16), array([-10,  -8, -10, ...,   0,  -1,   4], dtype=int16), array([ -6,  -4,  -9, ..., -25, -19, -20], dtype=int16), array([ 9,  6, 11, ..., 14, 12, 10], dtype=int16), array([ -47,  -43,  -29, ...,  244, -139,  -30], dtype=int16), array([-60, -54,  77, ...,  -5,  -5,  -6], dtype=int16), array([ 9, 10,  7, ..., -6, -1, -9], dtype=int16), array([ 1,  6,  9, ...,  0,  1, -3], dtype=int16), array([11, 17, 16, ..., -1,  2,  0], dtype=int16), array([-30, -31, -29, ...,  17,  23,  25], dtype=int16), array([-22,  25, -67, ...,   0,  -2,  -9], dtype=int16), array([-17, -11,  -9, ..., -47, -23,  31], dtype=int16), array([13, 10,  6, ..., 26, 21, 20], dtype=int16), array([ -9, -12,  -8, ...,  17,  41,  55], dtype=int16), array([ 7,  7,  6, ..., 57, 45, 32], dtype=int16), array([-12,  -4, -12, ...,   0,   0,  -1], dtype=int16), array([ 9, -4, -8, ..., 10,  3,  4], dtype=int16), array([ -9, -17, -21, ...,  25,  15,  11], dtype=int16), array([-11, -15, -13, ..., -35,   0,   0], dtype=int16), array([ 68, -22, -75, ...,  -7, -10, -23], dtype=int16), array([ 28,  25,  15, ..., 120, 104,  61], dtype=int16), array([ -89, -144, -150, ...,   15,   20,    8], dtype=int16), array([-22, -22, -18, ...,   5,   4,  11], dtype=int16), array([-76, 230, 385, ...,   5,   3,   3], dtype=int16), array([ 16,  16,  19, ..., -26, -29, -22], dtype=int16), array([-16, -18, -16, ..., 110, 127,  79], dtype=int16), array([-12, -10, -11, ..., -46, -57, -48], dtype=int16), array([-10, -10,  -8, ...,  16,  12,   7], dtype=int16), array([ 0, -1,  0, ..., 50, 33, 38], dtype=int16), array([ 3,  6, 16, ..., 53, 61, 62], dtype=int16), array([-127, -292, -256, ...,    1,    9,    2], dtype=int16), array([ 9,  7,  5, ..., 61, 47, 25], dtype=int16), array([  0, -28, -70, ..., -38, -43, -39], dtype=int16), array([ 28,  17,  22, ...,  -3,  -6, -15], dtype=int16), array([-54, -51, -34, ...,  -4,   1,   8], dtype=int16), array([ -4,  -3,  -4, ...,  -1, -10, -13], dtype=int16), array([-125,  -85,  -32, ...,   30,   44,   37], dtype=int16), array([-27, -30, -27, ...,  28,  17,   8], dtype=int16), array([ -9, -13, -20, ...,   6,  10,  10], dtype=int16), array([75, 28, 27, ...,  1,  8, 14], dtype=int16), array([ -30,  -88, -108, ...,    4,    4,    6], dtype=int16), array([ -3, -18, -20, ...,  32,  88, 117], dtype=int16), array([-111, -199, -220, ...,    0,    0,    4], dtype=int16), array([0, 0, 0, ..., 4, 6, 4], dtype=int16), array([-25,  31, 103, ..., -48,   0,  24], dtype=int16), array([ 0,  0, -3, ..., 14, 19, 10], dtype=int16), array([-5, -5, -4, ..., -9, -3,  0], dtype=int16), array([  2,   2,   4, ...,   1, -17,  17], dtype=int16), array([ 12,  16,  18, ..., -11,  -1,  15], dtype=int16), array([-4, -9, -8, ..., 35, 28, 35], dtype=int16), array([-14, -13,  -2, ..., -46, -40, -26], dtype=int16), array([ 3,  3,  3, ..., 13, 14,  9], dtype=int16), array([-15, -25, -16, ...,   9, -19, -44], dtype=int16), array([-15, -14, -22, ..., -37, -39, -36], dtype=int16), array([-57, -76, -54, ...,  33,  32,  26], dtype=int16), array([ -4,  -3,   0, ..., -22, -18, -17], dtype=int16), array([-11, -10,  -4, ...,  17,  17,  19], dtype=int16), array([  3,   1,   1, ..., -18, -24, -12], dtype=int16), array([ 6,  3, 10, ..., 64, 63, 69], dtype=int16), array([ -3,  -5,  -6, ..., -14,  -5,   2], dtype=int16), array([ 4,  4,  5, ..., 25, 22, 24], dtype=int16), array([11, 11, -1, ..., -2,  6,  5], dtype=int16), array([-31, -32, -33, ..., -25, -22, -16], dtype=int16), array([ 5, 16, 23, ...,  1, -3,  1], dtype=int16), array([-6, -7, -2, ...,  9, -7, 13], dtype=int16), array([-27, -34, -36, ...,   3,   6,   9], dtype=int16), array([  7,   7,  12, ..., -38, -31, -31], dtype=int16), array([24, 73, 62, ...,  9, 10,  7], dtype=int16), array([-140,  -47,   39, ...,   -3,  -14,  -12], dtype=int16), array([ 8,  1,  3, ...,  4,  0, -5], dtype=int16), array([-23, -16, -19, ...,  -8,  -2,   8], dtype=int16), array([-28, -26,  69, ...,  46,  43,  48], dtype=int16), array([-33, -33, -32, ..., -13,  -9, -18], dtype=int16), array([  9,   0,  -9, ...,  13,  22, -25], dtype=int16), array([10,  7,  6, ..., 43, 44, 37], dtype=int16), array([ 4,  7,  6, ..., 11, 11, 24], dtype=int16), array([ -7,  -6,  -5, ..., -28,  34,  49], dtype=int16), array([ -5, -11,  -7, ...,   0,  -9, -13], dtype=int16), array([ 39,  -3, -15, ..., -15, -14,  -5], dtype=int16), array([ 6,  3,  3, ...,  3, 27, 73], dtype=int16), array([-17,   5,  88, ...,   7,  -2,   0], dtype=int16), array([ 14,  16,  15, ..., -10,  -7, -13], dtype=int16), array([ 13,  -1, -11, ...,   6,   4,  -4], dtype=int16), array([-3, -5, -2, ..., 31, 19,  5], dtype=int16), array([-47, -49, -46, ...,   0,   3,   9], dtype=int16), array([32, 29, 33, ...,  3,  1, 19], dtype=int16), array([-15, -11,  -8, ...,   0,  11,  17], dtype=int16), array([-68, -72, -87, ...,  -9, -11, -20], dtype=int16), array([-182,  -29,   77, ...,   -7,    4,    9], dtype=int16), array([-3, -4, -7, ...,  3,  2,  2], dtype=int16), array([20, 28, 29, ..., -2,  0,  0], dtype=int16), array([-20, -24, -11, ..., -12, -12, -15], dtype=int16), array([-121,  109,  163, ...,   -1,   -3,   -1], dtype=int16), array([-11, -12, -10, ...,  -8, -10, -21], dtype=int16), array([  1, -79, -83, ..., -19,  14,  32], dtype=int16), array([  5, -22,  -4, ...,  12,  26,  28], dtype=int16), array([23, 23, 27, ..., -1,  0,  0], dtype=int16), array([  1,   0,  -1, ..., -55, -49, -46], dtype=int16), array([-14, -13, -11, ...,   5,  17,  14], dtype=int16), array([ 36, -27,  15, ...,  38,  37,  33], dtype=int16), array([-31, -72, -18, ...,  -5,  -9, -13], dtype=int16), array([-11,  -9,  -9, ..., -16, -10,  -9], dtype=int16), array([ -6,  -2,  11, ..., -27, -40, -53], dtype=int16), array([-11, -14, -17, ...,   0, -11,   8], dtype=int16), array([-40,  -6,   3, ...,  -6,  19,   0], dtype=int16), array([ 90, 230, 176, ..., -13, -17, -28], dtype=int16), array([ 0, -2,  3, ..., 19, 23, 33], dtype=int16), array([-71, -19, -86, ...,   3,   3,   0], dtype=int16), array([32, 31, 62, ...,  0, -2, -6], dtype=int16), array([ -3,   1,   0, ..., -10, -16, -14], dtype=int16), array([ -3, -11, -16, ...,   9,  11,  13], dtype=int16), array([-1,  0,  0, ..., 11,  7,  9], dtype=int16), array([ 49, 116, 114, ...,   8,   5,   6], dtype=int16), array([-27, -38, -14, ..., -24, -12,   7], dtype=int16), array([ 41,  35,  30, ..., -13,  -6,  -5], dtype=int16), array([-10,  31, -11, ...,   8,  -5, -11], dtype=int16), array([-38, -38, -27, ...,   5, -28, -56], dtype=int16), array([-290, -133,  154, ...,   11,    3,   -5], dtype=int16), array([ 1,  0,  0, ...,  4, -6, -7], dtype=int16), array([ 16, -33, -84, ...,  18, -10,   1], dtype=int16), array([-32, -33, -36, ..., -46, -55, -64], dtype=int16), array([-1, -6, -7, ..., 15, 15, 15], dtype=int16), array([-10, -12, -11, ...,   1,  11,  15], dtype=int16), array([ 0,  3,  0, ..., -2, -7, -9], dtype=int16), array([-40, -14,  87, ..., -41, -30, -26], dtype=int16), array([-26, -31, -32, ...,  21,  18,  24], dtype=int16), array([ -8, -27, -77, ...,   0,  -3,  -9], dtype=int16), array([  6,  11,  22, ...,  -4,  -8, -12], dtype=int16), array([-25, -21, -18, ...,   0,  -1,   0], dtype=int16), array([-186, -286, -247, ...,    5,    9,   10], dtype=int16), array([ 10,   8,  14, ..., -67, -17, -54], dtype=int16), array([ 1,  4,  3, ...,  7, -1, -6], dtype=int16), array([9, 7, 3, ..., 6, 4, 2], dtype=int16), array([12,  5, 10, ...,  4, 18, 17], dtype=int16), array([ -7,  -6, -11, ...,   4,  12,  18], dtype=int16), array([116, 152, -63, ...,   0,  -9, -19], dtype=int16), array([-10, -13,  -8, ...,  -2, -11, -27], dtype=int16), array([  8,   6,   9, ..., -50, -45, -29], dtype=int16), array([ 1,  0,  0, ..., -9, -3, -9], dtype=int16), array([  0,   0,   0, ..., -21,  15, -70], dtype=int16), array([  0, -28, -61, ...,  -2, -12, -18], dtype=int16), array([ 31,   1,  24, ..., -15,  -6,  -7], dtype=int16), array([-241, -132,    6, ...,    0,   15,   18], dtype=int16), array([ -8, -30,   4, ...,  17,  10, -34], dtype=int16), array([-17, -28, -34, ...,  13,  11,  12], dtype=int16), array([  8,   9,  11, ..., -27, -41, -31], dtype=int16), array([ 36, 184, 159, ..., -10, -13, -14], dtype=int16), array([ -8, -11, -12, ...,   8,  -1,   0], dtype=int16), array([-30, -18, -11, ...,   0,  -5,   6], dtype=int16), array([ 63, 209, 191, ...,  46,  50,  43], dtype=int16), array([23, 23, 21, ..., 26, 28, 28], dtype=int16), array([  72, -208, -367, ...,   18,   12,    8], dtype=int16), array([-14, -18, -20, ...,   7,   1,   7], dtype=int16), array([ -80, -219, -317, ...,  -20,  -29,  -31], dtype=int16), array([-2, -7,  6, ..., 48, 16, -6], dtype=int16), array([-9, -3, -1, ..., 27, 26, 31], dtype=int16), array([ 4,  1,  3, ..., 20, 10,  9], dtype=int16), array([23, 15, -2, ..., 11,  1, -4], dtype=int16), array([ -9, -20, -29, ...,   1,   5,   1], dtype=int16), array([ 18,  26, -10, ..., -10,  18,  12], dtype=int16), array([  2,  -6, -12, ...,  25,  33,  34], dtype=int16), array([ 9, 17, 17, ...,  1, -2,  4], dtype=int16), array([ 0,  0, -3, ..., 32, 30, 28], dtype=int16), array([ 10,  12,   9, ..., -13, -14,  -6], dtype=int16), array([-10,  -7,  -6, ..., -12,  -8, -26], dtype=int16), array([13, 10,  7, ..., -6, -6, -6], dtype=int16), array([ 24,  23,  17, ..., -26, -35, -24], dtype=int16), array([  0,   1,  -1, ..., -11, -17, -13], dtype=int16), array([ 3,  1,  2, ..., 24, 22, 16], dtype=int16), array([ 49, -29, -28, ..., -21, -23, -16], dtype=int16), array([ -5,  -6,  -6, ..., -38, -59, -59], dtype=int16), array([ -8, -10,  -8, ...,  17,  16,  15], dtype=int16), array([ 4,  3,  4, ..., 23, 22, 29], dtype=int16), array([ 0, -2,  1, ..., 32, 11, -9], dtype=int16), array([  0,   2,   2, ..., -27, -12,  11], dtype=int16), array([  0,  -4,  -8, ..., -21, -25, -18], dtype=int16), array([-20, -25, -28, ..., -12,  -9,  -3], dtype=int16), array([-3,  1, -2, ..., 41, 40, 32], dtype=int16), array([ 177,   64, -114, ...,   -5,   -7,   -6], dtype=int16), array([-113,   31,  133, ...,  -79,  -76,  -68], dtype=int16), array([ -6,  -1,   4, ..., -15, -14, -10], dtype=int16), array([-396,  317,  -14, ...,  -35,   -7,    0], dtype=int16), array([ 99, 187, 137, ..., -14, -29, -28], dtype=int16), array([ 33,  -3, -22, ..., -10,  -4,   7], dtype=int16), array([  0,   0,   1, ..., -36, -35, -21], dtype=int16), array([ -8,   5,  10, ..., -72, -78, -69], dtype=int16), array([  0,  -1,  -3, ..., -30, -26, -27], dtype=int16), array([47, 51, -6, ...,  4,  7, 10], dtype=int16), array([ 0, -1,  0, ..., 68, 14, -3], dtype=int16), array([18, 14, 13, ...,  5,  1,  0], dtype=int16), array([-32, -38, -44, ...,  -2,  -5,  -2], dtype=int16), array([-99,  92, 136, ..., -21, -18, -19], dtype=int16), array([  3,   9,   8, ..., -23, -20, -22], dtype=int16), array([  2,   0,  -1, ...,  -4, -34, -30], dtype=int16), array([  7,   2,  -7, ..., 109, 110, 107], dtype=int16), array([-49, 170, 102, ...,  17,  13,  11], dtype=int16), array([-27, -30, -28, ..., -68, -57, -60], dtype=int16), array([149, 126,  52, ...,  -8, -13, -18], dtype=int16), array([-16, -16,  -5, ...,  20,  10,   8], dtype=int16), array([-799, -388, -264, ...,   -4,   62,   38], dtype=int16), array([331, 165, -79, ..., -28, -31, -14], dtype=int16), array([ 3,  0,  2, ..., -3, -1, -3], dtype=int16), array([  -7,  -77, -102, ...,    0,   -4,   -6], dtype=int16), array([-26,  12,   4, ...,  15,  -1,  -9], dtype=int16), array([  5,   4,   4, ..., -44, -35, -30], dtype=int16), array([ 34,  -6, -65, ..., -12,  -5,  -9], dtype=int16), array([21,  9, 15, ...,  3, -4,  1], dtype=int16), array([  7,  -3,  -7, ..., -30, -25, -24], dtype=int16), array([14, 11,  7, ...,  0, -6, -8], dtype=int16), array([ 7, 12,  7, ..., 24, 34, 40], dtype=int16), array([142, 112, -63, ...,   5,   7,  10], dtype=int16), array([ -3,   0,  -1, ...,  -2,  -6, -15], dtype=int16), array([  0,   0,  -2, ...,  -7, -23, -20], dtype=int16), array([204, 196, 177, ..., -17, -22,  -9], dtype=int16), array([ -7, -26,  -6, ..., -26, -33, -28], dtype=int16), array([17, 22, 15, ..., 43, 40, 33], dtype=int16), array([ 18,  17,  14, ..., -24, -37, -44], dtype=int16), array([-216,  129,  -43, ...,  -36,  -80,  -65], dtype=int16), array([  52, -144, -201, ...,    2,    2,    0], dtype=int16), array([ -9,  -6,  -2, ..., -14, -10,  -8], dtype=int16), array([-12, -14, -16, ...,  -9, -21, -20], dtype=int16), array([-5, -1,  5, ...,  6,  2,  3], dtype=int16), array([156, 161, 163, ...,  12,  27,  28], dtype=int16), array([  9,   8,   8, ..., -12, -16, -16], dtype=int16), array([129,  61, -13, ...,  -8,  -6,   0], dtype=int16), array([  0,   0,  -1, ...,  -4,  -8, -20], dtype=int16), array([-2, -4, -6, ..., 22, 42, 43], dtype=int16), array([-31, -36, -37, ..., -10, -18, -14], dtype=int16), array([-10,  -5,  -4, ...,   8,   6,   8], dtype=int16), array([119,  55,  -4, ...,  -8, -18, -18], dtype=int16), array([  9,   8,  63, ..., -26, -23, -24], dtype=int16), array([  1,  -3,   0, ...,  52, 108,  11], dtype=int16), array([-41, -10,   2, ...,  25,  19,  11], dtype=int16), array([-127, -102,   -1, ...,    9,   10,   13], dtype=int16), array([10,  8,  6, ..., -7,  0,  5], dtype=int16), array([10, 15, 14, ..., 22, 26, 28], dtype=int16), array([  3,   0, -11, ...,  40,  31,   0], dtype=int16), array([ -5,  46, -33, ..., -17,  15,  72], dtype=int16), array([  4, -31, -18, ...,  17,   3,  -6], dtype=int16), array([  0,   1,   0, ..., -52, -45, -43], dtype=int16), array([ 203,   34, -146, ...,  -22,   78,  197], dtype=int16), array([-6, -9, -7, ..., 45, 47, 47], dtype=int16), array([-1, -4, -9, ..., 25,  6, 11], dtype=int16), array([ -1,  -6,  -9, ..., -39,  38,  43], dtype=int16), array([118, 128, 133, ...,   8,   5,  14], dtype=int16), array([  65,   32, -107, ...,    8,   12,    8], dtype=int16), array([  4,   2,   4, ..., -18,  -5,   3], dtype=int16), array([  27, -155, -161, ...,   -9,  -11,  -11], dtype=int16), array([-2, -6, -5, ..., -1, -3,  2], dtype=int16), array([ 37,  32,  18, ..., -28, -29, -25], dtype=int16), array([32, 30, 30, ...,  8, 11, 15], dtype=int16), array([-55, -60, -63, ..., -39, -43, -46], dtype=int16), array([ 32,  27,  30, ..., -40, -39, -21], dtype=int16), array([ 1,  3,  3, ..., -8,  2, -8], dtype=int16), array([-30, -22, -20, ...,  33,  45,  43], dtype=int16), array([-14, -15,  -3, ...,  -7,  -1,  -2], dtype=int16), array([-3, -4,  1, ..., 14, 11, 22], dtype=int16), array([-15, -15,  -8, ...,  -9, -20, -13], dtype=int16), array([28, 32,  0, ..., 29, 21, 24], dtype=int16), array([-196,    9,  -55, ...,  -18,  -16,  -10], dtype=int16), array([30, 21, 32, ...,  2, -1,  1], dtype=int16), array([ 7,  6,  8, ..., 21, 11, 11], dtype=int16), array([-1, -3, -6, ...,  1,  0,  5], dtype=int16), array([ -6,  -9, -11, ...,  -2,  -2,  -6], dtype=int16), array([-34, -33, -38, ..., -27, -32, -28], dtype=int16), array([  7,  39,  41, ..., -11, -11, -10], dtype=int16), array([-2, -3, -2, ..., -3,  0,  5], dtype=int16), array([47,  3, 26, ..., 26, 29, 27], dtype=int16), array([287, 107, -90, ...,  44,  21,   2], dtype=int16), array([  4,   1,   0, ..., -27, -28, -21], dtype=int16), array([282, 302, 311, ...,  -6,   0,  -4], dtype=int16), array([76, 78, 80, ..., 12,  3, -4], dtype=int16), array([-376,  -53,  -87, ...,    6,    0,   -1], dtype=int16), array([-15, -14,  -9, ..., -23,   3,  41], dtype=int16), array([-129, -125,   -9, ...,   30,   31,   30], dtype=int16), array([  5,  10,  10, ..., -20, -15, -16], dtype=int16), array([ -1,  -2,  -3, ..., -16, -14, -13], dtype=int16), array([136,  79,  55, ...,  32,  21,  28], dtype=int16), array([ 5,  1,  1, ..., 20, 25, 25], dtype=int16), array([24, 17, 21, ...,  3,  5, -3], dtype=int16), array([ -9,  -6,  -3, ..., -79, -91, -54], dtype=int16), array([ 93, -22, -83, ..., -46, -42, -51], dtype=int16), array([ -7,  -9, -12, ..., -38, -25, -29], dtype=int16), array([ 6,  4,  6, ..., 13,  9, 10], dtype=int16), array([ 18,  20,  28, ..., -51, -61, -64], dtype=int16), array([ 0,  6,  0, ..., -5,  4,  5], dtype=int16), array([-35, -40, -39, ...,   6,   1,   6], dtype=int16), array([ 66,  39,  35, ..., -18, -17, -11], dtype=int16), array([27, 28, 24, ..., -3,  0, -1], dtype=int16), array([-3, -1,  0, ...,  9, -1, -3], dtype=int16), array([ 12,  -8, -43, ...,   0,  -4,   0], dtype=int16), array([-11, -15, -17, ...,  32,  34,  33], dtype=int16), array([17, 16, 10, ...,  6,  1,  6], dtype=int16), array([-131, -151,    5, ...,   -4,    0,    0], dtype=int16), array([-14, -14, -12, ...,   2, -17, -15], dtype=int16), array([-3, -4, -8, ...,  6,  7,  1], dtype=int16), array([11,  7,  9, ..., 34, 29, 32], dtype=int16), array([-7, -6, -8, ..., -1, -4, -6], dtype=int16), array([-4, -8, -6, ..., -2,  3,  6], dtype=int16), array([-11,  -4, -10, ...,  -6,  -6,  -4], dtype=int16), array([13, 13, 15, ...,  3, -8, -2], dtype=int16), array([ 41,  50,  53, ...,   9,  -3, -25], dtype=int16), array([  2,  -2,  -4, ..., -32, -32, -22], dtype=int16), array([ 85,  38, -16, ...,  75,  28, -22], dtype=int16), array([ -6, -17, -15, ...,   8,   9,  10], dtype=int16), array([104,  50, -42, ...,   4, -21,  -2], dtype=int16), array([-13, -13, -15, ...,  -2,   3,   3], dtype=int16), array([-213,   56,  320, ...,  -48,  -48,  -31], dtype=int16), array([-177, -183,  146, ...,    6,  -11,  -20], dtype=int16), array([-24, -26, -24, ...,  15, -10, -32], dtype=int16), array([-2, -2,  2, ..., 25, 31, 23], dtype=int16), array([29, 24, 21, ..., 51, 52, 55], dtype=int16), array([-30, -22, -20, ...,   0,   0,  12], dtype=int16), array([ 34,  37,  45, ..., -12, -10,  -9], dtype=int16), array([ -8, -16, -17, ...,  -5,   5,   5], dtype=int16), array([ -5,  -7, -10, ...,   8,  10,  10], dtype=int16), array([-1,  6,  6, ..., -3, -4,  0], dtype=int16), array([ 40,  43, -65, ...,  22,  17,  -4], dtype=int16), array([ -66, -110, -181, ...,   -8,   20,   14], dtype=int16), array([15, 16, 12, ...,  9, 10, 12], dtype=int16), array([  7,  12,  24, ..., -57,  47,  87], dtype=int16), array([-84, -81, -80, ..., -37, -32, -26], dtype=int16), array([-41,   3,  27, ...,  23,  23,  32], dtype=int16), array([  0,   1,   1, ..., -13,   9,  28], dtype=int16), array([ 68, 113,  36, ...,   6,  -9, -17], dtype=int16), array([-10, -17, -20, ...,  -5, -13, -17], dtype=int16), array([  0,   1,   1, ...,  -9,  -9, -10], dtype=int16), array([ -3,  -5, -14, ...,  11,  17,  15], dtype=int16), array([  5,   4,   5, ...,  -3, -19, -19], dtype=int16), array([20, 17, 14, ..., 22, 22, 37], dtype=int16), array([ 1,  0,  0, ..., -2, -8, -4], dtype=int16), array([ 77, -32, 189, ..., -59, -55, -50], dtype=int16), array([ -8, -21, -12, ...,   0,   0,   2], dtype=int16), array([-20,  10,  29, ...,  25,  27,  22], dtype=int16), array([  3,   5,   5, ...,  19, -17,  14], dtype=int16), array([ 63,  60, -12, ...,  48, -45, -71], dtype=int16), array([-31,  35, -94, ..., -18,  -1,   0], dtype=int16), array([  97, -283, -168, ...,  -16,  -23,  -28], dtype=int16), array([-3, -1,  0, ..., 10,  3, -1], dtype=int16), array([-27, -17, -13, ...,  -2,   0,   8], dtype=int16), array([ -1,   0,  -2, ..., -13,  -8,  -6], dtype=int16), array([-31, -27, -24, ..., -34, -36, -46], dtype=int16), array([-25, -14, -29, ...,  -2,  25,  34], dtype=int16), array([  4,   3,   0, ..., -16, -21, -37], dtype=int16), array([ -1,  -1,  -2, ..., -13, -16, -24], dtype=int16), array([-51, -34, -29, ..., -25, -32, -21], dtype=int16), array([ 418,  111, -154, ...,   61,   50,   47], dtype=int16), array([ 27,  14, -43, ...,  13,  10,   6], dtype=int16), array([-43, -40, -33, ...,  17,  31,  38], dtype=int16), array([-25, -23, -29, ...,  -7,  12,  73], dtype=int16), array([-135, -121,   -3, ...,   80,   18,  -19], dtype=int16), array([ -97,  -64, -108, ...,  -18,   -9,   -2], dtype=int16), array([-16, -13,  -9, ..., -20, -17, -15], dtype=int16), array([-12, -10, -10, ..., -26,  -7,   2], dtype=int16), array([0, 0, 0, ..., 1, 0, 0], dtype=int16), array([  2,   0,   0, ..., -18, -14, -27], dtype=int16), array([30, 34, 37, ...,  3,  2,  7], dtype=int16), array([-322,  -61,  287, ...,   14,   16,   18], dtype=int16), array([  0,  -1,   0, ...,  21,  14, -12], dtype=int16), array([-3,  0,  1, ..., 38, 41, 50], dtype=int16), array([23, 13, 11, ..., 16, 27, 17], dtype=int16), array([-108, -208, -219, ...,  -33,  -34,  -26], dtype=int16), array([ 2,  1, -2, ..., 31, 32, 24], dtype=int16), array([256, 215,  99, ..., -22, -17,   0], dtype=int16), array([  0,   0,   0, ...,   3, -12, -22], dtype=int16), array([ 92,  19, -55, ..., -27, -20, -23], dtype=int16), array([-13, -11,  -4, ...,  -5,  -2,  -5], dtype=int16), array([19,  6,  9, ..., 10,  2, -2], dtype=int16), array([-17, -22, -20, ..., -15,  72,  34], dtype=int16), array([ 210,   39, -147, ...,   75,   96,   65], dtype=int16), array([ 2,  1, -1, ..., 33, 14, 31], dtype=int16), array([  2,   3,   2, ..., -12,  -4,  -5], dtype=int16), array([-5, -2, -4, ..., -1,  2,  0], dtype=int16), array([ 12,  12, -15, ...,   7,   8,  -5], dtype=int16), array([10,  4,  3, ...,  0, 18, 14], dtype=int16), array([-49, -51, -40, ...,  26,  25,  21], dtype=int16), array([ -6,  -6,  -6, ..., -45, -42, -32], dtype=int16), array([ -6, -13,  -7, ..., -79, -79, -78], dtype=int16), array([-88, -93,  24, ..., -14, -23, -24], dtype=int16), array([ 10,  16, -51, ...,  -8,   6,   2], dtype=int16), array([-14, -14, -13, ..., -21,   8,  -1], dtype=int16), array([  7,  18,  17, ..., -19, -35, -39], dtype=int16), array([-12, -10, -11, ..., -52, -47, -32], dtype=int16), array([ 4,  8,  8, ..., 42, 39, 30], dtype=int16), array([ 30, 177, 169, ..., -27, -24, -33], dtype=int16), array([-4, -2, -3, ..., -3, -9,  0], dtype=int16), array([26, 66, -8, ...,  0, -4, -7], dtype=int16), array([55, 52, 51, ..., -1,  9, 13], dtype=int16), array([ 9,  3,  0, ..., -1, -7, -7], dtype=int16), array([ 2,  0,  0, ..., 17, 19, 12], dtype=int16), array([-15, -28, -28, ...,  53,  33,   7], dtype=int16), array([ -1,   2,   0, ..., -31, -30, -32], dtype=int16), array([-19, -29,   3, ..., -60, -27, -26], dtype=int16), array([196, 177, 159, ...,   3,   2,   0], dtype=int16), array([-16, -14, -11, ..., -21, -14,  -8], dtype=int16), array([-7, -7, -9, ..., 30, 27, 32], dtype=int16), array([-15,  -9,   1, ..., -11, -13, -11], dtype=int16), array([-27, -25, -26, ...,  16,  26,  27], dtype=int16), array([-15, -15, -17, ..., -28,  -2,  19], dtype=int16), array([-5, -4, -2, ..., 39, 27, 51], dtype=int16), array([-8, -4,  0, ...,  8,  6,  6], dtype=int16), array([-18, -18, -24, ...,   6,   1,  -2], dtype=int16), array([-115, -102,  -93, ...,   54,   43,  -16], dtype=int16), array([ 54, -41,  74, ...,   1,   4,   0], dtype=int16), array([-10, -10,  -9, ...,   1,  -2, -21], dtype=int16), array([ 8,  6,  9, ..., 25, 42, 40], dtype=int16), array([  0,   2,   4, ..., -27, -35, -26], dtype=int16), array([-15, -13,  -8, ...,  29,  35,  31], dtype=int16), array([ 71, 140,  88, ..., -12, -20, -21], dtype=int16), array([-5, -1,  0, ...,  8, 11,  2], dtype=int16), array([-21, -34, -32, ...,   0, -13, -11], dtype=int16), array([ -5,   0,  -7, ..., -28, -28, -30], dtype=int16), array([-78, -81,  16, ..., -12, -10, -13], dtype=int16), array([-35, -45, -46, ...,  -8,  -2,  -9], dtype=int16), array([ 2,  4,  4, ..., -7, -4,  4], dtype=int16), array([204, -48,  80, ...,  23,  20,  15], dtype=int16), array([-19, -14, -13, ...,  13,   7,  10], dtype=int16), array([-115,  -72,  -51, ...,    3,    4,    7], dtype=int16), array([-35, -33, -35, ...,  10,   9,   6], dtype=int16), array([ -6,  -9, -12, ...,  -2,  -9, -11], dtype=int16), array([-22, -27,  11, ...,  29,  37,  37], dtype=int16), array([15, 15, 11, ..., 27, 32, 36], dtype=int16), array([ 1,  8,  6, ..., 12, 20, 22], dtype=int16), array([-113,  149,  292, ...,  -11,  -10,  -12], dtype=int16), array([ -5,  -3,  -5, ..., -11, -10,  -6], dtype=int16), array([ 51,  53,  43, ..., -22, -26, -22], dtype=int16), array([ 324, -192, -397, ...,  -13,  -16,  -17], dtype=int16), array([-192, -240, -263, ...,    8,    4,    4], dtype=int16), array([  0,   0,  -2, ..., -41, -44,  23], dtype=int16), array([ -2,  -3,  -5, ..., -12, -14,  -8], dtype=int16), array([ 1,  2,  0, ..., 12, 29, 34], dtype=int16), array([  2,   1,   2, ..., -12, -10,  -6], dtype=int16), array([23,  7,  3, ..., 36, 30, 29], dtype=int16), array([ 1,  0, -5, ..., 18, 18, 27], dtype=int16), array([ 0,  0,  1, ..., 45, 45, 43], dtype=int16), array([-16,  -9, -16, ...,  17,  -9, -11], dtype=int16), array([-4, -1, -1, ..., 15, 19, 29], dtype=int16), array([-249,  -78,  682, ...,  -24,  -23,  -13], dtype=int16), array([ -6,  -4,  -5, ...,  -2,  -6, -10], dtype=int16), array([ 0,  1, -3, ...,  4, 11, 10], dtype=int16), array([-23, -17, -29, ...,  31,  29,  -3], dtype=int16), array([ 6, 10, 12, ..., -7, -3,  6], dtype=int16), array([  0,   0,  -4, ...,  -1, -18, -16], dtype=int16), array([-47, -42, -34, ...,  -5, -15, -22], dtype=int16), array([-13, -16,   2, ...,  13,  32,  29], dtype=int16), array([-12, -10,  -8, ...,   4,   7,  17], dtype=int16), array([ -72, -135,  -73, ...,  -21,  -25,  -28], dtype=int16), array([-17, -15, -13, ...,   2,   6,   6], dtype=int16), array([6, 4, 0, ..., 0, 7, 6], dtype=int16), array([ 62,  -5, -34, ...,  28,  17,   2], dtype=int16), array([  1,   0,  -7, ..., -11,  -3,  -2], dtype=int16), array([ -6,  27, -13, ..., -10,  -6,  -3], dtype=int16), array([-12,  -9,  -3, ...,   6, -18, -14], dtype=int16), array([ -1,  -5,  -1, ..., -28, -24, -30], dtype=int16), array([ 16, -77,  84, ...,   0,   1,   9], dtype=int16), array([ 0, -1,  0, ..., 11, 10, 11], dtype=int16), array([-16, 106, 159, ..., -11,  69,  27], dtype=int16), array([ 32,  48, -77, ..., -12,  14,  29], dtype=int16), array([-2, -2, -5, ...,  3,  2,  5], dtype=int16), array([-5, -5, -8, ...,  0, -3,  6], dtype=int16), array([  1,  -2,  -8, ..., -38,  52,  -4], dtype=int16), array([  3,   4,   7, ...,  -8,  -9, -14], dtype=int16), array([-109, -155,   -5, ...,  -22,  -23,  -18], dtype=int16), array([-205, -116,  262, ...,   -8,   -6,    2], dtype=int16), array([ 0, 33, 68, ...,  8,  0, -2], dtype=int16), array([-6, -6, -4, ...,  7, 49,  0], dtype=int16), array([ 163, -121,   77, ...,   -1,   -3,    1], dtype=int16), array([-10, -16, -15, ...,  17,  10,  14], dtype=int16), array([-235, -223, -200, ...,    4,   26,   22], dtype=int16), array([ -3,   0,  -2, ..., -12, -16, -17], dtype=int16), array([-2, -4,  1, ..., 13,  5,  5], dtype=int16), array([-47, -42, -30, ...,   5,   4,   9], dtype=int16), array([ -5, -32, -53, ..., -11, -13, -14], dtype=int16), array([ 21, -54, -11, ...,   1,   3,   6], dtype=int16), array([ 13,  10,  13, ..., -26, -37, -39], dtype=int16), array([-31, -22, -22, ...,   6,   6,   2], dtype=int16), array([  -7, -169,  125, ...,  -20,   -1,  -27], dtype=int16), array([ 0, -1, -1, ...,  5,  6,  5], dtype=int16), array([-29, -24, -21, ..., -16, -13, -12], dtype=int16), array([ 5,  6,  1, ..., 14, 15, 17], dtype=int16), array([ 0, -4,  3, ..., -9, -7, -3], dtype=int16), array([ 39,  37,  41, ..., -69, -62, -48], dtype=int16), array([-121, -211,  -82, ...,    5,    6,    5], dtype=int16), array([-22, -21, -24, ...,   0,  -5,  -4], dtype=int16), array([-40, -38, -30, ...,  12,  20,  30], dtype=int16), array([-13, -17, -18, ..., -31, -31, -27], dtype=int16), array([ -8,  -6, -16, ...,  -3,   6,  -3], dtype=int16), array([-10,  -5,   0, ...,  -2,   1,  -2], dtype=int16), array([27, 30, 24, ...,  5, 11, 15], dtype=int16), array([-143,  200,   -3, ...,  -44,  -43,  -40], dtype=int16), array([-87,  98, 172, ...,  -1,  -5,  -8], dtype=int16), array([63, 80,  8, ..., 58, 60, 51], dtype=int16), array([ 12,  11,  12, ..., -18, -15, -11], dtype=int16), array([-208, -224, -187, ...,  -20,  -64,  -22], dtype=int16), array([-56,  37, 148, ...,   8,  16,   6], dtype=int16), array([-32, -31, -28, ..., -46, -27, -26], dtype=int16), array([ -5,  -8, -10, ...,   6,   0,  -3], dtype=int16), array([-14, -11,  -8, ..., -96, -96, -98], dtype=int16), array([ 3,  7,  9, ..., -4, -3, -6], dtype=int16), array([ 14,  22,  17, ..., -10, -15, -12], dtype=int16), array([ 41,  40,  26, ...,  -4,  -7, -15], dtype=int16), array([14, 26, 26, ..., 25, 31, 30], dtype=int16), array([-16, -12, -14, ..., -14, -13,  -5], dtype=int16), array([9, 7, 1, ..., 5, 8, 1], dtype=int16), array([25, 22, 20, ..., 47, 48, 56], dtype=int16), array([-11, -17, -25, ..., -16, -24, -20], dtype=int16), array([  8,  22,  37, ..., -13,  -5,  -2], dtype=int16), array([-1, -2,  0, ..., 22, 19, 12], dtype=int16), array([ 26, 125,  87, ..., -27, -37, -28], dtype=int16), array([  4,   3,  -3, ..., -24, -22, -18], dtype=int16), array([  6,   2,   2, ..., -12, -26, -35], dtype=int16), array([-19, -18, -22, ...,   8,  11,  15], dtype=int16), array([-24,   0,  46, ..., -10,  -2,   0], dtype=int16), array([11, 13, 11, ...,  3, -4, -7], dtype=int16), array([ 7,  2,  2, ..., 43, 30, 24], dtype=int16), array([ 7,  6,  4, ..., 53, 54, 34], dtype=int16), array([ 69, 151, -31, ...,  -2,  -1,   0], dtype=int16), array([-4, -5, -3, ..., 15, 27, 28], dtype=int16), array([ 5,  6, 12, ..., 23, 25, 19], dtype=int16), array([-152,  -81,   14, ...,  -26,  -36,  -46], dtype=int16), array([ 7, 10,  9, ..., 30, 46, 54], dtype=int16), array([  3,   0,   0, ..., -59, -58, -62], dtype=int16), array([-19, -14,  -6, ...,  26,  19,  22], dtype=int16), array([-11,  -7,  -2, ...,  45,  44,  44], dtype=int16), array([23, 29, 25, ..., 30, 34, 48], dtype=int16), array([-35,   0,  31, ...,  20,  31,  39], dtype=int16), array([-152,   17,  106, ...,   74,   84,   88], dtype=int16), array([-5, -1,  0, ...,  7, 11,  8], dtype=int16), array([-7, -9, -8, ..., 12, 12,  5], dtype=int16), array([-3, -5, -3, ...,  3,  8, 16], dtype=int16), array([ 41, 100, 112, ...,  60,   1,  14], dtype=int16), array([-26, -21, -21, ...,  -9,  -4,  -2], dtype=int16), array([ -2,  -4,  -5, ..., -12, -14, -12], dtype=int16), array([17, 18, 19, ...,  9, 13, 17], dtype=int16), array([-8,  0, -1, ..., -4, -2,  8], dtype=int16), array([-22, -24, -18, ...,  21,  17,  33], dtype=int16), array([31, 35, 38, ..., 29, 37, 12], dtype=int16), array([50, 73, 96, ..., -2,  4,  6], dtype=int16), array([ 2,  3,  4, ..., -6,  1, 13], dtype=int16), array([-246, -164,  277, ...,  -49,  -53,  -55], dtype=int16), array([-5, -3, -2, ..., -6, -7, -5], dtype=int16), array([-5, -5, -8, ..., -3, 11, 12], dtype=int16), array([-12, -13, -21, ...,  24,  40,  35], dtype=int16), array([15, 13, 12, ..., -8, -3,  2], dtype=int16), array([62, 63, 62, ..., 18, 13,  5], dtype=int16), array([-15, -13,  -4, ..., -16, -19, -21], dtype=int16), array([101,  27, -70, ...,  30,  33,  30], dtype=int16), array([ 61, -10, -55, ...,  -6,   1,   4], dtype=int16), array([-126,  -73,   -8, ...,   22,   20,   18], dtype=int16), array([-53, -52, -53, ..., -11,  -8,  -3], dtype=int16), array([-92, -67, -68, ...,  14,   8,   4], dtype=int16), array([31, 63, 63, ...,  1, -1,  0], dtype=int16), array([-9, -8, -5, ..., 35, 21, 16], dtype=int16), array([ -97, -196, -137, ...,  -26,  -25,  -18], dtype=int16), array([-22, -10,  47, ..., -18, -26, -39], dtype=int16), array([ -8, -12,  -7, ...,  -2,  25,  14], dtype=int16), array([  0,  -3,  -9, ..., -24, -14, -17], dtype=int16), array([ 6,  9,  8, ..., -2,  0,  1], dtype=int16), array([-1, -3, -2, ...,  8,  1,  1], dtype=int16), array([ -2,   0,   8, ...,  45,  10, -18], dtype=int16), array([ 32, -57, -21, ...,  -4,  -2,  -4], dtype=int16), array([ 11,  20,  26, ..., -45, -34, -33], dtype=int16), array([ 11,  18, -44, ..., -41, -41,   5], dtype=int16), array([ 23,  19,  26, ..., -33, -32, -21], dtype=int16), array([-1, -3,  0, ..., 21, 25, 24], dtype=int16), array([ 22,  18,   8, ..., -21, -10,  -7], dtype=int16), array([ -8, -10, -11, ..., -16, -16,  -7], dtype=int16), array([ 1,  1,  0, ...,  6, 13,  7], dtype=int16), array([ 324, -344,  340, ...,   22,   18,   10], dtype=int16), array([51, 36, -2, ..., -8, -3,  0], dtype=int16), array([  2,  -8, -23, ...,   3,  -2, -10], dtype=int16), array([-115,  -96, -134, ...,  -60,   35,   88], dtype=int16), array([  -8,   -6,   -7, ..., -142,  -59,   31], dtype=int16), array([ 6,  5, 10, ..., 29, 24, 13], dtype=int16), array([-9, -6, -8, ..., 22, 31, 52], dtype=int16), array([ -7, -10, -10, ...,   2,   5,   4], dtype=int16), array([152, 235, 158, ...,  -6,   0,  12], dtype=int16), array([-25, -11,  14, ..., -22, -16, -11], dtype=int16), array([-173, -140,   42, ...,  -37,  -15,   27], dtype=int16), array([-17, -18, -18, ...,   8,  -4,  -2], dtype=int16), array([ 17,  12,  18, ..., -11,  -1,   2], dtype=int16), array([2, 6, 9, ..., 8, 5, 1], dtype=int16), array([ 7,  0,  0, ..., 53, 52, 45], dtype=int16), array([-15, -18, -16, ...,  28,   7,   7], dtype=int16), array([-64,  10,  81, ...,  25,  19,  19], dtype=int16), array([ 3,  4,  9, ..., 24, 39, 34], dtype=int16), array([ 13, -32, -79, ...,   0,  -5,  -5], dtype=int16), array([-31, -38, -41, ..., -56, -59, -56], dtype=int16), array([ -6,  -1, -30, ..., -25, -24, -13], dtype=int16), array([ -7, -24, -82, ...,  47,  32,  24], dtype=int16), array([ 11,  10,   7, ...,   2, -25, -33], dtype=int16), array([0, 5, 4, ..., 2, 1, 5], dtype=int16), array([ 0, -2,  0, ..., -2, -4,  0], dtype=int16), array([ 1, -1, -2, ...,  5, -1,  7], dtype=int16), array([ -68,  -58, -114, ...,   33,   18,   10], dtype=int16), array([-23, -21, -30, ...,  17,  21,  22], dtype=int16), array([-6, -2, -1, ...,  0,  0,  1], dtype=int16), array([ 67,  46,  60, ...,  -7, -10, -25], dtype=int16), array([ 4,  4,  1, ...,  4, 10,  9], dtype=int16), array([ 9,  9,  9, ..., -3,  0,  0], dtype=int16), array([  9,   8,  14, ..., -10, -12, -13], dtype=int16), array([ 14,  13,  19, ...,  -2,  -6, -29], dtype=int16), array([115, 110, 158, ..., -21, -14, -17], dtype=int16), array([-14,  -7, -16, ...,   5,  10,  15], dtype=int16), array([-18, -21, -16, ..., -19,   2,  25], dtype=int16), array([-4, -1,  0, ..., -3,  3, 16], dtype=int16), array([ 12, -16,   7, ...,  -1,   0,   1], dtype=int16), array([15, 23,  7, ..., -3, -3, -3], dtype=int16), array([ 2,  4,  5, ..., 19,  6,  0], dtype=int16), array([-132,  -14,  108, ...,   -5,   -7,    0], dtype=int16), array([40, 33, 30, ..., 14,  0,  2], dtype=int16), array([ 5, 14, 20, ...,  5,  0,  4], dtype=int16), array([-44,   2,  64, ..., -16,   6,  14], dtype=int16), array([-5, -6, -6, ...,  0,  2,  4], dtype=int16), array([7, 4, 9, ..., 0, 6, 8], dtype=int16), array([  3,   5,   6, ..., -25, -20, -19], dtype=int16), array([-19, -13, -11, ...,  22,  27,  36], dtype=int16), array([-30, -29, -31, ...,  -8,   1,  -5], dtype=int16), array([ -5,  -3,   3, ..., -19, -18, -15], dtype=int16), array([  0,  -3,  -2, ..., -20, -11,  -5], dtype=int16), array([ -3,  -4, -10, ...,  16, -19, -27], dtype=int16), array([-11, -15, -15, ..., -22, -11, -11], dtype=int16), array([  0,  -1,  -6, ..., -21,  17,  41], dtype=int16), array([-304, -288, -255, ...,  -53,  -47,  -48], dtype=int16), array([  74,   82, -168, ...,   -7,    7,  -23], dtype=int16), array([48, 28,  2, ..., 35, 16, -1], dtype=int16), array([  4,  12,  14, ..., 116,   6, -39], dtype=int16), array([ -1,  -1,   0, ..., -21, -24, -35], dtype=int16), array([ 124,   10, -144, ...,  -12,  -18,  -22], dtype=int16), array([  5,   8,  10, ..., -25, -26, -29], dtype=int16), array([ 8,  1,  3, ..., 44, 43, 48], dtype=int16), array([ 9,  5,  3, ..., 14, 13,  7], dtype=int16), array([ 2,  0,  0, ..., -7, -1, -2], dtype=int16), array([ 0,  2,  0, ...,  0, -4, -7], dtype=int16), array([-3, -5, -9, ...,  2,  1, -1], dtype=int16), array([-15, -11,  -6, ..., -24, -13, -23], dtype=int16), array([-190, -216, -178, ...,   24,   35,   13], dtype=int16), array([28, -3,  8, ..., -7, -2,  0], dtype=int16), array([  1,   3,   8, ..., -16, -12,   9], dtype=int16), array([ -68,  126, -143, ...,  -30,  -23,  -26], dtype=int16), array([ 1,  4, 11, ..., -1,  1, 11], dtype=int16), array([48, 24, 17, ...,  3, 13, 18], dtype=int16), array([-13, -16, -12, ...,  24,   7,  24], dtype=int16), array([  1,  -1,  -2, ..., -12,  -2,   0], dtype=int16), array([ 4, 14, 18, ...,  1,  5,  4], dtype=int16), array([-4, -7, -7, ..., 20, 22, 26], dtype=int16), array([  4,   6,  11, ..., -33, -38, -38], dtype=int16), array([-285, -149,  -13, ...,  -20,  -13,   -3], dtype=int16), array([ 19,  13,  11, ..., -16, -19, -17], dtype=int16), array([-27, -22, -19, ...,  17,  12,  25], dtype=int16), array([ 115,  -65, -252, ...,    1,   13,    8], dtype=int16), array([-17, -22, -28, ...,  43,  39,  30], dtype=int16), array([ 25,  26,  21, ..., -12,   3,   4], dtype=int16), array([18,  5, -1, ...,  3, -5, -1], dtype=int16), array([ -6,  -7,   0, ..., 169, 125,  68], dtype=int16), array([-118,  -39,   35, ...,   -8,  -10,    0], dtype=int16), array([-26, -26, -26, ...,  -3,  -3, -36], dtype=int16), array([ 1,  0, -4, ..., 44, 37, 40], dtype=int16), array([-13, -16, -10, ...,  29,  22,  25], dtype=int16), array([ -2,   7,  13, ...,   0,  -4, -13], dtype=int16), array([-39, -65, -95, ..., -13, -15, -23], dtype=int16), array([-29, -19, -22, ...,   6,  41,  36], dtype=int16), array([ -3,  -2,   1, ..., -40, -45, -46], dtype=int16), array([-19,  53,  -7, ..., -10, -11, -15], dtype=int16), array([-168,   10,  149, ...,  -19,  -46,  -19], dtype=int16), array([100, -80, 118, ...,  49,  63,  59], dtype=int16), array([-22,   4,  19, ..., -29, -21, -15], dtype=int16), array([-43, -40, -33, ..., -62, -47, -27], dtype=int16), array([-1, -3,  0, ...,  8,  4, -1], dtype=int16), array([-5, -3, -3, ..., 21, 23, 32], dtype=int16), array([ -6, -30, -46, ...,  14,   0,  -7], dtype=int16), array([-131,  -30,  -18, ...,  -24,  -24,  -25], dtype=int16), array([-83,  45,  13, ..., -23, -18, -22], dtype=int16), array([  6,  15,  26, ..., -21, -27, -17], dtype=int16), array([223, 222, 175, ...,  16,   8,   2], dtype=int16), array([-33,  34,  49, ..., -11,   0,   8], dtype=int16), array([ 4,  3,  4, ...,  9, -4,  0], dtype=int16), array([ 1,  1,  1, ..., 22, 20, 17], dtype=int16), array([-5, -6, -6, ..., -4, -1,  4], dtype=int16), array([ 30,   7,  12, ...,  -8, -14, -12], dtype=int16), array([47, 48, 44, ..., 29, 38, 42], dtype=int16), array([ -9,  12,  10, ..., -23,  32,  -2], dtype=int16), array([-196, -268, -339, ...,    4,    3,  -11], dtype=int16), array([-108,  -90,   50, ...,   -5,   -5,    0], dtype=int16), array([40, 30, 36, ..., -4, -2, -1], dtype=int16), array([  1,   1,   2, ..., -24, -19, -13], dtype=int16), array([19, 30, 38, ..., 44, 48, 45], dtype=int16), array([-1, -3, -5, ..., 23, 23, 32], dtype=int16), array([-21, -29, -26, ...,  11,  11,  14], dtype=int16), array([ 12,  23,  37, ..., -46, -19,  -9], dtype=int16), array([ -3,  -4,  -4, ..., -39, -44, -42], dtype=int16), array([-27, -32, -24, ...,   0,  32,  33], dtype=int16), array([-2, 84, -9, ..., 20, 26,  0], dtype=int16), array([ 26,  24,  24, ..., -55,  22,  83], dtype=int16), array([ 21,   1,  -6, ..., -33, -14,  -1], dtype=int16), array([-2, -1, -4, ..., 38, -6, 20], dtype=int16), array([ 55,  46,  43, ..., -47, -55, -62], dtype=int16), array([-15, -15, -14, ..., -33, -41, -32], dtype=int16), array([ 13,  13,  13, ..., -16, -18, -33], dtype=int16), array([-10,  -7, -11, ...,  77, 110,  81], dtype=int16), array([ 0,  0,  0, ...,  8,  1, -5], dtype=int16), array([147, 102, -32, ...,   9,   9,   3], dtype=int16), array([15, 11,  8, ..., 52, 41, 38], dtype=int16), array([-16,  -1,  -3, ...,  28,   0, -44], dtype=int16), array([22, 27, 35, ..., 13, 21, 20], dtype=int16), array([ 0,  7,  4, ..., -7, -4, 16], dtype=int16), array([-4, -1, -2, ...,  6,  3,  3], dtype=int16), array([23, 24, 22, ..., 13, 14, 12], dtype=int16), array([106, 145, -28, ...,  26,  19,  24], dtype=int16), array([ -1,  -4, -13, ...,   6, -23, -62], dtype=int16), array([ -27, -148,    4, ...,   40,   65,   63], dtype=int16), array([-16, -12, -20, ...,  27,  28,  13], dtype=int16), array([-14,  -8,  -1, ...,  -9, -18, -28], dtype=int16), array([-235,    3,  228, ...,   19,   39,   46], dtype=int16), array([151, 243, 262, ...,  35,  19,   9], dtype=int16), array([ -1,  -7,  -9, ...,   5, -14, -33], dtype=int16), array([ 13,  12,   7, ..., -14, -24, -26], dtype=int16), array([ 12,   2,   5, ..., -16,  -5,  -3], dtype=int16), array([ 18,  11,   4, ..., -26,   8,  18], dtype=int16), array([ 13,  14,  14, ..., -52, -51, -30], dtype=int16), array([15, -4, -9, ...,  7, 13, 15], dtype=int16), array([-19, -16, -12, ...,  -2,   3,   9], dtype=int16), array([-47, -47, -32, ...,  18,  -1, -18], dtype=int16), array([-18,  37,  29, ...,  35,  35,  40], dtype=int16), array([  3,   2,   4, ...,   0,  10, -17], dtype=int16), array([-9, -7, -8, ..., 16, 23, 26], dtype=int16), array([-22, -65, -75, ...,  49,  32,  12], dtype=int16), array([ -5,  -8,  -8, ..., -18, -18, -18], dtype=int16), array([ -3,   6,   1, ..., -11, -18, -14], dtype=int16), array([-19, -16, -18, ..., -19, -28, -26], dtype=int16), array([ 13,  11,   0, ..., -10, -10,  -7], dtype=int16), array([10,  5,  3, ...,  2,  1, -4], dtype=int16), array([-8, 36, 47, ..., 11, 28, 34], dtype=int16), array([-51, -57, -36, ...,  20,  10,   6], dtype=int16), array([-4, -5, -5, ..., 31, 29, 41], dtype=int16), array([ 11,  13,  17, ..., -22, -22, -27], dtype=int16), array([  8, -11,  22, ..., -14, -14, -15], dtype=int16), array([ -2,   0,  -1, ...,   4, -20, -46], dtype=int16), array([ 5,  7,  5, ..., 19, 34, 34], dtype=int16), array([ 21,  26,  28, ..., -76, -22, -43], dtype=int16), array([ -83, -109, -130, ...,    2,    4,    3], dtype=int16), array([ 0,  4, -1, ...,  4, -2, -5], dtype=int16), array([1, 2, 3, ..., 2, 5, 5], dtype=int16), array([ 0,  1,  0, ..., 25, 25, 21], dtype=int16), array([ 99, 208, -10, ..., -64, -63, -30], dtype=int16), array([-3,  4,  1, ..., 17, 11,  2], dtype=int16), array([ 1,  3,  0, ..., -4, -8,  1], dtype=int16), array([-48, -27,  19, ...,  12,   5,   6], dtype=int16), array([  66,   23, -154, ...,   12,    5,    0], dtype=int16), array([  1, 118,  75, ..., -21, -21, -19], dtype=int16), array([ 8,  7, 10, ..., -1,  1, 15], dtype=int16), array([17, 16, 16, ...,  2, -4, -5], dtype=int16), array([-1,  0,  2, ..., 24, 30, 25], dtype=int16), array([  29,  -12, -112, ...,  -22,    0,   -1], dtype=int16), array([-296, -174,   15, ...,   29,  -65,  -31], dtype=int16), array([ -4,  -6,  -1, ...,  14,  15, -16], dtype=int16), array([ -8, -13,  -1, ..., -16, -14, -15], dtype=int16), array([14,  7,  9, ..., -3,  2,  5], dtype=int16), array([-21, -19, -19, ..., -48, -40, -28], dtype=int16), array([ 41, 237, 213, ...,   2,  15,  26], dtype=int16), array([-12,  -6,   0, ...,  12,  -5,  -6], dtype=int16), array([ 31,  26,  30, ..., -51, -65, -43], dtype=int16), array([  1,   1,   0, ..., -25, -14,  -5], dtype=int16), array([ 15,   5,  -4, ..., -46,   3,  23], dtype=int16), array([ 44,  39,  36, ..., -43, -29, -14], dtype=int16), array([-31,  25,  92, ..., -19, -13, -15], dtype=int16), array([-17,  -9, -12, ...,  31,  29,  26], dtype=int16), array([ 10,  11,  -4, ..., -33, -28, -25], dtype=int16), array([ 10,  15,  15, ...,  -4, -10, -15], dtype=int16), array([ -78, -292, -357, ...,  -34,  -28,  -27], dtype=int16), array([ 3,  8,  5, ...,  3, -2, 11], dtype=int16), array([ 16,  14,  11, ..., -45, -50, -53], dtype=int16), array([  1, -20,  12, ..., -47, -54, -51], dtype=int16), array([-133,   12,   22, ...,  -11,   -5,  -14], dtype=int16), array([39, 34, 27, ...,  0,  0,  3], dtype=int16), array([  4,   9,   8, ...,   6, -18,  20], dtype=int16), array([ 19,  22,  17, ..., -48, -56, -54], dtype=int16), array([587, 205, 251, ...,  15,  19,  21], dtype=int16), array([159,  45,  -6, ..., -17,  -6,  -4], dtype=int16), array([-23, -19, -20, ..., -19, -11,  -6], dtype=int16), array([22, 21, 19, ..., 41, 35, 35], dtype=int16), array([-137,    1,  123, ...,   20,   22,   18], dtype=int16), array([16, 10,  1, ..., -4, 12, 23], dtype=int16), array([  2,  -1,  -5, ..., -83,  10,  18], dtype=int16), array([12, 14, 10, ..., 10, 20, -6], dtype=int16), array([ 4,  0,  3, ..., 27, 21,  9], dtype=int16), array([-40, -50, -45, ..., -10, -12,  -4], dtype=int16), array([-10, -11, -17, ..., -56, -48,  -4], dtype=int16), array([ 60,  76,  83, ...,  -4, -10, -12], dtype=int16), array([ 8,  8, 13, ..., -1,  4, 14], dtype=int16), array([-24, -22, -17, ...,  16,  18,  12], dtype=int16), array([-300, -209,  -18, ...,    0,    2,   12], dtype=int16), array([1, 2, 1, ..., 2, 4, 5], dtype=int16), array([1, 4, 2, ..., 0, 0, 1], dtype=int16), array([ -33, -131, -174, ...,  -21,  -28,  -30], dtype=int16), array([-1,  6,  8, ...,  7,  1,  0], dtype=int16), array([17, 23, 29, ...,  9, 15, 13], dtype=int16), array([  7,   1,   3, ..., -12, -14, -28], dtype=int16), array([-35, -34, -24, ..., -55, -94,  20], dtype=int16), array([  0,  -3,  -5, ...,  -8, -11, -11], dtype=int16), array([ -1,  -1,  -2, ...,  -9, -13, -19], dtype=int16), array([  1,   5,  12, ..., -66, -63, -37], dtype=int16), array([  0,   1,   0, ...,   0,  -7, -22], dtype=int16), array([-7, -3, -2, ...,  5,  8,  6], dtype=int16), array([103, 117,  39, ..., -26, -15,  -1], dtype=int16), array([ 28,  24,  14, ..., -22, -18, -13], dtype=int16), array([-22, -22, -22, ...,  32,  23,  29], dtype=int16), array([-59, -54, -41, ...,  13, -37, -70], dtype=int16), array([-20, -19, -21, ...,  29,  31,  42], dtype=int16), array([-73, -72, -38, ...,  57,  35,  17], dtype=int16), array([23, 30, 32, ...,  2,  5,  5], dtype=int16), array([  0,   2,   0, ..., -38, -31, -31], dtype=int16), array([  1,  -5,  -5, ...,  43,  49, -20], dtype=int16), array([12,  8,  2, ..., 23, 25, 24], dtype=int16), array([-110,   32,  142, ...,  -54,  -41,  -32], dtype=int16), array([18, 10,  8, ..., 12, 14, 17], dtype=int16), array([-10, -10,  -7, ...,   6,   6,   8], dtype=int16), array([  7,   8,  11, ..., -13, -13, -20], dtype=int16), array([-24, -25, -25, ...,  37,  40,  40], dtype=int16), array([ 1,  1,  5, ...,  8,  9, 11], dtype=int16), array([-13, -13, -12, ..., -37, -40, -39], dtype=int16), array([  3,   4,   3, ...,  -6, -17,  -9], dtype=int16), array([-4,  0, -1, ..., 26, 38, 39], dtype=int16), array([-12, -11, -10, ...,   6,   1,   4], dtype=int16), array([ 12,   8,  10, ..., -12,  -4,   2], dtype=int16), array([  76,  -41, -154, ...,   15,   13,    9], dtype=int16), array([-23, -35, -36, ...,  41,  52,  52], dtype=int16), array([ -71,  -90, -178, ...,   10,   10,    0], dtype=int16), array([-30, -78, -95, ...,  20,  15,  -6], dtype=int16), array([-22, -23, -27, ...,   3,   4,   2], dtype=int16), array([ 129,    6, -128, ...,   13,   37,   62], dtype=int16), array([10, 13, 15, ..., -5, -2, -2], dtype=int16), array([189, 201, 165, ..., -90, -77, -82], dtype=int16), array([-53, -49, -54, ...,  40,  39,  40], dtype=int16), array([ -1,   0,  -4, ..., -16, -13,   7], dtype=int16), array([26, 17,  9, ..., 14, 27,  7], dtype=int16), array([ 1,  0, -1, ...,  0, -1, -3], dtype=int16), array([-13, -10, -14, ...,   1,   1,  -5], dtype=int16), array([ 50,  -8,  40, ...,  -5,  -9, -11], dtype=int16), array([16, 15, 14, ..., 10, 12, 28], dtype=int16), array([-16, -26, -26, ...,   8,  12,   9], dtype=int16), array([  9,   7,   9, ...,  -2, -13, -11], dtype=int16), array([ -4,  -6,  -7, ..., -17, -23, -19], dtype=int16), array([  3,  -2,  -2, ..., -33, -41, -38], dtype=int16), array([  0,   0,   2, ..., -31, -38, -41], dtype=int16), array([ 10,   8,   6, ..., -22, -14, -15], dtype=int16), array([-223, -175,  -60, ...,   -5,   22,   24], dtype=int16), array([-14, -17, -18, ...,  41,  41,  35], dtype=int16), array([-153,  233,  -34, ...,  -49,  -42,  -38], dtype=int16), array([-31,   6,  16, ...,   0,   5,   9], dtype=int16), array([-6, -6, -6, ...,  9, 12,  8], dtype=int16), array([-56, -52, -53, ...,  17,  21,  16], dtype=int16), array([ 63, -63, -38, ..., -15, -11, -12], dtype=int16), array([-2, -7, -8, ..., -9, -4,  0], dtype=int16), array([180, 164, -97, ...,  26,   4, -10], dtype=int16), array([ 9, 13, 13, ..., 19, 12, -1], dtype=int16), array([  1,   8,   6, ..., -48, -48, -47], dtype=int16), array([ -9, -17, -21, ...,   7,   4,   5], dtype=int16), array([ 0,  0, -5, ..., 16, 12,  0], dtype=int16), array([ -4,  -2,  -4, ..., -11,  -9,  -1], dtype=int16), array([-5, -1, -2, ..., -7, -7, -3], dtype=int16), array([ 41,  -6, -77, ..., -17, -16, -16], dtype=int16), array([-2,  0, -2, ..., -1,  0, -7], dtype=int16), array([   2,    1,    5, ...,   14,  -29, -104], dtype=int16), array([-14,  -9,   2, ...,  10,  16,  13], dtype=int16), array([ 3,  4,  2, ..., -6, -8, -4], dtype=int16), array([-15, -11, -12, ...,   2,  13,  18], dtype=int16), array([ 41, -22, -58, ...,  67,  62,  62], dtype=int16), array([ -8,  -2,   1, ..., -30, -30, -26], dtype=int16), array([-23, -11, -15, ...,  44,  49,  42], dtype=int16), array([26, 28, 23, ..., -3,  3,  1], dtype=int16), array([-13, -89, -45, ...,  10,   4,   1], dtype=int16), array([ 0, -2, -3, ...,  0,  8, 11], dtype=int16), array([ 48, -16,   9, ...,  44, 101,  71], dtype=int16), array([-1,  0, -1, ..., -7, -1,  0], dtype=int16), array([ 9,  7,  8, ..., 17,  2, -7], dtype=int16), array([-29, 116, 292, ..., -10,  -9,  10], dtype=int16), array([-12, -16, -16, ..., -44, -30, -34], dtype=int16), array([-1, -3, -4, ...,  3,  6, 10], dtype=int16), array([179, 122,  55, ...,  41,  40,  33], dtype=int16), array([-83, -84, -33, ...,   0,  16,  35], dtype=int16), array([-28,  40,  11, ..., -49, -48, -51], dtype=int16), array([-16, -20, -21, ..., -14, -20, -20], dtype=int16), array([-14, -16, -12, ..., -13, -20, -18], dtype=int16), array([-22, -17, -10, ...,  23,  29,  19], dtype=int16), array([ 6, 10, 13, ...,  7,  5,  5], dtype=int16), array([  1,   1,   0, ...,   2, -25, -40], dtype=int16), array([-16, -24, -25, ...,   8,  16,  31], dtype=int16), array([ -87,   32,   18, ..., -135,  -56,  220], dtype=int16), array([19, 27, 32, ..., 28, 28, 15], dtype=int16), array([17,  4, -4, ..., 49, 36, 38], dtype=int16), array([22, 17, 14, ...,  2, -2, -1], dtype=int16), array([  9,   8,   4, ...,  -5, -13, -11], dtype=int16), array([-59, -50, -60, ..., -60, -78, -41], dtype=int16), array([ 27,   2, -20, ...,  -3,  -7,  -3], dtype=int16), array([ 5,  7, 11, ...,  1,  3,  0], dtype=int16), array([ 0,  1, -2, ...,  0,  7, 11], dtype=int16), array([-33, -23, -14, ..., -12,  -5,  -5], dtype=int16), array([12, 12, 13, ..., 46, 55, 58], dtype=int16), array([ -8, -10,  -8, ..., -26, -32, -46], dtype=int16), array([-51, -43,  73, ..., -47, -38, -32], dtype=int16), array([-40, -38, -37, ...,  -4,  -7,  -8], dtype=int16), array([-14, -22, -29, ..., -20, -33, -39], dtype=int16), array([ 3,  5,  3, ..., -3, -2,  4], dtype=int16), array([  -6, -223, -318, ...,   24,   23,   16], dtype=int16), array([-31, -16,  -7, ...,  -7,  24,  12], dtype=int16), array([ 42,  44,  49, ..., -13,  -6,  -6], dtype=int16), array([17, 23, 22, ...,  5,  8,  1], dtype=int16), array([  0,  -2,   0, ..., -62, -63, -73], dtype=int16), array([ 8, 13, 15, ..., -8, -5, -3], dtype=int16), array([-241, -248, -292, ...,   -1,    1,    0], dtype=int16), array([ 0,  0,  0, ..., 25, 32, 35], dtype=int16), array([-28, -23, -69, ..., -28, -53,   0], dtype=int16), array([-10, -12,  -5, ...,  -7,   0,   1], dtype=int16), array([ -12, -304,  369, ...,   -3,   -2,   -1], dtype=int16), array([  6,   3,   0, ..., -27, -36, -52], dtype=int16), array([ -5, -10, -15, ..., -16, -16, -17], dtype=int16), array([-13,  -9,  -9, ...,  -5,   7,  12], dtype=int16), array([ 45,  31,  68, ...,  22,  68, -23], dtype=int16), array([  9,   7,   9, ..., -42, -46, -49], dtype=int16), array([-72, -49,  -2, ..., -12, -16, -16], dtype=int16), array([10,  5,  5, ...,  1,  1,  9], dtype=int16), array([ 0,  0, -4, ..., 94, 90, 91], dtype=int16), array([-3, -8, -1, ..., -3, -5, -3], dtype=int16), array([23, 52, 59, ..., -4, -2,  4], dtype=int16), array([-11,  -9, -10, ...,  32,  48,  56], dtype=int16), array([-17, -15, -12, ...,  38,  45,  19], dtype=int16), array([ -3,   2, -12, ...,  -1,  -8, -12], dtype=int16), array([12, 13, 12, ..., 11, 12,  8], dtype=int16), array([-49,  68, 128, ...,  15,  60,  35], dtype=int16), array([ 38,  50,  44, ..., -14, -12, -14], dtype=int16), array([  6,  13,  16, ..., -12,  -9,  -5], dtype=int16), array([-15, -14,  -8, ...,  11, -14,   9], dtype=int16), array([ 18,  12,  21, ..., -75,  77, -26], dtype=int16), array([-23, -33, -35, ...,  52,  56,  41], dtype=int16), array([ 130,  143, -100, ...,  -20,  -26,  -16], dtype=int16), array([211, 192, 176, ..., -10,  -7,  -4], dtype=int16), array([ -9, -17, -14, ...,  76,  76,  76], dtype=int16), array([ -1,  -2,  -2, ..., -34, -24,   0], dtype=int16), array([-38,  26,  74, ..., -12, -14,  -6], dtype=int16), array([27, 20,  9, ..., 32, 91, 43], dtype=int16), array([13, 17, 18, ..., 67, 58, 37], dtype=int16), array([  7,  20,  11, ...,  10,   5, -25], dtype=int16), array([ 1, 14, 11, ..., 35, 55, 39], dtype=int16), array([-26, -23, -29, ..., -23, -26, -32], dtype=int16), array([13, 12, 11, ..., 18, 14,  8], dtype=int16), array([ 80, 236, 185, ...,  -5,   0,  15], dtype=int16), array([ 11,  13,  14, ...,  -6,  -4, -18], dtype=int16), array([ 196,  173,  162, ..., -142,  -92,   19], dtype=int16), array([ 1,  3,  0, ..., 17, 13, 14], dtype=int16), array([ 9, -1, 13, ..., 10,  1, -4], dtype=int16), array([30, 27, 31, ...,  4, 13, 10], dtype=int16), array([  7,  11,  10, ..., -13,  26,  55], dtype=int16), array([-12,  -8,  -3, ...,  12,   6,   1], dtype=int16), array([  1,   5,   2, ..., -15, -14,   1], dtype=int16), array([  0,   0,  -1, ..., -10,   0,  -2], dtype=int16), array([17, 16, 19, ...,  0,  1,  3], dtype=int16), array([ 70, -42,  77, ...,  15,   6,   0], dtype=int16), array([-3, -2,  8, ..., -9,  9, 19], dtype=int16), array([ 19,   6,   0, ...,   2,   6, -11], dtype=int16), array([-25, -25, -27, ...,  30,  35,  23], dtype=int16), array([-21, -20, -22, ...,  -3,   6,   1], dtype=int16), array([-25, -28, -31, ...,  27,  10,  -6], dtype=int16), array([ -2,  -4,   3, ...,  18, -15,  -1], dtype=int16), array([ 19,  16,  16, ..., -29, -33, -39], dtype=int16), array([ 5,  6,  6, ..., 19, 35, 40], dtype=int16), array([ -5, -13, -18, ...,  -7,  -5,  -1], dtype=int16), array([-45,   3, -51, ..., -18, -14, -14], dtype=int16), array([  7,   9,   0, ..., -52, -70, -37], dtype=int16), array([  6,   8,  12, ..., -29, -21, -20], dtype=int16), array([-12, -11,  -5, ..., -20, -22, -27], dtype=int16), array([ 10,   9,  10, ..., -17, -27, -32], dtype=int16), array([-40, -41, -41, ...,   6,   0,   7], dtype=int16), array([-34, -41, -32, ...,  12,  11,  14], dtype=int16), array([-26, -24, -19, ...,  35,  37,  47], dtype=int16), array([  2,   7,   7, ..., 149, -21, -96], dtype=int16), array([ -8,  -5, -14, ...,  44,  46,  46], dtype=int16), array([ 5,  3,  3, ..., 19,  8,  4], dtype=int16), array([  8,  -5, -13, ...,   0, -12,   5], dtype=int16), array([-16, -19, -22, ...,  41,  41,  40], dtype=int16), array([-5, -3, -2, ...,  4, -8, -4], dtype=int16), array([358, 438, 246, ...,  23,  15,  31], dtype=int16), array([  7,   8,   7, ..., -15, -24, -35], dtype=int16), array([ 14, -16, -38, ..., -28, -31, -39], dtype=int16), array([-11, -11, -15, ..., -33,  24, -20], dtype=int16), array([ -7,  54,  -2, ...,  16,  -7, -12], dtype=int16), array([-23, -23, -21, ..., -34, -36, -28], dtype=int16), array([143, 221, 246, ...,  -1,   2,   9], dtype=int16), array([19,  7, 32, ..., 58, 42, 37], dtype=int16), array([ 67,  55,  67, ..., 107,  69,   7], dtype=int16), array([ -26,  -87, -142, ...,  -12,  -25,  -21], dtype=int16), array([-13,  -9,  -7, ...,  -4,  -9, -11], dtype=int16), array([ -1,  -1,  -1, ..., -10, -31, -23], dtype=int16), array([ 0, -1,  1, ...,  0,  0,  0], dtype=int16), array([-19, -25, -22, ..., -42, -42, -42], dtype=int16), array([-19, -24, -32, ..., -19, -17, -28], dtype=int16), array([-1,  0,  0, ...,  5,  1,  0], dtype=int16), array([ -6, -10, -12, ...,   8,  11,   1], dtype=int16), array([-29, -22, -14, ...,  -1,  22,  35], dtype=int16), array([ 5,  0, -2, ..., 17,  0,  8], dtype=int16), array([ 44, -33,  54, ...,   1,   3, -10], dtype=int16), array([ -5,  -5,  -6, ...,  -4,  -3, -11], dtype=int16), array([ 20,  16,   8, ..., -18, -21, -15], dtype=int16), array([-16, -20,   1, ...,  11, -54,  51], dtype=int16), array([-27, -32, -27, ..., -29, -36, -12], dtype=int16), array([ 6, 11, 13, ..., 23, -3, -9], dtype=int16), array([ 16,  14,  15, ..., -31, -42,   8], dtype=int16), array([116, 153, -24, ..., -17, -22, -25], dtype=int16), array([ -1, 187, -37, ...,  -7, -27, -35], dtype=int16), array([-34, -22, -13, ...,  34,  27,  18], dtype=int16), array([ 60,  54,  50, ..., -14,  -5,   0], dtype=int16), array([-90, -27, -13, ...,  29,  25,  16], dtype=int16), array([ 0, -2, -3, ..., 14, 16, 14], dtype=int16), array([ -1, 251, 438, ...,  21,  32,  24], dtype=int16), array([-37,  75,  55, ...,  16,  10,   9], dtype=int16), array([12, 15, 15, ..., -3,  4,  9], dtype=int16), array([-16, -23, -23, ...,   3,   9,   9], dtype=int16), array([  4,   2,   3, ...,  -9, -12,  -8], dtype=int16), array([-37, -41, -39, ...,  49,  40,  36], dtype=int16), array([ 9, 77, 31, ..., 33, 35, 32], dtype=int16), array([ -1,  -3, -17, ..., -10, -10, -18], dtype=int16), array([-59,  -3, -53, ...,  16,  17,  22], dtype=int16), array([  6,  18,  15, ..., -42, -44, -36], dtype=int16), array([-23, -28, -27, ..., -43, -60, -43], dtype=int16), array([-66, -56, -37, ..., -40, -75, -63], dtype=int16), array([ 11,  21,  18, ..., -18, -19, -19], dtype=int16), array([109, 176, 124, ...,  52,   4, -18], dtype=int16), array([-30, -39, -37, ..., -26, -22, -24], dtype=int16), array([13, 13, 12, ...,  6, -5,  0], dtype=int16), array([ -36,    6, -120, ...,  -32,  -24,  -24], dtype=int16), array([ 1,  2,  1, ..., -4, -5, -7], dtype=int16), array([ 17,  14,   8, ..., -13, -14, -21], dtype=int16), array([   4,  -37, -105, ...,   12,   -5,   -7], dtype=int16), array([ 29,  19,  18, ..., -15, -43, -73], dtype=int16), array([-10,  -9,  -9, ..., -26, -24, -32], dtype=int16), array([ -30,    8, -115, ...,   17,   30,   48], dtype=int16), array([107,   8, -62, ..., -13, -11,  -2], dtype=int16), array([-44,  27, 105, ..., -26, -26, -23], dtype=int16), array([-13, -11, -20, ...,  -2,  -5,  -8], dtype=int16), array([-10,  -9,  -3, ...,   8,   4,   8], dtype=int16), array([-13, -10, -13, ..., -12, -14,   1], dtype=int16), array([-4,  4, -3, ..., 71, 88, 16], dtype=int16), array([1, 2, 3, ..., 7, 2, 2], dtype=int16), array([ -6,  -2,  -5, ..., 215, 119, -14], dtype=int16), array([ 4, 13,  2, ..., 12, 23, 47], dtype=int16), array([146, 231, 186, ..., -11,  -4,   4], dtype=int16), array([-17,  -9, -14, ...,   5,   3,   4], dtype=int16), array([  3,   0,   4, ..., -28, -24, -19], dtype=int16), array([-82, -36,   3, ...,  39,  34,  28], dtype=int16), array([ -4, -14, -10, ..., -36, -35, -34], dtype=int16), array([ 208, -179,    8, ...,   12,   15,    8], dtype=int16), array([-15, -14, -14, ...,   6,  -2,   0], dtype=int16), array([ 21,  22,  19, ...,  28,   7, -34], dtype=int16), array([-2,  0, -7, ..., 17, 20, 16], dtype=int16), array([6, 5, 2, ..., 3, 3, 8], dtype=int16), array([ 16,  14,  13, ..., -13, -26,  10], dtype=int16), array([ -4,  -9,  -8, ..., 168, 118, -33], dtype=int16), array([-3,  1,  6, ...,  7, 15, 14], dtype=int16), array([-4, -5, -4, ..., 10,  0, -3], dtype=int16), array([-4, -3, -1, ...,  0,  2,  0], dtype=int16), array([-20, -14,  -5, ...,  66,  70,  46], dtype=int16), array([  0,   1,   0, ..., -43, -42, -44], dtype=int16), array([19, 16, 18, ..., 13, 14, 12], dtype=int16), array([  8,  10,   6, ..., -12,  -1,  -5], dtype=int16), array([-85, -83, -84, ...,  -4,   6,  11], dtype=int16), array([-14,  -9,  -9, ...,  -8,   4,   7], dtype=int16), array([ 2, 11,  9, ..., 21, 35, 27], dtype=int16), array([51, 36, 11, ...,  7,  5, -3], dtype=int16), array([-41, -37, -35, ...,  -1,   7,  11], dtype=int16), array([-7, -9, -5, ..., 16, 20, 19], dtype=int16), array([-87, -50, -54, ...,  -1,  -5, -13], dtype=int16), array([-10,   4,   5, ...,  14,  16,  23], dtype=int16), array([-20, -24, -23, ...,  -4,   8,   3], dtype=int16), array([129, 311, 333, ...,  38,  37,  35], dtype=int16), array([ 176,  -31, -190, ...,  -33,  -32,  -22], dtype=int16), array([ 10,  14,  15, ..., -32, -28, -28], dtype=int16), array([ 26,  25,  23, ..., -27, -30, -26], dtype=int16), array([ -2,  -5,  -2, ...,  -5,  -7, -33], dtype=int16), array([ 6,  1, -2, ..., 26, 18, 19], dtype=int16), array([  2,   3,   5, ..., -21,  -2, -21], dtype=int16), array([278, 208, 118, ...,  40,  46,  37], dtype=int16), array([ 3, 29, 25, ...,  3,  8, 10], dtype=int16), array([-8, -4, -1, ...,  0,  5,  4], dtype=int16), array([-43, -42, -37, ..., -37, -42, -35], dtype=int16), array([ 33,  33,  36, ..., -19, -23,  -6], dtype=int16), array([23, 31, 31, ..., -9,  5,  7], dtype=int16), array([ 18,  13,  11, ...,  18,   0, -22], dtype=int16), array([ 32,  -4, -23, ...,  42,  26,   9], dtype=int16), array([35, 35, 29, ..., 42, 94, 27], dtype=int16), array([-87,  -5, 114, ..., -15, -13, -20], dtype=int16), array([ 0,  0,  0, ..., 17, -2,  6], dtype=int16), array([ -4,  -2,   0, ..., -29,  -3,   0], dtype=int16), array([112, 108,  72, ..., -12, -18, -26], dtype=int16), array([ 0, -2, -1, ...,  1,  9, 10], dtype=int16), array([-123, -116, -113, ...,    1,    6,   17], dtype=int16), array([ -9, -15, -18, ...,  19,  33,  32], dtype=int16), array([167, -93, -12, ...,  24,  22,  26], dtype=int16), array([-38, -39, -29, ...,   0, -18, -28], dtype=int16), array([30, 31, 17, ...,  1,  0,  3], dtype=int16), array([  1,   1,   0, ...,   2, -11, -21], dtype=int16), array([116,   5, -50, ..., -10,  -7,   0], dtype=int16), array([-5, -9, -8, ..., 21, 20, 20], dtype=int16), array([20, 22, 17, ..., 21, 22,  8], dtype=int16), array([196,  89, 186, ...,  -1,  -5,  -5], dtype=int16), array([-22, -19, -16, ..., -46, -28,  -9], dtype=int16), array([-19, -12,   3, ...,   0,  -1,  -6], dtype=int16), array([ 70, 169, 185, ...,  27,  30,  27], dtype=int16), array([-27, -15,  -2, ...,  11,  12,   3], dtype=int16), array([ -5,   1,  -1, ..., -21,   4,  12], dtype=int16), array([ 91, 115,  79, ...,  46,  36,  39], dtype=int16), array([10,  6,  9, ..., -3,  0,  6], dtype=int16), array([ 20,  19,  18, ...,  -9, -13,  -5], dtype=int16), array([-3,  0,  0, ...,  6, 13, 16], dtype=int16), array([  52, -138,  -32, ...,   -7,    0,    6], dtype=int16), array([15,  6,  5, ..., 72, 60, 38], dtype=int16), array([ 14,  18,  17, ..., -25, -21,  -6], dtype=int16), array([  5,   7,   8, ...,  13, -25, -51], dtype=int16), array([  0,  -5,  -2, ..., -25, -50, -49], dtype=int16), array([ 2,  0,  0, ...,  9, 10,  6], dtype=int16), array([-12, -11, -13, ...,  21,  21,  21], dtype=int16), array([130, 140, 152, ..., -28, -50, -30], dtype=int16), array([289, -10, -68, ..., -64, -66, -60], dtype=int16), array([ 18,  15,  19, ..., -43, -22, -16], dtype=int16), array([ 14,  19,  22, ..., -21, -34, -39], dtype=int16), array([ 98,  23, -77, ...,  45,  30,  33], dtype=int16), array([  6,   3,   7, ...,  -8,  -9, -13], dtype=int16), array([ 1,  4,  3, ..., 37, 27, 25], dtype=int16), array([-23, -23, -26, ...,  20,  20,  21], dtype=int16), array([ 4,  4,  3, ..., 27, 28, 29], dtype=int16), array([ 42,  98,  85, ..., -25, -30, -28], dtype=int16), array([-46,  -3, -16, ...,  17,  16,   9], dtype=int16), array([41, 38, 29, ...,  5, 10,  9], dtype=int16), array([ 19,  22, -42, ..., -46, -26, -32], dtype=int16), array([ 9, 10, 11, ...,  4, 15, -1], dtype=int16), array([-36,  -1,  18, ..., -33, -21, -17], dtype=int16), array([ 15,   6,  -1, ..., -37, -34, -33], dtype=int16), array([30, 27, 24, ..., 56, 77, 89], dtype=int16), array([-1,  0,  8, ...,  0, 13,  2], dtype=int16), array([  6,   6,   9, ...,   0,  -1, -12], dtype=int16), array([  5,  -3,  -4, ..., -35, -22,  -3], dtype=int16), array([ 0,  0,  2, ...,  3,  0, -8], dtype=int16), array([  4,   2,   2, ..., -38, -26, -21], dtype=int16), array([-3,  0, -2, ..., 18, 15, 12], dtype=int16), array([-52, -10,  49, ...,  12,   5,  -1], dtype=int16), array([-43,  75, -26, ...,  20,  25,  21], dtype=int16), array([-375, -145,   43, ...,   -3,   -5,   -1], dtype=int16), array([ 9,  6, 13, ..., 16, 19, 15], dtype=int16), array([  0,  -2,   0, ..., -13, -13, -19], dtype=int16), array([  1,   4,   2, ...,  -9, -10,  -7], dtype=int16), array([-19, -19, -23, ...,  23,  18,  16], dtype=int16), array([ 3,  4,  3, ..., -7,  4, 10], dtype=int16), array([-74, -69, -63, ..., -10,  -8,  -6], dtype=int16), array([ -6, -10, -11, ...,  -5,  -7,  -8], dtype=int16), array([  8,   4,   4, ..., -58,  -1, -34], dtype=int16), array([ 0,  0,  0, ..., 14,  8,  7], dtype=int16), array([-2, -4, -5, ..., -6,  0,  4], dtype=int16), array([ -9,  -8,  -4, ...,  -8, -11,  -5], dtype=int16), array([-245, -324, -306, ...,   49,   48,   -2], dtype=int16), array([ 9,  8,  6, ...,  2,  8, -6], dtype=int16), array([ -47, -177, -223, ...,    4,    3,    7], dtype=int16), array([31, 28, 29, ..., 17, 33, 27], dtype=int16), array([ 24, -81, -39, ..., -46, -53, -63], dtype=int16), array([39, 34, 31, ..., 28, 30, 36], dtype=int16), array([14, 10,  6, ...,  1,  5,  1], dtype=int16), array([ 81,  22, -23, ...,  32,   8,  -5], dtype=int16), array([  5,  10,   8, ..., -10, -13, -12], dtype=int16), array([ 5, -3, -3, ..., 53, 55, 59], dtype=int16), array([ 20,  39,  12, ..., -18, -24,   6], dtype=int16), array([-91, -36,  30, ...,   0,   0,   0], dtype=int16), array([17, 19, 20, ..., 31, 26, 19], dtype=int16), array([ -67,    6,    5, ...,   37,  -42, -116], dtype=int16), array([-2,  3,  4, ..., 36, 33, 18], dtype=int16), array([ 57,  39,  33, ...,  29, -22, -43], dtype=int16), array([ 38,  26,  24, ..., -15,  17,  15], dtype=int16), array([-19,  10,   5, ...,  31,  -7,  -7], dtype=int16), array([-11, -11, -10, ..., -38, -34, -24], dtype=int16), array([-10,  -6,  -8, ..., -26, -26, -27], dtype=int16), array([27, -5, 42, ..., 41, 41, 34], dtype=int16), array([-13,  -9,  -4, ...,  12,  16,  15], dtype=int16), array([-10,  -2,  -5, ..., -14, -35, -20], dtype=int16), array([-3,  3,  2, ..., 38, 40, 31], dtype=int16), array([32, 29, 30, ...,  6,  5,  1], dtype=int16), array([-20, -15, -13, ...,  14,  18,   5], dtype=int16), array([-10, -63, -66, ...,  -5, -30, -56], dtype=int16), array([  0,   0,   0, ...,   0,   1, -14], dtype=int16), array([ -2,   0,   4, ..., -17, -11, -21], dtype=int16), array([ 9, 13, 12, ..., 29, 24, 18], dtype=int16), array([-14, -21, -15, ...,  52,  48,  25], dtype=int16), array([-15, -18, -18, ...,  16,  12,  11], dtype=int16), array([ 7,  4, -1, ...,  3, 11,  4], dtype=int16), array([-160, -162, -162, ...,   42,   27,   47], dtype=int16), array([-18, -17, -19, ...,  -9,  20, -50], dtype=int16), array([ -5,  -3, -10, ...,   0,  11,  21], dtype=int16), array([-10, -12,  -7, ...,  -5,  -2,  19], dtype=int16), array([-75,   5,  44, ..., -31, -34, -36], dtype=int16), array([ -3,   0,   1, ..., -17, -14,  13], dtype=int16), array([-2, -2, -1, ..., 10,  8, -1], dtype=int16), array([ 6,  6,  6, ..., -6, -6,  3], dtype=int16), array([-13, -13, -15, ...,  14,  15,  19], dtype=int16), array([-15,  -3,   0, ...,  -9,  -7, -15], dtype=int16), array([-42,  19,  78, ...,   2,  26,   6], dtype=int16), array([  64, -125,  -81, ...,   33,   30,   45], dtype=int16), array([ 4, 12,  9, ...,  6,  0,  1], dtype=int16), array([13, 13, 15, ...,  5, 16, 22], dtype=int16), array([ -8,  -2,  -5, ...,  26, -12, -19], dtype=int16), array([-29, -11, -28, ...,  -6, -12, -18], dtype=int16), array([ 0,  0,  3, ..., -4, -2,  1], dtype=int16), array([ 21,  20,  23, ..., -20, -12,  -7], dtype=int16), array([-13, -13,  -5, ..., -34, -35, -36], dtype=int16), array([ -2,  -9, -15, ...,  13,   0,  -9], dtype=int16), array([ -6,  -6, -11, ...,   5,  33,  69], dtype=int16), array([ -4,  -9,  -8, ...,  -8, -21,  28], dtype=int16), array([ 25,  18,  17, ..., -37, -40, -36], dtype=int16), array([-18, -17, -16, ...,  -1,   0,   0], dtype=int16), array([ 56, 239, 122, ...,  13,   6,   2], dtype=int16), array([-20, -23, -25, ...,  -1,   2,   0], dtype=int16), array([-140, -109, -189, ...,    6,   -9,  -29], dtype=int16), array([-2, -5, -5, ..., 16, 16, 14], dtype=int16), array([-95, -82, -72, ...,  39,  36,  28], dtype=int16), array([ 21,  18,  10, ..., -23, -25, -17], dtype=int16), array([-1, -1, -2, ...,  9,  8, 14], dtype=int16), array([-18, -21, -25, ...,  -7,  -8, -20], dtype=int16), array([  0,  -5,  -1, ..., -75,  15,  15], dtype=int16), array([-20, -22, -14, ..., -29, -24, -11], dtype=int16), array([-4, -9, -6, ..., 24, 34, 39], dtype=int16), array([-15, -12,  -9, ...,  34,   7, -14], dtype=int16), array([-24, -23, -24, ..., -30, -32, -26], dtype=int16), array([ -6,  -9,  -9, ..., -59, -55, -44], dtype=int16), array([-21, -12,  -4, ..., -34, -24, -33], dtype=int16), array([ 64,  21, -95, ...,  10,  13,  12], dtype=int16), array([171, 289, 183, ...,  21,  25,  28], dtype=int16), array([252, 221, 127, ..., -43, -41, -32], dtype=int16), array([ 91,  -8,  -6, ..., -33, -48, -49], dtype=int16), array([-18,  24,  89, ..., -17, -21, -28], dtype=int16), array([15, 14,  3, ..., -2, -3, -4], dtype=int16), array([ 58,  13, -10, ...,  36,   1, -33], dtype=int16), array([94, 92, 53, ..., 47, 50, 53], dtype=int16), array([67, 62, 14, ..., 14, 11,  0], dtype=int16), array([ -8,  -7,  -2, ..., -11, -11,   1], dtype=int16), array([ 189, -115, -242, ...,  -12,  -32,  -42], dtype=int16), array([-12, -17, -14, ..., -18, -10,  -6], dtype=int16), array([-20, -16, -16, ...,  81,  73,  61], dtype=int16), array([-20, -38, -68, ...,   8,  13,  10], dtype=int16), array([-29, -81, -29, ...,  33,  24,  19], dtype=int16), array([-135,  -57,  281, ...,   -9,  -21,  -19], dtype=int16), array([  3,   5,   2, ..., -21, -20, -19], dtype=int16), array([ -1,   2,   5, ..., -25, -24, -26], dtype=int16), array([-21, -21, -19, ...,  22,  57,  37], dtype=int16), array([-28, -40, -29, ..., -37, -56, -17], dtype=int16), array([-1,  2,  3, ..., 16, 12, 14], dtype=int16), array([ 0,  0,  2, ..., 32, 89, 65], dtype=int16), array([11, 12, 11, ..., 42, 39,  8], dtype=int16), array([1, 2, 6, ..., 8, 5, 8], dtype=int16), array([ -7,  -9,  -8, ..., -36, -32, -23], dtype=int16), array([-225,   98,  156, ...,  -10,  -13,  -20], dtype=int16), array([  1,   0,  -3, ..., -24, -34, -30], dtype=int16), array([-4, -1, -2, ..., 22, 26, 24], dtype=int16), array([ -7,  -7,  -5, ..., -27, -25, -37], dtype=int16), array([  1, -65, -66, ...,  17,   7,   5], dtype=int16), array([-27, -31, -36, ..., -28, -43, -10], dtype=int16), array([ 7,  0, 15, ...,  0,  7, 12], dtype=int16), array([123, 104,  79, ...,  20,   7,   5], dtype=int16), array([-6, -6, -1, ...,  8,  6, 14], dtype=int16), array([  7, -55, -34, ..., -44, -15,   0], dtype=int16), array([-104,   83,  179, ...,   38,   62,   67], dtype=int16), array([-12,   8,  25, ..., -22, -22, -20], dtype=int16), array([-34, -38, -74, ...,  74,  35,   1], dtype=int16), array([ -8,  -2, -37, ..., -74, -12,  17], dtype=int16), array([-15,  -7,  -9, ...,  29,  33,  40], dtype=int16), array([  18, -161,  157, ...,   18,   16,    5], dtype=int16), array([  -9,  -52, -106, ...,    8,  -38,  -36], dtype=int16), array([ 0,  1,  1, ..., 21,  9, -1], dtype=int16), array([ 28,  11, -59, ..., -13,  -9,   0], dtype=int16), array([-49, -71, -80, ...,   7,   2,  19], dtype=int16), array([-11, -11,  -9, ..., -15,  -9, -10], dtype=int16), array([-18, -15, -14, ..., -17, -17, -14], dtype=int16), array([ 12,   8,   8, ..., -34, -35, -32], dtype=int16), array([46, 10,  6, ..., 28, 38, 20], dtype=int16), array([ -5,  -8,  -9, ..., -12,  -5,   3], dtype=int16), array([-51, -23,  11, ...,  16,  10,  14], dtype=int16), array([ 21,  24,  27, ..., -37, -39, -40], dtype=int16), array([-5, -1, -1, ..., 15, 18, 29], dtype=int16), array([ 8, 11, 15, ..., 68, 77, 79], dtype=int16), array([  87,  183, -144, ...,    1,   13,    4], dtype=int16), array([55, 15, -5, ..., 27, 67, 57], dtype=int16), array([ -2,  -5,  -6, ..., -14, -14,  -4], dtype=int16), array([21, 19, 22, ..., 26, 37, 27], dtype=int16), array([-48, -44, -34, ..., -37, -40, -27], dtype=int16), array([ -5,  -9, -21, ...,   1,   4, -16], dtype=int16), array([24, 21, 17, ..., 39, 30, 31], dtype=int16), array([  5,   0,   0, ...,  -7, -10, -18], dtype=int16), array([ 9, 10,  1, ...,  0, 24, 14], dtype=int16), array([-76, -75, -81, ..., -39, -17, -28], dtype=int16), array([-11, -17, -26, ...,  11,  16,  22], dtype=int16), array([-20,  13,  56, ...,   3,   1,  -2], dtype=int16), array([24, 17, 14, ..., 18, 14, 13], dtype=int16), array([-1,  0,  0, ..., 17, 11, 13], dtype=int16), array([13, 25, 30, ..., -7, 18, 27], dtype=int16), array([  4,   4,   6, ..., -23, -27, -23], dtype=int16), array([ 43,  36,  45, ..., -33, -35, -56], dtype=int16), array([-4,  1,  0, ...,  0,  0, -3], dtype=int16), array([ -4,  -3,  -1, ..., -49, -55, -64], dtype=int16), array([-231, -104,   27, ...,    0,   -2,    4], dtype=int16), array([ 9, 11, 13, ..., 27, 29, 24], dtype=int16), array([  2,  10,   6, ..., -15,  -8,  -4], dtype=int16), array([-101,  -20,   -4, ...,  -12,    2,   -1], dtype=int16), array([ 20,  14,  11, ..., -19, -25, -29], dtype=int16), array([  0,  -3,  -8, ..., -30, -51, -37], dtype=int16), array([-7, -6, -6, ..., 31, 26, 20], dtype=int16), array([-153,  -56,   56, ...,    2,   10,   -2], dtype=int16), array([-18,  32, -77, ...,   3,   8,  27], dtype=int16), array([282, 556, 628, ...,  28,   9,   1], dtype=int16), array([39, 67, 77, ..., 11, 10,  7], dtype=int16), array([ 34,  -2,  12, ..., -19, -28, -32], dtype=int16), array([ 30,  15, -16, ..., -23, -19, -15], dtype=int16), array([-10,  -4,   1, ..., -10, -20, -28], dtype=int16), array([165,  30, -84, ..., -17, -11,  -7], dtype=int16), array([ 1, 10,  3, ...,  5,  0,  1], dtype=int16), array([ 4, -2, -2, ..., 19, 12,  7], dtype=int16), array([  0,  -3,   1, ..., -27, -25, -17], dtype=int16), array([-18, -21, -17, ...,  45,  43,  41], dtype=int16), array([-3, -4, -9, ..., 12, 34, 51], dtype=int16), array([-59, -54, -49, ..., -40, -34, -15], dtype=int16), array([  3,   5,   5, ..., -18, -12,  -6], dtype=int16), array([-25, -22, -22, ...,  45,  29,  33], dtype=int16), array([160, 151,  98, ...,  29,  27,  25], dtype=int16), array([-24,  -5,  28, ...,   8,   3,   6], dtype=int16), array([-38, -38, -40, ...,  20,  19,  14], dtype=int16), array([ -9, -14, -18, ...,  -3,   0,   6], dtype=int16), array([ 125,  -97, -185, ...,   18,   16,   16], dtype=int16), array([  0,   2,   5, ..., -15, -20, -19], dtype=int16), array([ -9, -10, -15, ...,   8,  -1,  -3], dtype=int16), array([-87, -85, -74, ..., -12, -14, -21], dtype=int16), array([-6, -6, -4, ..., -4, -5, -6], dtype=int16), array([ 0,  1,  0, ..., 19, 25, 15], dtype=int16), array([0, 1, 2, ..., 0, 6, 2], dtype=int16), array([ 22,  -2,  -7, ..., -10,  -8, -10], dtype=int16), array([ 8, 19, 10, ..., 11, 21, 18], dtype=int16), array([ 11,  14,   8, ..., -13,  -7,   1], dtype=int16), array([ 0, -2,  0, ..., 38, 31, 37], dtype=int16), array([ 0, -1, -3, ...,  6,  6, 12], dtype=int16), array([-1, -1, -3, ..., -7, -6,  0], dtype=int16), array([-6, -6, -5, ..., 25, 18, 20], dtype=int16), array([ 398,   -8, -326, ...,   12,   14,   12], dtype=int16), array([ -3, -19, -16, ...,  13,  20,  26], dtype=int16), array([ 13,   0,  -9, ..., -20,  33,   5], dtype=int16), array([-11, -15, -14, ...,  -3,   2,   2], dtype=int16), array([ 15, -10, -11, ...,  40,  24,  20], dtype=int16), array([140, 218,  14, ...,  31,  34,  36], dtype=int16), array([-190, -227, -160, ...,   -9,    3,    0], dtype=int16), array([-34, -47, -59, ...,   6,   3,  -4], dtype=int16), array([ -2,   0,  -2, ..., -15, -17, -18], dtype=int16), array([ 312, -331,  291, ...,  -13,  -23,  -10], dtype=int16), array([ 6,  8,  0, ..., 24, 33, 44], dtype=int16), array([-1, -3, -4, ..., -1, -7, -3], dtype=int16), array([-143, -118,   -5, ...,    5,    8,    8], dtype=int16), array([-185, -172, -199, ...,  -20,  -23,  -16], dtype=int16), array([60, 45, 28, ...,  1, -2, -4], dtype=int16), array([ 231, -170,  -15, ...,    7,    6,    3], dtype=int16), array([ -1,   0,   2, ..., -10, -18, -22], dtype=int16), array([ 0,  0, -4, ..., 12,  5, -6], dtype=int16), array([  -4,  338, -745, ...,   -1,    4,    3], dtype=int16), array([11, 13, 12, ...,  9, 34,  3], dtype=int16), array([ 38,  13,  28, ...,  -9, -10, -10], dtype=int16), array([12, 13, 11, ..., 46, 43, 36], dtype=int16), array([-15, -16, -11, ..., -30, -18, -13], dtype=int16), array([-44, -49, -44, ...,  11,   9,  40], dtype=int16), array([-12,  -8,  -6, ..., -28, -22, -25], dtype=int16), array([  1,   3,   6, ...,   0, -11, -13], dtype=int16), array([ -16, -139,  -94, ...,   16,   23,   32], dtype=int16), array([ 13,  17,  22, ..., -22, -26, -21], dtype=int16), array([16, 18, 21, ..., -4, -8, -4], dtype=int16), array([ 12,  11,  10, ..., -27, -25, -27], dtype=int16), array([ -2,  -5,  -3, ...,  60,  64, -27], dtype=int16), array([-45, -24, -42, ...,  77,  71,   8], dtype=int16), array([  7,   7,   3, ..., -15,  -8,  -7], dtype=int16), array([  1,   6,   4, ..., -13,  -7, -13], dtype=int16), array([-91,  -9,  66, ..., -12, -16, -12], dtype=int16), array([ 37,  14, -27, ...,  21,  32,  27], dtype=int16), array([11, 15, 11, ...,  7, 28, 23], dtype=int16), array([-46, -32, -37, ...,  10,  18,  21], dtype=int16), array([-44, -40, -37, ...,   1,   7,  20], dtype=int16), array([ -78, -143, -144, ...,   -4,   -7,   -8], dtype=int16), array([-2,  0,  1, ..., -4,  0, -4], dtype=int16), array([-14, -38, -31, ...,   0,   4,   0], dtype=int16), array([  7,   6,  11, ..., -10, -11,  -5], dtype=int16), array([-5, -2, -1, ..., 18, 20, 12], dtype=int16), array([ 3,  7, 12, ..., 39, 26, 27], dtype=int16), array([14,  7,  1, ..., 12,  9,  8], dtype=int16), array([ 8, -1, -1, ..., -9, -8, 13], dtype=int16), array([109,  51, -15, ...,   6,   8, -24], dtype=int16), array([122, 149, 121, ..., -11,  -9, -11], dtype=int16), array([-307, -238,   81, ...,   42,   29,   14], dtype=int16), array([-10, -14, -12, ...,   7,   6,   1], dtype=int16), array([ 1, -1,  0, ..., 23, 24, 21], dtype=int16), array([ 4,  3,  5, ..., 14, 20, 25], dtype=int16), array([  6, 115, 192, ...,   4,  10,  13], dtype=int16), array([-19, -14, -16, ...,  -1,   5,   7], dtype=int16), array([-15, -15, -13, ..., -15, -15, -14], dtype=int16), array([-19, -16, -10, ...,  75,  63,  75], dtype=int16), array([  5,   3,   3, ..., -32,   0, -22], dtype=int16), array([-74, -20,  86, ...,   9,  14,  23], dtype=int16), array([11,  7,  6, ..., 24, 20, 11], dtype=int16), array([13, 14, 14, ..., -7, -7, -2], dtype=int16), array([15, 17, 18, ..., -3, -5,  0], dtype=int16), array([-25, -24, -29, ...,  30,  20,  16], dtype=int16), array([ 62, 133,  87, ...,  -1,  -3,  -6], dtype=int16), array([10, 11,  8, ...,  4,  3, -2], dtype=int16), array([ 20,  18,  14, ...,  -2,  -6, -11], dtype=int16), array([-41,  -4, -19, ...,  26,  14,  22], dtype=int16), array([-12, -12, -15, ...,  37,  54,  47], dtype=int16), array([-16, -23, -33, ...,  17,  19,  24], dtype=int16), array([131, 143, -43, ...,  28,  24,  16], dtype=int16), array([ 14,  18,  21, ..., -20, -25, -28], dtype=int16), array([-35, -56, -65, ..., -26, -21, -32], dtype=int16), array([  4,   3,   3, ...,  -7, -10, -14], dtype=int16), array([ 89, -27, -45, ...,  55,  35,  26], dtype=int16), array([   0,   -2,    0, ..., -256,   96,  250], dtype=int16), array([ 7,  5,  6, ..., 10, 10, 10], dtype=int16), array([ 2,  0, -6, ...,  3,  6,  2], dtype=int16), array([-1,  0, 12, ..., 61, 59, -1], dtype=int16), array([ 55,  64,  58, ..., -11, -14,  -8], dtype=int16), array([ 12,  24,  24, ..., -22, -24, -19], dtype=int16), array([34, 34, 31, ..., 19, 23, 17], dtype=int16), array([-29, -26, -22, ..., -52, -61, -64], dtype=int16), array([-13, -15, -15, ...,  37,  36,  13], dtype=int16), array([  6,  -6, -18, ...,  17,  13,   0], dtype=int16), array([  0,  -1,  -2, ..., -15, -15, -28], dtype=int16), array([-88, -87, -74, ..., -26, -15,  -8], dtype=int16), array([-10,  -7, -10, ...,  -6,   0,   4], dtype=int16), array([ 34, -23, -41, ..., -41,  52,   2], dtype=int16), array([-20, -92, -34, ...,  -5,  -2,  -6], dtype=int16), array([ 2,  0, -8, ...,  4,  6,  1], dtype=int16), array([5, 1, 1, ..., 7, 1, 1], dtype=int16), array([ 0,  0, -4, ..., 24, 18, 23], dtype=int16), array([-5, -1, -7, ..., 36,  1, -7], dtype=int16), array([307, 372, 298, ..., -16,  19,  58], dtype=int16), array([-2,  0,  1, ...,  8,  1,  4], dtype=int16), array([ 30,  37,  42, ...,  -1, -31, -67], dtype=int16), array([-16, -19, -21, ...,   7,   7,   8], dtype=int16), array([-1,  4,  4, ..., 33, 44, 42], dtype=int16), array([-5, -3, -6, ..., -9,  0, -6], dtype=int16), array([-3, -6, -4, ..., 30, 22,  9], dtype=int16), array([ 6,  8, 12, ..., -7, -1,  7], dtype=int16), array([ 0,  2, -6, ..., 43, 35, 37], dtype=int16), array([ 136,   73, -136, ...,    1,    8,   12], dtype=int16), array([  4,   1,   2, ...,  -4, -10, -10], dtype=int16), array([ 17,  16,  12, ..., -48, -47, -41], dtype=int16), array([-15, -22, -24, ..., -13,  -9,   1], dtype=int16), array([ -1, -11, -19, ...,  -1,  -4,  -6], dtype=int16), array([-8, -4, -2, ..., 45, 42, 36], dtype=int16), array([  63,  214, -130, ...,  -20,  -16,  -20], dtype=int16), array([ -1,  -3,  -1, ..., -35, -28, -15], dtype=int16), array([-151, -142,  -83, ...,  -22,  -13,   -1], dtype=int16), array([  9,   8,   6, ..., -35, -34, -33], dtype=int16), array([ -70, -166, -225, ...,    6,    6,    0], dtype=int16), array([-150,  -18,   -8, ...,   19,   21,   32], dtype=int16), array([ 3,  3,  3, ..., 11,  9,  9], dtype=int16), array([ -2,  -7, -10, ...,  14,  15,   7], dtype=int16), array([264, -14, -72, ...,   6,  -9,  -9], dtype=int16), array([-182, -127,  -74, ...,   42,   45,   41], dtype=int16), array([-106,  -78,  114, ..., -153,  -98,   33], dtype=int16), array([174, 140, -28, ...,  -1,   6,   4], dtype=int16), array([-10, -11, -11, ...,  27,  20,  17], dtype=int16), array([-64,  -9, -64, ...,  -4,   3,   5], dtype=int16), array([227,  73, 161, ..., -11, -10,  -4], dtype=int16), array([ -4,  -3,  -7, ..., -34, -30, -23], dtype=int16), array([ 1,  5,  6, ..., -5, -8, -3], dtype=int16), array([ 19,   3,  -1, ..., -27,  25,  24], dtype=int16), array([-1, -5, -7, ...,  9, 18, 11], dtype=int16), array([-165, -190, -194, ...,   22,   22,   15], dtype=int16), array([-36, -55, -30, ...,  -7,  -5,  -3], dtype=int16), array([ 3,  2, 10, ...,  4,  0,  0], dtype=int16), array([-1,  5, 12, ..., 19, 22, 23], dtype=int16), array([ -2,  -1,  -2, ..., -35,  -6,  26], dtype=int16), array([-16, -12, -11, ..., -13, -14, -15], dtype=int16), array([15, -3, -7, ..., -4, -2,  0], dtype=int16), array([ -68, -382, -181, ...,  -16,  -18,  -28], dtype=int16), array([-22, -21, -29, ...,  11,  12,   8], dtype=int16), array([ -5,  -8, -12, ...,  21,  14,  11], dtype=int16), array([ -1,  -2,  -2, ..., -15, -13, -16], dtype=int16), array([ 10,   2,  -3, ..., -16, -15, -11], dtype=int16), array([ 10,   9,  10, ..., -15, -12,  -1], dtype=int16), array([  1,   1,   0, ..., -29, -21,   0], dtype=int16), array([-2, -2, -4, ..., 80, 88, 86], dtype=int16), array([-51,  -2,  65, ..., -19, -24, -24], dtype=int16), array([-41, -33, -35, ..., -59, -31,  -5], dtype=int16), array([ 19,  21,  18, ...,  -3, -14, -14], dtype=int16), array([-18, -18, -18, ...,  23,  34,  35], dtype=int16), array([ -2,  -1,   0, ...,  18, -16, -60], dtype=int16), array([15, 75, 63, ...,  0,  0,  1], dtype=int16), array([-213, -120,    6, ...,   44,   46,   41], dtype=int16), array([ -2,   5,   0, ...,   2, -11,  -5], dtype=int16), array([  3,   3,  -2, ..., -50, -53, -51], dtype=int16), array([-45, -53,   8, ...,  10, -15, -68], dtype=int16), array([-27, -29, -23, ..., -31,   3,   4], dtype=int16), array([ 7,  4, 15, ..., 19, 12,  3], dtype=int16), array([ -9, -12,  16, ..., -26,  -7, -30], dtype=int16), array([-17, -12,   0, ...,   9,  17,  15], dtype=int16), array([-11, -12, -16, ...,  25,  23,  31], dtype=int16), array([ 275, -290,   97, ...,    5,    4,    9], dtype=int16), array([ 14,  11,   1, ..., -44, -52, -42], dtype=int16), array([-24, -64, -87, ...,  -7,  -4,  -3], dtype=int16), array([12, 11, 15, ...,  0,  8,  0], dtype=int16), array([-16, -16,  -3, ...,  -3,   3,   4], dtype=int16), array([ 7, 10,  8, ..., 19, 33, 20], dtype=int16), array([ -63, -114,  -27, ...,   26,   32,   32], dtype=int16), array([-1,  0,  4, ..., 48, 48, 56], dtype=int16), array([ 115, -249, -270, ...,   43,   33,   39], dtype=int16), array([ 51,  23, -46, ..., -36,  28,  76], dtype=int16), array([-194,  -44,  139, ...,   10,    7,   -9], dtype=int16), array([-118, -198, -174, ...,  -39,  -36,  -37], dtype=int16), array([ 14,  17,  19, ..., -23, -39, -54], dtype=int16), array([  72, -108, -200, ...,   12,   -8,    3], dtype=int16), array([-172, -205, -206, ...,    6,   14,   17], dtype=int16), array([ 27,  26,  12, ..., -11,  -4,  -2], dtype=int16), array([ 36,  42,  49, ..., -44, -45, -35], dtype=int16), array([ 67,  54, -37, ...,   9,   0,   3], dtype=int16), array([-22, -12,  -6, ...,  10,   9,  14], dtype=int16), array([ -3,  -6,  -4, ..., -13,  -9, -11], dtype=int16), array([ -24, -239, -713, ...,  -15,   -4,    0], dtype=int16), array([ -14,  128, -126, ...,  -28,  -27,  -22], dtype=int16), array([-1, -4, -6, ..., -6,  0,  0], dtype=int16), array([ 2,  2,  4, ..., 66, 74, 66], dtype=int16), array([-14, -36,  14, ..., -20, -25, -31], dtype=int16), array([ -3,   0,   1, ..., -82, -72,  33], dtype=int16), array([-76, -69, -15, ...,  31,  22,  25], dtype=int16), array([ 13,   0,  15, ..., -44, -48, -44], dtype=int16), array([-16,  -5,   5, ..., -15, -14, -10], dtype=int16), array([  6,   0,  -1, ...,  41,  49, -31], dtype=int16), array([  5,  16, -25, ...,  -2,  -2,  -8], dtype=int16), array([17, 14, 10, ..., 10, 14,  7], dtype=int16), array([183,  55, -95, ...,  29,  32,  28], dtype=int16), array([32, 36, 47, ...,  4, -9, -4], dtype=int16), array([ -50, -123, -318, ...,  -17,  -15,    2], dtype=int16), array([ -3, -11, -11, ...,   0, -11,  -4], dtype=int16), array([  6,   5,   5, ...,  -3, -10, -11], dtype=int16), array([23, 40, 31, ..., 25, 22, 23], dtype=int16), array([ -9, -25, -36, ..., -29, -31, -24], dtype=int16), array([-34, -30, -28, ..., -38, -44, -50], dtype=int16), array([ -8,  -3,  -6, ...,  38, -71,   3], dtype=int16), array([ -49, -192, -127, ...,  -26,    1,   24], dtype=int16), array([13,  9, 10, ..., -1, 11,  0], dtype=int16), array([ -7,  -7,  -5, ...,  -7, -11,  -3], dtype=int16), array([ 44,  57,  36, ..., -18,  -3, -15], dtype=int16), array([-37, -43, -46, ...,  -5, -15,  -4], dtype=int16), array([ 3,  0,  2, ..., 15, 16, 10], dtype=int16), array([-82,   8,  72, ..., -22,  -7, -15], dtype=int16), array([ 54, 145,  98, ...,  15,  12,   0], dtype=int16), array([-21, -29, -24, ...,  32,  34,  30], dtype=int16), array([14, 11,  0, ..., 15,  2, 20], dtype=int16), array([  0,   0,  -2, ...,  19,  61, 100], dtype=int16), array([ 10,   7,   1, ..., -38, -33, -27], dtype=int16), array([28, 24, 11, ..., 10,  7,  4], dtype=int16), array([ 2, -2,  0, ..., 15, 18, 19], dtype=int16), array([-4, -6, -8, ..., 30, 22,  6], dtype=int16), array([ 36, -20, -65, ...,  -4,  -5,  -6], dtype=int16), array([-236, -270, -165, ...,    9,   12,   11], dtype=int16), array([  7,   6,   6, ..., -16,  -8,  -5], dtype=int16), array([ -2,  -3,  -8, ...,   0,  38, -30], dtype=int16), array([ 10,  10,   9, ...,  -5,  -9, -22], dtype=int16), array([-34, -36, -41, ...,  64,  73,  61], dtype=int16), array([  5,   3,  -2, ..., -36, -30, -30], dtype=int16), array([ -7, -14, -15, ..., -32, -37, -23], dtype=int16), array([ 2, -1,  0, ..., 18, 24, 26], dtype=int16), array([  5,   4,   2, ..., -47, -46, -42], dtype=int16), array([ 28, -58, -87, ...,  25,  34,  43], dtype=int16), array([16, 20, 21, ..., 14, 42, 50], dtype=int16), array([-15, -18, -16, ..., -15, -14,  -3], dtype=int16), array([ 23,  21,  23, ...,  -9, -10,  -5], dtype=int16), array([  9, -78, -10, ...,  -2,   8,  22], dtype=int16), array([-4,  0,  0, ...,  1,  1,  7], dtype=int16), array([ 0, -2, -3, ...,  1, -8, -5], dtype=int16), array([ -6,  -6,  -3, ..., -20, -16, -19], dtype=int16), array([-22, -19, -28, ...,  -7,  -4, -11], dtype=int16), array([-52, -37, -53, ...,  12,  20,  18], dtype=int16), array([18, 14, 15, ..., -2,  2,  7], dtype=int16), array([  29, -107,  155, ...,   10,    8,   -1], dtype=int16), array([  0,  -2,  -2, ...,   1, -13, -26], dtype=int16), array([-107,  279, -187, ...,   50,  102,  109], dtype=int16), array([   2, -119,   78, ...,  -23,  -30,  -23], dtype=int16), array([32, 36, 27, ...,  6,  3,  5], dtype=int16), array([-22, -70, -41, ...,  -3,   0,   1], dtype=int16), array([11, 10,  7, ...,  2,  2,  1], dtype=int16), array([  3,   7,   6, ...,  20,   2, -14], dtype=int16), array([170, 136,  10, ...,  42,  40,  42], dtype=int16), array([-2, -1,  1, ..., 12, 27, 25], dtype=int16), array([-233,  -97,  235, ...,   21,   12,    2], dtype=int16), array([-111,  -15,   58, ...,   50,   47,   21], dtype=int16), array([  0,   2,  -2, ..., -33,  34,  18], dtype=int16), array([-86, -59,  -5, ..., -62, -53, -51], dtype=int16), array([-24, -19, -14, ...,   8,   2,  -2], dtype=int16), array([ 135, -196, -307, ..., -157,  198, -188], dtype=int16), array([-36, -29, -23, ...,   8,  -3,  48], dtype=int16), array([-129, -235, -199, ...,   10,   -1,    9], dtype=int16), array([-15,  85, -27, ...,  19,  19,  18], dtype=int16), array([ 2, -3, -2, ..., 23,  8,  1], dtype=int16), array([150,  27, -60, ...,  18,  18,  17], dtype=int16), array([131,  -8, -93, ...,  51,  40,  40], dtype=int16), array([-42, -40, -38, ...,  15,  65,  64], dtype=int16), array([ 0,  0,  0, ..., -2,  4,  5], dtype=int16), array([25, 26, 30, ..., 12, 12, 13], dtype=int16), array([-182,  -99,    0, ...,   -6,   -6,    2], dtype=int16), array([-15, -13, -17, ..., -14, -18, -14], dtype=int16), array([-38, -35, -38, ...,   3,   6,   7], dtype=int16), array([63, 67, 72, ..., 28, 27, 42], dtype=int16), array([101,  62,  14, ...,  -8, -18,  -7], dtype=int16), array([-10, -15, -15, ...,  13,   8,   8], dtype=int16), array([13, 11, 15, ..., 14, 15, 11], dtype=int16), array([ 4,  0, -2, ...,  1,  6, 19], dtype=int16), array([-126,  -46,  123, ...,   40,   40,   40], dtype=int16), array([ 46, 116, -10, ...,   0,   1,   1], dtype=int16), array([-38, -10,   5, ...,  12,   6,  14], dtype=int16), array([-40, -40, -42, ...,  35,  49,  67], dtype=int16), array([-58, -68,  48, ..., -21, -30, -16], dtype=int16), array([21, 26, 31, ..., 22, 20, 17], dtype=int16), array([ -4,  -7,  -5, ...,  81, 103,  82], dtype=int16), array([-30, -32, -36, ...,   9,   9,  16], dtype=int16), array([ -86, -131,  -93, ...,   -8,   -1,   -2], dtype=int16), array([-21, -28, -21, ...,  40,  35,  27], dtype=int16), array([-16,   0, -11, ...,  17,  18,  11], dtype=int16), array([10,  9,  8, ...,  5,  5, 12], dtype=int16), array([-15, -10,  -5, ...,  45,  49,  45], dtype=int16), array([-11,  -7,  -4, ..., -26, -36, -48], dtype=int16), array([ -7,  -8,  -8, ..., -30, -34, -32], dtype=int16), array([ 0,  2,  2, ..., -3, -7, -9], dtype=int16), array([ 1,  1,  0, ..., 12,  9, 13], dtype=int16), array([ -22,   20, -122, ...,   -4,   -8,   -9], dtype=int16), array([ 41, -18,  28, ..., -23, -15,  -6], dtype=int16), array([13, 12, 10, ..., 59, 60, 60], dtype=int16), array([ -5, -11, -15, ..., -27, -33, -32], dtype=int16), array([19, 17, -8, ..., 40, 34, 29], dtype=int16), array([-12, -18, -22, ..., -15,   8,  18], dtype=int16), array([28, 40, 77, ..., 29, 38, 53], dtype=int16), array([-26, -31, -28, ...,  35,   0, -40], dtype=int16), array([-12, -13, -11, ...,  30,  19,  23], dtype=int16), array([-203, -286, -165, ...,   13,   13,  -10], dtype=int16), array([-124,  -81,  -95, ..., -106, -140, -136], dtype=int16), array([ 9, 17, 19, ..., 12,  2,  2], dtype=int16), array([-13,  13,  31, ..., -12,  12,  38], dtype=int16), array([ 55,  47,  89, ..., -11,  -5,  -4], dtype=int16), array([  0, -12,   4, ..., -11, -10, -17], dtype=int16), array([ 5,  4,  4, ..., 22, 37, 51], dtype=int16), array([ 51,  76,  85, ...,  76,  36, -28], dtype=int16), array([  6,   8,  10, ...,   1, -12,   4], dtype=int16), array([12, 11, 11, ...,  7, 11,  5], dtype=int16), array([ 192, -333,  322, ...,   23,   15,   27], dtype=int16), array([-28, -25, -23, ..., -10,  17,  37], dtype=int16), array([ 5,  8,  4, ...,  8,  8, 10], dtype=int16), array([ -5, -11,   0, ..., -24, -28, -28], dtype=int16), array([ 32,  14, -38, ...,  10,   5,   7], dtype=int16), array([ -47, -126,    7, ...,   41,   35,   35], dtype=int16), array([117,   8, -71, ...,   7,   7,  13], dtype=int16), array([ -6,  -4,  -7, ..., -24, -27, -27], dtype=int16), array([ 18,  29,  26, ..., -36, -29, -26], dtype=int16), array([ 6,  5,  5, ..., -4, -1, -1], dtype=int16), array([-80, -24,  66, ...,  20,   3,   0], dtype=int16), array([ 9,  7,  0, ..., 10,  5,  6], dtype=int16), array([-83, -80,  28, ...,   5,  15,  11], dtype=int16), array([ 1,  0,  0, ..., 24, 25, 23], dtype=int16), array([-6, -4, -4, ..., 17, 36, 26], dtype=int16), array([-3, -4, -2, ...,  7,  7,  8], dtype=int16), array([-9, -6, -6, ..., -3,  0,  0], dtype=int16), array([ 4,  8, 12, ..., 21, 28, 27], dtype=int16), array([-19, -22, -20, ...,   8,  13,  13], dtype=int16), array([217, 332, 238, ...,  35,  41,  36], dtype=int16), array([-5, -5, -2, ..., 20, 26, 20], dtype=int16), array([-21, -19, -25, ..., -26, -36, -31], dtype=int16), array([ 27,  18,  13, ..., -21, -40, -39], dtype=int16), array([ -62, -139, -129, ...,  -15,  -14,  -19], dtype=int16), array([-3,  2,  3, ..., 49, 42, 33], dtype=int16), array([ 74,  66,  60, ...,  -3, -16,   1], dtype=int16), array([-3, -5,  0, ...,  8, -1, 11], dtype=int16), array([32, 72, 76, ...,  4, 30, 45], dtype=int16), array([  30,   15, -115, ...,  -31,   61,  -39], dtype=int16), array([ 4,  4,  8, ..., 32, 40, 36], dtype=int16), array([ 22,  14, -56, ...,  44,  45,  44], dtype=int16), array([-13, -13, -20, ...,  45,  35,  37], dtype=int16), array([-12,  -8,  -8, ...,  11,   5,  21], dtype=int16), array([ 177,  -71, -221, ...,    0,    6,   -9], dtype=int16), array([  0,   5,   8, ...,  -4, -11, -15], dtype=int16), array([-3, -2, -6, ..., 38, 33, 37], dtype=int16), array([ -5, -11, -15, ...,   2,   0,   5], dtype=int16), array([-27, -22, -18, ..., -17, -24, -24], dtype=int16), array([ 2,  0, -4, ..., 12, 19, 21], dtype=int16), array([ 243, -168,  114, ...,    0,   -8,   -4], dtype=int16), array([-32, -32, -31, ..., -13, -13, -12], dtype=int16), array([  2,   0,   0, ...,  -6, -13, -14], dtype=int16), array([ -2,  -1,  -2, ..., -45, -47, -50], dtype=int16), array([  -6, -140, -158, ...,  -14,  -26,  -35], dtype=int16), array([-22, -39, -26, ...,  -8, -50, -72], dtype=int16), array([ 4,  0,  0, ..., -2,  3, -3], dtype=int16), array([ -4, -14,  -9, ..., -66, -78, -88], dtype=int16), array([-13, -12, -11, ..., -44, -33, -34], dtype=int16), array([-30, -25, -20, ...,  17,  24,  17], dtype=int16), array([ -4,  -9, -11, ...,  -1,   0,  -4], dtype=int16), array([-29, -23, -23, ...,  13,  21,  21], dtype=int16), array([154, 193, 218, ...,  42,  85,  80], dtype=int16), array([226,  21, -52, ...,  10,   2,  -5], dtype=int16), array([ 0, -4,  2, ..., -2, -1,  2], dtype=int16), array([-71,  65,  49, ...,  14,   3,  15], dtype=int16), array([-30,  82, 224, ...,  -6, -14, -14], dtype=int16), array([-15, -20, -26, ...,  17,  13,  17], dtype=int16), array([-24, -27, -26, ...,   4,   5,  -7], dtype=int16), array([-77, -72,  -3, ...,  32,  19,  12], dtype=int16), array([-126, -124,   97, ...,   26,    7,  -12], dtype=int16), array([468, 477, 409, ..., -26, -12,  -7], dtype=int16), array([-28, -30, -41, ...,  19,  15,  10], dtype=int16), array([ -3,  -3,   5, ..., -10,  -6,  -7], dtype=int16), array([-1, -2, -1, ...,  9, 12, 20], dtype=int16), array([ -2,   0,  -7, ..., -52, -48,  21], dtype=int16), array([ 72,  59,  52, ..., -13, -14,   1], dtype=int16), array([143,  41, -50, ...,  22,  -2, -26], dtype=int16), array([-28, -34, -31, ...,  13,  16,  22], dtype=int16), array([-25, -21, -18, ..., -17, -20, -22], dtype=int16), array([-60, -48, -65, ...,  -6,  -1,  -3], dtype=int16), array([-99, -20,  63, ...,  -9,  -6, -17], dtype=int16), array([  4,   6,  15, ...,  28,   0, -31], dtype=int16), array([ 192, -127, -177, ...,   22,   19,   -2], dtype=int16), array([  0,  -4,   2, ..., -11,  -6, -19], dtype=int16), array([-107,  -29,   40, ...,   -7,    6,   12], dtype=int16), array([-11,  -7, -11, ...,  -7,  -4,  14], dtype=int16), array([-21, -24, -21, ...,  -6,  -2,   0], dtype=int16), array([  5,   8,  10, ..., -28, -21, -37], dtype=int16), array([-14, -18, -15, ..., -12,  17, -33], dtype=int16), array([-164,   -6,   73, ...,   23,   25,   23], dtype=int16), array([27, 21, 19, ..., 44, 44, 44], dtype=int16), array([-13, -12,  -8, ..., -40, -47, -49], dtype=int16), array([-12, -13, -10, ...,  76,  74,  75], dtype=int16), array([-30,  25,  67, ...,  41,  41,  44], dtype=int16), array([ -51, -143,  -44, ...,  101,   98,   61], dtype=int16), array([-2, -7, -7, ..., -1, -4, -7], dtype=int16), array([27, 28, -9, ..., 52, 38, 37], dtype=int16), array([ 6,  4, 11, ..., 22,  3,  3], dtype=int16), array([-13, -19, -15, ...,  39,  32,  30], dtype=int16), array([ -3,  -4,  -7, ...,  -3, -11, -12], dtype=int16), array([ 8,  3,  0, ..., 24, 25, 36], dtype=int16), array([ -8, -11, -12, ...,  24,  31,  24], dtype=int16), array([ 34,  92, 103, ...,  77,  79,  74], dtype=int16), array([ -7,  -9, -12, ...,  87, 131, 149], dtype=int16), array([ -48,  -15, -152, ...,   -9,  -14,  -10], dtype=int16), array([-10, -18,  -4, ...,  33,  30,  15], dtype=int16), array([ 4,  3,  0, ..., -6, -3,  9], dtype=int16), array([-19,   3,  -4, ...,  28,  27,  29], dtype=int16), array([-4, -9,  3, ..., 24, 12,  5], dtype=int16), array([19, 12, 10, ..., -5, -5, -8], dtype=int16), array([ 0, -3, -5, ...,  5, 10, 13], dtype=int16), array([ 18,  18,  10, ..., -17,  -8,  -7], dtype=int16), array([-135, -137, -141, ...,    9,   -1,   20], dtype=int16), array([  7,   8,   9, ..., -17, -20, -19], dtype=int16), array([11, 11, 11, ..., 10,  4,  0], dtype=int16), array([ -1, -11,  -9, ..., -32, -25, -22], dtype=int16), array([ 13,   7,   5, ...,  18, -14, -17], dtype=int16), array([-143, -127,    7, ...,    4,   -8,    8], dtype=int16), array([ -4,  -6,  -4, ..., -13, -15,  -9], dtype=int16), array([-10, -10,  -6, ...,  19,  22,  23], dtype=int16), array([  0,   0,   1, ...,  27,  57, -10], dtype=int16), array([ 471,  143, -288, ...,  -42,   10,   22], dtype=int16), array([38, 38, 40, ..., -6, -9, -7], dtype=int16), array([-12,  -8,  -1, ..., -60, -59, -52], dtype=int16), array([ 26,  22,  19, ...,  -6, -10, -16], dtype=int16), array([-75, -95,  22, ...,  31,  26,  19], dtype=int16), array([  9,   4,   6, ...,   2, -44, -34], dtype=int16), array([ 62,  38,  14, ..., -20, -30, -27], dtype=int16), array([-52, -77, -91, ...,  41,  47,  23], dtype=int16), array([ 3, 11,  2, ..., 16,  4, -1], dtype=int16), array([ -2,   0,  -5, ..., -21, -21, -28], dtype=int16), array([-27, -24, -23, ..., -53, -46,  -8], dtype=int16), array([ 4,  7, 11, ..., 38, 35, 31], dtype=int16), array([-10, -10,  -7, ...,  -7,  -4,   0], dtype=int16), array([-12, -11, -12, ..., -66,   6,  72], dtype=int16), array([ 4,  4,  2, ..., -4, -9, -9], dtype=int16), array([-396,   57,  203, ...,   11,   16,    9], dtype=int16), array([-3, -7, -2, ..., 25, 21,  8], dtype=int16), array([-204,  106,  -81, ...,   72,   70,   58], dtype=int16), array([19, 19, 16, ..., 16,  9,  2], dtype=int16), array([11,  9,  9, ..., 28, 48, 35], dtype=int16), array([29, 34, 28, ...,  5,  1, -4], dtype=int16), array([-163, -210, -176, ...,   -4,   -7,    0], dtype=int16), array([ -6,  -6,  -7, ...,   0, -55,  -9], dtype=int16), array([-51, -43, -29, ...,   5,  -6,  -3], dtype=int16), array([  4,   6,   9, ..., -13, -22, -23], dtype=int16), array([-7, -1, -1, ..., 27, 31, 32], dtype=int16), array([12, 16, 25, ..., -3, -4, -3], dtype=int16), array([20, 28, 38, ..., 12, 11,  8], dtype=int16), array([-19, -24, -22, ...,  -3, -13, -14], dtype=int16), array([30, 19, 11, ..., 18, 14, 17], dtype=int16), array([90,  3, 49, ..., -3,  0,  0], dtype=int16), array([ 0, -5, -6, ..., 17,  9, 10], dtype=int16), array([ 14,  -5, -21, ..., -13, -15, -15], dtype=int16), array([-90, -48,  48, ...,   1,   0,   8], dtype=int16), array([  0,  -1,  -8, ...,  -9, -12, -11], dtype=int16), array([ 20,  10,  11, ..., -13,  35,  -7], dtype=int16), array([ 0,  4,  7, ..., 23, 22,  3], dtype=int16), array([-29, -17, -23, ..., -17, -25, -18], dtype=int16), array([ 7, 11, 11, ..., 11,  1, -1], dtype=int16), array([ -1,  -7,  -1, ..., 306, 379,  92], dtype=int16), array([ -5, 188, -15, ..., -72, -73, -68], dtype=int16), array([-11, -13, -14, ...,  43,  52,  56], dtype=int16), array([  5,   2,   4, ..., -41,  19,  29], dtype=int16), array([  8,   4,   5, ..., -36, -28, -25], dtype=int16), array([-17,  -8,  -9, ...,  -9, -15, -26], dtype=int16), array([-15, -10,  -9, ...,  12,  16,   8], dtype=int16), array([ -7, -19, -17, ...,  -1,  -3,   0], dtype=int16), array([-58, -61, -49, ...,  13,  11,   7], dtype=int16), array([  24, -151, -180, ...,    7,    9,    1], dtype=int16), array([ 98, 107, 119, ..., -11, -20, -20], dtype=int16), array([15, 13, 13, ...,  7, 16, 18], dtype=int16), array([ 39,  39,  41, ...,  -6, -11, -10], dtype=int16), array([45, 48, 49, ...,  9, 19, 19], dtype=int16), array([ 22,  14,  10, ..., -10,  21,  57], dtype=int16), array([-55, -58, -68, ..., -29, -28, -19], dtype=int16), array([ 8,  6,  4, ..., 37, 30, 27], dtype=int16), array([-12,  -4,   3, ...,  37,  71,  85], dtype=int16), array([-2,  0, -1, ...,  5,  3, -7], dtype=int16), array([ 94,  -8, -63, ..., -29,  91,  18], dtype=int16), array([-5,  1, -5, ..., 31, 50, 49], dtype=int16), array([ -6,   0,   1, ..., -16, -26, -27], dtype=int16), array([-14, -16, -18, ...,  34,  29,  24], dtype=int16), array([17, 14, 14, ...,  1,  4,  1], dtype=int16), array([  77,   75,  -23, ...,   14,  -75, -184], dtype=int16), array([ -2, -42, -65, ..., -19, -18, -17], dtype=int16), array([-204, -108,   32, ...,   16,  153,  -65], dtype=int16), array([-150,   19,   31, ...,  -21,  -28,  -20], dtype=int16), array([-172,  148,  217, ...,  -46,  -55,  -23], dtype=int16), array([ 10,  12,  12, ..., 114, 110, 116], dtype=int16), array([ -9,  -6,  -6, ..., -14, -10,  -5], dtype=int16), array([ 4,  2,  0, ..., 25, 14, 18], dtype=int16), array([-29, -28, -28, ...,  19,  12,  16], dtype=int16), array([-11,  -8,  -7, ...,  11,   6,  24], dtype=int16), array([ 11,   0, -28, ...,  18,  13,  12], dtype=int16), array([ 0, -1, -2, ...,  0, -3,  4], dtype=int16), array([ 197,  -29, -131, ...,   -9,  -15,   -7], dtype=int16), array([-130,   57,   74, ...,   -8,    1,  -18], dtype=int16), array([ 16,   1,  -1, ..., -26, -24, -10], dtype=int16), array([-16, -12, -13, ..., -38, -31, -30], dtype=int16), array([-23, -22, -13, ..., -88, -48, -43], dtype=int16), array([ 13,  11,  10, ..., -13, -18, -18], dtype=int16), array([  0,   0,   0, ..., -59, -35,  -9], dtype=int16), array([  6,   3,   8, ..., -14,  -8,  -3], dtype=int16), array([-66,  75, 186, ...,  70,  76,  48], dtype=int16), array([ -3,   0,   3, ...,  -2, -18,  -8], dtype=int16), array([-1,  4,  8, ...,  3,  2, 14], dtype=int16), array([ 5,  9,  8, ...,  0, 10, 20], dtype=int16), array([ 6,  4,  9, ...,  1,  1, 11], dtype=int16), array([-16, -15,   0, ...,  31,  37,  42], dtype=int16), array([-27, -32, -29, ..., -14, -21, -18], dtype=int16), array([19, 28,  9, ..., 22, 26, 28], dtype=int16), array([  1,   2,  -1, ..., -13, -23,  16], dtype=int16), array([-18, -20, -20, ..., -42, -44, -44], dtype=int16), array([ 3,  3,  4, ..., 15, 12,  7], dtype=int16), array([-25,  15, 224, ...,  67, -11,  38], dtype=int16), array([  0,   1,   5, ..., -19, -22, -21], dtype=int16), array([-31, -31, -22, ...,   7,   2,  -3], dtype=int16), array([-16, -18, -20, ...,  11, -15,  -9], dtype=int16), array([  5,   4,   1, ...,  -5, -16, -23], dtype=int16), array([-45, -44, -43, ..., -26, -26, -30], dtype=int16), array([134,  76,  -4, ...,   4,   4,  -2], dtype=int16), array([-4, -6, -6, ..., -8, -7,  0], dtype=int16), array([22, 18, 16, ..., 50, 68, 64], dtype=int16), array([19, 19, 49, ..., 24, 18, 17], dtype=int16), array([ -4, -10, -17, ..., -12, -15, -15], dtype=int16), array([-39, -48, -41, ..., -11,  -3,   1], dtype=int16), array([  5,   5,   4, ..., -12,  -9,  -3], dtype=int16), array([ -59, -112, -237, ...,   12,   -1,    1], dtype=int16), array([ 163,  -48, -121, ...,   41,   46,   41], dtype=int16), array([ -6, -10,  -7, ..., 101,  37,   0], dtype=int16), array([ -62,  -83, -144, ...,   10,  -34,  -72], dtype=int16), array([18, 25, 19, ..., -5, -5, -3], dtype=int16), array([-15, -16, -11, ...,  34,  37,  33], dtype=int16), array([25, 26, 32, ..., -9,  1, -1], dtype=int16), array([ -2,  -9,  -3, ..., -38, -74, -49], dtype=int16), array([ -2,  -5,  -7, ...,  -5, -15, -11], dtype=int16), array([-21, -31, -29, ...,  46,  79, -19], dtype=int16), array([-5, -2, -1, ..., 17, 22, 20], dtype=int16), array([ 8, 12, 13, ..., 38, 36, 40], dtype=int16), array([11, 12, 10, ...,  2, 13,  6], dtype=int16), array([10,  3,  6, ...,  6, 18, 23], dtype=int16), array([216, 251, 213, ...,  -5,  -7, -28], dtype=int16), array([ -9,  -9, -11, ..., -46, -47, -46], dtype=int16), array([ 45, 139, 114, ...,  27,  27,  23], dtype=int16), array([  -1,    0,    3, ..., -132, -118,  -99], dtype=int16), array([  71,  -35, -123, ...,   37,   12,   -5], dtype=int16), array([ 66,  70,   1, ...,  -6, -15,  -5], dtype=int16), array([ 14,  20,  26, ..., -32, -29, -27], dtype=int16), array([-3,  2,  1, ...,  4,  3,  0], dtype=int16), array([  4, -31,  14, ...,  41,  39,  36], dtype=int16), array([-22, -23, -23, ...,  30,  29,  23], dtype=int16), array([  -3,  -38, -156, ...,  -12,   -9,  -14], dtype=int16), array([ 9,  2,  2, ..., -3, -3, -4], dtype=int16), array([-3, -9, -6, ...,  0,  0, -3], dtype=int16), array([  0,  -4,  -7, ..., -14,  -9, -17], dtype=int16), array([ 6,  4, -1, ...,  3,  8,  5], dtype=int16), array([-35, -33, -30, ..., -40, -38, -32], dtype=int16), array([11, 11, 20, ..., 25, 21, 26], dtype=int16), array([-1, -5, -4, ..., -4,  2,  7], dtype=int16), array([ 83, -34, -33, ...,   8,   8,  12], dtype=int16), array([17, 18,  7, ..., 14, 19,  1], dtype=int16), array([-42, -41, -42, ...,  33,  27,  41], dtype=int16), array([25, 20, 16, ..., 42, 53, 55], dtype=int16), array([  4,   7,   6, ..., -27, -30, -31], dtype=int16), array([-17, -18, -18, ...,   0,   1,   6], dtype=int16), array([-43, -38, -51, ...,  20,  16,  16], dtype=int16), array([  3,  27, -10, ..., -35, -31, -25], dtype=int16), array([30, 29, 28, ..., 36, 39, 26], dtype=int16), array([  8,   3,   2, ...,   1,  -8, -25], dtype=int16), array([ 124, -146, -265, ...,  -20,  -17,  -20], dtype=int16), array([  3,  -1, -10, ...,  -3, -15, -32], dtype=int16), array([  4,  -9,  -6, ..., -54, -57, -71], dtype=int16), array([  7,   4,   2, ..., -34, -37, -51], dtype=int16), array([61, 14, 72, ..., 14,  5, -6], dtype=int16), array([ -4,   0,   2, ...,  -6, -15,  -8], dtype=int16), array([ 3,  6,  5, ...,  1, -5, -6], dtype=int16), array([-12, -39, -47, ...,  -5,  -6,   1], dtype=int16), array([ 6,  8, 15, ..., -5, -8, -8], dtype=int16), array([-39, -38, -38, ..., -15, -14, -22], dtype=int16), array([-17, -12,  -7, ...,  36,  30,  11], dtype=int16), array([  5,   1,   3, ..., -30, -26, -27], dtype=int16), array([-30, -38, -59, ...,  68,   0, -13], dtype=int16), array([-11, -11, -10, ...,  -5,   6,   8], dtype=int16), array([  3,   6,   7, ..., -10,  53,  75], dtype=int16), array([-22, -30, -18, ...,  14,   0,   4], dtype=int16), array([ -6,  -5,  -5, ...,  37,  12, -13], dtype=int16), array([ -45,  -61, -113, ...,   15,    5,    0], dtype=int16), array([ 3,  3,  8, ..., 41, 40, 45], dtype=int16), array([-20, -27,   2, ...,  -6,  -5, -16], dtype=int16), array([ 27,  20,  14, ..., -50, -50, -49], dtype=int16), array([ 63, -65, -32, ...,   7,   6,   5], dtype=int16), array([  1,   1,  -1, ..., 113, 128, 115], dtype=int16), array([-19, -24, -16, ...,  -4,  -3,   0], dtype=int16), array([11, 10, 11, ...,  5,  8,  6], dtype=int16), array([-8, -3, -2, ..., 61, 66, 29], dtype=int16), array([-11,  -8, -10, ...,   0,  13,  17], dtype=int16), array([  6,   8,   7, ..., -30, -27, -18], dtype=int16), array([ 2,  4,  5, ...,  0, -1, -1], dtype=int16), array([ -6, -11,  -4, ..., -15, -18,  -7], dtype=int16), array([ 1,  9,  9, ..., 10, 32, 28], dtype=int16), array([ -6, -10,  -9, ...,   3, -10, -13], dtype=int16), array([-7, -6, -6, ..., 21, 27, 28], dtype=int16), array([ 20,  29,  34, ..., -24, -10,  -1], dtype=int16), array([16,  5,  7, ..., -2,  9, -7], dtype=int16), array([-14, -20, -31, ...,  14,   5,  14], dtype=int16), array([ -41,  -67, -106, ...,  -67,  -83,  -94], dtype=int16), array([ 1,  2,  3, ..., 17, 15, 28], dtype=int16), array([122, 110, -39, ...,  12, -19, -29], dtype=int16), array([-50, -64, -25, ...,  33,  35,  36], dtype=int16), array([-28,  13,   9, ...,   2,   0,   0], dtype=int16), array([-3,  2, -1, ...,  0,  1,  3], dtype=int16), array([-107, -174,  -69, ...,  -22,  -24,  -30], dtype=int16), array([-2, -1, -1, ...,  6,  1, -8], dtype=int16), array([33, 38, 37, ...,  7,  8,  8], dtype=int16), array([ 20,  21,  22, ..., -43, -32, -27], dtype=int16), array([383, 312, 106, ..., -27, -19,  -6], dtype=int16), array([-23, 187, 313, ..., -22, -23, -78], dtype=int16), array([-11, -10, -10, ..., -14,  -7, -10], dtype=int16), array([ -9,   0,   0, ..., -29, -32, -36], dtype=int16), array([ -2,  -4, -15, ...,  45,  49,  40], dtype=int16), array([-1, -1, -7, ..., -8, -4, -6], dtype=int16), array([-12, -12, -12, ..., -15,  -5,  -6], dtype=int16), array([-3, -2,  0, ..., -3, -9, -2], dtype=int16), array([  7,   9,   6, ..., -18,  -3,  -5], dtype=int16), array([ 5, 42, 47, ..., 20, 12,  6], dtype=int16), array([-20, -23, -22, ...,  -7,  -6,   7], dtype=int16), array([ 8,  7,  6, ..., 22, 26, 31], dtype=int16), array([30, 25, 19, ..., 30, 20, 13], dtype=int16), array([-11, -14, -14, ...,  22,  26,  32], dtype=int16), array([ -5,  -4,   0, ..., -10,  23, -35], dtype=int16), array([22, 18, 11, ...,  3,  4,  6], dtype=int16), array([ 24, -48,  89, ...,  -5,  -6,   0], dtype=int16), array([10, 13, 11, ..., 10,  3, -1], dtype=int16), array([ -65, -176,  -70, ...,   -6,    0,    5], dtype=int16), array([-2,  0,  0, ..., 40, 37, 39], dtype=int16), array([-22, -31, -36, ...,  -5,  -4,   0], dtype=int16), array([ 12,  33, -24, ...,  25,  20,  28], dtype=int16), array([11, 10, 11, ...,  6, 11, 18], dtype=int16), array([43, 43, 44, ..., -7, -7, -8], dtype=int16), array([  0,   1,   1, ..., -20, -21, -17], dtype=int16), array([-29, -30, -28, ...,  19,  21,  23], dtype=int16), array([-65, -23,   6, ...,  25, -11,  -3], dtype=int16), array([ -1,   0,   2, ..., -42, -37, -37], dtype=int16), array([ -27,  122, -165, ...,   13,   17,   25], dtype=int16), array([1, 1, 0, ..., 1, 1, 3], dtype=int16), array([ -9, -11, -13, ..., -31, -23, -20], dtype=int16), array([  7,  12,   9, ..., -28, -26, -26], dtype=int16), array([  0,   0,   0, ..., -28, -28, -25], dtype=int16), array([-178, -175,  -83, ...,   36,   39,   36], dtype=int16), array([  7,  14,  10, ..., -29, -27, -22], dtype=int16), array([12, 10,  7, ..., -2,  0, -4], dtype=int16), array([-12,   4,  30, ..., -25, -29, -27], dtype=int16), array([ -65,  -44,  -13, ..., -152, -128,  -57], dtype=int16), array([  8,  12,   7, ...,  82, 137, 155], dtype=int16), array([ 22,  48,   9, ..., -42, -54, -94], dtype=int16), array([  1, -10,   5, ...,   4,   5,  -1], dtype=int16), array([-102,   30,   72, ...,  -10,   -7,  -12], dtype=int16), array([-105,    6,   64, ...,   12,    5,   -9], dtype=int16), array([-108,  -60,   38, ...,   -1,   -1,   10], dtype=int16), array([ 6, 10,  9, ...,  3,  5,  9], dtype=int16), array([ 6,  7, 11, ...,  1,  2,  7], dtype=int16), array([ 8, 13, 12, ...,  7,  5, 12], dtype=int16), array([ 32,  33,  40, ..., -32, -14, -50], dtype=int16), array([-1, -3, -2, ..., -5, 11, 24], dtype=int16), array([14, 18, 20, ..., -5,  1,  0], dtype=int16), array([-16,  11,  30, ...,  14,  10,  14], dtype=int16), array([-40,  96, 194, ...,  29,  17,  24], dtype=int16), array([-258, -207, -257, ...,   63,   70,   64], dtype=int16), array([ 25,  21,   3, ...,  -1, -14,  -7], dtype=int16), array([-3, -2, -1, ...,  5,  0,  0], dtype=int16), array([ 0,  2,  6, ..., 15, 15, 10], dtype=int16), array([ -1, -31, -59, ...,   9,  12,  11], dtype=int16), array([-1, -1, -2, ..., 34, 38, 34], dtype=int16), array([-22, -23, -26, ...,   0,   1,  10], dtype=int16), array([ 29,  30,  22, ..., -34, -31, -43], dtype=int16), array([14, 16, 16, ...,  1,  0,  2], dtype=int16), array([ -1, -10,   2, ...,  -7, -10, -21], dtype=int16), array([-34, -20, -22, ...,  10,   0,  -1], dtype=int16), array([ 5,  4,  7, ..., 11,  4,  0], dtype=int16), array([  9,  -2,  -4, ..., -11, -11, -16], dtype=int16), array([13, 14, 29, ...,  2,  5,  0], dtype=int16), array([-20, -21, -28, ..., -12, -13, -13], dtype=int16), array([-3, -2, -8, ..., 30,  9, 18], dtype=int16), array([-14,  26, -84, ...,   8,   6,   7], dtype=int16), array([ 114,   22, -134, ...,    1,   -4,   -5], dtype=int16), array([-30, -25, -19, ...,  19,  21,  20], dtype=int16), array([-85, -65,  60, ..., -22, -21, -17], dtype=int16), array([ 32,  29, -43, ...,  43,  40,  44], dtype=int16), array([ -8, -14, -18, ...,  30,  33,  36], dtype=int16), array([  8,  10,   8, ...,   9,  -1, -11], dtype=int16), array([-12,  -9,  -8, ..., -15,  -3, -23], dtype=int16), array([ 18,  88, 115, ..., -20, -19, -25], dtype=int16), array([-118,   41,  273, ...,   47,   51,   46], dtype=int16), array([ 58,   0, -71, ...,  67,  65,  41], dtype=int16), array([ 27,  24,  26, ..., -26, -24, -30], dtype=int16), array([-2, -3, -6, ..., 22, 20,  9], dtype=int16), array([ 0,  0,  0, ..., -5,  0, -6], dtype=int16), array([ 68,  -4,  39, ..., -44, -53, -48], dtype=int16), array([-5, -4,  0, ...,  4, 11, 11], dtype=int16), array([ 78, 110, 135, ...,  42,  74,  59], dtype=int16), array([  0,   1,   1, ..., -30, -33, -33], dtype=int16), array([ 0, -2, -3, ..., 15,  4,  1], dtype=int16), array([  8,  10,   8, ...,  -9, -13, -21], dtype=int16), array([197, -22, -14, ...,  49,  44,  35], dtype=int16), array([-15,  -7,  -4, ...,   1,   1,   3], dtype=int16), array([  9,  13,  12, ..., -12, -16, -14], dtype=int16), array([171, 190,   5, ...,  -6,  -3,   6], dtype=int16), array([73, 70, 80, ..., 17, 11,  8], dtype=int16), array([ 6,  4,  7, ..., 13, 16, 20], dtype=int16), array([-45, -93,  78, ...,  32,  25,  21], dtype=int16), array([-6, -9, -7, ...,  7,  3, -9], dtype=int16), array([ -3, -29, -17, ..., -16,  -4,  -8], dtype=int16), array([ 11, -70,  44, ...,   7,  14,  12], dtype=int16), array([ 10,   7,   4, ..., -11, -23, -18], dtype=int16), array([ 5,  5,  5, ...,  8, 13, 13], dtype=int16), array([-8, 11, 28, ...,  7,  2,  0], dtype=int16), array([-17, -11,   0, ...,  14,  84, 140], dtype=int16), array([-4, -6, -3, ...,  0,  7,  7], dtype=int16), array([-39, -34, -31, ...,  13,   7,  18], dtype=int16), array([-101,  -66, -107, ...,    7,    6,    4], dtype=int16), array([ 14,  12,   6, ..., -19, -14, -17], dtype=int16), array([ -5,  11,  27, ..., -12, -14, -18], dtype=int16), array([ 9, 13, 18, ..., 14, 14, 16], dtype=int16), array([-13, -14, -12, ...,  -6,  -4,  -2], dtype=int16), array([58, 58, 65, ...,  0,  0, -3], dtype=int16), array([ 0,  2,  0, ...,  4, 16, 31], dtype=int16), array([29, 32, 29, ..., 25, 23, 20], dtype=int16), array([-29,  19, -26, ...,  -7, -10, -13], dtype=int16), array([  4,   5,   2, ..., -19, -13, -15], dtype=int16), array([-53, -43,  38, ...,  17,   4, -26], dtype=int16), array([  0,   0,   2, ...,   9,  25, -10], dtype=int16), array([14,  6, -5, ..., 41, 10,  6], dtype=int16), array([ -1,   2,  -1, ...,   8, -29, -69], dtype=int16), array([-8, -6, -6, ...,  2,  4,  7], dtype=int16), array([ 20,  -5, -39, ...,   0,   0,   5], dtype=int16), array([-13, -20, -20, ...,  20,  20,  19], dtype=int16), array([ 0, 14, 16, ..., 12, 17, 18], dtype=int16), array([-155,   72,  125, ...,   17,   12,    6], dtype=int16), array([  7,   2,   0, ..., -10,   0,   1], dtype=int16), array([ 12,  12,   7, ..., -20, -22, -20], dtype=int16), array([ 12,  19,  13, ..., -20,   2,  27], dtype=int16), array([ 0, -2,  4, ...,  0,  0, -3], dtype=int16), array([ -49, -126, -131, ...,   18,   29,   28], dtype=int16), array([ 0, -2,  0, ..., -9,  0, -2], dtype=int16), array([-227, -188,  -52, ...,    4,   16,   10], dtype=int16), array([ 35,  44,  43, ..., -29, -18, -10], dtype=int16), array([111, 143, 161, ...,  -3,   2,  -2], dtype=int16), array([-12, -10, -10, ..., -10,  -4,   6], dtype=int16), array([-5, -2,  0, ...,  7, -3,  0], dtype=int16), array([ 0, -5, -2, ...,  0,  1,  0], dtype=int16), array([282, 358, 220, ...,  -8,  -8, -13], dtype=int16), array([-81, -84, -91, ..., -30, -31, -33], dtype=int16), array([  0,  -8, -13, ..., -24, -35, -12], dtype=int16), array([ -46, -167, -147, ...,  -18,  -53,  -68], dtype=int16), array([148, 130, 134, ...,  -6,   9,  14], dtype=int16), array([ -1,   2,  -8, ..., -12, -13, -12], dtype=int16), array([12, 13, 11, ..., 20, 16, 15], dtype=int16), array([-73,  68,  89, ..., -29, -30, -24], dtype=int16), array([ 28,  19,  15, ..., -19, -19, -18], dtype=int16), array([ -2,  -8,  -2, ..., -13, -18, -17], dtype=int16), array([ -1,  -1,  -3, ..., -25, -47, -47], dtype=int16), array([-24, -17,  -6, ...,  15, -11, -14], dtype=int16), array([-3, -3,  0, ..., 32, 27, 27], dtype=int16), array([ -8, -14, -10, ...,  27,  11,  47], dtype=int16), array([31, 28, 31, ..., 26, 23, 25], dtype=int16), array([ 42, 159, 127, ..., -15,   7,  -8], dtype=int16), array([ -6, -11, -14, ...,  22,  16,   2], dtype=int16), array([ 17,   0, -18, ..., -15, -21, -26], dtype=int16), array([ 2,  1,  1, ..., 83, 38, -2], dtype=int16), array([ -1,  -1,  -1, ...,  -4,  -9, -29], dtype=int16), array([-28, -18, -26, ...,  38, -15, -31], dtype=int16), array([ 0,  0, -2, ..., 11, 23, 39], dtype=int16), array([ 27,  30,  26, ..., -32, -39, -28], dtype=int16), array([ 30,  32,  32, ..., -31, -34, -33], dtype=int16), array([ -7,  -5,  -3, ..., -29, -40, -25], dtype=int16), array([-2, -1, -1, ..., 23, 27, 26], dtype=int16), array([-114, -105,   72, ...,   70,   59,   74], dtype=int16), array([-7, -2,  0, ...,  0,  0, -2], dtype=int16), array([-12, -14, -14, ...,  22,  26,  32], dtype=int16), array([12, 12,  6, ..., 24,  9,  6], dtype=int16), array([  1,   4,   4, ..., -11,  -7,   4], dtype=int16), array([-22, -22, -19, ..., -31, -34, -21], dtype=int16), array([ 7,  4, -1, ..., -1,  8,  6], dtype=int16), array([ -3,  -3,  -4, ..., -22, -30, -31], dtype=int16), array([-33, -24, -24, ...,  33,  37,  30], dtype=int16), array([160,  97,  21, ...,   0, -12, -28], dtype=int16), array([-68,   9,   7, ...,  39,  37,  36], dtype=int16), array([-18, -21, -20, ..., -46, -68, -20], dtype=int16), array([ -3,  -2,   0, ..., -11, -18,   4], dtype=int16), array([ -37, -113,    6, ...,   -6,  -12,  -15], dtype=int16), array([-20, -22, -20, ...,  33,   7,  38], dtype=int16), array([ 30,  40,  39, ..., -19, -11,  -1], dtype=int16), array([27, 31, 25, ..., 21, 32, 30], dtype=int16), array([33, 29, 29, ..., 24, 31, 38], dtype=int16), array([-14,  46,  56, ...,  18,  -6, -45], dtype=int16), array([-237, -253, -239, ...,    5,   11,   21], dtype=int16), array([  5,   7,  10, ..., -26,  -1,  54], dtype=int16), array([-16, -23, -21, ...,   8,   4,  -5], dtype=int16), array([ 10,  10,  12, ..., -21, -26, -17], dtype=int16), array([ -49,  -95, -132, ...,    3,  -13,  -16], dtype=int16), array([  4,  -5, -10, ..., -28, -29, -10], dtype=int16), array([-32, -31, -22, ..., -18, -21, -22], dtype=int16), array([23, 23, 23, ...,  8,  0, -1], dtype=int16), array([ 136,  -43, -123, ...,  -67,  -55,  -33], dtype=int16), array([-31,  26,  58, ...,  24,  18,  20], dtype=int16), array([21, 29, 20, ..., 28, 23, 22], dtype=int16), array([ 21,  21,  24, ..., -33, -31, -33], dtype=int16), array([ 12,  16,  16, ..., -23, -26, -34], dtype=int16), array([ 113,  -88, -404, ...,  -23,  -23,  -16], dtype=int16), array([-21, -33, -33, ...,  -1,   5,  14], dtype=int16), array([ -7, -13, -14, ...,  -5,  -7,  -7], dtype=int16), array([ 13,  15,  11, ...,  16, -24, -10], dtype=int16), array([  0,  -4,  -1, ..., -17, -21, -23], dtype=int16), array([ -46, -129, -103, ...,   16,    9,    5], dtype=int16), array([-5, -6, 10, ..., -2, -3, -3], dtype=int16), array([ -6,  -4,  -5, ..., -29,  -9,  16], dtype=int16), array([ -1,  -3, -12, ...,  -2,   0,  -4], dtype=int16), array([  93,   52, -110, ...,  -25,  -36,  -40], dtype=int16), array([-5,  0,  4, ..., 27, -1, 10], dtype=int16), array([-7, -6, -7, ..., 11, 11, 21], dtype=int16), array([  4,   9,  14, ...,  -3, -16, -29], dtype=int16), array([ -1,   1,   2, ..., -21, -21, -21], dtype=int16), array([-13, -13, -14, ...,   1,   0,   0], dtype=int16), array([ 0, -1,  0, ...,  0, -2, -5], dtype=int16), array([-15, -13, -18, ...,   5,   1,   5], dtype=int16), array([  3,   2,   3, ..., -39,   5,  43], dtype=int16), array([-6, -6, -4, ...,  6,  0, -2], dtype=int16), array([-98, -98, -98, ...,   5,  11,  14], dtype=int16), array([-258,    6,  295, ...,   27,   39,   42], dtype=int16), array([112, 125, -29, ...,  14,   7,   6], dtype=int16), array([ 1,  4,  0, ...,  9, 10,  4], dtype=int16), array([ 3,  9,  8, ..., 37, 25, 24], dtype=int16), array([ 6,  4,  4, ...,  1, -3,  0], dtype=int16), array([105, 167, 130, ...,  20,  13,   9], dtype=int16), array([ -7, -15, -15, ...,   0,   5,   7], dtype=int16), array([ -37, -155, -142, ...,  -15,   -2,   -2], dtype=int16), array([ 6,  3,  6, ..., 33, 34, 24], dtype=int16), array([ 73, 188,  75, ...,   3,   3,  15], dtype=int16), array([ 11,   9,   5, ..., -13, -10,   7], dtype=int16), array([ 47,  37, -29, ..., -31, -21, -87], dtype=int16), array([ -2,  -6,  -3, ..., -26, -23, -24], dtype=int16), array([-122, -114, -106, ...,   31,   31,   29], dtype=int16), array([11,  5,  5, ..., 16,  0, -1], dtype=int16), array([232, 148,  -7, ...,   7,  29,  40], dtype=int16), array([-17, -15, -12, ...,  -5,  -7,  -6], dtype=int16), array([ -8, -14,  -9, ..., -31, -29, -30], dtype=int16), array([ -3,  -7,  -9, ..., -49, -39, -32], dtype=int16), array([ -78, -120, -115, ...,    3,    0,   15], dtype=int16), array([-14, -24, -17, ...,  21,  16,  22], dtype=int16), array([-28, -31, -29, ...,  26,  27,  32], dtype=int16), array([116, 117,  70, ..., -48, -47, -49], dtype=int16), array([ 0, -3, -4, ..., -1,  5, 12], dtype=int16), array([  8,  23,  25, ..., -20, -16, -24], dtype=int16), array([ -44, -129,    4, ...,    2,   15,    6], dtype=int16), array([-16, -11,  -9, ...,  32,  17,   2], dtype=int16), array([ 12,   5,  10, ...,  -9, -11, -16], dtype=int16), array([-3,  0,  2, ..., 28, 36, 37], dtype=int16), array([ 97, 102, 192, ...,  17,  51,  34], dtype=int16), array([18, 59, 98, ..., 27, 11,  9], dtype=int16), array([-1, -6,  1, ...,  5, -2, -9], dtype=int16), array([ 14,  14,  27, ..., -42, -40, -24], dtype=int16), array([-87, -57,  40, ..., -14,  -4,  -2], dtype=int16), array([-30, -58, -60, ..., -13,  -4,  -2], dtype=int16), array([  6,   9,   6, ...,  -6, -10,  -6], dtype=int16), array([ 21, -66, -20, ..., -82, -68, -60], dtype=int16), array([ 25,  24,  14, ..., -11, -10,  -7], dtype=int16), array([ -5,  -1,   0, ...,  -8, -11, -15], dtype=int16), array([-22, -21, -21, ...,   7,   1,  -3], dtype=int16), array([-42,  48,  95, ...,  -6,  -5,  -5], dtype=int16), array([13, 13,  9, ..., 16, 12, 12], dtype=int16), array([-107, -319, -227, ...,   27,   33,   32], dtype=int16), array([  6,  13,  14, ...,  56,  11, -42], dtype=int16), array([ -56, -199, -309, ...,  -27,  -23,  -20], dtype=int16), array([ 3,  9, 11, ...,  4, 10, 27], dtype=int16), array([-29, -73,  14, ...,  18,  19,   9], dtype=int16), array([11, 16, 16, ..., 30, 35, 36], dtype=int16), array([-20,  58, -18, ..., -47, -43, -36], dtype=int16), array([-99, -15,  74, ...,  11,  22,  20], dtype=int16), array([-36, -41, -43, ..., -16, -14, -18], dtype=int16), array([ -3,  -5,  -5, ..., -11, -15, -18], dtype=int16), array([ 1,  0, -1, ..., 35,  5,  3], dtype=int16), array([-43, -42, -50, ...,  14,   8,  10], dtype=int16), array([26, 21, 15, ..., -3,  0,  4], dtype=int16), array([  4,  13,  20, ..., -20, -18, -18], dtype=int16), array([ 5,  6,  7, ..., 24, 26, 26], dtype=int16), array([ 18,  18,  20, ..., -46, -44, -40], dtype=int16), array([ -44, -112,  -12, ...,  -15,  -16,  -15], dtype=int16), array([34, 34, 20, ..., 34, 33, 25], dtype=int16), array([-24,  -7,  -9, ...,  -3,  -1,   0], dtype=int16), array([ -17,  -84, -110, ...,   26,   26,   24], dtype=int16), array([ -51,   34,   52, ...,  -67, -115,  -75], dtype=int16), array([ 336,   49, -229, ...,  -76,  -71,  -71], dtype=int16), array([-10, -10, -12, ..., -14, -17, -14], dtype=int16), array([-2, -9, -4, ...,  7, 13, 10], dtype=int16), array([ 74,   9, -34, ...,  10,  13,  18], dtype=int16), array([-19, -17, -14, ...,  -6,  -7,  -9], dtype=int16), array([-8, -4, -4, ..., -1,  0,  0], dtype=int16), array([  0,  -4,  -1, ..., -11, -20, -22], dtype=int16), array([-14,  -5,  -8, ...,  -1,  -1,  -5], dtype=int16), array([ 1,  1, -4, ..., 20, 20, 16], dtype=int16), array([-23, -25, -21, ...,  14,   5, -16], dtype=int16), array([-31, -14, -18, ...,  28,  27,  28], dtype=int16), array([-36, -35, -40, ...,  16,  14,  20], dtype=int16), array([-24, -29, -29, ..., -19, -11, -16], dtype=int16), array([  55, -116,  -75, ...,  183,   33,   -4], dtype=int16), array([ -6,  -6, -11, ...,   6,  70, 111], dtype=int16), array([ -6, -12, -10, ...,   1,  -7,  -5], dtype=int16), array([-36, -41, -38, ...,  14,   5,   1], dtype=int16), array([ -9,  -9,  -7, ..., -20, -13,  -9], dtype=int16), array([-12, -17, -21, ...,  21,  28,  20], dtype=int16), array([13, 11, 15, ..., 19,  9, -1], dtype=int16), array([-252,  -58,  179, ...,    0,  -37,   13], dtype=int16), array([31, 33, 19, ..., 35, 32, 29], dtype=int16), array([ 15,  16,  19, ..., -35, -31, -28], dtype=int16), array([56, 55, 54, ..., 10, 17, 13], dtype=int16), array([ 10,   0, -10, ...,   0,  27,  19], dtype=int16), array([  8,  13,  15, ..., -12, -14, -12], dtype=int16), array([ 15,  20,  18, ..., -15, -14, -10], dtype=int16), array([ 0,  0, -5, ..., 32, 44, 52], dtype=int16), array([-53, -56, -55, ...,  -2,   4,   1], dtype=int16), array([15, 15, 11, ..., -8,  6,  1], dtype=int16), array([35, 36, 34, ..., 31, 28, 25], dtype=int16), array([ 32, -77,  98, ...,  34, -46, -91], dtype=int16), array([-30, -30, -29, ...,  16,  15,  33], dtype=int16), array([-10,  -2, -10, ..., -19, -12, -20], dtype=int16), array([-4, -3, -1, ..., 14, 11, 17], dtype=int16), array([12, 12,  9, ..., 40, 35, 39], dtype=int16), array([  5,   3,   3, ..., -11, -11, -13], dtype=int16), array([27, 21, 15, ..., 16,  3,  0], dtype=int16), array([24, 14, 14, ..., 11, 10, 28], dtype=int16), array([-86, -31, -43, ...,  19,  24,  16], dtype=int16), array([-26, -26, -18, ..., -49, -60, -62], dtype=int16), array([13, 11, 10, ..., 12,  0, -2], dtype=int16), array([47, 55, -5, ...,  7,  6, 10], dtype=int16), array([-27, -26, -31, ...,  24,  19,   9], dtype=int16), array([  5, 126, 140, ..., -60, -43, -56], dtype=int16), array([ 18,  19,  17, ..., -45, -61, -59], dtype=int16), array([-11,  -9, -10, ...,   2, -16, -32], dtype=int16), array([ 17,  25,  25, ..., -10, -16, -16], dtype=int16), array([ 1,  1, 10, ..., 39, 41, 40], dtype=int16), array([ 9,  9,  0, ..., 22, 24, 21], dtype=int16), array([  0,  -1,  -1, ..., -37, -13, -10], dtype=int16), array([ 2, -2, -5, ..., 27, 29, 26], dtype=int16), array([24, 28, 28, ..., 19,  5,  4], dtype=int16), array([279, 294, 309, ...,  -2,   1,   0], dtype=int16), array([ 6,  6,  3, ...,  3, -2,  0], dtype=int16), array([ 3,  3,  3, ..., 41, 53, 49], dtype=int16), array([124, 100,  37, ...,   2,   5,   4], dtype=int16), array([1, 1, 0, ..., 3, 1, 2], dtype=int16), array([-68, 234, 292, ...,   8,  -3,   1], dtype=int16), array([  4,   3,   4, ..., -32, -39, -37], dtype=int16), array([-204, -189, -176, ...,   15,    9,   -2], dtype=int16), array([-251, -122,   35, ...,   26,   19,   16], dtype=int16), array([-15, -16, -21, ...,   0,  -6,  -8], dtype=int16), array([-41, -34, -86, ..., -13,  -9,  -1], dtype=int16), array([-37, -39, -31, ...,  -7, -12,  -8], dtype=int16), array([ -9, -20, -26, ...,   6,   0,  -7], dtype=int16), array([-213, -125,  128, ...,   -7,   -8,  -11], dtype=int16), array([ 1,  3,  9, ..., 21, 29, 28], dtype=int16), array([ 5,  3,  6, ..., 15, 19,  8], dtype=int16), array([ 8, 11, 11, ..., 44, 42, 19], dtype=int16), array([17, 31, 13, ...,  4,  2,  0], dtype=int16), array([  6,   5,  -1, ..., -16, -14,  -8], dtype=int16), array([ -2,  13,  10, ..., -10,  -6,  20], dtype=int16), array([  5,  -1,   4, ...,  17, -11,   0], dtype=int16), array([  2,   5,   0, ...,  28,   3, -14], dtype=int16), array([-2, 23, 16, ..., 21, 20, 15], dtype=int16), array([-58,   0,  51, ...,  81,  91,  87], dtype=int16), array([42, 45, 38, ..., 32, 28, 29], dtype=int16), array([-497, -352,  150, ...,  -43,  -32,  -31], dtype=int16), array([  2,   0,   4, ..., -12,  28,  26], dtype=int16), array([  0,   0,  -1, ..., -11,  -5,  -4], dtype=int16), array([-26, -24,  54, ...,  -2,  -8,  -8], dtype=int16), array([-183,  144, -151, ...,  -50,  -74,  -47], dtype=int16), array([-5, -5, -4, ..., 12,  3,  9], dtype=int16), array([ 7, 13, 12, ..., -1,  2,  3], dtype=int16), array([44, 43, 26, ..., 18,  0, -1], dtype=int16), array([  33,   78, -139, ...,  -53,  -40,   -9], dtype=int16), array([ 39,  44,  47, ..., -21, -19, -21], dtype=int16), array([ 4,  8, 10, ..., 26, 21, 21], dtype=int16), array([ 36, 166,  95, ..., -23, -27, -27], dtype=int16), array([-75, 143, -63, ..., -12,  26,  16], dtype=int16), array([17, 20, 19, ..., 24, 28, 28], dtype=int16), array([-5, -9, -5, ...,  6, 12,  4], dtype=int16), array([-41, -85,  96, ...,  47,  43,  38], dtype=int16), array([ 63, -47,  70, ...,  -3,  -8, -22], dtype=int16), array([-6, -8, -7, ...,  5,  8,  4], dtype=int16), array([ -3,  -6,  -3, ..., -10,  -7,  -4], dtype=int16), array([ 9,  8,  4, ...,  2,  8, 10], dtype=int16), array([ 238,  342,  395, ...,   20,  -89, -161], dtype=int16), array([ 0,  0,  0, ...,  8,  2, 15], dtype=int16), array([133, 155, -11, ..., -23, -23, -19], dtype=int16), array([-10, -12, -12, ...,  -4,  -8,  -2], dtype=int16), array([-10,  -8, -13, ...,   1,  -3,   2], dtype=int16), array([-30, -23, -19, ...,  26,  36,   6], dtype=int16), array([-18,   9, -21, ...,  17,  23,  22], dtype=int16), array([ 26, 135,  23, ..., -17, -22, -20], dtype=int16), array([-24, -26, -34, ..., -47, -35, -38], dtype=int16), array([-4, 25, 30, ...,  3, 11, 28], dtype=int16), array([-10,  -7,  -4, ..., -11,  -5,  -4], dtype=int16), array([-11, -14, -22, ...,   1,  -2,   0], dtype=int16), array([ 0, -2, -1, ..., 20, 22, 26], dtype=int16), array([  4,  -2,  -4, ..., -44, -36, -30], dtype=int16), array([-14, -13, -24, ..., -29, -20, -20], dtype=int16), array([  4,   6,  10, ..., -35, -22, -20], dtype=int16), array([  2,   0, -30, ...,  13,  18,  17], dtype=int16), array([  3,   2,   5, ...,  45,  43, -20], dtype=int16), array([  5,   8,  12, ..., -41, -39, -46], dtype=int16), array([-13, -19, -30, ...,  -1,   1,   3], dtype=int16), array([77, 33, 78, ..., 25, 34, 32], dtype=int16), array([-195,   84, -125, ...,   68,   83,   48], dtype=int16), array([-17, -16, -15, ...,   0,  10, -26], dtype=int16), array([ 15,  16,  12, ..., -13, -13, -15], dtype=int16), array([-48, -24,  28, ...,   3,  14,  19], dtype=int16), array([ 10,   8,   5, ...,  16,   3, -37], dtype=int16), array([  2,  -9, -14, ...,  18,  17,   9], dtype=int16), array([382, 342, 291, ...,  22,  24,  25], dtype=int16), array([-28, -30, -28, ..., -24, -35, -29], dtype=int16), array([-1, -2,  0, ..., 87, 71, 32], dtype=int16), array([ -41,   73, -120, ...,  -22,  -28,  -28], dtype=int16), array([-32, -37, -42, ...,   8,   7,  10], dtype=int16), array([-1, -4, -8, ...,  8, 20, 10], dtype=int16), array([ -2,  -5,  -4, ..., -50, -43, -37], dtype=int16), array([ 1,  1,  1, ..., 25, 38, 48], dtype=int16), array([-25, -23, -23, ...,  11,  18,  16], dtype=int16), array([-10, -11, -12, ..., -24, -37, -43], dtype=int16), array([-15, -13, -14, ...,  42,  41,  42], dtype=int16), array([ 14,  13,  15, ...,  25, -21, -22], dtype=int16), array([ 1,  0,  0, ..., -2,  2,  6], dtype=int16), array([102,  48, -56, ...,  -8,  -4,   1], dtype=int16), array([ 14,  15,  19, ..., -37, -37, -44], dtype=int16), array([-57, -53, -50, ...,   6,  12,  15], dtype=int16), array([ 6,  5,  6, ..., 21, 52, 21], dtype=int16), array([ 3,  1,  2, ...,  0,  1, -5], dtype=int16), array([ 8, 10,  9, ..., 16, 15, 21], dtype=int16), array([-12, -27, -30, ...,  26,  31,  33], dtype=int16), array([16, 20, 23, ..., 19, 24, -2], dtype=int16), array([209, 134, -25, ...,  26,  17,  21], dtype=int16), array([-11, -59, -87, ...,   8,   5,   9], dtype=int16), array([-58, -58, -56, ..., -36, -43, -41], dtype=int16), array([-7,  6, 18, ..., -8, -5,  1], dtype=int16), array([-18, -19, -19, ...,  -2,   5,   3], dtype=int16), array([-24, -27, -29, ...,   9,  13,   7], dtype=int16), array([ -8, -64, -40, ..., -17, -19, -31], dtype=int16), array([ 2,  5,  4, ..., 28, 21, 12], dtype=int16), array([  8,   7,   7, ...,  -2,  -4, -11], dtype=int16), array([18, 23, 22, ..., 36, 35, 35], dtype=int16), array([ 3,  5,  2, ..., -4, -1,  4], dtype=int16), array([ -1,   0,   6, ..., -24, -25, -19], dtype=int16), array([ -9, -18, -15, ..., -30, -22,  -9], dtype=int16), array([ 14,   3, -10, ..., -25, -22, -31], dtype=int16), array([ 3,  5,  4, ..., -4, 33, -2], dtype=int16), array([  1, -15, -31, ...,  11,  16,   6], dtype=int16), array([-5,  0,  1, ..., 14, 23, 33], dtype=int16), array([22, 12, -4, ...,  9, 26, 34], dtype=int16), array([  44,   22, -195, ...,   13,   11,    5], dtype=int16), array([-145,   37,  239, ...,   36,   41,   44], dtype=int16), array([ -6, -31,  32, ..., -24, -22, -15], dtype=int16), array([46, 23, -7, ..., 21, 24, 11], dtype=int16), array([ 5,  5,  4, ..., 18, 13, 13], dtype=int16), array([13, 14,  6, ...,  5,  6, 16], dtype=int16), array([40, 52, 62, ..., 29, 29, 33], dtype=int16), array([ 2,  6,  9, ..., -2, -5,  0], dtype=int16), array([ 92,  46, -43, ...,   5,  -2,   0], dtype=int16), array([-47, -36, -37, ...,   3,   3,  -5], dtype=int16), array([  7,  12,  11, ...,   6, -14, -10], dtype=int16), array([ 15,  22,  26, ..., -17, -13, -13], dtype=int16), array([-1, -1, -2, ...,  0, 13, 21], dtype=int16), array([ -34,  -40, -273, ...,  -50,  -30,  -24], dtype=int16), array([ 6, 13, 11, ...,  9,  7,  4], dtype=int16), array([ -6,  -9,  -6, ..., -16, -14,  -6], dtype=int16), array([-14, -14, -10, ..., -20, -20, -18], dtype=int16), array([ 11,   4,   2, ..., -51, -51, -37], dtype=int16), array([13,  8,  7, ..., 25, 30, 31], dtype=int16), array([ 4,  0, -5, ..., 26, 12, 11], dtype=int16), array([  5,   4,   1, ..., -62, -66, -63], dtype=int16), array([16, 23, 19, ..., 12,  4, 17], dtype=int16), array([ -31,  -44,  -62, ...,  -97, -109,  -81], dtype=int16), array([  1,  -3,   0, ...,  60,  22, -70], dtype=int16), array([  3,  -3,  -3, ...,   0,  -3, -20], dtype=int16), array([-17, -15, -12, ...,  -5,   0, -15], dtype=int16), array([-10,  -2,   2, ...,  35,  44,  47], dtype=int16), array([ 12,  11,  10, ..., -18,  -9,   8], dtype=int16), array([ 116, -183, -135, ...,   51,   44,   40], dtype=int16), array([ -1,  -2,   0, ...,  -9,  -4, -12], dtype=int16), array([ 0,  0,  0, ..., 13,  3, 13], dtype=int16), array([ 0,  0, -1, ..., 33, 14, 17], dtype=int16), array([-8, -2, -2, ..., -4, 15, 24], dtype=int16), array([-38, -37, -36, ...,  20,  24,  36], dtype=int16), array([  1,   0, -14, ..., -47, -47, -40], dtype=int16), array([-113, -135,  357, ...,   10,    0,   -4], dtype=int16), array([ 0,  0, -4, ...,  0,  0, -2], dtype=int16), array([  0,  -3,  -2, ...,  -8, -10, -15], dtype=int16), array([-129,  -78,   51, ...,   30,   28,   27], dtype=int16), array([  0,   1,   0, ...,  21,  27, -46], dtype=int16), array([  7,  -9, -20, ...,  14,  11, -13], dtype=int16), array([-260,  -61,  155, ...,  -48,  -29,  -16], dtype=int16), array([ 15,  19,  13, ..., -15, -28, -22], dtype=int16), array([ -9,  15,  27, ..., -10, -22, -24], dtype=int16), array([ -7, -17, -22, ...,   0,  -3,  -6], dtype=int16), array([ 4,  5,  6, ..., 14, 20, 15], dtype=int16), array([   1, -118,   -8, ...,  -11,   -9,    4], dtype=int16), array([ 27,  27,  32, ..., -13, -15,  -9], dtype=int16), array([-7, 13, -4, ...,  8, 21, 16], dtype=int16), array([ 5,  3,  0, ..., 15,  5,  0], dtype=int16), array([ 12,  14,  11, ..., -28, -23, -12], dtype=int16), array([ 2,  0, -4, ...,  7, 10,  7], dtype=int16), array([-171, -318, -401, ...,  -47,  -81, -105], dtype=int16), array([ 0,  0, -1, ...,  8,  0,  0], dtype=int16), array([10, 13, 13, ..., 18,  0, 16], dtype=int16), array([26, 26, 28, ...,  1,  2,  4], dtype=int16), array([-25, -34, -24, ...,  -9,  -7, -17], dtype=int16), array([ 54, 125, -48, ...,  -1, -23,   3], dtype=int16), array([-170, -214, -121, ...,  -13,  -19,  -12], dtype=int16), array([  6,  10,  10, ..., -44,  39,  70], dtype=int16), array([-7,  0,  4, ..., -1, -7,  4], dtype=int16), array([ -1,  -3,   0, ..., -46, -49,  -9], dtype=int16), array([-35, -38, -37, ...,  19,  11,  -1], dtype=int16), array([-4, -2,  0, ...,  1,  4,  4], dtype=int16), array([ 15,  14,  24, ..., -20, -23, -20], dtype=int16), array([-11, -16,  -1, ...,  19,  -2, -12], dtype=int16), array([-108, -118,  -70, ...,   10,    9,    7], dtype=int16), array([  26, -108,  -46, ...,   -6,  -10,   -6], dtype=int16), array([ -1,  -2,   0, ..., -21, -25, -21], dtype=int16), array([53, 42, 43, ..., 28, 22, 21], dtype=int16), array([-36, -21, -16, ...,  16,  35,  29], dtype=int16), array([107, -63, 125, ..., -24, -21, -13], dtype=int16), array([  46, -115, -236, ...,   16,   14,   11], dtype=int16), array([-6, -9, -1, ..., 16, 24, 23], dtype=int16), array([12,  8,  8, ..., 14, 15,  2], dtype=int16), array([-1,  2,  3, ..., -6,  3, 11], dtype=int16), array([  46, -217, -161, ...,   -5,   -3,    2], dtype=int16), array([-70, -67, -65, ...,  27,  16,  15], dtype=int16), array([ 13,   9,  10, ..., -23, -18, -24], dtype=int16), array([ 0,  0, -3, ...,  3,  9,  5], dtype=int16), array([-5, -8, -4, ..., 30, 36, 48], dtype=int16), array([ -98, -167, -136, ...,    5,  -24,  -78], dtype=int16), array([ 12, -28, -54, ..., -11,  -2,  -2], dtype=int16), array([ -3,   0,   0, ..., -11,   4,  -1], dtype=int16), array([ -26, -123,   27, ...,   48,   54,   51], dtype=int16), array([  0,   0,   0, ...,  -6,  -3, -11], dtype=int16), array([ 30,  38,  51, ..., -45, -39, -30], dtype=int16), array([19, 20, 25, ..., 13, 15, 15], dtype=int16), array([-52,  -3,  45, ...,  -2,  -6, -15], dtype=int16), array([ -2,  -2,   0, ...,  83, 121,  58], dtype=int16), array([-54, -62, -43, ..., -10,   9,  31], dtype=int16), array([ 14,  14,  24, ..., -30, -21, -38], dtype=int16), array([335,  -1, 353, ..., -15,  -2,  17], dtype=int16), array([ 15,  23,  37, ..., -14, -20, -27], dtype=int16), array([ 32,  18,   9, ..., -34, -34,   9], dtype=int16), array([11, 14, 13, ..., 31, 19, 16], dtype=int16), array([-27, -24, -25, ...,  16,  22,  23], dtype=int16), array([ 261, -118,  106, ...,   43,   55,   51], dtype=int16), array([-31,  15, -21, ..., -14,  24, -33], dtype=int16), array([-19, -34, -27, ...,  19,  19,  14], dtype=int16), array([14, 12,  7, ...,  0,  7, 13], dtype=int16), array([  0,  -3,  -6, ..., -23,  18,  23], dtype=int16), array([-9, -9, -5, ..., -5, 25, 11], dtype=int16), array([ 172,   -4, -165, ...,   -9,  -12,   -8], dtype=int16), array([ 22, -50, -83, ...,  11,  16,  12], dtype=int16), array([-14, -73, 154, ...,  12,  16,  14], dtype=int16), array([-25, -22, -26, ..., -26, -24, -26], dtype=int16), array([ 1,  0,  4, ..., 29, 24, 16], dtype=int16), array([ 48,  32,   8, ..., -27, -16,  -9], dtype=int16), array([ 2,  6, -2, ..., 20, 19, 13], dtype=int16), array([-29,  77,   2, ..., -11, -11,   3], dtype=int16), array([ 82,  30, -57, ...,   4,   6,  15], dtype=int16), array([-29, -29, -31, ...,  -8, -14,  -8], dtype=int16), array([  6,   6,   6, ...,  -6,  -8, -13], dtype=int16), array([  79,  -86, -122, ...,   -8,   -6,  -44], dtype=int16), array([-36, -36, -42, ..., -17, -23, -23], dtype=int16), array([-225, -106,  159, ...,   13,   13,   19], dtype=int16), array([-65, -58,  -2, ...,  21, -34, -38], dtype=int16), array([-2, -2, -1, ..., 50, 34, 14], dtype=int16), array([ 14, -17,  24, ...,  36,  17,  24], dtype=int16), array([  5,   4,   2, ...,  -6,  -1, -12], dtype=int16), array([-28, -32, -31, ...,  27,  34,  34], dtype=int16), array([68, -6, -9, ..., 37, 39, 40], dtype=int16), array([-16, -24, -20, ...,  18,  14,  14], dtype=int16), array([12,  7,  8, ..., 27, 17,  1], dtype=int16), array([ 20,   3,  13, ...,   2,  -1, -23], dtype=int16), array([24, 22, 20, ..., -9, 15, 16], dtype=int16), array([-16, -17, -22, ...,  22,  21,  21], dtype=int16), array([  1,   0,  -7, ...,  16,   3, -14], dtype=int16), array([-18, -14, -13, ...,  18,  15,  13], dtype=int16), array([  0,   0,  -1, ..., -30, -37,  -5], dtype=int16), array([21, 17, 27, ..., 56, 58, 53], dtype=int16), array([  0,   0,  -1, ...,  35,  15, -19], dtype=int16), array([ 5,  3,  6, ..., -1, 14, 29], dtype=int16), array([ 38, -38, -30, ..., -14, -14, -10], dtype=int16), array([4, 1, 0, ..., 2, 2, 0], dtype=int16), array([-101,   27,  193, ...,   -2,   -5,   -6], dtype=int16), array([45, 58, 34, ..., -4, -8,  0], dtype=int16), array([ -8,  -5,  -5, ..., -10,  -5,  -5], dtype=int16), array([ 11,  17,  14, ..., -20, -20, -11], dtype=int16), array([ 282, -349, -250, ...,   35,   23,   27], dtype=int16), array([-12, -95,  -7, ...,  18,  -1, -10], dtype=int16), array([-24, -22, -17, ..., -17, -51, -71], dtype=int16), array([-13, -70,  71, ..., -11,  -8,   0], dtype=int16), array([  4,   2,  -8, ..., -37,   4,  65], dtype=int16), array([-12, -12, -12, ...,  65,  75,  61], dtype=int16), array([ 5, 12, 15, ...,  2, 14, 10], dtype=int16), array([-28, -69, -46, ..., -14,  10,  19], dtype=int16), array([-6, -3, -2, ...,  2,  0, 10], dtype=int16), array([-35, -28, -28, ..., -53, -41, -41], dtype=int16), array([-23,  17,  23, ..., -15, -26, -24], dtype=int16), array([-25, -21, -20, ...,   6,  -1,  -1], dtype=int16), array([ 36,  32,  30, ..., -42, -61, -47], dtype=int16), array([-95, -14,  10, ..., -12,  23, -39], dtype=int16), array([ 18,  -3, -27, ...,  29,  34,  34], dtype=int16), array([-219, -276, -198, ...,  130,  135,  120], dtype=int16), array([-25, -19, -16, ...,   8,   8,   5], dtype=int16), array([ 62, 153, 132, ..., -13,  -2, -11], dtype=int16), array([-66, 116,  62, ...,   1,   2,  -6], dtype=int16), array([-23,   4, -10, ...,  33,  18,  17], dtype=int16), array([ 21,  29,  33, ...,  19,  15, -21], dtype=int16), array([19, 22, 16, ..., -2, -2,  0], dtype=int16), array([15,  4, 10, ..., -3,  2,  1], dtype=int16), array([ -55, -152,  -72, ...,  -31,  -21,   -1], dtype=int16), array([ 0,  0,  0, ...,  8, -2,  0], dtype=int16), array([ -96, -178, -170, ...,    0,  -14,  -26], dtype=int16), array([ 4,  1,  1, ..., -6,  1,  0], dtype=int16), array([ -4,  -8, -10, ...,  39,  39,  50], dtype=int16), array([ 45, -67,  64, ..., -21, -25, -21], dtype=int16), array([  5,  -9, -15, ...,   5,   9,   6], dtype=int16), array([ 39,  10, -10, ...,  -7,  -7,  -5], dtype=int16), array([ 9, 10, 11, ...,  8, 11,  8], dtype=int16), array([ 38,  47,  48, ..., -12, -20, -41], dtype=int16), array([ 35, 170,  -2, ..., -18, -22, -17], dtype=int16), array([-15, -14, -15, ...,  31,  30,  43], dtype=int16), array([  0,   0,  -2, ..., -10,  -9,  -7], dtype=int16), array([128, 118, 118, ..., -24, -17, -13], dtype=int16), array([-12, -11, -11, ..., -15, -14, -20], dtype=int16), array([ -5, -13,   9, ...,   0,   5, -26], dtype=int16), array([ 33,  36,  35, ...,  -5,  -8, -17], dtype=int16), array([ -5, -20,  -1, ..., -16, -14,  -8], dtype=int16), array([-12, -13, -13, ...,  21,  30,  44], dtype=int16), array([  4,   6,   9, ..., -10, -26, -29], dtype=int16), array([ 20,  23,  22, ..., -25, -33, -38], dtype=int16), array([-20, -17, -17, ...,  22,   5,   0], dtype=int16), array([ 0,  0, -3, ..., 17, 18, 17], dtype=int16), array([-78, -70, -56, ..., -35, -37, -38], dtype=int16), array([19, 20, 20, ...,  0,  1,  1], dtype=int16), array([ 43,  35,  40, ...,  11, -12, -34], dtype=int16), array([-10,  -9,  -8, ..., -21, -36, -30], dtype=int16), array([13, 15, 17, ..., 22, 17, 21], dtype=int16), array([  12,   16, -168, ...,   44,   37,   31], dtype=int16), array([42, 40, 36, ..., 20, 14, 18], dtype=int16), array([  1,  -3,   0, ..., -12, -11, -10], dtype=int16), array([ 17,  20,  24, ..., -44, -55, -49], dtype=int16), array([11, 11, 12, ..., 73, 39, -5], dtype=int16), array([ 46,  24, -32, ...,  21,  22,  16], dtype=int16), array([ -39,  -90, -264, ...,    9,   13,   14], dtype=int16), array([18,  8, 16, ..., 15, 29, 28], dtype=int16), array([  6,   7,   3, ..., -24,  18,  18], dtype=int16), array([  89,  -88, -145, ...,   50, -141,   43], dtype=int16), array([375, 366, 242, ...,  -9, -53, -57], dtype=int16), array([-3, -7, -5, ..., 24, 17,  5], dtype=int16), array([ 23,  21,  17, ...,  21, -17, -59], dtype=int16), array([ 97,  33, -58, ..., -13,  -9,  -3], dtype=int16), array([ 20,  59,  36, ..., -17, -12,  -8], dtype=int16), array([ 3, -1, -1, ..., 29, 12,  6], dtype=int16), array([-14,  45, 123, ...,  -4,  -9, -16], dtype=int16), array([-25, -26, -15, ...,  12,  11,  11], dtype=int16), array([-48, -91, -49, ..., -27, -22, -21], dtype=int16), array([11, 26, 19, ..., -5,  0,  0], dtype=int16), array([-24, -38, -52, ...,  16,  11,   9], dtype=int16), array([26, 18,  9, ..., 18, 10, 11], dtype=int16), array([19, 18, 19, ...,  1, 12,  9], dtype=int16), array([-89, -79, -67, ...,   3,   2, -10], dtype=int16), array([-10,  -8,  -7, ...,  71,  52,  44], dtype=int16), array([ 39,  -8,  16, ..., -13,  16,  47], dtype=int16), array([ 30, -12,  10, ...,  15,  12,  10], dtype=int16), array([-26, -27,  61, ...,  -7,  -5,  -1], dtype=int16), array([ -3,  -7,  -4, ...,  -9,  -2, -13], dtype=int16), array([ 23,  24,  19, ...,  -6,  -6, -12], dtype=int16), array([195,  92, -88, ..., -64, 119,  28], dtype=int16), array([  2,  -1,  -1, ..., -13, -31, -23], dtype=int16), array([152,  76,   5, ..., -38, -45, -51], dtype=int16), array([ 24, -26, -28, ...,  22,  20,  15], dtype=int16), array([  62,  -60, -158, ...,    9,   12,   14], dtype=int16), array([-28, -23, -23, ...,   5,  -5,  29], dtype=int16), array([-6, -3, -5, ..., -5,  0,  7], dtype=int16), array([ -2,  -3,  -1, ..., -38,  51,  12], dtype=int16), array([-40, -45, -43, ...,  16,   8,  -8], dtype=int16), array([ 5,  3,  0, ..., -3, -1,  0], dtype=int16), array([-33, -39, -41, ...,   4,   3,  -6], dtype=int16), array([-158, -180, -144, ...,   -4,   -1,   -1], dtype=int16), array([-52, -38, 124, ..., -26, -30, -30], dtype=int16), array([-7, -1, -8, ..., 16, 13,  8], dtype=int16), array([-202,  130,  119, ...,   18,   24,   30], dtype=int16), array([ -99, -170,  -42, ...,   -5,   -9,   -5], dtype=int16), array([  7,  16,  16, ...,  -5,  -6, -16], dtype=int16), array([-18,  -5,  -5, ...,  30,  35,  26], dtype=int16), array([ 67, -97,  36, ...,   4,  -1,  -1], dtype=int16), array([-60, -50, -39, ...,  14,  10,   0], dtype=int16), array([ -9,  -9,  -1, ..., -71, -15,  47], dtype=int16), array([-22,   0,  10, ..., -30, -29, -20], dtype=int16), array([ 6, 10, 17, ..., 28, 32, 28], dtype=int16), array([  7,   9,  12, ...,  -9, -48, -37], dtype=int16), array([ 2,  3,  4, ..., 19, 19, 18], dtype=int16), array([ 4,  6,  5, ..., 16,  9,  7], dtype=int16), array([ 93, -12,  70, ...,  19,  26,  28], dtype=int16), array([  7,  11,  16, ..., -22,  -5,  -2], dtype=int16), array([ -87, -133,  -16, ...,   -1,   -3,   -1], dtype=int16), array([22, -5, 39, ..., 10, 18, 23], dtype=int16), array([10,  8,  8, ..., -1, -4,  0], dtype=int16), array([-2, -2, -1, ...,  5, 13,  0], dtype=int16), array([  3,   1,   0, ..., -26, -22,  -7], dtype=int16), array([ -9,  -6, -10, ..., -14,  -7,  -4], dtype=int16), array([ 21,  11,  16, ..., -28, -31, -16], dtype=int16), array([ -6, -14, -23, ...,  16,  16,  11], dtype=int16), array([ 0,  0, -1, ..., 19, 23, 23], dtype=int16), array([  8,   8,   4, ..., -15,  -8,  -5], dtype=int16), array([-10, -17, -11, ..., -31, -39, -18], dtype=int16), array([14, 15, 16, ..., 49, 38, 28], dtype=int16), array([-1, -5, -3, ..., -9,  0,  5], dtype=int16), array([343,  15, -30, ..., -25, -28, -25], dtype=int16), array([-34, -34, -32, ..., -23, -26, -15], dtype=int16), array([  6,  14,  24, ..., -37, -42, -39], dtype=int16), array([-222, -249, -116, ...,  -14,  -25,  -32], dtype=int16), array([-25, -20, -14, ...,  22,  20,  16], dtype=int16), array([ -5, -10,  -6, ...,  -4, -25, -19], dtype=int16), array([-14, 195, 296, ...,  61,  62,  44], dtype=int16), array([-6, -2, -3, ..., -5, -2, -5], dtype=int16), array([ 70, 125,  68, ...,  12,  16,  15], dtype=int16), array([-13, -11,  -9, ...,  20,  25,  20], dtype=int16), array([24, 24, 28, ..., 10, 10,  8], dtype=int16), array([ 206,   67, -328, ...,  -22,  -23,  -19], dtype=int16), array([21, 25, 30, ...,  3, -3, -5], dtype=int16), array([ 22, 105, 250, ..., -11, -17, -16], dtype=int16), array([154,   4, -17, ..., -37, -45, -45], dtype=int16), array([12, 12, 15, ..., 20,  9, -3], dtype=int16), array([-1,  1,  1, ..., -2, -1, -8], dtype=int16), array([  0,   0,   5, ..., -25, -28, -19], dtype=int16), array([-18, -28, -12, ...,  23,  21,  17], dtype=int16), array([-53, -60,  16, ...,  21,  11,   0], dtype=int16), array([-1, -5, -6, ..., -8, -1,  4], dtype=int16), array([20, 22, 23, ..., -4,  9, 42], dtype=int16), array([  2,   3,   4, ..., -26, -37, -48], dtype=int16), array([12, 20, 23, ..., 20, 13, 11], dtype=int16), array([103,  68,  13, ...,  -4,  -1,   0], dtype=int16), array([46, 80, 73, ...,  2, -4,  1], dtype=int16), array([ -3,  -4,  -4, ..., -28, -28, -27], dtype=int16), array([  4,   1,   7, ..., -17, -12,  -6], dtype=int16), array([-2,  1,  5, ..., 15,  8, 11], dtype=int16), array([13, 22, 36, ..., 17, 27, 23], dtype=int16), array([-27, -39,  14, ...,  35,  26,  16], dtype=int16), array([  0,   0,   1, ..., -14, -10,  -4], dtype=int16), array([-134, -169, -146, ...,   -8,   -8,    0], dtype=int16), array([-19, -19, -12, ...,  70,  65,  65], dtype=int16), array([ 72,  98,  70, ...,  -2, -10, -15], dtype=int16), array([16, 20, 15, ..., 36, 66, 49], dtype=int16), array([ 0,  0, -2, ...,  8, 28,  2], dtype=int16), array([13, 22, 25, ..., 27, 29, 33], dtype=int16), array([-59, -99, -11, ...,   1,   8,  12], dtype=int16), array([ 1,  2,  0, ...,  0,  7, 13], dtype=int16), array([-12,  -1,   2, ...,   1,   9,  16], dtype=int16), array([  1,  -6,  -6, ..., -16, -11, -12], dtype=int16), array([ -9, -10, -18, ...,  12,  16,   7], dtype=int16), array([-25, -18, -15, ...,  19,   2,  -3], dtype=int16), array([  4,   1,  -7, ..., -12,  -9, -10], dtype=int16), array([-15, -16,  -1, ..., -43,  38, 105], dtype=int16), array([ 0,  4,  2, ..., 16, 22, 26], dtype=int16), array([ 29,  33,  33, ...,   0,  -1, -16], dtype=int16), array([ -78, -104, -133, ...,  -13,  -15,  -15], dtype=int16), array([40, 28,  2, ..., -3, -1, 11], dtype=int16), array([ 28, -21,  15, ...,   6,   9,  18], dtype=int16), array([12,  9, 13, ..., 19, 12, 13], dtype=int16), array([ -9, -10,  -6, ..., -34, -58,  62], dtype=int16), array([-73, -59,   0, ..., -30, -31, -36], dtype=int16), array([ -2,  -1,  -1, ...,  -9, -12, -20], dtype=int16), array([ 26, -64,  39, ...,  27,  24,  24], dtype=int16), array([-5, -6, -2, ..., 40, 45, 37], dtype=int16), array([51, 36, 17, ...,  7,  9,  2], dtype=int16), array([ 14,  13,  15, ..., -39, -32, -31], dtype=int16), array([-206, -209, -182, ...,  -13,  -15,  -14], dtype=int16), array([ -2,  -2,   0, ...,  -4, -13, -17], dtype=int16), array([ 15,  15,  18, ..., -16, -12, -14], dtype=int16), array([ -1,  -2,   0, ..., -41, -43, -43], dtype=int16), array([ 38,  32, -11, ..., -19, -34, -43], dtype=int16), array([-38, -77,  67, ...,   0, -14, -13], dtype=int16), array([ 35,  28,  19, ..., -14,  -4,  -9], dtype=int16), array([ 9, 15, 16, ..., 35, 27, 27], dtype=int16), array([ -2,  -1,   1, ...,  17,  -3, -28], dtype=int16), array([ 0, -2, -2, ..., -4, -6, -7], dtype=int16), array([-45, -29,  76, ..., -12, -29, -25], dtype=int16), array([-39,  20, -17, ..., -21, -22, -26], dtype=int16), array([ -4, -21, 113, ...,   0,   4,  10], dtype=int16), array([  0,   1,   0, ...,  24, -16, -18], dtype=int16), array([ 0, -1,  0, ...,  4,  6,  2], dtype=int16), array([ 25, -26, -47, ..., -23, -19, -18], dtype=int16), array([-29, -23, -23, ..., -19, -48,  30], dtype=int16), array([  1,   2,   6, ..., -29, -34, -37], dtype=int16), array([ -2,  -2,  -3, ...,  20,  -8, -16], dtype=int16), array([-15,  -6,   4, ..., -26, -41, -11], dtype=int16), array([-18, -16, -14, ...,  14,  15,   7], dtype=int16), array([-3, -3, -6, ..., 17, 18, 26], dtype=int16), array([ 31,  33,  68, ...,   8,   0, -10], dtype=int16), array([24, 29, 27, ..., 56, 44, 43], dtype=int16), array([-1, -2, -3, ..., 29, 19, 20], dtype=int16), array([ 49,  52,  47, ..., -36, -34, -37], dtype=int16), array([12, 10, 10, ..., 23, 20, 11], dtype=int16), array([24, 24, 21, ..., -6, -7, -8], dtype=int16), array([ 94,   4, -92, ...,  -3,  -2,  -2], dtype=int16), array([ 23,  19,  17, ..., -48, -35, -25], dtype=int16), array([ 2,  1,  0, ..., 11,  9, 17], dtype=int16), array([ 2,  1,  0, ..., 28, 45, 64], dtype=int16), array([-27, -24, -23, ...,  49,  49,  47], dtype=int16), array([ -6, -56, -20, ..., -34, -35, -37], dtype=int16), array([-14,  -9,  -4, ..., -10, -17,   7], dtype=int16), array([ 3,  5,  3, ..., 30, 40, 36], dtype=int16), array([138, 151,  29, ...,  -4,   0,  13], dtype=int16), array([-84, -91, -40, ..., -14,  -3,   3], dtype=int16), array([107, 170,  49, ...,  -8,  -4,  -9], dtype=int16), array([ 13,  16,  14, ...,  91, 106,  57], dtype=int16), array([-15, -14, -16, ...,  21,  34,  54], dtype=int16), array([ 2,  1,  2, ..., -6, -9, -1], dtype=int16), array([-13, -14, -14, ...,  -7, -11, -13], dtype=int16), array([ 1,  1,  4, ..., -3, 43, 66], dtype=int16), array([97, 96, 91, ..., 59, 59, 59], dtype=int16), array([-6, -5, -5, ..., 25, 25, 25], dtype=int16), array([ 18,  14,  19, ..., -13, -15, -17], dtype=int16), array([-41, -75,  18, ..., -59, -50, -39], dtype=int16), array([ -4,  -2,  -4, ..., -20, -13,  -6], dtype=int16), array([ 301,  133, -184, ...,    6,   10,    6], dtype=int16), array([  3,   7,   8, ..., -10,  -2,   4], dtype=int16), array([15, 14, 14, ..., 23, 33, 32], dtype=int16), array([22, 23, 20, ..., -2,  7,  7], dtype=int16), array([ -75, -103,   -8, ...,   21,   18,   17], dtype=int16), array([-3, -4, -2, ..., 36, 26, 19], dtype=int16), array([40, 25, 26, ...,  0, -3, -1], dtype=int16), array([-147,  -32,   76, ...,    7,    4,    8], dtype=int16), array([ 0, -2, -1, ..., 17, -2, -2], dtype=int16), array([ 7, 13, 14, ...,  4,  5,  6], dtype=int16), array([  8,   9,  15, ..., -16, -20, -18], dtype=int16), array([-67, -64, -64, ...,   0,   2,   0], dtype=int16), array([11, 13, 15, ..., 22, 18, 16], dtype=int16), array([ -3,  -2,   0, ..., -54, -53, -47], dtype=int16), array([ -8,  -4,   0, ..., -19, -14,  -7], dtype=int16), array([-12, -19, -15, ..., -49, -49, -55], dtype=int16), array([ 1, -7, -7, ..., 14, 18, 20], dtype=int16), array([-47, 158, 114, ...,  23,  20,  17], dtype=int16), array([ 12,   8,  17, ..., -24, -24, -25], dtype=int16), array([11, 10,  9, ...,  2,  3, 13], dtype=int16), array([-61, -39, -98, ...,  23,  14,  13], dtype=int16), array([  7,   9,  10, ...,  -5,  -8, -19], dtype=int16), array([-43, -67, -51, ...,  17,  19,  13], dtype=int16), array([ 80,  68,  21, ..., -23, -23, -12], dtype=int16), array([ -6, -40, -50, ..., -18, -20, -23], dtype=int16), array([-115, -235, -101, ...,   48,   48,   42], dtype=int16), array([-6, -2,  0, ..., 19, 22, 30], dtype=int16), array([ -3,  -7,  -6, ..., -40, -38, -26], dtype=int16), array([ -59, -174, -104, ...,   10,   10,    8], dtype=int16), array([ -7,  -3,  -4, ..., -23, -28, -31], dtype=int16), array([3, 3, 0, ..., 0, 0, 0], dtype=int16), array([  0,   1,   1, ...,  48, -25,  -8], dtype=int16), array([  9,  18,  18, ..., -43, -44, -40], dtype=int16), array([41, 41, 47, ..., 48, 63, 44], dtype=int16), array([-35, -33, -26, ..., -28, -13,  10], dtype=int16), array([ 8,  3,  2, ...,  5, 21, 16], dtype=int16), array([10, 10, 15, ...,  6,  3,  9], dtype=int16), array([-219,  -20,    7, ...,   14,   16,   20], dtype=int16), array([14, 15, 14, ..., 66, 39, 30], dtype=int16), array([-11, -12,  -6, ...,  27,  34,  31], dtype=int16), array([ -4,  -1,  -1, ...,   0, -24,   1], dtype=int16), array([ 2,  8, 11, ...,  8, 16, 21], dtype=int16), array([ 98, 106,  59, ...,  14,  12,   6], dtype=int16), array([28, 28, 27, ..., 18, 22, 28], dtype=int16), array([37, 31, 18, ...,  5,  8,  4], dtype=int16), array([-14,  88, 172, ...,  -1, -10,  -3], dtype=int16), array([-3, -2, -3, ..., 52, 52, 46], dtype=int16), array([ 248,   33, -250, ...,   46,   40,   43], dtype=int16), array([-16, -16, -29, ...,  11,   3, -20], dtype=int16), array([12, 18, 16, ..., 10, 16, 25], dtype=int16), array([  0,  -1,   0, ..., -51, -46, -31], dtype=int16), array([ 40, 116,  60, ...,  -7, -12, -18], dtype=int16), array([-24, -48, -72, ...,  14,  31,  34], dtype=int16), array([17, 10,  9, ..., 25, 23, 22], dtype=int16), array([-1,  3,  0, ..., 36, 32, 27], dtype=int16), array([-86, -29,  44, ...,  -5,  -1,  -7], dtype=int16), array([-14, -10,   0, ..., -36, -35, -30], dtype=int16), array([-59, -56, -44, ...,  15,   8,   4], dtype=int16), array([-214, -265, -204, ...,   50,   55,   52], dtype=int16), array([-77,  68, 206, ...,  -3, -15, -18], dtype=int16), array([ 11,   8,   9, ..., -43, -31, -36], dtype=int16), array([ 6,  2,  0, ..., 15,  9, 15], dtype=int16), array([  2,   0,  -4, ..., -16, -20, -11], dtype=int16), array([-20, -49, -77, ...,  18,  29,  23], dtype=int16), array([ 3,  0,  3, ..., -5, -3, -1], dtype=int16), array([19, 26, 21, ..., 43, 50, 42], dtype=int16), array([-12,  -9, -10, ...,   8,  16,  20], dtype=int16), array([-52, -57, -44, ..., -20, -13, -10], dtype=int16), array([12, 11,  4, ..., 15, 11,  8], dtype=int16), array([ -1,  -2,  -3, ..., -12,   3,  -6], dtype=int16), array([-183, -133,   -9, ...,   64,    7,  -58], dtype=int16), array([ 34, 142, 104, ...,   6,   8,   1], dtype=int16), array([  20,   30,   23, ...,  -32, -124,  -79], dtype=int16), array([-2, -4,  1, ..., -6, -6, -7], dtype=int16), array([144,  -1,   2, ..., -23, -27, -22], dtype=int16), array([ 11,  14,  14, ..., -24, -19, -15], dtype=int16), array([  0,  47, -52, ..., -21,   2,  -6], dtype=int16), array([ -8,  -8,  -7, ..., -10,   0,   3], dtype=int16), array([ 14, 119,  99, ...,   1,  -7, -10], dtype=int16), array([29, 27, 24, ...,  5,  9, 12], dtype=int16), array([ 167,  -90, -152, ...,   -5,  -22,   -6], dtype=int16), array([ 0,  0,  0, ..., 11,  8, 16], dtype=int16), array([ -2, -13,  -9, ...,   9,   5,  14], dtype=int16), array([ -47, -117,  -28, ...,   24,   24,  -23], dtype=int16), array([-15, -15, -18, ...,  -6,  -7, -16], dtype=int16), array([ 4,  8, 10, ...,  0,  8, -6], dtype=int16), array([ -1,   9,  17, ...,  -8, -13, -26], dtype=int16), array([-31, -38, -37, ..., -12,  -4,  -4], dtype=int16), array([-10, -12, -19, ..., -26, -13,  22], dtype=int16), array([ 11,   9,   6, ..., -28, -38, -46], dtype=int16), array([ 0, -1, -2, ..., -9, -5, -5], dtype=int16), array([ -8,  -9, -13, ...,   3,   4,   4], dtype=int16), array([39, 34, 24, ...,  7, 15, 23], dtype=int16), array([ 1, 10,  8, ..., -3,  1,  0], dtype=int16), array([  2,   2,   1, ..., -86, -61,   3], dtype=int16), array([ -89, -116, -138, ...,    6,   21,   15], dtype=int16), array([ 35,  26,  19, ..., -12, -24,  -9], dtype=int16), array([  0,  -1,  -4, ...,   5, -39, -32], dtype=int16), array([-10, -15,  -8, ...,  24,  15,  10], dtype=int16), array([ 31,  26,  23, ...,  -7, -11, -18], dtype=int16), array([ 26,  21,  20, ...,  -8, -13,  -8], dtype=int16), array([ 9,  7, 10, ..., 10, 21, 17], dtype=int16), array([18, 23, 11, ..., 24, 28, 28], dtype=int16), array([ 21,  12,  68, ..., -26, -18, -11], dtype=int16), array([  88,   45, -144, ...,  -21,  -23,  -23], dtype=int16), array([ 26,  26,  19, ..., -19, -19, -14], dtype=int16), array([ -7,  -9,  -3, ..., -31, -31, -30], dtype=int16), array([ -5, -12, -12, ..., -48, -49, -48], dtype=int16), array([  2,   5,  10, ..., -14, -18, -17], dtype=int16), array([-49, -91,  65, ...,   1,   2,  -2], dtype=int16), array([-6, -4, -2, ...,  5, 10, 11], dtype=int16), array([-4, -2, -3, ..., 19, 22, 21], dtype=int16), array([-93, -55,  -4, ...,  19,  16,   9], dtype=int16), array([  6,   0,  -7, ...,  33,   2, -24], dtype=int16), array([  0, -61, -94, ...,  69,  19, -10], dtype=int16), array([-23,  -1,  16, ...,   6,   0,   0], dtype=int16), array([ -35, -171, -143, ...,  -31,  -32,  -30], dtype=int16), array([-12,  -5,  -6, ..., -12,  -4,   2], dtype=int16), array([ 20, -24, -19, ..., -19, -11,  -8], dtype=int16), array([-24, -20, -20, ..., -87, -77, -65], dtype=int16), array([-19, -24, -24, ...,  14,  13,  11], dtype=int16), array([  8,   6,   0, ...,  86,   2, -24], dtype=int16), array([-18, -24, -22, ...,   0,   2,   5], dtype=int16), array([ 31,  35,  38, ..., -10, -17, -23], dtype=int16), array([-55, -10,  15, ...,  24,  37,  37], dtype=int16), array([-92, -83, -50, ...,   7,   7,   2], dtype=int16), array([ 142,  -42, -206, ...,    6,   10,    6], dtype=int16), array([-187, -134, -180, ...,  -26,  -17,  -12], dtype=int16), array([-1,  0,  3, ...,  5,  4,  3], dtype=int16), array([ 42,  12, -19, ..., -20, -19, -13], dtype=int16), array([ -6,  -5,  -6, ..., -47, -51,  -8], dtype=int16), array([ 11,  12,  16, ..., -39, -30, -19], dtype=int16), array([  6,   6,  12, ..., -26, -26, -24], dtype=int16), array([ -7,   0, -11, ...,  13,   8,   6], dtype=int16), array([ -5,  -6, -12, ..., -50, -49, -43], dtype=int16), array([127, -40, 137, ...,  37,  56,  63], dtype=int16), array([  2,   1,   3, ...,  43,  14, -24], dtype=int16), array([  1,   3,   8, ..., -48, -45, -44], dtype=int16), array([29, 29, 26, ..., 39, 43, 46], dtype=int16), array([-29, -25, -19, ...,  -1,  -8,  -3], dtype=int16), array([ -66, -148,  -95, ...,  -68,  -75,  -57], dtype=int16), array([-2, -2,  1, ..., 18, 14,  6], dtype=int16), array([-36,  21, -58, ...,   1, -43, -33], dtype=int16), array([  28,  -85, -204, ...,   -3,  -13,  -21], dtype=int16), array([  18,   16,    7, ...,  101,  128, -110], dtype=int16), array([23, 21, 19, ..., 17, 18,  9], dtype=int16), array([11, 10, 11, ...,  8,  8,  3], dtype=int16), array([-21,   4,   8, ...,  -9,   2,   1], dtype=int16), array([ -6,  -5,  -7, ..., -19,   9,  23], dtype=int16), array([   7,    6,    9, ...,  240, -184,  -18], dtype=int16), array([20, 29, 38, ..., -9, -3,  1], dtype=int16), array([-5, -3, -7, ..., 77, 41, 29], dtype=int16), array([276, 168,  82, ...,   5,   9,  11], dtype=int16), array([-29, -17, -10, ...,   3,  23,  73], dtype=int16), array([156, -75, -42, ...,   8,   7,   2], dtype=int16), array([ 8,  0,  0, ...,  9,  0, -3], dtype=int16), array([-3, -6, -8, ...,  0, -2,  2], dtype=int16), array([ 14,   9,   7, ..., -27, -21,  -5], dtype=int16), array([-55, -55, -56, ...,  29,  21,   5], dtype=int16), array([ -1,  -2,  -3, ..., -44, -48, -31], dtype=int16), array([  0,   1,   6, ..., -77,  34,  86], dtype=int16), array([ 2, 42, 28, ..., 17, 16,  7], dtype=int16), array([ 8, 16, 19, ...,  1, -5, 53], dtype=int16), array([-19, -21, -12, ...,   5,  -2,  -6], dtype=int16), array([ 0,  0, -2, ..., -1,  2,  1], dtype=int16), array([-15, -16, -18, ...,  33,  30,  39], dtype=int16), array([ 12,   8,   9, ..., -34, -39, -45], dtype=int16), array([ 33,  31,  32, ...,   4,  -4, -14], dtype=int16), array([ -9,   1,   3, ..., -17, -26, -34], dtype=int16), array([ -3,   0,  -3, ..., -22,  -9, -10], dtype=int16), array([-114, -108, -107, ...,    6,   10,   -8], dtype=int16), array([ 8,  6, 10, ..., 15, 62, 57], dtype=int16), array([-66,  84, 247, ..., -37, -34, -36], dtype=int16), array([-10,  -9,  -6, ...,  12,  21,  14], dtype=int16), array([121, 118, 110, ...,   9,   7,   4], dtype=int16), array([ -9,  -6, -17, ..., -17, -23, -17], dtype=int16), array([ 199,  145, -249, ...,  -13,  -20,  -25], dtype=int16), array([-169,  102,  188, ...,   10,   20,   18], dtype=int16), array([  38,  -16, -185, ...,    4,   -4,   -2], dtype=int16), array([-4, -7, -9, ..., 35, 35, 33], dtype=int16), array([ 41,  55,  53, ...,  11, -14,  11], dtype=int16), array([-2, -5, -3, ..., 13, 10,  7], dtype=int16), array([-37, -31, -27, ...,  34,  37,  45], dtype=int16), array([ 2,  3, 11, ..., 13, 18,  8], dtype=int16), array([-20,  34,  93, ...,  52,  51,  54], dtype=int16), array([-255,  187, -174, ...,   36,   42,   46], dtype=int16), array([19, 19, 23, ..., 34, 31, 32], dtype=int16), array([24, 18, 20, ..., 10, 12, 12], dtype=int16), array([12, 21, 32, ..., 39, 32, 25], dtype=int16), array([ -8, -13, -16, ..., -33, -46, -33], dtype=int16), array([  50, -130,  -75, ...,   -1,    4,   -3], dtype=int16), array([ 9,  8,  2, ..., -4, -5,  1], dtype=int16), array([37, 37, 37, ..., 17, 14, 19], dtype=int16), array([ -2,  -6, -10, ...,   2,   0,  -3], dtype=int16), array([ -7,  -5,   0, ..., -15,  -2,   8], dtype=int16), array([ 2, -6,  5, ..., -1,  0,  2], dtype=int16), array([ 1, -2,  6, ...,  0,  3,  7], dtype=int16), array([-79,  16,  35, ..., -10,  -9,   2], dtype=int16), array([ 4, 10, 10, ..., 64, 65, 65], dtype=int16), array([103,  16, -54, ...,  29,  37,  35], dtype=int16), array([ -1,  -1,   0, ..., -26, -30, -33], dtype=int16), array([ 6,  5,  6, ..., 10,  7, -1], dtype=int16), array([-149, -379, -238, ...,    0,    5,    3], dtype=int16), array([ -8,  -9,  -6, ..., -12,   5,   7], dtype=int16), array([ -2, -11,  -4, ..., -26, -12,   0], dtype=int16), array([  1,  -1,   0, ..., -63, -63, -58], dtype=int16), array([ 30, -28, -93, ...,  24,  15,  10], dtype=int16), array([-15, -19, -10, ...,  17,  17,  10], dtype=int16), array([-20, -19, -27, ..., -11, -21, -15], dtype=int16), array([ 65, -14, -55, ..., -29, -39, -47], dtype=int16), array([-20, -16, -16, ...,  42,  29,  20], dtype=int16), array([  3,  95,  89, ..., -14, -16, -18], dtype=int16), array([ -7, -11,  -9, ..., -24, -18, -23], dtype=int16), array([ 0,  2,  6, ...,  5, 33, 17], dtype=int16), array([ 44,  42,  29, ...,  -8,  -6, -11], dtype=int16), array([  11,   12,    9, ...,   52,  -53, -128], dtype=int16), array([  0,   1,   0, ...,  16,  12, -13], dtype=int16), array([ 5,  1, -1, ..., 14,  9, 19], dtype=int16), array([ -78, -118, -140, ...,   -8,  -17,  -16], dtype=int16), array([23, 23,  9, ..., 32, 28, 24], dtype=int16), array([ 48,  46,  44, ..., -15,  -6,  -2], dtype=int16), array([ 39,  36,  41, ...,  12, -42, -72], dtype=int16), array([-32, -35, -30, ...,  12,  14,  17], dtype=int16), array([-31, -27, -23, ...,   9,   6,   8], dtype=int16), array([-2, -2,  0, ..., -1, -1,  3], dtype=int16), array([ 67,  27,  -2, ..., -12, -10,  -2], dtype=int16), array([16, 17, 17, ..., -8, -8, -6], dtype=int16), array([-1,  0,  5, ..., 17, 16, 14], dtype=int16), array([-31, -28, -23, ..., -20, -33, -26], dtype=int16), array([-62,  38,   9, ..., -23, -23, -23], dtype=int16), array([154, 170, -48, ...,  -6,   9,  48], dtype=int16), array([-12, -12, -16, ..., -35, -41, -22], dtype=int16), array([13, 20, 29, ...,  0,  2,  1], dtype=int16), array([ 38,  39,  36, ...,   4,  -7, -18], dtype=int16), array([ -7,  -5,  -4, ..., -11,  -2,   0], dtype=int16), array([ 21,  26,  25, ...,  -3, -13, -11], dtype=int16), array([ -7, -11, -11, ...,  -5,  -1,  -2], dtype=int16), array([ 1, -1, -1, ..., 20, 32,  7], dtype=int16), array([-336, -230,  -79, ...,   47,   36,   10], dtype=int16), array([22, 13,  3, ..., -5, -5, -9], dtype=int16), array([ 0, -2, -3, ..., 36, 48, 55], dtype=int16), array([  53,   40, -117, ...,  -35,  -30,  -33], dtype=int16), array([  0,  -7, -10, ..., -47, -48, -42], dtype=int16), array([ -1,  -7, -12, ..., -19, -15, -14], dtype=int16), array([110, 135, 179, ..., -14,  -7,  12], dtype=int16), array([  5,  18,   8, ..., -56, -43, -43], dtype=int16), array([-15, -29, -43, ..., -14, -15, -15], dtype=int16), array([ 70,   2, -51, ...,   9,   2,  -6], dtype=int16), array([-28, 100,  90, ...,   8,  25,  25], dtype=int16), array([  0, -22, -22, ..., -41, -33, -30], dtype=int16), array([  -2,  -61, -192, ...,   -6,   -8,   -8], dtype=int16), array([  59,  -91, -210, ...,    4,    4,    1], dtype=int16), array([-11, -11,  -5, ...,   3,   0,   1], dtype=int16), array([ 50,  53,  53, ..., -28, -22,   4], dtype=int16), array([ 3, -6, -5, ..., 43, 45, 38], dtype=int16), array([-467,  128,  -76, ...,  -14,  -21,  -26], dtype=int16), array([28, 26, 20, ...,  9,  6, 17], dtype=int16), array([-22, -23, -22, ..., -26, -25, -21], dtype=int16), array([ -1,  -3,  -9, ...,  -1,   3, -26], dtype=int16), array([ -4,  -5,  -8, ..., -25, -33, -24], dtype=int16), array([ -4,  -6,  -6, ..., -18, -19, -17], dtype=int16), array([11, 15, 13, ..., -6,  0, 13], dtype=int16), array([ 5, -2,  0, ..., -1, -1, -1], dtype=int16), array([ 26,  26,  28, ...,  -5,  -8, -16], dtype=int16), array([ 8, 29, 37, ...,  4,  3,  5], dtype=int16), array([ -9, -72,  73, ..., -23, -24,  -8], dtype=int16), array([  0,   1,   0, ..., -11,   0,   0], dtype=int16), array([ 56,  29, -17, ..., -49, -42, -36], dtype=int16), array([-3,  2, -1, ...,  9,  9, 10], dtype=int16), array([ 0,  2,  1, ..., 16, 12, -3], dtype=int16), array([ 74, -19, 115, ..., -21, -20, -18], dtype=int16), array([ -4,  -6,  -8, ..., -18, -17, -15], dtype=int16), array([  1,  -3, -15, ...,   8,   6,  -3], dtype=int16), array([-12,  -7, -12, ...,  71,   3,  62], dtype=int16), array([-6, 25, 34, ..., 16, 26, 33], dtype=int16), array([-33,   9,   1, ...,  17,  16,  25], dtype=int16), array([10,  9, 18, ..., -3, -3,  0], dtype=int16), array([17, 18, 19, ..., 16,  7,  9], dtype=int16), array([-19, -18, -28, ...,  13,   7,   4], dtype=int16), array([188, 115,  33, ..., -21, -24, -23], dtype=int16), array([ 22,  21,  20, ..., -39, -34, -20], dtype=int16), array([-115, -156, -179, ...,  -29,  -35,  -41], dtype=int16), array([-147,   66,  235, ...,  -39,  -19,  -38], dtype=int16), array([ 18,  15,  11, ..., -24, -13, -10], dtype=int16), array([-14, -12, -10, ...,  59,  15,  -2], dtype=int16), array([ 0,  1,  6, ..., -1, -5, -9], dtype=int16), array([ -6,   1,   4, ..., -22, -17, -15], dtype=int16), array([-33, -28, -28, ...,  34,  29,  27], dtype=int16), array([ 43,  16, -26, ...,   8,  -1,  -5], dtype=int16), array([22, 18, 23, ..., 40, 33, 31], dtype=int16), array([  0,   1,  -2, ..., -12,  19,  12], dtype=int16), array([  7,   6,   8, ..., -19, -25, -29], dtype=int16), array([ -47, -183, -189, ...,  -24,  -10,    6], dtype=int16), array([-53, -45, -31, ...,  15, -29, -46], dtype=int16), array([ -9, -11, -10, ...,  -1,   0,   3], dtype=int16), array([ 26, -26, -11, ...,  55,  56,  18], dtype=int16), array([-13, -10, -13, ...,  10,  14,  18], dtype=int16), array([  1,   2,   2, ..., -18, -16,  -5], dtype=int16), array([ 0,  4,  6, ...,  2, 10, 16], dtype=int16), array([146, -39, -62, ...,   5,   9,  17], dtype=int16), array([ -4,  93,  80, ...,  -4,  -8, -13], dtype=int16), array([ -2,  -1,  -1, ..., -23, -19, -16], dtype=int16), array([21, 19, 17, ..., 27, 34,  7], dtype=int16), array([  52, -205,  172, ...,   42,   42,   23], dtype=int16), array([ -4,  28, -24, ...,   3,  -6, -15], dtype=int16), array([ 33,  13,  13, ..., -36, -35, -34], dtype=int16), array([20, 22, 91, ..., 35, 23, 26], dtype=int16), array([ 28,  57, -35, ...,   4,   6,   4], dtype=int16), array([ -2,  -4,  -6, ..., -17,   2, -22], dtype=int16), array([133, 149, 160, ...,   5,  -9, -33], dtype=int16), array([ 14,  12,  10, ..., -20,  -5,  21], dtype=int16), array([ 7, 11, 13, ..., 29, 37, 26], dtype=int16), array([-26, -33, -32, ...,   0,   6,   9], dtype=int16), array([ 7,  3, -7, ..., 12,  8,  0], dtype=int16), array([ 86,  29,  89, ..., -13,  -6, -16], dtype=int16), array([14, 34, 32, ...,  0,  0, 17], dtype=int16), array([  60, -164,   77, ...,   14,    5,    7], dtype=int16), array([-44, -40, -37, ...,  18, 112,  34], dtype=int16), array([6, 5, 0, ..., 4, 6, 1], dtype=int16), array([-51,  96, 207, ...,  15,  29,   0], dtype=int16), array([-128, -184, -140, ...,   86,  103,  114], dtype=int16), array([-44, -41, -31, ...,  -4,  -6, -11], dtype=int16), array([ 1,  1,  4, ..., 40, 42, 48], dtype=int16), array([  0,   0,  -3, ..., -12, -12, -10], dtype=int16), array([23, 16,  8, ..., 48, 41, 39], dtype=int16), array([-2, -4, -5, ...,  9, 13, 12], dtype=int16), array([ 15, -66, -89, ...,   0,  -3,   9], dtype=int16), array([-1,  1,  2, ..., -6, -5, -3], dtype=int16), array([-2, -6, -5, ..., 25, 12, 17], dtype=int16), array([-14, -20, -23, ...,   8,  -6, -15], dtype=int16), array([ 1, -5, -6, ..., 18, 15, 21], dtype=int16), array([12,  7, 13, ...,  4, 13,  2], dtype=int16), array([17, 22, 27, ..., -1,  2,  0], dtype=int16), array([35, 23,  8, ...,  0, -7, -9], dtype=int16), array([-1,  2, -1, ..., 14,  7, -3], dtype=int16), array([ 24, 187, 250, ..., -36, -36, -33], dtype=int16), array([  22, -171, -227, ...,   -4,   -3,   -3], dtype=int16), array([ 21,  94, 116, ...,  -7, -17,  -8], dtype=int16), array([-10, -13, -16, ..., -12, -46, -31], dtype=int16), array([-10, -17, -25, ...,  12,  42,  33], dtype=int16), array([ 71,  70,  53, ..., -10,  -7,  -4], dtype=int16), array([37, 76, 69, ..., 39, 46, 47], dtype=int16), array([  8,   9,   1, ..., -43, -31, -14], dtype=int16), array([ -1,   0,   1, ...,  20, -54, -18], dtype=int16), array([31, 32, 28, ...,  3,  9, -4], dtype=int16), array([-6, -5, -3, ...,  1,  7,  9], dtype=int16), array([-22, -21, -22, ...,  -6, -12,   0], dtype=int16), array([ -5, -11, -17, ..., -50, -37, -40], dtype=int16), array([-1, -3, -6, ..., 42, 39, 46], dtype=int16), array([ 2,  5,  8, ..., 13, 25, 11], dtype=int16), array([-30,  29,  -7, ...,   7,  11,  14], dtype=int16), array([ 0,  0,  0, ..., 14,  5, 10], dtype=int16), array([-25, -14, -26, ...,  -2,   7,  16], dtype=int16), array([ -6,  -2,  -6, ..., -12, -22, -14], dtype=int16), array([10,  3,  0, ...,  7,  0, -9], dtype=int16), array([ -1,  -2,  -8, ..., -23,  -8,  -6], dtype=int16), array([0, 0, 2, ..., 0, 4, 1], dtype=int16), array([  9,   4,   1, ..., -37, -37, -36], dtype=int16), array([-39, -38, -28, ...,  -3,  -5,  14], dtype=int16), array([-9, -6, -8, ..., 24, 19, 25], dtype=int16), array([-220, -184, -186, ...,   11,   26,   25], dtype=int16), array([125, 234, 121, ...,  -8,   0, -12], dtype=int16), array([ 19, -47, -97, ...,  16, -33,  19], dtype=int16), array([ 32,  23,  21, ...,  -2, -50, -41], dtype=int16), array([-23, -13, -20, ...,  55,  23, -10], dtype=int16), array([ -2,   5,  11, ...,  -3,  -1, -10], dtype=int16), array([ 16,  18,  11, ..., -16, -16, -19], dtype=int16), array([-130,  -89, -117, ...,   -7,   -4,   -3], dtype=int16), array([-93, -82, -61, ...,  -1,  -7, -12], dtype=int16), array([ -4, -10,  -9, ...,  19,  14,  25], dtype=int16), array([  3,   7,   8, ...,   5,  -4, -17], dtype=int16), array([ 0,  0,  4, ...,  0,  0, -4], dtype=int16), array([-97, -61,  33, ...,   6,   1,   3], dtype=int16), array([ -9,  -7,  -6, ..., -63,  -6, -18], dtype=int16), array([-17, -15, -15, ...,  -9,  -8,  -8], dtype=int16), array([109,  74, -36, ..., -21, -21, -26], dtype=int16), array([  18,  -29, -101, ...,    2,    5,    6], dtype=int16), array([-4, -5, -8, ..., 10,  9, 11], dtype=int16), array([  4,  47, 109, ...,  32,  42,  52], dtype=int16), array([  0,   4,   5, ..., -10, -10,  -7], dtype=int16), array([-2, -1, -1, ..., 15,  3, -9], dtype=int16), array([24, 16,  8, ..., 15, 16, 14], dtype=int16), array([ 182,   38, -161, ...,   18,   23,   26], dtype=int16), array([  6,  -8, -16, ...,  -1,  -3,  -3], dtype=int16), array([14, 24, 24, ...,  9,  8,  3], dtype=int16), array([ 5,  6,  6, ..., 44, 39, 28], dtype=int16), array([-90, 210, 245, ..., -19, -11,  -5], dtype=int16), array([-6, -3, -5, ..., 36, 31, 14], dtype=int16), array([ 1,  0,  1, ...,  0, -4, -6], dtype=int16), array([  0,  -1,   0, ..., -51, -27, -28], dtype=int16), array([ 20, -26, -59, ...,   9,   4,   7], dtype=int16), array([ 0,  0, -1, ..., 12,  7,  2], dtype=int16), array([-22, -27, -23, ...,   0,  -6,  -9], dtype=int16), array([-32, -36, -30, ..., -10, -11,  -9], dtype=int16), array([ 36,  34,  32, ..., -19, -22, -27], dtype=int16), array([  4,   3,   4, ..., -13,   1,   0], dtype=int16), array([-4,  0,  0, ...,  1,  6, 15], dtype=int16), array([ 0, -1,  1, ...,  6,  5,  0], dtype=int16), array([ 34,  40, -13, ...,  80,  73,  64], dtype=int16), array([10,  7,  2, ..., -4,  1,  1], dtype=int16), array([14, 18, 19, ..., 13, 13, 14], dtype=int16), array([ 24,  17,  18, ..., -24, -30, -35], dtype=int16), array([-29, -25, -18, ...,   5,   3,   5], dtype=int16), array([ 9,  5,  7, ..., 20, -6,  6], dtype=int16), array([   3,    1, -139, ...,  -11,   -9,    4], dtype=int16), array([  84,  -92, -178, ...,   -7,   -9,   -2], dtype=int16), array([30, 27, 30, ..., 13, 46, -3], dtype=int16), array([10, 12, 14, ..., 30,  9,  0], dtype=int16), array([ 0,  0,  0, ..., -1,  7, 12], dtype=int16), array([  76,  -67, -184, ...,  -40,  -35,  -30], dtype=int16), array([11,  8, -2, ...,  0,  0,  5], dtype=int16), array([-19, -16, -16, ..., -30, -32, -27], dtype=int16), array([  1,  -3,   5, ...,  64, 138, 106], dtype=int16), array([-18,  -2, -10, ...,   2,  18, -13], dtype=int16), array([15, 11,  9, ..., 30, 36, 33], dtype=int16), array([ -8, -10,  -7, ...,  11,   8,   7], dtype=int16), array([117, 104, 160, ...,  14,   5,   1], dtype=int16), array([59, 55, 51, ..., 31, 32, 21], dtype=int16), array([ -5,  -6, -13, ...,  -5,  -4,   0], dtype=int16), array([  8,   5,  -6, ..., -35, -37, -37], dtype=int16), array([   3, -262,  -39, ...,  -13,   -5,   -2], dtype=int16), array([-224, -255, -221, ...,   13,   16,   17], dtype=int16), array([ 24, -20,  56, ..., -33, -21, -25], dtype=int16), array([23, 23, 23, ..., 13, 12, 17], dtype=int16), array([-1, -5, -7, ..., 23, 40, 15], dtype=int16), array([-48, -56, -60, ...,  12,  11,  19], dtype=int16), array([-15, -12, -11, ...,  26,  25,  42], dtype=int16), array([-69,  57, -35, ...,  -1,   4,  11], dtype=int16), array([ -5,  -9, -10, ...,  12,  25,  61], dtype=int16), array([-156, -244, -184, ...,    6,   -5,  -10], dtype=int16), array([-4, -2, -2, ..., 19, 17, 14], dtype=int16), array([-67, -97, -81, ...,  46,  38,  39], dtype=int16), array([-11, -14, -14, ..., -11, -16, -17], dtype=int16), array([-10,  21, 132, ..., -39, -39, -50], dtype=int16), array([-32, -24, -27, ..., -22, -17, -16], dtype=int16), array([  6,   4,   3, ...,  14,  -2, -15], dtype=int16), array([  2,   1,  -1, ..., -14, -16, -15], dtype=int16), array([ -2, -10, -19, ..., -29,  -7, -29], dtype=int16), array([15, 16, 14, ..., 10, 11, 16], dtype=int16), array([-2, -3, -9, ...,  3, -1,  0], dtype=int16), array([-221, -413, -515, ...,   -2,   -3,   -7], dtype=int16), array([-19,   2, -30, ...,  -2,  -6,   0], dtype=int16), array([-19, -43, -55, ...,  25,  22,  10], dtype=int16), array([ -39, -139, -132, ...,   -1,   -1,   -2], dtype=int16), array([-10,  -5,  -5, ..., -26, -20, -16], dtype=int16), array([17, 16, 24, ..., 25, 23, 16], dtype=int16), array([ 190,  -88, -134, ...,  -17,  -15,  -16], dtype=int16), array([-11, -10,  -9, ...,  -9,  -5, -10], dtype=int16), array([24, 19, 17, ...,  0, -2, -2], dtype=int16), array([ -6,  -5, -14, ..., -24, -28, -24], dtype=int16), array([-10,  -8,  -8, ..., -22, -23, -35], dtype=int16), array([ -6,  -8,  -8, ..., -12, -24, -18], dtype=int16)]\n"
          ]
        }
      ],
      "source": [
        "import tensorflow as tf\n",
        "import tensorflow_datasets as tfds\n",
        "import IPython.display as ipd\n",
        "\n",
        "\n",
        "def load():\n",
        "  #train_dataset = tfds.load('ljspeech')\n",
        "  #ds = train_dataset['train']\n",
        "\n",
        "  train_dataset = tfds.load('ljspeech', split=['train[2%:]'])\n",
        "  ds = train_dataset[0]\n",
        "  print(len(train_dataset))\n",
        "  temp = list(map(lambda x: x['speech'], ds))\n",
        "\n",
        "  dataset =list( map(lambda x: x.numpy(), temp))\n",
        "  del temp\n",
        "  del ds\n",
        "  return dataset\n",
        "dataset = load()\n",
        "import gc\n",
        "gc.collect()\n",
        "print(dataset)"
      ]
    },
    {
      "cell_type": "markdown",
      "metadata": {},
      "source": [
        "In this code below the dataset is shortened do to memory constraints"
      ]
    },
    {
      "cell_type": "code",
      "execution_count": null,
      "metadata": {
        "colab": {
          "base_uri": "https://localhost:8080/"
        },
        "id": "9pbqIgQYaiC5",
        "outputId": "35033781-f1a4-4850-d863-d55eea4d295c",
        "vscode": {
          "languageId": "python"
        }
      },
      "outputs": [
        {
          "name": "stdout",
          "output_type": "stream",
          "text": [
            "1000\n"
          ]
        }
      ],
      "source": [
        "dataset = dataset[:1000]\n",
        "print(len(dataset))\n",
        "\n",
        "import pickle\n",
        "with open('dataset.pkl', 'wb') as f:\n",
        "  pickle.dump(dataset, f)"
      ]
    },
    {
      "cell_type": "markdown",
      "metadata": {},
      "source": [
        "The code below downloads a spectrogram library used for the frequency measurements"
      ]
    },
    {
      "cell_type": "code",
      "execution_count": null,
      "metadata": {
        "cellView": "form",
        "id": "CCZ2V4dzldDK",
        "vscode": {
          "languageId": "python"
        }
      },
      "outputs": [],
      "source": [
        "#@title Biblioteca espectrograma\n",
        "%matplotlib inline\n",
        "import IPython.display\n",
        "from ipywidgets import interact, interactive, fixed\n",
        "\n",
        "# Packages we're using\n",
        "import numpy as np\n",
        "import matplotlib.pyplot as plt\n",
        "import copy\n",
        "from scipy.io import wavfile\n",
        "from scipy.signal import butter, lfilter\n",
        "import scipy.ndimage\n",
        "# Most of the Spectrograms and Inversion are taken from: https://gist.github.com/kastnerkyle/179d6e9a88202ab0a2fe\n",
        "\n",
        "\n",
        "def butter_bandpass(lowcut, highcut, fs, order=5):\n",
        "    nyq = 0.5 * fs\n",
        "    low = lowcut / nyq\n",
        "    high = highcut / nyq\n",
        "    b, a = butter(order, [low, high], btype=\"band\")\n",
        "    return b, a\n",
        "\n",
        "\n",
        "def butter_bandpass_filter(data, lowcut, highcut, fs, order=5):\n",
        "    b, a = butter_bandpass(lowcut, highcut, fs, order=order)\n",
        "    y = lfilter(b, a, data)\n",
        "    return y\n",
        "\n",
        "\n",
        "def overlap(X, window_size, window_step):\n",
        "    \"\"\"\n",
        "    Create an overlapped version of X\n",
        "    Parameters\n",
        "    ----------\n",
        "    X : ndarray, shape=(n_samples,)\n",
        "        Input signal to window and overlap\n",
        "    window_size : int\n",
        "        Size of windows to take\n",
        "    window_step : int\n",
        "        Step size between windows\n",
        "    Returns\n",
        "    -------\n",
        "    X_strided : shape=(n_windows, window_size)\n",
        "        2D array of overlapped X\n",
        "    \"\"\"\n",
        "    if window_size % 2 != 0:\n",
        "        raise ValueError(\"Window size must be even!\")\n",
        "    # Make sure there are an even number of windows before stridetricks\n",
        "    append = np.zeros((window_size - len(X) % window_size))\n",
        "    X = np.hstack((X, append))\n",
        "\n",
        "    ws = window_size\n",
        "    ss = window_step\n",
        "    a = X\n",
        "\n",
        "    valid = len(a) - ws\n",
        "    nw = (valid) // ss\n",
        "    out = np.ndarray((nw, ws), dtype=a.dtype)\n",
        "\n",
        "    for i in np.arange(nw):\n",
        "        # \"slide\" the window along the samples\n",
        "        start = i * ss\n",
        "        stop = start + ws\n",
        "        out[i] = a[start:stop]\n",
        "\n",
        "    return out\n",
        "\n",
        "\n",
        "def stft(\n",
        "    X, fftsize=128, step=65, mean_normalize=True, real=False, compute_onesided=True\n",
        "):\n",
        "    \"\"\"\n",
        "    Compute STFT for 1D real valued input X\n",
        "    \"\"\"\n",
        "    if real:\n",
        "        local_fft = np.fft.rfft\n",
        "        cut = -1\n",
        "    else:\n",
        "        local_fft = np.fft.fft\n",
        "        cut = None\n",
        "    if compute_onesided:\n",
        "        cut = fftsize // 2\n",
        "    if mean_normalize:\n",
        "        X -= X.mean()\n",
        "\n",
        "    X = overlap(X, fftsize, step)\n",
        "\n",
        "    size = fftsize\n",
        "    win = 0.54 - 0.46 * np.cos(2 * np.pi * np.arange(size) / (size - 1))\n",
        "    X = X * win[None]\n",
        "    X = local_fft(X)[:, :cut]\n",
        "    return X\n",
        "\n",
        "\n",
        "def pretty_spectrogram(d, log=True, thresh=5, fft_size=512, step_size=64):\n",
        "    \"\"\"\n",
        "    creates a spectrogram\n",
        "    log: take the log of the spectrgram\n",
        "    thresh: threshold minimum power for log spectrogram\n",
        "    \"\"\"\n",
        "    specgram = np.abs(\n",
        "        stft(d, fftsize=fft_size, step=step_size, real=False, compute_onesided=True)\n",
        "    )\n",
        "\n",
        "    if log == True:\n",
        "        specgram /= specgram.max()  # volume normalize to max 1\n",
        "        specgram = np.log10(specgram)  # take log\n",
        "        specgram[\n",
        "            specgram < -thresh\n",
        "        ] = -thresh  # set anything less than the threshold as the threshold\n",
        "    else:\n",
        "        specgram[\n",
        "            specgram < thresh\n",
        "        ] = thresh  # set anything less than the threshold as the threshold\n",
        "\n",
        "    return specgram\n",
        "\n",
        "\n",
        "# Also mostly modified or taken from https://gist.github.com/kastnerkyle/179d6e9a88202ab0a2fe\n",
        "def invert_pretty_spectrogram(\n",
        "    X_s, log=True, fft_size=512, step_size=512 / 4, n_iter=10\n",
        "):\n",
        "\n",
        "    if log == True:\n",
        "        X_s = np.power(10, X_s)\n",
        "\n",
        "    X_s = np.concatenate([X_s, X_s[:, ::-1]], axis=1)\n",
        "    X_t = iterate_invert_spectrogram(X_s, fft_size, step_size, n_iter=n_iter)\n",
        "    return X_t\n",
        "\n",
        "\n",
        "def iterate_invert_spectrogram(X_s, fftsize, step, n_iter=10, verbose=False):\n",
        "    \"\"\"\n",
        "    Under MSR-LA License\n",
        "    Based on MATLAB implementation from Spectrogram Inversion Toolbox\n",
        "    References\n",
        "    ----------\n",
        "    D. Griffin and J. Lim. Signal estimation from modified\n",
        "    short-time Fourier transform. IEEE Trans. Acoust. Speech\n",
        "    Signal Process., 32(2):236-243, 1984.\n",
        "    Malcolm Slaney, Daniel Naar and Richard F. Lyon. Auditory\n",
        "    Model Inversion for Sound Separation. Proc. IEEE-ICASSP,\n",
        "    Adelaide, 1994, II.77-80.\n",
        "    Xinglei Zhu, G. Beauregard, L. Wyse. Real-Time Signal\n",
        "    Estimation from Modified Short-Time Fourier Transform\n",
        "    Magnitude Spectra. IEEE Transactions on Audio Speech and\n",
        "    Language Processing, 08/2007.\n",
        "    \"\"\"\n",
        "    reg = np.max(X_s) / 1e8\n",
        "    X_best = copy.deepcopy(X_s)\n",
        "    for i in range(n_iter):\n",
        "        if verbose:\n",
        "            print(\"Runnning iter %i\" % i)\n",
        "        if i == 0:\n",
        "            X_t = invert_spectrogram(\n",
        "                X_best, step, calculate_offset=True, set_zero_phase=True\n",
        "            )\n",
        "        else:\n",
        "            # Calculate offset was False in the MATLAB version\n",
        "            # but in mine it massively improves the result\n",
        "            # Possible bug in my impl?\n",
        "            X_t = invert_spectrogram(\n",
        "                X_best, step, calculate_offset=True, set_zero_phase=False\n",
        "            )\n",
        "        est = stft(X_t, fftsize=fftsize, step=step, compute_onesided=False)\n",
        "        phase = est / np.maximum(reg, np.abs(est))\n",
        "        X_best = X_s * phase[: len(X_s)]\n",
        "    X_t = invert_spectrogram(X_best, step, calculate_offset=True, set_zero_phase=False)\n",
        "    return np.real(X_t)\n",
        "\n",
        "\n",
        "def invert_spectrogram(X_s, step, calculate_offset=True, set_zero_phase=True):\n",
        "    \"\"\"\n",
        "    Under MSR-LA License\n",
        "    Based on MATLAB implementation from Spectrogram Inversion Toolbox\n",
        "    References\n",
        "    ----------\n",
        "    D. Griffin and J. Lim. Signal estimation from modified\n",
        "    short-time Fourier transform. IEEE Trans. Acoust. Speech\n",
        "    Signal Process., 32(2):236-243, 1984.\n",
        "    Malcolm Slaney, Daniel Naar and Richard F. Lyon. Auditory\n",
        "    Model Inversion for Sound Separation. Proc. IEEE-ICASSP,\n",
        "    Adelaide, 1994, II.77-80.\n",
        "    Xinglei Zhu, G. Beauregard, L. Wyse. Real-Time Signal\n",
        "    Estimation from Modified Short-Time Fourier Transform\n",
        "    Magnitude Spectra. IEEE Transactions on Audio Speech and\n",
        "    Language Processing, 08/2007.\n",
        "    \"\"\"\n",
        "    size = int(X_s.shape[1] // 2)\n",
        "    wave = np.zeros((X_s.shape[0] * step + size))\n",
        "    # Getting overflow warnings with 32 bit...\n",
        "    wave = wave.astype(\"float64\")\n",
        "    total_windowing_sum = np.zeros((X_s.shape[0] * step + size))\n",
        "    win = 0.54 - 0.46 * np.cos(2 * np.pi * np.arange(size) / (size - 1))\n",
        "\n",
        "    est_start = int(size // 2) - 1\n",
        "    est_end = est_start + size\n",
        "    for i in range(X_s.shape[0]):\n",
        "        wave_start = int(step * i)\n",
        "        wave_end = wave_start + size\n",
        "        if set_zero_phase:\n",
        "            spectral_slice = X_s[i].real + 0j\n",
        "        else:\n",
        "            # already complex\n",
        "            spectral_slice = X_s[i]\n",
        "\n",
        "        # Don't need fftshift due to different impl.\n",
        "        wave_est = np.real(np.fft.ifft(spectral_slice))[::-1]\n",
        "        if calculate_offset and i > 0:\n",
        "            offset_size = size - step\n",
        "            if offset_size <= 0:\n",
        "                print(\n",
        "                    \"WARNING: Large step size >50\\% detected! \"\n",
        "                    \"This code works best with high overlap - try \"\n",
        "                    \"with 75% or greater\"\n",
        "                )\n",
        "                offset_size = step\n",
        "            offset = xcorr_offset(\n",
        "                wave[wave_start : wave_start + offset_size],\n",
        "                wave_est[est_start : est_start + offset_size],\n",
        "            )\n",
        "        else:\n",
        "            offset = 0\n",
        "        wave[wave_start:wave_end] += (\n",
        "            win * wave_est[est_start - offset : est_end - offset]\n",
        "        )\n",
        "        total_windowing_sum[wave_start:wave_end] += win\n",
        "    wave = np.real(wave) / (total_windowing_sum + 1e-6)\n",
        "    return wave\n",
        "\n",
        "def xcorr_offset(x1, x2):\n",
        "    \"\"\"\n",
        "    Under MSR-LA License\n",
        "    Based on MATLAB implementation from Spectrogram Inversion Toolbox\n",
        "    References\n",
        "    ----------\n",
        "    D. Griffin and J. Lim. Signal estimation from modified\n",
        "    short-time Fourier transform. IEEE Trans. Acoust. Speech\n",
        "    Signal Process., 32(2):236-243, 1984.\n",
        "    Malcolm Slaney, Daniel Naar and Richard F. Lyon. Auditory\n",
        "    Model Inversion for Sound Separation. Proc. IEEE-ICASSP,\n",
        "    Adelaide, 1994, II.77-80.\n",
        "    Xinglei Zhu, G. Beauregard, L. Wyse. Real-Time Signal\n",
        "    Estimation from Modified Short-Time Fourier Transform\n",
        "    Magnitude Spectra. IEEE Transactions on Audio Speech and\n",
        "    Language Processing, 08/2007.\n",
        "    \"\"\"\n",
        "    x1 = x1 - x1.mean()\n",
        "    x2 = x2 - x2.mean()\n",
        "    frame_size = len(x2)\n",
        "    half = frame_size // 2\n",
        "    corrs = np.convolve(x1.astype(\"float32\"), x2[::-1].astype(\"float32\"))\n",
        "    corrs[:half] = -1e30\n",
        "    corrs[-half:] = -1e30\n",
        "    offset = corrs.argmax() - len(x1)\n",
        "    return offset\n",
        "\n",
        "import scipy.io.wavfile as wav\n",
        "\n",
        "### Parameters ###\n",
        "fft_size = 512  # window size for the FFT\n",
        "step_size = fft_size // 16  # distance to slide along the window (in time)\n",
        "spec_thresh = 4  # threshold for spectrograms (lower filters out more noise)\n",
        "lowcut = 500  # Hz # Low cut for our butter bandpass filter\n",
        "highcut = 4000  # Hz # High cut for our butter bandpass filter\n",
        "# For mels\n",
        "n_mel_freq_components = 64  # number of mel frequency channels\n",
        "shorten_factor = 10  # how much should we compress the x-axis (time)\n",
        "start_freq = 50  # Hz # What frequency to start sampling our melS from\n",
        "end_freq = 4000\n",
        "audio_path='/content/free-spoken-digit-dataset/recordings/0_jackson_0.wav'\n",
        "data_rate, data = wav.read(audio_path)\n",
        "wav_spectrogram = pretty_spectrogram(\n",
        "data.astype(\"float64\"),\n",
        "fft_size=fft_size,\n",
        "step_size=step_size,\n",
        "log=True,\n",
        "thresh=spec_thresh,\n",
        ")\n",
        "\n",
        "# Invert from the spectrogram back to a waveform\n",
        "recovered_audio_orig = invert_pretty_spectrogram(\n",
        "    wav_spectrogram, fft_size=fft_size, step_size=step_size, log=True, n_iter=10\n",
        ")"
      ]
    },
    {
      "cell_type": "markdown",
      "metadata": {},
      "source": [
        "This section  below  defines the autoencoder used for compressed sensing\n"
      ]
    },
    {
      "cell_type": "code",
      "execution_count": null,
      "metadata": {
        "id": "oLSund35HjKw",
        "vscode": {
          "languageId": "python"
        }
      },
      "outputs": [],
      "source": [
        "import time\n",
        "from __future__ import absolute_import\n",
        "from __future__ import division\n",
        "from __future__ import print_function\n",
        "import keras\n",
        "from keras.layers import Activation, Dense, Input\n",
        "from keras.layers import Conv2D, Flatten, BatchNormalization, Dropout\n",
        "from keras.layers import Reshape, Conv2DTranspose\n",
        "from keras.models import Model\n",
        "from keras import backend as K\n",
        "from keras.datasets import mnist\n",
        "import numpy as np\n",
        "import matplotlib.pyplot as plt\n",
        "from PIL import Image\n",
        "from keras import regularizers\n",
        "import torch\n",
        "from torchmetrics.audio import PerceptualEvaluationSpeechQuality\n",
        "from torch_specinv import griffin_lim\n",
        "from keras.models import model_from_json\n",
        "np.random.seed(1337)\n",
        "\n",
        "class myautoencoder():\n",
        "  def __init__(self,compression_rate,linear_encoder, fft, rate, time_long,fft_step_size_ratio, x_train, x_train_noise, x_test, x_test_noise, clip,Xmin, mode = 'conv', pretrain_encoder = False, encoder_w=None):\n",
        "    self.linear_encoder = linear_encoder\n",
        "    self.mode = mode\n",
        "    self.time_long = int(time_long)\n",
        "    #modif\n",
        "    self.x_train = x_train\n",
        "    self.x_train_noise = x_train_noise  # Added noisy training data\n",
        "    self.x_test = x_test\n",
        "    self.x_test_noise = x_test_noise\n",
        "    self.fft = fft\n",
        "    self.Xmin=Xmin\n",
        "    self.rate=rate\n",
        "    self.step_size = int(fft/fft_step_size_ratio)\n",
        "    self.time = int(self.time_long/self.step_size)\n",
        "    self.clip = clip\n",
        "    self.encoder_w = encoder_w\n",
        "    image_size= self.x_train.shape\n",
        "    self.compression_rate = compression_rate\n",
        "    self.x_train = np.reshape(self.x_train, [-1, image_size[1], image_size[2], 1]) - self.Xmin\n",
        "    self.x_train_noise = np.reshape(self.x_train_noise, [-1, image_size[1], image_size[2], 1]) - self.Xmin # Reshape noisy data\n",
        "    self.x_test = np.reshape(self.x_test, [-1, image_size[1], image_size[2], 1]) - self.Xmin\n",
        "    self.x_test_noise = np.reshape(self.x_test_noise, [-1, image_size[1], image_size[2], 1]) - self.Xmin  # Reshape noisy data\n",
        "\n",
        "    self.x_train = self.x_train.astype('float32') / self.clip\n",
        "    self.x_test = self.x_test.astype('float32') / self.clip\n",
        "    self.x_train_noise = self.x_train_noise.astype('float32') / self.clip\n",
        "    self.x_test_noise = self.x_test_noise.astype('float32') / self.clip\n",
        "    # Network parameters\n",
        "    input_shape = (image_size[1], image_size[2], 1)\n",
        "    self.batch_size = 32\n",
        "    kernel_size = (int(10*self.fft/512),int(5*self.time/16))\n",
        "    latent_dim =int(self.compression_rate*self.time_long)\n",
        "    # Encoder/Decoder number of CNN layers and filters per layer\n",
        "    layer_filters = [16, 32]\n",
        "    # Build the Autoencoder Model\n",
        "    # First build the Encoder Model\n",
        "    inputs = Input(shape=input_shape, name='encoder_input')\n",
        "    x = inputs\n",
        "    # Shape info needed to build Decoder Model\n",
        "    shape = K.int_shape(x)\n",
        "    if mode == 'conv':\n",
        "      shape = (None,int(self.fft/2), int(self.time_long/self.step_size),int(self.time_long/(self.step_size*2)))\n",
        "    else:\n",
        "      shape = (None,int(self.fft/2)+1, int(self.time_long/self.step_size),1)\n",
        "    # Generate the latent vector\n",
        "    x = Flatten()(inputs)\n",
        "    if self.linear_encoder == True:\n",
        "      activation = 'linear'\n",
        "    else:\n",
        "      activation = 'tanh'\n",
        "\n",
        "    self.layer = Dense(latent_dim, activation=activation, name='latent_vector')\n",
        "    latent = self.layer(x)\n",
        "\n",
        "    if pretrain_encoder == True:\n",
        "      self.layer.set_weights(self.encoder_w)\n",
        "      self.layer.trainable = False\n",
        "\n",
        "    # Instantiate Encoder Model\n",
        "    encoder = Model(inputs, latent, name='encoder')\n",
        "    #encoder.summary()\n",
        "    # Build the Decoder Model\n",
        "    latent_inputs = Input(shape=(latent_dim,), name='decoder_input')\n",
        "    x=latent_inputs\n",
        "    if self.mode == 'mlp1':\n",
        "      x = Dense(500, activation=\"relu\")(x)\n",
        "    if self.mode == 'mlp2':\n",
        "      x = Dense(500, activation=\"sigmoid\")(x)\n",
        "      x = BatchNormalization()(x)\n",
        "      x = Dense(500, activation=\"sigmoid\")(x)\n",
        "      x = BatchNormalization()(x)\n",
        "    x = Dense(shape[1] * shape[2] * shape[3])(x)\n",
        "    x = Reshape((shape[1], shape[2], shape[3]))(x)\n",
        "    lp = x\n",
        "    '''\n",
        "    x = Conv2DTranspose(filters=1,\n",
        "                        kernel_size=(5,5),\n",
        "                        padding='same')(x)\n",
        "    '''\n",
        "    #x2 = x\n",
        "    # Stack of Transposed Conv2D blocks\n",
        "    # Notes:\n",
        "    # 1) Use Batch Normalization before ReLU on deep networks\n",
        "    # 2) Use UpSampling2D as alternative to strides>1\n",
        "    # - faster but not as good as strides>1\n",
        "\n",
        "    for filters in layer_filters[::-1]:\n",
        "        x = Conv2DTranspose(filters=filters,\n",
        "                            kernel_size=kernel_size,\n",
        "                            kernel_regularizer=regularizers.l2(0.001),\n",
        "                            strides=(1,1),\n",
        "                            activation='relu',\n",
        "                            padding='same')(x)\n",
        "\n",
        "\n",
        "    conv = Conv2DTranspose(filters=1,\n",
        "                        kernel_size=kernel_size,\n",
        "                        padding='same')(x)\n",
        "\n",
        "    if self.mode == 'conv':\n",
        "      x2 = conv\n",
        "    elif self.mode == 'mlp1' or self.mode == 'mlp2':\n",
        "      x2 = lp\n",
        "\n",
        "    outputs = Activation('sigmoid', name='decoder_output')(x2)\n",
        "\n",
        "    # Instantiate Decoder Model\n",
        "    decoder = Model(latent_inputs, outputs, name='decoder')\n",
        "    #decoder.summary()\n",
        "\n",
        "    # Autoencoder = Encoder + Decoder\n",
        "    # Instantiate Autoencoder Model\n",
        "    self.autoencoder = Model(inputs, decoder(encoder(inputs)), name='autoencoder')\n",
        "  def train(self, epochs, loss):\n",
        "    t0 = time.time()\n",
        "    self.epochs = epochs\n",
        "    self.loss = loss\n",
        "    #autoencoder.summary()\n",
        "    sgd = keras.optimizers.Adam(lr=0.0001, beta_1=0.95, beta_2=0.999, amsgrad=False)\n",
        "    #sgd = keras.optimizers.RMSprop(lr=0.0001, rho=0.99)\n",
        "    self.autoencoder.compile(loss=self.loss, optimizer=sgd)\n",
        "\n",
        "    # Train the autoencoder\n",
        "    history = self.autoencoder.fit(x = self.x_train_noise,\n",
        "                    y = self.x_train,\n",
        "                    validation_data=(self.x_test_noise,self.x_test),\n",
        "                    epochs=self.epochs,\n",
        "                    batch_size=self.batch_size)\n",
        "    if self.mode == 'lp':\n",
        "      self.encoder_w=self.layer.get_weights()\n",
        "    # Plot training & validation loss values\n",
        "    print(time.time()-t0)\n",
        "    return self.encoder_w, history\n",
        "#autoencoder.evaluate(self.x_test,self.x_test)\n",
        "#g = autoencoder\n",
        "#g2_json = g.to_json()\n",
        "#1 3000\n",
        "#2 10000\n",
        "#with open(\"/gdrive/My Drive/NN/auto-256cnn.json\", \"w\") as json_file:\n",
        "#    json_file.write(g2_json)\n",
        "# serialize weights to HDF5\n",
        "#g.save_weights(\"/gdrive/My Drive/NN/auto-256cnn.h5\")\n",
        "#print(\"Saved model g to disk\")\n",
        "  def audio_evaluation(self, num_audios, audios, log_ref):\n",
        "    self.log_ref = log_ref\n",
        "    sp_sz = int(self.time_long)\n",
        "    loss1 = np.zeros(num_audios,)\n",
        "    loss2 = np.zeros(num_audios,)\n",
        "    loss3 = np.zeros(num_audios,)\n",
        "    tiempo_total=[]\n",
        "    tiempo_total_rec=[]\n",
        "    tiempo_gl=[]\n",
        "    loss4 = []\n",
        "    SMSE = []\n",
        "    p = []\n",
        "    pearson = []\n",
        "    pearson_s = []\n",
        "    SNR = np.zeros(num_audios,)\n",
        "    t0 = time.time()\n",
        "    total_specs=0\n",
        "    audio_dir='/content/free-spoken-digit-dataset/recordings/'\n",
        "    file_names = [f for f in listdir(audio_dir) if isfile(join(audio_dir, f)) and '.wav' in f]\n",
        "    for samples in audios:\n",
        "      noisy_samples = add_noise(samples)\n",
        "\n",
        "      noisy_samples = np.append(noisy_samples, np.random.randn(sp_sz-noisy_samples.shape[0]%sp_sz)*10, axis=0)\n",
        "\n",
        "\n",
        "      y = torch.from_numpy(samples.astype(\"float32\"))\n",
        "      windowsize = 256\n",
        "      window = torch.hann_window(windowsize)\n",
        "      S = torch.stft(y, windowsize, window=window, return_complex=False)\n",
        "      mag = S.pow(2).sum(2).sqrt()\n",
        "      num = mag.numpy()\n",
        "\n",
        "      ms=librosa.power_to_db(num, ref=self.log_ref)\n",
        "      n_ms = samples.shape[0]//sp_sz\n",
        "      ms = ms[:,:(n_ms*16)]\n",
        "      ms2 = np.expand_dims(ms, axis=0)\n",
        "      lms = np.split(ms2, n_ms, axis=2)\n",
        "      ms2 = np.concatenate(lms)\n",
        "      msrs = np.reshape((ms2-self.Xmin)/self.clip, [-1, ms2.shape[1], ms2.shape[2], 1])\n",
        "\n",
        "\n",
        "      #decrypt\n",
        "      t1=time.time()\n",
        "      x_decoded = self.autoencoder.predict(msrs)\n",
        "      t2=time.time()\n",
        "      lms = np.split(x_decoded, x_decoded.shape[0], axis=0)\n",
        "      x_decoded2 = np.concatenate(lms,axis=2)\n",
        "      x_decoded3 = np.reshape(x_decoded2, [ x_decoded2.shape[1], x_decoded2.shape[2]])*self.clip+self.Xmin\n",
        "      comp3 = librosa.core.db_to_power(x_decoded3, ref=self.log_ref)\n",
        "      #print('shape', num.shape)\n",
        "\n",
        "\n",
        "\n",
        "      try:\n",
        "        yhat = griffin_lim(torch.from_numpy(comp3), maxiter=100, alpha=0.3, window=window)\n",
        "        t3=time.time()\n",
        "        tiempo_total.append(t3-t0)\n",
        "        tiempo_total_rec.append(t3-t1)\n",
        "        tiempo_gl.append(t3-t2)\n",
        "\n",
        "        #mag = trsfn(y)\n",
        "      #yhat = RTISI_LA(mag, look_ahead=-1, asymmetric_window=False, max_iter=25,\n",
        "      #alpha=0.99, verbose=1)\n",
        "\n",
        "        # check convergence\n",
        "\n",
        "        g = torch.manual_seed(1)\n",
        "        preds = torch.from_numpy(samples)\n",
        "        if self.rate==16000:\n",
        "          band='wb'\n",
        "        else:\n",
        "          band='nb'\n",
        "        nb_pesq = PerceptualEvaluationSpeechQuality(self.rate, band)\n",
        "        yhatn=yhat.numpy()\n",
        "        pesq_value = nb_pesq(yhat.type('torch.ShortTensor'), preds[:yhatn.shape[0]]).float()\n",
        "        p.append(pesq_value)\n",
        "\n",
        "        b =  pretty_spectrogram(samples[:yhatn.shape[0]].astype(\"float32\")\n",
        "            ,fft_size=self.fft,step_size=self.step_size,log=False)\n",
        "        c =  pretty_spectrogram(yhatn.astype(\"float32\")\n",
        "          ,fft_size=self.fft,step_size=self.step_size,log=False)\n",
        "        pearson_s.append(scipy.stats.pearsonr(b.reshape(-1),c.reshape(-1)).statistic)\n",
        "        pearson.append(scipy.stats.pearsonr(samples[:yhatn.shape[0]],yhatn).statistic)\n",
        "        p.append(pesq_value)\n",
        "        SMSE.append(np.linalg.norm(b-c)/np.linalg.norm(b))\n",
        "\n",
        "      except:\n",
        "        pass\n",
        "\n",
        "    print('PESQ',sum(p)/len(p))\n",
        "    print('PEARSON SPECTRAL',sum(pearson_s)/len(pearson_s))\n",
        "    print('PEARSON',sum(pearson)/len(pearson))\n",
        "    print('SMSE',sum(SMSE)/len(SMSE))\n",
        "    print( 'tiempo de reconstrucción: {}s'.  format(sum(tiempo_total_rec)/len(tiempo_total_rec)))\n",
        "    print( 'tiempo de griffin lim: {}s'.  format(sum(tiempo_gl)/len(tiempo_gl)))\n",
        "\n",
        "  def save_autoencoder(self,files_name):\n",
        "#g = autoencoder\n",
        "      g2_json = self.autoencoder.to_json()\n",
        "\n",
        "      with open(files_name+\".json\", \"w\") as json_file:\n",
        "          json_file.write(g2_json)\n",
        "# serialize weights to HDF5\n",
        "      self.autoencoder.save_weights(files_name+\".h5\")\n",
        "      print(\"Saved autoencoder model  to disk\")\n",
        "\n",
        "  def load_autoencoder(self,files_name):\n",
        "\n",
        "      # load json and create model\n",
        "      json_file = open(files_name+\".json\", 'r')\n",
        "      loaded_model_json = json_file.read()\n",
        "      json_file.close()\n",
        "      self.autoencoder = model_from_json(loaded_model_json)\n",
        "      # load weights into new model\n",
        "      self.autoencoder.load_weights(files_name+\".h5\")\n",
        "      print(\"Loaded model g2 from disk\")\n",
        "  def audio_hearing(self, audio):\n",
        "    sp_sz = int(self.time_long)\n",
        "    samples = np.append(audio, np.random.randn(sp_sz-audio.shape[0]%sp_sz)*10, axis=0)\n",
        "    y = torch.from_numpy(samples.astype(\"float32\"))\n",
        "    windowsize = 256\n",
        "    window = torch.hann_window(windowsize)\n",
        "    S = torch.stft(y, windowsize, window=window, return_complex=False)\n",
        "    mag = S.pow(2).sum(2).sqrt()\n",
        "    num = mag.numpy()\n",
        "\n",
        "    ms=librosa.power_to_db(num, ref=self.log_ref)\n",
        "    n_ms = samples.shape[0]//sp_sz\n",
        "    ms = ms[:,:(n_ms*16)]\n",
        "    ms2 = np.expand_dims(ms, axis=0)\n",
        "    lms = np.split(ms2, n_ms, axis=2)\n",
        "    ms2 = np.concatenate(lms)\n",
        "    msrs = np.reshape((ms2-self.Xmin)/self.clip, [-1, ms2.shape[1], ms2.shape[2], 1])\n",
        "\n",
        "\n",
        "    #decrypt\n",
        "    x_decoded = self.autoencoder.predict(msrs)\n",
        "    lms = np.split(x_decoded, x_decoded.shape[0], axis=0)\n",
        "    x_decoded2 = np.concatenate(lms,axis=2)\n",
        "    x_decoded3 = np.reshape(x_decoded2, [ x_decoded2.shape[1], x_decoded2.shape[2]])*self.clip+self.Xmin\n",
        "    comp3 = librosa.core.db_to_power(x_decoded3, ref=self.log_ref)\n",
        "    #print('shape', num.shape)\n",
        "\n",
        "\n",
        "\n",
        "    try:\n",
        "      yhat = griffin_lim(torch.from_numpy(comp3), maxiter=100, alpha=0.3, window=window)\n",
        "      #mag = trsfn(y)\n",
        "    #yhat = RTISI_LA(mag, look_ahead=-1, asymmetric_window=False, max_iter=25,\n",
        "    #alpha=0.99, verbose=1)\n",
        "\n",
        "      return yhat.numpy()\n",
        "\n",
        "    except:\n",
        "      pass"
      ]
    },
    {
      "cell_type": "code",
      "execution_count": null,
      "metadata": {
        "id": "qJqC4gBQi2T1",
        "vscode": {
          "languageId": "python"
        }
      },
      "outputs": [],
      "source": [
        "from os import listdir\n",
        "import scipy.io.wavfile as wav\n",
        "from os.path import isfile, join\n",
        "import librosa\n",
        "import librosa.display\n",
        "import numpy as np\n",
        "import matplotlib.pyplot as plt\n",
        "from sklearn.model_selection import train_test_split\n",
        "import torch\n",
        "def create_specs(dataset,fft, time_long, step_size, log_ref):\n",
        "  audio_dir='/content/free-spoken-digit-dataset/recordings/'\n",
        "  file_names = [f for f in listdir(audio_dir) if isfile(join(audio_dir, f)) and '.wav' in f]\n",
        "  ms_list = np.zeros([0,int(fft/2)+1,int(time_long/step_size)])\n",
        "\n",
        "  #sp_sz=2046\n",
        "  sp_sz = int(time_long)\n",
        "  i = 0\n",
        "  for samples in dataset:\n",
        "    samples = np.append(samples, np.random.randn(sp_sz-samples.shape[0]%sp_sz)*10, axis=0)    #ms = np.transpose(pretty_spectrogram(samples.astype(\"float32\"),fft_size=fft,step_size=step_size,log=False))\n",
        "\n",
        "    #ms = np.transpose(pretty_spectrogram(samples.astype(\"float32\"),fft_size=fft,step_size=step_size,log=False))\n",
        "    #n_ms = samples.shape[0]//sp_sz\n",
        "    #ms = np.expand_dims(librosa.power_to_db(ms,\n",
        "    #                                        ref=log_ref), axis=0)\n",
        "    y = torch.from_numpy(samples.astype(\"float32\"))\n",
        "    windowsize = 256\n",
        "    window = torch.hann_window(windowsize)\n",
        "    S = torch.stft(y, windowsize, window=window, return_complex=False)\n",
        "\n",
        "\n",
        "    # discard phase information\n",
        "    mag = S.pow(2).sum(2).sqrt()\n",
        "    ms = mag.numpy()\n",
        "    n_ms = samples.shape[0]//sp_sz\n",
        "    ms = ms[:,:(n_ms*16)]\n",
        "    ms = np.expand_dims(librosa.power_to_db(ms,\n",
        "                                            ref=log_ref), axis=0)\n",
        "    lms = np.split(ms, n_ms, axis=2)\n",
        "    ms2 = np.concatenate(lms)\n",
        "    ms_list = np.append(ms_list,ms2,axis=0)\n",
        "  print(np.amin(ms_list))\n",
        "  print(np.amax(ms_list))\n",
        "  return  train_test_split(\n",
        "    ms_list, test_size=0.20, random_state=42)"
      ]
    },
    {
      "cell_type": "markdown",
      "metadata": {},
      "source": [
        "This section below is used for noise tests"
      ]
    },
    {
      "cell_type": "code",
      "execution_count": null,
      "metadata": {
        "id": "qq4gW57zhKmC",
        "vscode": {
          "languageId": "python"
        }
      },
      "outputs": [],
      "source": [
        "\n",
        "\n",
        "import numpy as np\n",
        "\n",
        "def add_noise(data, snr_db=5):\n",
        "  \"\"\"Adds noise to the input signal at a specified SNR.\n",
        "\n",
        "  Args:\n",
        "    data: The input signal as a NumPy array.\n",
        "    snr_db: The desired signal-to-noise ratio in decibels.\n",
        "\n",
        "  Returns:\n",
        "    The noisy signal as a NumPy array.\n",
        "  \"\"\"\n",
        "\n",
        " # Calculate signal power\n",
        "  signal_power = np.mean(data**2)\n",
        "\n",
        "  # Calculate noise power based on desired SNR\n",
        "  noise_power = signal_power / (10**(snr_db / 10))\n",
        "\n",
        "  # Ensure noise power is positive\n",
        "  noise_power = np.clip(noise_power, a_min=1e-10, a_max=None)  # Clip noise power to a minimum value\n",
        "\n",
        "  # Generate noise with calculated power\n",
        "  noise = np.random.normal(scale=np.sqrt(noise_power), size=len(data))\n",
        "\n",
        "  # Add noise to the signal\n",
        "  noisy_signal = data + noise\n",
        "\n",
        "  # Return the noisy signal # This line is added\n",
        "  return noisy_signal\n",
        "\n",
        "# Example usage:\n",
        "noisy_dataset_m10 = [add_noise(sample, snr_db=5) for sample in dataset]  # Add noise at 20 dB SNR\n",
        "#x_train_noise, x_test_noise = create_specs( noisy_dataset_m10,fft, time_long, step_size, log_ref)"
      ]
    },
    {
      "cell_type": "markdown",
      "metadata": {},
      "source": [
        "We defined the parameters for training the autoencoder"
      ]
    },
    {
      "cell_type": "code",
      "execution_count": null,
      "metadata": {
        "colab": {
          "base_uri": "https://localhost:8080/"
        },
        "id": "1Rx0_1oqjdrq",
        "outputId": "f74ece84-0332-40a8-c738-287bafb97a94",
        "vscode": {
          "languageId": "python"
        }
      },
      "outputs": [
        {
          "name": "stderr",
          "output_type": "stream",
          "text": [
            "/usr/local/lib/python3.11/dist-packages/torch/functional.py:709: UserWarning: stft with return_complex=False is deprecated. In a future pytorch release, stft will return complex tensors for all inputs, and return_complex=False will raise an error.\n",
            "Note: you can still call torch.view_as_real on the complex output to recover the old return format. (Triggered internally at /pytorch/aten/src/ATen/native/SpectralOps.cpp:873.)\n",
            "  return _VF.stft(  # type: ignore[attr-defined]\n"
          ]
        },
        {
          "name": "stdout",
          "output_type": "stream",
          "text": [
            "-34.554664611816406\n",
            "54.47086715698242\n"
          ]
        }
      ],
      "source": [
        "fft = 256\n",
        "time_long = 1024\n",
        "step_size = 64\n",
        "fft_step_size_ratio = int(fft/step_size)\n",
        "log_ref = 5e-0\n",
        "X_train, X_test = create_specs(dataset,fft=fft, time_long=time_long, step_size= step_size, log_ref= log_ref)"
      ]
    },
    {
      "cell_type": "code",
      "execution_count": null,
      "metadata": {
        "colab": {
          "base_uri": "https://localhost:8080/"
        },
        "id": "xUFNuA7I--6Y",
        "outputId": "47c934fd-c6bc-4569-ab23-afa6b9f48893",
        "vscode": {
          "languageId": "python"
        }
      },
      "outputs": [
        {
          "name": "stdout",
          "output_type": "stream",
          "text": [
            "(115164, 129, 16)\n"
          ]
        }
      ],
      "source": [
        "print(X_train.shape)"
      ]
    },
    {
      "cell_type": "markdown",
      "metadata": {},
      "source": [
        "In this section below the autoencoder is trained and tests are conducted"
      ]
    },
    {
      "cell_type": "code",
      "execution_count": null,
      "metadata": {
        "colab": {
          "base_uri": "https://localhost:8080/"
        },
        "id": "4n2Yol7bte66",
        "outputId": "00ed1793-e5fd-4889-fa66-b2a8af5f4ee8",
        "vscode": {
          "languageId": "python"
        }
      },
      "outputs": [
        {
          "name": "stdout",
          "output_type": "stream",
          "text": [
            "55.0\n"
          ]
        },
        {
          "name": "stderr",
          "output_type": "stream",
          "text": [
            "WARNING:absl:`lr` is deprecated in Keras optimizer, please use `learning_rate` or use the legacy optimizer, e.g.,tf.keras.optimizers.legacy.Adam.\n"
          ]
        },
        {
          "name": "stdout",
          "output_type": "stream",
          "text": [
            "Epoch 1/100\n",
            "295/295 [==============================] - 9s 27ms/step - loss: 0.0115 - val_loss: 0.0152\n",
            "Epoch 2/100\n",
            "295/295 [==============================] - 7s 23ms/step - loss: 0.0049 - val_loss: 0.0099\n",
            "Epoch 3/100\n",
            "295/295 [==============================] - 8s 26ms/step - loss: 0.0046 - val_loss: 0.0062\n",
            "Epoch 4/100\n",
            "295/295 [==============================] - 7s 24ms/step - loss: 0.0043 - val_loss: 0.0055\n",
            "Epoch 5/100\n",
            "295/295 [==============================] - 7s 25ms/step - loss: 0.0042 - val_loss: 0.0061\n",
            "Epoch 6/100\n",
            "295/295 [==============================] - 8s 26ms/step - loss: 0.0040 - val_loss: 0.0052\n",
            "Epoch 7/100\n",
            "295/295 [==============================] - 7s 23ms/step - loss: 0.0040 - val_loss: 0.0047\n",
            "Epoch 8/100\n",
            "295/295 [==============================] - 8s 26ms/step - loss: 0.0039 - val_loss: 0.0072\n",
            "Epoch 9/100\n",
            "295/295 [==============================] - 7s 23ms/step - loss: 0.0039 - val_loss: 0.0072\n",
            "Epoch 10/100\n",
            "295/295 [==============================] - 8s 27ms/step - loss: 0.0038 - val_loss: 0.0047\n",
            "Epoch 11/100\n",
            "295/295 [==============================] - 7s 25ms/step - loss: 0.0038 - val_loss: 0.0071\n",
            "Epoch 12/100\n",
            "295/295 [==============================] - 7s 25ms/step - loss: 0.0037 - val_loss: 0.0046\n",
            "Epoch 13/100\n",
            "295/295 [==============================] - 8s 27ms/step - loss: 0.0036 - val_loss: 0.0053\n",
            "Epoch 14/100\n",
            "295/295 [==============================] - 7s 23ms/step - loss: 0.0037 - val_loss: 0.0057\n",
            "Epoch 15/100\n",
            "295/295 [==============================] - 8s 27ms/step - loss: 0.0036 - val_loss: 0.0055\n",
            "Epoch 16/100\n",
            "295/295 [==============================] - 7s 23ms/step - loss: 0.0035 - val_loss: 0.0043\n",
            "Epoch 17/100\n",
            "295/295 [==============================] - 8s 26ms/step - loss: 0.0035 - val_loss: 0.0045\n",
            "Epoch 18/100\n",
            "295/295 [==============================] - 8s 26ms/step - loss: 0.0035 - val_loss: 0.0046\n",
            "Epoch 19/100\n",
            "295/295 [==============================] - 7s 23ms/step - loss: 0.0034 - val_loss: 0.0041\n",
            "Epoch 20/100\n",
            "295/295 [==============================] - 8s 26ms/step - loss: 0.0034 - val_loss: 0.0039\n",
            "Epoch 21/100\n",
            "295/295 [==============================] - 7s 23ms/step - loss: 0.0034 - val_loss: 0.0063\n",
            "Epoch 22/100\n",
            "295/295 [==============================] - 8s 26ms/step - loss: 0.0033 - val_loss: 0.0034\n",
            "Epoch 23/100\n",
            "295/295 [==============================] - 7s 23ms/step - loss: 0.0034 - val_loss: 0.0037\n",
            "Epoch 24/100\n",
            "295/295 [==============================] - 8s 26ms/step - loss: 0.0033 - val_loss: 0.0041\n",
            "Epoch 25/100\n",
            "295/295 [==============================] - 8s 26ms/step - loss: 0.0033 - val_loss: 0.0050\n",
            "Epoch 26/100\n",
            "295/295 [==============================] - 7s 23ms/step - loss: 0.0033 - val_loss: 0.0041\n",
            "Epoch 27/100\n",
            "295/295 [==============================] - 8s 26ms/step - loss: 0.0033 - val_loss: 0.0038\n",
            "Epoch 28/100\n",
            "295/295 [==============================] - 7s 23ms/step - loss: 0.0033 - val_loss: 0.0042\n",
            "Epoch 29/100\n",
            "295/295 [==============================] - 8s 26ms/step - loss: 0.0032 - val_loss: 0.0036\n",
            "Epoch 30/100\n",
            "295/295 [==============================] - 7s 23ms/step - loss: 0.0031 - val_loss: 0.0036\n",
            "Epoch 31/100\n",
            "295/295 [==============================] - 8s 26ms/step - loss: 0.0031 - val_loss: 0.0040\n",
            "Epoch 32/100\n",
            "295/295 [==============================] - 7s 25ms/step - loss: 0.0031 - val_loss: 0.0044\n",
            "Epoch 33/100\n",
            "295/295 [==============================] - 7s 24ms/step - loss: 0.0032 - val_loss: 0.0036\n",
            "Epoch 34/100\n",
            "295/295 [==============================] - 8s 26ms/step - loss: 0.0031 - val_loss: 0.0045\n",
            "Epoch 35/100\n",
            "295/295 [==============================] - 7s 23ms/step - loss: 0.0031 - val_loss: 0.0036\n",
            "Epoch 36/100\n",
            "295/295 [==============================] - 8s 26ms/step - loss: 0.0031 - val_loss: 0.0030\n",
            "Epoch 37/100\n",
            "295/295 [==============================] - 7s 23ms/step - loss: 0.0031 - val_loss: 0.0036\n",
            "Epoch 38/100\n",
            "295/295 [==============================] - 8s 26ms/step - loss: 0.0030 - val_loss: 0.0030\n",
            "Epoch 39/100\n",
            "295/295 [==============================] - 8s 25ms/step - loss: 0.0031 - val_loss: 0.0037\n",
            "Epoch 40/100\n",
            "295/295 [==============================] - 7s 24ms/step - loss: 0.0031 - val_loss: 0.0037\n",
            "Epoch 41/100\n",
            "295/295 [==============================] - 8s 26ms/step - loss: 0.0030 - val_loss: 0.0037\n",
            "Epoch 42/100\n",
            "295/295 [==============================] - 7s 23ms/step - loss: 0.0030 - val_loss: 0.0040\n",
            "Epoch 43/100\n",
            "295/295 [==============================] - 8s 26ms/step - loss: 0.0031 - val_loss: 0.0035\n",
            "Epoch 44/100\n",
            "295/295 [==============================] - 7s 23ms/step - loss: 0.0030 - val_loss: 0.0052\n",
            "Epoch 45/100\n",
            "295/295 [==============================] - 8s 26ms/step - loss: 0.0030 - val_loss: 0.0034\n",
            "Epoch 46/100\n",
            "295/295 [==============================] - 7s 24ms/step - loss: 0.0030 - val_loss: 0.0033\n",
            "Epoch 47/100\n",
            "295/295 [==============================] - 7s 25ms/step - loss: 0.0030 - val_loss: 0.0035\n",
            "Epoch 48/100\n",
            "295/295 [==============================] - 8s 26ms/step - loss: 0.0031 - val_loss: 0.0034\n",
            "Epoch 49/100\n",
            "295/295 [==============================] - 7s 23ms/step - loss: 0.0031 - val_loss: 0.0041\n",
            "Epoch 50/100\n",
            "295/295 [==============================] - 8s 26ms/step - loss: 0.0030 - val_loss: 0.0040\n",
            "Epoch 51/100\n",
            "295/295 [==============================] - 7s 23ms/step - loss: 0.0030 - val_loss: 0.0043\n",
            "Epoch 52/100\n",
            "295/295 [==============================] - 8s 26ms/step - loss: 0.0029 - val_loss: 0.0032\n",
            "Epoch 53/100\n",
            "295/295 [==============================] - 7s 23ms/step - loss: 0.0029 - val_loss: 0.0034\n",
            "Epoch 54/100\n",
            "295/295 [==============================] - 8s 25ms/step - loss: 0.0030 - val_loss: 0.0036\n",
            "Epoch 55/100\n",
            "295/295 [==============================] - 8s 26ms/step - loss: 0.0030 - val_loss: 0.0030\n",
            "Epoch 56/100\n",
            "295/295 [==============================] - 7s 23ms/step - loss: 0.0030 - val_loss: 0.0039\n",
            "Epoch 57/100\n",
            "295/295 [==============================] - 8s 26ms/step - loss: 0.0030 - val_loss: 0.0043\n",
            "Epoch 58/100\n",
            "295/295 [==============================] - 7s 24ms/step - loss: 0.0029 - val_loss: 0.0030\n",
            "Epoch 59/100\n",
            "295/295 [==============================] - 8s 26ms/step - loss: 0.0029 - val_loss: 0.0031\n",
            "Epoch 60/100\n",
            "295/295 [==============================] - 7s 24ms/step - loss: 0.0029 - val_loss: 0.0036\n",
            "Epoch 61/100\n",
            "295/295 [==============================] - 8s 25ms/step - loss: 0.0029 - val_loss: 0.0031\n",
            "Epoch 62/100\n",
            "295/295 [==============================] - 8s 26ms/step - loss: 0.0029 - val_loss: 0.0030\n",
            "Epoch 63/100\n",
            "295/295 [==============================] - 7s 23ms/step - loss: 0.0029 - val_loss: 0.0030\n",
            "Epoch 64/100\n",
            "295/295 [==============================] - 8s 27ms/step - loss: 0.0028 - val_loss: 0.0031\n",
            "Epoch 65/100\n",
            "295/295 [==============================] - 7s 23ms/step - loss: 0.0030 - val_loss: 0.0034\n",
            "Epoch 66/100\n",
            "295/295 [==============================] - 8s 26ms/step - loss: 0.0029 - val_loss: 0.0036\n",
            "Epoch 67/100\n",
            "295/295 [==============================] - 7s 24ms/step - loss: 0.0029 - val_loss: 0.0035\n",
            "Epoch 68/100\n",
            "295/295 [==============================] - 7s 25ms/step - loss: 0.0029 - val_loss: 0.0031\n",
            "Epoch 69/100\n",
            "295/295 [==============================] - 8s 26ms/step - loss: 0.0029 - val_loss: 0.0031\n",
            "Epoch 70/100\n",
            "295/295 [==============================] - 7s 23ms/step - loss: 0.0029 - val_loss: 0.0031\n",
            "Epoch 71/100\n",
            "295/295 [==============================] - 8s 26ms/step - loss: 0.0028 - val_loss: 0.0035\n",
            "Epoch 72/100\n",
            "295/295 [==============================] - 7s 23ms/step - loss: 0.0029 - val_loss: 0.0031\n",
            "Epoch 73/100\n",
            "295/295 [==============================] - 8s 26ms/step - loss: 0.0029 - val_loss: 0.0034\n",
            "Epoch 74/100\n",
            "295/295 [==============================] - 7s 24ms/step - loss: 0.0028 - val_loss: 0.0031\n",
            "Epoch 75/100\n",
            "295/295 [==============================] - 7s 25ms/step - loss: 0.0029 - val_loss: 0.0034\n",
            "Epoch 76/100\n",
            "295/295 [==============================] - 8s 26ms/step - loss: 0.0028 - val_loss: 0.0035\n",
            "Epoch 77/100\n",
            "295/295 [==============================] - 7s 23ms/step - loss: 0.0029 - val_loss: 0.0030\n",
            "Epoch 78/100\n",
            "295/295 [==============================] - 8s 26ms/step - loss: 0.0029 - val_loss: 0.0035\n",
            "Epoch 79/100\n",
            "295/295 [==============================] - 7s 23ms/step - loss: 0.0029 - val_loss: 0.0032\n",
            "Epoch 80/100\n",
            "295/295 [==============================] - 8s 26ms/step - loss: 0.0028 - val_loss: 0.0035\n",
            "Epoch 81/100\n",
            "295/295 [==============================] - 7s 24ms/step - loss: 0.0029 - val_loss: 0.0037\n",
            "Epoch 82/100\n",
            "295/295 [==============================] - 7s 25ms/step - loss: 0.0029 - val_loss: 0.0037\n",
            "Epoch 83/100\n",
            "295/295 [==============================] - 8s 26ms/step - loss: 0.0029 - val_loss: 0.0029\n",
            "Epoch 84/100\n",
            "295/295 [==============================] - 7s 24ms/step - loss: 0.0028 - val_loss: 0.0030\n",
            "Epoch 85/100\n",
            "295/295 [==============================] - 8s 26ms/step - loss: 0.0029 - val_loss: 0.0029\n",
            "Epoch 86/100\n",
            "295/295 [==============================] - 7s 23ms/step - loss: 0.0028 - val_loss: 0.0035\n",
            "Epoch 87/100\n",
            "295/295 [==============================] - 8s 26ms/step - loss: 0.0028 - val_loss: 0.0031\n",
            "Epoch 88/100\n",
            "295/295 [==============================] - 7s 25ms/step - loss: 0.0028 - val_loss: 0.0034\n",
            "Epoch 89/100\n",
            "295/295 [==============================] - 7s 25ms/step - loss: 0.0028 - val_loss: 0.0029\n",
            "Epoch 90/100\n",
            "295/295 [==============================] - 8s 26ms/step - loss: 0.0028 - val_loss: 0.0031\n",
            "Epoch 91/100\n",
            "295/295 [==============================] - 7s 23ms/step - loss: 0.0028 - val_loss: 0.0031\n",
            "Epoch 92/100\n",
            "295/295 [==============================] - 8s 27ms/step - loss: 0.0028 - val_loss: 0.0030\n",
            "Epoch 93/100\n",
            "295/295 [==============================] - 7s 23ms/step - loss: 0.0028 - val_loss: 0.0040\n",
            "Epoch 94/100\n",
            "295/295 [==============================] - 8s 27ms/step - loss: 0.0029 - val_loss: 0.0028\n",
            "Epoch 95/100\n",
            "295/295 [==============================] - 7s 25ms/step - loss: 0.0028 - val_loss: 0.0032\n",
            "Epoch 96/100\n",
            "295/295 [==============================] - 7s 24ms/step - loss: 0.0028 - val_loss: 0.0033\n",
            "Epoch 97/100\n",
            "295/295 [==============================] - 8s 27ms/step - loss: 0.0028 - val_loss: 0.0030\n",
            "Epoch 98/100\n",
            "295/295 [==============================] - 7s 23ms/step - loss: 0.0028 - val_loss: 0.0032\n",
            "Epoch 99/100\n",
            "295/295 [==============================] - 8s 27ms/step - loss: 0.0028 - val_loss: 0.0031\n",
            "Epoch 100/100\n",
            "295/295 [==============================] - 7s 23ms/step - loss: 0.0028 - val_loss: 0.0033\n",
            "743.6711220741272\n",
            "Saved autoencoder model  to disk\n",
            "1/1 [==============================] - 0s 128ms/step\n"
          ]
        },
        {
          "name": "stderr",
          "output_type": "stream",
          "text": [
            "100%|██████████| 200/200 [00:00<00:00, 951.05it/s, SC=-16.7, loss=2.45e+6]\n"
          ]
        },
        {
          "name": "stdout",
          "output_type": "stream",
          "text": [
            "1/1 [==============================] - 0s 38ms/step\n"
          ]
        },
        {
          "name": "stderr",
          "output_type": "stream",
          "text": [
            "100%|██████████| 200/200 [00:00<00:00, 1042.48it/s, SC=-18.3, loss=3.04e+6]\n"
          ]
        },
        {
          "name": "stdout",
          "output_type": "stream",
          "text": [
            "1/1 [==============================] - 0s 22ms/step\n"
          ]
        },
        {
          "name": "stderr",
          "output_type": "stream",
          "text": [
            "100%|██████████| 200/200 [00:00<00:00, 1066.30it/s, SC=-18.2, loss=2.59e+5]\n"
          ]
        },
        {
          "name": "stdout",
          "output_type": "stream",
          "text": [
            "1/1 [==============================] - 0s 22ms/step\n"
          ]
        },
        {
          "name": "stderr",
          "output_type": "stream",
          "text": [
            "100%|██████████| 200/200 [00:00<00:00, 1284.93it/s, SC=-18.8, loss=3.2e+6]\n"
          ]
        },
        {
          "name": "stdout",
          "output_type": "stream",
          "text": [
            "1/1 [==============================] - 0s 22ms/step\n"
          ]
        },
        {
          "name": "stderr",
          "output_type": "stream",
          "text": [
            "100%|██████████| 200/200 [00:00<00:00, 1214.41it/s, SC=-19.7, loss=7.83e+6]\n"
          ]
        },
        {
          "name": "stdout",
          "output_type": "stream",
          "text": [
            "1/1 [==============================] - 0s 23ms/step\n"
          ]
        },
        {
          "name": "stderr",
          "output_type": "stream",
          "text": [
            "100%|██████████| 200/200 [00:00<00:00, 833.73it/s, SC=-16.4, loss=6.91e+6]\n"
          ]
        },
        {
          "name": "stdout",
          "output_type": "stream",
          "text": [
            "1/1 [==============================] - 0s 22ms/step\n"
          ]
        },
        {
          "name": "stderr",
          "output_type": "stream",
          "text": [
            "100%|██████████| 200/200 [00:00<00:00, 1248.36it/s, SC=-17.3, loss=9.53e+5]\n"
          ]
        },
        {
          "name": "stdout",
          "output_type": "stream",
          "text": [
            "1/1 [==============================] - 0s 24ms/step\n"
          ]
        },
        {
          "name": "stderr",
          "output_type": "stream",
          "text": [
            "100%|██████████| 200/200 [00:00<00:00, 1212.67it/s, SC=-18.1, loss=7.94e+5]\n"
          ]
        },
        {
          "name": "stdout",
          "output_type": "stream",
          "text": [
            "1/1 [==============================] - 0s 22ms/step\n"
          ]
        },
        {
          "name": "stderr",
          "output_type": "stream",
          "text": [
            "100%|██████████| 200/200 [00:00<00:00, 1118.76it/s, SC=-15.4, loss=3.49e+5]\n"
          ]
        },
        {
          "name": "stdout",
          "output_type": "stream",
          "text": [
            "1/1 [==============================] - 0s 24ms/step\n"
          ]
        },
        {
          "name": "stderr",
          "output_type": "stream",
          "text": [
            "100%|██████████| 200/200 [00:00<00:00, 948.77it/s, SC=-18.5, loss=2.97e+6]\n"
          ]
        },
        {
          "name": "stdout",
          "output_type": "stream",
          "text": [
            "1/1 [==============================] - 0s 22ms/step\n"
          ]
        },
        {
          "name": "stderr",
          "output_type": "stream",
          "text": [
            "100%|██████████| 200/200 [00:00<00:00, 682.03it/s, SC=-16.1, loss=4.55e+5]\n"
          ]
        },
        {
          "name": "stdout",
          "output_type": "stream",
          "text": [
            "1/1 [==============================] - 0s 34ms/step\n"
          ]
        },
        {
          "name": "stderr",
          "output_type": "stream",
          "text": [
            "100%|██████████| 200/200 [00:00<00:00, 571.48it/s, SC=-14.5, loss=5.52e+5]\n"
          ]
        },
        {
          "name": "stdout",
          "output_type": "stream",
          "text": [
            "1/1 [==============================] - 0s 31ms/step\n"
          ]
        },
        {
          "name": "stderr",
          "output_type": "stream",
          "text": [
            "100%|██████████| 200/200 [00:00<00:00, 737.87it/s, SC=-17.1, loss=7.64e+6]\n"
          ]
        },
        {
          "name": "stdout",
          "output_type": "stream",
          "text": [
            "1/1 [==============================] - 0s 30ms/step\n"
          ]
        },
        {
          "name": "stderr",
          "output_type": "stream",
          "text": [
            "100%|██████████| 200/200 [00:00<00:00, 880.38it/s, SC=-15, loss=1.62e+6]\n"
          ]
        },
        {
          "name": "stdout",
          "output_type": "stream",
          "text": [
            "1/1 [==============================] - 0s 48ms/step\n"
          ]
        },
        {
          "name": "stderr",
          "output_type": "stream",
          "text": [
            "100%|██████████| 200/200 [00:00<00:00, 880.67it/s, SC=-17.9, loss=1.39e+7]\n"
          ]
        },
        {
          "name": "stdout",
          "output_type": "stream",
          "text": [
            "1/1 [==============================] - 0s 34ms/step\n"
          ]
        },
        {
          "name": "stderr",
          "output_type": "stream",
          "text": [
            "100%|██████████| 200/200 [00:00<00:00, 767.79it/s, SC=-15.8, loss=2.5e+7]\n"
          ]
        },
        {
          "name": "stdout",
          "output_type": "stream",
          "text": [
            "1/1 [==============================] - 0s 45ms/step\n"
          ]
        },
        {
          "name": "stderr",
          "output_type": "stream",
          "text": [
            "100%|██████████| 200/200 [00:00<00:00, 1105.15it/s, SC=-17.1, loss=5.1e+5]\n"
          ]
        },
        {
          "name": "stdout",
          "output_type": "stream",
          "text": [
            "1/1 [==============================] - 0s 41ms/step\n"
          ]
        },
        {
          "name": "stderr",
          "output_type": "stream",
          "text": [
            "100%|██████████| 200/200 [00:00<00:00, 833.92it/s, SC=-16.5, loss=8.62e+4]\n"
          ]
        },
        {
          "name": "stdout",
          "output_type": "stream",
          "text": [
            "1/1 [==============================] - 0s 22ms/step\n"
          ]
        },
        {
          "name": "stderr",
          "output_type": "stream",
          "text": [
            "100%|██████████| 200/200 [00:00<00:00, 1110.75it/s, SC=-18.3, loss=1.03e+7]\n"
          ]
        },
        {
          "name": "stdout",
          "output_type": "stream",
          "text": [
            "1/1 [==============================] - 0s 22ms/step\n"
          ]
        },
        {
          "name": "stderr",
          "output_type": "stream",
          "text": [
            "100%|██████████| 200/200 [00:00<00:00, 1254.56it/s, SC=-17.9, loss=7.64e+6]\n"
          ]
        },
        {
          "name": "stdout",
          "output_type": "stream",
          "text": [
            "1/1 [==============================] - 0s 23ms/step\n"
          ]
        },
        {
          "name": "stderr",
          "output_type": "stream",
          "text": [
            "100%|██████████| 200/200 [00:00<00:00, 1004.29it/s, SC=-16.4, loss=7.73e+4]\n"
          ]
        },
        {
          "name": "stdout",
          "output_type": "stream",
          "text": [
            "1/1 [==============================] - 0s 23ms/step\n"
          ]
        },
        {
          "name": "stderr",
          "output_type": "stream",
          "text": [
            "100%|██████████| 200/200 [00:00<00:00, 833.86it/s, SC=-16.9, loss=7.33e+6]\n"
          ]
        },
        {
          "name": "stdout",
          "output_type": "stream",
          "text": [
            "1/1 [==============================] - 0s 22ms/step\n"
          ]
        },
        {
          "name": "stderr",
          "output_type": "stream",
          "text": [
            "100%|██████████| 200/200 [00:00<00:00, 1252.91it/s, SC=-16.4, loss=7.84e+5]\n"
          ]
        },
        {
          "name": "stdout",
          "output_type": "stream",
          "text": [
            "1/1 [==============================] - 0s 22ms/step\n"
          ]
        },
        {
          "name": "stderr",
          "output_type": "stream",
          "text": [
            "100%|██████████| 200/200 [00:00<00:00, 1252.93it/s, SC=-19.3, loss=1.21e+7]\n"
          ]
        },
        {
          "name": "stdout",
          "output_type": "stream",
          "text": [
            "1/1 [==============================] - 0s 22ms/step\n"
          ]
        },
        {
          "name": "stderr",
          "output_type": "stream",
          "text": [
            "100%|██████████| 200/200 [00:00<00:00, 939.73it/s, SC=-18.2, loss=4.45e+6]\n"
          ]
        },
        {
          "name": "stdout",
          "output_type": "stream",
          "text": [
            "1/1 [==============================] - 0s 22ms/step\n"
          ]
        },
        {
          "name": "stderr",
          "output_type": "stream",
          "text": [
            "100%|██████████| 200/200 [00:00<00:00, 1114.58it/s, SC=-14.2, loss=4.3e+7]\n"
          ]
        },
        {
          "name": "stdout",
          "output_type": "stream",
          "text": [
            "1/1 [==============================] - 0s 22ms/step\n"
          ]
        },
        {
          "name": "stderr",
          "output_type": "stream",
          "text": [
            "100%|██████████| 200/200 [00:00<00:00, 930.27it/s, SC=-19.5, loss=5.69e+6]\n"
          ]
        },
        {
          "name": "stdout",
          "output_type": "stream",
          "text": [
            "1/1 [==============================] - 0s 22ms/step\n"
          ]
        },
        {
          "name": "stderr",
          "output_type": "stream",
          "text": [
            "100%|██████████| 200/200 [00:00<00:00, 1003.71it/s, SC=-15.4, loss=7.04e+6]\n"
          ]
        },
        {
          "name": "stdout",
          "output_type": "stream",
          "text": [
            "1/1 [==============================] - 0s 21ms/step\n"
          ]
        },
        {
          "name": "stderr",
          "output_type": "stream",
          "text": [
            "100%|██████████| 200/200 [00:00<00:00, 1450.13it/s, SC=-19.4, loss=4.2e+6]\n"
          ]
        },
        {
          "name": "stdout",
          "output_type": "stream",
          "text": [
            "1/1 [==============================] - 0s 26ms/step\n"
          ]
        },
        {
          "name": "stderr",
          "output_type": "stream",
          "text": [
            "100%|██████████| 200/200 [00:00<00:00, 1059.29it/s, SC=-18.6, loss=3.47e+6]\n"
          ]
        },
        {
          "name": "stdout",
          "output_type": "stream",
          "text": [
            "1/1 [==============================] - 0s 23ms/step\n"
          ]
        },
        {
          "name": "stderr",
          "output_type": "stream",
          "text": [
            "100%|██████████| 200/200 [00:00<00:00, 1251.77it/s, SC=-16.2, loss=3.49e+7]\n"
          ]
        },
        {
          "name": "stdout",
          "output_type": "stream",
          "text": [
            "1/1 [==============================] - 0s 22ms/step\n"
          ]
        },
        {
          "name": "stderr",
          "output_type": "stream",
          "text": [
            "100%|██████████| 200/200 [00:00<00:00, 1113.64it/s, SC=-15.4, loss=1.13e+7]\n"
          ]
        },
        {
          "name": "stdout",
          "output_type": "stream",
          "text": [
            "1/1 [==============================] - 0s 21ms/step\n"
          ]
        },
        {
          "name": "stderr",
          "output_type": "stream",
          "text": [
            "100%|██████████| 200/200 [00:00<00:00, 1519.27it/s, SC=-15.4, loss=6.74e+5]\n"
          ]
        },
        {
          "name": "stdout",
          "output_type": "stream",
          "text": [
            "1/1 [==============================] - 0s 23ms/step\n"
          ]
        },
        {
          "name": "stderr",
          "output_type": "stream",
          "text": [
            "100%|██████████| 200/200 [00:00<00:00, 1039.51it/s, SC=-18, loss=3.72e+6]\n"
          ]
        },
        {
          "name": "stdout",
          "output_type": "stream",
          "text": [
            "1/1 [==============================] - 0s 23ms/step\n"
          ]
        },
        {
          "name": "stderr",
          "output_type": "stream",
          "text": [
            "100%|██████████| 200/200 [00:00<00:00, 1206.68it/s, SC=-16.2, loss=2.88e+6]\n"
          ]
        },
        {
          "name": "stdout",
          "output_type": "stream",
          "text": [
            "1/1 [==============================] - 0s 22ms/step\n"
          ]
        },
        {
          "name": "stderr",
          "output_type": "stream",
          "text": [
            "100%|██████████| 200/200 [00:00<00:00, 907.93it/s, SC=-16.4, loss=1.67e+7]\n"
          ]
        },
        {
          "name": "stdout",
          "output_type": "stream",
          "text": [
            "1/1 [==============================] - 0s 22ms/step\n"
          ]
        },
        {
          "name": "stderr",
          "output_type": "stream",
          "text": [
            "100%|██████████| 200/200 [00:00<00:00, 1114.59it/s, SC=-19.1, loss=2.39e+6]\n"
          ]
        },
        {
          "name": "stdout",
          "output_type": "stream",
          "text": [
            "1/1 [==============================] - 0s 23ms/step\n"
          ]
        },
        {
          "name": "stderr",
          "output_type": "stream",
          "text": [
            "100%|██████████| 200/200 [00:00<00:00, 1008.87it/s, SC=-18.5, loss=5.35e+6]\n"
          ]
        },
        {
          "name": "stdout",
          "output_type": "stream",
          "text": [
            "1/1 [==============================] - 0s 23ms/step\n"
          ]
        },
        {
          "name": "stderr",
          "output_type": "stream",
          "text": [
            "100%|██████████| 200/200 [00:00<00:00, 1081.43it/s, SC=-12.8, loss=6.33e+7]\n"
          ]
        },
        {
          "name": "stdout",
          "output_type": "stream",
          "text": [
            "1/1 [==============================] - 0s 22ms/step\n"
          ]
        },
        {
          "name": "stderr",
          "output_type": "stream",
          "text": [
            "100%|██████████| 200/200 [00:00<00:00, 996.18it/s, SC=-17, loss=4.04e+6]\n"
          ]
        },
        {
          "name": "stdout",
          "output_type": "stream",
          "text": [
            "1/1 [==============================] - 0s 21ms/step\n"
          ]
        },
        {
          "name": "stderr",
          "output_type": "stream",
          "text": [
            "100%|██████████| 200/200 [00:00<00:00, 1496.59it/s, SC=-17.3, loss=8.89e+6]\n"
          ]
        },
        {
          "name": "stdout",
          "output_type": "stream",
          "text": [
            "1/1 [==============================] - 0s 23ms/step\n"
          ]
        },
        {
          "name": "stderr",
          "output_type": "stream",
          "text": [
            "100%|██████████| 200/200 [00:00<00:00, 1243.54it/s, SC=-16.7, loss=1.68e+7]\n"
          ]
        },
        {
          "name": "stdout",
          "output_type": "stream",
          "text": [
            "1/1 [==============================] - 0s 22ms/step\n"
          ]
        },
        {
          "name": "stderr",
          "output_type": "stream",
          "text": [
            "100%|██████████| 200/200 [00:00<00:00, 1190.63it/s, SC=-16.8, loss=7.74e+5]\n"
          ]
        },
        {
          "name": "stdout",
          "output_type": "stream",
          "text": [
            "1/1 [==============================] - 0s 22ms/step\n"
          ]
        },
        {
          "name": "stderr",
          "output_type": "stream",
          "text": [
            "100%|██████████| 200/200 [00:00<00:00, 994.92it/s, SC=-20, loss=5.7e+6]\n"
          ]
        },
        {
          "name": "stdout",
          "output_type": "stream",
          "text": [
            "1/1 [==============================] - 0s 23ms/step\n"
          ]
        },
        {
          "name": "stderr",
          "output_type": "stream",
          "text": [
            "100%|██████████| 200/200 [00:00<00:00, 1067.07it/s, SC=-15.3, loss=1.66e+5]\n"
          ]
        },
        {
          "name": "stdout",
          "output_type": "stream",
          "text": [
            "1/1 [==============================] - 0s 24ms/step\n"
          ]
        },
        {
          "name": "stderr",
          "output_type": "stream",
          "text": [
            "100%|██████████| 200/200 [00:00<00:00, 1206.18it/s, SC=-14.9, loss=1.88e+6]\n"
          ]
        },
        {
          "name": "stdout",
          "output_type": "stream",
          "text": [
            "1/1 [==============================] - 0s 23ms/step\n"
          ]
        },
        {
          "name": "stderr",
          "output_type": "stream",
          "text": [
            "100%|██████████| 200/200 [00:00<00:00, 919.80it/s, SC=-14.9, loss=7.14e+7]\n"
          ]
        },
        {
          "name": "stdout",
          "output_type": "stream",
          "text": [
            "1/1 [==============================] - 0s 23ms/step\n"
          ]
        },
        {
          "name": "stderr",
          "output_type": "stream",
          "text": [
            "100%|██████████| 200/200 [00:00<00:00, 941.43it/s, SC=-18.8, loss=6.17e+6]\n"
          ]
        },
        {
          "name": "stdout",
          "output_type": "stream",
          "text": [
            "1/1 [==============================] - 0s 23ms/step\n"
          ]
        },
        {
          "name": "stderr",
          "output_type": "stream",
          "text": [
            "100%|██████████| 200/200 [00:00<00:00, 1050.50it/s, SC=-15.8, loss=3.52e+5]\n"
          ]
        },
        {
          "name": "stdout",
          "output_type": "stream",
          "text": [
            "1/1 [==============================] - 0s 23ms/step\n"
          ]
        },
        {
          "name": "stderr",
          "output_type": "stream",
          "text": [
            "100%|██████████| 200/200 [00:00<00:00, 1043.99it/s, SC=-18.5, loss=4.85e+6]\n"
          ]
        },
        {
          "name": "stdout",
          "output_type": "stream",
          "text": [
            "1/1 [==============================] - 0s 25ms/step\n"
          ]
        },
        {
          "name": "stderr",
          "output_type": "stream",
          "text": [
            "100%|██████████| 200/200 [00:00<00:00, 1154.30it/s, SC=-16.9, loss=3.98e+6]\n"
          ]
        },
        {
          "name": "stdout",
          "output_type": "stream",
          "text": [
            "1/1 [==============================] - 0s 25ms/step\n"
          ]
        },
        {
          "name": "stderr",
          "output_type": "stream",
          "text": [
            "100%|██████████| 200/200 [00:00<00:00, 1045.58it/s, SC=-18.2, loss=1.24e+7]\n"
          ]
        },
        {
          "name": "stdout",
          "output_type": "stream",
          "text": [
            "1/1 [==============================] - 0s 22ms/step\n"
          ]
        },
        {
          "name": "stderr",
          "output_type": "stream",
          "text": [
            "100%|██████████| 200/200 [00:00<00:00, 814.79it/s, SC=-16.5, loss=8.21e+5]\n"
          ]
        },
        {
          "name": "stdout",
          "output_type": "stream",
          "text": [
            "1/1 [==============================] - 0s 37ms/step\n"
          ]
        },
        {
          "name": "stderr",
          "output_type": "stream",
          "text": [
            "100%|██████████| 200/200 [00:00<00:00, 786.21it/s, SC=-16.6, loss=9.02e+6]\n"
          ]
        },
        {
          "name": "stdout",
          "output_type": "stream",
          "text": [
            "1/1 [==============================] - 0s 35ms/step\n"
          ]
        },
        {
          "name": "stderr",
          "output_type": "stream",
          "text": [
            "100%|██████████| 200/200 [00:00<00:00, 978.14it/s, SC=-14.4, loss=9.88e+6] \n"
          ]
        },
        {
          "name": "stdout",
          "output_type": "stream",
          "text": [
            "1/1 [==============================] - 0s 33ms/step\n"
          ]
        },
        {
          "name": "stderr",
          "output_type": "stream",
          "text": [
            "100%|██████████| 200/200 [00:00<00:00, 982.59it/s, SC=-16.4, loss=1.22e+6]\n"
          ]
        },
        {
          "name": "stdout",
          "output_type": "stream",
          "text": [
            "1/1 [==============================] - 0s 30ms/step\n"
          ]
        },
        {
          "name": "stderr",
          "output_type": "stream",
          "text": [
            "100%|██████████| 200/200 [00:00<00:00, 984.93it/s, SC=-15.6, loss=1.58e+5]\n"
          ]
        },
        {
          "name": "stdout",
          "output_type": "stream",
          "text": [
            "1/1 [==============================] - 0s 31ms/step\n"
          ]
        },
        {
          "name": "stderr",
          "output_type": "stream",
          "text": [
            "100%|██████████| 200/200 [00:00<00:00, 737.05it/s, SC=-17, loss=1.34e+7]\n"
          ]
        },
        {
          "name": "stdout",
          "output_type": "stream",
          "text": [
            "1/1 [==============================] - 0s 30ms/step\n"
          ]
        },
        {
          "name": "stderr",
          "output_type": "stream",
          "text": [
            "100%|██████████| 200/200 [00:00<00:00, 1084.58it/s, SC=-16.6, loss=1.15e+6]\n"
          ]
        },
        {
          "name": "stdout",
          "output_type": "stream",
          "text": [
            "1/1 [==============================] - 0s 42ms/step\n"
          ]
        },
        {
          "name": "stderr",
          "output_type": "stream",
          "text": [
            "100%|██████████| 200/200 [00:00<00:00, 734.79it/s, SC=-18.5, loss=1.02e+7]\n"
          ]
        },
        {
          "name": "stdout",
          "output_type": "stream",
          "text": [
            "1/1 [==============================] - 0s 36ms/step\n"
          ]
        },
        {
          "name": "stderr",
          "output_type": "stream",
          "text": [
            "100%|██████████| 200/200 [00:00<00:00, 510.08it/s, SC=-17.5, loss=2.54e+6]\n"
          ]
        },
        {
          "name": "stdout",
          "output_type": "stream",
          "text": [
            "1/1 [==============================] - 0s 24ms/step\n"
          ]
        },
        {
          "name": "stderr",
          "output_type": "stream",
          "text": [
            "100%|██████████| 200/200 [00:00<00:00, 1036.49it/s, SC=-18.9, loss=4.3e+6]\n"
          ]
        },
        {
          "name": "stdout",
          "output_type": "stream",
          "text": [
            "1/1 [==============================] - 0s 22ms/step\n"
          ]
        },
        {
          "name": "stderr",
          "output_type": "stream",
          "text": [
            "100%|██████████| 200/200 [00:00<00:00, 1084.02it/s, SC=-16.7, loss=7.66e+4]\n"
          ]
        },
        {
          "name": "stdout",
          "output_type": "stream",
          "text": [
            "1/1 [==============================] - 0s 22ms/step\n"
          ]
        },
        {
          "name": "stderr",
          "output_type": "stream",
          "text": [
            "100%|██████████| 200/200 [00:00<00:00, 1120.39it/s, SC=-16.8, loss=1.27e+7]\n"
          ]
        },
        {
          "name": "stdout",
          "output_type": "stream",
          "text": [
            "1/1 [==============================] - 0s 24ms/step\n"
          ]
        },
        {
          "name": "stderr",
          "output_type": "stream",
          "text": [
            "100%|██████████| 200/200 [00:00<00:00, 1149.55it/s, SC=-18, loss=4.34e+5]\n"
          ]
        },
        {
          "name": "stdout",
          "output_type": "stream",
          "text": [
            "1/1 [==============================] - 0s 22ms/step\n"
          ]
        },
        {
          "name": "stderr",
          "output_type": "stream",
          "text": [
            "100%|██████████| 200/200 [00:00<00:00, 1007.12it/s, SC=-19.3, loss=1.1e+7]\n"
          ]
        },
        {
          "name": "stdout",
          "output_type": "stream",
          "text": [
            "1/1 [==============================] - 0s 34ms/step\n"
          ]
        },
        {
          "name": "stderr",
          "output_type": "stream",
          "text": [
            "100%|██████████| 200/200 [00:00<00:00, 1034.31it/s, SC=-15.7, loss=9.28e+5]\n"
          ]
        },
        {
          "name": "stdout",
          "output_type": "stream",
          "text": [
            "1/1 [==============================] - 0s 23ms/step\n"
          ]
        },
        {
          "name": "stderr",
          "output_type": "stream",
          "text": [
            "100%|██████████| 200/200 [00:00<00:00, 1163.79it/s, SC=-18.4, loss=8.28e+6]\n"
          ]
        },
        {
          "name": "stdout",
          "output_type": "stream",
          "text": [
            "1/1 [==============================] - 0s 23ms/step\n"
          ]
        },
        {
          "name": "stderr",
          "output_type": "stream",
          "text": [
            "100%|██████████| 200/200 [00:00<00:00, 1226.62it/s, SC=-15, loss=2.36e+7]\n"
          ]
        },
        {
          "name": "stdout",
          "output_type": "stream",
          "text": [
            "1/1 [==============================] - 0s 22ms/step\n"
          ]
        },
        {
          "name": "stderr",
          "output_type": "stream",
          "text": [
            "100%|██████████| 200/200 [00:00<00:00, 770.35it/s, SC=-17.8, loss=5.25e+6]\n"
          ]
        },
        {
          "name": "stdout",
          "output_type": "stream",
          "text": [
            "1/1 [==============================] - 0s 22ms/step\n"
          ]
        },
        {
          "name": "stderr",
          "output_type": "stream",
          "text": [
            "100%|██████████| 200/200 [00:00<00:00, 1018.29it/s, SC=-15.7, loss=7.28e+4]\n"
          ]
        },
        {
          "name": "stdout",
          "output_type": "stream",
          "text": [
            "1/1 [==============================] - 0s 21ms/step\n"
          ]
        },
        {
          "name": "stderr",
          "output_type": "stream",
          "text": [
            "100%|██████████| 200/200 [00:00<00:00, 1467.86it/s, SC=-16.5, loss=5.8e+5]\n"
          ]
        },
        {
          "name": "stdout",
          "output_type": "stream",
          "text": [
            "1/1 [==============================] - 0s 24ms/step\n"
          ]
        },
        {
          "name": "stderr",
          "output_type": "stream",
          "text": [
            "100%|██████████| 200/200 [00:00<00:00, 993.75it/s, SC=-18.5, loss=1.17e+7]\n"
          ]
        },
        {
          "name": "stdout",
          "output_type": "stream",
          "text": [
            "1/1 [==============================] - 0s 23ms/step\n"
          ]
        },
        {
          "name": "stderr",
          "output_type": "stream",
          "text": [
            "100%|██████████| 200/200 [00:00<00:00, 1112.29it/s, SC=-16.3, loss=3.87e+6]\n"
          ]
        },
        {
          "name": "stdout",
          "output_type": "stream",
          "text": [
            "1/1 [==============================] - 0s 22ms/step\n"
          ]
        },
        {
          "name": "stderr",
          "output_type": "stream",
          "text": [
            "100%|██████████| 200/200 [00:00<00:00, 1070.99it/s, SC=-16.3, loss=1.99e+7]\n"
          ]
        },
        {
          "name": "stdout",
          "output_type": "stream",
          "text": [
            "1/1 [==============================] - 0s 22ms/step\n"
          ]
        },
        {
          "name": "stderr",
          "output_type": "stream",
          "text": [
            "100%|██████████| 200/200 [00:00<00:00, 1054.16it/s, SC=-16.5, loss=8.3e+6]\n"
          ]
        },
        {
          "name": "stdout",
          "output_type": "stream",
          "text": [
            "1/1 [==============================] - 0s 21ms/step\n"
          ]
        },
        {
          "name": "stderr",
          "output_type": "stream",
          "text": [
            "100%|██████████| 200/200 [00:00<00:00, 1373.19it/s, SC=-16.6, loss=1.19e+6]\n"
          ]
        },
        {
          "name": "stdout",
          "output_type": "stream",
          "text": [
            "1/1 [==============================] - 0s 24ms/step\n"
          ]
        },
        {
          "name": "stderr",
          "output_type": "stream",
          "text": [
            "100%|██████████| 200/200 [00:00<00:00, 1166.00it/s, SC=-14.1, loss=2.97e+7]\n"
          ]
        },
        {
          "name": "stdout",
          "output_type": "stream",
          "text": [
            "1/1 [==============================] - 0s 24ms/step\n"
          ]
        },
        {
          "name": "stderr",
          "output_type": "stream",
          "text": [
            "100%|██████████| 200/200 [00:00<00:00, 1014.09it/s, SC=-17.5, loss=3.54e+5]\n"
          ]
        },
        {
          "name": "stdout",
          "output_type": "stream",
          "text": [
            "1/1 [==============================] - 0s 23ms/step\n"
          ]
        },
        {
          "name": "stderr",
          "output_type": "stream",
          "text": [
            "100%|██████████| 200/200 [00:00<00:00, 1191.00it/s, SC=-19.4, loss=4.98e+6]\n"
          ]
        },
        {
          "name": "stdout",
          "output_type": "stream",
          "text": [
            "1/1 [==============================] - 0s 22ms/step\n"
          ]
        },
        {
          "name": "stderr",
          "output_type": "stream",
          "text": [
            "100%|██████████| 200/200 [00:00<00:00, 1041.84it/s, SC=-17.4, loss=9.36e+6]\n"
          ]
        },
        {
          "name": "stdout",
          "output_type": "stream",
          "text": [
            "1/1 [==============================] - 0s 23ms/step\n"
          ]
        },
        {
          "name": "stderr",
          "output_type": "stream",
          "text": [
            "100%|██████████| 200/200 [00:00<00:00, 955.18it/s, SC=-14.2, loss=3.06e+7]\n"
          ]
        },
        {
          "name": "stdout",
          "output_type": "stream",
          "text": [
            "1/1 [==============================] - 0s 22ms/step\n"
          ]
        },
        {
          "name": "stderr",
          "output_type": "stream",
          "text": [
            "100%|██████████| 200/200 [00:00<00:00, 907.83it/s, SC=-17.7, loss=1.64e+7]\n"
          ]
        },
        {
          "name": "stdout",
          "output_type": "stream",
          "text": [
            "1/1 [==============================] - 0s 23ms/step\n"
          ]
        },
        {
          "name": "stderr",
          "output_type": "stream",
          "text": [
            "100%|██████████| 200/200 [00:00<00:00, 1022.23it/s, SC=-17.1, loss=4.25e+5]\n"
          ]
        },
        {
          "name": "stdout",
          "output_type": "stream",
          "text": [
            "1/1 [==============================] - 0s 22ms/step\n"
          ]
        },
        {
          "name": "stderr",
          "output_type": "stream",
          "text": [
            "100%|██████████| 200/200 [00:00<00:00, 846.01it/s, SC=-18.8, loss=1.13e+7]\n"
          ]
        },
        {
          "name": "stdout",
          "output_type": "stream",
          "text": [
            "1/1 [==============================] - 0s 24ms/step\n"
          ]
        },
        {
          "name": "stderr",
          "output_type": "stream",
          "text": [
            "100%|██████████| 200/200 [00:00<00:00, 1175.85it/s, SC=-17.8, loss=1.9e+6]\n"
          ]
        },
        {
          "name": "stdout",
          "output_type": "stream",
          "text": [
            "1/1 [==============================] - 0s 23ms/step\n"
          ]
        },
        {
          "name": "stderr",
          "output_type": "stream",
          "text": [
            "100%|██████████| 200/200 [00:00<00:00, 1186.02it/s, SC=-16.5, loss=3.77e+7]\n"
          ]
        },
        {
          "name": "stdout",
          "output_type": "stream",
          "text": [
            "1/1 [==============================] - 0s 23ms/step\n"
          ]
        },
        {
          "name": "stderr",
          "output_type": "stream",
          "text": [
            "100%|██████████| 200/200 [00:00<00:00, 1045.46it/s, SC=-17.6, loss=1.57e+7]\n"
          ]
        },
        {
          "name": "stdout",
          "output_type": "stream",
          "text": [
            "1/1 [==============================] - 0s 23ms/step\n"
          ]
        },
        {
          "name": "stderr",
          "output_type": "stream",
          "text": [
            "100%|██████████| 200/200 [00:00<00:00, 1147.45it/s, SC=-17.6, loss=9.09e+6]\n"
          ]
        },
        {
          "name": "stdout",
          "output_type": "stream",
          "text": [
            "1/1 [==============================] - 0s 23ms/step\n"
          ]
        },
        {
          "name": "stderr",
          "output_type": "stream",
          "text": [
            "100%|██████████| 200/200 [00:00<00:00, 1034.53it/s, SC=-16.6, loss=1.15e+7]\n"
          ]
        },
        {
          "name": "stdout",
          "output_type": "stream",
          "text": [
            "1/1 [==============================] - 0s 27ms/step\n"
          ]
        },
        {
          "name": "stderr",
          "output_type": "stream",
          "text": [
            "100%|██████████| 200/200 [00:00<00:00, 1027.67it/s, SC=-16.6, loss=4.31e+5]\n"
          ]
        },
        {
          "name": "stdout",
          "output_type": "stream",
          "text": [
            "1/1 [==============================] - 0s 22ms/step\n"
          ]
        },
        {
          "name": "stderr",
          "output_type": "stream",
          "text": [
            "100%|██████████| 200/200 [00:00<00:00, 980.01it/s, SC=-19.5, loss=5.63e+6] \n"
          ]
        },
        {
          "name": "stdout",
          "output_type": "stream",
          "text": [
            "1/1 [==============================] - 0s 23ms/step\n"
          ]
        },
        {
          "name": "stderr",
          "output_type": "stream",
          "text": [
            "100%|██████████| 200/200 [00:00<00:00, 679.33it/s, SC=-18.3, loss=2.26e+6]\n"
          ]
        },
        {
          "name": "stdout",
          "output_type": "stream",
          "text": [
            "1/1 [==============================] - 0s 31ms/step\n"
          ]
        },
        {
          "name": "stderr",
          "output_type": "stream",
          "text": [
            "100%|██████████| 200/200 [00:00<00:00, 1061.03it/s, SC=-17.4, loss=9.43e+6]\n"
          ]
        },
        {
          "name": "stdout",
          "output_type": "stream",
          "text": [
            "1/1 [==============================] - 0s 25ms/step\n"
          ]
        },
        {
          "name": "stderr",
          "output_type": "stream",
          "text": [
            "100%|██████████| 200/200 [00:00<00:00, 967.61it/s, SC=-16.8, loss=8.93e+4]\n"
          ]
        },
        {
          "name": "stdout",
          "output_type": "stream",
          "text": [
            "1/1 [==============================] - 0s 36ms/step\n"
          ]
        },
        {
          "name": "stderr",
          "output_type": "stream",
          "text": [
            "100%|██████████| 200/200 [00:00<00:00, 430.81it/s, SC=-16.8, loss=5.12e+6]\n"
          ]
        },
        {
          "name": "stdout",
          "output_type": "stream",
          "text": [
            "1/1 [==============================] - 0s 31ms/step\n"
          ]
        },
        {
          "name": "stderr",
          "output_type": "stream",
          "text": [
            "100%|██████████| 200/200 [00:00<00:00, 868.55it/s, SC=-18.3, loss=3.14e+7]\n"
          ]
        },
        {
          "name": "stdout",
          "output_type": "stream",
          "text": [
            "1/1 [==============================] - 0s 30ms/step\n"
          ]
        },
        {
          "name": "stderr",
          "output_type": "stream",
          "text": [
            "100%|██████████| 200/200 [00:00<00:00, 804.41it/s, SC=-18, loss=6.35e+6]\n"
          ]
        },
        {
          "name": "stdout",
          "output_type": "stream",
          "text": [
            "1/1 [==============================] - 0s 32ms/step\n"
          ]
        },
        {
          "name": "stderr",
          "output_type": "stream",
          "text": [
            "100%|██████████| 200/200 [00:00<00:00, 690.61it/s, SC=-18.4, loss=1.23e+7]\n"
          ]
        },
        {
          "name": "stdout",
          "output_type": "stream",
          "text": [
            "1/1 [==============================] - 0s 41ms/step\n"
          ]
        },
        {
          "name": "stderr",
          "output_type": "stream",
          "text": [
            "100%|██████████| 200/200 [00:00<00:00, 756.76it/s, SC=-17.5, loss=1e+6]\n"
          ]
        },
        {
          "name": "stdout",
          "output_type": "stream",
          "text": [
            "PESQ tensor(3.0605)\n",
            "PEARSON SPECTRAL 0.8375299364473041\n",
            "PEARSON 0.02045956460079502\n",
            "SMSE 0.5853421711339383\n",
            "tiempo de reconstrucción: 0.2968061089515686s\n",
            "tiempo de griffin lim: 0.21085357427597046s\n"
          ]
        }
      ],
      "source": [
        "compression_rate= 0.125\n",
        "clip=np.ceil(np.amax(X_train))\n",
        "print(clip)\n",
        "conv = myautoencoder(compression_rate= compression_rate, linear_encoder= True, rate=8000, fft = fft, time_long= time_long,\n",
        "                    fft_step_size_ratio= fft_step_size_ratio, x_train=X_train, x_test=X_test, x_train_noise=X_train, x_test_noise=X_test, clip=57, Xmin=-0.0, mode='mlp2', pretrain_encoder=False)\n",
        "encoder_w, historyconv= conv.train(100, 'mse')\n",
        "conv.save_autoencoder(\"es1000\")\n",
        "#conv.load_autoencoder(\"es1000\")\n",
        "conv.audio_evaluation(100,noisy_dataset_m10[:100], log_ref= log_ref)\n",
        "\n"
      ]
    }
  ],
  "metadata": {
    "colab": {
      "provenance": []
    },
    "kernelspec": {
      "display_name": "Python 3",
      "name": "python3"
    },
    "widgets": {
      "application/vnd.jupyter.widget-state+json": {
        "01c71927fe4d4d5cad87f816912ea0ef": {
          "model_module": "@jupyter-widgets/base",
          "model_module_version": "1.2.0",
          "model_name": "LayoutModel",
          "state": {
            "_model_module": "@jupyter-widgets/base",
            "_model_module_version": "1.2.0",
            "_model_name": "LayoutModel",
            "_view_count": null,
            "_view_module": "@jupyter-widgets/base",
            "_view_module_version": "1.2.0",
            "_view_name": "LayoutView",
            "align_content": null,
            "align_items": null,
            "align_self": null,
            "border": null,
            "bottom": null,
            "display": null,
            "flex": null,
            "flex_flow": null,
            "grid_area": null,
            "grid_auto_columns": null,
            "grid_auto_flow": null,
            "grid_auto_rows": null,
            "grid_column": null,
            "grid_gap": null,
            "grid_row": null,
            "grid_template_areas": null,
            "grid_template_columns": null,
            "grid_template_rows": null,
            "height": null,
            "justify_content": null,
            "justify_items": null,
            "left": null,
            "margin": null,
            "max_height": null,
            "max_width": null,
            "min_height": null,
            "min_width": null,
            "object_fit": null,
            "object_position": null,
            "order": null,
            "overflow": null,
            "overflow_x": null,
            "overflow_y": null,
            "padding": null,
            "right": null,
            "top": null,
            "visibility": null,
            "width": null
          }
        },
        "0661272ceee24025b3a2453ad345d066": {
          "model_module": "@jupyter-widgets/base",
          "model_module_version": "1.2.0",
          "model_name": "LayoutModel",
          "state": {
            "_model_module": "@jupyter-widgets/base",
            "_model_module_version": "1.2.0",
            "_model_name": "LayoutModel",
            "_view_count": null,
            "_view_module": "@jupyter-widgets/base",
            "_view_module_version": "1.2.0",
            "_view_name": "LayoutView",
            "align_content": null,
            "align_items": null,
            "align_self": null,
            "border": null,
            "bottom": null,
            "display": null,
            "flex": null,
            "flex_flow": null,
            "grid_area": null,
            "grid_auto_columns": null,
            "grid_auto_flow": null,
            "grid_auto_rows": null,
            "grid_column": null,
            "grid_gap": null,
            "grid_row": null,
            "grid_template_areas": null,
            "grid_template_columns": null,
            "grid_template_rows": null,
            "height": null,
            "justify_content": null,
            "justify_items": null,
            "left": null,
            "margin": null,
            "max_height": null,
            "max_width": null,
            "min_height": null,
            "min_width": null,
            "object_fit": null,
            "object_position": null,
            "order": null,
            "overflow": null,
            "overflow_x": null,
            "overflow_y": null,
            "padding": null,
            "right": null,
            "top": null,
            "visibility": null,
            "width": null
          }
        },
        "102158a1926448c98318b8acb4ab9356": {
          "model_module": "@jupyter-widgets/base",
          "model_module_version": "1.2.0",
          "model_name": "LayoutModel",
          "state": {
            "_model_module": "@jupyter-widgets/base",
            "_model_module_version": "1.2.0",
            "_model_name": "LayoutModel",
            "_view_count": null,
            "_view_module": "@jupyter-widgets/base",
            "_view_module_version": "1.2.0",
            "_view_name": "LayoutView",
            "align_content": null,
            "align_items": null,
            "align_self": null,
            "border": null,
            "bottom": null,
            "display": null,
            "flex": null,
            "flex_flow": null,
            "grid_area": null,
            "grid_auto_columns": null,
            "grid_auto_flow": null,
            "grid_auto_rows": null,
            "grid_column": null,
            "grid_gap": null,
            "grid_row": null,
            "grid_template_areas": null,
            "grid_template_columns": null,
            "grid_template_rows": null,
            "height": null,
            "justify_content": null,
            "justify_items": null,
            "left": null,
            "margin": null,
            "max_height": null,
            "max_width": null,
            "min_height": null,
            "min_width": null,
            "object_fit": null,
            "object_position": null,
            "order": null,
            "overflow": null,
            "overflow_x": null,
            "overflow_y": null,
            "padding": null,
            "right": null,
            "top": null,
            "visibility": null,
            "width": null
          }
        },
        "124fb81643f8459e9a98f9cb918b19ae": {
          "model_module": "@jupyter-widgets/controls",
          "model_module_version": "1.5.0",
          "model_name": "ProgressStyleModel",
          "state": {
            "_model_module": "@jupyter-widgets/controls",
            "_model_module_version": "1.5.0",
            "_model_name": "ProgressStyleModel",
            "_view_count": null,
            "_view_module": "@jupyter-widgets/base",
            "_view_module_version": "1.2.0",
            "_view_name": "StyleView",
            "bar_color": null,
            "description_width": ""
          }
        },
        "13daf2ac531b4ded8fb665160709ad92": {
          "model_module": "@jupyter-widgets/controls",
          "model_module_version": "1.5.0",
          "model_name": "HBoxModel",
          "state": {
            "_dom_classes": [],
            "_model_module": "@jupyter-widgets/controls",
            "_model_module_version": "1.5.0",
            "_model_name": "HBoxModel",
            "_view_count": null,
            "_view_module": "@jupyter-widgets/controls",
            "_view_module_version": "1.5.0",
            "_view_name": "HBoxView",
            "box_style": "",
            "children": [
              "IPY_MODEL_7869f17201594bd3b1dc1c8f481c9945",
              "IPY_MODEL_85fc933dba2d491b93772f359cbc2b51",
              "IPY_MODEL_6516615832be4c0a8bf54a4fb4102123"
            ],
            "layout": "IPY_MODEL_01c71927fe4d4d5cad87f816912ea0ef"
          }
        },
        "13e664e3ecd54a5b9763f72fffaffeec": {
          "model_module": "@jupyter-widgets/base",
          "model_module_version": "1.2.0",
          "model_name": "LayoutModel",
          "state": {
            "_model_module": "@jupyter-widgets/base",
            "_model_module_version": "1.2.0",
            "_model_name": "LayoutModel",
            "_view_count": null,
            "_view_module": "@jupyter-widgets/base",
            "_view_module_version": "1.2.0",
            "_view_name": "LayoutView",
            "align_content": null,
            "align_items": null,
            "align_self": null,
            "border": null,
            "bottom": null,
            "display": null,
            "flex": null,
            "flex_flow": null,
            "grid_area": null,
            "grid_auto_columns": null,
            "grid_auto_flow": null,
            "grid_auto_rows": null,
            "grid_column": null,
            "grid_gap": null,
            "grid_row": null,
            "grid_template_areas": null,
            "grid_template_columns": null,
            "grid_template_rows": null,
            "height": null,
            "justify_content": null,
            "justify_items": null,
            "left": null,
            "margin": null,
            "max_height": null,
            "max_width": null,
            "min_height": null,
            "min_width": null,
            "object_fit": null,
            "object_position": null,
            "order": null,
            "overflow": null,
            "overflow_x": null,
            "overflow_y": null,
            "padding": null,
            "right": null,
            "top": null,
            "visibility": "hidden",
            "width": null
          }
        },
        "242daa28b6504d2287e0ba9ff27714c8": {
          "model_module": "@jupyter-widgets/controls",
          "model_module_version": "1.5.0",
          "model_name": "HTMLModel",
          "state": {
            "_dom_classes": [],
            "_model_module": "@jupyter-widgets/controls",
            "_model_module_version": "1.5.0",
            "_model_name": "HTMLModel",
            "_view_count": null,
            "_view_module": "@jupyter-widgets/controls",
            "_view_module_version": "1.5.0",
            "_view_name": "HTMLView",
            "description": "",
            "description_tooltip": null,
            "layout": "IPY_MODEL_4a68a8e858eb49cc9ea04ef52e0d4cf3",
            "placeholder": "​",
            "style": "IPY_MODEL_bdf0768740dd44f6beda6f27af17eb63",
            "value": " 1/1 [12:50&lt;00:00, 770.53s/ splits]"
          }
        },
        "28fed0533e4c460095be7b2f437df62c": {
          "model_module": "@jupyter-widgets/controls",
          "model_module_version": "1.5.0",
          "model_name": "DescriptionStyleModel",
          "state": {
            "_model_module": "@jupyter-widgets/controls",
            "_model_module_version": "1.5.0",
            "_model_name": "DescriptionStyleModel",
            "_view_count": null,
            "_view_module": "@jupyter-widgets/base",
            "_view_module_version": "1.2.0",
            "_view_name": "StyleView",
            "description_width": ""
          }
        },
        "2b981c2a6c854ed5b4fc7adf43018455": {
          "model_module": "@jupyter-widgets/base",
          "model_module_version": "1.2.0",
          "model_name": "LayoutModel",
          "state": {
            "_model_module": "@jupyter-widgets/base",
            "_model_module_version": "1.2.0",
            "_model_name": "LayoutModel",
            "_view_count": null,
            "_view_module": "@jupyter-widgets/base",
            "_view_module_version": "1.2.0",
            "_view_name": "LayoutView",
            "align_content": null,
            "align_items": null,
            "align_self": null,
            "border": null,
            "bottom": null,
            "display": null,
            "flex": null,
            "flex_flow": null,
            "grid_area": null,
            "grid_auto_columns": null,
            "grid_auto_flow": null,
            "grid_auto_rows": null,
            "grid_column": null,
            "grid_gap": null,
            "grid_row": null,
            "grid_template_areas": null,
            "grid_template_columns": null,
            "grid_template_rows": null,
            "height": null,
            "justify_content": null,
            "justify_items": null,
            "left": null,
            "margin": null,
            "max_height": null,
            "max_width": null,
            "min_height": null,
            "min_width": null,
            "object_fit": null,
            "object_position": null,
            "order": null,
            "overflow": null,
            "overflow_x": null,
            "overflow_y": null,
            "padding": null,
            "right": null,
            "top": null,
            "visibility": null,
            "width": null
          }
        },
        "2dd57a53c74d4946b245497276bcb7f5": {
          "model_module": "@jupyter-widgets/base",
          "model_module_version": "1.2.0",
          "model_name": "LayoutModel",
          "state": {
            "_model_module": "@jupyter-widgets/base",
            "_model_module_version": "1.2.0",
            "_model_name": "LayoutModel",
            "_view_count": null,
            "_view_module": "@jupyter-widgets/base",
            "_view_module_version": "1.2.0",
            "_view_name": "LayoutView",
            "align_content": null,
            "align_items": null,
            "align_self": null,
            "border": null,
            "bottom": null,
            "display": null,
            "flex": null,
            "flex_flow": null,
            "grid_area": null,
            "grid_auto_columns": null,
            "grid_auto_flow": null,
            "grid_auto_rows": null,
            "grid_column": null,
            "grid_gap": null,
            "grid_row": null,
            "grid_template_areas": null,
            "grid_template_columns": null,
            "grid_template_rows": null,
            "height": null,
            "justify_content": null,
            "justify_items": null,
            "left": null,
            "margin": null,
            "max_height": null,
            "max_width": null,
            "min_height": null,
            "min_width": null,
            "object_fit": null,
            "object_position": null,
            "order": null,
            "overflow": null,
            "overflow_x": null,
            "overflow_y": null,
            "padding": null,
            "right": null,
            "top": null,
            "visibility": null,
            "width": null
          }
        },
        "31501f4d32c3431eb92e775567cab4c3": {
          "model_module": "@jupyter-widgets/base",
          "model_module_version": "1.2.0",
          "model_name": "LayoutModel",
          "state": {
            "_model_module": "@jupyter-widgets/base",
            "_model_module_version": "1.2.0",
            "_model_name": "LayoutModel",
            "_view_count": null,
            "_view_module": "@jupyter-widgets/base",
            "_view_module_version": "1.2.0",
            "_view_name": "LayoutView",
            "align_content": null,
            "align_items": null,
            "align_self": null,
            "border": null,
            "bottom": null,
            "display": null,
            "flex": null,
            "flex_flow": null,
            "grid_area": null,
            "grid_auto_columns": null,
            "grid_auto_flow": null,
            "grid_auto_rows": null,
            "grid_column": null,
            "grid_gap": null,
            "grid_row": null,
            "grid_template_areas": null,
            "grid_template_columns": null,
            "grid_template_rows": null,
            "height": null,
            "justify_content": null,
            "justify_items": null,
            "left": null,
            "margin": null,
            "max_height": null,
            "max_width": null,
            "min_height": null,
            "min_width": null,
            "object_fit": null,
            "object_position": null,
            "order": null,
            "overflow": null,
            "overflow_x": null,
            "overflow_y": null,
            "padding": null,
            "right": null,
            "top": null,
            "visibility": null,
            "width": "20px"
          }
        },
        "3424127bc92e45f89969d8fe59295f58": {
          "model_module": "@jupyter-widgets/controls",
          "model_module_version": "1.5.0",
          "model_name": "DescriptionStyleModel",
          "state": {
            "_model_module": "@jupyter-widgets/controls",
            "_model_module_version": "1.5.0",
            "_model_name": "DescriptionStyleModel",
            "_view_count": null,
            "_view_module": "@jupyter-widgets/base",
            "_view_module_version": "1.2.0",
            "_view_name": "StyleView",
            "description_width": ""
          }
        },
        "348cb49b00384bf5b17382ef5736df18": {
          "model_module": "@jupyter-widgets/controls",
          "model_module_version": "1.5.0",
          "model_name": "HTMLModel",
          "state": {
            "_dom_classes": [],
            "_model_module": "@jupyter-widgets/controls",
            "_model_module_version": "1.5.0",
            "_model_name": "HTMLModel",
            "_view_count": null,
            "_view_module": "@jupyter-widgets/controls",
            "_view_module_version": "1.5.0",
            "_view_name": "HTMLView",
            "description": "",
            "description_tooltip": null,
            "layout": "IPY_MODEL_f7d44d882aaf48a3acaa0843343cf115",
            "placeholder": "​",
            "style": "IPY_MODEL_a6180e1815ba435f9bdab4f83ef5815d",
            "value": " 1/1 [07:05&lt;00:00, 126.18s/ url]"
          }
        },
        "3a39e0353ed44fc295266ed14a0c711f": {
          "model_module": "@jupyter-widgets/controls",
          "model_module_version": "1.5.0",
          "model_name": "DescriptionStyleModel",
          "state": {
            "_model_module": "@jupyter-widgets/controls",
            "_model_module_version": "1.5.0",
            "_model_name": "DescriptionStyleModel",
            "_view_count": null,
            "_view_module": "@jupyter-widgets/base",
            "_view_module_version": "1.2.0",
            "_view_name": "StyleView",
            "description_width": ""
          }
        },
        "3d20140d20ad4cb0931e4bfc1fc0cc21": {
          "model_module": "@jupyter-widgets/controls",
          "model_module_version": "1.5.0",
          "model_name": "HTMLModel",
          "state": {
            "_dom_classes": [],
            "_model_module": "@jupyter-widgets/controls",
            "_model_module_version": "1.5.0",
            "_model_name": "HTMLModel",
            "_view_count": null,
            "_view_module": "@jupyter-widgets/controls",
            "_view_module_version": "1.5.0",
            "_view_name": "HTMLView",
            "description": "",
            "description_tooltip": null,
            "layout": "IPY_MODEL_7c0d2372a4ec498099a5eccb74ac42f0",
            "placeholder": "​",
            "style": "IPY_MODEL_e644f973dcd44a8da462871b0ab4ed19",
            "value": " 13099/13100 [10:56&lt;00:00, 18.61 examples/s]"
          }
        },
        "3e50d2c4527c419cb92d3ad9bf1b8a46": {
          "model_module": "@jupyter-widgets/base",
          "model_module_version": "1.2.0",
          "model_name": "LayoutModel",
          "state": {
            "_model_module": "@jupyter-widgets/base",
            "_model_module_version": "1.2.0",
            "_model_name": "LayoutModel",
            "_view_count": null,
            "_view_module": "@jupyter-widgets/base",
            "_view_module_version": "1.2.0",
            "_view_name": "LayoutView",
            "align_content": null,
            "align_items": null,
            "align_self": null,
            "border": null,
            "bottom": null,
            "display": null,
            "flex": null,
            "flex_flow": null,
            "grid_area": null,
            "grid_auto_columns": null,
            "grid_auto_flow": null,
            "grid_auto_rows": null,
            "grid_column": null,
            "grid_gap": null,
            "grid_row": null,
            "grid_template_areas": null,
            "grid_template_columns": null,
            "grid_template_rows": null,
            "height": null,
            "justify_content": null,
            "justify_items": null,
            "left": null,
            "margin": null,
            "max_height": null,
            "max_width": null,
            "min_height": null,
            "min_width": null,
            "object_fit": null,
            "object_position": null,
            "order": null,
            "overflow": null,
            "overflow_x": null,
            "overflow_y": null,
            "padding": null,
            "right": null,
            "top": null,
            "visibility": "hidden",
            "width": null
          }
        },
        "3ee32af1da6547c9ab18135049310eb1": {
          "model_module": "@jupyter-widgets/controls",
          "model_module_version": "1.5.0",
          "model_name": "DescriptionStyleModel",
          "state": {
            "_model_module": "@jupyter-widgets/controls",
            "_model_module_version": "1.5.0",
            "_model_name": "DescriptionStyleModel",
            "_view_count": null,
            "_view_module": "@jupyter-widgets/base",
            "_view_module_version": "1.2.0",
            "_view_name": "StyleView",
            "description_width": ""
          }
        },
        "4173894121834091a46c09db90046d63": {
          "model_module": "@jupyter-widgets/controls",
          "model_module_version": "1.5.0",
          "model_name": "FloatProgressModel",
          "state": {
            "_dom_classes": [],
            "_model_module": "@jupyter-widgets/controls",
            "_model_module_version": "1.5.0",
            "_model_name": "FloatProgressModel",
            "_view_count": null,
            "_view_module": "@jupyter-widgets/controls",
            "_view_module_version": "1.5.0",
            "_view_name": "ProgressView",
            "bar_style": "",
            "description": "",
            "description_tooltip": null,
            "layout": "IPY_MODEL_102158a1926448c98318b8acb4ab9356",
            "max": 13100,
            "min": 0,
            "orientation": "horizontal",
            "style": "IPY_MODEL_efb2987cbeb84145bbe3851310fb579f",
            "value": 13100
          }
        },
        "45bf4da7b9764124835b09cdc2a21462": {
          "model_module": "@jupyter-widgets/controls",
          "model_module_version": "1.5.0",
          "model_name": "HBoxModel",
          "state": {
            "_dom_classes": [],
            "_model_module": "@jupyter-widgets/controls",
            "_model_module_version": "1.5.0",
            "_model_name": "HBoxModel",
            "_view_count": null,
            "_view_module": "@jupyter-widgets/controls",
            "_view_module_version": "1.5.0",
            "_view_name": "HBoxView",
            "box_style": "",
            "children": [
              "IPY_MODEL_ad75619badad417c932f0f05e4e4110e",
              "IPY_MODEL_aa76fdd95eb04d2d94a141588b7aedcf",
              "IPY_MODEL_242daa28b6504d2287e0ba9ff27714c8"
            ],
            "layout": "IPY_MODEL_13e664e3ecd54a5b9763f72fffaffeec"
          }
        },
        "4a68a8e858eb49cc9ea04ef52e0d4cf3": {
          "model_module": "@jupyter-widgets/base",
          "model_module_version": "1.2.0",
          "model_name": "LayoutModel",
          "state": {
            "_model_module": "@jupyter-widgets/base",
            "_model_module_version": "1.2.0",
            "_model_name": "LayoutModel",
            "_view_count": null,
            "_view_module": "@jupyter-widgets/base",
            "_view_module_version": "1.2.0",
            "_view_name": "LayoutView",
            "align_content": null,
            "align_items": null,
            "align_self": null,
            "border": null,
            "bottom": null,
            "display": null,
            "flex": null,
            "flex_flow": null,
            "grid_area": null,
            "grid_auto_columns": null,
            "grid_auto_flow": null,
            "grid_auto_rows": null,
            "grid_column": null,
            "grid_gap": null,
            "grid_row": null,
            "grid_template_areas": null,
            "grid_template_columns": null,
            "grid_template_rows": null,
            "height": null,
            "justify_content": null,
            "justify_items": null,
            "left": null,
            "margin": null,
            "max_height": null,
            "max_width": null,
            "min_height": null,
            "min_width": null,
            "object_fit": null,
            "object_position": null,
            "order": null,
            "overflow": null,
            "overflow_x": null,
            "overflow_y": null,
            "padding": null,
            "right": null,
            "top": null,
            "visibility": null,
            "width": null
          }
        },
        "581b88f448804510b421fc578f07e88e": {
          "model_module": "@jupyter-widgets/controls",
          "model_module_version": "1.5.0",
          "model_name": "HBoxModel",
          "state": {
            "_dom_classes": [],
            "_model_module": "@jupyter-widgets/controls",
            "_model_module_version": "1.5.0",
            "_model_name": "HBoxModel",
            "_view_count": null,
            "_view_module": "@jupyter-widgets/controls",
            "_view_module_version": "1.5.0",
            "_view_name": "HBoxView",
            "box_style": "",
            "children": [
              "IPY_MODEL_887f8ae9c0c0483d9fda1fdfad45ddb1",
              "IPY_MODEL_7a21c01664594a1eb8402d6bb9d7a5c5",
              "IPY_MODEL_87db1fafa3df4825a82545b115e61043"
            ],
            "layout": "IPY_MODEL_aa2712811da548238cde8b118983913e"
          }
        },
        "5c8dbddc8e5749db84234821efba3f55": {
          "model_module": "@jupyter-widgets/base",
          "model_module_version": "1.2.0",
          "model_name": "LayoutModel",
          "state": {
            "_model_module": "@jupyter-widgets/base",
            "_model_module_version": "1.2.0",
            "_model_name": "LayoutModel",
            "_view_count": null,
            "_view_module": "@jupyter-widgets/base",
            "_view_module_version": "1.2.0",
            "_view_name": "LayoutView",
            "align_content": null,
            "align_items": null,
            "align_self": null,
            "border": null,
            "bottom": null,
            "display": null,
            "flex": null,
            "flex_flow": null,
            "grid_area": null,
            "grid_auto_columns": null,
            "grid_auto_flow": null,
            "grid_auto_rows": null,
            "grid_column": null,
            "grid_gap": null,
            "grid_row": null,
            "grid_template_areas": null,
            "grid_template_columns": null,
            "grid_template_rows": null,
            "height": null,
            "justify_content": null,
            "justify_items": null,
            "left": null,
            "margin": null,
            "max_height": null,
            "max_width": null,
            "min_height": null,
            "min_width": null,
            "object_fit": null,
            "object_position": null,
            "order": null,
            "overflow": null,
            "overflow_x": null,
            "overflow_y": null,
            "padding": null,
            "right": null,
            "top": null,
            "visibility": null,
            "width": null
          }
        },
        "5fc806d540f4435599c44e61854d745b": {
          "model_module": "@jupyter-widgets/controls",
          "model_module_version": "1.5.0",
          "model_name": "DescriptionStyleModel",
          "state": {
            "_model_module": "@jupyter-widgets/controls",
            "_model_module_version": "1.5.0",
            "_model_name": "DescriptionStyleModel",
            "_view_count": null,
            "_view_module": "@jupyter-widgets/base",
            "_view_module_version": "1.2.0",
            "_view_name": "StyleView",
            "description_width": ""
          }
        },
        "6516615832be4c0a8bf54a4fb4102123": {
          "model_module": "@jupyter-widgets/controls",
          "model_module_version": "1.5.0",
          "model_name": "HTMLModel",
          "state": {
            "_dom_classes": [],
            "_model_module": "@jupyter-widgets/controls",
            "_model_module_version": "1.5.0",
            "_model_name": "HTMLModel",
            "_view_count": null,
            "_view_module": "@jupyter-widgets/controls",
            "_view_module_version": "1.5.0",
            "_view_name": "HTMLView",
            "description": "",
            "description_tooltip": null,
            "layout": "IPY_MODEL_db009fbe12e847aa9b7a90b373624bbd",
            "placeholder": "​",
            "style": "IPY_MODEL_a297b46374fe4db4b70c06a3433b4f7d",
            "value": " 2621/0 [07:05&lt;00:00, 23.08 MiB/s]"
          }
        },
        "6560f733d57c49fa9db369dbf95a6601": {
          "model_module": "@jupyter-widgets/base",
          "model_module_version": "1.2.0",
          "model_name": "LayoutModel",
          "state": {
            "_model_module": "@jupyter-widgets/base",
            "_model_module_version": "1.2.0",
            "_model_name": "LayoutModel",
            "_view_count": null,
            "_view_module": "@jupyter-widgets/base",
            "_view_module_version": "1.2.0",
            "_view_name": "LayoutView",
            "align_content": null,
            "align_items": null,
            "align_self": null,
            "border": null,
            "bottom": null,
            "display": null,
            "flex": null,
            "flex_flow": null,
            "grid_area": null,
            "grid_auto_columns": null,
            "grid_auto_flow": null,
            "grid_auto_rows": null,
            "grid_column": null,
            "grid_gap": null,
            "grid_row": null,
            "grid_template_areas": null,
            "grid_template_columns": null,
            "grid_template_rows": null,
            "height": null,
            "justify_content": null,
            "justify_items": null,
            "left": null,
            "margin": null,
            "max_height": null,
            "max_width": null,
            "min_height": null,
            "min_width": null,
            "object_fit": null,
            "object_position": null,
            "order": null,
            "overflow": null,
            "overflow_x": null,
            "overflow_y": null,
            "padding": null,
            "right": null,
            "top": null,
            "visibility": null,
            "width": "20px"
          }
        },
        "6858a17db3c84fdb84718709b898b0fc": {
          "model_module": "@jupyter-widgets/base",
          "model_module_version": "1.2.0",
          "model_name": "LayoutModel",
          "state": {
            "_model_module": "@jupyter-widgets/base",
            "_model_module_version": "1.2.0",
            "_model_name": "LayoutModel",
            "_view_count": null,
            "_view_module": "@jupyter-widgets/base",
            "_view_module_version": "1.2.0",
            "_view_name": "LayoutView",
            "align_content": null,
            "align_items": null,
            "align_self": null,
            "border": null,
            "bottom": null,
            "display": null,
            "flex": null,
            "flex_flow": null,
            "grid_area": null,
            "grid_auto_columns": null,
            "grid_auto_flow": null,
            "grid_auto_rows": null,
            "grid_column": null,
            "grid_gap": null,
            "grid_row": null,
            "grid_template_areas": null,
            "grid_template_columns": null,
            "grid_template_rows": null,
            "height": null,
            "justify_content": null,
            "justify_items": null,
            "left": null,
            "margin": null,
            "max_height": null,
            "max_width": null,
            "min_height": null,
            "min_width": null,
            "object_fit": null,
            "object_position": null,
            "order": null,
            "overflow": null,
            "overflow_x": null,
            "overflow_y": null,
            "padding": null,
            "right": null,
            "top": null,
            "visibility": null,
            "width": null
          }
        },
        "69800cef121647d2bd8566eda79d83bd": {
          "model_module": "@jupyter-widgets/controls",
          "model_module_version": "1.5.0",
          "model_name": "HTMLModel",
          "state": {
            "_dom_classes": [],
            "_model_module": "@jupyter-widgets/controls",
            "_model_module_version": "1.5.0",
            "_model_name": "HTMLModel",
            "_view_count": null,
            "_view_module": "@jupyter-widgets/controls",
            "_view_module_version": "1.5.0",
            "_view_name": "HTMLView",
            "description": "",
            "description_tooltip": null,
            "layout": "IPY_MODEL_b2a7c17d35e24be7b5a9cb51384b3a06",
            "placeholder": "​",
            "style": "IPY_MODEL_5fc806d540f4435599c44e61854d745b",
            "value": "Dl Completed...: 100%"
          }
        },
        "7306efd24c7543e4abcd611d8a721a3b": {
          "model_module": "@jupyter-widgets/controls",
          "model_module_version": "1.5.0",
          "model_name": "DescriptionStyleModel",
          "state": {
            "_model_module": "@jupyter-widgets/controls",
            "_model_module_version": "1.5.0",
            "_model_name": "DescriptionStyleModel",
            "_view_count": null,
            "_view_module": "@jupyter-widgets/base",
            "_view_module_version": "1.2.0",
            "_view_name": "StyleView",
            "description_width": ""
          }
        },
        "73292352fd2c4beca779bcc55bff72f7": {
          "model_module": "@jupyter-widgets/base",
          "model_module_version": "1.2.0",
          "model_name": "LayoutModel",
          "state": {
            "_model_module": "@jupyter-widgets/base",
            "_model_module_version": "1.2.0",
            "_model_name": "LayoutModel",
            "_view_count": null,
            "_view_module": "@jupyter-widgets/base",
            "_view_module_version": "1.2.0",
            "_view_name": "LayoutView",
            "align_content": null,
            "align_items": null,
            "align_self": null,
            "border": null,
            "bottom": null,
            "display": null,
            "flex": null,
            "flex_flow": null,
            "grid_area": null,
            "grid_auto_columns": null,
            "grid_auto_flow": null,
            "grid_auto_rows": null,
            "grid_column": null,
            "grid_gap": null,
            "grid_row": null,
            "grid_template_areas": null,
            "grid_template_columns": null,
            "grid_template_rows": null,
            "height": null,
            "justify_content": null,
            "justify_items": null,
            "left": null,
            "margin": null,
            "max_height": null,
            "max_width": null,
            "min_height": null,
            "min_width": null,
            "object_fit": null,
            "object_position": null,
            "order": null,
            "overflow": null,
            "overflow_x": null,
            "overflow_y": null,
            "padding": null,
            "right": null,
            "top": null,
            "visibility": null,
            "width": "20px"
          }
        },
        "74eb86a7639740e3805ce2a0bfb24ad9": {
          "model_module": "@jupyter-widgets/controls",
          "model_module_version": "1.5.0",
          "model_name": "HBoxModel",
          "state": {
            "_dom_classes": [],
            "_model_module": "@jupyter-widgets/controls",
            "_model_module_version": "1.5.0",
            "_model_name": "HBoxModel",
            "_view_count": null,
            "_view_module": "@jupyter-widgets/controls",
            "_view_module_version": "1.5.0",
            "_view_name": "HBoxView",
            "box_style": "",
            "children": [
              "IPY_MODEL_69800cef121647d2bd8566eda79d83bd",
              "IPY_MODEL_c65394a7d20b4e47bb35b5783186c7ef",
              "IPY_MODEL_348cb49b00384bf5b17382ef5736df18"
            ],
            "layout": "IPY_MODEL_dc93baf6aafd45f3b4ada329aa159ac6"
          }
        },
        "7869f17201594bd3b1dc1c8f481c9945": {
          "model_module": "@jupyter-widgets/controls",
          "model_module_version": "1.5.0",
          "model_name": "HTMLModel",
          "state": {
            "_dom_classes": [],
            "_model_module": "@jupyter-widgets/controls",
            "_model_module_version": "1.5.0",
            "_model_name": "HTMLModel",
            "_view_count": null,
            "_view_module": "@jupyter-widgets/controls",
            "_view_module_version": "1.5.0",
            "_view_name": "HTMLView",
            "description": "",
            "description_tooltip": null,
            "layout": "IPY_MODEL_fb89d98b24814171a2c2de80654cbff7",
            "placeholder": "​",
            "style": "IPY_MODEL_3ee32af1da6547c9ab18135049310eb1",
            "value": "Dl Size...: "
          }
        },
        "7a21c01664594a1eb8402d6bb9d7a5c5": {
          "model_module": "@jupyter-widgets/controls",
          "model_module_version": "1.5.0",
          "model_name": "FloatProgressModel",
          "state": {
            "_dom_classes": [],
            "_model_module": "@jupyter-widgets/controls",
            "_model_module_version": "1.5.0",
            "_model_name": "FloatProgressModel",
            "_view_count": null,
            "_view_module": "@jupyter-widgets/controls",
            "_view_module_version": "1.5.0",
            "_view_name": "ProgressView",
            "bar_style": "success",
            "description": "",
            "description_tooltip": null,
            "layout": "IPY_MODEL_31501f4d32c3431eb92e775567cab4c3",
            "max": 1,
            "min": 0,
            "orientation": "horizontal",
            "style": "IPY_MODEL_7d1b43c73eb544dd9d39cbdbd755b31e",
            "value": 1
          }
        },
        "7c0d2372a4ec498099a5eccb74ac42f0": {
          "model_module": "@jupyter-widgets/base",
          "model_module_version": "1.2.0",
          "model_name": "LayoutModel",
          "state": {
            "_model_module": "@jupyter-widgets/base",
            "_model_module_version": "1.2.0",
            "_model_name": "LayoutModel",
            "_view_count": null,
            "_view_module": "@jupyter-widgets/base",
            "_view_module_version": "1.2.0",
            "_view_name": "LayoutView",
            "align_content": null,
            "align_items": null,
            "align_self": null,
            "border": null,
            "bottom": null,
            "display": null,
            "flex": null,
            "flex_flow": null,
            "grid_area": null,
            "grid_auto_columns": null,
            "grid_auto_flow": null,
            "grid_auto_rows": null,
            "grid_column": null,
            "grid_gap": null,
            "grid_row": null,
            "grid_template_areas": null,
            "grid_template_columns": null,
            "grid_template_rows": null,
            "height": null,
            "justify_content": null,
            "justify_items": null,
            "left": null,
            "margin": null,
            "max_height": null,
            "max_width": null,
            "min_height": null,
            "min_width": null,
            "object_fit": null,
            "object_position": null,
            "order": null,
            "overflow": null,
            "overflow_x": null,
            "overflow_y": null,
            "padding": null,
            "right": null,
            "top": null,
            "visibility": null,
            "width": null
          }
        },
        "7d1b43c73eb544dd9d39cbdbd755b31e": {
          "model_module": "@jupyter-widgets/controls",
          "model_module_version": "1.5.0",
          "model_name": "ProgressStyleModel",
          "state": {
            "_model_module": "@jupyter-widgets/controls",
            "_model_module_version": "1.5.0",
            "_model_name": "ProgressStyleModel",
            "_view_count": null,
            "_view_module": "@jupyter-widgets/base",
            "_view_module_version": "1.2.0",
            "_view_name": "StyleView",
            "bar_color": null,
            "description_width": ""
          }
        },
        "85fc933dba2d491b93772f359cbc2b51": {
          "model_module": "@jupyter-widgets/controls",
          "model_module_version": "1.5.0",
          "model_name": "FloatProgressModel",
          "state": {
            "_dom_classes": [],
            "_model_module": "@jupyter-widgets/controls",
            "_model_module_version": "1.5.0",
            "_model_name": "FloatProgressModel",
            "_view_count": null,
            "_view_module": "@jupyter-widgets/controls",
            "_view_module_version": "1.5.0",
            "_view_name": "ProgressView",
            "bar_style": "success",
            "description": "",
            "description_tooltip": null,
            "layout": "IPY_MODEL_6560f733d57c49fa9db369dbf95a6601",
            "max": 1,
            "min": 0,
            "orientation": "horizontal",
            "style": "IPY_MODEL_fd5891e646e748ab8e1bba3b772d0611",
            "value": 1
          }
        },
        "87db1fafa3df4825a82545b115e61043": {
          "model_module": "@jupyter-widgets/controls",
          "model_module_version": "1.5.0",
          "model_name": "HTMLModel",
          "state": {
            "_dom_classes": [],
            "_model_module": "@jupyter-widgets/controls",
            "_model_module_version": "1.5.0",
            "_model_name": "HTMLModel",
            "_view_count": null,
            "_view_module": "@jupyter-widgets/controls",
            "_view_module_version": "1.5.0",
            "_view_name": "HTMLView",
            "description": "",
            "description_tooltip": null,
            "layout": "IPY_MODEL_e06a4128b6574affa9ddae121fe02ebf",
            "placeholder": "​",
            "style": "IPY_MODEL_f49109aedc0d4c47be55d6a9b8ff46ec",
            "value": " 13102/13102 [07:05&lt;00:00, 390.84 file/s]"
          }
        },
        "887f8ae9c0c0483d9fda1fdfad45ddb1": {
          "model_module": "@jupyter-widgets/controls",
          "model_module_version": "1.5.0",
          "model_name": "HTMLModel",
          "state": {
            "_dom_classes": [],
            "_model_module": "@jupyter-widgets/controls",
            "_model_module_version": "1.5.0",
            "_model_name": "HTMLModel",
            "_view_count": null,
            "_view_module": "@jupyter-widgets/controls",
            "_view_module_version": "1.5.0",
            "_view_name": "HTMLView",
            "description": "",
            "description_tooltip": null,
            "layout": "IPY_MODEL_0661272ceee24025b3a2453ad345d066",
            "placeholder": "​",
            "style": "IPY_MODEL_28fed0533e4c460095be7b2f437df62c",
            "value": "Extraction completed...: 100%"
          }
        },
        "8e8c333e0099419b9f8888ab39f74367": {
          "model_module": "@jupyter-widgets/controls",
          "model_module_version": "1.5.0",
          "model_name": "HBoxModel",
          "state": {
            "_dom_classes": [],
            "_model_module": "@jupyter-widgets/controls",
            "_model_module_version": "1.5.0",
            "_model_name": "HBoxModel",
            "_view_count": null,
            "_view_module": "@jupyter-widgets/controls",
            "_view_module_version": "1.5.0",
            "_view_name": "HBoxView",
            "box_style": "",
            "children": [
              "IPY_MODEL_c3f4c1e139ae4f3980dc9e5285d5a37a",
              "IPY_MODEL_a3ac9594d9c447d39090499ee6c64dad",
              "IPY_MODEL_a03a5dcd4ef04a0b9aec4dc59bc8fd03"
            ],
            "layout": "IPY_MODEL_3e50d2c4527c419cb92d3ad9bf1b8a46"
          }
        },
        "a03a5dcd4ef04a0b9aec4dc59bc8fd03": {
          "model_module": "@jupyter-widgets/controls",
          "model_module_version": "1.5.0",
          "model_name": "HTMLModel",
          "state": {
            "_dom_classes": [],
            "_model_module": "@jupyter-widgets/controls",
            "_model_module_version": "1.5.0",
            "_model_name": "HTMLModel",
            "_view_count": null,
            "_view_module": "@jupyter-widgets/controls",
            "_view_module_version": "1.5.0",
            "_view_name": "HTMLView",
            "description": "",
            "description_tooltip": null,
            "layout": "IPY_MODEL_caaa03653f0f4a52a4fe6e850b9e5bb9",
            "placeholder": "​",
            "style": "IPY_MODEL_3a39e0353ed44fc295266ed14a0c711f",
            "value": " 13079/13100 [01:54&lt;00:00, 109.28 examples/s]"
          }
        },
        "a297b46374fe4db4b70c06a3433b4f7d": {
          "model_module": "@jupyter-widgets/controls",
          "model_module_version": "1.5.0",
          "model_name": "DescriptionStyleModel",
          "state": {
            "_model_module": "@jupyter-widgets/controls",
            "_model_module_version": "1.5.0",
            "_model_name": "DescriptionStyleModel",
            "_view_count": null,
            "_view_module": "@jupyter-widgets/base",
            "_view_module_version": "1.2.0",
            "_view_name": "StyleView",
            "description_width": ""
          }
        },
        "a3ac9594d9c447d39090499ee6c64dad": {
          "model_module": "@jupyter-widgets/controls",
          "model_module_version": "1.5.0",
          "model_name": "FloatProgressModel",
          "state": {
            "_dom_classes": [],
            "_model_module": "@jupyter-widgets/controls",
            "_model_module_version": "1.5.0",
            "_model_name": "FloatProgressModel",
            "_view_count": null,
            "_view_module": "@jupyter-widgets/controls",
            "_view_module_version": "1.5.0",
            "_view_name": "ProgressView",
            "bar_style": "",
            "description": "",
            "description_tooltip": null,
            "layout": "IPY_MODEL_5c8dbddc8e5749db84234821efba3f55",
            "max": 13100,
            "min": 0,
            "orientation": "horizontal",
            "style": "IPY_MODEL_b59fceac47014ca4ab423846ae6a1bcc",
            "value": 13100
          }
        },
        "a6180e1815ba435f9bdab4f83ef5815d": {
          "model_module": "@jupyter-widgets/controls",
          "model_module_version": "1.5.0",
          "model_name": "DescriptionStyleModel",
          "state": {
            "_model_module": "@jupyter-widgets/controls",
            "_model_module_version": "1.5.0",
            "_model_name": "DescriptionStyleModel",
            "_view_count": null,
            "_view_module": "@jupyter-widgets/base",
            "_view_module_version": "1.2.0",
            "_view_name": "StyleView",
            "description_width": ""
          }
        },
        "aa2712811da548238cde8b118983913e": {
          "model_module": "@jupyter-widgets/base",
          "model_module_version": "1.2.0",
          "model_name": "LayoutModel",
          "state": {
            "_model_module": "@jupyter-widgets/base",
            "_model_module_version": "1.2.0",
            "_model_name": "LayoutModel",
            "_view_count": null,
            "_view_module": "@jupyter-widgets/base",
            "_view_module_version": "1.2.0",
            "_view_name": "LayoutView",
            "align_content": null,
            "align_items": null,
            "align_self": null,
            "border": null,
            "bottom": null,
            "display": null,
            "flex": null,
            "flex_flow": null,
            "grid_area": null,
            "grid_auto_columns": null,
            "grid_auto_flow": null,
            "grid_auto_rows": null,
            "grid_column": null,
            "grid_gap": null,
            "grid_row": null,
            "grid_template_areas": null,
            "grid_template_columns": null,
            "grid_template_rows": null,
            "height": null,
            "justify_content": null,
            "justify_items": null,
            "left": null,
            "margin": null,
            "max_height": null,
            "max_width": null,
            "min_height": null,
            "min_width": null,
            "object_fit": null,
            "object_position": null,
            "order": null,
            "overflow": null,
            "overflow_x": null,
            "overflow_y": null,
            "padding": null,
            "right": null,
            "top": null,
            "visibility": null,
            "width": null
          }
        },
        "aa76fdd95eb04d2d94a141588b7aedcf": {
          "model_module": "@jupyter-widgets/controls",
          "model_module_version": "1.5.0",
          "model_name": "FloatProgressModel",
          "state": {
            "_dom_classes": [],
            "_model_module": "@jupyter-widgets/controls",
            "_model_module_version": "1.5.0",
            "_model_name": "FloatProgressModel",
            "_view_count": null,
            "_view_module": "@jupyter-widgets/controls",
            "_view_module_version": "1.5.0",
            "_view_name": "ProgressView",
            "bar_style": "",
            "description": "",
            "description_tooltip": null,
            "layout": "IPY_MODEL_2dd57a53c74d4946b245497276bcb7f5",
            "max": 1,
            "min": 0,
            "orientation": "horizontal",
            "style": "IPY_MODEL_124fb81643f8459e9a98f9cb918b19ae",
            "value": 1
          }
        },
        "ad75619badad417c932f0f05e4e4110e": {
          "model_module": "@jupyter-widgets/controls",
          "model_module_version": "1.5.0",
          "model_name": "HTMLModel",
          "state": {
            "_dom_classes": [],
            "_model_module": "@jupyter-widgets/controls",
            "_model_module_version": "1.5.0",
            "_model_name": "HTMLModel",
            "_view_count": null,
            "_view_module": "@jupyter-widgets/controls",
            "_view_module_version": "1.5.0",
            "_view_name": "HTMLView",
            "description": "",
            "description_tooltip": null,
            "layout": "IPY_MODEL_6858a17db3c84fdb84718709b898b0fc",
            "placeholder": "​",
            "style": "IPY_MODEL_d562028e41d74f58aa4a58ce17d4187a",
            "value": "Generating splits...: 100%"
          }
        },
        "b2a7c17d35e24be7b5a9cb51384b3a06": {
          "model_module": "@jupyter-widgets/base",
          "model_module_version": "1.2.0",
          "model_name": "LayoutModel",
          "state": {
            "_model_module": "@jupyter-widgets/base",
            "_model_module_version": "1.2.0",
            "_model_name": "LayoutModel",
            "_view_count": null,
            "_view_module": "@jupyter-widgets/base",
            "_view_module_version": "1.2.0",
            "_view_name": "LayoutView",
            "align_content": null,
            "align_items": null,
            "align_self": null,
            "border": null,
            "bottom": null,
            "display": null,
            "flex": null,
            "flex_flow": null,
            "grid_area": null,
            "grid_auto_columns": null,
            "grid_auto_flow": null,
            "grid_auto_rows": null,
            "grid_column": null,
            "grid_gap": null,
            "grid_row": null,
            "grid_template_areas": null,
            "grid_template_columns": null,
            "grid_template_rows": null,
            "height": null,
            "justify_content": null,
            "justify_items": null,
            "left": null,
            "margin": null,
            "max_height": null,
            "max_width": null,
            "min_height": null,
            "min_width": null,
            "object_fit": null,
            "object_position": null,
            "order": null,
            "overflow": null,
            "overflow_x": null,
            "overflow_y": null,
            "padding": null,
            "right": null,
            "top": null,
            "visibility": null,
            "width": null
          }
        },
        "b59fceac47014ca4ab423846ae6a1bcc": {
          "model_module": "@jupyter-widgets/controls",
          "model_module_version": "1.5.0",
          "model_name": "ProgressStyleModel",
          "state": {
            "_model_module": "@jupyter-widgets/controls",
            "_model_module_version": "1.5.0",
            "_model_name": "ProgressStyleModel",
            "_view_count": null,
            "_view_module": "@jupyter-widgets/base",
            "_view_module_version": "1.2.0",
            "_view_name": "StyleView",
            "bar_color": null,
            "description_width": ""
          }
        },
        "bdf0768740dd44f6beda6f27af17eb63": {
          "model_module": "@jupyter-widgets/controls",
          "model_module_version": "1.5.0",
          "model_name": "DescriptionStyleModel",
          "state": {
            "_model_module": "@jupyter-widgets/controls",
            "_model_module_version": "1.5.0",
            "_model_name": "DescriptionStyleModel",
            "_view_count": null,
            "_view_module": "@jupyter-widgets/base",
            "_view_module_version": "1.2.0",
            "_view_name": "StyleView",
            "description_width": ""
          }
        },
        "c2a56f7fbcbc4c918127ce19f5dde71b": {
          "model_module": "@jupyter-widgets/base",
          "model_module_version": "1.2.0",
          "model_name": "LayoutModel",
          "state": {
            "_model_module": "@jupyter-widgets/base",
            "_model_module_version": "1.2.0",
            "_model_name": "LayoutModel",
            "_view_count": null,
            "_view_module": "@jupyter-widgets/base",
            "_view_module_version": "1.2.0",
            "_view_name": "LayoutView",
            "align_content": null,
            "align_items": null,
            "align_self": null,
            "border": null,
            "bottom": null,
            "display": null,
            "flex": null,
            "flex_flow": null,
            "grid_area": null,
            "grid_auto_columns": null,
            "grid_auto_flow": null,
            "grid_auto_rows": null,
            "grid_column": null,
            "grid_gap": null,
            "grid_row": null,
            "grid_template_areas": null,
            "grid_template_columns": null,
            "grid_template_rows": null,
            "height": null,
            "justify_content": null,
            "justify_items": null,
            "left": null,
            "margin": null,
            "max_height": null,
            "max_width": null,
            "min_height": null,
            "min_width": null,
            "object_fit": null,
            "object_position": null,
            "order": null,
            "overflow": null,
            "overflow_x": null,
            "overflow_y": null,
            "padding": null,
            "right": null,
            "top": null,
            "visibility": null,
            "width": null
          }
        },
        "c3f4c1e139ae4f3980dc9e5285d5a37a": {
          "model_module": "@jupyter-widgets/controls",
          "model_module_version": "1.5.0",
          "model_name": "HTMLModel",
          "state": {
            "_dom_classes": [],
            "_model_module": "@jupyter-widgets/controls",
            "_model_module_version": "1.5.0",
            "_model_name": "HTMLModel",
            "_view_count": null,
            "_view_module": "@jupyter-widgets/controls",
            "_view_module_version": "1.5.0",
            "_view_name": "HTMLView",
            "description": "",
            "description_tooltip": null,
            "layout": "IPY_MODEL_c2a56f7fbcbc4c918127ce19f5dde71b",
            "placeholder": "​",
            "style": "IPY_MODEL_3424127bc92e45f89969d8fe59295f58",
            "value": "Shuffling /root/tensorflow_datasets/ljspeech/1.1.1.incompleteZA2ODR/ljspeech-train.tfrecord*...: 100%"
          }
        },
        "c65394a7d20b4e47bb35b5783186c7ef": {
          "model_module": "@jupyter-widgets/controls",
          "model_module_version": "1.5.0",
          "model_name": "FloatProgressModel",
          "state": {
            "_dom_classes": [],
            "_model_module": "@jupyter-widgets/controls",
            "_model_module_version": "1.5.0",
            "_model_name": "FloatProgressModel",
            "_view_count": null,
            "_view_module": "@jupyter-widgets/controls",
            "_view_module_version": "1.5.0",
            "_view_name": "ProgressView",
            "bar_style": "success",
            "description": "",
            "description_tooltip": null,
            "layout": "IPY_MODEL_73292352fd2c4beca779bcc55bff72f7",
            "max": 1,
            "min": 0,
            "orientation": "horizontal",
            "style": "IPY_MODEL_df97fc2ab376466ba4875a39500fddf6",
            "value": 1
          }
        },
        "caaa03653f0f4a52a4fe6e850b9e5bb9": {
          "model_module": "@jupyter-widgets/base",
          "model_module_version": "1.2.0",
          "model_name": "LayoutModel",
          "state": {
            "_model_module": "@jupyter-widgets/base",
            "_model_module_version": "1.2.0",
            "_model_name": "LayoutModel",
            "_view_count": null,
            "_view_module": "@jupyter-widgets/base",
            "_view_module_version": "1.2.0",
            "_view_name": "LayoutView",
            "align_content": null,
            "align_items": null,
            "align_self": null,
            "border": null,
            "bottom": null,
            "display": null,
            "flex": null,
            "flex_flow": null,
            "grid_area": null,
            "grid_auto_columns": null,
            "grid_auto_flow": null,
            "grid_auto_rows": null,
            "grid_column": null,
            "grid_gap": null,
            "grid_row": null,
            "grid_template_areas": null,
            "grid_template_columns": null,
            "grid_template_rows": null,
            "height": null,
            "justify_content": null,
            "justify_items": null,
            "left": null,
            "margin": null,
            "max_height": null,
            "max_width": null,
            "min_height": null,
            "min_width": null,
            "object_fit": null,
            "object_position": null,
            "order": null,
            "overflow": null,
            "overflow_x": null,
            "overflow_y": null,
            "padding": null,
            "right": null,
            "top": null,
            "visibility": null,
            "width": null
          }
        },
        "cdee5088a62d403d97e6401220fb1f69": {
          "model_module": "@jupyter-widgets/controls",
          "model_module_version": "1.5.0",
          "model_name": "HBoxModel",
          "state": {
            "_dom_classes": [],
            "_model_module": "@jupyter-widgets/controls",
            "_model_module_version": "1.5.0",
            "_model_name": "HBoxModel",
            "_view_count": null,
            "_view_module": "@jupyter-widgets/controls",
            "_view_module_version": "1.5.0",
            "_view_name": "HBoxView",
            "box_style": "",
            "children": [
              "IPY_MODEL_e020f6cec92a47558de0b7460d5e7c7a",
              "IPY_MODEL_4173894121834091a46c09db90046d63",
              "IPY_MODEL_3d20140d20ad4cb0931e4bfc1fc0cc21"
            ],
            "layout": "IPY_MODEL_e4331ffeba8b48a39b4a0dae94818a25"
          }
        },
        "d562028e41d74f58aa4a58ce17d4187a": {
          "model_module": "@jupyter-widgets/controls",
          "model_module_version": "1.5.0",
          "model_name": "DescriptionStyleModel",
          "state": {
            "_model_module": "@jupyter-widgets/controls",
            "_model_module_version": "1.5.0",
            "_model_name": "DescriptionStyleModel",
            "_view_count": null,
            "_view_module": "@jupyter-widgets/base",
            "_view_module_version": "1.2.0",
            "_view_name": "StyleView",
            "description_width": ""
          }
        },
        "db009fbe12e847aa9b7a90b373624bbd": {
          "model_module": "@jupyter-widgets/base",
          "model_module_version": "1.2.0",
          "model_name": "LayoutModel",
          "state": {
            "_model_module": "@jupyter-widgets/base",
            "_model_module_version": "1.2.0",
            "_model_name": "LayoutModel",
            "_view_count": null,
            "_view_module": "@jupyter-widgets/base",
            "_view_module_version": "1.2.0",
            "_view_name": "LayoutView",
            "align_content": null,
            "align_items": null,
            "align_self": null,
            "border": null,
            "bottom": null,
            "display": null,
            "flex": null,
            "flex_flow": null,
            "grid_area": null,
            "grid_auto_columns": null,
            "grid_auto_flow": null,
            "grid_auto_rows": null,
            "grid_column": null,
            "grid_gap": null,
            "grid_row": null,
            "grid_template_areas": null,
            "grid_template_columns": null,
            "grid_template_rows": null,
            "height": null,
            "justify_content": null,
            "justify_items": null,
            "left": null,
            "margin": null,
            "max_height": null,
            "max_width": null,
            "min_height": null,
            "min_width": null,
            "object_fit": null,
            "object_position": null,
            "order": null,
            "overflow": null,
            "overflow_x": null,
            "overflow_y": null,
            "padding": null,
            "right": null,
            "top": null,
            "visibility": null,
            "width": null
          }
        },
        "dc93baf6aafd45f3b4ada329aa159ac6": {
          "model_module": "@jupyter-widgets/base",
          "model_module_version": "1.2.0",
          "model_name": "LayoutModel",
          "state": {
            "_model_module": "@jupyter-widgets/base",
            "_model_module_version": "1.2.0",
            "_model_name": "LayoutModel",
            "_view_count": null,
            "_view_module": "@jupyter-widgets/base",
            "_view_module_version": "1.2.0",
            "_view_name": "LayoutView",
            "align_content": null,
            "align_items": null,
            "align_self": null,
            "border": null,
            "bottom": null,
            "display": null,
            "flex": null,
            "flex_flow": null,
            "grid_area": null,
            "grid_auto_columns": null,
            "grid_auto_flow": null,
            "grid_auto_rows": null,
            "grid_column": null,
            "grid_gap": null,
            "grid_row": null,
            "grid_template_areas": null,
            "grid_template_columns": null,
            "grid_template_rows": null,
            "height": null,
            "justify_content": null,
            "justify_items": null,
            "left": null,
            "margin": null,
            "max_height": null,
            "max_width": null,
            "min_height": null,
            "min_width": null,
            "object_fit": null,
            "object_position": null,
            "order": null,
            "overflow": null,
            "overflow_x": null,
            "overflow_y": null,
            "padding": null,
            "right": null,
            "top": null,
            "visibility": null,
            "width": null
          }
        },
        "df97fc2ab376466ba4875a39500fddf6": {
          "model_module": "@jupyter-widgets/controls",
          "model_module_version": "1.5.0",
          "model_name": "ProgressStyleModel",
          "state": {
            "_model_module": "@jupyter-widgets/controls",
            "_model_module_version": "1.5.0",
            "_model_name": "ProgressStyleModel",
            "_view_count": null,
            "_view_module": "@jupyter-widgets/base",
            "_view_module_version": "1.2.0",
            "_view_name": "StyleView",
            "bar_color": null,
            "description_width": ""
          }
        },
        "e020f6cec92a47558de0b7460d5e7c7a": {
          "model_module": "@jupyter-widgets/controls",
          "model_module_version": "1.5.0",
          "model_name": "HTMLModel",
          "state": {
            "_dom_classes": [],
            "_model_module": "@jupyter-widgets/controls",
            "_model_module_version": "1.5.0",
            "_model_name": "HTMLModel",
            "_view_count": null,
            "_view_module": "@jupyter-widgets/controls",
            "_view_module_version": "1.5.0",
            "_view_name": "HTMLView",
            "description": "",
            "description_tooltip": null,
            "layout": "IPY_MODEL_2b981c2a6c854ed5b4fc7adf43018455",
            "placeholder": "​",
            "style": "IPY_MODEL_7306efd24c7543e4abcd611d8a721a3b",
            "value": "Generating train examples...: 100%"
          }
        },
        "e06a4128b6574affa9ddae121fe02ebf": {
          "model_module": "@jupyter-widgets/base",
          "model_module_version": "1.2.0",
          "model_name": "LayoutModel",
          "state": {
            "_model_module": "@jupyter-widgets/base",
            "_model_module_version": "1.2.0",
            "_model_name": "LayoutModel",
            "_view_count": null,
            "_view_module": "@jupyter-widgets/base",
            "_view_module_version": "1.2.0",
            "_view_name": "LayoutView",
            "align_content": null,
            "align_items": null,
            "align_self": null,
            "border": null,
            "bottom": null,
            "display": null,
            "flex": null,
            "flex_flow": null,
            "grid_area": null,
            "grid_auto_columns": null,
            "grid_auto_flow": null,
            "grid_auto_rows": null,
            "grid_column": null,
            "grid_gap": null,
            "grid_row": null,
            "grid_template_areas": null,
            "grid_template_columns": null,
            "grid_template_rows": null,
            "height": null,
            "justify_content": null,
            "justify_items": null,
            "left": null,
            "margin": null,
            "max_height": null,
            "max_width": null,
            "min_height": null,
            "min_width": null,
            "object_fit": null,
            "object_position": null,
            "order": null,
            "overflow": null,
            "overflow_x": null,
            "overflow_y": null,
            "padding": null,
            "right": null,
            "top": null,
            "visibility": null,
            "width": null
          }
        },
        "e4331ffeba8b48a39b4a0dae94818a25": {
          "model_module": "@jupyter-widgets/base",
          "model_module_version": "1.2.0",
          "model_name": "LayoutModel",
          "state": {
            "_model_module": "@jupyter-widgets/base",
            "_model_module_version": "1.2.0",
            "_model_name": "LayoutModel",
            "_view_count": null,
            "_view_module": "@jupyter-widgets/base",
            "_view_module_version": "1.2.0",
            "_view_name": "LayoutView",
            "align_content": null,
            "align_items": null,
            "align_self": null,
            "border": null,
            "bottom": null,
            "display": null,
            "flex": null,
            "flex_flow": null,
            "grid_area": null,
            "grid_auto_columns": null,
            "grid_auto_flow": null,
            "grid_auto_rows": null,
            "grid_column": null,
            "grid_gap": null,
            "grid_row": null,
            "grid_template_areas": null,
            "grid_template_columns": null,
            "grid_template_rows": null,
            "height": null,
            "justify_content": null,
            "justify_items": null,
            "left": null,
            "margin": null,
            "max_height": null,
            "max_width": null,
            "min_height": null,
            "min_width": null,
            "object_fit": null,
            "object_position": null,
            "order": null,
            "overflow": null,
            "overflow_x": null,
            "overflow_y": null,
            "padding": null,
            "right": null,
            "top": null,
            "visibility": "hidden",
            "width": null
          }
        },
        "e644f973dcd44a8da462871b0ab4ed19": {
          "model_module": "@jupyter-widgets/controls",
          "model_module_version": "1.5.0",
          "model_name": "DescriptionStyleModel",
          "state": {
            "_model_module": "@jupyter-widgets/controls",
            "_model_module_version": "1.5.0",
            "_model_name": "DescriptionStyleModel",
            "_view_count": null,
            "_view_module": "@jupyter-widgets/base",
            "_view_module_version": "1.2.0",
            "_view_name": "StyleView",
            "description_width": ""
          }
        },
        "efb2987cbeb84145bbe3851310fb579f": {
          "model_module": "@jupyter-widgets/controls",
          "model_module_version": "1.5.0",
          "model_name": "ProgressStyleModel",
          "state": {
            "_model_module": "@jupyter-widgets/controls",
            "_model_module_version": "1.5.0",
            "_model_name": "ProgressStyleModel",
            "_view_count": null,
            "_view_module": "@jupyter-widgets/base",
            "_view_module_version": "1.2.0",
            "_view_name": "StyleView",
            "bar_color": null,
            "description_width": ""
          }
        },
        "f49109aedc0d4c47be55d6a9b8ff46ec": {
          "model_module": "@jupyter-widgets/controls",
          "model_module_version": "1.5.0",
          "model_name": "DescriptionStyleModel",
          "state": {
            "_model_module": "@jupyter-widgets/controls",
            "_model_module_version": "1.5.0",
            "_model_name": "DescriptionStyleModel",
            "_view_count": null,
            "_view_module": "@jupyter-widgets/base",
            "_view_module_version": "1.2.0",
            "_view_name": "StyleView",
            "description_width": ""
          }
        },
        "f7d44d882aaf48a3acaa0843343cf115": {
          "model_module": "@jupyter-widgets/base",
          "model_module_version": "1.2.0",
          "model_name": "LayoutModel",
          "state": {
            "_model_module": "@jupyter-widgets/base",
            "_model_module_version": "1.2.0",
            "_model_name": "LayoutModel",
            "_view_count": null,
            "_view_module": "@jupyter-widgets/base",
            "_view_module_version": "1.2.0",
            "_view_name": "LayoutView",
            "align_content": null,
            "align_items": null,
            "align_self": null,
            "border": null,
            "bottom": null,
            "display": null,
            "flex": null,
            "flex_flow": null,
            "grid_area": null,
            "grid_auto_columns": null,
            "grid_auto_flow": null,
            "grid_auto_rows": null,
            "grid_column": null,
            "grid_gap": null,
            "grid_row": null,
            "grid_template_areas": null,
            "grid_template_columns": null,
            "grid_template_rows": null,
            "height": null,
            "justify_content": null,
            "justify_items": null,
            "left": null,
            "margin": null,
            "max_height": null,
            "max_width": null,
            "min_height": null,
            "min_width": null,
            "object_fit": null,
            "object_position": null,
            "order": null,
            "overflow": null,
            "overflow_x": null,
            "overflow_y": null,
            "padding": null,
            "right": null,
            "top": null,
            "visibility": null,
            "width": null
          }
        },
        "fb89d98b24814171a2c2de80654cbff7": {
          "model_module": "@jupyter-widgets/base",
          "model_module_version": "1.2.0",
          "model_name": "LayoutModel",
          "state": {
            "_model_module": "@jupyter-widgets/base",
            "_model_module_version": "1.2.0",
            "_model_name": "LayoutModel",
            "_view_count": null,
            "_view_module": "@jupyter-widgets/base",
            "_view_module_version": "1.2.0",
            "_view_name": "LayoutView",
            "align_content": null,
            "align_items": null,
            "align_self": null,
            "border": null,
            "bottom": null,
            "display": null,
            "flex": null,
            "flex_flow": null,
            "grid_area": null,
            "grid_auto_columns": null,
            "grid_auto_flow": null,
            "grid_auto_rows": null,
            "grid_column": null,
            "grid_gap": null,
            "grid_row": null,
            "grid_template_areas": null,
            "grid_template_columns": null,
            "grid_template_rows": null,
            "height": null,
            "justify_content": null,
            "justify_items": null,
            "left": null,
            "margin": null,
            "max_height": null,
            "max_width": null,
            "min_height": null,
            "min_width": null,
            "object_fit": null,
            "object_position": null,
            "order": null,
            "overflow": null,
            "overflow_x": null,
            "overflow_y": null,
            "padding": null,
            "right": null,
            "top": null,
            "visibility": null,
            "width": null
          }
        },
        "fd5891e646e748ab8e1bba3b772d0611": {
          "model_module": "@jupyter-widgets/controls",
          "model_module_version": "1.5.0",
          "model_name": "ProgressStyleModel",
          "state": {
            "_model_module": "@jupyter-widgets/controls",
            "_model_module_version": "1.5.0",
            "_model_name": "ProgressStyleModel",
            "_view_count": null,
            "_view_module": "@jupyter-widgets/base",
            "_view_module_version": "1.2.0",
            "_view_name": "StyleView",
            "bar_color": null,
            "description_width": ""
          }
        }
      }
    }
  },
  "nbformat": 4,
  "nbformat_minor": 0
}
